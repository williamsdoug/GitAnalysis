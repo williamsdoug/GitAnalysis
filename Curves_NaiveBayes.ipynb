{
 "metadata": {
  "name": "",
  "signature": "sha256:9b4845e623f6df9554ca96f2c50a0d6bc0670125f1cef72f0275f3541fc064e5"
 },
 "nbformat": 3,
 "nbformat_minor": 0,
 "worksheets": [
  {
   "cells": [
    {
     "cell_type": "code",
     "collapsed": false,
     "input": [
      "%matplotlib inline\n",
      "from pprint import pprint\n",
      "from collections import defaultdict\n",
      "\n",
      "import numpy as np\n",
      "import math\n",
      "import matplotlib.pyplot as plt\n",
      "import warnings\n",
      "\n",
      "#from sklearn.linear_model import LogisticRegression\n",
      "#from sklearn.svm import SVC\n",
      "from sklearn.naive_bayes import GaussianNB\n",
      "#from sklearn.linear_model import SGDClassifier\n",
      "\n",
      "from sklearn.grid_search import GridSearchCV\n",
      "from sklearn import metrics\n",
      "\n",
      "import sys\n",
      "sys.path.append('./dev')\n",
      "\n",
      "from ml_plot import plot_validation_curve\n",
      "from ml_plot import PredictCV, my_plot_learning_curve\n",
      "from ml_plot import plot_prediction_curve\n",
      "from ml_plot import get_dataset, eval_predictions"
     ],
     "language": "python",
     "metadata": {},
     "outputs": [],
     "prompt_number": 1
    },
    {
     "cell_type": "heading",
     "level": 1,
     "metadata": {},
     "source": [
      "Configuration"
     ]
    },
    {
     "cell_type": "code",
     "collapsed": false,
     "input": [
      "# PROJECT = 'nova'\n",
      "# PROJECT = 'swift'\n",
      "# PROJECT = 'cinder'\n",
      "PROJECT = 'heat'\n",
      "# PROJECT = 'glance'\n",
      "\n",
      "# IMPORTANCE = 'crit'\n",
      "# IMPORTANCE = 'high+'\n",
      "IMPORTANCE = 'med+'\n",
      "# IMPORTANCE = 'low+'\n",
      "\n",
      "# SIZE = 100\n",
      "#SIZE = 250\n",
      "# SIZE = 0.1\n",
      "SIZE = 0.5\n",
      "\n",
      "SCORING = 'f1'         # (precision * recall) / (precision + recall)\n",
      "# SCORING = 'accuracy'   # (TP + TN) / all values\n",
      "# SCORING = 'precision'  # TP / (TP + FP)\n",
      "# SCORING = 'recall'     # TP / (TP + FN)\n",
      "# SCORING = 'average_precision'\n",
      "# SCORING = 'roc_auc'\n",
      "\n",
      "JOBS = 4\n",
      "VERBOSE = 0\n",
      "\n",
      "warnings.filterwarnings('ignore', 'F-score is ill-defined')\n",
      "warnings.filterwarnings('ignore', 'overflow encountered in exp')"
     ],
     "language": "python",
     "metadata": {},
     "outputs": [],
     "prompt_number": 2
    },
    {
     "cell_type": "heading",
     "level": 1,
     "metadata": {},
     "source": [
      "Load Data"
     ]
    },
    {
     "cell_type": "code",
     "collapsed": false,
     "input": [
      "%%capture\n",
      "Y, X = get_dataset(PROJECT, IMPORTANCE)"
     ],
     "language": "python",
     "metadata": {},
     "outputs": [],
     "prompt_number": 3
    },
    {
     "cell_type": "heading",
     "level": 3,
     "metadata": {},
     "source": [
      "Select Split Strategy"
     ]
    },
    {
     "cell_type": "code",
     "collapsed": false,
     "input": [
      "cv = PredictCV(len(Y), history=1000, future=500, n_iter=100)"
     ],
     "language": "python",
     "metadata": {},
     "outputs": [],
     "prompt_number": 4
    },
    {
     "cell_type": "heading",
     "level": 1,
     "metadata": {},
     "source": [
      "Initial Parameter Settings"
     ]
    },
    {
     "cell_type": "code",
     "collapsed": false,
     "input": [
      "estimator = GaussianNB()"
     ],
     "language": "python",
     "metadata": {},
     "outputs": [],
     "prompt_number": 5
    },
    {
     "cell_type": "heading",
     "level": 1,
     "metadata": {},
     "source": [
      "Learning Curve"
     ]
    },
    {
     "cell_type": "code",
     "collapsed": false,
     "input": [
      "title = \"Learning Curves for Gaussian Naive Bayes\"\n",
      "my_plot_learning_curve(estimator, title, X, Y,\n",
      "                           n_jobs=JOBS, future=500,\n",
      "                           history_sizes=[100, 200, 300, 400, 500, 600, 700, 800, 900, 1000],\n",
      "                           n_iter=100)"
     ],
     "language": "python",
     "metadata": {},
     "outputs": [
      {
       "metadata": {},
       "output_type": "pyout",
       "prompt_number": 6,
       "text": [
        "<module 'matplotlib.pyplot' from '/Users/doug/anaconda/lib/python2.7/site-packages/matplotlib/pyplot.pyc'>"
       ]
      },
      {
       "metadata": {},
       "output_type": "display_data",
       "png": "[encoded data removed]",
       "text": [
        "<matplotlib.figure.Figure at 0x121064050>"
       ]
      }
     ],
     "prompt_number": 6
    },
    {
     "cell_type": "heading",
     "level": 1,
     "metadata": {},
     "source": [
      "Prediction Curve"
     ]
    },
    {
     "cell_type": "code",
     "collapsed": false,
     "input": [
      "title = \"Prediction Horizon Curve for Naive Bayes\"\n",
      "plot_prediction_curve(estimator, title, X, Y,\n",
      "                           n_jobs=JOBS, history=500,\n",
      "                           future_sizes=[100, 200, 300, 400, 500],\n",
      "                           n_iter=100)\n",
      "plt.show()"
     ],
     "language": "python",
     "metadata": {},
     "outputs": [
      {
       "metadata": {},
       "output_type": "display_data",
       "png": "[encoded data removed]",
       "text": [
        "<matplotlib.figure.Figure at 0x11f767450>"
       ]
      }
     ],
     "prompt_number": 6
    },
    {
     "cell_type": "code",
     "collapsed": false,
     "input": [
      "NB_results = eval_predictions(estimator, X, Y, history_sizes=[100, 200, 300, 400, 500, 1000],\n",
      "                              future_sizes=[100, 200, 300, 400, 500],\n",
      "                              n_iter=100)"
     ],
     "language": "python",
     "metadata": {},
     "outputs": [
      {
       "output_type": "stream",
       "stream": "stdout",
       "text": [
        "** Predictions for hist=100 future=100 **\n",
        "\n",
        "F1:        0.35  +/- 0.17\n",
        "Accuracy:  0.61  +/- 0.12\n",
        "Precision: 0.35  +/- 0.19\n",
        "Recall:    0.37  +/- 0.19\n",
        "\n",
        "Aggregate Confusion Matrix - 100 iterations\n",
        "[[4842 2078]\n",
        " [1774 1306]]\n",
        "\n",
        "\n",
        "** Predictions for hist=100 future=200 **"
       ]
      },
      {
       "output_type": "stream",
       "stream": "stdout",
       "text": [
        "\n",
        "\n",
        "F1:        0.38  +/- 0.11\n",
        "Accuracy:  0.60  +/- 0.10\n",
        "Precision: 0.36  +/- 0.11\n",
        "Recall:    0.43  +/- 0.15\n",
        "\n",
        "Aggregate Confusion Matrix - 100 iterations\n",
        "[[9140 4785]\n",
        " [3303 2772]]\n",
        "\n",
        "\n",
        "** Predictions for hist=100 future=300 **"
       ]
      },
      {
       "output_type": "stream",
       "stream": "stdout",
       "text": [
        "\n",
        "\n",
        "F1:        0.34  +/- 0.10\n",
        "Accuracy:  0.58  +/- 0.09\n",
        "Precision: 0.32  +/- 0.11\n",
        "Recall:    0.40  +/- 0.14\n",
        "\n",
        "Aggregate Confusion Matrix - 100 iterations\n",
        "[[13620  7612]\n",
        " [ 5116  3652]]\n",
        "\n",
        "\n",
        "** Predictions for hist=100 future=400 **"
       ]
      },
      {
       "output_type": "stream",
       "stream": "stdout",
       "text": [
        "\n",
        "\n",
        "F1:        0.34  +/- 0.09\n",
        "Accuracy:  0.56  +/- 0.08\n",
        "Precision: 0.31  +/- 0.10\n",
        "Recall:    0.41  +/- 0.13\n",
        "\n",
        "Aggregate Confusion Matrix - 100 iterations\n",
        "[[17662 10668]\n",
        " [ 6740  4930]]\n",
        "\n",
        "\n",
        "** Predictions for hist=100 future=500 **"
       ]
      },
      {
       "output_type": "stream",
       "stream": "stdout",
       "text": [
        "\n",
        "\n",
        "F1:        0.35  +/- 0.09\n",
        "Accuracy:  0.56  +/- 0.06\n",
        "Precision: 0.31  +/- 0.09\n",
        "Recall:    0.42  +/- 0.12\n",
        "\n",
        "Aggregate Confusion Matrix - 100 iterations\n",
        "[[21890 13633]\n",
        " [ 8214  6263]]\n",
        "\n",
        "\n",
        "** Predictions for hist=200 future=100 **"
       ]
      },
      {
       "output_type": "stream",
       "stream": "stdout",
       "text": [
        "\n",
        "\n",
        "F1:        0.40  +/- 0.13\n",
        "Accuracy:  0.57  +/- 0.11\n",
        "Precision: 0.33  +/- 0.13\n",
        "Recall:    0.55  +/- 0.17\n",
        "\n",
        "Aggregate Confusion Matrix - 100 iterations\n",
        "[[3990 3123]\n",
        " [1215 1672]]\n",
        "\n",
        "\n",
        "** Predictions for hist=200 future=200 **"
       ]
      },
      {
       "output_type": "stream",
       "stream": "stdout",
       "text": [
        "\n",
        "\n",
        "F1:        0.37  +/- 0.09\n",
        "Accuracy:  0.56  +/- 0.10\n",
        "Precision: 0.31  +/- 0.11\n",
        "Recall:    0.51  +/- 0.13\n",
        "\n",
        "Aggregate Confusion Matrix - 100 iterations\n",
        "[[8391 6216]\n",
        " [2591 2802]]\n",
        "\n",
        "\n",
        "** Predictions for hist=200 future=300 **"
       ]
      },
      {
       "output_type": "stream",
       "stream": "stdout",
       "text": [
        "\n",
        "\n",
        "F1:        0.38  +/- 0.07\n",
        "Accuracy:  0.52  +/- 0.07\n",
        "Precision: 0.31  +/- 0.09\n",
        "Recall:    0.55  +/- 0.14\n",
        "\n",
        "Aggregate Confusion Matrix - 100 iterations\n",
        "[[10717 10601]\n",
        " [ 3942  4740]]\n",
        "\n",
        "\n",
        "** Predictions for hist=200 future=400 **"
       ]
      },
      {
       "output_type": "stream",
       "stream": "stdout",
       "text": [
        "\n",
        "\n",
        "F1:        0.38  +/- 0.07\n",
        "Accuracy:  0.52  +/- 0.07\n",
        "Precision: 0.31  +/- 0.10\n",
        "Recall:    0.54  +/- 0.12\n",
        "\n",
        "Aggregate Confusion Matrix - 100 iterations\n",
        "[[14844 13715]\n",
        " [ 5336  6105]]\n",
        "\n",
        "\n",
        "** Predictions for hist=200 future=500 **"
       ]
      },
      {
       "output_type": "stream",
       "stream": "stdout",
       "text": [
        "\n",
        "\n",
        "F1:        0.38  +/- 0.07\n",
        "Accuracy:  0.52  +/- 0.06\n",
        "Precision: 0.32  +/- 0.10\n",
        "Recall:    0.54  +/- 0.12\n",
        "\n",
        "Aggregate Confusion Matrix - 100 iterations\n",
        "[[18158 17321]\n",
        " [ 6805  7716]]\n",
        "\n",
        "\n",
        "** Predictions for hist=300 future=100 **"
       ]
      },
      {
       "output_type": "stream",
       "stream": "stdout",
       "text": [
        "\n",
        "\n",
        "F1:        0.39  +/- 0.12\n",
        "Accuracy:  0.57  +/- 0.11\n",
        "Precision: 0.32  +/- 0.12\n",
        "Recall:    0.56  +/- 0.19\n",
        "\n",
        "Aggregate Confusion Matrix - 100 iterations\n",
        "[[4147 3168]\n",
        " [1157 1528]]\n",
        "\n",
        "\n",
        "** Predictions for hist=300 future=200 **"
       ]
      },
      {
       "output_type": "stream",
       "stream": "stdout",
       "text": [
        "\n",
        "\n",
        "F1:        0.39  +/- 0.09\n",
        "Accuracy:  0.55  +/- 0.09\n",
        "Precision: 0.34  +/- 0.13\n",
        "Recall:    0.54  +/- 0.15\n",
        "\n",
        "Aggregate Confusion Matrix - 100 iterations\n",
        "[[7943 6286]\n",
        " [2707 3064]]\n",
        "\n",
        "\n",
        "** Predictions for hist=300 future=300 **"
       ]
      },
      {
       "output_type": "stream",
       "stream": "stdout",
       "text": [
        "\n",
        "\n",
        "F1:        0.39  +/- 0.09\n",
        "Accuracy:  0.51  +/- 0.07\n",
        "Precision: 0.31  +/- 0.11\n",
        "Recall:    0.59  +/- 0.14\n",
        "\n",
        "Aggregate Confusion Matrix - 100 iterations\n",
        "[[10140 11384]\n",
        " [ 3444  5032]]\n",
        "\n",
        "\n",
        "** Predictions for hist=300 future=400 **"
       ]
      },
      {
       "output_type": "stream",
       "stream": "stdout",
       "text": [
        "\n",
        "\n",
        "F1:        0.38  +/- 0.08\n",
        "Accuracy:  0.50  +/- 0.06\n",
        "Precision: 0.31  +/- 0.10\n",
        "Recall:    0.57  +/- 0.14\n",
        "\n",
        "Aggregate Confusion Matrix - 100 iterations\n",
        "[[13913 14885]\n",
        " [ 4927  6275]]\n",
        "\n",
        "\n",
        "** Predictions for hist=300 future=500 **"
       ]
      },
      {
       "output_type": "stream",
       "stream": "stdout",
       "text": [
        "\n",
        "\n",
        "F1:        0.39  +/- 0.09\n",
        "Accuracy:  0.49  +/- 0.07\n",
        "Precision: 0.32  +/- 0.11\n",
        "Recall:    0.61  +/- 0.14\n",
        "\n",
        "Aggregate Confusion Matrix - 100 iterations\n",
        "[[15659 19889]\n",
        " [ 5696  8756]]\n",
        "\n",
        "\n",
        "** Predictions for hist=400 future=100 **"
       ]
      },
      {
       "output_type": "stream",
       "stream": "stdout",
       "text": [
        "\n",
        "\n",
        "F1:        0.42  +/- 0.12\n",
        "Accuracy:  0.53  +/- 0.10\n",
        "Precision: 0.34  +/- 0.14\n",
        "Recall:    0.62  +/- 0.18\n",
        "\n",
        "Aggregate Confusion Matrix - 100 iterations\n",
        "[[3474 3625]\n",
        " [1085 1816]]\n",
        "\n",
        "\n",
        "** Predictions for hist=400 future=200 **"
       ]
      },
      {
       "output_type": "stream",
       "stream": "stdout",
       "text": [
        "\n",
        "\n",
        "F1:        0.40  +/- 0.11\n",
        "Accuracy:  0.51  +/- 0.09\n",
        "Precision: 0.33  +/- 0.13\n",
        "Recall:    0.61  +/- 0.17\n",
        "\n",
        "Aggregate Confusion Matrix - 100 iterations\n",
        "[[6559 7525]\n",
        " [2332 3584]]\n",
        "\n",
        "\n",
        "** Predictions for hist=400 future=300 **"
       ]
      },
      {
       "output_type": "stream",
       "stream": "stdout",
       "text": [
        "\n",
        "\n",
        "F1:        0.38  +/- 0.09\n",
        "Accuracy:  0.48  +/- 0.07\n",
        "Precision: 0.30  +/- 0.12\n",
        "Recall:    0.62  +/- 0.14\n",
        "\n",
        "Aggregate Confusion Matrix - 100 iterations\n",
        "[[ 9524 12228]\n",
        " [ 3226  5022]]\n",
        "\n",
        "\n",
        "** Predictions for hist=400 future=400 **"
       ]
      },
      {
       "output_type": "stream",
       "stream": "stdout",
       "text": [
        "\n",
        "\n",
        "F1:        0.40  +/- 0.08\n",
        "Accuracy:  0.49  +/- 0.08\n",
        "Precision: 0.32  +/- 0.12\n",
        "Recall:    0.62  +/- 0.16\n",
        "\n",
        "Aggregate Confusion Matrix - 100 iterations\n",
        "[[12432 15939]\n",
        " [ 4623  7006]]\n",
        "\n",
        "\n",
        "** Predictions for hist=400 future=500 **"
       ]
      },
      {
       "output_type": "stream",
       "stream": "stdout",
       "text": [
        "\n",
        "\n",
        "F1:        0.39  +/- 0.07\n",
        "Accuracy:  0.48  +/- 0.08\n",
        "Precision: 0.32  +/- 0.10\n",
        "Recall:    0.61  +/- 0.16\n",
        "\n",
        "Aggregate Confusion Matrix - 100 iterations\n",
        "[[15598 20111]\n",
        " [ 5769  8522]]\n",
        "\n",
        "\n",
        "** Predictions for hist=500 future=100 **"
       ]
      },
      {
       "output_type": "stream",
       "stream": "stdout",
       "text": [
        "\n",
        "\n",
        "F1:        0.39  +/- 0.14\n",
        "Accuracy:  0.52  +/- 0.10\n",
        "Precision: 0.31  +/- 0.15\n",
        "Recall:    0.61  +/- 0.19\n",
        "\n",
        "Aggregate Confusion Matrix - 100 iterations\n",
        "[[3382 3800]\n",
        " [1039 1779]]\n",
        "\n",
        "\n",
        "** Predictions for hist=500 future=200 **"
       ]
      },
      {
       "output_type": "stream",
       "stream": "stdout",
       "text": [
        "\n",
        "\n",
        "F1:        0.39  +/- 0.11\n",
        "Accuracy:  0.48  +/- 0.08\n",
        "Precision: 0.30  +/- 0.13\n",
        "Recall:    0.64  +/- 0.13\n",
        "\n",
        "Aggregate Confusion Matrix - 100 iterations\n",
        "[[5951 8520]\n",
        " [1942 3587]]\n",
        "\n",
        "\n",
        "** Predictions for hist=500 future=300 **"
       ]
      },
      {
       "output_type": "stream",
       "stream": "stdout",
       "text": [
        "\n",
        "\n",
        "F1:        0.36  +/- 0.09\n",
        "Accuracy:  0.48  +/- 0.08\n",
        "Precision: 0.28  +/- 0.12\n",
        "Recall:    0.61  +/- 0.13\n",
        "\n",
        "Aggregate Confusion Matrix - 100 iterations\n",
        "[[ 9723 12649]\n",
        " [ 3001  4627]]\n",
        "\n",
        "\n",
        "** Predictions for hist=500 future=400 **"
       ]
      },
      {
       "output_type": "stream",
       "stream": "stdout",
       "text": [
        "\n",
        "\n",
        "F1:        0.37  +/- 0.08\n",
        "Accuracy:  0.46  +/- 0.07\n",
        "Precision: 0.28  +/- 0.10\n",
        "Recall:    0.64  +/- 0.13\n",
        "\n",
        "Aggregate Confusion Matrix - 100 iterations\n",
        "[[11853 17704]\n",
        " [ 3875  6568]]\n",
        "\n",
        "\n",
        "** Predictions for hist=500 future=500 **"
       ]
      },
      {
       "output_type": "stream",
       "stream": "stdout",
       "text": [
        "\n",
        "\n",
        "F1:        0.38  +/- 0.08\n",
        "Accuracy:  0.48  +/- 0.09\n",
        "Precision: 0.30  +/- 0.10\n",
        "Recall:    0.62  +/- 0.13\n",
        "\n",
        "Aggregate Confusion Matrix - 100 iterations\n",
        "[[15548 20818]\n",
        " [ 5381  8253]]\n",
        "\n",
        "\n",
        "** Predictions for hist=1000 future=100 **"
       ]
      },
      {
       "output_type": "stream",
       "stream": "stdout",
       "text": [
        "\n",
        "\n",
        "F1:        0.37  +/- 0.10\n",
        "Accuracy:  0.44  +/- 0.07\n",
        "Precision: 0.25  +/- 0.08\n",
        "Recall:    0.72  +/- 0.12\n",
        "\n",
        "Aggregate Confusion Matrix - 100 iterations\n",
        "[[2718 4952]\n",
        " [ 617 1713]]\n",
        "\n",
        "\n",
        "** Predictions for hist=1000 future=200 **"
       ]
      },
      {
       "output_type": "stream",
       "stream": "stdout",
       "text": [
        "\n",
        "\n",
        "F1:        0.33  +/- 0.09\n",
        "Accuracy:  0.43  +/- 0.07\n",
        "Precision: 0.22  +/- 0.07\n",
        "Recall:    0.67  +/- 0.10\n",
        "\n",
        "Aggregate Confusion Matrix - 100 iterations\n",
        "[[ 5671 10033]\n",
        " [ 1342  2954]]\n",
        "\n",
        "\n",
        "** Predictions for hist=1000 future=300 **"
       ]
      },
      {
       "output_type": "stream",
       "stream": "stdout",
       "text": [
        "\n",
        "\n",
        "F1:        0.34  +/- 0.07\n",
        "Accuracy:  0.41  +/- 0.06\n",
        "Precision: 0.23  +/- 0.05\n",
        "Recall:    0.70  +/- 0.07\n",
        "\n",
        "Aggregate Confusion Matrix - 100 iterations\n",
        "[[ 7414 15894]\n",
        " [ 1953  4739]]\n",
        "\n",
        "\n",
        "** Predictions for hist=1000 future=400 **"
       ]
      },
      {
       "output_type": "stream",
       "stream": "stdout",
       "text": [
        "\n",
        "\n",
        "F1:        0.34  +/- 0.07\n",
        "Accuracy:  0.38  +/- 0.05\n",
        "Precision: 0.22  +/- 0.05\n",
        "Recall:    0.74  +/- 0.06\n",
        "\n",
        "Aggregate Confusion Matrix - 100 iterations\n",
        "[[ 8883 22345]\n",
        " [ 2278  6494]]\n",
        "\n",
        "\n",
        "** Predictions for hist=1000 future=500 **"
       ]
      },
      {
       "output_type": "stream",
       "stream": "stdout",
       "text": [
        "\n",
        "\n",
        "F1:        0.34  +/- 0.06\n",
        "Accuracy:  0.37  +/- 0.04\n",
        "Precision: 0.22  +/- 0.05\n",
        "Recall:    0.74  +/- 0.06\n",
        "\n",
        "Aggregate Confusion Matrix - 100 iterations\n",
        "[[10382 28553]\n",
        " [ 2845  8220]]\n",
        "\n",
        "\n"
       ]
      },
      {
       "output_type": "stream",
       "stream": "stderr",
       "text": [
        "/Users/doug/anaconda/lib/python2.7/site-packages/sklearn/metrics/metrics.py:1771: UndefinedMetricWarning: Precision is ill-defined and being set to 0.0 due to no predicted samples.\n",
        "  'precision', 'predicted', average, warn_for)\n"
       ]
      }
     ],
     "prompt_number": 7
    },
    {
     "cell_type": "code",
     "collapsed": false,
     "input": [],
     "language": "python",
     "metadata": {},
     "outputs": [],
     "prompt_number": 9
    }
   ],
   "metadata": {}
  }
 ]
}