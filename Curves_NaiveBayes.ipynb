{
 "metadata": {
  "name": "",
  "signature": "sha256:6401a3bc26a23e3aaa16e118eee87d03cca8ecdb5b01bae50af70459ce8c6e09"
 },
 "nbformat": 3,
 "nbformat_minor": 0,
 "worksheets": [
  {
   "cells": [
    {
     "cell_type": "code",
     "collapsed": false,
     "input": [
      "%matplotlib inline\n",
      "from pprint import pprint\n",
      "from collections import defaultdict\n",
      "\n",
      "import numpy as np\n",
      "import math\n",
      "import matplotlib.pyplot as plt\n",
      "import warnings\n",
      "\n",
      "#from sklearn.linear_model import LogisticRegression\n",
      "#from sklearn.svm import SVC\n",
      "from sklearn.naive_bayes import GaussianNB\n",
      "#from sklearn.linear_model import SGDClassifier\n",
      "\n",
      "from sklearn.grid_search import GridSearchCV\n",
      "from sklearn import metrics\n",
      "\n",
      "import sys\n",
      "sys.path.append('./dev')\n",
      "\n",
      "from ml_plot import plot_validation_curve\n",
      "from ml_plot import PredictCV, my_plot_learning_curve\n",
      "from ml_plot import plot_prediction_curve\n",
      "from ml_plot import get_dataset, eval_predictions"
     ],
     "language": "python",
     "metadata": {},
     "outputs": [],
     "prompt_number": 1
    },
    {
     "cell_type": "heading",
     "level": 1,
     "metadata": {},
     "source": [
      "Configuration"
     ]
    },
    {
     "cell_type": "code",
     "collapsed": false,
     "input": [
      "# PROJECT = 'nova'\n",
      "# PROJECT = 'swift'\n",
      "# PROJECT = 'cinder'\n",
      "PROJECT = 'heat'\n",
      "# PROJECT = 'glance'\n",
      "\n",
      "# IMPORTANCE = 'crit'\n",
      "# IMPORTANCE = 'high+'\n",
      "IMPORTANCE = 'med+'\n",
      "# IMPORTANCE = 'low+'\n",
      "\n",
      "# SIZE = 100\n",
      "#SIZE = 250\n",
      "# SIZE = 0.1\n",
      "SIZE = 0.5\n",
      "\n",
      "SCORING = 'f1'         # (precision * recall) / (precision + recall)\n",
      "# SCORING = 'accuracy'   # (TP + TN) / all values\n",
      "# SCORING = 'precision'  # TP / (TP + FP)\n",
      "# SCORING = 'recall'     # TP / (TP + FN)\n",
      "# SCORING = 'average_precision'\n",
      "# SCORING = 'roc_auc'\n",
      "\n",
      "JOBS = 4\n",
      "VERBOSE = 0\n",
      "\n",
      "warnings.filterwarnings('ignore', 'F-score is ill-defined')\n",
      "warnings.filterwarnings('ignore', 'overflow encountered in exp')"
     ],
     "language": "python",
     "metadata": {},
     "outputs": [],
     "prompt_number": 2
    },
    {
     "cell_type": "heading",
     "level": 1,
     "metadata": {},
     "source": [
      "Load Data"
     ]
    },
    {
     "cell_type": "code",
     "collapsed": false,
     "input": [
      "%%capture\n",
      "Y, X = get_dataset(PROJECT, IMPORTANCE)"
     ],
     "language": "python",
     "metadata": {},
     "outputs": [],
     "prompt_number": 3
    },
    {
     "cell_type": "heading",
     "level": 3,
     "metadata": {},
     "source": [
      "Select Split Strategy"
     ]
    },
    {
     "cell_type": "code",
     "collapsed": false,
     "input": [
      "cv = PredictCV(len(Y), history=1000, future=500, n_iter=10)"
     ],
     "language": "python",
     "metadata": {},
     "outputs": [],
     "prompt_number": 4
    },
    {
     "cell_type": "heading",
     "level": 1,
     "metadata": {},
     "source": [
      "Initial Parameter Settings"
     ]
    },
    {
     "cell_type": "code",
     "collapsed": false,
     "input": [
      "estimator = GaussianNB()"
     ],
     "language": "python",
     "metadata": {},
     "outputs": [],
     "prompt_number": 5
    },
    {
     "cell_type": "heading",
     "level": 1,
     "metadata": {},
     "source": [
      "Learning Curve"
     ]
    },
    {
     "cell_type": "code",
     "collapsed": false,
     "input": [
      "title = \"Learning Curves for Gaussian Naive Bayes\"\n",
      "my_plot_learning_curve(estimator, title, X, Y,\n",
      "                           n_jobs=JOBS, future=500,\n",
      "                           history_sizes=[100, 200, 300, 400, 500, 600, 700, 800, 900, 1000])"
     ],
     "language": "python",
     "metadata": {},
     "outputs": [
      {
       "metadata": {},
       "output_type": "pyout",
       "prompt_number": 6,
       "text": [
        "<module 'matplotlib.pyplot' from '/Users/doug/anaconda/lib/python2.7/site-packages/matplotlib/pyplot.pyc'>"
       ]
      },
      {
       "metadata": {},
       "output_type": "display_data",
       "png": "[encoded data removed]",
       "text": [
        "<matplotlib.figure.Figure at 0x11f667790>"
       ]
      }
     ],
     "prompt_number": 6
    },
    {
     "cell_type": "heading",
     "level": 1,
     "metadata": {},
     "source": [
      "Prediction Curve"
     ]
    },
    {
     "cell_type": "code",
     "collapsed": false,
     "input": [
      "title = \"Prediction Horizon Curve for Naive Bayes\"\n",
      "plot_prediction_curve(estimator, title, X, Y,\n",
      "                           n_jobs=JOBS, history=400,\n",
      "                           future_sizes=[100, 200, 300, 400, 500])\n",
      "plt.show()"
     ],
     "language": "python",
     "metadata": {},
     "outputs": [
      {
       "metadata": {},
       "output_type": "display_data",
       "png": "[encoded data removed]",
       "text": [
        "<matplotlib.figure.Figure at 0x1253202d0>"
       ]
      }
     ],
     "prompt_number": 7
    },
    {
     "cell_type": "code",
     "collapsed": false,
     "input": [
      "NB_results = eval_predictions(estimator, X, Y, history_sizes=[100, 200, 300, 400, 500, 1000], future_sizes=[100, 200, 300, 400])"
     ],
     "language": "python",
     "metadata": {},
     "outputs": [
      {
       "output_type": "stream",
       "stream": "stdout",
       "text": [
        "** Predictions for hist=100 future=100 **\n",
        "\n",
        "F1:        0.34  +/- 0.14\n",
        "Accuracy:  0.61  +/- 0.09\n",
        "Precision: 0.35  +/- 0.15\n",
        "Recall:    0.35  +/- 0.15\n",
        "\n",
        "Aggregate Confusion Matrix - 10 iterations\n",
        "[[490 202]\n",
        " [190 118]]\n",
        "\n",
        "\n",
        "** Predictions for hist=100 future=200 **"
       ]
      },
      {
       "output_type": "stream",
       "stream": "stdout",
       "text": [
        "\n",
        "\n",
        "F1:        0.33  +/- 0.13\n",
        "Accuracy:  0.60  +/- 0.12\n",
        "Precision: 0.29  +/- 0.15\n",
        "Recall:    0.43  +/- 0.18\n",
        "\n",
        "Aggregate Confusion Matrix - 10 iterations\n",
        "[[985 519]\n",
        " [271 225]]\n",
        "\n",
        "\n",
        "** Predictions for hist=100 future=300 **"
       ]
      },
      {
       "output_type": "stream",
       "stream": "stdout",
       "text": [
        "\n",
        "\n",
        "F1:        0.39  +/- 0.08\n",
        "Accuracy:  0.58  +/- 0.08\n",
        "Precision: 0.37  +/- 0.11\n",
        "Recall:    0.43  +/- 0.10\n",
        "\n",
        "Aggregate Confusion Matrix - 10 iterations\n",
        "[[1305  727]\n",
        " [ 538  430]]\n",
        "\n",
        "\n",
        "** Predictions for hist=100 future=400 **"
       ]
      },
      {
       "output_type": "stream",
       "stream": "stdout",
       "text": [
        "\n",
        "\n",
        "F1:        0.36  +/- 0.11\n",
        "Accuracy:  0.54  +/- 0.09\n",
        "Precision: 0.30  +/- 0.09\n",
        "Recall:    0.48  +/- 0.17\n",
        "\n",
        "Aggregate Confusion Matrix - 10 iterations\n",
        "[[1593 1240]\n",
        " [ 602  565]]\n",
        "\n",
        "\n",
        "** Predictions for hist=200 future=100 **"
       ]
      },
      {
       "output_type": "stream",
       "stream": "stdout",
       "text": [
        "\n",
        "\n",
        "F1:        0.37  +/- 0.09\n",
        "Accuracy:  0.58  +/- 0.07\n",
        "Precision: 0.30  +/- 0.07\n",
        "Recall:    0.51  +/- 0.13\n",
        "\n",
        "Aggregate Confusion Matrix - 10 iterations\n",
        "[[448 297]\n",
        " [125 130]]\n",
        "\n",
        "\n",
        "** Predictions for hist=200 future=200 **"
       ]
      },
      {
       "output_type": "stream",
       "stream": "stdout",
       "text": [
        "\n",
        "\n",
        "F1:        0.37  +/- 0.10\n",
        "Accuracy:  0.57  +/- 0.09\n",
        "Precision: 0.30  +/- 0.11\n",
        "Recall:    0.53  +/- 0.13\n",
        "\n",
        "Aggregate Confusion Matrix - 10 iterations\n",
        "[[862 637]\n",
        " [222 279]]\n",
        "\n",
        "\n",
        "** Predictions for hist=200 future=300 **"
       ]
      },
      {
       "output_type": "stream",
       "stream": "stdout",
       "text": [
        "\n",
        "\n",
        "F1:        0.39  +/- 0.10\n",
        "Accuracy:  0.54  +/- 0.09\n",
        "Precision: 0.31  +/- 0.11\n",
        "Recall:    0.55  +/- 0.15\n",
        "\n",
        "Aggregate Confusion Matrix - 10 iterations\n",
        "[[1128 1035]\n",
        " [ 352  485]]\n",
        "\n",
        "\n",
        "** Predictions for hist=200 future=400 **"
       ]
      },
      {
       "output_type": "stream",
       "stream": "stdout",
       "text": [
        "\n",
        "\n",
        "F1:        0.39  +/- 0.07\n",
        "Accuracy:  0.55  +/- 0.05\n",
        "Precision: 0.32  +/- 0.09\n",
        "Recall:    0.52  +/- 0.07\n",
        "\n",
        "Aggregate Confusion Matrix - 10 iterations\n",
        "[[1620 1256]\n",
        " [ 543  581]]\n",
        "\n",
        "\n",
        "** Predictions for hist=300 future=100 **"
       ]
      },
      {
       "output_type": "stream",
       "stream": "stdout",
       "text": [
        "\n",
        "\n",
        "F1:        0.36  +/- 0.14\n",
        "Accuracy:  0.61  +/- 0.10\n",
        "Precision: 0.29  +/- 0.13\n",
        "Recall:    0.55  +/- 0.16\n",
        "\n",
        "Aggregate Confusion Matrix - 10 iterations\n",
        "[[481 301]\n",
        " [ 92 126]]\n",
        "\n",
        "\n",
        "** Predictions for hist=300 future=200 **"
       ]
      },
      {
       "output_type": "stream",
       "stream": "stdout",
       "text": [
        "\n",
        "\n",
        "F1:        0.43  +/- 0.08\n",
        "Accuracy:  0.55  +/- 0.10\n",
        "Precision: 0.36  +/- 0.11\n",
        "Recall:    0.58  +/- 0.15\n",
        "\n",
        "Aggregate Confusion Matrix - 10 iterations\n",
        "[[756 643]\n",
        " [253 348]]\n",
        "\n",
        "\n",
        "** Predictions for hist=300 future=300 **"
       ]
      },
      {
       "output_type": "stream",
       "stream": "stdout",
       "text": [
        "\n",
        "\n",
        "F1:        0.35  +/- 0.08\n",
        "Accuracy:  0.50  +/- 0.05\n",
        "Precision: 0.29  +/- 0.11\n",
        "Recall:    0.55  +/- 0.15\n",
        "\n",
        "Aggregate Confusion Matrix - 10 iterations\n",
        "[[1084 1115]\n",
        " [ 374  427]]\n",
        "\n",
        "\n",
        "** Predictions for hist=300 future=400 **"
       ]
      },
      {
       "output_type": "stream",
       "stream": "stdout",
       "text": [
        "\n",
        "\n",
        "F1:        0.39  +/- 0.06\n",
        "Accuracy:  0.48  +/- 0.06\n",
        "Precision: 0.32  +/- 0.08\n",
        "Recall:    0.61  +/- 0.16\n",
        "\n",
        "Aggregate Confusion Matrix - 10 iterations\n",
        "[[1241 1593]\n",
        " [ 475  691]]\n",
        "\n",
        "\n",
        "** Predictions for hist=400 future=100 **"
       ]
      },
      {
       "output_type": "stream",
       "stream": "stdout",
       "text": [
        "\n",
        "\n",
        "F1:        0.32  +/- 0.13\n",
        "Accuracy:  0.57  +/- 0.13\n",
        "Precision: 0.27  +/- 0.16\n",
        "Recall:    0.47  +/- 0.20\n",
        "\n",
        "Aggregate Confusion Matrix - 10 iterations\n",
        "[[458 309]\n",
        " [117 116]]\n",
        "\n",
        "\n",
        "** Predictions for hist=400 future=200 **"
       ]
      },
      {
       "output_type": "stream",
       "stream": "stdout",
       "text": [
        "\n",
        "\n",
        "F1:        0.38  +/- 0.06\n",
        "Accuracy:  0.47  +/- 0.06\n",
        "Precision: 0.33  +/- 0.07\n",
        "Recall:    0.59  +/- 0.24\n",
        "\n",
        "Aggregate Confusion Matrix - 10 iterations\n",
        "[[589 782]\n",
        " [282 347]]\n",
        "\n",
        "\n",
        "** Predictions for hist=400 future=300 **"
       ]
      },
      {
       "output_type": "stream",
       "stream": "stdout",
       "text": [
        "\n",
        "\n",
        "F1:        0.37  +/- 0.09\n",
        "Accuracy:  0.55  +/- 0.08\n",
        "Precision: 0.32  +/- 0.13\n",
        "Recall:    0.55  +/- 0.15\n",
        "\n",
        "Aggregate Confusion Matrix - 10 iterations\n",
        "[[1226  990]\n",
        " [ 355  429]]\n",
        "\n",
        "\n",
        "** Predictions for hist=400 future=400 **"
       ]
      },
      {
       "output_type": "stream",
       "stream": "stdout",
       "text": [
        "\n",
        "\n",
        "F1:        0.37  +/- 0.07\n",
        "Accuracy:  0.45  +/- 0.05\n",
        "Precision: 0.28  +/- 0.10\n",
        "Recall:    0.65  +/- 0.12\n",
        "\n",
        "Aggregate Confusion Matrix - 10 iterations\n",
        "[[1167 1801]\n",
        " [ 379  653]]\n",
        "\n",
        "\n",
        "** Predictions for hist=500 future=100 **"
       ]
      },
      {
       "output_type": "stream",
       "stream": "stdout",
       "text": [
        "\n",
        "\n",
        "F1:        0.48  +/- 0.07\n",
        "Accuracy:  0.50  +/- 0.06\n",
        "Precision: 0.39  +/- 0.09\n",
        "Recall:    0.67  +/- 0.17\n",
        "\n",
        "Aggregate Confusion Matrix - 10 iterations\n",
        "[[273 379]\n",
        " [118 230]]\n",
        "\n",
        "\n",
        "** Predictions for hist=500 future=200 **"
       ]
      },
      {
       "output_type": "stream",
       "stream": "stdout",
       "text": [
        "\n",
        "\n",
        "F1:        0.44  +/- 0.09\n",
        "Accuracy:  0.51  +/- 0.05\n",
        "Precision: 0.36  +/- 0.10\n",
        "Recall:    0.61  +/- 0.17\n",
        "\n",
        "Aggregate Confusion Matrix - 10 iterations\n",
        "[[595 725]\n",
        " [262 418]]\n",
        "\n",
        "\n",
        "** Predictions for hist=500 future=300 **"
       ]
      },
      {
       "output_type": "stream",
       "stream": "stdout",
       "text": [
        "\n",
        "\n",
        "F1:        0.39  +/- 0.09\n",
        "Accuracy:  0.45  +/- 0.06\n",
        "Precision: 0.29  +/- 0.09\n",
        "Recall:    0.69  +/- 0.16\n",
        "\n",
        "Aggregate Confusion Matrix - 10 iterations\n",
        "[[ 804 1379]\n",
        " [ 262  555]]\n",
        "\n",
        "\n",
        "** Predictions for hist=500 future=400 **"
       ]
      },
      {
       "output_type": "stream",
       "stream": "stdout",
       "text": [
        "\n",
        "\n",
        "F1:        0.40  +/- 0.06\n",
        "Accuracy:  0.49  +/- 0.09\n",
        "Precision: 0.33  +/- 0.10\n",
        "Recall:    0.60  +/- 0.15\n",
        "\n",
        "Aggregate Confusion Matrix - 10 iterations\n",
        "[[1272 1549]\n",
        " [ 492  687]]\n",
        "\n",
        "\n",
        "** Predictions for hist=1000 future=100 **"
       ]
      },
      {
       "output_type": "stream",
       "stream": "stdout",
       "text": [
        "\n",
        "\n",
        "F1:        0.32  +/- 0.10\n",
        "Accuracy:  0.49  +/- 0.10\n",
        "Precision: 0.21  +/- 0.09\n",
        "Recall:    0.64  +/- 0.13\n",
        "\n",
        "Aggregate Confusion Matrix - 10 iterations\n",
        "[[363 441]\n",
        " [ 66 130]]\n",
        "\n",
        "\n",
        "** Predictions for hist=1000 future=200 **"
       ]
      },
      {
       "output_type": "stream",
       "stream": "stdout",
       "text": [
        "\n",
        "\n",
        "F1:        0.34  +/- 0.09\n",
        "Accuracy:  0.42  +/- 0.06\n",
        "Precision: 0.23  +/- 0.08\n",
        "Recall:    0.71  +/- 0.09\n",
        "\n",
        "Aggregate Confusion Matrix - 10 iterations\n",
        "[[ 531 1034]\n",
        " [ 120  315]]\n",
        "\n",
        "\n",
        "** Predictions for hist=1000 future=300 **"
       ]
      },
      {
       "output_type": "stream",
       "stream": "stdout",
       "text": [
        "\n",
        "\n",
        "F1:        0.34  +/- 0.05\n",
        "Accuracy:  0.38  +/- 0.05\n",
        "Precision: 0.23  +/- 0.05\n",
        "Recall:    0.70  +/- 0.07\n",
        "\n",
        "Aggregate Confusion Matrix - 10 iterations\n",
        "[[ 667 1646]\n",
        " [ 208  479]]\n",
        "\n",
        "\n",
        "** Predictions for hist=1000 future=400 **"
       ]
      },
      {
       "output_type": "stream",
       "stream": "stdout",
       "text": [
        "\n",
        "\n",
        "F1:        0.31  +/- 0.04\n",
        "Accuracy:  0.37  +/- 0.05\n",
        "Precision: 0.20  +/- 0.03\n",
        "Recall:    0.71  +/- 0.06\n",
        "\n",
        "Aggregate Confusion Matrix - 10 iterations\n",
        "[[ 890 2293]\n",
        " [ 237  580]]\n",
        "\n",
        "\n"
       ]
      }
     ],
     "prompt_number": 8
    },
    {
     "cell_type": "code",
     "collapsed": false,
     "input": [],
     "language": "python",
     "metadata": {},
     "outputs": [],
     "prompt_number": 9
    }
   ],
   "metadata": {}
  }
 ]
}