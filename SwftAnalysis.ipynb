{
 "metadata": {
  "name": "",
  "signature": "sha256:6d664824d4bd13269a284918461ee396f955854c39cdff775686b478914c1dfa"
 },
 "nbformat": 3,
 "nbformat_minor": 0,
 "worksheets": [
  {
   "cells": [
    {
     "cell_type": "markdown",
     "metadata": {},
     "source": [
      "Basic Analysis of OpenStack Swift\n",
      "\n",
      "Copyright Doug Williams - 2014, 2015\n",
      "\n",
      "###Updated: 3/213/2015\n",
      "\n",
      "###History\n",
      "- 9/10/2014:  Initial Version\n",
      "- 3/12/2015:  Major Update"
     ]
    },
    {
     "cell_type": "code",
     "collapsed": false,
     "input": [
      "%matplotlib inline"
     ],
     "language": "python",
     "metadata": {},
     "outputs": [],
     "prompt_number": 1
    },
    {
     "cell_type": "code",
     "collapsed": false,
     "input": [
      "import matplotlib.pyplot as plt\n",
      "import matplotlib\n",
      "import numpy as np\n",
      "from pprint import pprint\n",
      "import collections\n",
      "import math\n",
      "#from collections import defaultdict\n",
      "# import re\n",
      "\n",
      "import sys\n",
      "sys.path.append('./dev')\n",
      "from jp_load_dump import jload"
     ],
     "language": "python",
     "metadata": {},
     "outputs": [],
     "prompt_number": 2
    },
    {
     "cell_type": "code",
     "collapsed": false,
     "input": [
      "#from commit_analysis import normalize_blame_by_commit\n",
      "#from commit_analysis import normalize_blame_by_file\n",
      "#from commit_analysis import parse_author\n",
      "from commit_analysis import get_commit_count_by_author\n",
      "from commit_analysis import get_guilt_by_author\n",
      "\n",
      "from BugFixWorkflow import commit_postprocessing\n",
      "from Git_Extract import compute_git_actor_dedupe\n",
      "from Git_Extract import get_commit_ordering_min_max"
     ],
     "language": "python",
     "metadata": {},
     "outputs": [],
     "prompt_number": 3
    },
    {
     "cell_type": "code",
     "collapsed": false,
     "input": [
      "#PROJECT = 'nova'\n",
      "PROJECT = 'swift'\n",
      "#PROJECT = 'cinder'\n",
      "#PROJECT = 'glance'\n",
      "#PROJECT = 'heat'\n",
      "#IMPORTANCE = 'crit'\n",
      "#IMPORTANCE = 'high+'\n",
      "#IMPORTANCE = 'med+'\n",
      "IMPORTANCE = 'low+'\n",
      "ANONYMIZE = True"
     ],
     "language": "python",
     "metadata": {},
     "outputs": [],
     "prompt_number": 4
    },
    {
     "cell_type": "heading",
     "level": 1,
     "metadata": {},
     "source": [
      "Code"
     ]
    },
    {
     "cell_type": "code",
     "collapsed": false,
     "input": [
      "KNOWN_NAMES = {}\n",
      "\n",
      "def anonymize_name(name):\n",
      "    global KNOWN_NAMES\n",
      "    if not ANONYMIZE:\n",
      "        return name\n",
      "    if name not in KNOWN_NAMES:\n",
      "        KNOWN_NAMES[name] = 'Author_'+str(len(KNOWN_NAMES)+1)\n",
      "    return KNOWN_NAMES[name]"
     ],
     "language": "python",
     "metadata": {},
     "outputs": [],
     "prompt_number": 5
    },
    {
     "cell_type": "heading",
     "level": 1,
     "metadata": {},
     "source": [
      "Load corpus"
     ]
    },
    {
     "cell_type": "code",
     "collapsed": false,
     "input": [
      "combined_commits = commit_postprocessing(PROJECT, IMPORTANCE)"
     ],
     "language": "python",
     "metadata": {},
     "outputs": [
      {
       "output_type": "stream",
       "stream": "stdout",
       "text": [
        "loading bug data\n",
        "  total LP bugs:"
       ]
      },
      {
       "output_type": "stream",
       "stream": "stdout",
       "text": [
        " 706\n",
        "  Entries annotated: 252\n",
        "loading Git commit data\n",
        "  total git_commits:"
       ]
      },
      {
       "output_type": "stream",
       "stream": "stdout",
       "text": [
        " 4405\n",
        "  bug fix commits: 353\n",
        "  commits with change_id: 1629\n",
        "  bug fix with change_id: 341\n",
        "loading change data\n",
        "  total gerrit changes with detail:"
       ]
      },
      {
       "output_type": "stream",
       "stream": "stdout",
       "text": [
        " 1817\n",
        "  all_change_details: 1817\n",
        "  total gerrit changes:"
       ]
      },
      {
       "output_type": "stream",
       "stream": "stdout",
       "text": [
        " 1817\n",
        "  all_changes: 1817\n",
        "combined_commits:"
       ]
      },
      {
       "output_type": "stream",
       "stream": "stdout",
       "text": [
        " 4405\n",
        "Determining legacy cut-off\n",
        "  Transition interval: 4 days, 0:05:23\n",
        "  Parent of first_with: 081dd1683226330d73b5906c2a1906ffd167f69f\n",
        "  Setting cutoff to: 06/09/2011\n",
        "Collecting data on commits with bug fixes\n",
        "Ignoring revert:"
       ]
      },
      {
       "output_type": "stream",
       "stream": "stdout",
       "text": [
        " 72faf7b86d347608d0ef95f4f709f7f34debbcc6\n",
        "Unexpected change_id on simple merge, ignored b20278907bdaafe54e2537294a20a1d890b953f7\n",
        "Unexpected change_id on simple merge, ignored b6fa53dbd25708f1fe21e82d61816ece47203daf\n",
        "  Mainline Commits ignored due to legacy: 354  out of: 1950\n",
        "  Total commite requiring blame computation: 89\n",
        "\n",
        "Computing Blame\n",
        "Loaded blame"
       ]
      },
      {
       "output_type": "stream",
       "stream": "stdout",
       "text": [
        "\n",
        "  Initial Blame cache size: 109\n",
        "  bug fix commits: 89\n",
        "."
       ]
      },
      {
       "output_type": "stream",
       "stream": "stdout",
       "text": [
        " . . . "
       ]
      },
      {
       "output_type": "stream",
       "stream": "stdout",
       "text": [
        ". . "
       ]
      },
      {
       "output_type": "stream",
       "stream": "stdout",
       "text": [
        ". .\n",
        "  Saving updated Blame Cache\n",
        "\n"
       ]
      },
      {
       "output_type": "stream",
       "stream": "stdout",
       "text": [
        "Annotating Guilt\n",
        "entries with non-zero guilt:  377\n",
        "smallest guilt: 0.000726744186047\n",
        "largest guilt: 25.7348113871\n",
        "Identify reachable commits\n",
        "  Loaded cached reachability data"
       ]
      },
      {
       "output_type": "stream",
       "stream": "stdout",
       "text": [
        "\n",
        "  Initial Reachable cache size: 66\n",
        "  Samples: 65\n",
        "  Revised samples: 0\n",
        "\n",
        "  Reachable commits: 1758\n",
        "Annotating lines of code changed\n",
        "  Loaded Lines of Code Changed cache"
       ]
      },
      {
       "output_type": "stream",
       "stream": "stdout",
       "text": [
        "\n",
        "  Initial Lines of Code Changed cache size: 1742\n",
        ". . . . . . . . . . 1000 . . . . . . .\n",
        "Order range for non-legacy comits"
       ]
      },
      {
       "output_type": "stream",
       "stream": "stdout",
       "text": [
        "\n",
        "  min: 526\n",
        "  max: 1742\n"
       ]
      }
     ],
     "prompt_number": 6
    },
    {
     "cell_type": "code",
     "collapsed": false,
     "input": [
      "min_order, max_order = get_commit_ordering_min_max(combined_commits)"
     ],
     "language": "python",
     "metadata": {},
     "outputs": [],
     "prompt_number": 7
    },
    {
     "cell_type": "code",
     "collapsed": false,
     "input": [
      "print 'Combined Commits:', len(combined_commits)\n",
      "print ' Reachable nonLegacy:', len([k for k, c in combined_commits.items()\n",
      "                                    if c['reachable'] and c['order'] > min_order])"
     ],
     "language": "python",
     "metadata": {},
     "outputs": [
      {
       "output_type": "stream",
       "stream": "stdout",
       "text": [
        "Combined Commits: 4405\n",
        " Reachable nonLegacy: 1216\n"
       ]
      }
     ],
     "prompt_number": 8
    },
    {
     "cell_type": "heading",
     "level": 1,
     "metadata": {},
     "source": [
      "Basic Authorship Stats"
     ]
    },
    {
     "cell_type": "code",
     "collapsed": false,
     "input": [
      "all_commits_by_author = get_commit_count_by_author(combined_commits, 0)\n",
      "all_commits_by_author = dict([[anonymize_name(k), v] for k, v in all_commits_by_author.items()])\n",
      "\n",
      "#Same, ignoring legacy commits (ie:  commits where we are unable to compute guilt)\n",
      "commits_by_author = get_commit_count_by_author(combined_commits, min_order)\n",
      "commits_by_author = dict([[anonymize_name(k), v] for k, v in commits_by_author.items()])"
     ],
     "language": "python",
     "metadata": {},
     "outputs": [],
     "prompt_number": 9
    },
    {
     "cell_type": "heading",
     "level": 3,
     "metadata": {},
     "source": [
      "Box Plot showing distribution of commits by author"
     ]
    },
    {
     "cell_type": "code",
     "collapsed": false,
     "input": [
      "plt.figure(figsize=(8, 1)); plt.title('Commits by Author')\n",
      "x = plt.boxplot([x[1] for x in all_commits_by_author.items()],vert=False)"
     ],
     "language": "python",
     "metadata": {},
     "outputs": [
      {
       "metadata": {},
       "output_type": "display_data",
       "png": "[encoded data removed]",
       "text": [
        "<matplotlib.figure.Figure at 0x117685090>"
       ]
      }
     ],
     "prompt_number": 10
    },
    {
     "cell_type": "heading",
     "level": 3,
     "metadata": {},
     "source": [
      "Same data in histogram form, clipping extreme values"
     ]
    },
    {
     "cell_type": "code",
     "collapsed": false,
     "input": [
      "plt.figure(figsize=(8, 3))\n",
      "plt.title('Commits by Author'); plt.xlabel('commits'); plt.ylabel('authors')\n",
      "x = plt.hist([x[1] for x in all_commits_by_author.items() if x[1] <= 50], bins=50)"
     ],
     "language": "python",
     "metadata": {},
     "outputs": [
      {
       "metadata": {},
       "output_type": "display_data",
       "png": "[encoded data removed]",
       "text": [
        "<matplotlib.figure.Figure at 0x1172b0fd0>"
       ]
      }
     ],
     "prompt_number": 11
    },
    {
     "cell_type": "heading",
     "level": 3,
     "metadata": {},
     "source": [
      "Cumulative authorship, significant commits by authors with low commit counts"
     ]
    },
    {
     "cell_type": "code",
     "collapsed": false,
     "input": [
      "plt.figure(figsize=(10, 3))\n",
      "plt.title('Cumulative Commits by Author'); plt.xlabel('commits'); plt.ylabel('authors')\n",
      "x = plt.hist([x[1] for x in all_commits_by_author.items()], bins=160, cumulative=True)"
     ],
     "language": "python",
     "metadata": {},
     "outputs": [
      {
       "metadata": {},
       "output_type": "display_data",
       "png": "[encoded data removed]",
       "text": [
        "<matplotlib.figure.Figure at 0x1176ffb50>"
       ]
      }
     ],
     "prompt_number": 12
    },
    {
     "cell_type": "heading",
     "level": 3,
     "metadata": {},
     "source": [
      "Drill down on top authors"
     ]
    },
    {
     "cell_type": "code",
     "collapsed": false,
     "input": [
      "print 'Top Authors:'; print '------------'\n",
      "for author, commit_count in sorted(all_commits_by_author.items(), key=lambda x: x[1], reverse=True)[:10]:\n",
      "    print author, commit_count"
     ],
     "language": "python",
     "metadata": {},
     "outputs": [
      {
       "output_type": "stream",
       "stream": "stdout",
       "text": [
        "Top Authors:\n",
        "------------\n",
        "Author_31 280.0\n",
        "Author_67 165.0\n",
        "Author_68 154.0\n",
        "Author_126 133.0\n",
        "Author_138 130.0\n",
        "Author_85 101.0\n",
        "Author_65 96.0\n",
        "Author_14 41.0\n",
        "Author_134 35.0\n",
        "Author_52 30.0\n"
       ]
      }
     ],
     "prompt_number": 13
    },
    {
     "cell_type": "markdown",
     "metadata": {},
     "source": [
      "#Major Caveat\n",
      "\n",
      "####The analysis approach below is based on a model of 'guilt by association'.  Specifically, that for each bug fix, guilt as apportioned based on authorship of code in proximity to code changes by the fix, where code that was replaced by the bug fix received the highest degree of guilt.  'Guilt' as used here is only an abstract concept, and by no means is a definitive indication of blame.  Perhaps a more appropriate term might be 'suspicion'.\n",
      "\n",
      "Limitation:  Current analysis does not special case comments or whitespace when computing guilt."
     ]
    },
    {
     "cell_type": "heading",
     "level": 1,
     "metadata": {},
     "source": [
      "Explore Author's Association with Bugs (Guilt by association)"
     ]
    },
    {
     "cell_type": "heading",
     "level": 6,
     "metadata": {},
     "source": [
      "Note:  Analysis ignores all commits prior to cut-over to current Git+Launchpad_Gerrit toolchain"
     ]
    },
    {
     "cell_type": "code",
     "collapsed": false,
     "input": [
      "def get_upper_and_lower_limits(series, lower=1, upper=99):\n",
      "    \"\"\"Determine 1 and 99 Percentile values\"\"\"\n",
      "    a = np.array([x[1] for x in series])\n",
      "    lthresh = np.percentile(a,1)\n",
      "    uthresh = np.percentile(a,99)\n",
      "    return lthresh, uthresh\n",
      "\n",
      "\n",
      "def remove_outliers(series, lower=1, upper=99):\n",
      "    \"\"\"Filtered version 1 - 99 Percentile\"\"\"\n",
      "    lthresh, uthresh = get_upper_and_lower_limits(series, lower, upper)\n",
      "    return [x for x in series if x[1] >= lthresh and x[1] <= uthresh]"
     ],
     "language": "python",
     "metadata": {},
     "outputs": [],
     "prompt_number": 14
    },
    {
     "cell_type": "code",
     "collapsed": false,
     "input": [
      "guilt_by_author = get_guilt_by_author(combined_commits, min_order)\n",
      "guilt_by_author = dict([[anonymize_name(k), v] for k, v in guilt_by_author.items()])\n",
      "\n",
      "#normalize by author\n",
      "norm_guilt_by_author = [[k, v/commits_by_author[k]]\n",
      "                        for k, v in guilt_by_author.items()]\n",
      "\n",
      "# author, commits, norm, total_errore\n",
      "norm_guilt_vs_commit_count = [[k, all_commits_by_author[k],\n",
      "                               v/ commits_by_author[k], v] \n",
      "                              for k, v in guilt_by_author.items()]\n",
      "\n",
      "# Filtered version 1 - 99 Percentile\n",
      "norm_guilt_by_commit_f = remove_outliers(norm_guilt_by_author, lower=1, upper=99)\n",
      "_, max_commits = get_upper_and_lower_limits(all_commits_by_author.items())\n",
      "\n",
      "norm_guilt_vs_commit_count = [[all_commits_by_author[k], norm_guilt] \n",
      "                              for k, norm_guilt in norm_guilt_by_commit_f\n",
      "                              if all_commits_by_author[k] < max_commits]\n",
      "\n",
      "log_norm_guilt_vs_commit_count = [[math.log(all_commits_by_author[k]), norm_guilt] \n",
      "                              for k, norm_guilt in norm_guilt_by_commit_f\n",
      "                              if all_commits_by_author[k] < max_commits]"
     ],
     "language": "python",
     "metadata": {},
     "outputs": [],
     "prompt_number": 15
    },
    {
     "cell_type": "heading",
     "level": 3,
     "metadata": {},
     "source": [
      "Box Plot showing distribution of normalized guilt"
     ]
    },
    {
     "cell_type": "code",
     "collapsed": false,
     "input": [
      "plt.figure(figsize=(8, 1)); plt.title('Norm Guilt by Author')\n",
      "x = plt.boxplot([x[1] for x in norm_guilt_by_author],vert=False)"
     ],
     "language": "python",
     "metadata": {},
     "outputs": [
      {
       "metadata": {},
       "output_type": "display_data",
       "png": "[encoded data removed]",
       "text": [
        "<matplotlib.figure.Figure at 0x1178dca10>"
       ]
      }
     ],
     "prompt_number": 16
    },
    {
     "cell_type": "heading",
     "level": 3,
     "metadata": {},
     "source": [
      "Look at range relative to average author"
     ]
    },
    {
     "cell_type": "code",
     "collapsed": false,
     "input": [
      "plt.figure(figsize=(8, 1)); plt.title('Norm Guilt by Author')\n",
      "\n",
      "x = plt.boxplot([x[1] for x in norm_guilt_by_author],vert=False)"
     ],
     "language": "python",
     "metadata": {},
     "outputs": [
      {
       "metadata": {},
       "output_type": "display_data",
       "png": "[encoded data removed]",
       "text": [
        "<matplotlib.figure.Figure at 0x117705d90>"
       ]
      }
     ],
     "prompt_number": 17
    },
    {
     "cell_type": "heading",
     "level": 3,
     "metadata": {},
     "source": [
      "Same data in histogram form"
     ]
    },
    {
     "cell_type": "code",
     "collapsed": false,
     "input": [
      "plt.figure(figsize=(8, 3))\n",
      "plt.title('Normalized Guilt by Author'); plt.xlabel('guilt'); plt.ylabel('authors')\n",
      "x = plt.hist([x[1] for x in norm_guilt_by_author], bins=100)"
     ],
     "language": "python",
     "metadata": {},
     "outputs": [
      {
       "metadata": {},
       "output_type": "display_data",
       "png": "[encoded data removed]",
       "text": [
        "<matplotlib.figure.Figure at 0x1116897d0>"
       ]
      }
     ],
     "prompt_number": 18
    },
    {
     "cell_type": "heading",
     "level": 3,
     "metadata": {},
     "source": [
      "Same data, ignoring outliers"
     ]
    },
    {
     "cell_type": "code",
     "collapsed": false,
     "input": [
      "plt.figure(figsize=(8, 3))\n",
      "plt.title('Normalized Guilt by Author - 1% to 99%'); plt.xlabel('guilt'); plt.ylabel('authors')\n",
      "x = plt.hist([x[1] for x in norm_guilt_by_commit_f], bins=50)"
     ],
     "language": "python",
     "metadata": {},
     "outputs": [
      {
       "metadata": {},
       "output_type": "display_data",
       "png": "[encoded data removed]",
       "text": [
        "<matplotlib.figure.Figure at 0x1177c7610>"
       ]
      }
     ],
     "prompt_number": 19
    },
    {
     "cell_type": "heading",
     "level": 3,
     "metadata": {},
     "source": [
      "Look at individual authors"
     ]
    },
    {
     "cell_type": "code",
     "collapsed": false,
     "input": [
      "print 'Authors with Highest Normalized Guilt: (Significant Caveats Apply)'\n",
      "print '--------------------------------------'\n",
      "for author, norm_guilt in sorted([[k, v] for k, v in norm_guilt_by_author],\n",
      "                                 key=lambda x: x[1], reverse=True)[:10]:\n",
      "    print author, norm_guilt"
     ],
     "language": "python",
     "metadata": {},
     "outputs": [
      {
       "output_type": "stream",
       "stream": "stdout",
       "text": [
        "Authors with Highest Normalized Guilt: (Significant Caveats Apply)\n",
        "--------------------------------------\n",
        "Author_25 0.98791504033\n",
        "Author_72 0.488550453651\n",
        "Author_5 0.464860653507\n",
        "Author_12 0.414091149276\n",
        "Author_54 0.351046583428\n",
        "Author_38 0.305226793121\n",
        "Author_97 0.294751600943\n",
        "Author_87 0.275477134682\n",
        "Author_122 0.274823269267\n",
        "Author_14 0.269962055298\n"
       ]
      }
     ],
     "prompt_number": 20
    },
    {
     "cell_type": "heading",
     "level": 1,
     "metadata": {},
     "source": [
      "Normalized Guilt vs Commit Experience"
     ]
    },
    {
     "cell_type": "heading",
     "level": 3,
     "metadata": {},
     "source": [
      "Basic Scatter Plot"
     ]
    },
    {
     "cell_type": "code",
     "collapsed": false,
     "input": [
      "plt.figure(figsize=(8, 8))\n",
      "plt.xlabel('commits'); plt.ylabel('bug rate'); plt.title('Bug rate vs commit experience no outliers')\n",
      "x, y = zip(*norm_guilt_vs_commit_count)\n",
      "plt.scatter(x, y); plt.xlim(0, ); plt.ylim(0, ); plt.show()"
     ],
     "language": "python",
     "metadata": {},
     "outputs": [
      {
       "metadata": {},
       "output_type": "display_data",
       "png": "[encoded data removed]",
       "text": [
        "<matplotlib.figure.Figure at 0x11768c050>"
       ]
      }
     ],
     "prompt_number": 21
    },
    {
     "cell_type": "heading",
     "level": 3,
     "metadata": {},
     "source": [
      "Scatter plot with commit experience on log scale"
     ]
    },
    {
     "cell_type": "code",
     "collapsed": false,
     "input": [
      "plt.figure(figsize=(8, 8))\n",
      "plt.xlabel('log commits'); plt.ylabel('bug rate'); plt.title('Bug rate vs commit experience no outliers')\n",
      "x, y = zip(*log_norm_guilt_vs_commit_count)\n",
      "plt.scatter(x, y); plt.xlim(0, ); plt.ylim(0, ); plt.show()"
     ],
     "language": "python",
     "metadata": {},
     "outputs": [
      {
       "metadata": {},
       "output_type": "display_data",
       "png": "[encoded data removed]",
       "text": [
        "<matplotlib.figure.Figure at 0x11900ba10>"
       ]
      }
     ],
     "prompt_number": 22
    },
    {
     "cell_type": "heading",
     "level": 1,
     "metadata": {},
     "source": [
      "Cumulative contribution to overall guilt based on normalized guilt"
     ]
    },
    {
     "cell_type": "code",
     "collapsed": false,
     "input": [
      "def compute_cumulative(series):\n",
      "    series = sorted(series, key=lambda x: x[1], reverse=True)    \n",
      "    total = 0.0\n",
      "    result = []\n",
      "    for g, ng in series:\n",
      "        total += g\n",
      "        result.append([total, -ng])\n",
      "    return result"
     ],
     "language": "python",
     "metadata": {},
     "outputs": [],
     "prompt_number": 23
    },
    {
     "cell_type": "code",
     "collapsed": false,
     "input": [
      "guilt_vs_norm_guilt_by_author = [[v, v/commits_by_author[k]]\n",
      "                        for k, v in guilt_by_author.items()]\n",
      "\n",
      "cumulative_guilt = compute_cumulative(guilt_vs_norm_guilt_by_author)\n",
      "\n",
      "n_authors = float(len(cumulative_guilt))\n",
      "max_guilt = cumulative_guilt[-1][0]\n",
      "relative_cumulative_guilt = [[100*float(i)/n_authors, v[0]/max_guilt ]\n",
      "                             for i, v in enumerate(cumulative_guilt)]\n",
      "\n",
      "# filtered versio of above\n",
      "guilt_vs_norm_guilt_by_author_f = [[v, v/commits_by_author[k]]\n",
      "                        for k, v in guilt_by_author.items()\n",
      "                        if commits_by_author[k] > 10]\n",
      "\n",
      "cumulative_guilt_f = compute_cumulative(guilt_vs_norm_guilt_by_author_f)\n",
      "\n",
      "relative_cumulative_guilt_f = [[100*float(i)/n_authors, v[0]/max_guilt ]\n",
      "                             for i, v in enumerate(cumulative_guilt_f)]"
     ],
     "language": "python",
     "metadata": {},
     "outputs": [],
     "prompt_number": 24
    },
    {
     "cell_type": "heading",
     "level": 3,
     "metadata": {},
     "source": [
      "Cumulative Guilt vs author error rate"
     ]
    },
    {
     "cell_type": "code",
     "collapsed": false,
     "input": [
      "plt.figure(figsize=(8, 8))\n",
      "plt.xlabel('- author norm guilt'); plt.ylabel('cumulative guilt'); plt.title('Cumulative Guilt vs Normalized Author Guilt')\n",
      "y, x = zip(*cumulative_guilt)\n",
      "plt.plot(x, y); plt.show()"
     ],
     "language": "python",
     "metadata": {},
     "outputs": [
      {
       "metadata": {},
       "output_type": "display_data",
       "png": "[encoded data removed]",
       "text": [
        "<matplotlib.figure.Figure at 0x1034b6690>"
       ]
      }
     ],
     "prompt_number": 25
    },
    {
     "cell_type": "markdown",
     "metadata": {},
     "source": [
      "###Overall Guilt Contribution based on Author Error Rate"
     ]
    },
    {
     "cell_type": "code",
     "collapsed": false,
     "input": [
      "plt.figure(figsize=(8, 8))\n",
      "plt.xlabel('Author Percentile'); plt.ylabel('% total cumulative guilt'); plt.title('Cumulative Guilt vs Normalized Author Guilt')\n",
      "x, y = zip(*relative_cumulative_guilt)\n",
      "plt.plot(x, y); plt.show()"
     ],
     "language": "python",
     "metadata": {},
     "outputs": [
      {
       "metadata": {},
       "output_type": "display_data",
       "png": "[encoded data removed]",
       "text": [
        "<matplotlib.figure.Figure at 0x1173769d0>"
       ]
      }
     ],
     "prompt_number": 26
    },
    {
     "cell_type": "markdown",
     "metadata": {},
     "source": [
      "######Note Below data skewed by large number of authors with zero guilt"
     ]
    },
    {
     "cell_type": "markdown",
     "metadata": {},
     "source": [
      "###Overall Guilt Contribution based on Author Error Rate, ignoring authors with 10 or less commits"
     ]
    },
    {
     "cell_type": "code",
     "collapsed": false,
     "input": [
      "plt.figure(figsize=(8, 8))\n",
      "plt.xlabel('Author Percentile'); plt.ylabel('% total cumulative guilt'); plt.title('Cumulative Guilt vs Normalized Author Guilt')\n",
      "x, y = zip(*relative_cumulative_guilt_f)\n",
      "plt.plot(x, y); plt.show()"
     ],
     "language": "python",
     "metadata": {},
     "outputs": [
      {
       "metadata": {},
       "output_type": "display_data",
       "png": "[encoded data removed]",
       "text": [
        "<matplotlib.figure.Figure at 0x11946fad0>"
       ]
      }
     ],
     "prompt_number": 27
    },
    {
     "cell_type": "heading",
     "level": 6,
     "metadata": {},
     "source": [
      "The prolific authors appear to account for the vast majority of bugs.  Only 10% of guilt attributable to authors with 10 or fewer commits"
     ]
    },
    {
     "cell_type": "code",
     "collapsed": false,
     "input": [],
     "language": "python",
     "metadata": {},
     "outputs": [],
     "prompt_number": 27
    }
   ],
   "metadata": {}
  }
 ]
}