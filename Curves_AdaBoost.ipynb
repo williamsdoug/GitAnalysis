{
 "metadata": {
  "name": "",
  "signature": "sha256:5c6d81773c58dcfc0fe8706bb4d83739069963accecff35771fbfb888c8f02b3"
 },
 "nbformat": 3,
 "nbformat_minor": 0,
 "worksheets": [
  {
   "cells": [
    {
     "cell_type": "code",
     "collapsed": false,
     "input": [
      "%matplotlib inline\n",
      "from pprint import pprint\n",
      "from collections import defaultdict\n",
      "\n",
      "import numpy as np\n",
      "import math\n",
      "import matplotlib.pyplot as plt\n",
      "import random\n",
      "import warnings\n",
      "\n",
      "import sklearn.tree\n",
      "import sklearn.ensemble\n",
      "\n",
      "from sklearn.grid_search import GridSearchCV\n",
      "from sklearn import metrics\n",
      "\n",
      "import sys\n",
      "sys.path.append('./dev')\n",
      "\n",
      "from ml_plot import plot_validation_curve\n",
      "from ml_plot import PredictCV, my_plot_learning_curve\n",
      "from ml_plot import plot_prediction_curve\n",
      "from ml_plot import get_dataset, eval_predictions"
     ],
     "language": "python",
     "metadata": {},
     "outputs": [],
     "prompt_number": 1
    },
    {
     "cell_type": "heading",
     "level": 1,
     "metadata": {},
     "source": [
      "Configuration"
     ]
    },
    {
     "cell_type": "code",
     "collapsed": false,
     "input": [
      "# PROJECT = 'nova'\n",
      "# PROJECT = 'swift'\n",
      "# PROJECT = 'cinder'\n",
      "PROJECT = 'heat'\n",
      "# PROJECT = 'glance'\n",
      "\n",
      "# IMPORTANCE = 'crit'\n",
      "# IMPORTANCE = 'high+'\n",
      "IMPORTANCE = 'med+'\n",
      "# IMPORTANCE = 'low+'\n",
      "\n",
      "# SIZE = 100\n",
      "#SIZE = 250\n",
      "# SIZE = 0.1\n",
      "SIZE = 0.5\n",
      "\n",
      "SCORING = 'f1'         # (precision * recall) / (precision + recall)\n",
      "# SCORING = 'accuracy'   # (TP + TN) / all values\n",
      "# SCORING = 'precision'  # TP / (TP + FP)\n",
      "# SCORING = 'recall'     # TP / (TP + FN)\n",
      "# SCORING = 'average_precision'\n",
      "# SCORING = 'roc_auc'\n",
      "\n",
      "JOBS = 4\n",
      "\n",
      "VERBOSE = 0\n",
      "\n",
      "#warnings.simplefilter(\"ignore\", UndefinedMetricWarning)\n",
      "warnings.filterwarnings('ignore', 'F-score is ill-defined')\n",
      "warnings.filterwarnings('ignore', 'overflow encountered in exp')"
     ],
     "language": "python",
     "metadata": {},
     "outputs": [],
     "prompt_number": 2
    },
    {
     "cell_type": "heading",
     "level": 1,
     "metadata": {},
     "source": [
      "Load Data"
     ]
    },
    {
     "cell_type": "code",
     "collapsed": false,
     "input": [
      "%%capture\n",
      "Y, X = get_dataset(PROJECT, IMPORTANCE)"
     ],
     "language": "python",
     "metadata": {},
     "outputs": [],
     "prompt_number": 3
    },
    {
     "cell_type": "heading",
     "level": 3,
     "metadata": {},
     "source": [
      "Select Split Strategy"
     ]
    },
    {
     "cell_type": "code",
     "collapsed": false,
     "input": [
      "#cv = PredictCV(len(Y), history=500, future=300, n_iter=10)\n",
      "cv = PredictCV(len(Y), history=500, future=300, n_iter=100)"
     ],
     "language": "python",
     "metadata": {},
     "outputs": [],
     "prompt_number": 4
    },
    {
     "cell_type": "heading",
     "level": 1,
     "metadata": {},
     "source": [
      "AdaBoost  Classifier"
     ]
    },
    {
     "cell_type": "code",
     "collapsed": false,
     "input": [
      "estimator = sklearn.ensemble.AdaBoostClassifier()\n",
      "param_grid = {'learning_rate': [0.25, 0.5, 1.0, 1.25, 1.5, 1.75, 2.0],\n",
      "              'n_estimators': [15, 25, 50],\n",
      "               'algorithm': ['SAMME', 'SAMME.R'] }"
     ],
     "language": "python",
     "metadata": {},
     "outputs": [],
     "prompt_number": 5
    },
    {
     "cell_type": "code",
     "collapsed": false,
     "input": [
      "grid = GridSearchCV(estimator, param_grid=param_grid, cv=cv, scoring=SCORING,\n",
      "                    n_jobs=JOBS, pre_dispatch=2*JOBS, verbose=VERBOSE)\n",
      "# grid.fit(X_train, Y_train)\n",
      "grid.fit(X, Y)\n",
      "print 'best_score: ', grid.best_score_\n",
      "clf = grid.best_estimator_\n",
      "grid.best_estimator_"
     ],
     "language": "python",
     "metadata": {},
     "outputs": [
      {
       "output_type": "stream",
       "stream": "stdout",
       "text": [
        "best_score:  0.427094563122\n"
       ]
      },
      {
       "output_type": "pyout",
       "prompt_number": 6,
       "text": [
        "AdaBoostClassifier(algorithm='SAMME.R', base_estimator=None,\n",
        "          learning_rate=2.0, n_estimators=25, random_state=None)"
       ]
      }
     ],
     "prompt_number": 6
    },
    {
     "cell_type": "heading",
     "level": 3,
     "metadata": {},
     "source": [
      "Validation Curves"
     ]
    },
    {
     "cell_type": "code",
     "collapsed": false,
     "input": [
      "best_score, param_val, param_name = \\\n",
      "    plot_validation_curve(clf,\n",
      "                          X, Y,\n",
      "                          \"learning_rate\", [0.25, 0.5, 1.0, 1.25, 1.5, 1.75, 2.0],\n",
      "                          \"learning_rate Validation Curve\",\n",
      "                          cv=cv, scoring=SCORING, n_jobs=JOBS)\n",
      "print 'Best score of', best_score, 'when setting', param_name, 'to',  param_val"
     ],
     "language": "python",
     "metadata": {},
     "outputs": [
      {
       "output_type": "display_data",
       "png": "[encoded data removed]",
       "text": [
        "<matplotlib.figure.Figure at 0x1072748d0>"
       ]
      },
      {
       "output_type": "stream",
       "stream": "stdout",
       "text": [
        "Best score of 0.446841142358 when setting learning_rate to 2.0\n"
       ]
      }
     ],
     "prompt_number": 7
    },
    {
     "cell_type": "code",
     "collapsed": false,
     "input": [
      "best_score, param_val, param_name = \\\n",
      "    plot_validation_curve(clf,\n",
      "                          X, Y,\n",
      "                          \"n_estimators\", [9, 15, 21, 25, 50, 100],\n",
      "                          \"n_estimators Validation Curve\",\n",
      "                          cv=cv, scoring=SCORING, n_jobs=JOBS)\n",
      "print 'Best score of', best_score, 'when setting', param_name, 'to',  param_val"
     ],
     "language": "python",
     "metadata": {},
     "outputs": [
      {
       "output_type": "display_data",
       "png": "[encoded data removed]",
       "text": [
        "<matplotlib.figure.Figure at 0x1092c1590>"
       ]
      },
      {
       "output_type": "stream",
       "stream": "stdout",
       "text": [
        "Best score of 0.431075488233 when setting n_estimators to 9\n"
       ]
      }
     ],
     "prompt_number": 8
    },
    {
     "cell_type": "heading",
     "level": 3,
     "metadata": {},
     "source": [
      "Learning Curve"
     ]
    },
    {
     "cell_type": "code",
     "collapsed": false,
     "input": [
      "title = \"Learning Curves for AdaBoost using DecisionTreeClassifier\"\n",
      "my_plot_learning_curve(clf, title, X, Y,\n",
      "                           n_jobs=JOBS, future=500,\n",
      "                           history_sizes=[100, 200, 300, 400, 500, 750, 1000],\n",
      "                           n_iter=100)\n",
      "plt.show()"
     ],
     "language": "python",
     "metadata": {},
     "outputs": [
      {
       "output_type": "display_data",
       "png": "[encoded data removed]",
       "text": [
        "<matplotlib.figure.Figure at 0x127420d90>"
       ]
      }
     ],
     "prompt_number": 9
    },
    {
     "cell_type": "heading",
     "level": 3,
     "metadata": {},
     "source": [
      "Prediction Curve"
     ]
    },
    {
     "cell_type": "code",
     "collapsed": false,
     "input": [
      "title = \"Prediction Horizon Curve for Adaboost with DecisionTreeClassifier\"\n",
      "plot_prediction_curve(clf, title, X, Y,\n",
      "                           n_jobs=JOBS, history=500,\n",
      "                           future_sizes=[100, 200, 300, 500], n_iter=100)\n",
      "plt.show()"
     ],
     "language": "python",
     "metadata": {},
     "outputs": [
      {
       "output_type": "display_data",
       "png": "[encoded data removed]",
       "text": [
        "<matplotlib.figure.Figure at 0x12743f2d0>"
       ]
      }
     ],
     "prompt_number": 10
    },
    {
     "cell_type": "code",
     "collapsed": false,
     "input": [
      "AB_results = eval_predictions(clf, X, Y, history_sizes=[400, 500, 1000], future_sizes=[100, 300, 400, 500], n_iter=100)"
     ],
     "language": "python",
     "metadata": {},
     "outputs": [
      {
       "output_type": "stream",
       "stream": "stdout",
       "text": [
        "** Predictions for hist=400 future=100 **\n",
        "\n",
        "F1:        0.42  +/- 0.21\n",
        "Accuracy:  0.73  +/- 0.10\n",
        "Precision: 0.46  +/- 0.22\n",
        "Recall:    0.45  +/- 0.26\n",
        "\n",
        "Aggregate Confusion Matrix - 100 iterations\n",
        "[[5874 1377]\n",
        " [1370 1379]]\n",
        "\n",
        "\n",
        "** Predictions for hist=400 future=300 **"
       ]
      },
      {
       "output_type": "stream",
       "stream": "stdout",
       "text": [
        "\n",
        "\n",
        "F1:        0.42  +/- 0.19\n",
        "Accuracy:  0.72  +/- 0.08\n",
        "Precision: 0.39  +/- 0.18\n",
        "Recall:    0.47  +/- 0.24\n",
        "\n",
        "Aggregate Confusion Matrix - 100 iterations\n",
        "[[17478  4624]\n",
        " [ 3925  3973]]\n",
        "\n",
        "\n",
        "** Predictions for hist=400 future=400 **"
       ]
      },
      {
       "output_type": "stream",
       "stream": "stdout",
       "text": [
        "\n",
        "\n",
        "F1:        0.46  +/- 0.16\n",
        "Accuracy:  0.69  +/- 0.08\n",
        "Precision: 0.43  +/- 0.15\n",
        "Recall:    0.53  +/- 0.22\n",
        "\n",
        "Aggregate Confusion Matrix - 100 iterations\n",
        "[[21289  7195]\n",
        " [ 5160  6356]]\n",
        "\n",
        "\n",
        "** Predictions for hist=400 future=500 **"
       ]
      },
      {
       "output_type": "stream",
       "stream": "stdout",
       "text": [
        "\n",
        "\n",
        "F1:        0.45  +/- 0.16\n",
        "Accuracy:  0.70  +/- 0.07\n",
        "Precision: 0.42  +/- 0.16\n",
        "Recall:    0.51  +/- 0.21\n",
        "\n",
        "Aggregate Confusion Matrix - 100 iterations\n",
        "[[27715  8366]\n",
        " [ 6517  7402]]\n",
        "\n",
        "\n",
        "** Predictions for hist=500 future=100 **"
       ]
      },
      {
       "output_type": "stream",
       "stream": "stdout",
       "text": [
        "\n",
        "\n",
        "F1:        0.43  +/- 0.22\n",
        "Accuracy:  0.73  +/- 0.08\n",
        "Precision: 0.43  +/- 0.23\n",
        "Recall:    0.48  +/- 0.26\n",
        "\n",
        "Aggregate Confusion Matrix - 100 iterations\n",
        "[[5815 1417]\n",
        " [1332 1436]]\n",
        "\n",
        "\n",
        "** Predictions for hist=500 future=300 **"
       ]
      },
      {
       "output_type": "stream",
       "stream": "stdout",
       "text": [
        "\n",
        "\n",
        "F1:        0.40  +/- 0.20\n",
        "Accuracy:  0.72  +/- 0.08\n",
        "Precision: 0.38  +/- 0.19\n",
        "Recall:    0.45  +/- 0.24\n",
        "\n",
        "Aggregate Confusion Matrix - 100 iterations\n",
        "[[17666  4391]\n",
        " [ 4043  3900]]\n",
        "\n",
        "\n",
        "** Predictions for hist=500 future=400 **"
       ]
      },
      {
       "output_type": "stream",
       "stream": "stdout",
       "text": [
        "\n",
        "\n",
        "F1:        0.44  +/- 0.16\n",
        "Accuracy:  0.71  +/- 0.08\n",
        "Precision: 0.41  +/- 0.17\n",
        "Recall:    0.49  +/- 0.20\n",
        "\n",
        "Aggregate Confusion Matrix - 100 iterations\n",
        "[[22807  6480]\n",
        " [ 5130  5583]]\n",
        "\n",
        "\n",
        "** Predictions for hist=500 future=500 **"
       ]
      },
      {
       "output_type": "stream",
       "stream": "stdout",
       "text": [
        "\n",
        "\n",
        "F1:        0.44  +/- 0.16\n",
        "Accuracy:  0.69  +/- 0.08\n",
        "Precision: 0.40  +/- 0.15\n",
        "Recall:    0.53  +/- 0.21\n",
        "\n",
        "Aggregate Confusion Matrix - 100 iterations\n",
        "[[26975  9537]\n",
        " [ 6060  7428]]\n",
        "\n",
        "\n",
        "** Predictions for hist=1000 future=100 **"
       ]
      },
      {
       "output_type": "stream",
       "stream": "stdout",
       "text": [
        "\n",
        "\n",
        "F1:        0.32  +/- 0.25\n",
        "Accuracy:  0.75  +/- 0.08\n",
        "Precision: 0.28  +/- 0.22\n",
        "Recall:    0.38  +/- 0.30\n",
        "\n",
        "Aggregate Confusion Matrix - 100 iterations\n",
        "[[6535 1173]\n",
        " [1350  942]]\n",
        "\n",
        "\n",
        "** Predictions for hist=1000 future=300 **"
       ]
      },
      {
       "output_type": "stream",
       "stream": "stdout",
       "text": [
        "\n",
        "\n",
        "F1:        0.28  +/- 0.24\n",
        "Accuracy:  0.74  +/- 0.08\n",
        "Precision: 0.24  +/- 0.21\n",
        "Recall:    0.33  +/- 0.29\n",
        "\n",
        "Aggregate Confusion Matrix - 100 iterations\n",
        "[[19691  3445]\n",
        " [ 4337  2527]]\n",
        "\n",
        "\n",
        "** Predictions for hist=1000 future=400 **"
       ]
      },
      {
       "output_type": "stream",
       "stream": "stdout",
       "text": [
        "\n",
        "\n",
        "F1:        0.36  +/- 0.21\n",
        "Accuracy:  0.72  +/- 0.07\n",
        "Precision: 0.31  +/- 0.18\n",
        "Recall:    0.44  +/- 0.26\n",
        "\n",
        "Aggregate Confusion Matrix - 100 iterations\n",
        "[[24491  6177]\n",
        " [ 4918  4414]]\n",
        "\n",
        "\n",
        "** Predictions for hist=1000 future=500 **"
       ]
      },
      {
       "output_type": "stream",
       "stream": "stdout",
       "text": [
        "\n",
        "\n",
        "F1:        0.33  +/- 0.22\n",
        "Accuracy:  0.73  +/- 0.07\n",
        "Precision: 0.28  +/- 0.19\n",
        "Recall:    0.41  +/- 0.29\n",
        "\n",
        "Aggregate Confusion Matrix - 100 iterations\n",
        "[[31302  7313]\n",
        " [ 6401  4984]]\n",
        "\n",
        "\n"
       ]
      },
      {
       "output_type": "stream",
       "stream": "stderr",
       "text": [
        "/Users/doug/anaconda/lib/python2.7/site-packages/sklearn/metrics/metrics.py:1771: UndefinedMetricWarning: Precision is ill-defined and being set to 0.0 due to no predicted samples.\n",
        "  'precision', 'predicted', average, warn_for)\n"
       ]
      }
     ],
     "prompt_number": 11
    },
    {
     "cell_type": "code",
     "collapsed": false,
     "input": [
      "AB_clf = clf"
     ],
     "language": "python",
     "metadata": {},
     "outputs": [],
     "prompt_number": 12
    }
   ],
   "metadata": {}
  }
 ]
}