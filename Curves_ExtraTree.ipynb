{
 "metadata": {
  "name": "",
  "signature": "sha256:315f4fc57ec9a5a689b84ca8e0e79a564e2e6ab0b276fbf95f6793648c06e536"
 },
 "nbformat": 3,
 "nbformat_minor": 0,
 "worksheets": [
  {
   "cells": [
    {
     "cell_type": "code",
     "collapsed": false,
     "input": [
      "%matplotlib inline\n",
      "from pprint import pprint\n",
      "from collections import defaultdict\n",
      "\n",
      "import numpy as np\n",
      "import math\n",
      "import matplotlib.pyplot as plt\n",
      "import random\n",
      "import warnings\n",
      "\n",
      "#from sklearn.linear_model import LogisticRegression\n",
      "#from sklearn.svm import SVC\n",
      "#from sklearn.naive_bayes import GaussianNB\n",
      "#from sklearn.linear_model import SGDClassifier\n",
      "import sklearn.tree\n",
      "import sklearn.ensemble\n",
      "\n",
      "from sklearn.grid_search import GridSearchCV\n",
      "from sklearn import metrics\n",
      "\n",
      "import sys\n",
      "sys.path.append('./dev')\n",
      "\n",
      "from ml_plot import plot_validation_curve\n",
      "from ml_plot import PredictCV, my_plot_learning_curve\n",
      "from ml_plot import plot_prediction_curve\n",
      "from ml_plot import get_dataset, eval_predictions"
     ],
     "language": "python",
     "metadata": {},
     "outputs": [],
     "prompt_number": 1
    },
    {
     "cell_type": "heading",
     "level": 1,
     "metadata": {},
     "source": [
      "Configuration"
     ]
    },
    {
     "cell_type": "code",
     "collapsed": false,
     "input": [
      "# PROJECT = 'nova'\n",
      "# PROJECT = 'swift'\n",
      "# PROJECT = 'cinder'\n",
      "PROJECT = 'heat'\n",
      "# PROJECT = 'glance'\n",
      "\n",
      "# IMPORTANCE = 'crit'\n",
      "# IMPORTANCE = 'high+'\n",
      "IMPORTANCE = 'med+'\n",
      "# IMPORTANCE = 'low+'\n",
      "\n",
      "# SIZE = 100\n",
      "#SIZE = 250\n",
      "# SIZE = 0.1\n",
      "SIZE = 0.5\n",
      "\n",
      "SCORING = 'f1'         # (precision * recall) / (precision + recall)\n",
      "# SCORING = 'accuracy'   # (TP + TN) / all values\n",
      "# SCORING = 'precision'  # TP / (TP + FP)\n",
      "# SCORING = 'recall'     # TP / (TP + FN)\n",
      "# SCORING = 'average_precision'\n",
      "# SCORING = 'roc_auc'\n",
      "\n",
      "JOBS = 4\n",
      "\n",
      "VERBOSE = 0\n",
      "\n",
      "#warnings.simplefilter(\"ignore\", UndefinedMetricWarning)\n",
      "warnings.filterwarnings(\"ignore\", 'F-score is ill-defined')"
     ],
     "language": "python",
     "metadata": {},
     "outputs": [],
     "prompt_number": 2
    },
    {
     "cell_type": "heading",
     "level": 1,
     "metadata": {},
     "source": [
      "Load Data"
     ]
    },
    {
     "cell_type": "code",
     "collapsed": false,
     "input": [
      "%%capture\n",
      "Y, X = get_dataset(PROJECT, IMPORTANCE)"
     ],
     "language": "python",
     "metadata": {},
     "outputs": [],
     "prompt_number": 3
    },
    {
     "cell_type": "heading",
     "level": 3,
     "metadata": {},
     "source": [
      "Select Split Strategy"
     ]
    },
    {
     "cell_type": "code",
     "collapsed": false,
     "input": [
      "cv = PredictCV(len(Y), history=1000, future=500, n_iter=10)"
     ],
     "language": "python",
     "metadata": {},
     "outputs": [],
     "prompt_number": 4
    },
    {
     "cell_type": "heading",
     "level": 1,
     "metadata": {},
     "source": [
      "Extra Trees Classifier"
     ]
    },
    {
     "cell_type": "code",
     "collapsed": false,
     "input": [
      "estimator = sklearn.ensemble.ExtraTreesClassifier()\n",
      "param_grid = {'criterion': ['gini', 'entropy'],\n",
      "                  'n_estimators':[5, 7, 10, 11, 13, 15, 17, 19, 23, 25, 29],\n",
      "                  'max_features':['auto', 'log2', 10, 25, 50, 75, 100, 150, 200]  }"
     ],
     "language": "python",
     "metadata": {},
     "outputs": [],
     "prompt_number": 5
    },
    {
     "cell_type": "code",
     "collapsed": false,
     "input": [
      "grid = GridSearchCV(estimator, param_grid=param_grid, cv=cv, scoring=SCORING,\n",
      "                    n_jobs=JOBS, pre_dispatch=2*JOBS, verbose=VERBOSE)\n",
      "# grid.fit(X_train, Y_train)\n",
      "grid.fit(X, Y)\n",
      "print 'best_score: ', grid.best_score_\n",
      "clf = grid.best_estimator_\n",
      "grid.best_estimator_"
     ],
     "language": "python",
     "metadata": {},
     "outputs": [
      {
       "output_type": "stream",
       "stream": "stdout",
       "text": [
        "best_score:  0.420996048049\n"
       ]
      },
      {
       "output_type": "pyout",
       "prompt_number": 6,
       "text": [
        "ExtraTreesClassifier(bootstrap=False, compute_importances=None,\n",
        "           criterion='entropy', max_depth=None, max_features=200,\n",
        "           max_leaf_nodes=None, min_density=None, min_samples_leaf=1,\n",
        "           min_samples_split=2, n_estimators=7, n_jobs=1, oob_score=False,\n",
        "           random_state=None, verbose=0)"
       ]
      }
     ],
     "prompt_number": 6
    },
    {
     "cell_type": "heading",
     "level": 3,
     "metadata": {},
     "source": [
      "Validation Curves"
     ]
    },
    {
     "cell_type": "code",
     "collapsed": false,
     "input": [
      "best_score, param_val, param_name = \\\n",
      "    plot_validation_curve(clf,\n",
      "                          # X_train, Y_train,\n",
      "                          X, Y,\n",
      "                          \"max_features\", [10, 25, 50, 75, 100, 125, 150, 200, 250, 300],\n",
      "                          \"max_features Validation Curve\",\n",
      "                          cv=cv, scoring=SCORING, n_jobs=JOBS)"
     ],
     "language": "python",
     "metadata": {},
     "outputs": [
      {
       "output_type": "display_data",
       "png": "[encoded data removed]",
       "text": [
        "<matplotlib.figure.Figure at 0x1002bc350>"
       ]
      }
     ],
     "prompt_number": 7
    },
    {
     "cell_type": "code",
     "collapsed": false,
     "input": [
      "print 'Best score of', best_score, 'when setting', param_name, 'to',  param_val"
     ],
     "language": "python",
     "metadata": {},
     "outputs": [
      {
       "output_type": "stream",
       "stream": "stdout",
       "text": [
        "Best score of 0.362771314551 when setting max_features to 150\n"
       ]
      }
     ],
     "prompt_number": 8
    },
    {
     "cell_type": "code",
     "collapsed": false,
     "input": [
      "best_score, param_val, param_name = \\\n",
      "    plot_validation_curve(clf,\n",
      "                          # X_train, Y_train,\n",
      "                          X, Y,\n",
      "                          \"n_estimators\", [5, 7, 10, 11, 13, 15, 17, 19, 23, 25, 29],\n",
      "                          \"n_estimators Validation Curve\",\n",
      "                          cv=cv, scoring=SCORING, n_jobs=JOBS, scale='linear')"
     ],
     "language": "python",
     "metadata": {},
     "outputs": [
      {
       "output_type": "display_data",
       "png": "[encoded data removed]",
       "text": [
        "<matplotlib.figure.Figure at 0x1086c8750>"
       ]
      }
     ],
     "prompt_number": 9
    },
    {
     "cell_type": "code",
     "collapsed": false,
     "input": [
      "print 'Best score of', best_score, 'when setting', param_name, 'to',  param_val"
     ],
     "language": "python",
     "metadata": {},
     "outputs": [
      {
       "output_type": "stream",
       "stream": "stdout",
       "text": [
        "Best score of 0.390505901665 when setting n_estimators to 23\n"
       ]
      }
     ],
     "prompt_number": 10
    },
    {
     "cell_type": "heading",
     "level": 3,
     "metadata": {},
     "source": [
      "Learning Curve"
     ]
    },
    {
     "cell_type": "code",
     "collapsed": false,
     "input": [
      "title = \"Learning Curves for Extra Trees Classifier\"\n",
      "my_plot_learning_curve(clf, title, X, Y,\n",
      "                           n_jobs=JOBS, future=100,\n",
      "                           history_sizes=[100, 200, 300, 500, 700, 1000])\n",
      "plt.show()"
     ],
     "language": "python",
     "metadata": {},
     "outputs": [
      {
       "output_type": "display_data",
       "png": "[encoded data removed]",
       "text": [
        "<matplotlib.figure.Figure at 0x126c34d90>"
       ]
      }
     ],
     "prompt_number": 11
    },
    {
     "cell_type": "heading",
     "level": 3,
     "metadata": {},
     "source": [
      "Prediction Curve"
     ]
    },
    {
     "cell_type": "code",
     "collapsed": false,
     "input": [
      "title = \"Prediction Horizon Curve for Extra Trees Classifier\"\n",
      "plot_prediction_curve(clf, title, X, Y,\n",
      "                           n_jobs=JOBS, history=1000,\n",
      "                           future_sizes=[100, 200, 300, 500])\n",
      "plt.show()"
     ],
     "language": "python",
     "metadata": {},
     "outputs": [
      {
       "output_type": "display_data",
       "png": "[encoded data removed]",
       "text": [
        "<matplotlib.figure.Figure at 0x12c219e90>"
       ]
      }
     ],
     "prompt_number": 12
    },
    {
     "cell_type": "code",
     "collapsed": false,
     "input": [
      "ET_results = eval_predictions(clf, X, Y, history_sizes=[300, 500, 700, 1000], future_sizes=[100, 200, 500])"
     ],
     "language": "python",
     "metadata": {},
     "outputs": [
      {
       "output_type": "stream",
       "stream": "stdout",
       "text": [
        "** Predictions for hist=300 future=100 **\n",
        "\n",
        "F1:        0.31  +/- 0.15\n",
        "Accuracy:  0.75  +/- 0.07\n",
        "Precision: 0.41  +/- 0.16\n",
        "Recall:    0.27  +/- 0.15\n",
        "\n",
        "Aggregate Confusion Matrix - 10 iterations\n",
        "[[682  82]\n",
        " [165  71]]\n",
        "\n",
        "\n",
        "** Predictions for hist=300 future=200 **"
       ]
      },
      {
       "output_type": "stream",
       "stream": "stdout",
       "text": [
        "\n",
        "\n",
        "F1:        0.36  +/- 0.10\n",
        "Accuracy:  0.69  +/- 0.08\n",
        "Precision: 0.42  +/- 0.11\n",
        "Recall:    0.34  +/- 0.13\n",
        "\n",
        "Aggregate Confusion Matrix - 10 iterations\n",
        "[[1176  278]\n",
        " [ 349  197]]\n",
        "\n",
        "\n",
        "** Predictions for hist=300 future=500 **"
       ]
      },
      {
       "output_type": "stream",
       "stream": "stdout",
       "text": [
        "\n",
        "\n",
        "F1:        0.37  +/- 0.09\n",
        "Accuracy:  0.69  +/- 0.06\n",
        "Precision: 0.51  +/- 0.13\n",
        "Recall:    0.29  +/- 0.08\n",
        "\n",
        "Aggregate Confusion Matrix - 10 iterations\n",
        "[[2919  440]\n",
        " [1131  510]]\n",
        "\n",
        "\n",
        "** Predictions for hist=500 future=100 **"
       ]
      },
      {
       "output_type": "stream",
       "stream": "stdout",
       "text": [
        "\n",
        "\n",
        "F1:        0.38  +/- 0.13\n",
        "Accuracy:  0.73  +/- 0.11\n",
        "Precision: 0.57  +/- 0.11\n",
        "Recall:    0.32  +/- 0.15\n",
        "\n",
        "Aggregate Confusion Matrix - 10 iterations\n",
        "[[627  79]\n",
        " [193 101]]\n",
        "\n",
        "\n",
        "** Predictions for hist=500 future=200 **"
       ]
      },
      {
       "output_type": "stream",
       "stream": "stdout",
       "text": [
        "\n",
        "\n",
        "F1:        0.36  +/- 0.07\n",
        "Accuracy:  0.67  +/- 0.07\n",
        "Precision: 0.50  +/- 0.13\n",
        "Recall:    0.30  +/- 0.09\n",
        "\n",
        "Aggregate Confusion Matrix - 10 iterations\n",
        "[[1130  213]\n",
        " [ 456  201]]\n",
        "\n",
        "\n",
        "** Predictions for hist=500 future=500 **"
       ]
      },
      {
       "output_type": "stream",
       "stream": "stdout",
       "text": [
        "\n",
        "\n",
        "F1:        0.36  +/- 0.08\n",
        "Accuracy:  0.69  +/- 0.08\n",
        "Precision: 0.39  +/- 0.07\n",
        "Recall:    0.35  +/- 0.11\n",
        "\n",
        "Aggregate Confusion Matrix - 10 iterations\n",
        "[[2970  720]\n",
        " [ 829  481]]\n",
        "\n",
        "\n",
        "** Predictions for hist=700 future=100 **"
       ]
      },
      {
       "output_type": "stream",
       "stream": "stdout",
       "text": [
        "\n",
        "\n",
        "F1:        0.35  +/- 0.06\n",
        "Accuracy:  0.70  +/- 0.07\n",
        "Precision: 0.43  +/- 0.10\n",
        "Recall:    0.30  +/- 0.06\n",
        "\n",
        "Aggregate Confusion Matrix - 10 iterations\n",
        "[[610 108]\n",
        " [196  86]]\n",
        "\n",
        "\n",
        "** Predictions for hist=700 future=200 **"
       ]
      },
      {
       "output_type": "stream",
       "stream": "stdout",
       "text": [
        "\n",
        "\n",
        "F1:        0.36  +/- 0.14\n",
        "Accuracy:  0.71  +/- 0.08\n",
        "Precision: 0.41  +/- 0.09\n",
        "Recall:    0.35  +/- 0.16\n",
        "\n",
        "Aggregate Confusion Matrix - 10 iterations\n",
        "[[1220  255]\n",
        " [ 322  203]]\n",
        "\n",
        "\n",
        "** Predictions for hist=700 future=500 **"
       ]
      },
      {
       "output_type": "stream",
       "stream": "stdout",
       "text": [
        "\n",
        "\n",
        "F1:        0.34  +/- 0.08\n",
        "Accuracy:  0.75  +/- 0.06\n",
        "Precision: 0.40  +/- 0.05\n",
        "Recall:    0.31  +/- 0.10\n",
        "\n",
        "Aggregate Confusion Matrix - 10 iterations\n",
        "[[3394  525]\n",
        " [ 723  358]]\n",
        "\n",
        "\n",
        "** Predictions for hist=1000 future=100 **"
       ]
      },
      {
       "output_type": "stream",
       "stream": "stdout",
       "text": [
        "\n",
        "\n",
        "F1:        0.38  +/- 0.13\n",
        "Accuracy:  0.77  +/- 0.06\n",
        "Precision: 0.42  +/- 0.10\n",
        "Recall:    0.36  +/- 0.16\n",
        "\n",
        "Aggregate Confusion Matrix - 10 iterations\n",
        "[[678 102]\n",
        " [133  87]]\n",
        "\n",
        "\n",
        "** Predictions for hist=1000 future=200 **"
       ]
      },
      {
       "output_type": "stream",
       "stream": "stdout",
       "text": [
        "\n",
        "\n",
        "F1:        0.38  +/- 0.11\n",
        "Accuracy:  0.74  +/- 0.09\n",
        "Precision: 0.52  +/- 0.17\n",
        "Recall:    0.35  +/- 0.13\n",
        "\n",
        "Aggregate Confusion Matrix - 10 iterations\n",
        "[[1301  220]\n",
        " [ 297  182]]\n",
        "\n",
        "\n",
        "** Predictions for hist=1000 future=500 **"
       ]
      },
      {
       "output_type": "stream",
       "stream": "stdout",
       "text": [
        "\n",
        "\n",
        "F1:        0.38  +/- 0.08\n",
        "Accuracy:  0.72  +/- 0.04\n",
        "Precision: 0.39  +/- 0.06\n",
        "Recall:    0.37  +/- 0.10\n",
        "\n",
        "Aggregate Confusion Matrix - 10 iterations\n",
        "[[3168  670]\n",
        " [ 710  452]]\n",
        "\n",
        "\n"
       ]
      }
     ],
     "prompt_number": 13
    },
    {
     "cell_type": "code",
     "collapsed": false,
     "input": [
      "ET_clf = clf"
     ],
     "language": "python",
     "metadata": {},
     "outputs": [],
     "prompt_number": 14
    }
   ],
   "metadata": {}
  }
 ]
}