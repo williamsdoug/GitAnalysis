{
 "metadata": {
  "name": "",
  "signature": "sha256:8d341bb92be9299835814cf1a7a91303caf416315f33ba5d689a075d11f713ef"
 },
 "nbformat": 3,
 "nbformat_minor": 0,
 "worksheets": [
  {
   "cells": [
    {
     "cell_type": "markdown",
     "metadata": {},
     "source": [
      "#Python Code Complexity using Radon Package\n",
      "\n",
      "This notebook explores use of Radon package to compute complexity metrics\n",
      "\n",
      "Radon: http://radon.readthedocs.org/en/latest/index.html\n",
      "\n",
      "######Metrics:\n",
      "- Halstead: http://en.wikipedia.org/wiki/Halstead_complexity_measures\n",
      "- Cyclomatic Complexity (McCabe): http://en.wikipedia.org/wiki/Cyclomatic_complexity\n",
      "- Maintainability Index:\n",
      " - Concerns about MI: http://avandeursen.com/2014/08/29/think-twice-before-using-the-maintainability-index/\n",
      "- Per-function statement/expression/node depth  (my code)\n",
      "\n",
      "###Nomenclaure:\n",
      "- AST, ST - Abstract Syntax Tree  (from Python standatd library)"
     ]
    },
    {
     "cell_type": "code",
     "collapsed": false,
     "input": [
      "import ast\n",
      "from pprint import pprint\n",
      "import collections\n",
      "\n",
      "import radon\n",
      "import radon.visitors\n",
      "import radon.complexity\n",
      "import radon.raw\n",
      "import radon.metrics\n",
      "\n",
      "import sys\n",
      "sys.path.append('./dev')\n",
      "from python_introspection import getDepth, displayDepthResults"
     ],
     "language": "python",
     "metadata": {},
     "outputs": [],
     "prompt_number": 1
    },
    {
     "cell_type": "heading",
     "level": 1,
     "metadata": {},
     "source": [
      "Configuration"
     ]
    },
    {
     "cell_type": "code",
     "collapsed": false,
     "input": [
      "dir_name_gitanalysis = '/Users/doug/SW_Dev/GitAnalysis/dev/'\n",
      "dir_name_nova = '/Users/doug/SW_Dev/nova/'"
     ],
     "language": "python",
     "metadata": {},
     "outputs": [],
     "prompt_number": 2
    },
    {
     "cell_type": "heading",
     "level": 1,
     "metadata": {},
     "source": [
      "Code"
     ]
    },
    {
     "cell_type": "code",
     "collapsed": false,
     "input": [
      "def get_all_stats_for_pool(starting_dir):\n",
      "    \"\"\"Determines stats across source pool\"\"\"\n",
      "    results = {}\n",
      "    for fname in get_all_files(starting_dir, pattern='*.py'):\n",
      "        st = get_st_from_file(fname)\n",
      "        results[fname] = get_stats(st)\n",
      "    return combine_stats(results.values()), results"
     ],
     "language": "python",
     "metadata": {},
     "outputs": [],
     "prompt_number": 3
    },
    {
     "cell_type": "heading",
     "level": 1,
     "metadata": {},
     "source": [
      "Data"
     ]
    },
    {
     "cell_type": "heading",
     "level": 6,
     "metadata": {},
     "source": [
      "Small sample"
     ]
    },
    {
     "cell_type": "code",
     "collapsed": false,
     "input": [
      "small_code = \"\"\"\n",
      "def get_commit_blueprint(msg):\n",
      "    blueprint = False\n",
      "    if 'blueprint' in msg.lower():\n",
      "        for line in msg.lower().splitlines():\n",
      "            if 'blueprint' in line:\n",
      "                if '//blueprints.launchpad.net' in line:\n",
      "                    blueprint = line.split('/')[-1]\n",
      "                    return blueprint\n",
      "                else:\n",
      "                    m = RE_BLUEPRINT_TEMPLATE1.search(line)\n",
      "                    if m:\n",
      "                        blueprint = m.group(1)\n",
      "                        if blueprint.endswith('.'):\n",
      "                            blueprint = blueprint[:-1]\n",
      "                        return blueprint\n",
      "    if 'bp' in msg.lower():\n",
      "        for line in msg.lower().splitlines():\n",
      "            if 'bp' in line:\n",
      "                m = RE_BLUEPRINT_TEMPLATE2.search(line)\n",
      "                if m:\n",
      "                    blueprint = m.group(1)\n",
      "                    if blueprint.endswith('.'):\n",
      "                        blueprint = blueprint[:-1]\n",
      "                    return blueprint\n",
      "    return False\n",
      "\"\"\""
     ],
     "language": "python",
     "metadata": {},
     "outputs": [],
     "prompt_number": 4
    },
    {
     "cell_type": "code",
     "collapsed": false,
     "input": [
      "small_st = ast.parse(small_code)"
     ],
     "language": "python",
     "metadata": {},
     "outputs": [],
     "prompt_number": 5
    },
    {
     "cell_type": "heading",
     "level": 6,
     "metadata": {},
     "source": [
      "Sample python file"
     ]
    },
    {
     "cell_type": "code",
     "collapsed": false,
     "input": [
      "fname = '/Users/doug/SW_Dev/GitAnalysis/dev/git_extract.py'"
     ],
     "language": "python",
     "metadata": {},
     "outputs": [],
     "prompt_number": 6
    },
    {
     "cell_type": "code",
     "collapsed": false,
     "input": [
      "with open(fname) as f:\n",
      "    sample_file_txt = f.read()"
     ],
     "language": "python",
     "metadata": {},
     "outputs": [],
     "prompt_number": 7
    },
    {
     "cell_type": "code",
     "collapsed": false,
     "input": [
      "sample_file_st = ast.parse(sample_file_txt)"
     ],
     "language": "python",
     "metadata": {},
     "outputs": [],
     "prompt_number": 8
    },
    {
     "cell_type": "heading",
     "level": 1,
     "metadata": {},
     "source": [
      "Samples"
     ]
    },
    {
     "cell_type": "heading",
     "level": 3,
     "metadata": {},
     "source": [
      "ComplexityVisitor"
     ]
    },
    {
     "cell_type": "code",
     "collapsed": false,
     "input": [
      "v = radon.visitors.ComplexityVisitor.from_ast(small_st)\n",
      "v.functions"
     ],
     "language": "python",
     "metadata": {},
     "outputs": [
      {
       "metadata": {},
       "output_type": "pyout",
       "prompt_number": 9,
       "text": [
        "[Function(name='get_commit_blueprint', lineno=2, col_offset=0, endline=26, is_method=False, classname=None, closures=[], complexity=12)]"
       ]
      }
     ],
     "prompt_number": 9
    },
    {
     "cell_type": "code",
     "collapsed": false,
     "input": [
      "v = radon.visitors.ComplexityVisitor.from_code(small_code)\n",
      "v.functions"
     ],
     "language": "python",
     "metadata": {},
     "outputs": [
      {
       "metadata": {},
       "output_type": "pyout",
       "prompt_number": 10,
       "text": [
        "[Function(name='get_commit_blueprint', lineno=2, col_offset=0, endline=26, is_method=False, classname=None, closures=[], complexity=12)]"
       ]
      }
     ],
     "prompt_number": 10
    },
    {
     "cell_type": "code",
     "collapsed": false,
     "input": [
      "v.classes"
     ],
     "language": "python",
     "metadata": {},
     "outputs": [
      {
       "metadata": {},
       "output_type": "pyout",
       "prompt_number": 11,
       "text": [
        "[]"
       ]
      }
     ],
     "prompt_number": 11
    },
    {
     "cell_type": "code",
     "collapsed": false,
     "input": [
      "v.complexity"
     ],
     "language": "python",
     "metadata": {},
     "outputs": [
      {
       "metadata": {},
       "output_type": "pyout",
       "prompt_number": 12,
       "text": [
        "1"
       ]
      }
     ],
     "prompt_number": 12
    },
    {
     "cell_type": "code",
     "collapsed": false,
     "input": [
      "# All the blocks visited. These include: all the functions, the\n",
      "# classes and their methods. The returned list is not sorted.\n",
      "v.blocks"
     ],
     "language": "python",
     "metadata": {},
     "outputs": [
      {
       "metadata": {},
       "output_type": "pyout",
       "prompt_number": 13,
       "text": [
        "[Function(name='get_commit_blueprint', lineno=2, col_offset=0, endline=26, is_method=False, classname=None, closures=[], complexity=12)]"
       ]
      }
     ],
     "prompt_number": 13
    },
    {
     "cell_type": "code",
     "collapsed": false,
     "input": [
      "# The total complexity from all classes (i.e. the total number of\n",
      "# decision points + 1).\n",
      "v.classes_complexity"
     ],
     "language": "python",
     "metadata": {},
     "outputs": [
      {
       "metadata": {},
       "output_type": "pyout",
       "prompt_number": 14,
       "text": [
        "0"
       ]
      }
     ],
     "prompt_number": 14
    },
    {
     "cell_type": "code",
     "collapsed": false,
     "input": [
      "# The total complexity from all functions (i.e. the total number of\n",
      "# decision points + 1).\n",
      "#\n",
      "# This is *not* the sum of all the complexity from the functions. Rather,\n",
      "# it's the complexity of the code *inside* all the functions.\n",
      "v.functions_complexity"
     ],
     "language": "python",
     "metadata": {},
     "outputs": [
      {
       "metadata": {},
       "output_type": "pyout",
       "prompt_number": 15,
       "text": [
        "11"
       ]
      }
     ],
     "prompt_number": 15
    },
    {
     "cell_type": "code",
     "collapsed": false,
     "input": [
      "# The maximum line number among the analyzed lines\n",
      "v.max_line"
     ],
     "language": "python",
     "metadata": {},
     "outputs": [
      {
       "metadata": {},
       "output_type": "pyout",
       "prompt_number": 16,
       "text": [
        "-inf"
       ]
      }
     ],
     "prompt_number": 16
    },
    {
     "cell_type": "code",
     "collapsed": false,
     "input": [
      "# The total complexity. Computed adding up the visitor complexity, the\n",
      "# functions complexity, and the classes complexity.\n",
      "v.total_complexity"
     ],
     "language": "python",
     "metadata": {},
     "outputs": [
      {
       "metadata": {},
       "output_type": "pyout",
       "prompt_number": 17,
       "text": [
        "12"
       ]
      }
     ],
     "prompt_number": 17
    },
    {
     "cell_type": "code",
     "collapsed": false,
     "input": [
      "radon.complexity.cc_visit(small_code)"
     ],
     "language": "python",
     "metadata": {},
     "outputs": [
      {
       "metadata": {},
       "output_type": "pyout",
       "prompt_number": 18,
       "text": [
        "[Function(name='get_commit_blueprint', lineno=2, col_offset=0, endline=26, is_method=False, classname=None, closures=[], complexity=12)]"
       ]
      }
     ],
     "prompt_number": 18
    },
    {
     "cell_type": "code",
     "collapsed": false,
     "input": [
      "radon.complexity.cc_visit_ast(small_st)"
     ],
     "language": "python",
     "metadata": {},
     "outputs": [
      {
       "metadata": {},
       "output_type": "pyout",
       "prompt_number": 19,
       "text": [
        "[Function(name='get_commit_blueprint', lineno=2, col_offset=0, endline=26, is_method=False, classname=None, closures=[], complexity=12)]"
       ]
      }
     ],
     "prompt_number": 19
    },
    {
     "cell_type": "heading",
     "level": 3,
     "metadata": {},
     "source": [
      "HalsteadVisitor"
     ]
    },
    {
     "cell_type": "code",
     "collapsed": false,
     "input": [
      "v = radon.visitors.HalsteadVisitor.from_code(small_code)"
     ],
     "language": "python",
     "metadata": {},
     "outputs": [],
     "prompt_number": 20
    },
    {
     "cell_type": "code",
     "collapsed": false,
     "input": [
      "# The number of distinct operands.\n",
      "v.distinct_operands"
     ],
     "language": "python",
     "metadata": {},
     "outputs": [
      {
       "metadata": {},
       "output_type": "pyout",
       "prompt_number": 21,
       "text": [
        "8"
       ]
      }
     ],
     "prompt_number": 21
    },
    {
     "cell_type": "code",
     "collapsed": false,
     "input": [
      "# The number of distinct operators.\n",
      "v.distinct_operators  "
     ],
     "language": "python",
     "metadata": {},
     "outputs": [
      {
       "metadata": {},
       "output_type": "pyout",
       "prompt_number": 22,
       "text": [
        "1"
       ]
      }
     ],
     "prompt_number": 22
    },
    {
     "cell_type": "heading",
     "level": 3,
     "metadata": {},
     "source": [
      "RAW"
     ]
    },
    {
     "cell_type": "code",
     "collapsed": false,
     "input": [
      "radon.raw.analyze(small_code)"
     ],
     "language": "python",
     "metadata": {},
     "outputs": [
      {
       "metadata": {},
       "output_type": "pyout",
       "prompt_number": 23,
       "text": [
        "Module(loc=26, lloc=27, sloc=25, comments=0, multi=0, blank=1)"
       ]
      }
     ],
     "prompt_number": 23
    },
    {
     "cell_type": "heading",
     "level": 3,
     "metadata": {},
     "source": [
      "Metrics"
     ]
    },
    {
     "cell_type": "code",
     "collapsed": false,
     "input": [
      "radon.metrics.h_visit(small_code)"
     ],
     "language": "python",
     "metadata": {},
     "outputs": [
      {
       "metadata": {},
       "output_type": "pyout",
       "prompt_number": 24,
       "text": [
        "Halstead(h1=1, h2=8, N1=5, N2=10, vocabulary=9, length=15, calculated_length=24.0, volume=47.548875021634686, difficulty=0.625, effort=29.718046888521677, time=1.651002604917871, bugs=0.01584962500721156)"
       ]
      }
     ],
     "prompt_number": 24
    },
    {
     "cell_type": "code",
     "collapsed": false,
     "input": [
      "radon.metrics.h_visit_ast(small_st)"
     ],
     "language": "python",
     "metadata": {},
     "outputs": [
      {
       "metadata": {},
       "output_type": "pyout",
       "prompt_number": 25,
       "text": [
        "Halstead(h1=1, h2=8, N1=5, N2=10, vocabulary=9, length=15, calculated_length=24.0, volume=47.548875021634686, difficulty=0.625, effort=29.718046888521677, time=1.651002604917871, bugs=0.01584962500721156)"
       ]
      }
     ],
     "prompt_number": 25
    },
    {
     "cell_type": "code",
     "collapsed": false,
     "input": [
      "# Given a source code snippet, compute the necessary parameters to compute the Maintainability Index metric. These include:\n",
      "#\n",
      "# - the Halstead Volume\n",
      "# - the Cyclomatic Complexity\n",
      "# - the number of LLOC (Logical Lines of Code)\n",
      "# - the percent of lines of comment\n",
      "radon.metrics.mi_parameters(small_code)"
     ],
     "language": "python",
     "metadata": {},
     "outputs": [
      {
       "metadata": {},
       "output_type": "pyout",
       "prompt_number": 26,
       "text": [
        "(47.548875021634686, 12, 27, 0.0)"
       ]
      }
     ],
     "prompt_number": 26
    },
    {
     "cell_type": "code",
     "collapsed": false,
     "input": [
      "radon.metrics.mi_compute(*radon.metrics.mi_parameters(small_code))"
     ],
     "language": "python",
     "metadata": {},
     "outputs": [
      {
       "metadata": {},
       "output_type": "pyout",
       "prompt_number": 27,
       "text": [
        "55.418889178628774"
       ]
      }
     ],
     "prompt_number": 27
    },
    {
     "cell_type": "code",
     "collapsed": false,
     "input": [
      "# preferred instead of above\n",
      "radon.metrics.mi_visit(small_code, True)"
     ],
     "language": "python",
     "metadata": {},
     "outputs": [
      {
       "metadata": {},
       "output_type": "pyout",
       "prompt_number": 28,
       "text": [
        "55.418889178628774"
       ]
      }
     ],
     "prompt_number": 28
    },
    {
     "cell_type": "heading",
     "level": 1,
     "metadata": {},
     "source": [
      "Try with larger file"
     ]
    },
    {
     "cell_type": "code",
     "collapsed": false,
     "input": [
      "print 'Sample Entry:'\n",
      "pprint (radon.complexity.cc_visit(sample_file_txt)[0])\n",
      "print\n",
      "for f in radon.complexity.cc_visit(sample_file_txt):\n",
      "    print f.name, (' '*35)[len(f.name):],f.lineno, f.endline, 'complexity=',f.complexity "
     ],
     "language": "python",
     "metadata": {},
     "outputs": [
      {
       "output_type": "stream",
       "stream": "stdout",
       "text": [
        "Sample Entry:\n",
        "Function(name='project_to_fname', lineno=161, col_offset=0, endline=175, is_method=False, classname=None, closures=[], complexity=6)"
       ]
      },
      {
       "output_type": "stream",
       "stream": "stdout",
       "text": [
        "\n",
        "\n",
        "project_to_fname"
       ]
      },
      {
       "output_type": "stream",
       "stream": "stdout",
       "text": [
        "                     161 175 complexity= 6\n",
        "filter_file                          178 185 complexity= 5\n",
        "parse_git_actor                      188 191 complexity= 1\n",
        "author_commiter_same                 194 204 complexity= 3\n",
        "parse_all_changes                    214 228 complexity= 4\n",
        "parse_bugs                           235 281 complexity= 21\n",
        "test_parse_bugs                      284 341 complexity= 7\n",
        "get_commit_blueprint                 348 372 complexity= 12\n",
        "test_get_commit_blueprint            375 382 complexity= 1\n",
        "annotate_blueprints                  385 394 complexity= 5\n",
        "annotate_cherry_pick                 400 413 complexity= 7\n",
        "parse_msg                            416 447 complexity= 10\n",
        "process_commits                      454 504 complexity= 13\n",
        "process_commit_files_unfiltered      507 531 complexity= 10\n",
        "parse_diff                           537 617 complexity= 19\n",
        "is_special_git_actor                 624 629 complexity= 3\n",
        "is_special_author                    632 635 complexity= 1\n",
        "is_special_committer                 638 643 complexity= 1\n",
        "is_merge_commit                      646 655 complexity= 5\n",
        "annotate_children                    663 670 complexity= 5\n",
        "annotate_mainline                    673 698 complexity= 5\n",
        "build_git_commits                    706 749 complexity= 5\n",
        "load_git_commits                     752 766 complexity= 11\n",
        "get_blame                            776 835 complexity= 13\n",
        "find_diff_ranges                     838 852 complexity= 4\n",
        "assign_blame                         855 872 complexity= 5\n",
        "process_commit_details               875 907 complexity= 11\n",
        "filter_bug_fix_combined_commits      929 936 complexity= 6\n",
        "filter_bug_fix_commits               940 947 complexity= 6\n",
        "identify_jenkins_commit              956 959 complexity= 4\n",
        "find_legacy_cutoff                   969 1015 complexity= 16\n",
        "get_commit_ordering_min_max          1022 1029 complexity= 4\n",
        "git_annotate_commit_order            1032 1043 complexity= 6\n",
        "git_annotate_author_order            1046 1057 complexity= 5\n",
        "git_annotate_file_order              1060 1072 complexity= 6\n",
        "git_annotate_file_order_by_author    1075 1091 complexity= 7\n",
        "git_annotate_order                   1094 1105 complexity= 1\n",
        "annotate_commit_loc                  1111 1199 complexity= 18\n",
        "get_git_master_commit                1206 1209 complexity= 1\n",
        "get_authors_and_files                1212 1221 complexity= 4\n",
        "extract_master_commit                1224 1232 complexity= 5\n",
        "extract_origin_commit                1235 1246 complexity= 4\n",
        "get_all_files_from_tree              1249 1255 complexity= 3\n",
        "get_all_files_from_commit            1258 1271 complexity= 5\n",
        "compute_git_actor_dedupe             1274 1375 complexity= 29\n"
       ]
      }
     ],
     "prompt_number": 29
    },
    {
     "cell_type": "heading",
     "level": 6,
     "metadata": {},
     "source": [
      "Extract a code snippet using data from above"
     ]
    },
    {
     "cell_type": "code",
     "collapsed": false,
     "input": [
      "result = radon.complexity.cc_visit(sample_file_txt)\n",
      "startline = result[0].lineno - 1  # adjust since lineno starts at 1 \n",
      "endline = result[0].endline + 1\n",
      "txt = '\\n'.join(sample_file_txt.split('\\n')[startline:endline]) + '\\n'\n",
      "print txt"
     ],
     "language": "python",
     "metadata": {},
     "outputs": [
      {
       "output_type": "stream",
       "stream": "stdout",
       "text": [
        "def project_to_fname(project, patches=False, combined=False,\n",
        "                     blame=False, reachable=False, loc=False):\n",
        "    prefix = get_corpus_dir(project)\n",
        "    if patches:\n",
        "        return prefix + project + \"_patch_data.jsonz\"\n",
        "    elif combined:\n",
        "        return prefix + project + \"_combined_commits.jsonz\"\n",
        "    elif blame:\n",
        "        return prefix + project + \"_all_blame.jsonz\"\n",
        "    elif reachable:\n",
        "        return prefix + project + \"_reachable.jsonz\"\n",
        "    elif loc:\n",
        "        return prefix + project + \"_loc.jsonz\"\n",
        "    else:\n",
        "        return prefix + project + \"_commits.jsonz\"\n",
        "\n",
        "\n"
       ]
      }
     ],
     "prompt_number": 30
    },
    {
     "cell_type": "code",
     "collapsed": false,
     "input": [
      "radon.metrics.h_visit(sample_file_txt)"
     ],
     "language": "python",
     "metadata": {},
     "outputs": [
      {
       "metadata": {},
       "output_type": "pyout",
       "prompt_number": 31,
       "text": [
        "Halstead(h1=16, h2=326, N1=191, N2=399, vocabulary=342, length=590, calculated_length=2785.685378279331, volume=4966.532983782679, difficulty=9.791411042944786, effort=48629.36590255924, time=2701.631439031069, bugs=1.6555109945942263)"
       ]
      }
     ],
     "prompt_number": 31
    },
    {
     "cell_type": "code",
     "collapsed": false,
     "input": [
      "radon.metrics.mi_parameters(sample_file_txt)"
     ],
     "language": "python",
     "metadata": {},
     "outputs": [
      {
       "metadata": {},
       "output_type": "pyout",
       "prompt_number": 32,
       "text": [
        "(4966.532983782679, 279, 767, 25.95486111111111)"
       ]
      }
     ],
     "prompt_number": 32
    },
    {
     "cell_type": "code",
     "collapsed": false,
     "input": [
      "radon.metrics.mi_visit(sample_file_txt, True)"
     ],
     "language": "python",
     "metadata": {},
     "outputs": [
      {
       "metadata": {},
       "output_type": "pyout",
       "prompt_number": 33,
       "text": [
        "0.0"
       ]
      }
     ],
     "prompt_number": 33
    },
    {
     "cell_type": "code",
     "collapsed": false,
     "input": [
      "radon.metrics.mi_compute(*radon.metrics.mi_parameters(sample_file_txt))"
     ],
     "language": "python",
     "metadata": {},
     "outputs": [
      {
       "metadata": {},
       "output_type": "pyout",
       "prompt_number": 34,
       "text": [
        "0.0"
       ]
      }
     ],
     "prompt_number": 34
    },
    {
     "cell_type": "heading",
     "level": 3,
     "metadata": {},
     "source": [
      "Combined methods on a per-routine basis"
     ]
    },
    {
     "cell_type": "code",
     "collapsed": false,
     "input": [
      "sample_file_lines = sample_file_txt.split('\\n')\n",
      "result = radon.complexity.cc_visit(sample_file_txt)\n",
      "print\n",
      "for entry in result:\n",
      "    startline = entry.lineno - 1  # adjust since lineno starts at 1 \n",
      "    endline = entry.endline + 1\n",
      "    txt = '\\n'.join(sample_file_lines[startline:endline]) + '\\n'\n",
      "    print entry.name, (' '*35)[len(entry.name):],\n",
      "    print entry.lineno, entry.endline\n",
      "    print '    CC:', entry.complexity\n",
      "    hal = radon.metrics.h_visit(txt)\n",
      "    print '     H: %.2f (difficulty)'% hal.difficulty\n",
      "    print '        %.2f (bugs)'% hal.bugs\n",
      "    print '    MI: %.2f' % radon.metrics.mi_visit(txt, True)"
     ],
     "language": "python",
     "metadata": {},
     "outputs": [
      {
       "output_type": "stream",
       "stream": "stdout",
       "text": [
        "\n",
        "project_to_fname                     161 175\n",
        "    CC: 6\n",
        "     H: 0.86 (difficulty)\n",
        "        0.05 (bugs)\n",
        "    MI: 59.15\n",
        "filter_file                          178 185\n",
        "    CC: 5\n",
        "     H: 0.00 (difficulty)\n",
        "        0.00 (bugs)\n",
        "    MI: 100.00\n",
        "parse_git_actor                      188 191\n",
        "    CC: 1\n",
        "     H: 0.00 (difficulty)\n",
        "        0.00 (bugs)\n",
        "    MI: 100.00\n",
        "author_commiter_same                 194 204\n",
        "    CC: 3\n",
        "     H: 1.50 (difficulty)\n",
        "        0.02 (bugs)\n",
        "    MI: 95.76\n",
        "parse_all_changes                    214 228\n",
        "    CC: 4\n",
        "     H: 0.50 (difficulty)\n",
        "        0.00 (bugs)\n",
        "    MI: 100.00\n",
        "parse_bugs                           235 281\n",
        "    CC: 21\n",
        "     H: 2.67 (difficulty)\n",
        "        0.09 (bugs)\n",
        "    MI: 76.60\n",
        "test_parse_bugs                      284 341\n",
        "    CC: 7\n",
        "     H: 2.12 (difficulty)\n",
        "        0.04 (bugs)\n",
        "    MI: 69.72\n",
        "get_commit_blueprint                 348 372\n",
        "    CC: 12\n",
        "     H: 0.62 (difficulty)\n",
        "        0.02 (bugs)\n",
        "    MI: 55.42\n",
        "test_get_commit_blueprint            375 382\n",
        "    CC: 1\n",
        "     H: 0.00 (difficulty)\n",
        "        0.00 (bugs)\n",
        "    MI: 100.00\n",
        "annotate_blueprints                  385 394\n",
        "    CC: 5\n",
        "     H: 0.00 (difficulty)\n",
        "        0.00 (bugs)\n",
        "    MI: 100.00\n",
        "annotate_cherry_pick                 400 413\n",
        "    CC: 7\n",
        "     H: 1.00 (difficulty)\n",
        "        0.01 (bugs)\n",
        "    MI: 80.11\n",
        "parse_msg                            416 447\n",
        "    CC: 10\n",
        "     H: 1.50 (difficulty)\n",
        "        0.01 (bugs)\n",
        "    MI: 78.66"
       ]
      },
      {
       "output_type": "stream",
       "stream": "stdout",
       "text": [
        "\n",
        "process_commits                      454 504\n",
        "    CC: 13\n",
        "     H: 4.00 (difficulty)\n",
        "        0.03 (bugs)\n",
        "    MI: 71.57\n",
        "process_commit_files_unfiltered      507 531\n",
        "    CC: 10\n",
        "     H: 0.50 (difficulty)\n",
        "        0.00 (bugs)\n",
        "    MI: 79.09\n",
        "parse_diff                           537 617\n",
        "    CC: 19\n",
        "     H: 3.75 (difficulty)\n",
        "        0.06 (bugs)\n",
        "    MI: 64.21\n",
        "is_special_git_actor                 624 629\n",
        "    CC: 3\n",
        "     H: 0.50 (difficulty)\n",
        "        0.00 (bugs)\n",
        "    MI: 77.88\n",
        "is_special_author                    632 635\n",
        "    CC: 1\n",
        "     H: 0.00 (difficulty)\n",
        "        0.00 (bugs)\n",
        "    MI: 100.00\n",
        "is_special_committer                 638 643\n",
        "    CC: 1\n",
        "     H: 0.00 (difficulty)\n",
        "        0.00 (bugs)\n",
        "    MI: 100.00\n",
        "is_merge_commit                      646 655\n",
        "    CC: 5\n",
        "     H: 1.50 (difficulty)\n",
        "        0.01 (bugs)\n",
        "    MI: 69.44\n",
        "annotate_children                    663 670\n",
        "    CC: 5\n",
        "     H: 0.00 (difficulty)\n",
        "        0.00 (bugs)\n",
        "    MI: 100.00\n",
        "annotate_mainline                    673 698\n",
        "    CC: 5\n",
        "     H: 1.80 (difficulty)\n",
        "        0.01 (bugs)\n",
        "    MI: 83.16\n",
        "build_git_commits                    706 749\n",
        "    CC: 5\n",
        "     H: 1.00 (difficulty)\n",
        "        0.00 (bugs)\n",
        "    MI: 88.19\n",
        "load_git_commits                     752 766\n",
        "    CC: 11\n",
        "     H: 1.67 (difficulty)\n",
        "        0.03 (bugs)\n",
        "    MI: 64.53\n",
        "get_blame                            776 835\n",
        "    CC: 13\n",
        "     H: 1.61 (difficulty)\n",
        "        0.07 (bugs)\n",
        "    MI: 66.11"
       ]
      },
      {
       "output_type": "stream",
       "stream": "stdout",
       "text": [
        "\n",
        "find_diff_ranges                     838 852\n",
        "    CC: 4\n",
        "     H: 1.00 (difficulty)\n",
        "        0.01 (bugs)\n",
        "    MI: 89.67\n",
        "assign_blame                         855 872\n",
        "    CC: 5\n",
        "     H: 1.00 (difficulty)\n",
        "        0.01 (bugs)\n",
        "    MI: 84.08\n",
        "process_commit_details               875 907\n",
        "    CC: 11\n",
        "     H: 1.96 (difficulty)\n",
        "        0.03 (bugs)\n",
        "    MI: 83.15\n",
        "filter_bug_fix_combined_commits      929 936\n",
        "    CC: 6\n",
        "     H: 1.08 (difficulty)\n",
        "        0.02 (bugs)\n",
        "    MI: 70.85\n",
        "filter_bug_fix_commits               940 947\n",
        "    CC: 6\n",
        "     H: 1.08 (difficulty)\n",
        "        0.02 (bugs)\n",
        "    MI: 70.85\n",
        "identify_jenkins_commit              956 959\n",
        "    CC: 4\n",
        "     H: 1.00 (difficulty)\n",
        "        0.01 (bugs)\n",
        "    MI: 80.72\n",
        "find_legacy_cutoff                   969 1015\n",
        "    CC: 16\n",
        "     H: 4.87 (difficulty)\n",
        "        0.07 (bugs)\n",
        "    MI: 64.26\n",
        "get_commit_ordering_min_max          1022 1029\n",
        "    CC: 4\n",
        "     H: 1.00 (difficulty)\n",
        "        0.01 (bugs)\n",
        "    MI: 72.69\n",
        "git_annotate_commit_order            1032 1043\n",
        "    CC: 6\n",
        "     H: 1.00 (difficulty)\n",
        "        0.01 (bugs)\n",
        "    MI: 86.14\n",
        "git_annotate_author_order            1046 1057\n",
        "    CC: 5\n",
        "     H: 1.00 (difficulty)\n",
        "        0.01 (bugs)\n",
        "    MI: 69.18\n",
        "git_annotate_file_order              1060 1072\n",
        "    CC: 6\n",
        "     H: 1.00 (difficulty)\n",
        "        0.01 (bugs)\n",
        "    MI: 85.24\n",
        "git_annotate_file_order_by_author    1075 1091\n",
        "    CC: 7\n",
        "     H: 1.00 (difficulty)\n",
        "        0.01 (bugs)\n",
        "    MI: 80.63\n",
        "git_annotate_order                   1094 1105\n",
        "    CC: 1\n",
        "     H: 0.00 (difficulty)\n",
        "        0.00 (bugs)\n",
        "    MI: 100.00\n",
        "annotate_commit_loc                  1111 1199\n",
        "    CC: 18\n",
        "     H: 5.04 (difficulty)"
       ]
      },
      {
       "output_type": "stream",
       "stream": "stdout",
       "text": [
        "\n",
        "        0.07 (bugs)\n",
        "    MI: 67.33\n",
        "get_git_master_commit                1206 1209\n",
        "    CC: 1\n",
        "     H: 0.00 (difficulty)\n",
        "        0.00 (bugs)\n",
        "    MI: 100.00\n",
        "get_authors_and_files                1212 1221\n",
        "    CC: 4\n",
        "     H: 0.50 (difficulty)\n",
        "        0.00 (bugs)\n",
        "    MI: 75.54\n",
        "extract_master_commit                1224 1232\n",
        "    CC: 5\n",
        "     H: 1.00 (difficulty)\n",
        "        0.01 (bugs)\n",
        "    MI: 70.18\n",
        "extract_origin_commit                1235 1246\n",
        "    CC: 4\n",
        "     H: 1.00 (difficulty)\n",
        "        0.01 (bugs)\n",
        "    MI: 92.91\n",
        "get_all_files_from_tree              1249 1255\n",
        "    CC: 3\n",
        "     H: 0.60 (difficulty)\n",
        "        0.01 (bugs)\n",
        "    MI: 71.59\n",
        "get_all_files_from_commit            1258 1271\n",
        "    CC: 5\n",
        "     H: 0.00 (difficulty)\n",
        "        0.00 (bugs)\n",
        "    MI: 100.00\n",
        "compute_git_actor_dedupe             1274 1375\n",
        "    CC: 29\n",
        "     H: 4.60 (difficulty)\n",
        "        0.06 (bugs)\n",
        "    MI: 57.60\n"
       ]
      }
     ],
     "prompt_number": 35
    },
    {
     "cell_type": "heading",
     "level": 1,
     "metadata": {},
     "source": [
      "Compute Depth"
     ]
    },
    {
     "cell_type": "code",
     "collapsed": false,
     "input": [
      "getDepth(small_st)"
     ],
     "language": "python",
     "metadata": {},
     "outputs": [
      {
       "metadata": {},
       "output_type": "pyout",
       "prompt_number": 36,
       "text": [
        "({'expr': {'avg_depth': 1.927710843373494,\n",
        "   'instances': 83,\n",
        "   'max_depth': 5,\n",
        "   'sum_of_depth': 160},\n",
        "  'node': {'avg_depth': 5.9226190476190474,\n",
        "   'instances': 168,\n",
        "   'max_depth': 10,\n",
        "   'sum_of_depth': 995},\n",
        "  'stmt': {'avg_depth': 4.833333333333333,\n",
        "   'instances': 24,\n",
        "   'max_depth': 8,\n",
        "   'sum_of_depth': 116}},\n",
        " [{'expr': {'avg_depth': 1.927710843373494,\n",
        "    'depth': 0,\n",
        "    'instances': 83,\n",
        "    'max_depth': 5,\n",
        "    'sum_of_depth': 160},\n",
        "   'name': 'get_commit_blueprint',\n",
        "   'node': {'avg_depth': 5.9226190476190474,\n",
        "    'depth': -1,\n",
        "    'instances': 168,\n",
        "    'max_depth': 10,\n",
        "    'sum_of_depth': 995},\n",
        "   'stmt': {'avg_depth': 4.833333333333333,\n",
        "    'depth': 0,\n",
        "    'instances': 24,\n",
        "    'max_depth': 8,\n",
        "    'sum_of_depth': 116}}])"
       ]
      }
     ],
     "prompt_number": 36
    },
    {
     "cell_type": "code",
     "collapsed": false,
     "input": [
      "displayDepthResults(*getDepth(small_st))"
     ],
     "language": "python",
     "metadata": {},
     "outputs": [
      {
       "output_type": "stream",
       "stream": "stdout",
       "text": [
        "\n",
        "get_commit_blueprint\n",
        "    stmt -- avg 4.8  peak 8.0\n",
        "    expr -- avg 1.9  peak 5.0\n",
        "    node -- avg 5.9  peak 10.0\n",
        "\n",
        "Aggregated:\n",
        "    stmt -- avg 4.8  peak 8.0\n",
        "    expr -- avg 1.9  peak 5.0\n",
        "    node -- avg 5.9  peak 10.0\n"
       ]
      }
     ],
     "prompt_number": 37
    },
    {
     "cell_type": "code",
     "collapsed": false,
     "input": [
      "totals, results = getDepth(sample_file_st)\n",
      "totals"
     ],
     "language": "python",
     "metadata": {},
     "outputs": [
      {
       "metadata": {},
       "output_type": "pyout",
       "prompt_number": 38,
       "text": [
        "{'expr': {'avg_depth': 2.185067007019783,\n",
        "  'instances': 3134,\n",
        "  'max_depth': 9,\n",
        "  'sum_of_depth': 6848},\n",
        " 'node': {'avg_depth': 4.758631463833776,\n",
        "  'instances': 6401,\n",
        "  'max_depth': 14,\n",
        "  'sum_of_depth': 30460},\n",
        " 'stmt': {'avg_depth': 3.20199146514936,\n",
        "  'instances': 703,\n",
        "  'max_depth': 9,\n",
        "  'sum_of_depth': 2251}}"
       ]
      }
     ],
     "prompt_number": 38
    },
    {
     "cell_type": "code",
     "collapsed": false,
     "input": [
      "displayDepthResults(*getDepth(sample_file_st))"
     ],
     "language": "python",
     "metadata": {},
     "outputs": [
      {
       "output_type": "stream",
       "stream": "stdout",
       "text": [
        "\n",
        "project_to_fname\n",
        "    stmt -- avg 4.2  peak 7.0\n",
        "    expr -- avg 1.8  peak 3.0\n",
        "    node -- avg 5.1  peak 10.0\n",
        "\n",
        "filter_file\n",
        "    stmt -- avg 2.6  peak 4.0\n",
        "    expr -- avg 1.6  peak 3.0\n",
        "    node -- avg 3.2  peak 6.0\n",
        "\n",
        "parse_git_actor\n",
        "    stmt -- avg 1.8  peak 2.0\n",
        "    expr -- avg 4.6  peak 9.0\n",
        "    node -- avg 5.5  peak 11.0\n",
        "\n",
        "author_commiter_same\n",
        "    stmt -- avg 2.0  peak 3.0\n",
        "    expr -- avg 2.7  peak 5.0\n",
        "    node -- avg 4.2  peak 8.0\n",
        "\n",
        "parse_all_changes\n",
        "    stmt -- avg 2.4  peak 4.0\n",
        "    expr -- avg 2.2  peak 6.0\n",
        "    node -- avg 4.1  peak 9.0\n",
        "\n",
        "parse_bugs\n",
        "    stmt -- avg 3.2  peak 6.0\n",
        "    expr -- avg 2.5  peak 4.0\n",
        "    node -- avg 5.0  peak 9.0\n",
        "\n",
        "test_parse_bugs\n",
        "    stmt -- avg 2.7  peak 4.0\n",
        "    expr -- avg 1.9  peak 4.0\n",
        "    node -- avg 3.4  peak 6.0\n",
        "\n",
        "get_commit_blueprint\n",
        "    stmt -- avg 4.8  peak 8.0\n",
        "    expr -- avg 1.9  peak 5.0\n",
        "    node -- avg 5.9  peak 10.0\n",
        "\n",
        "test_get_commit_blueprint\n",
        "    stmt -- avg 1.9  peak 2.0\n",
        "    expr -- avg 1.6  peak 2.0\n",
        "    node -- avg 2.4  peak 4.0\n",
        "\n",
        "annotate_blueprints\n",
        "    stmt -- avg 2.9  peak 5.0\n",
        "    expr -- avg 1.6  peak 3.0\n",
        "    node -- avg 4.0  peak 7.0\n",
        "\n",
        "annotate_cherry_pick\n",
        "    stmt -- avg 4.8  peak 8.0\n",
        "    expr -- avg 2.1  peak 5.0\n",
        "    node -- avg 6.8  peak 13.0\n",
        "\n",
        "parse_msg\n",
        "    stmt -- avg 3.6  peak 7.0\n",
        "    expr -- avg 1.8  peak 5.0\n",
        "    node -- avg 4.9  peak 12.0\n",
        "\n",
        "process_commits\n",
        "    stmt -- avg 3.2  peak 5.0\n",
        "    expr -- avg 2.0  peak 5.0\n",
        "    node -- avg 4.8  peak 9.0\n",
        "\n",
        "process_commit_files_unfiltered\n",
        "    stmt -- avg 3.3  peak 5.0\n",
        "    expr -- avg 2.0  peak 4.0\n",
        "    node -- avg 4.8  peak 9.0\n",
        "\n",
        "parse_diff\n",
        "    stmt -- avg 4.8  peak 9.0\n",
        "    expr -- avg 2.0  peak 5.0\n",
        "    node -- avg 5.8  peak 12.0\n",
        "\n",
        "is_special_git_actor\n",
        "    stmt -- avg 2.3  peak 4.0\n",
        "    expr -- avg 1.2  peak 2.0\n",
        "    node -- avg 2.7  peak 5.0\n",
        "\n",
        "is_special_author\n",
        "    stmt -- avg 1.7  peak 2.0\n",
        "    expr -- avg 1.8  peak 3.0\n",
        "    node -- avg 2.8  peak 5.0\n",
        "\n",
        "is_special_committer\n",
        "    stmt -- avg 1.7  peak 2.0\n",
        "    expr -- avg 1.8  peak 3.0\n",
        "    node -- avg 2.8  peak 5.0\n",
        "\n",
        "is_merge_commit\n",
        "    stmt -- avg 2.3  peak 3.0\n",
        "    expr -- avg 2.8  peak 6.0\n",
        "    node -- avg 4.0  peak 8.0\n",
        "\n",
        "annotate_children\n",
        "    stmt -- avg 2.9  peak 5.0\n",
        "    expr -- avg 2.1  peak 5.0\n",
        "    node -- avg 4.6  peak 11.0\n",
        "\n",
        "annotate_mainline\n",
        "    stmt -- avg 2.6  peak 4.0\n",
        "    expr -- avg 1.6  peak 3.0\n",
        "    node -- avg 3.6  peak 7.0\n",
        "\n",
        "build_git_commits\n",
        "    stmt -- avg 2.2  peak 4.0\n",
        "    expr -- avg 1.6  peak 3.0\n",
        "    node -- avg 3.0  peak 6.0\n",
        "\n",
        "load_git_commits\n",
        "    stmt -- avg 1.9  peak 2.0\n",
        "    expr -- avg 2.8  peak 5.0\n",
        "    node -- avg 4.5  peak 8.0\n",
        "\n",
        "get_blame\n",
        "    stmt -- avg 4.2  peak 7.0\n",
        "    expr -- avg 1.9  peak 7.0\n",
        "    node -- avg 5.2  peak 10.0\n",
        "\n",
        "find_diff_ranges\n",
        "    stmt -- avg 2.6  peak 5.0\n",
        "    expr -- avg 1.8  peak 3.0\n",
        "    node -- avg 3.9  peak 8.0\n",
        "\n",
        "assign_blame\n",
        "    stmt -- avg 2.6  peak 3.0\n",
        "    expr -- avg 3.3  peak 9.0\n",
        "    node -- avg 5.7  peak 13.0\n",
        "\n",
        "process_commit_details\n",
        "    stmt -- avg 2.2  peak 3.0\n",
        "    expr -- avg 3.3  peak 8.0\n",
        "    node -- avg 5.8  peak 12.0\n",
        "\n",
        "filter_bug_fix_combined_commits\n",
        "    stmt -- avg 1.8  peak 2.0\n",
        "    expr -- avg 2.2  peak 4.0\n",
        "    node -- avg 3.5  peak 6.0\n",
        "\n",
        "filter_bug_fix_commits\n",
        "    stmt -- avg 1.8  peak 2.0\n",
        "    expr -- avg 2.2  peak 4.0\n",
        "    node -- avg 3.5  peak 6.0\n",
        "\n",
        "identify_jenkins_commit\n",
        "    stmt -- avg 1.7  peak 2.0\n",
        "    expr -- avg 2.8  peak 5.0\n",
        "    node -- avg 4.5  peak 8.0\n",
        "\n",
        "find_legacy_cutoff\n",
        "    stmt -- avg 3.4  peak 6.0\n",
        "    expr -- avg 2.3  peak 5.0\n",
        "    node -- avg 5.0  peak 10.0\n",
        "\n",
        "get_commit_ordering_min_max\n",
        "    stmt -- avg 1.9  peak 2.0\n",
        "    expr -- avg 2.3  peak 5.0\n",
        "    node -- avg 3.8  peak 8.0\n",
        "\n",
        "git_annotate_commit_order\n",
        "    stmt -- avg 2.3  peak 4.0\n",
        "    expr -- avg 2.2  peak 4.0\n",
        "    node -- avg 4.2  peak 8.0\n",
        "\n",
        "git_annotate_author_order\n",
        "    stmt -- avg 2.7  peak 4.0\n",
        "    expr -- avg 2.3  peak 5.0\n",
        "    node -- avg 4.9  peak 9.0\n",
        "\n",
        "git_annotate_file_order\n",
        "    stmt -- avg 2.9  peak 5.0\n",
        "    expr -- avg 2.3  peak 5.0\n",
        "    node -- avg 5.0  peak 10.0\n",
        "\n",
        "git_annotate_file_order_by_author\n",
        "    stmt -- avg 3.2  peak 5.0\n",
        "    expr -- avg 2.4  peak 5.0\n",
        "    node -- avg 5.6  peak 11.0\n",
        "\n",
        "git_annotate_order\n",
        "    stmt -- avg 1.9  peak 2.0\n",
        "    expr -- avg 1.6  peak 2.0\n",
        "    node -- avg 2.7  peak 4.0\n",
        "\n",
        "annotate_commit_loc\n",
        "    stmt -- avg 4.1  peak 7.0\n",
        "    expr -- avg 2.0  peak 6.0\n",
        "    node -- avg 6.0  peak 14.0\n",
        "\n",
        "get_git_master_commit\n",
        "    stmt -- avg 1.8  peak 2.0\n",
        "    expr -- avg 2.1  peak 5.0\n",
        "    node -- avg 3.1  peak 7.0\n",
        "\n",
        "get_authors_and_files\n",
        "    stmt -- avg 2.7  peak 5.0\n",
        "    expr -- avg 1.9  peak 4.0\n",
        "    node -- avg 4.2  peak 8.0\n",
        "\n",
        "extract_master_commit\n",
        "    stmt -- avg 2.4  peak 4.0\n",
        "    expr -- avg 1.7  peak 3.0\n",
        "    node -- avg 3.2  peak 6.0\n",
        "\n",
        "extract_origin_commit\n",
        "    stmt -- avg 2.2  peak 4.0\n",
        "    expr -- avg 2.2  peak 5.0\n",
        "    node -- avg 4.2  peak 9.0\n",
        "\n",
        "get_all_files_from_tree\n",
        "    stmt -- avg 2.0  peak 3.0\n",
        "    expr -- avg 1.6  peak 3.0\n",
        "    node -- avg 3.2  peak 7.0\n",
        "\n",
        "get_all_files_from_commit\n",
        "    stmt -- avg 2.1  peak 3.0\n",
        "    expr -- avg 1.6  peak 3.0\n",
        "    node -- avg 3.0  peak 6.0\n",
        "\n",
        "compute_git_actor_dedupe\n",
        "    stmt -- avg 2.8  peak 6.0\n",
        "    expr -- avg 2.3  peak 5.0\n",
        "    node -- avg 4.8  peak 10.0\n",
        "\n",
        "Aggregated:\n",
        "    stmt -- avg 3.2  peak 9.0\n",
        "    expr -- avg 2.2  peak 9.0\n",
        "    node -- avg 4.8  peak 14.0\n"
       ]
      }
     ],
     "prompt_number": 39
    },
    {
     "cell_type": "code",
     "collapsed": false,
     "input": [],
     "language": "python",
     "metadata": {},
     "outputs": [],
     "prompt_number": 39
    },
    {
     "cell_type": "code",
     "collapsed": false,
     "input": [],
     "language": "python",
     "metadata": {},
     "outputs": [],
     "prompt_number": 39
    }
   ],
   "metadata": {}
  }
 ]
}