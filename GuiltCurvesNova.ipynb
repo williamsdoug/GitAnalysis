{
 "metadata": {
  "name": "",
  "signature": "sha256:70fcc547c3451250eb6af1c127037f29e2c553463113f663dbaa10bc7057013b"
 },
 "nbformat": 3,
 "nbformat_minor": 0,
 "worksheets": [
  {
   "cells": [
    {
     "cell_type": "markdown",
     "metadata": {},
     "source": [
      "#Guilt Curves for OpenStack Nova\n",
      "\n",
      "Copyright Doug Williams - 2014, 2015\n",
      "\n",
      "The purpose of this notebook is to help determine proper guilt threshold for labeling entries prior to training machine learning model.\n",
      "\n",
      "###Updated: 2/4/2015\n",
      "\n",
      "###History\n",
      "- 2/4/2015: Created standalone notebook based on graphs in BlameAnalysis\n",
      "\n",
      "###Issues:\n",
      "- Concern that large number of empty blame entries (clipped due to huge blame) may be distorting results"
     ]
    },
    {
     "cell_type": "heading",
     "level": 1,
     "metadata": {},
     "source": [
      "Includes"
     ]
    },
    {
     "cell_type": "code",
     "collapsed": false,
     "input": [
      "%matplotlib inline"
     ],
     "language": "python",
     "metadata": {},
     "outputs": [],
     "prompt_number": 1
    },
    {
     "cell_type": "code",
     "collapsed": false,
     "input": [
      "from pprint import pprint\n",
      "from collections import defaultdict\n",
      "import numpy as np\n",
      "import math\n",
      "import matplotlib.pyplot as plt\n",
      "\n",
      "import sys\n",
      "sys.path.append('./dev')\n",
      "\n",
      "from Git_Extract_Join import load_combined_commits, load_all_blame\n",
      "# from commit_analysis import normalize_blame_by_file\n",
      "from commit_analysis import compute_guilt"
     ],
     "language": "python",
     "metadata": {},
     "outputs": [],
     "prompt_number": 2
    },
    {
     "cell_type": "heading",
     "level": 1,
     "metadata": {},
     "source": [
      "Load Data"
     ]
    },
    {
     "cell_type": "code",
     "collapsed": false,
     "input": [
      "PROJECT = 'nova'\n",
      "# PROJECT = 'swift'"
     ],
     "language": "python",
     "metadata": {},
     "outputs": [],
     "prompt_number": 3
    },
    {
     "cell_type": "code",
     "collapsed": false,
     "input": [
      "combined_commits = load_combined_commits(PROJECT)\n",
      "print len(combined_commits)"
     ],
     "language": "python",
     "metadata": {},
     "outputs": [
      {
       "output_type": "stream",
       "stream": "stdout",
       "text": [
        "32711\n"
       ]
      }
     ],
     "prompt_number": 4
    },
    {
     "cell_type": "code",
     "collapsed": false,
     "input": [
      "all_blame = load_all_blame(PROJECT)\n",
      "print len(all_blame)"
     ],
     "language": "python",
     "metadata": {},
     "outputs": [
      {
       "output_type": "stream",
       "stream": "stdout",
       "text": [
        "9401\n"
       ]
      }
     ],
     "prompt_number": 5
    },
    {
     "cell_type": "markdown",
     "metadata": {},
     "source": [
      "Since a number of blame entries are null, find subset of entries with valid data"
     ]
    },
    {
     "cell_type": "code",
     "collapsed": false,
     "input": [
      "real_blame =  sum([1 for x in all_blame if x['blame']])\n",
      "print 'Populated Blame:', real_blame"
     ],
     "language": "python",
     "metadata": {},
     "outputs": [
      {
       "output_type": "stream",
       "stream": "stdout",
       "text": [
        "Populated Blame: 7763\n"
       ]
      }
     ],
     "prompt_number": 6
    },
    {
     "cell_type": "code",
     "collapsed": false,
     "input": [
      "bug_fix_commits = [k for k,v in combined_commits.items()\n",
      "                   if 'lp:id' in v]\n",
      "print len(bug_fix_commits)"
     ],
     "language": "python",
     "metadata": {},
     "outputs": [
      {
       "output_type": "stream",
       "stream": "stdout",
       "text": [
        "9401\n"
       ]
      }
     ],
     "prompt_number": 7
    },
    {
     "cell_type": "markdown",
     "metadata": {},
     "source": [
      "#Compute Guilt"
     ]
    },
    {
     "cell_type": "code",
     "collapsed": false,
     "input": [
      "compute_guilt(combined_commits, all_blame)"
     ],
     "language": "python",
     "metadata": {},
     "outputs": [
      {
       "output_type": "stream",
       "stream": "stdout",
       "text": [
        "guilty:  13365 out of 32711 ( 40.8578154138 % )\n",
        "smallest guilt: 5.9980806142e-05\n",
        "largest guilt: 46.7607233311\n"
       ]
      }
     ],
     "prompt_number": 10
    },
    {
     "cell_type": "heading",
     "level": 3,
     "metadata": {},
     "source": [
      "Characterize Guilt Distribution"
     ]
    },
    {
     "cell_type": "markdown",
     "metadata": {},
     "source": [
      "######Explore overall shape of curve.  \n",
      "\n",
      "Note:  There is an outlier value around 50 that is clipped in order to avoid distorying the below graph.  "
     ]
    },
    {
     "cell_type": "code",
     "collapsed": false,
     "input": [
      "plt.figure(figsize=(9,3))\n",
      "plt.title('Guilt Distribution'); plt.ylabel('log(count)'); plt.xlabel('guilt')\n",
      "plt.hist([v['guilt'] for v in combined_commits.values()], \n",
      "         log=True, bins=50, range=(0, 30))\n",
      "plt.show()"
     ],
     "language": "python",
     "metadata": {},
     "outputs": [
      {
       "metadata": {},
       "output_type": "display_data",
       "png": "[encoded data removed]",
       "text": [
        "<matplotlib.figure.Figure at 0x2578535d0>"
       ]
      }
     ],
     "prompt_number": 11
    },
    {
     "cell_type": "heading",
     "level": 6,
     "metadata": {},
     "source": [
      "Express as cumulative distribution"
     ]
    },
    {
     "cell_type": "code",
     "collapsed": false,
     "input": [
      "plt.figure(figsize=(9,3))\n",
      "plt.title('Guilt Reverse Cumulative Distribution'); plt.ylabel('count'); plt.xlabel('guilt (ignore sign)')\n",
      "plt.hist([- v['guilt'] for v in combined_commits.values()],\n",
      "         log=False, range=(-15, 0), bins=100, cumulative=True)\n",
      "plt.show()"
     ],
     "language": "python",
     "metadata": {},
     "outputs": [
      {
       "metadata": {},
       "output_type": "display_data",
       "png": "[encoded data removed]",
       "text": [
        "<matplotlib.figure.Figure at 0x258285150>"
       ]
      }
     ],
     "prompt_number": 12
    },
    {
     "cell_type": "heading",
     "level": 6,
     "metadata": {},
     "source": [
      "Since Nova target is 7800, zoom in where bug count is in neighborhood "
     ]
    },
    {
     "cell_type": "code",
     "collapsed": false,
     "input": [
      "plt.figure(figsize=(9,3))\n",
      "plt.title('Guilt Reverse Cumulative Distribution (normed)')\n",
      "plt.ylabel('cumulative density'); plt.xlabel('guilt (ignore sign)')\n",
      "plt.hist([- v['guilt'] for v in combined_commits.values()],\n",
      "         log=False, range=(-2, -0.04), bins=100, cumulative=True)\n",
      "plt.show()"
     ],
     "language": "python",
     "metadata": {},
     "outputs": [
      {
       "metadata": {},
       "output_type": "display_data",
       "png": "[encoded data removed]",
       "text": [
        "<matplotlib.figure.Figure at 0x258ef93d0>"
       ]
      }
     ],
     "prompt_number": 13
    },
    {
     "cell_type": "heading",
     "level": 6,
     "metadata": {},
     "source": [
      "Compute actual counts for various threshold values"
     ]
    },
    {
     "cell_type": "code",
     "collapsed": false,
     "input": [
      "print 'Target Entries:', real_blame\n",
      "print\n",
      "print 'Counts for various thresholds'\n",
      "for threshold in np.arange(0.04, 0.125, 0.005):\n",
      "    count = sum([1 for v in combined_commits.values()\n",
      "                 if v['guilt'] >= threshold ])\n",
      "    \n",
      "    print count, '  thresh=', threshold"
     ],
     "language": "python",
     "metadata": {},
     "outputs": [
      {
       "output_type": "stream",
       "stream": "stdout",
       "text": [
        "Target Entries: 7763\n",
        "\n",
        "Counts for various thresholds\n",
        "8716   thresh= 0.04\n",
        "8510   thresh= 0.045\n",
        "8289"
       ]
      },
      {
       "output_type": "stream",
       "stream": "stdout",
       "text": [
        "   thresh= 0.05\n",
        "8091   thresh= 0.055\n",
        "7918   thresh= 0.06\n",
        "7766"
       ]
      },
      {
       "output_type": "stream",
       "stream": "stdout",
       "text": [
        "   thresh= 0.065\n",
        "7606   thresh= 0.07\n",
        "7450   thresh= 0.075\n",
        "7297"
       ]
      },
      {
       "output_type": "stream",
       "stream": "stdout",
       "text": [
        "   thresh= 0.08\n",
        "7163   thresh= 0.085\n",
        "7038   thresh= 0.09\n",
        "6926"
       ]
      },
      {
       "output_type": "stream",
       "stream": "stdout",
       "text": [
        "   thresh= 0.095\n",
        "6808   thresh= 0.1\n",
        "6680   thresh= 0.105\n",
        "6577"
       ]
      },
      {
       "output_type": "stream",
       "stream": "stdout",
       "text": [
        "   thresh= 0.11\n",
        "6490   thresh= 0.115\n",
        "6379   thresh= 0.12\n"
       ]
      }
     ],
     "prompt_number": 14
    },
    {
     "cell_type": "heading",
     "level": 6,
     "metadata": {},
     "source": [
      "Look at shape of curve around target threshold"
     ]
    },
    {
     "cell_type": "code",
     "collapsed": false,
     "input": [
      "plt.figure(figsize=(9,3))\n",
      "plt.title('Guilt Reverse Cumulative Distribution')\n",
      "plt.ylabel('count')\n",
      "plt.xlabel('log(guilt)')\n",
      "plt.hist([math.log(v['guilt']) for v in combined_commits.values() if v['guilt'] > 0],\n",
      "         log=False, bins=100, cumulative=True)\n",
      "plt.show()"
     ],
     "language": "python",
     "metadata": {},
     "outputs": [
      {
       "metadata": {},
       "output_type": "display_data",
       "png": "[encoded data removed]",
       "text": [
        "<matplotlib.figure.Figure at 0x259479450>"
       ]
      }
     ],
     "prompt_number": 15
    },
    {
     "cell_type": "markdown",
     "metadata": {},
     "source": [
      "Zoom in a bit more.  Appears to be log-linear (exponential) in region"
     ]
    },
    {
     "cell_type": "code",
     "collapsed": false,
     "input": [
      "plt.figure(figsize=(9,3))\n",
      "plt.title('Guilt Reverse Cumulative Distribution')\n",
      "plt.ylabel('count')\n",
      "plt.xlabel('log(guilt)')\n",
      "plt.hist([math.log(v['guilt']) for v in combined_commits.values() if v['guilt'] > 0],\n",
      "         log=False, bins=100, range=(-6, -0.5), cumulative=True)\n",
      "plt.show()"
     ],
     "language": "python",
     "metadata": {},
     "outputs": [
      {
       "metadata": {},
       "output_type": "display_data",
       "png": "[encoded data removed]",
       "text": [
        "<matplotlib.figure.Figure at 0x2598462d0>"
       ]
      }
     ],
     "prompt_number": 16
    },
    {
     "cell_type": "code",
     "collapsed": false,
     "input": [],
     "language": "python",
     "metadata": {},
     "outputs": [],
     "prompt_number": 16
    }
   ],
   "metadata": {}
  }
 ]
}