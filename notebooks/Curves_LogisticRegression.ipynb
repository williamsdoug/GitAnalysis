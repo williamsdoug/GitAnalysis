{
 "metadata": {
  "kernelspec": {
   "display_name": "Python 2",
   "language": "python",
   "name": "python2"
  },
  "language_info": {
   "codemirror_mode": {
    "name": "ipython",
    "version": 2
   },
   "file_extension": ".py",
   "mimetype": "text/x-python",
   "name": "python",
   "nbconvert_exporter": "python",
   "pygments_lexer": "ipython2",
   "version": "2.7.9"
  },
  "name": ""
 },
 "nbformat": 3,
 "nbformat_minor": 0,
 "worksheets": [
  {
   "cells": [
    {
     "cell_type": "code",
     "collapsed": false,
     "input": [
      "%matplotlib inline\n",
      "from pprint import pprint\n",
      "from collections import defaultdict\n",
      "\n",
      "import numpy as np\n",
      "import math\n",
      "import matplotlib.pyplot as plt\n",
      "import warnings\n",
      "\n",
      "\n",
      "from sklearn.linear_model import LogisticRegression\n",
      "#from sklearn.svm import SVC\n",
      "#from sklearn.naive_bayes import GaussianNB\n",
      "#from sklearn.linear_model import SGDClassifier\n",
      "\n",
      "from sklearn.grid_search import GridSearchCV\n",
      "from sklearn import metrics\n",
      "\n",
      "from sklearn.learning_curve import learning_curve\n",
      "from sklearn.learning_curve import validation_curve\n",
      "\n",
      "import sys\n",
      "sys.path.append('../dev')\n",
      "from ml_plot import plot_validation_curve\n",
      "from ml_plot import PredictCV, my_plot_learning_curve\n",
      "from ml_plot import plot_prediction_curve\n",
      "from ml_plot import get_dataset, eval_predictions"
     ],
     "language": "python",
     "metadata": {},
     "outputs": [],
     "prompt_number": 1
    },
    {
     "cell_type": "heading",
     "level": 1,
     "metadata": {},
     "source": [
      "Configuration"
     ]
    },
    {
     "cell_type": "code",
     "collapsed": false,
     "input": [
      "PROJECT = 'nova'\n",
      "# PROJECT = 'swift'\n",
      "# PROJECT = 'cinder'\n",
      "# PROJECT = 'heat'\n",
      "# PROJECT = 'glance'\n",
      "\n",
      "# IMPORTANCE = 'crit'\n",
      "# IMPORTANCE = 'high+'\n",
      "IMPORTANCE = 'med+'\n",
      "# IMPORTANCE = 'low+'\n",
      "\n",
      "# SIZE = 100\n",
      "#SIZE = 250\n",
      "# SIZE = 0.1\n",
      "SIZE = 0.5\n",
      "\n",
      "SCORING = 'f1'         # (precision * recall) / (precision + recall)\n",
      "# SCORING = 'accuracy'   # (TP + TN) / all values\n",
      "# SCORING = 'precision'  # TP / (TP + FP)\n",
      "# SCORING = 'recall'     # TP / (TP + FN)\n",
      "# SCORING = 'average_precision'\n",
      "# SCORING = 'roc_auc'\n",
      "\n",
      "JOBS = 4\n",
      "VERBOSE = 0\n",
      "\n",
      "warnings.filterwarnings(\"ignore\", 'F-score is ill-defined')"
     ],
     "language": "python",
     "metadata": {},
     "outputs": [],
     "prompt_number": 2
    },
    {
     "cell_type": "heading",
     "level": 1,
     "metadata": {},
     "source": [
      "Load Data"
     ]
    },
    {
     "cell_type": "code",
     "collapsed": false,
     "input": [
      "%%capture\n",
      "Y, X = get_dataset(PROJECT, IMPORTANCE)"
     ],
     "language": "python",
     "metadata": {},
     "outputs": [],
     "prompt_number": 3
    },
    {
     "cell_type": "heading",
     "level": 3,
     "metadata": {},
     "source": [
      "Select Split Strategy"
     ]
    },
    {
     "cell_type": "code",
     "collapsed": false,
     "input": [
      "cv = PredictCV(len(Y), history=700, future=200, n_iter=10)"
     ],
     "language": "python",
     "metadata": {},
     "outputs": [],
     "prompt_number": 4
    },
    {
     "cell_type": "heading",
     "level": 1,
     "metadata": {},
     "source": [
      "Initial Parameter Settings"
     ]
    },
    {
     "cell_type": "code",
     "collapsed": false,
     "input": [
      "estimator = LogisticRegression()"
     ],
     "language": "python",
     "metadata": {},
     "outputs": [],
     "prompt_number": 5
    },
    {
     "cell_type": "code",
     "collapsed": false,
     "input": [
      "C_range = np.logspace(-1, 8, 10)\n",
      "param_grid = dict(C=C_range, class_weight=['auto'])"
     ],
     "language": "python",
     "metadata": {},
     "outputs": [],
     "prompt_number": 6
    },
    {
     "cell_type": "code",
     "collapsed": false,
     "input": [
      "grid = GridSearchCV(estimator, param_grid=param_grid, cv=cv, scoring=SCORING,\n",
      "                    n_jobs=JOBS, pre_dispatch=2*JOBS, verbose=VERBOSE)\n",
      "grid.fit(X, Y)\n",
      "print 'best_score: ', grid.best_score_\n",
      "clf = grid.best_estimator_\n",
      "grid.best_estimator_"
     ],
     "language": "python",
     "metadata": {},
     "outputs": [
      {
       "output_type": "stream",
       "stream": "stdout",
       "text": [
        "best_score:  0.515766872182\n"
       ]
      },
      {
       "output_type": "pyout",
       "prompt_number": 7,
       "text": [
        "LogisticRegression(C=0.10000000000000001, class_weight='auto', dual=False,\n",
        "          fit_intercept=True, intercept_scaling=1, max_iter=100,\n",
        "          multi_class='ovr', penalty='l2', random_state=None,\n",
        "          solver='liblinear', tol=0.0001, verbose=0)"
       ]
      }
     ],
     "prompt_number": 7
    },
    {
     "cell_type": "code",
     "collapsed": false,
     "input": [
      "grid.best_estimator_"
     ],
     "language": "python",
     "metadata": {},
     "outputs": [
      {
       "output_type": "pyout",
       "prompt_number": 8,
       "text": [
        "LogisticRegression(C=0.10000000000000001, class_weight='auto', dual=False,\n",
        "          fit_intercept=True, intercept_scaling=1, max_iter=100,\n",
        "          multi_class='ovr', penalty='l2', random_state=None,\n",
        "          solver='liblinear', tol=0.0001, verbose=0)"
       ]
      }
     ],
     "prompt_number": 8
    },
    {
     "cell_type": "heading",
     "level": 1,
     "metadata": {},
     "source": [
      "Validation Curves Example"
     ]
    },
    {
     "cell_type": "heading",
     "level": 3,
     "metadata": {},
     "source": [
      "Impact of C"
     ]
    },
    {
     "cell_type": "code",
     "collapsed": false,
     "input": [
      "best_score, param_val, param_name = \\\n",
      "    plot_validation_curve(clf, X, Y, \"C\", np.logspace(-2, 8, 11),\n",
      "                      \"C Validation Curve with Logistic Regression\",\n",
      "                      cv=cv, scoring=SCORING, n_jobs=JOBS)\n",
      "print 'Best score of', best_score, 'when setting', param_name, 'to',  param_val\n",
      "clf.set_params(**dict([[param_name, param_val]]))"
     ],
     "language": "python",
     "metadata": {},
     "outputs": [
      {
       "output_type": "display_data",
       "png": "[encoded data removed]",
       "text": [
        "<matplotlib.figure.Figure at 0x11779d350>"
       ]
      },
      {
       "output_type": "stream",
       "stream": "stdout",
       "text": [
        "Best score of 0.466416984191 when setting C to 0.1\n"
       ]
      },
      {
       "output_type": "pyout",
       "prompt_number": 9,
       "text": [
        "LogisticRegression(C=0.10000000000000001, class_weight='auto', dual=False,\n",
        "          fit_intercept=True, intercept_scaling=1, max_iter=100,\n",
        "          multi_class='ovr', penalty='l2', random_state=None,\n",
        "          solver='liblinear', tol=0.0001, verbose=0)"
       ]
      }
     ],
     "prompt_number": 9
    },
    {
     "cell_type": "code",
     "collapsed": false,
     "input": [
      "param_log10 = math.log10(param_val)\n",
      "best_score, param_val, param_name = \\\n",
      "    plot_validation_curve(clf, X, Y, param_name, np.logspace(param_log10 - 1, param_log10 + 1, 10),\n",
      "                      \"C Validation Curve with Logistic Regression\",\n",
      "                      cv=cv, scoring=SCORING, n_jobs=JOBS)\n",
      "print 'Best score of', best_score, 'when setting', param_name, 'to',  param_val\n",
      "clf.set_params(**dict([[param_name, param_val]]))"
     ],
     "language": "python",
     "metadata": {},
     "outputs": [
      {
       "output_type": "display_data",
       "png": "[encoded data removed]",
       "text": [
        "<matplotlib.figure.Figure at 0x11779d350>"
       ]
      },
      {
       "output_type": "stream",
       "stream": "stdout",
       "text": [
        "Best score of 0.406744042712 when setting C to 0.129154966501\n"
       ]
      },
      {
       "output_type": "pyout",
       "prompt_number": 10,
       "text": [
        "LogisticRegression(C=0.12915496650148839, class_weight='auto', dual=False,\n",
        "          fit_intercept=True, intercept_scaling=1, max_iter=100,\n",
        "          multi_class='ovr', penalty='l2', random_state=None,\n",
        "          solver='liblinear', tol=0.0001, verbose=0)"
       ]
      }
     ],
     "prompt_number": 10
    },
    {
     "cell_type": "heading",
     "level": 3,
     "metadata": {},
     "source": [
      "Learning Curve"
     ]
    },
    {
     "cell_type": "code",
     "collapsed": false,
     "input": [
      "title = \"Learning Curves\"\n",
      "my_plot_learning_curve(clf, title, X, Y,\n",
      "                           n_jobs=JOBS, future=100,\n",
      "                           history_sizes=[100, 200, 300, 500, 600, 700, 800, 900, 1000])\n",
      "plt.show()"
     ],
     "language": "python",
     "metadata": {},
     "outputs": [
      {
       "output_type": "display_data",
       "png": "[encoded data removed]",
       "text": [
        "<matplotlib.figure.Figure at 0x1c47b6d90>"
       ]
      }
     ],
     "prompt_number": 11
    },
    {
     "cell_type": "heading",
     "level": 3,
     "metadata": {},
     "source": [
      "Prediction Curve"
     ]
    },
    {
     "cell_type": "code",
     "collapsed": false,
     "input": [
      "title = \"Prediction Horizon Curve for DecisionTreeClassifier\"\n",
      "plot_prediction_curve(clf, title, X, Y,\n",
      "                           n_jobs=JOBS, history=700,\n",
      "                           future_sizes=[100, 200, 300, 500])\n",
      "plt.show()"
     ],
     "language": "python",
     "metadata": {},
     "outputs": [
      {
       "output_type": "display_data",
       "png": "[encoded data removed]",
       "text": [
        "<matplotlib.figure.Figure at 0x1c47b62d0>"
       ]
      }
     ],
     "prompt_number": 12
    },
    {
     "cell_type": "code",
     "collapsed": false,
     "input": [
      "LR_results = eval_predictions(clf, X, Y, history_sizes=[300, 500, 900, 1000], future_sizes=[100, 200, 500])"
     ],
     "language": "python",
     "metadata": {},
     "outputs": [
      {
       "output_type": "stream",
       "stream": "stdout",
       "text": [
        "** Predictions for hist=300 future=100 **\n",
        "\n",
        "F1:        0.37  +/- 0.10\n",
        "Accuracy:  0.73  +/- 0.06\n",
        "Precision: 0.39  +/- 0.14\n",
        "Recall:    0.38  +/- 0.11\n",
        "\n",
        "Aggregate Confusion Matrix - 10 iterations\n",
        "[[640 136]\n",
        " [135  89]]\n",
        "\n",
        "\n",
        "** Predictions for hist=300 future=200 **"
       ]
      },
      {
       "output_type": "stream",
       "stream": "stdout",
       "text": [
        "\n",
        "\n",
        "F1:        0.40  +/- 0.10\n",
        "Accuracy:  0.74  +/- 0.06\n",
        "Precision: 0.41  +/- 0.12\n",
        "Recall:    0.40  +/- 0.11\n",
        "\n",
        "Aggregate Confusion Matrix - 10 iterations\n",
        "[[1301  256]\n",
        " [ 264  179]]\n",
        "\n",
        "\n",
        "** Predictions for hist=300 future=500 **"
       ]
      },
      {
       "output_type": "stream",
       "stream": "stdout",
       "text": [
        "\n",
        "\n",
        "F1:        0.41  +/- 0.11\n",
        "Accuracy:  0.74  +/- 0.03\n",
        "Precision: 0.43  +/- 0.13\n",
        "Recall:    0.41  +/- 0.12\n",
        "\n",
        "Aggregate Confusion Matrix - 10 iterations\n",
        "[[3220  611]\n",
        " [ 674  495]]\n",
        "\n",
        "\n",
        "** Predictions for hist=500 future=100 **"
       ]
      },
      {
       "output_type": "stream",
       "stream": "stdout",
       "text": [
        "\n",
        "\n",
        "F1:        0.50  +/- 0.11\n",
        "Accuracy:  0.73  +/- 0.04\n",
        "Precision: 0.48  +/- 0.09\n",
        "Recall:    0.53  +/- 0.14\n",
        "\n",
        "Aggregate Confusion Matrix - 10 iterations\n",
        "[[591 147]\n",
        " [118 144]]\n",
        "\n",
        "\n",
        "** Predictions for hist=500 future=200 **"
       ]
      },
      {
       "output_type": "stream",
       "stream": "stdout",
       "text": [
        "\n",
        "\n",
        "F1:        0.48  +/- 0.10\n",
        "Accuracy:  0.76  +/- 0.05\n",
        "Precision: 0.44  +/- 0.12\n",
        "Recall:    0.54  +/- 0.12\n",
        "\n",
        "Aggregate Confusion Matrix - 10 iterations\n",
        "[[1291  277]\n",
        " [ 201  231]]\n",
        "\n",
        "\n",
        "** Predictions for hist=500 future=500 **"
       ]
      },
      {
       "output_type": "stream",
       "stream": "stdout",
       "text": [
        "\n",
        "\n",
        "F1:        0.45  +/- 0.09\n",
        "Accuracy:  0.75  +/- 0.04\n",
        "Precision: 0.41  +/- 0.10\n",
        "Recall:    0.50  +/- 0.08\n",
        "\n",
        "Aggregate Confusion Matrix - 10 iterations\n",
        "[[3194  737]\n",
        " [ 524  545]]\n",
        "\n",
        "\n",
        "** Predictions for hist=900 future=100 **"
       ]
      },
      {
       "output_type": "stream",
       "stream": "stdout",
       "text": [
        "\n",
        "\n",
        "F1:        0.51  +/- 0.07\n",
        "Accuracy:  0.74  +/- 0.05\n",
        "Precision: 0.45  +/- 0.08\n",
        "Recall:    0.61  +/- 0.14\n",
        "\n",
        "Aggregate Confusion Matrix - 10 iterations\n",
        "[[600 170]\n",
        " [ 92 138]]\n",
        "\n",
        "\n",
        "** Predictions for hist=900 future=200 **"
       ]
      },
      {
       "output_type": "stream",
       "stream": "stdout",
       "text": [
        "\n",
        "\n",
        "F1:        0.47  +/- 0.13\n",
        "Accuracy:  0.76  +/- 0.05\n",
        "Precision: 0.40  +/- 0.12\n",
        "Recall:    0.57  +/- 0.11\n",
        "\n",
        "Aggregate Confusion Matrix - 10 iterations\n",
        "[[1263  326]\n",
        " [ 162  249]]\n",
        "\n",
        "\n",
        "** Predictions for hist=900 future=500 **"
       ]
      },
      {
       "output_type": "stream",
       "stream": "stdout",
       "text": [
        "\n",
        "\n",
        "F1:        0.51  +/- 0.07\n",
        "Accuracy:  0.74  +/- 0.03\n",
        "Precision: 0.45  +/- 0.09\n",
        "Recall:    0.61  +/- 0.04\n",
        "\n",
        "Aggregate Confusion Matrix - 10 iterations\n",
        "[[3008  827]\n",
        " [ 451  714]]\n",
        "\n",
        "\n",
        "** Predictions for hist=1000 future=100 **"
       ]
      },
      {
       "output_type": "stream",
       "stream": "stdout",
       "text": [
        "\n",
        "\n",
        "F1:        0.46  +/- 0.11\n",
        "Accuracy:  0.77  +/- 0.06\n",
        "Precision: 0.40  +/- 0.14\n",
        "Recall:    0.59  +/- 0.13\n",
        "\n",
        "Aggregate Confusion Matrix - 10 iterations\n",
        "[[659 156]\n",
        " [ 77 108]]\n",
        "\n",
        "\n",
        "** Predictions for hist=1000 future=200 **"
       ]
      },
      {
       "output_type": "stream",
       "stream": "stdout",
       "text": [
        "\n",
        "\n",
        "F1:        0.50  +/- 0.09\n",
        "Accuracy:  0.77  +/- 0.04\n",
        "Precision: 0.44  +/- 0.12\n",
        "Recall:    0.61  +/- 0.09\n",
        "\n",
        "Aggregate Confusion Matrix - 10 iterations\n",
        "[[1294  296]\n",
        " [ 164  246]]\n",
        "\n",
        "\n",
        "** Predictions for hist=1000 future=500 **"
       ]
      },
      {
       "output_type": "stream",
       "stream": "stdout",
       "text": [
        "\n",
        "\n",
        "F1:        0.49  +/- 0.07\n",
        "Accuracy:  0.73  +/- 0.02\n",
        "Precision: 0.43  +/- 0.09\n",
        "Recall:    0.57  +/- 0.04\n",
        "\n",
        "Aggregate Confusion Matrix - 10 iterations\n",
        "[[2981  856]\n",
        " [ 491  672]]\n",
        "\n",
        "\n"
       ]
      }
     ],
     "prompt_number": 13
    }
   ],
   "metadata": {}
  }
 ]
}