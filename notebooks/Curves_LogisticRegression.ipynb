{
 "cells": [
  {
   "cell_type": "code",
   "execution_count": 1,
   "metadata": {
    "collapsed": false
   },
   "outputs": [],
   "source": [
    "%matplotlib inline\n",
    "from pprint import pprint\n",
    "from collections import defaultdict\n",
    "\n",
    "import numpy as np\n",
    "import math\n",
    "import matplotlib.pyplot as plt\n",
    "import warnings\n",
    "\n",
    "\n",
    "from sklearn.linear_model import LogisticRegression\n",
    "#from sklearn.svm import SVC\n",
    "#from sklearn.naive_bayes import GaussianNB\n",
    "#from sklearn.linear_model import SGDClassifier\n",
    "\n",
    "from sklearn.grid_search import GridSearchCV\n",
    "from sklearn import metrics\n",
    "\n",
    "from sklearn.learning_curve import learning_curve\n",
    "from sklearn.learning_curve import validation_curve\n",
    "\n",
    "import sys\n",
    "sys.path.append('../dev')\n",
    "from ml_plot import plot_validation_curve\n",
    "from ml_plot import PredictCV, my_plot_learning_curve\n",
    "from ml_plot import plot_prediction_curve\n",
    "from ml_plot import get_dataset, eval_predictions"
   ]
  },
  {
   "cell_type": "markdown",
   "metadata": {},
   "source": [
    "# Configuration"
   ]
  },
  {
   "cell_type": "code",
   "execution_count": 2,
   "metadata": {
    "collapsed": false
   },
   "outputs": [],
   "source": [
    "# PROJECT = 'nova'\n",
    "# PROJECT = 'swift'\n",
    "# PROJECT = 'cinder'\n",
    "PROJECT = 'heat'\n",
    "# PROJECT = 'glance'\n",
    "\n",
    "# IMPORTANCE = 'crit'\n",
    "# IMPORTANCE = 'high+'\n",
    "IMPORTANCE = 'med+'\n",
    "# IMPORTANCE = 'low+'\n",
    "\n",
    "# SIZE = 100\n",
    "#SIZE = 250\n",
    "# SIZE = 0.1\n",
    "SIZE = 0.5\n",
    "\n",
    "SCORING = 'f1'         # (precision * recall) / (precision + recall)\n",
    "# SCORING = 'accuracy'   # (TP + TN) / all values\n",
    "# SCORING = 'precision'  # TP / (TP + FP)\n",
    "# SCORING = 'recall'     # TP / (TP + FN)\n",
    "# SCORING = 'average_precision'\n",
    "# SCORING = 'roc_auc'\n",
    "\n",
    "JOBS = 4\n",
    "VERBOSE = 0\n",
    "\n",
    "warnings.filterwarnings(\"ignore\", 'F-score is ill-defined')"
   ]
  },
  {
   "cell_type": "markdown",
   "metadata": {},
   "source": [
    "# Load Data"
   ]
  },
  {
   "cell_type": "code",
   "execution_count": 3,
   "metadata": {
    "collapsed": false
   },
   "outputs": [],
   "source": [
    "%%capture\n",
    "Y, X = get_dataset(PROJECT, IMPORTANCE)"
   ]
  },
  {
   "cell_type": "markdown",
   "metadata": {},
   "source": [
    "### Select Split Strategy"
   ]
  },
  {
   "cell_type": "code",
   "execution_count": 4,
   "metadata": {
    "collapsed": false
   },
   "outputs": [],
   "source": [
    "cv = PredictCV(len(Y), history=700, future=200, n_iter=10)"
   ]
  },
  {
   "cell_type": "markdown",
   "metadata": {},
   "source": [
    "# Initial Parameter Settings"
   ]
  },
  {
   "cell_type": "code",
   "execution_count": 5,
   "metadata": {
    "collapsed": false
   },
   "outputs": [],
   "source": [
    "estimator = LogisticRegression()"
   ]
  },
  {
   "cell_type": "code",
   "execution_count": 6,
   "metadata": {
    "collapsed": false
   },
   "outputs": [],
   "source": [
    "C_range = np.logspace(-1, 8, 10)\n",
    "param_grid = dict(C=C_range, class_weight=['auto'])"
   ]
  },
  {
   "cell_type": "code",
   "execution_count": 7,
   "metadata": {
    "collapsed": false
   },
   "outputs": [
    {
     "name": "stdout",
     "output_type": "stream",
     "text": [
      "best_score:  0.392757690894\n"
     ]
    },
    {
     "data": {
      "text/plain": [
       "LogisticRegression(C=0.10000000000000001, class_weight='auto', dual=False,\n",
       "          fit_intercept=True, intercept_scaling=1, penalty='l2',\n",
       "          random_state=None, tol=0.0001)"
      ]
     },
     "execution_count": 7,
     "metadata": {},
     "output_type": "execute_result"
    }
   ],
   "source": [
    "grid = GridSearchCV(estimator, param_grid=param_grid, cv=cv, scoring=SCORING,\n",
    "                    n_jobs=JOBS, pre_dispatch=2*JOBS, verbose=VERBOSE)\n",
    "grid.fit(X, Y)\n",
    "print 'best_score: ', grid.best_score_\n",
    "clf = grid.best_estimator_\n",
    "grid.best_estimator_"
   ]
  },
  {
   "cell_type": "code",
   "execution_count": 8,
   "metadata": {
    "collapsed": false
   },
   "outputs": [
    {
     "data": {
      "text/plain": [
       "LogisticRegression(C=0.10000000000000001, class_weight='auto', dual=False,\n",
       "          fit_intercept=True, intercept_scaling=1, penalty='l2',\n",
       "          random_state=None, tol=0.0001)"
      ]
     },
     "execution_count": 8,
     "metadata": {},
     "output_type": "execute_result"
    }
   ],
   "source": [
    "grid.best_estimator_"
   ]
  },
  {
   "cell_type": "markdown",
   "metadata": {},
   "source": [
    "# Validation Curves Example"
   ]
  },
  {
   "cell_type": "markdown",
   "metadata": {},
   "source": [
    "### Impact of C"
   ]
  },
  {
   "cell_type": "code",
   "execution_count": 9,
   "metadata": {
    "collapsed": false
   },
   "outputs": [
    {
     "data": {
      "image/png": "[encoded data removed]",
      "text/plain": [
       "<matplotlib.figure.Figure at 0x125151b90>"
      ]
     },
     "metadata": {},
     "output_type": "display_data"
    },
    {
     "name": "stdout",
     "output_type": "stream",
     "text": [
      "Best score of 0.423077568694 when setting C to 0.1\n"
     ]
    },
    {
     "data": {
      "text/plain": [
       "LogisticRegression(C=0.10000000000000001, class_weight='auto', dual=False,\n",
       "          fit_intercept=True, intercept_scaling=1, penalty='l2',\n",
       "          random_state=None, tol=0.0001)"
      ]
     },
     "execution_count": 9,
     "metadata": {},
     "output_type": "execute_result"
    }
   ],
   "source": [
    "best_score, param_val, param_name = \\\n",
    "    plot_validation_curve(clf, X, Y, \"C\", np.logspace(-2, 8, 11),\n",
    "                      \"C Validation Curve with Logistic Regression\",\n",
    "                      cv=cv, scoring=SCORING, n_jobs=JOBS)\n",
    "print 'Best score of', best_score, 'when setting', param_name, 'to',  param_val\n",
    "clf.set_params(**dict([[param_name, param_val]]))"
   ]
  },
  {
   "cell_type": "code",
   "execution_count": 10,
   "metadata": {
    "collapsed": false
   },
   "outputs": [
    {
     "data": {
      "image/png": "[encoded data removed]",
      "text/plain": [
       "<matplotlib.figure.Figure at 0x12557e550>"
      ]
     },
     "metadata": {},
     "output_type": "display_data"
    },
    {
     "name": "stdout",
     "output_type": "stream",
     "text": [
      "Best score of 0.453268734096 when setting C to 0.01\n"
     ]
    },
    {
     "data": {
      "text/plain": [
       "LogisticRegression(C=0.01, class_weight='auto', dual=False,\n",
       "          fit_intercept=True, intercept_scaling=1, penalty='l2',\n",
       "          random_state=None, tol=0.0001)"
      ]
     },
     "execution_count": 10,
     "metadata": {},
     "output_type": "execute_result"
    }
   ],
   "source": [
    "param_log10 = math.log10(param_val)\n",
    "best_score, param_val, param_name = \\\n",
    "    plot_validation_curve(clf, X, Y, param_name, np.logspace(param_log10 - 1, param_log10 + 1, 10),\n",
    "                      \"C Validation Curve with Logistic Regression\",\n",
    "                      cv=cv, scoring=SCORING, n_jobs=JOBS)\n",
    "print 'Best score of', best_score, 'when setting', param_name, 'to',  param_val\n",
    "clf.set_params(**dict([[param_name, param_val]]))"
   ]
  },
  {
   "cell_type": "markdown",
   "metadata": {},
   "source": [
    "### Learning Curve"
   ]
  },
  {
   "cell_type": "code",
   "execution_count": 11,
   "metadata": {
    "collapsed": false
   },
   "outputs": [
    {
     "data": {
      "image/png": "[encoded data removed]",
      "text/plain": [
       "<matplotlib.figure.Figure at 0x128afd6d0>"
      ]
     },
     "metadata": {},
     "output_type": "display_data"
    }
   ],
   "source": [
    "title = \"Learning Curves\"\n",
    "my_plot_learning_curve(clf, title, X, Y,\n",
    "                           n_jobs=JOBS, future=100,\n",
    "                           history_sizes=[100, 200, 300, 500, 600, 700, 800, 900, 1000])\n",
    "plt.show()"
   ]
  },
  {
   "cell_type": "markdown",
   "metadata": {},
   "source": [
    "### Prediction Curve"
   ]
  },
  {
   "cell_type": "code",
   "execution_count": 12,
   "metadata": {
    "collapsed": false
   },
   "outputs": [
    {
     "data": {
      "image/png": "[encoded data removed]",
      "text/plain": [
       "<matplotlib.figure.Figure at 0x125204210>"
      ]
     },
     "metadata": {},
     "output_type": "display_data"
    }
   ],
   "source": [
    "title = \"Prediction Horizon Curve for DecisionTreeClassifier\"\n",
    "plot_prediction_curve(clf, title, X, Y,\n",
    "                           n_jobs=JOBS, history=700,\n",
    "                           future_sizes=[100, 200, 300, 500])\n",
    "plt.show()"
   ]
  },
  {
   "cell_type": "code",
   "execution_count": 13,
   "metadata": {
    "collapsed": false
   },
   "outputs": [
    {
     "name": "stdout",
     "output_type": "stream",
     "text": [
      "** Predictions for hist=300 future=100 **\n",
      "\n",
      "F1:        0.41  +/- 0.15\n",
      "Accuracy:  0.63  +/- 0.07\n",
      "Precision: 0.39  +/- 0.11\n",
      "Recall:    0.46  +/- 0.20\n",
      "\n",
      "Aggregate Confusion Matrix - 10 iterations\n",
      "[[476 214]\n",
      " [155 155]]\n",
      "\n",
      "\n",
      "** Predictions for hist=300 future=200 **\n",
      "\n",
      "F1:        0.41  +/- 0.11\n",
      "Accuracy:  0.62  +/- 0.04\n",
      "Precision: 0.36  +/- 0.11\n",
      "Recall:    0.48  +/- 0.15\n",
      "\n",
      "Aggregate Confusion Matrix - 10 iterations\n",
      "[[955 469]\n",
      " [288 288]]\n",
      "\n",
      "\n",
      "** Predictions for hist=300 future=500 **\n",
      "\n",
      "F1:        0.44  +/- 0.07\n",
      "Accuracy:  0.61  +/- 0.07\n",
      "Precision: 0.39  +/- 0.05\n",
      "Recall:    0.54  +/- 0.14\n",
      "\n",
      "Aggregate Confusion Matrix - 10 iterations\n",
      "[[2240 1265]\n",
      " [ 672  823]]\n",
      "\n",
      "\n",
      "** Predictions for hist=500 future=100 **\n",
      "\n",
      "F1:        0.44  +/- 0.09\n",
      "Accuracy:  0.59  +/- 0.05\n",
      "Precision: 0.39  +/- 0.13\n",
      "Recall:    0.54  +/- 0.11\n",
      "\n",
      "Aggregate Confusion Matrix - 10 iterations\n",
      "[[423 266]\n",
      " [143 168]]\n",
      "\n",
      "\n",
      "** Predictions for hist=500 future=200 **\n",
      "\n",
      "F1:        0.42  +/- 0.08\n",
      "Accuracy:  0.64  +/- 0.09\n",
      "Precision: 0.44  +/- 0.13\n",
      "Recall:    0.42  +/- 0.08\n",
      "\n",
      "Aggregate Confusion Matrix - 10 iterations\n",
      "[[990 357]\n",
      " [365 288]]\n",
      "\n",
      "\n",
      "** Predictions for hist=500 future=500 **\n",
      "\n",
      "F1:        0.42  +/- 0.04\n",
      "Accuracy:  0.61  +/- 0.04\n",
      "Precision: 0.34  +/- 0.07\n",
      "Recall:    0.58  +/- 0.09\n",
      "\n",
      "Aggregate Confusion Matrix - 10 iterations\n",
      "[[2324 1411]\n",
      " [ 541  724]]\n",
      "\n",
      "\n",
      "** Predictions for hist=900 future=100 **\n",
      "\n",
      "F1:        0.43  +/- 0.12\n",
      "Accuracy:  0.67  +/- 0.07\n",
      "Precision: 0.35  +/- 0.11\n",
      "Recall:    0.64  +/- 0.17\n",
      "\n",
      "Aggregate Confusion Matrix - 10 iterations\n",
      "[[530 254]\n",
      " [ 76 140]]\n",
      "\n",
      "\n",
      "** Predictions for hist=900 future=200 **\n",
      "\n",
      "F1:        0.40  +/- 0.06\n",
      "Accuracy:  0.65  +/- 0.05\n",
      "Precision: 0.32  +/- 0.06\n",
      "Recall:    0.56  +/- 0.10\n",
      "\n",
      "Aggregate Confusion Matrix - 10 iterations\n",
      "[[1047  521]\n",
      " [ 187  245]]\n",
      "\n",
      "\n",
      "** Predictions for hist=900 future=500 **\n",
      "\n",
      "F1:        0.42  +/- 0.04\n",
      "Accuracy:  0.62  +/- 0.03\n",
      "Precision: 0.33  +/- 0.05\n",
      "Recall:    0.61  +/- 0.09\n",
      "\n",
      "Aggregate Confusion Matrix - 10 iterations\n",
      "[[2400 1431]\n",
      " [ 466  703]]\n",
      "\n",
      "\n",
      "** Predictions for hist=1000 future=100 **\n",
      "\n",
      "F1:        0.45  +/- 0.09\n",
      "Accuracy:  0.62  +/- 0.06\n",
      "Precision: 0.38  +/- 0.10\n",
      "Recall:    0.60  +/- 0.12\n",
      "\n",
      "Aggregate Confusion Matrix - 10 iterations\n",
      "[[458 273]\n",
      " [102 167]]\n",
      "\n",
      "\n",
      "** Predictions for hist=1000 future=200 **\n",
      "\n",
      "F1:        0.44  +/- 0.07\n",
      "Accuracy:  0.65  +/- 0.04\n",
      "Precision: 0.37  +/- 0.08\n",
      "Recall:    0.55  +/- 0.07\n",
      "\n",
      "Aggregate Confusion Matrix - 10 iterations\n",
      "[[1024  468]\n",
      " [ 225  283]]\n",
      "\n",
      "\n",
      "** Predictions for hist=1000 future=500 **\n",
      "\n",
      "F1:        0.43  +/- 0.04\n",
      "Accuracy:  0.63  +/- 0.02\n",
      "Precision: 0.32  +/- 0.04\n",
      "Recall:    0.64  +/- 0.04\n",
      "\n",
      "Aggregate Confusion Matrix - 10 iterations\n",
      "[[2438 1470]\n",
      " [ 387  705]]\n",
      "\n",
      "\n"
     ]
    }
   ],
   "source": [
    "LR_results = eval_predictions(clf, X, Y, history_sizes=[300, 500, 900, 1000], future_sizes=[100, 200, 500])"
   ]
  }
 ],
 "metadata": {
  "kernelspec": {
   "display_name": "Python 2",
   "language": "python",
   "name": "python2"
  },
  "language_info": {
   "codemirror_mode": {
    "name": "ipython",
    "version": 2
   },
   "file_extension": ".py",
   "mimetype": "text/x-python",
   "name": "python",
   "nbconvert_exporter": "python",
   "pygments_lexer": "ipython2",
   "version": "2.7.9"
  }
 },
 "nbformat": 4,
 "nbformat_minor": 0
}
