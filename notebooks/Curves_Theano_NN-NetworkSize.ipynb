{
 "cells": [
  {
   "cell_type": "markdown",
   "metadata": {},
   "source": [
    "#GitAnalysis using Theano"
   ]
  },
  {
   "cell_type": "code",
   "execution_count": 1,
   "metadata": {
    "collapsed": true
   },
   "outputs": [],
   "source": [
    "%matplotlib inline"
   ]
  },
  {
   "cell_type": "code",
   "execution_count": 2,
   "metadata": {
    "collapsed": true
   },
   "outputs": [],
   "source": [
    "from pprint import pprint\n",
    "from collections import defaultdict\n",
    "\n",
    "import numpy as np\n",
    "import math\n",
    "import matplotlib.pyplot as plt\n",
    "import random\n",
    "import warnings\n",
    "import copy\n",
    "import pickle\n",
    "\n",
    "from sklearn.grid_search import GridSearchCV\n",
    "from sklearn import metrics\n",
    "\n",
    "import sys\n",
    "sys.path.append('../dev')\n",
    "\n",
    "from ml_plot import plot_validation_curve\n",
    "from ml_plot import my_plot_learning_curve\n",
    "from ml_plot import plot_prediction_curve\n",
    "from ml_plot import get_dataset, eval_predictions\n",
    "from ml_plot import PredictCV, PredictCV_TrainTest\n",
    "from ml_plot import PredictCV_TrainTestValidate"
   ]
  },
  {
   "cell_type": "code",
   "execution_count": 3,
   "metadata": {
    "collapsed": false
   },
   "outputs": [],
   "source": [
    "from Theano_NN import test_nn, modern_nn_model, modern_nn_model_h1\n",
    "from Theano_NN import convert_binary_to_onehot, compute_stats, print_stats"
   ]
  },
  {
   "cell_type": "code",
   "execution_count": 4,
   "metadata": {
    "collapsed": true
   },
   "outputs": [],
   "source": [
    "PROJECT = 'nova'\n",
    "# PROJECT = 'swift'\n",
    "# PROJECT = 'cinder'\n",
    "# PROJECT = 'heat'\n",
    "# PROJECT = 'glance'\n",
    "\n",
    "# IMPORTANCE = 'crit'\n",
    "# IMPORTANCE = 'high+'\n",
    "IMPORTANCE = 'med+'\n",
    "# IMPORTANCE = 'low+'\n",
    "\n",
    "# SIZE = 100\n",
    "#SIZE = 250\n",
    "# SIZE = 0.1\n",
    "SIZE = 0.5\n",
    "\n",
    "SCORING = 'f1'         # (precision * recall) / (precision + recall)\n",
    "# SCORING = 'accuracy'   # (TP + TN) / all values\n",
    "# SCORING = 'precision'  # TP / (TP + FP)\n",
    "# SCORING = 'recall'     # TP / (TP + FN)\n",
    "# SCORING = 'average_precision'\n",
    "# SCORING = 'roc_auc'\n",
    "\n",
    "JOBS = 4\n",
    "VERBOSE = True\n",
    "\n",
    "warnings.filterwarnings('ignore', 'F-score is ill-defined')\n",
    "warnings.filterwarnings('ignore', 'overflow encountered in exp')"
   ]
  },
  {
   "cell_type": "markdown",
   "metadata": {},
   "source": [
    "#Function definitions"
   ]
  },
  {
   "cell_type": "code",
   "execution_count": 5,
   "metadata": {
    "collapsed": true
   },
   "outputs": [],
   "source": [
    "def print_stats2(metric_name, metric_value, param_name, param_value, stats):\n",
    "    print 'Best Results for {0} : {1}  {2} : {3}'.format(\n",
    "        metric_name, metric_value, param_name, param_value)\n",
    "    print '    {0:8} {1:8}'.format(stats['TP'], stats['FP'])\n",
    "    print '    {0:8} {1:8}'.format(stats['FN'], stats['TN'])\n",
    "    print '    Precision: {0:0.2f} Recall: {1:0.2f}, F1: {2:0.2f}'.format(\n",
    "        stats['precision'], stats['recall'], stats['f1'])    "
   ]
  },
  {
   "cell_type": "code",
   "execution_count": 6,
   "metadata": {
    "collapsed": false
   },
   "outputs": [],
   "source": [
    "def analyze_bias(predict, X_test, Y_test, min_bias=-0.2, max_bias=0.05, test_points=10, detail=False):\n",
    "    best_f1 = 0.0\n",
    "    best_f1_bias = 0.0\n",
    "    best_f1_stats = []\n",
    "    best_precision = 0.0\n",
    "    best_precision_bias = 0.0\n",
    "    best_precision_stats = []\n",
    "    for bias in np.linspace(min_bias, max_bias, test_points):\n",
    "        biasV = np.array([-bias, bias])\n",
    "    \n",
    "        y_predict = predict(X_test, bias=biasV)\n",
    "        y_target = np.argmax(Y_test, axis=1)\n",
    "            \n",
    "        (cost, TP, FP, FN, TN, precision, recall, f1) = compute_stats(y_predict, y_target)\n",
    "        if detail:\n",
    "            print 'Bias:', bias\n",
    "            print_stats(0, cost, TP, FP, FN, TN, precision, recall, f1)\n",
    "            print\n",
    "        if f1 > best_f1:\n",
    "            best_f1 = f1\n",
    "            best_f1_bias = bias\n",
    "            best_f1_stats = {'cost':cost, 'TP':TP, 'FP':FP, 'FN':FN, 'TN':TN,\n",
    "                             'precision':precision, 'recall':recall, 'f1':f1}\n",
    "        if precision > best_precision:\n",
    "            best_precision = precision\n",
    "            best_precision_bias = bias\n",
    "            best_precision_stats = {'cost':cost, 'TP':TP, 'FP':FP, 'FN':FN, 'TN':TN, \n",
    "                                    'precision':precision, 'recall':recall, 'f1':f1}\n",
    "        \n",
    "    print_stats2('F1', best_f1, 'Bias', best_f1_bias, best_f1_stats)\n",
    "    print\n",
    "    print_stats2('Precision', best_precision, 'Bias', best_precision_bias, best_precision_stats)"
   ]
  },
  {
   "cell_type": "code",
   "execution_count": 7,
   "metadata": {
    "collapsed": true
   },
   "outputs": [],
   "source": [
    "def analyze_distance(predict, X_test, Y_test, bias=0.0):\n",
    "    biasV = np.array([-bias, bias])\n",
    "    for size in [100, 200, 300, 400, 500]:\n",
    "    \n",
    "        y_predict = predict(X_test[:size,], bias=biasV)\n",
    "        y_target = np.argmax(Y_test[:size,], axis=1)\n",
    "            \n",
    "        (cost, TP, FP, FN, TN, precision, recall, f1) = compute_stats(y_predict, y_target)\n",
    "        stats = {'cost':cost, 'TP':TP, 'FP':FP, 'FN':FN, 'TN':TN,\n",
    "                 'precision':precision, 'recall':recall, 'f1':f1}\n",
    "\n",
    "        print_stats2('Size', size, 'Cost', stats['cost'], stats)\n",
    "        print"
   ]
  },
  {
   "cell_type": "code",
   "execution_count": 8,
   "metadata": {
    "collapsed": true
   },
   "outputs": [],
   "source": [
    "def show_best(predict, X_test, Y_test, bias=0.0):\n",
    "    \n",
    "    biasV = np.array([-bias, bias])\n",
    "    y_predict = predict(X_test, bias=biasV)\n",
    "    y_target = np.argmax(Y_test, axis=1)\n",
    "            \n",
    "    (cost, TP, FP, FN, TN, precision, recall, f1) = compute_stats(y_predict, y_target)\n",
    "    print_stats(-1, cost, TP, FP, FN, TN, precision, recall, f1)"
   ]
  },
  {
   "cell_type": "markdown",
   "metadata": {
    "collapsed": true
   },
   "source": [
    "#Load Data"
   ]
  },
  {
   "cell_type": "code",
   "execution_count": 9,
   "metadata": {
    "collapsed": false
   },
   "outputs": [],
   "source": [
    "%%capture\n",
    "Y, X = get_dataset(PROJECT, IMPORTANCE)"
   ]
  },
  {
   "cell_type": "code",
   "execution_count": 10,
   "metadata": {
    "collapsed": false
   },
   "outputs": [
    {
     "name": "stdout",
     "output_type": "stream",
     "text": [
      "Rows: 8806 Features: 16233\n"
     ]
    }
   ],
   "source": [
    "rows = X.shape[0]\n",
    "feats = X.shape[1]\n",
    "print 'Rows:', rows, 'Features:', feats"
   ]
  },
  {
   "cell_type": "code",
   "execution_count": 11,
   "metadata": {
    "collapsed": false
   },
   "outputs": [
    {
     "name": "stdout",
     "output_type": "stream",
     "text": [
      "7425 500 7925\n"
     ]
    }
   ],
   "source": [
    "n_test = 500\n",
    "ignore = 0.1\n",
    "\n",
    "max_rows= int(rows*(1.0-ignore))\n",
    "n_train = max_rows-n_test\n",
    "\n",
    "print n_train, n_test, max_rows"
   ]
  },
  {
   "cell_type": "code",
   "execution_count": 12,
   "metadata": {
    "collapsed": false
   },
   "outputs": [],
   "source": [
    "Y_onehot = convert_binary_to_onehot(Y)\n",
    "\n",
    "X_train = X[:n_train,]\n",
    "Y_train = Y_onehot[:n_train,]\n",
    "X_test = X[n_train:n_train+n_test,]\n",
    "Y_test = Y_onehot[n_train:n_train+n_test,]"
   ]
  },
  {
   "cell_type": "code",
   "execution_count": 13,
   "metadata": {
    "collapsed": false
   },
   "outputs": [
    {
     "name": "stdout",
     "output_type": "stream",
     "text": [
      "Initial Shapes:\n",
      "  X (8806, 16233) <type 'numpy.ndarray'>\n",
      "  Y (8806,) <type 'numpy.ndarray'>\n",
      "  Y(one hot): (8806, 2) <type 'numpy.ndarray'>\n",
      "\n",
      "Train and Test Data:\n",
      "  train -- X: (7425, 16233) Y: (7425, 2)\n",
      "  test  -- X: (500, 16233) Y: (500, 2)\n"
     ]
    }
   ],
   "source": [
    "print 'Initial Shapes:'\n",
    "print '  X', X.shape, type(X)\n",
    "print '  Y', Y.shape, type(Y)\n",
    "print '  Y(one hot):', Y_onehot.shape, type(Y_onehot)\n",
    "print\n",
    "print 'Train and Test Data:'\n",
    "print '  train -- X:', X_train.shape, 'Y:', Y_train.shape\n",
    "print '  test  -- X:', X_test.shape, 'Y:', Y_test.shape"
   ]
  },
  {
   "cell_type": "markdown",
   "metadata": {},
   "source": [
    "#Start of Analysis"
   ]
  },
  {
   "cell_type": "markdown",
   "metadata": {},
   "source": [
    "##Test Instance"
   ]
  },
  {
   "cell_type": "code",
   "execution_count": 14,
   "metadata": {
    "collapsed": true
   },
   "outputs": [],
   "source": [
    "if False:\n",
    "    (predict, best_weights, _) = test_nn(modern_nn_model_h1, X_train, X_test, Y_train, Y_test, \n",
    "        iterations=2, dimensions=[feats, 100, 2], #  lr=0.003,\n",
    "        update='rms_prop', uses_dropout=True,\n",
    "        max_distance=50, lr=0.003, min_lr=0.000001)"
   ]
  },
  {
   "cell_type": "code",
   "execution_count": 15,
   "metadata": {
    "collapsed": true
   },
   "outputs": [],
   "source": [
    "if False:\n",
    "    show_best(predict, X_test, Y_test, bias=0.0)"
   ]
  },
  {
   "cell_type": "code",
   "execution_count": 16,
   "metadata": {
    "collapsed": true
   },
   "outputs": [],
   "source": [
    "if False:\n",
    "    analyze_bias(predict, X_test, Y_test, min_bias=-0.2, max_bias=0.05)"
   ]
  },
  {
   "cell_type": "code",
   "execution_count": 17,
   "metadata": {
    "collapsed": true
   },
   "outputs": [],
   "source": [
    "if False:\n",
    "    analyze_distance(predict, X_test, Y_test)"
   ]
  },
  {
   "cell_type": "markdown",
   "metadata": {},
   "source": [
    "## Determine impact of starting LR"
   ]
  },
  {
   "cell_type": "markdown",
   "metadata": {},
   "source": [
    "###50 Hidden nodes"
   ]
  },
  {
   "cell_type": "code",
   "execution_count": 18,
   "metadata": {
    "collapsed": false,
    "scrolled": true
   },
   "outputs": [
    {
     "name": "stdout",
     "output_type": "stream",
     "text": [
      "Iteration: 0  Cost: 0.11\n",
      "          55      445\n",
      "           0        0\n",
      "    Precision: 0.11 Recall: 1.00, F1: 0.20\n",
      "    Best Prec: 0.11 Recall: 1.00, F1: 0.20  i: 0\n",
      "\n",
      "Iteration: 1  Cost: 0.186\n",
      "          55      407\n",
      "           0       38\n",
      "    Precision: 0.12 Recall: 1.00, F1: 0.21\n",
      "    Best Prec: 0.12 Recall: 1.00, F1: 0.21  i: 1\n",
      "\n",
      "Iteration: 2  Cost: 0.27\n",
      "          54      364\n",
      "           1       81\n",
      "    Precision: 0.13 Recall: 0.98, F1: 0.23\n",
      "    Best Prec: 0.13 Recall: 0.98, F1: 0.23  i: 2\n",
      "\n",
      "Iteration: 5  Cost: 0.72\n",
      "          39      124\n",
      "          16      321\n",
      "    Precision: 0.24 Recall: 0.71, F1: 0.36\n",
      "    Best Prec: 0.24 Recall: 0.71, F1: 0.36  i: 5\n",
      "\n",
      "Iteration: 6  Cost: 0.814\n",
      "          31       69\n",
      "          24      376\n",
      "    Precision: 0.31 Recall: 0.56, F1: 0.40\n",
      "    Best Prec: 0.31 Recall: 0.56, F1: 0.40  i: 6\n",
      "\n",
      "Iteration: 10  Cost: 0.772\n",
      "          34       93\n",
      "          21      352\n",
      "    Precision: 0.27 Recall: 0.62, F1: 0.37\n",
      "    Best Prec: 0.31 Recall: 0.56, F1: 0.40  i: 6\n",
      "\n",
      "Iteration: 19  Cost: 0.762\n",
      "          40      104\n",
      "          15      341\n",
      "    Precision: 0.28 Recall: 0.73, F1: 0.40\n",
      "    Best Prec: 0.28 Recall: 0.73, F1: 0.40  i: 19\n",
      "\n",
      "Iteration: 20  Cost: 0.728\n",
      "          42      123\n",
      "          13      322\n",
      "    Precision: 0.25 Recall: 0.76, F1: 0.38\n",
      "    Best Prec: 0.28 Recall: 0.73, F1: 0.40  i: 19\n",
      "\n",
      "Iteration: 30  Cost: 0.692\n",
      "          45      144\n",
      "          10      301\n",
      "    Precision: 0.24 Recall: 0.82, F1: 0.37\n",
      "    Best Prec: 0.28 Recall: 0.73, F1: 0.40  i: 19\n",
      "\n",
      "Iteration: 34  Cost: 0.822\n",
      "          30       64\n",
      "          25      381\n",
      "    Precision: 0.32 Recall: 0.55, F1: 0.40\n",
      "    Best Prec: 0.32 Recall: 0.55, F1: 0.40  i: 34\n",
      "\n",
      "Iteration: 40  Cost: 0.796\n",
      "          29       76\n",
      "          26      369\n",
      "    Precision: 0.28 Recall: 0.53, F1: 0.36\n",
      "    Best Prec: 0.32 Recall: 0.55, F1: 0.40  i: 34\n",
      "\n",
      "Iteration: 50  Cost: 0.838\n",
      "          27       53\n",
      "          28      392\n",
      "    Precision: 0.34 Recall: 0.49, F1: 0.40\n",
      "    Best Prec: 0.32 Recall: 0.55, F1: 0.40  i: 34\n",
      "\n",
      "Iteration: 60  Cost: 0.812\n",
      "          31       70\n",
      "          24      375\n",
      "    Precision: 0.31 Recall: 0.56, F1: 0.40\n",
      "    Best Prec: 0.32 Recall: 0.55, F1: 0.40  i: 34\n",
      "\n",
      "Iteration: 61  Cost: 0.794\n",
      "          37       85\n",
      "          18      360\n",
      "    Precision: 0.30 Recall: 0.67, F1: 0.42\n",
      "    Best Prec: 0.30 Recall: 0.67, F1: 0.42  i: 61\n",
      "\n",
      "Iteration: 70  Cost: 0.79\n",
      "          30       80\n",
      "          25      365\n",
      "    Precision: 0.27 Recall: 0.55, F1: 0.36\n",
      "    Best Prec: 0.30 Recall: 0.67, F1: 0.42  i: 61\n",
      "\n",
      "Iteration: 80  Cost: 0.792\n",
      "          32       81\n",
      "          23      364\n",
      "    Precision: 0.28 Recall: 0.58, F1: 0.38\n",
      "    Best Prec: 0.30 Recall: 0.67, F1: 0.42  i: 61\n",
      "\n",
      "Iteration: 90  Cost: 0.776\n",
      "          35       92\n",
      "          20      353\n",
      "    Precision: 0.28 Recall: 0.64, F1: 0.38\n",
      "    Best Prec: 0.30 Recall: 0.67, F1: 0.42  i: 61\n",
      "\n",
      "Iteration: 99  Cost: 0.798\n",
      "          32       78\n",
      "          23      367\n",
      "    Precision: 0.29 Recall: 0.58, F1: 0.39\n",
      "    Best Prec: 0.30 Recall: 0.67, F1: 0.42  i: 61\n",
      "\n",
      "Iteration: 100  Cost: 0.752\n",
      "          35      104\n",
      "          20      341\n",
      "    Precision: 0.25 Recall: 0.64, F1: 0.36\n",
      "    Best Prec: 0.30 Recall: 0.67, F1: 0.42  i: 61\n",
      "\n",
      "Iteration: 110  Cost: 0.778\n",
      "          33       89\n",
      "          22      356\n",
      "    Precision: 0.27 Recall: 0.60, F1: 0.37\n",
      "    Best Prec: 0.30 Recall: 0.67, F1: 0.42  i: 61\n",
      "\n",
      "\n",
      "112: Resetting to iteration 61, LR now 0.000300\n",
      "\n",
      "Validating restored results\n",
      "Iteration: 112  Cost: 0.794\n",
      "          37       85\n",
      "          18      360\n",
      "    Precision: 0.30 Recall: 0.67, F1: 0.42\n",
      "\n",
      "Iteration: 120  Cost: 0.784\n",
      "          30       83\n",
      "          25      362\n",
      "    Precision: 0.27 Recall: 0.55, F1: 0.36\n",
      "    Best Prec: 0.30 Recall: 0.67, F1: 0.42  i: 61\n",
      "\n",
      "Iteration: 130  Cost: 0.78\n",
      "          34       89\n",
      "          21      356\n",
      "    Precision: 0.28 Recall: 0.62, F1: 0.38\n",
      "    Best Prec: 0.30 Recall: 0.67, F1: 0.42  i: 61\n",
      "\n",
      "Iteration: 140  Cost: 0.772\n",
      "          34       93\n",
      "          21      352\n",
      "    Precision: 0.27 Recall: 0.62, F1: 0.37\n",
      "    Best Prec: 0.30 Recall: 0.67, F1: 0.42  i: 61\n",
      "\n",
      "Iteration: 150  Cost: 0.776\n",
      "          32       89\n",
      "          23      356\n",
      "    Precision: 0.26 Recall: 0.58, F1: 0.36\n",
      "    Best Prec: 0.30 Recall: 0.67, F1: 0.42  i: 61\n",
      "\n",
      "Iteration: 160  Cost: 0.764\n",
      "          34       97\n",
      "          21      348\n",
      "    Precision: 0.26 Recall: 0.62, F1: 0.37\n",
      "    Best Prec: 0.30 Recall: 0.67, F1: 0.42  i: 61\n",
      "\n",
      "\n",
      "163: Resetting to iteration 61, LR now 0.000030\n",
      "\n",
      "Validating restored results\n",
      "Iteration: 163  Cost: 0.794\n",
      "          37       85\n",
      "          18      360\n",
      "    Precision: 0.30 Recall: 0.67, F1: 0.42\n",
      "\n",
      "Iteration: 170  Cost: 0.786\n",
      "          31       83\n",
      "          24      362\n",
      "    Precision: 0.27 Recall: 0.56, F1: 0.37\n",
      "    Best Prec: 0.30 Recall: 0.67, F1: 0.42  i: 61\n",
      "\n",
      "Iteration: 180  Cost: 0.796\n",
      "          30       77\n",
      "          25      368\n",
      "    Precision: 0.28 Recall: 0.55, F1: 0.37\n",
      "    Best Prec: 0.30 Recall: 0.67, F1: 0.42  i: 61\n",
      "\n",
      "Iteration: 190  Cost: 0.798\n",
      "          30       76\n",
      "          25      369\n",
      "    Precision: 0.28 Recall: 0.55, F1: 0.37\n",
      "    Best Prec: 0.30 Recall: 0.67, F1: 0.42  i: 61\n",
      "\n",
      "Iteration: 200  Cost: 0.794\n",
      "          31       79\n",
      "          24      366\n",
      "    Precision: 0.28 Recall: 0.56, F1: 0.38\n",
      "    Best Prec: 0.30 Recall: 0.67, F1: 0.42  i: 61\n",
      "\n",
      "Iteration: 210  Cost: 0.792\n",
      "          30       79\n",
      "          25      366\n",
      "    Precision: 0.28 Recall: 0.55, F1: 0.37\n",
      "    Best Prec: 0.30 Recall: 0.67, F1: 0.42  i: 61\n",
      "\n",
      "\n",
      "Final Result\n",
      "    Best Prec: 0.30 Recall: 0.67, F1: 0.42  i: 61\n",
      "Validating restored results\n",
      "Iteration: 214  Cost: 0.794\n",
      "          37       85\n",
      "          18      360\n",
      "    Precision: 0.30 Recall: 0.67, F1: 0.42\n",
      "\n"
     ]
    }
   ],
   "source": [
    "(predict1, best_weights1, _) = test_nn(modern_nn_model_h1, X_train, X_test, Y_train, Y_test, \n",
    "        iterations=2001, dimensions=[feats, 50, 2],\n",
    "        update='rms_prop', uses_dropout=True,\n",
    "        max_distance=50, lr=0.003, min_lr=0.00003)"
   ]
  },
  {
   "cell_type": "code",
   "execution_count": 30,
   "metadata": {
    "collapsed": false
   },
   "outputs": [
    {
     "name": "stdout",
     "output_type": "stream",
     "text": [
      "Iteration: -1  Cost: 0.794\n",
      "          37       85\n",
      "          18      360\n",
      "    Precision: 0.30 Recall: 0.67, F1: 0.42\n"
     ]
    }
   ],
   "source": [
    "show_best(predict1, X_test, Y_test, bias=0.0)"
   ]
  },
  {
   "cell_type": "code",
   "execution_count": 31,
   "metadata": {
    "collapsed": false,
    "scrolled": false
   },
   "outputs": [
    {
     "name": "stdout",
     "output_type": "stream",
     "text": [
      "Best Results for F1 : 0.418079096045  Bias : 0.0\n",
      "          37       85\n",
      "          18      360\n",
      "    Precision: 0.30 Recall: 0.67, F1: 0.42\n",
      "\n",
      "Best Results for Precision : 0.349206349206  Bias : -0.155555555556\n",
      "          22       41\n",
      "          33      404\n",
      "    Precision: 0.35 Recall: 0.40, F1: 0.37\n"
     ]
    }
   ],
   "source": [
    "analyze_bias(predict1, X_test, Y_test, min_bias=-0.2, max_bias=0.0)"
   ]
  },
  {
   "cell_type": "code",
   "execution_count": 32,
   "metadata": {
    "collapsed": false,
    "scrolled": true
   },
   "outputs": [
    {
     "name": "stdout",
     "output_type": "stream",
     "text": [
      "Best Results for Size : 100  Cost : 0.83\n",
      "          12       13\n",
      "           4       71\n",
      "    Precision: 0.48 Recall: 0.75, F1: 0.59\n",
      "\n",
      "Best Results for Size : 200  Cost : 0.76\n",
      "          26       41\n",
      "           7      126\n",
      "    Precision: 0.39 Recall: 0.79, F1: 0.52\n",
      "\n",
      "Best Results for Size : 300  Cost : 0.776666666667\n",
      "          29       55\n",
      "          12      204\n",
      "    Precision: 0.35 Recall: 0.71, F1: 0.46\n",
      "\n",
      "Best Results for Size : 400  Cost : 0.78\n",
      "          34       73\n",
      "          15      278\n",
      "    Precision: 0.32 Recall: 0.69, F1: 0.44\n",
      "\n",
      "Best Results for Size : 500  Cost : 0.794\n",
      "          37       85\n",
      "          18      360\n",
      "    Precision: 0.30 Recall: 0.67, F1: 0.42\n",
      "\n"
     ]
    }
   ],
   "source": [
    "analyze_distance(predict1, X_test, Y_test)"
   ]
  },
  {
   "cell_type": "markdown",
   "metadata": {},
   "source": [
    "###100 Hidden"
   ]
  },
  {
   "cell_type": "code",
   "execution_count": 22,
   "metadata": {
    "collapsed": false,
    "scrolled": true
   },
   "outputs": [
    {
     "name": "stdout",
     "output_type": "stream",
     "text": [
      "Iteration: 0  Cost: 0.11\n",
      "          55      445\n",
      "           0        0\n",
      "    Precision: 0.11 Recall: 1.00, F1: 0.20\n",
      "    Best Prec: 0.11 Recall: 1.00, F1: 0.20  i: 0\n",
      "\n",
      "Iteration: 1  Cost: 0.584\n",
      "          41      194\n",
      "          14      251\n",
      "    Precision: 0.17 Recall: 0.75, F1: 0.28\n",
      "    Best Prec: 0.17 Recall: 0.75, F1: 0.28  i: 1\n",
      "\n",
      "Iteration: 2  Cost: 0.674\n",
      "          38      146\n",
      "          17      299\n",
      "    Precision: 0.21 Recall: 0.69, F1: 0.32\n",
      "    Best Prec: 0.21 Recall: 0.69, F1: 0.32  i: 2\n",
      "\n",
      "Iteration: 3  Cost: 0.692\n",
      "          39      138\n",
      "          16      307\n",
      "    Precision: 0.22 Recall: 0.71, F1: 0.34\n",
      "    Best Prec: 0.22 Recall: 0.71, F1: 0.34  i: 3\n",
      "\n",
      "Iteration: 5  Cost: 0.716\n",
      "          35      122\n",
      "          20      323\n",
      "    Precision: 0.22 Recall: 0.64, F1: 0.33\n",
      "    Best Prec: 0.22 Recall: 0.71, F1: 0.34  i: 3\n",
      "\n",
      "Iteration: 7  Cost: 0.716\n",
      "          38      125\n",
      "          17      320\n",
      "    Precision: 0.23 Recall: 0.69, F1: 0.35\n",
      "    Best Prec: 0.23 Recall: 0.69, F1: 0.35  i: 7\n",
      "\n",
      "Iteration: 8  Cost: 0.81\n",
      "          27       67\n",
      "          28      378\n",
      "    Precision: 0.29 Recall: 0.49, F1: 0.36\n",
      "    Best Prec: 0.29 Recall: 0.49, F1: 0.36  i: 8\n",
      "\n",
      "Iteration: 10  Cost: 0.762\n",
      "          36      100\n",
      "          19      345\n",
      "    Precision: 0.26 Recall: 0.65, F1: 0.38\n",
      "    Best Prec: 0.26 Recall: 0.65, F1: 0.38  i: 10\n",
      "\n",
      "Iteration: 15  Cost: 0.8\n",
      "          35       80\n",
      "          20      365\n",
      "    Precision: 0.30 Recall: 0.64, F1: 0.41\n",
      "    Best Prec: 0.30 Recall: 0.64, F1: 0.41  i: 15\n",
      "\n",
      "Iteration: 20  Cost: 0.79\n",
      "          35       85\n",
      "          20      360\n",
      "    Precision: 0.29 Recall: 0.64, F1: 0.40\n",
      "    Best Prec: 0.30 Recall: 0.64, F1: 0.41  i: 15\n",
      "\n",
      "Iteration: 29  Cost: 0.83\n",
      "          33       63\n",
      "          22      382\n",
      "    Precision: 0.34 Recall: 0.60, F1: 0.44\n",
      "    Best Prec: 0.34 Recall: 0.60, F1: 0.44  i: 29\n",
      "\n",
      "Iteration: 30  Cost: 0.814\n",
      "          33       71\n",
      "          22      374\n",
      "    Precision: 0.32 Recall: 0.60, F1: 0.42\n",
      "    Best Prec: 0.34 Recall: 0.60, F1: 0.44  i: 29\n",
      "\n",
      "Iteration: 40  Cost: 0.614\n",
      "          44      182\n",
      "          11      263\n",
      "    Precision: 0.19 Recall: 0.80, F1: 0.31\n",
      "    Best Prec: 0.34 Recall: 0.60, F1: 0.44  i: 29\n",
      "\n",
      "Iteration: 50  Cost: 0.756\n",
      "          39      106\n",
      "          16      339\n",
      "    Precision: 0.27 Recall: 0.71, F1: 0.39\n",
      "    Best Prec: 0.34 Recall: 0.60, F1: 0.44  i: 29\n",
      "\n",
      "Iteration: 60  Cost: 0.778\n",
      "          31       87\n",
      "          24      358\n",
      "    Precision: 0.26 Recall: 0.56, F1: 0.36\n",
      "    Best Prec: 0.34 Recall: 0.60, F1: 0.44  i: 29\n",
      "\n",
      "Iteration: 64  Cost: 0.842\n",
      "          32       56\n",
      "          23      389\n",
      "    Precision: 0.36 Recall: 0.58, F1: 0.45\n",
      "    Best Prec: 0.36 Recall: 0.58, F1: 0.45  i: 64\n",
      "\n",
      "Iteration: 70  Cost: 0.794\n",
      "          34       82\n",
      "          21      363\n",
      "    Precision: 0.29 Recall: 0.62, F1: 0.40\n",
      "    Best Prec: 0.36 Recall: 0.58, F1: 0.45  i: 64\n",
      "\n",
      "Iteration: 80  Cost: 0.848\n",
      "          29       50\n",
      "          26      395\n",
      "    Precision: 0.37 Recall: 0.53, F1: 0.43\n",
      "    Best Prec: 0.36 Recall: 0.58, F1: 0.45  i: 64\n",
      "\n",
      "Iteration: 90  Cost: 0.848\n",
      "          30       51\n",
      "          25      394\n",
      "    Precision: 0.37 Recall: 0.55, F1: 0.44\n",
      "    Best Prec: 0.36 Recall: 0.58, F1: 0.45  i: 64\n",
      "\n",
      "Iteration: 99  Cost: 0.788\n",
      "          37       88\n",
      "          18      357\n",
      "    Precision: 0.30 Recall: 0.67, F1: 0.41\n",
      "    Best Prec: 0.36 Recall: 0.58, F1: 0.45  i: 64\n",
      "\n",
      "Iteration: 100  Cost: 0.83\n",
      "          28       58\n",
      "          27      387\n",
      "    Precision: 0.33 Recall: 0.51, F1: 0.40\n",
      "    Best Prec: 0.36 Recall: 0.58, F1: 0.45  i: 64\n",
      "\n",
      "Iteration: 110  Cost: 0.834\n",
      "          28       56\n",
      "          27      389\n",
      "    Precision: 0.33 Recall: 0.51, F1: 0.40\n",
      "    Best Prec: 0.36 Recall: 0.58, F1: 0.45  i: 64\n",
      "\n",
      "\n",
      "115: Resetting to iteration 64, LR now 0.000300\n",
      "\n",
      "Validating restored results\n",
      "Iteration: 115  Cost: 0.842\n",
      "          32       56\n",
      "          23      389\n",
      "    Precision: 0.36 Recall: 0.58, F1: 0.45\n",
      "\n",
      "Iteration: 120  Cost: 0.804\n",
      "          30       73\n",
      "          25      372\n",
      "    Precision: 0.29 Recall: 0.55, F1: 0.38\n",
      "    Best Prec: 0.36 Recall: 0.58, F1: 0.45  i: 64\n",
      "\n",
      "Iteration: 130  Cost: 0.81\n",
      "          31       71\n",
      "          24      374\n",
      "    Precision: 0.30 Recall: 0.56, F1: 0.39\n",
      "    Best Prec: 0.36 Recall: 0.58, F1: 0.45  i: 64\n",
      "\n",
      "Iteration: 140  Cost: 0.8\n",
      "          33       78\n",
      "          22      367\n",
      "    Precision: 0.30 Recall: 0.60, F1: 0.40\n",
      "    Best Prec: 0.36 Recall: 0.58, F1: 0.45  i: 64\n",
      "\n",
      "Iteration: 150  Cost: 0.792\n",
      "          31       80\n",
      "          24      365\n",
      "    Precision: 0.28 Recall: 0.56, F1: 0.37\n",
      "    Best Prec: 0.36 Recall: 0.58, F1: 0.45  i: 64\n",
      "\n",
      "Iteration: 160  Cost: 0.81\n",
      "          31       71\n",
      "          24      374\n",
      "    Precision: 0.30 Recall: 0.56, F1: 0.39\n",
      "    Best Prec: 0.36 Recall: 0.58, F1: 0.45  i: 64\n",
      "\n",
      "\n",
      "166: Resetting to iteration 64, LR now 0.000030\n",
      "\n",
      "Validating restored results\n",
      "Iteration: 166  Cost: 0.842\n",
      "          32       56\n",
      "          23      389\n",
      "    Precision: 0.36 Recall: 0.58, F1: 0.45\n",
      "\n",
      "Iteration: 167  Cost: 0.832\n",
      "          35       64\n",
      "          20      381\n",
      "    Precision: 0.35 Recall: 0.64, F1: 0.45\n",
      "    Best Prec: 0.35 Recall: 0.64, F1: 0.45  i: 167\n",
      "\n",
      "Iteration: 170  Cost: 0.804\n",
      "          35       78\n",
      "          20      367\n",
      "    Precision: 0.31 Recall: 0.64, F1: 0.42\n",
      "    Best Prec: 0.35 Recall: 0.64, F1: 0.45  i: 167\n",
      "\n",
      "Iteration: 180  Cost: 0.788\n",
      "          34       85\n",
      "          21      360\n",
      "    Precision: 0.29 Recall: 0.62, F1: 0.39\n",
      "    Best Prec: 0.35 Recall: 0.64, F1: 0.45  i: 167\n",
      "\n",
      "Iteration: 190  Cost: 0.796\n",
      "          34       81\n",
      "          21      364\n",
      "    Precision: 0.30 Recall: 0.62, F1: 0.40\n",
      "    Best Prec: 0.35 Recall: 0.64, F1: 0.45  i: 167\n",
      "\n",
      "Iteration: 200  Cost: 0.794\n",
      "          34       82\n",
      "          21      363\n",
      "    Precision: 0.29 Recall: 0.62, F1: 0.40\n",
      "    Best Prec: 0.35 Recall: 0.64, F1: 0.45  i: 167\n",
      "\n",
      "Iteration: 210  Cost: 0.798\n",
      "          34       80\n",
      "          21      365\n",
      "    Precision: 0.30 Recall: 0.62, F1: 0.40\n",
      "    Best Prec: 0.35 Recall: 0.64, F1: 0.45  i: 167\n",
      "\n",
      "\n",
      "Final Result\n",
      "    Best Prec: 0.35 Recall: 0.64, F1: 0.45  i: 167\n",
      "Validating restored results\n",
      "Iteration: 218  Cost: 0.832\n",
      "          35       64\n",
      "          20      381\n",
      "    Precision: 0.35 Recall: 0.64, F1: 0.45\n",
      "\n"
     ]
    }
   ],
   "source": [
    "(predict2, best_weights2, _) = test_nn(modern_nn_model_h1, X_train, X_test, Y_train, Y_test, \n",
    "        iterations=2001, dimensions=[feats, 100, 2],\n",
    "        update='rms_prop', uses_dropout=True,\n",
    "        max_distance=50, lr=0.003, min_lr=0.00003)"
   ]
  },
  {
   "cell_type": "code",
   "execution_count": 33,
   "metadata": {
    "collapsed": false
   },
   "outputs": [
    {
     "name": "stdout",
     "output_type": "stream",
     "text": [
      "Iteration: -1  Cost: 0.832\n",
      "          35       64\n",
      "          20      381\n",
      "    Precision: 0.35 Recall: 0.64, F1: 0.45\n"
     ]
    }
   ],
   "source": [
    "show_best(predict2, X_test, Y_test, bias=0.0)"
   ]
  },
  {
   "cell_type": "code",
   "execution_count": 34,
   "metadata": {
    "collapsed": false
   },
   "outputs": [
    {
     "name": "stdout",
     "output_type": "stream",
     "text": [
      "Best Results for F1 : 0.454545454545  Bias : 0.0\n",
      "          35       64\n",
      "          20      381\n",
      "    Precision: 0.35 Recall: 0.64, F1: 0.45\n",
      "\n",
      "Best Results for Precision : 0.422222222222  Bias : -0.177777777778\n",
      "          19       26\n",
      "          36      419\n",
      "    Precision: 0.42 Recall: 0.35, F1: 0.38\n"
     ]
    }
   ],
   "source": [
    "analyze_bias(predict2, X_test, Y_test, min_bias=-0.2, max_bias=0.0)"
   ]
  },
  {
   "cell_type": "code",
   "execution_count": 35,
   "metadata": {
    "collapsed": false,
    "scrolled": true
   },
   "outputs": [
    {
     "name": "stdout",
     "output_type": "stream",
     "text": [
      "Best Results for Size : 100  Cost : 0.85\n",
      "          10        9\n",
      "           6       75\n",
      "    Precision: 0.53 Recall: 0.62, F1: 0.57\n",
      "\n",
      "Best Results for Size : 200  Cost : 0.805\n",
      "          24       30\n",
      "           9      137\n",
      "    Precision: 0.44 Recall: 0.73, F1: 0.55\n",
      "\n",
      "Best Results for Size : 300  Cost : 0.826666666667\n",
      "          27       38\n",
      "          14      221\n",
      "    Precision: 0.42 Recall: 0.66, F1: 0.51\n",
      "\n",
      "Best Results for Size : 400  Cost : 0.8225\n",
      "          31       53\n",
      "          18      298\n",
      "    Precision: 0.37 Recall: 0.63, F1: 0.47\n",
      "\n",
      "Best Results for Size : 500  Cost : 0.832\n",
      "          35       64\n",
      "          20      381\n",
      "    Precision: 0.35 Recall: 0.64, F1: 0.45\n",
      "\n"
     ]
    }
   ],
   "source": [
    "analyze_distance(predict2, X_test, Y_test)"
   ]
  },
  {
   "cell_type": "markdown",
   "metadata": {},
   "source": [
    "###200 Hidden"
   ]
  },
  {
   "cell_type": "code",
   "execution_count": 24,
   "metadata": {
    "collapsed": false,
    "scrolled": true
   },
   "outputs": [
    {
     "name": "stdout",
     "output_type": "stream",
     "text": [
      "Iteration: 0  Cost: 0.38\n",
      "          51      306\n",
      "           4      139\n",
      "    Precision: 0.14 Recall: 0.93, F1: 0.25\n",
      "    Best Prec: 0.14 Recall: 0.93, F1: 0.25  i: 0\n",
      "\n",
      "Iteration: 1  Cost: 0.682\n",
      "          36      140\n",
      "          19      305\n",
      "    Precision: 0.20 Recall: 0.65, F1: 0.31\n",
      "    Best Prec: 0.20 Recall: 0.65, F1: 0.31  i: 1\n",
      "\n",
      "Iteration: 2  Cost: 0.752\n",
      "          34      103\n",
      "          21      342\n",
      "    Precision: 0.25 Recall: 0.62, F1: 0.35\n",
      "    Best Prec: 0.25 Recall: 0.62, F1: 0.35  i: 2\n",
      "\n",
      "Iteration: 3  Cost: 0.77\n",
      "          33       93\n",
      "          22      352\n",
      "    Precision: 0.26 Recall: 0.60, F1: 0.36\n",
      "    Best Prec: 0.26 Recall: 0.60, F1: 0.36  i: 3\n",
      "\n",
      "Iteration: 5  Cost: 0.644\n",
      "          46      169\n",
      "           9      276\n",
      "    Precision: 0.21 Recall: 0.84, F1: 0.34\n",
      "    Best Prec: 0.26 Recall: 0.60, F1: 0.36  i: 3\n",
      "\n",
      "Iteration: 7  Cost: 0.778\n",
      "          34       90\n",
      "          21      355\n",
      "    Precision: 0.27 Recall: 0.62, F1: 0.38\n",
      "    Best Prec: 0.27 Recall: 0.62, F1: 0.38  i: 7\n",
      "\n",
      "Iteration: 10  Cost: 0.794\n",
      "          30       78\n",
      "          25      367\n",
      "    Precision: 0.28 Recall: 0.55, F1: 0.37\n",
      "    Best Prec: 0.27 Recall: 0.62, F1: 0.38  i: 7\n",
      "\n",
      "Iteration: 11  Cost: 0.85\n",
      "          25       45\n",
      "          30      400\n",
      "    Precision: 0.36 Recall: 0.45, F1: 0.40\n",
      "    Best Prec: 0.36 Recall: 0.45, F1: 0.40  i: 11\n",
      "\n",
      "Iteration: 20  Cost: 0.602\n",
      "          47      191\n",
      "           8      254\n",
      "    Precision: 0.20 Recall: 0.85, F1: 0.32\n",
      "    Best Prec: 0.36 Recall: 0.45, F1: 0.40  i: 11\n",
      "\n",
      "Iteration: 30  Cost: 0.748\n",
      "          35      106\n",
      "          20      339\n",
      "    Precision: 0.25 Recall: 0.64, F1: 0.36\n",
      "    Best Prec: 0.36 Recall: 0.45, F1: 0.40  i: 11\n",
      "\n",
      "Iteration: 40  Cost: 0.804\n",
      "          27       70\n",
      "          28      375\n",
      "    Precision: 0.28 Recall: 0.49, F1: 0.36\n",
      "    Best Prec: 0.36 Recall: 0.45, F1: 0.40  i: 11\n",
      "\n",
      "Iteration: 50  Cost: 0.758\n",
      "          33       99\n",
      "          22      346\n",
      "    Precision: 0.25 Recall: 0.60, F1: 0.35\n",
      "    Best Prec: 0.36 Recall: 0.45, F1: 0.40  i: 11\n",
      "\n",
      "Iteration: 60  Cost: 0.772\n",
      "          26       85\n",
      "          29      360\n",
      "    Precision: 0.23 Recall: 0.47, F1: 0.31\n",
      "    Best Prec: 0.36 Recall: 0.45, F1: 0.40  i: 11\n",
      "\n",
      "\n",
      "62: Resetting to iteration 11, LR now 0.000300\n",
      "\n",
      "Validating restored results\n",
      "Iteration: 62  Cost: 0.85\n",
      "          25       45\n",
      "          30      400\n",
      "    Precision: 0.36 Recall: 0.45, F1: 0.40\n",
      "\n",
      "Iteration: 70  Cost: 0.748\n",
      "          38      109\n",
      "          17      336\n",
      "    Precision: 0.26 Recall: 0.69, F1: 0.38\n",
      "    Best Prec: 0.36 Recall: 0.45, F1: 0.40  i: 11\n",
      "\n",
      "Iteration: 80  Cost: 0.748\n",
      "          41      112\n",
      "          14      333\n",
      "    Precision: 0.27 Recall: 0.75, F1: 0.39\n",
      "    Best Prec: 0.36 Recall: 0.45, F1: 0.40  i: 11\n",
      "\n",
      "Iteration: 90  Cost: 0.758\n",
      "          38      104\n",
      "          17      341\n",
      "    Precision: 0.27 Recall: 0.69, F1: 0.39\n",
      "    Best Prec: 0.36 Recall: 0.45, F1: 0.40  i: 11\n",
      "\n",
      "Iteration: 99  Cost: 0.768\n",
      "          38       99\n",
      "          17      346\n",
      "    Precision: 0.28 Recall: 0.69, F1: 0.40\n",
      "    Best Prec: 0.36 Recall: 0.45, F1: 0.40  i: 11\n",
      "\n",
      "Iteration: 100  Cost: 0.766\n",
      "          38      100\n",
      "          17      345\n",
      "    Precision: 0.28 Recall: 0.69, F1: 0.39\n",
      "    Best Prec: 0.36 Recall: 0.45, F1: 0.40  i: 11\n",
      "\n",
      "Iteration: 110  Cost: 0.772\n",
      "          38       97\n",
      "          17      348\n",
      "    Precision: 0.28 Recall: 0.69, F1: 0.40\n",
      "    Best Prec: 0.36 Recall: 0.45, F1: 0.40  i: 11\n",
      "\n",
      "\n",
      "113: Resetting to iteration 11, LR now 0.000030\n",
      "\n",
      "Validating restored results\n",
      "Iteration: 113  Cost: 0.85\n",
      "          25       45\n",
      "          30      400\n",
      "    Precision: 0.36 Recall: 0.45, F1: 0.40\n",
      "\n",
      "Iteration: 120  Cost: 0.768\n",
      "          35       96\n",
      "          20      349\n",
      "    Precision: 0.27 Recall: 0.64, F1: 0.38\n",
      "    Best Prec: 0.36 Recall: 0.45, F1: 0.40  i: 11\n",
      "\n",
      "Iteration: 130  Cost: 0.764\n",
      "          36       99\n",
      "          19      346\n",
      "    Precision: 0.27 Recall: 0.65, F1: 0.38\n",
      "    Best Prec: 0.36 Recall: 0.45, F1: 0.40  i: 11\n",
      "\n",
      "Iteration: 140  Cost: 0.77\n",
      "          35       95\n",
      "          20      350\n",
      "    Precision: 0.27 Recall: 0.64, F1: 0.38\n",
      "    Best Prec: 0.36 Recall: 0.45, F1: 0.40  i: 11\n",
      "\n",
      "Iteration: 150  Cost: 0.766\n",
      "          35       97\n",
      "          20      348\n",
      "    Precision: 0.27 Recall: 0.64, F1: 0.37\n",
      "    Best Prec: 0.36 Recall: 0.45, F1: 0.40  i: 11\n",
      "\n",
      "Iteration: 160  Cost: 0.766\n",
      "          37       99\n",
      "          18      346\n",
      "    Precision: 0.27 Recall: 0.67, F1: 0.39\n",
      "    Best Prec: 0.36 Recall: 0.45, F1: 0.40  i: 11\n",
      "\n",
      "\n",
      "Final Result\n",
      "    Best Prec: 0.36 Recall: 0.45, F1: 0.40  i: 11\n",
      "Validating restored results\n",
      "Iteration: 164  Cost: 0.85\n",
      "          25       45\n",
      "          30      400\n",
      "    Precision: 0.36 Recall: 0.45, F1: 0.40\n",
      "\n"
     ]
    }
   ],
   "source": [
    "(predict3, best_weights3, _) = test_nn(modern_nn_model_h1, X_train, X_test, Y_train, Y_test, \n",
    "        iterations=2001, dimensions=[feats, 200, 2],\n",
    "        update='rms_prop', uses_dropout=True,\n",
    "        max_distance=50, lr=0.003, min_lr=0.00003)"
   ]
  },
  {
   "cell_type": "code",
   "execution_count": 36,
   "metadata": {
    "collapsed": false
   },
   "outputs": [
    {
     "name": "stdout",
     "output_type": "stream",
     "text": [
      "Iteration: -1  Cost: 0.85\n",
      "          25       45\n",
      "          30      400\n",
      "    Precision: 0.36 Recall: 0.45, F1: 0.40\n"
     ]
    }
   ],
   "source": [
    "show_best(predict3, X_test, Y_test, bias=0.0)"
   ]
  },
  {
   "cell_type": "code",
   "execution_count": 37,
   "metadata": {
    "collapsed": false
   },
   "outputs": [
    {
     "name": "stdout",
     "output_type": "stream",
     "text": [
      "Best Results for F1 : 0.4  Bias : 0.0\n",
      "          25       45\n",
      "          30      400\n",
      "    Precision: 0.36 Recall: 0.45, F1: 0.40\n",
      "\n",
      "Best Results for Precision : 0.405405405405  Bias : -0.177777777778\n",
      "          15       22\n",
      "          40      423\n",
      "    Precision: 0.41 Recall: 0.27, F1: 0.33\n"
     ]
    }
   ],
   "source": [
    "analyze_bias(predict3, X_test, Y_test, min_bias=-0.2, max_bias=0.0)"
   ]
  },
  {
   "cell_type": "code",
   "execution_count": 38,
   "metadata": {
    "collapsed": false,
    "scrolled": true
   },
   "outputs": [
    {
     "name": "stdout",
     "output_type": "stream",
     "text": [
      "Best Results for Size : 100  Cost : 0.87\n",
      "           8        5\n",
      "           8       79\n",
      "    Precision: 0.62 Recall: 0.50, F1: 0.55\n",
      "\n",
      "Best Results for Size : 200  Cost : 0.83\n",
      "          18       19\n",
      "          15      148\n",
      "    Precision: 0.49 Recall: 0.55, F1: 0.51\n",
      "\n",
      "Best Results for Size : 300  Cost : 0.84\n",
      "          20       27\n",
      "          21      232\n",
      "    Precision: 0.43 Recall: 0.49, F1: 0.45\n",
      "\n",
      "Best Results for Size : 400  Cost : 0.85\n",
      "          22       33\n",
      "          27      318\n",
      "    Precision: 0.40 Recall: 0.45, F1: 0.42\n",
      "\n",
      "Best Results for Size : 500  Cost : 0.85\n",
      "          25       45\n",
      "          30      400\n",
      "    Precision: 0.36 Recall: 0.45, F1: 0.40\n",
      "\n"
     ]
    }
   ],
   "source": [
    "analyze_distance(predict3, X_test, Y_test)"
   ]
  },
  {
   "cell_type": "markdown",
   "metadata": {},
   "source": [
    "###400 Hidden"
   ]
  },
  {
   "cell_type": "code",
   "execution_count": 26,
   "metadata": {
    "collapsed": false,
    "scrolled": true
   },
   "outputs": [
    {
     "name": "stdout",
     "output_type": "stream",
     "text": [
      "Iteration: 0  Cost: 0.128\n",
      "          55      436\n",
      "           0        9\n",
      "    Precision: 0.11 Recall: 1.00, F1: 0.20\n",
      "    Best Prec: 0.11 Recall: 1.00, F1: 0.20  i: 0\n",
      "\n",
      "Iteration: 1  Cost: 0.55\n",
      "          44      214\n",
      "          11      231\n",
      "    Precision: 0.17 Recall: 0.80, F1: 0.28\n",
      "    Best Prec: 0.17 Recall: 0.80, F1: 0.28  i: 1\n",
      "\n",
      "Iteration: 2  Cost: 0.628\n",
      "          41      172\n",
      "          14      273\n",
      "    Precision: 0.19 Recall: 0.75, F1: 0.31\n",
      "    Best Prec: 0.19 Recall: 0.75, F1: 0.31  i: 2\n",
      "\n",
      "Iteration: 3  Cost: 0.59\n",
      "          46      196\n",
      "           9      249\n",
      "    Precision: 0.19 Recall: 0.84, F1: 0.31\n",
      "    Best Prec: 0.19 Recall: 0.84, F1: 0.31  i: 3\n",
      "\n",
      "Iteration: 4  Cost: 0.668\n",
      "          39      150\n",
      "          16      295\n",
      "    Precision: 0.21 Recall: 0.71, F1: 0.32\n",
      "    Best Prec: 0.21 Recall: 0.71, F1: 0.32  i: 4\n",
      "\n",
      "Iteration: 5  Cost: 0.686\n",
      "          40      142\n",
      "          15      303\n",
      "    Precision: 0.22 Recall: 0.73, F1: 0.34\n",
      "    Best Prec: 0.22 Recall: 0.73, F1: 0.34  i: 5\n",
      "\n",
      "Iteration: 8  Cost: 0.746\n",
      "          36      108\n",
      "          19      337\n",
      "    Precision: 0.25 Recall: 0.65, F1: 0.36\n",
      "    Best Prec: 0.25 Recall: 0.65, F1: 0.36  i: 8\n",
      "\n",
      "Iteration: 10  Cost: 0.744\n",
      "          36      109\n",
      "          19      336\n",
      "    Precision: 0.25 Recall: 0.65, F1: 0.36\n",
      "    Best Prec: 0.25 Recall: 0.65, F1: 0.36  i: 8\n",
      "\n",
      "Iteration: 19  Cost: 0.714\n",
      "          41      129\n",
      "          14      316\n",
      "    Precision: 0.24 Recall: 0.75, F1: 0.36\n",
      "    Best Prec: 0.24 Recall: 0.75, F1: 0.36  i: 19\n",
      "\n",
      "Iteration: 20  Cost: 0.676\n",
      "          41      148\n",
      "          14      297\n",
      "    Precision: 0.22 Recall: 0.75, F1: 0.34\n",
      "    Best Prec: 0.24 Recall: 0.75, F1: 0.36  i: 19\n",
      "\n",
      "Iteration: 21  Cost: 0.774\n",
      "          36       94\n",
      "          19      351\n",
      "    Precision: 0.28 Recall: 0.65, F1: 0.39\n",
      "    Best Prec: 0.28 Recall: 0.65, F1: 0.39  i: 21\n",
      "\n",
      "Iteration: 30  Cost: 0.784\n",
      "          37       90\n",
      "          18      355\n",
      "    Precision: 0.29 Recall: 0.67, F1: 0.41\n",
      "    Best Prec: 0.29 Recall: 0.67, F1: 0.41  i: 30\n",
      "\n",
      "Iteration: 40  Cost: 0.586\n",
      "          42      194\n",
      "          13      251\n",
      "    Precision: 0.18 Recall: 0.76, F1: 0.29\n",
      "    Best Prec: 0.29 Recall: 0.67, F1: 0.41  i: 30\n",
      "\n",
      "Iteration: 50  Cost: 0.752\n",
      "          36      105\n",
      "          19      340\n",
      "    Precision: 0.26 Recall: 0.65, F1: 0.37\n",
      "    Best Prec: 0.29 Recall: 0.67, F1: 0.41  i: 30\n",
      "\n",
      "Iteration: 60  Cost: 0.754\n",
      "          29       97\n",
      "          26      348\n",
      "    Precision: 0.23 Recall: 0.53, F1: 0.32\n",
      "    Best Prec: 0.29 Recall: 0.67, F1: 0.41  i: 30\n",
      "\n",
      "Iteration: 70  Cost: 0.682\n",
      "          35      139\n",
      "          20      306\n",
      "    Precision: 0.20 Recall: 0.64, F1: 0.31\n",
      "    Best Prec: 0.29 Recall: 0.67, F1: 0.41  i: 30\n",
      "\n",
      "Iteration: 80  Cost: 0.84\n",
      "          24       49\n",
      "          31      396\n",
      "    Precision: 0.33 Recall: 0.44, F1: 0.38\n",
      "    Best Prec: 0.29 Recall: 0.67, F1: 0.41  i: 30\n",
      "\n",
      "\n",
      "81: Resetting to iteration 30, LR now 0.000300\n",
      "\n",
      "Validating restored results\n",
      "Iteration: 81  Cost: 0.784\n",
      "          37       90\n",
      "          18      355\n",
      "    Precision: 0.29 Recall: 0.67, F1: 0.41\n",
      "\n",
      "Iteration: 90  Cost: 0.766\n",
      "          33       95\n",
      "          22      350\n",
      "    Precision: 0.26 Recall: 0.60, F1: 0.36\n",
      "    Best Prec: 0.29 Recall: 0.67, F1: 0.41  i: 30\n",
      "\n",
      "Iteration: 99  Cost: 0.776\n",
      "          33       90\n",
      "          22      355\n",
      "    Precision: 0.27 Recall: 0.60, F1: 0.37\n",
      "    Best Prec: 0.29 Recall: 0.67, F1: 0.41  i: 30\n",
      "\n",
      "Iteration: 100  Cost: 0.786\n",
      "          32       84\n",
      "          23      361\n",
      "    Precision: 0.28 Recall: 0.58, F1: 0.37\n",
      "    Best Prec: 0.29 Recall: 0.67, F1: 0.41  i: 30\n",
      "\n",
      "Iteration: 110  Cost: 0.782\n",
      "          33       87\n",
      "          22      358\n",
      "    Precision: 0.28 Recall: 0.60, F1: 0.38\n",
      "    Best Prec: 0.29 Recall: 0.67, F1: 0.41  i: 30\n",
      "\n",
      "Iteration: 120  Cost: 0.788\n",
      "          30       81\n",
      "          25      364\n",
      "    Precision: 0.27 Recall: 0.55, F1: 0.36\n",
      "    Best Prec: 0.29 Recall: 0.67, F1: 0.41  i: 30\n",
      "\n",
      "Iteration: 130  Cost: 0.796\n",
      "          30       77\n",
      "          25      368\n",
      "    Precision: 0.28 Recall: 0.55, F1: 0.37\n",
      "    Best Prec: 0.29 Recall: 0.67, F1: 0.41  i: 30\n",
      "\n",
      "\n",
      "132: Resetting to iteration 30, LR now 0.000030\n",
      "\n",
      "Validating restored results\n",
      "Iteration: 132  Cost: 0.784\n",
      "          37       90\n",
      "          18      355\n",
      "    Precision: 0.29 Recall: 0.67, F1: 0.41\n",
      "\n",
      "Iteration: 140  Cost: 0.764\n",
      "          34       97\n",
      "          21      348\n",
      "    Precision: 0.26 Recall: 0.62, F1: 0.37\n",
      "    Best Prec: 0.29 Recall: 0.67, F1: 0.41  i: 30\n",
      "\n",
      "Iteration: 150  Cost: 0.758\n",
      "          34      100\n",
      "          21      345\n",
      "    Precision: 0.25 Recall: 0.62, F1: 0.36\n",
      "    Best Prec: 0.29 Recall: 0.67, F1: 0.41  i: 30\n",
      "\n",
      "Iteration: 160  Cost: 0.768\n",
      "          34       95\n",
      "          21      350\n",
      "    Precision: 0.26 Recall: 0.62, F1: 0.37\n",
      "    Best Prec: 0.29 Recall: 0.67, F1: 0.41  i: 30\n",
      "\n",
      "Iteration: 170  Cost: 0.764\n",
      "          33       96\n",
      "          22      349\n",
      "    Precision: 0.26 Recall: 0.60, F1: 0.36\n",
      "    Best Prec: 0.29 Recall: 0.67, F1: 0.41  i: 30\n",
      "\n",
      "Iteration: 180  Cost: 0.768\n",
      "          33       94\n",
      "          22      351\n",
      "    Precision: 0.26 Recall: 0.60, F1: 0.36\n",
      "    Best Prec: 0.29 Recall: 0.67, F1: 0.41  i: 30\n",
      "\n",
      "\n",
      "Final Result\n",
      "    Best Prec: 0.29 Recall: 0.67, F1: 0.41  i: 30\n",
      "Validating restored results\n",
      "Iteration: 183  Cost: 0.784\n",
      "          37       90\n",
      "          18      355\n",
      "    Precision: 0.29 Recall: 0.67, F1: 0.41\n",
      "\n"
     ]
    }
   ],
   "source": [
    "(predict4, best_weights4, _) = test_nn(modern_nn_model_h1, X_train, X_test, Y_train, Y_test, \n",
    "        iterations=2001, dimensions=[feats, 400, 2],\n",
    "        update='rms_prop', uses_dropout=True,\n",
    "        max_distance=50, lr=0.003, min_lr=0.00003)"
   ]
  },
  {
   "cell_type": "code",
   "execution_count": 39,
   "metadata": {
    "collapsed": false
   },
   "outputs": [
    {
     "name": "stdout",
     "output_type": "stream",
     "text": [
      "Iteration: -1  Cost: 0.784\n",
      "          37       90\n",
      "          18      355\n",
      "    Precision: 0.29 Recall: 0.67, F1: 0.41\n"
     ]
    }
   ],
   "source": [
    "show_best(predict4, X_test, Y_test, bias=0.0)"
   ]
  },
  {
   "cell_type": "code",
   "execution_count": 40,
   "metadata": {
    "collapsed": false
   },
   "outputs": [
    {
     "name": "stdout",
     "output_type": "stream",
     "text": [
      "Best Results for F1 : 0.406593406593  Bias : 0.0\n",
      "          37       90\n",
      "          18      355\n",
      "    Precision: 0.29 Recall: 0.67, F1: 0.41\n",
      "\n",
      "Best Results for Precision : 0.411764705882  Bias : -0.2\n",
      "          21       30\n",
      "          34      415\n",
      "    Precision: 0.41 Recall: 0.38, F1: 0.40\n"
     ]
    }
   ],
   "source": [
    "analyze_bias(predict4, X_test, Y_test, min_bias=-0.2, max_bias=0.0)"
   ]
  },
  {
   "cell_type": "code",
   "execution_count": 41,
   "metadata": {
    "collapsed": false,
    "scrolled": true
   },
   "outputs": [
    {
     "name": "stdout",
     "output_type": "stream",
     "text": [
      "Best Results for Size : 100  Cost : 0.82\n",
      "          11       13\n",
      "           5       71\n",
      "    Precision: 0.46 Recall: 0.69, F1: 0.55\n",
      "\n",
      "Best Results for Size : 200  Cost : 0.75\n",
      "          24       41\n",
      "           9      126\n",
      "    Precision: 0.37 Recall: 0.73, F1: 0.49\n",
      "\n",
      "Best Results for Size : 300  Cost : 0.763333333333\n",
      "          28       58\n",
      "          13      201\n",
      "    Precision: 0.33 Recall: 0.68, F1: 0.44\n",
      "\n",
      "Best Results for Size : 400  Cost : 0.7675\n",
      "          33       77\n",
      "          16      274\n",
      "    Precision: 0.30 Recall: 0.67, F1: 0.42\n",
      "\n",
      "Best Results for Size : 500  Cost : 0.784\n",
      "          37       90\n",
      "          18      355\n",
      "    Precision: 0.29 Recall: 0.67, F1: 0.41\n",
      "\n"
     ]
    }
   ],
   "source": [
    "analyze_distance(predict4, X_test, Y_test)"
   ]
  },
  {
   "cell_type": "markdown",
   "metadata": {},
   "source": [
    "###800 Hidden"
   ]
  },
  {
   "cell_type": "code",
   "execution_count": 47,
   "metadata": {
    "collapsed": false,
    "scrolled": true
   },
   "outputs": [
    {
     "name": "stdout",
     "output_type": "stream",
     "text": [
      "Iteration: 0  Cost: 0.11\n",
      "          55      445\n",
      "           0        0\n",
      "    Precision: 0.11 Recall: 1.00, F1: 0.20\n",
      "    Best Prec: 0.11 Recall: 1.00, F1: 0.20  i: 0\n",
      "\n",
      "Iteration: 1  Cost: 0.168\n",
      "          55      416\n",
      "           0       29\n",
      "    Precision: 0.12 Recall: 1.00, F1: 0.21\n",
      "    Best Prec: 0.12 Recall: 1.00, F1: 0.21  i: 1\n",
      "\n",
      "Iteration: 2  Cost: 0.306\n",
      "          54      346\n",
      "           1       99\n",
      "    Precision: 0.14 Recall: 0.98, F1: 0.24\n",
      "    Best Prec: 0.14 Recall: 0.98, F1: 0.24  i: 2\n",
      "\n",
      "Iteration: 3  Cost: 0.544\n",
      "          48      221\n",
      "           7      224\n",
      "    Precision: 0.18 Recall: 0.87, F1: 0.30\n",
      "    Best Prec: 0.18 Recall: 0.87, F1: 0.30  i: 3\n",
      "\n",
      "Iteration: 4  Cost: 0.546\n",
      "          49      221\n",
      "           6      224\n",
      "    Precision: 0.18 Recall: 0.89, F1: 0.30\n",
      "    Best Prec: 0.18 Recall: 0.89, F1: 0.30  i: 4\n",
      "\n",
      "Iteration: 5  Cost: 0.476\n",
      "          50      257\n",
      "           5      188\n",
      "    Precision: 0.16 Recall: 0.91, F1: 0.28\n",
      "    Best Prec: 0.18 Recall: 0.89, F1: 0.30  i: 4\n",
      "\n",
      "Iteration: 6  Cost: 0.632\n",
      "          46      175\n",
      "           9      270\n",
      "    Precision: 0.21 Recall: 0.84, F1: 0.33\n",
      "    Best Prec: 0.21 Recall: 0.84, F1: 0.33  i: 6\n",
      "\n",
      "Iteration: 10  Cost: 0.638\n",
      "          46      172\n",
      "           9      273\n",
      "    Precision: 0.21 Recall: 0.84, F1: 0.34\n",
      "    Best Prec: 0.21 Recall: 0.84, F1: 0.34  i: 10\n",
      "\n",
      "Iteration: 11  Cost: 0.688\n",
      "          43      144\n",
      "          12      301\n",
      "    Precision: 0.23 Recall: 0.78, F1: 0.36\n",
      "    Best Prec: 0.23 Recall: 0.78, F1: 0.36  i: 11\n",
      "\n",
      "Iteration: 20  Cost: 0.688\n",
      "          39      140\n",
      "          16      305\n",
      "    Precision: 0.22 Recall: 0.71, F1: 0.33\n",
      "    Best Prec: 0.23 Recall: 0.78, F1: 0.36  i: 11\n",
      "\n",
      "Iteration: 22  Cost: 0.7\n",
      "          45      140\n",
      "          10      305\n",
      "    Precision: 0.24 Recall: 0.82, F1: 0.38\n",
      "    Best Prec: 0.24 Recall: 0.82, F1: 0.38  i: 22\n",
      "\n",
      "Iteration: 30  Cost: 0.73\n",
      "          36      116\n",
      "          19      329\n",
      "    Precision: 0.24 Recall: 0.65, F1: 0.35\n",
      "    Best Prec: 0.24 Recall: 0.82, F1: 0.38  i: 22\n",
      "\n",
      "Iteration: 32  Cost: 0.802\n",
      "          30       74\n",
      "          25      371\n",
      "    Precision: 0.29 Recall: 0.55, F1: 0.38\n",
      "    Best Prec: 0.29 Recall: 0.55, F1: 0.38  i: 32\n",
      "\n",
      "Iteration: 35  Cost: 0.744\n",
      "          39      112\n",
      "          16      333\n",
      "    Precision: 0.26 Recall: 0.71, F1: 0.38\n",
      "    Best Prec: 0.26 Recall: 0.71, F1: 0.38  i: 35\n",
      "\n",
      "Iteration: 38  Cost: 0.748\n",
      "          39      110\n",
      "          16      335\n",
      "    Precision: 0.26 Recall: 0.71, F1: 0.38\n",
      "    Best Prec: 0.26 Recall: 0.71, F1: 0.38  i: 38\n",
      "\n",
      "Iteration: 40  Cost: 0.624\n",
      "          46      179\n",
      "           9      266\n",
      "    Precision: 0.20 Recall: 0.84, F1: 0.33\n",
      "    Best Prec: 0.26 Recall: 0.71, F1: 0.38  i: 38\n",
      "\n",
      "Iteration: 50  Cost: 0.49\n",
      "          47      247\n",
      "           8      198\n",
      "    Precision: 0.16 Recall: 0.85, F1: 0.27\n",
      "    Best Prec: 0.26 Recall: 0.71, F1: 0.38  i: 38\n",
      "\n",
      "Iteration: 54  Cost: 0.756\n",
      "          38      105\n",
      "          17      340\n",
      "    Precision: 0.27 Recall: 0.69, F1: 0.38\n",
      "    Best Prec: 0.27 Recall: 0.69, F1: 0.38  i: 54\n",
      "\n",
      "Iteration: 60  Cost: 0.768\n",
      "          33       94\n",
      "          22      351\n",
      "    Precision: 0.26 Recall: 0.60, F1: 0.36\n",
      "    Best Prec: 0.27 Recall: 0.69, F1: 0.38  i: 54\n",
      "\n",
      "Iteration: 70  Cost: 0.758\n",
      "          32       98\n",
      "          23      347\n",
      "    Precision: 0.25 Recall: 0.58, F1: 0.35\n",
      "    Best Prec: 0.27 Recall: 0.69, F1: 0.38  i: 54\n",
      "\n",
      "Iteration: 77  Cost: 0.798\n",
      "          33       79\n",
      "          22      366\n",
      "    Precision: 0.29 Recall: 0.60, F1: 0.40\n",
      "    Best Prec: 0.29 Recall: 0.60, F1: 0.40  i: 77\n",
      "\n",
      "Iteration: 80  Cost: 0.772\n",
      "          34       93\n",
      "          21      352\n",
      "    Precision: 0.27 Recall: 0.62, F1: 0.37\n",
      "    Best Prec: 0.29 Recall: 0.60, F1: 0.40  i: 77\n",
      "\n",
      "Iteration: 90  Cost: 0.634\n",
      "          43      171\n",
      "          12      274\n",
      "    Precision: 0.20 Recall: 0.78, F1: 0.32\n",
      "    Best Prec: 0.29 Recall: 0.60, F1: 0.40  i: 77\n",
      "\n",
      "Iteration: 95  Cost: 0.842\n",
      "          26       50\n",
      "          29      395\n",
      "    Precision: 0.34 Recall: 0.47, F1: 0.40\n",
      "    Best Prec: 0.34 Recall: 0.47, F1: 0.40  i: 95\n",
      "\n",
      "Iteration: 99  Cost: 0.812\n",
      "          16       55\n",
      "          39      390\n",
      "    Precision: 0.23 Recall: 0.29, F1: 0.25\n",
      "    Best Prec: 0.34 Recall: 0.47, F1: 0.40  i: 95\n",
      "\n",
      "Iteration: 100  Cost: 0.732\n",
      "          32      111\n",
      "          23      334\n",
      "    Precision: 0.22 Recall: 0.58, F1: 0.32\n",
      "    Best Prec: 0.34 Recall: 0.47, F1: 0.40  i: 95\n",
      "\n",
      "Iteration: 110  Cost: 0.794\n",
      "          19       67\n",
      "          36      378\n",
      "    Precision: 0.22 Recall: 0.35, F1: 0.27\n",
      "    Best Prec: 0.34 Recall: 0.47, F1: 0.40  i: 95\n",
      "\n",
      "Iteration: 120  Cost: 0.77\n",
      "          33       93\n",
      "          22      352\n",
      "    Precision: 0.26 Recall: 0.60, F1: 0.36\n",
      "    Best Prec: 0.34 Recall: 0.47, F1: 0.40  i: 95\n",
      "\n",
      "Iteration: 130  Cost: 0.79\n",
      "          25       75\n",
      "          30      370\n",
      "    Precision: 0.25 Recall: 0.45, F1: 0.32\n",
      "    Best Prec: 0.34 Recall: 0.47, F1: 0.40  i: 95\n",
      "\n",
      "Iteration: 140  Cost: 0.702\n",
      "          35      129\n",
      "          20      316\n",
      "    Precision: 0.21 Recall: 0.64, F1: 0.32\n",
      "    Best Prec: 0.34 Recall: 0.47, F1: 0.40  i: 95\n",
      "\n",
      "\n",
      "146: Resetting to iteration 95, LR now 0.000300\n",
      "\n",
      "Validating restored results\n",
      "Iteration: 146  Cost: 0.842\n",
      "          26       50\n",
      "          29      395\n",
      "    Precision: 0.34 Recall: 0.47, F1: 0.40\n",
      "\n",
      "Iteration: 150  Cost: 0.824\n",
      "          20       53\n",
      "          35      392\n",
      "    Precision: 0.27 Recall: 0.36, F1: 0.31\n",
      "    Best Prec: 0.34 Recall: 0.47, F1: 0.40  i: 95\n",
      "\n",
      "Iteration: 160  Cost: 0.832\n",
      "          23       52\n",
      "          32      393\n",
      "    Precision: 0.31 Recall: 0.42, F1: 0.35\n",
      "    Best Prec: 0.34 Recall: 0.47, F1: 0.40  i: 95\n",
      "\n",
      "Iteration: 170  Cost: 0.836\n",
      "          21       48\n",
      "          34      397\n",
      "    Precision: 0.30 Recall: 0.38, F1: 0.34\n",
      "    Best Prec: 0.34 Recall: 0.47, F1: 0.40  i: 95\n",
      "\n",
      "Iteration: 180  Cost: 0.836\n",
      "          22       49\n",
      "          33      396\n",
      "    Precision: 0.31 Recall: 0.40, F1: 0.35\n",
      "    Best Prec: 0.34 Recall: 0.47, F1: 0.40  i: 95\n",
      "\n",
      "Iteration: 190  Cost: 0.826\n",
      "          20       52\n",
      "          35      393\n",
      "    Precision: 0.28 Recall: 0.36, F1: 0.31\n",
      "    Best Prec: 0.34 Recall: 0.47, F1: 0.40  i: 95\n",
      "\n",
      "\n",
      "197: Resetting to iteration 95, LR now 0.000030\n",
      "\n",
      "Validating restored results\n",
      "Iteration: 197  Cost: 0.842\n",
      "          26       50\n",
      "          29      395\n",
      "    Precision: 0.34 Recall: 0.47, F1: 0.40\n",
      "\n",
      "Iteration: 198  Cost: 0.836\n",
      "          27       54\n",
      "          28      391\n",
      "    Precision: 0.33 Recall: 0.49, F1: 0.40\n",
      "    Best Prec: 0.33 Recall: 0.49, F1: 0.40  i: 198\n",
      "\n",
      "Iteration: 199  Cost: 0.838\n",
      "          27       53\n",
      "          28      392\n",
      "    Precision: 0.34 Recall: 0.49, F1: 0.40\n",
      "    Best Prec: 0.34 Recall: 0.49, F1: 0.40  i: 199\n",
      "\n",
      "Iteration: 200  Cost: 0.826\n",
      "          27       59\n",
      "          28      386\n",
      "    Precision: 0.31 Recall: 0.49, F1: 0.38\n",
      "    Best Prec: 0.34 Recall: 0.49, F1: 0.40  i: 199\n",
      "\n",
      "Iteration: 210  Cost: 0.832\n",
      "          22       51\n",
      "          33      394\n",
      "    Precision: 0.30 Recall: 0.40, F1: 0.34\n",
      "    Best Prec: 0.34 Recall: 0.49, F1: 0.40  i: 199\n",
      "\n",
      "Iteration: 220  Cost: 0.828\n",
      "          22       53\n",
      "          33      392\n",
      "    Precision: 0.29 Recall: 0.40, F1: 0.34\n",
      "    Best Prec: 0.34 Recall: 0.49, F1: 0.40  i: 199\n",
      "\n",
      "Iteration: 230  Cost: 0.824\n",
      "          22       55\n",
      "          33      390\n",
      "    Precision: 0.29 Recall: 0.40, F1: 0.33\n",
      "    Best Prec: 0.34 Recall: 0.49, F1: 0.40  i: 199\n",
      "\n",
      "Iteration: 240  Cost: 0.822\n",
      "          22       56\n",
      "          33      389\n",
      "    Precision: 0.28 Recall: 0.40, F1: 0.33\n",
      "    Best Prec: 0.34 Recall: 0.49, F1: 0.40  i: 199\n",
      "\n",
      "Iteration: 250  Cost: 0.832\n",
      "          22       51\n",
      "          33      394\n",
      "    Precision: 0.30 Recall: 0.40, F1: 0.34\n",
      "    Best Prec: 0.34 Recall: 0.49, F1: 0.40  i: 199\n",
      "\n",
      "\n",
      "Final Result\n",
      "    Best Prec: 0.34 Recall: 0.49, F1: 0.40  i: 199\n",
      "Validating restored results\n",
      "Iteration: 250  Cost: 0.838\n",
      "          27       53\n",
      "          28      392\n",
      "    Precision: 0.34 Recall: 0.49, F1: 0.40\n",
      "\n"
     ]
    }
   ],
   "source": [
    "(predict5, best_weights5, _) = test_nn(modern_nn_model_h1, X_train, X_test, Y_train, Y_test, \n",
    "        iterations=20001, dimensions=[feats, 800, 2],\n",
    "        update='rms_prop', uses_dropout=True,\n",
    "        max_distance=50, lr=0.003, min_lr=0.00003)"
   ]
  },
  {
   "cell_type": "code",
   "execution_count": 48,
   "metadata": {
    "collapsed": false
   },
   "outputs": [
    {
     "name": "stdout",
     "output_type": "stream",
     "text": [
      "Iteration: -1  Cost: 0.838\n",
      "          27       53\n",
      "          28      392\n",
      "    Precision: 0.34 Recall: 0.49, F1: 0.40\n"
     ]
    }
   ],
   "source": [
    "show_best(predict5, X_test, Y_test, bias=0.0)"
   ]
  },
  {
   "cell_type": "code",
   "execution_count": 49,
   "metadata": {
    "collapsed": false
   },
   "outputs": [
    {
     "name": "stdout",
     "output_type": "stream",
     "text": [
      "Best Results for F1 : 0.4  Bias : 0.0\n",
      "          27       53\n",
      "          28      392\n",
      "    Precision: 0.34 Recall: 0.49, F1: 0.40\n",
      "\n",
      "Best Results for Precision : 0.351851851852  Bias : -0.1\n",
      "          19       35\n",
      "          36      410\n",
      "    Precision: 0.35 Recall: 0.35, F1: 0.35\n"
     ]
    }
   ],
   "source": [
    "analyze_bias(predict5, X_test, Y_test, min_bias=-0.1, max_bias=0.08)"
   ]
  },
  {
   "cell_type": "code",
   "execution_count": 50,
   "metadata": {
    "collapsed": false,
    "scrolled": true
   },
   "outputs": [
    {
     "name": "stdout",
     "output_type": "stream",
     "text": [
      "Best Results for Size : 100  Cost : 0.82\n",
      "           7        9\n",
      "           9       75\n",
      "    Precision: 0.44 Recall: 0.44, F1: 0.44\n",
      "\n",
      "Best Results for Size : 200  Cost : 0.795\n",
      "          20       28\n",
      "          13      139\n",
      "    Precision: 0.42 Recall: 0.61, F1: 0.49\n",
      "\n",
      "Best Results for Size : 300  Cost : 0.813333333333\n",
      "          23       38\n",
      "          18      221\n",
      "    Precision: 0.38 Recall: 0.56, F1: 0.45\n",
      "\n",
      "Best Results for Size : 400  Cost : 0.83\n",
      "          25       44\n",
      "          24      307\n",
      "    Precision: 0.36 Recall: 0.51, F1: 0.42\n",
      "\n",
      "Best Results for Size : 500  Cost : 0.838\n",
      "          27       53\n",
      "          28      392\n",
      "    Precision: 0.34 Recall: 0.49, F1: 0.40\n",
      "\n"
     ]
    }
   ],
   "source": [
    "analyze_distance(predict5, X_test, Y_test)"
   ]
  },
  {
   "cell_type": "code",
   "execution_count": 53,
   "metadata": {
    "collapsed": false
   },
   "outputs": [],
   "source": [
    "solvers = {'predict1':predict1,\n",
    "            'predict2':predict2,\n",
    "            'predict3':predict3,\n",
    "            'predict4':predict4,\n",
    "           'predict5':predict5,}"
   ]
  },
  {
   "cell_type": "code",
   "execution_count": 56,
   "metadata": {
    "collapsed": false
   },
   "outputs": [
    {
     "name": "stdout",
     "output_type": "stream",
     "text": [
      "Done\n"
     ]
    }
   ],
   "source": [
    "with open('TheanoSolvers_NetworkSize.pkl', 'wb') as output:\n",
    "    pickle.dump(solvers, output)\n",
    "\n",
    "    # Pickle the list using the highest protocol available.\n",
    "    #pickle.dump(solvers, output, -1)\n",
    "    # output.close()\n",
    "    print 'Done'"
   ]
  },
  {
   "cell_type": "code",
   "execution_count": null,
   "metadata": {
    "collapsed": true
   },
   "outputs": [],
   "source": []
  }
 ],
 "metadata": {
  "kernelspec": {
   "display_name": "Python 2",
   "language": "python",
   "name": "python2"
  },
  "language_info": {
   "codemirror_mode": {
    "name": "ipython",
    "version": 2
   },
   "file_extension": ".py",
   "mimetype": "text/x-python",
   "name": "python",
   "nbconvert_exporter": "python",
   "pygments_lexer": "ipython2",
   "version": "2.7.9"
  }
 },
 "nbformat": 4,
 "nbformat_minor": 0
}
