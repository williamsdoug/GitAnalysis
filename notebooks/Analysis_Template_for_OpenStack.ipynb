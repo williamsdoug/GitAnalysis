{
 "cells": [
  {
   "cell_type": "markdown",
   "metadata": {},
   "source": [
    "#Template for Basic Analysis of OpenStack Projects\n",
    "\n",
    "Copyright Doug Williams - 2014, 2015\n",
    "\n",
    "###Updated: 3/213/2015\n",
    "\n",
    "###History\n",
    "- 9/10/2014:  Initial Version\n",
    "- 3/12/2015:  Major Update"
   ]
  },
  {
   "cell_type": "code",
   "execution_count": 1,
   "metadata": {
    "collapsed": false
   },
   "outputs": [],
   "source": [
    "%matplotlib inline"
   ]
  },
  {
   "cell_type": "code",
   "execution_count": 2,
   "metadata": {
    "collapsed": false
   },
   "outputs": [],
   "source": [
    "import matplotlib.pyplot as plt\n",
    "import matplotlib\n",
    "import numpy as np\n",
    "from pprint import pprint\n",
    "import collections\n",
    "import math\n",
    "#from collections import defaultdict\n",
    "# import re\n",
    "\n",
    "import sys\n",
    "sys.path.append('../dev')\n",
    "from jp_load_dump import jload"
   ]
  },
  {
   "cell_type": "code",
   "execution_count": 3,
   "metadata": {
    "collapsed": false
   },
   "outputs": [],
   "source": [
    "#from commit_analysis import normalize_blame_by_commit\n",
    "#from commit_analysis import normalize_blame_by_file\n",
    "#from commit_analysis import parse_author\n",
    "from commit_analysis import get_commit_count_by_author\n",
    "from commit_analysis import get_guilt_by_author\n",
    "\n",
    "from BugFixWorkflow import commit_postprocessing\n",
    "from Git_Extract import compute_git_actor_dedupe\n",
    "from Git_Extract import get_commit_ordering_min_max"
   ]
  },
  {
   "cell_type": "code",
   "execution_count": 4,
   "metadata": {
    "collapsed": false
   },
   "outputs": [],
   "source": [
    "#PROJECT = 'nova'\n",
    "#PROJECT = 'swift'\n",
    "#PROJECT = 'cinder'\n",
    "#PROJECT = 'glance'\n",
    "PROJECT = 'heat'\n",
    "#IMPORTANCE = 'crit'\n",
    "#IMPORTANCE = 'high+'\n",
    "#IMPORTANCE = 'med+'\n",
    "IMPORTANCE = 'low+'\n",
    "ANONYMIZE = True"
   ]
  },
  {
   "cell_type": "markdown",
   "metadata": {},
   "source": [
    "# Code"
   ]
  },
  {
   "cell_type": "code",
   "execution_count": 5,
   "metadata": {
    "collapsed": false
   },
   "outputs": [],
   "source": [
    "KNOWN_NAMES = {}\n",
    "\n",
    "def anonymize_name(name):\n",
    "    global KNOWN_NAMES\n",
    "    if not ANONYMIZE:\n",
    "        return name\n",
    "    if name not in KNOWN_NAMES:\n",
    "        KNOWN_NAMES[name] = 'Author_'+str(len(KNOWN_NAMES)+1)\n",
    "    return KNOWN_NAMES[name]"
   ]
  },
  {
   "cell_type": "markdown",
   "metadata": {},
   "source": [
    "# Load corpus"
   ]
  },
  {
   "cell_type": "code",
   "execution_count": 6,
   "metadata": {
    "collapsed": false
   },
   "outputs": [
    {
     "name": "stdout",
     "output_type": "stream",
     "text": [
      "loading bug data\n",
      "  total LP bugs: 1388\n",
      "  Entries annotated: 536\n",
      "loading Git commit data\n",
      "  total git_commits: 7566\n",
      "  bug fix commits: 1353\n",
      "  commits with change_id: 4084\n",
      "  bug fix with change_id: 1353\n",
      "loading change data\n",
      "  total gerrit changes with detail: 4126\n",
      "  all_change_details: 4126\n",
      "  total gerrit changes: 4132\n",
      "  all_changes: 4132\n",
      "combined_commits: 7566\n",
      "Determining legacy cut-off\n",
      "  Warning: Transition Overlap: 174 days, 7:48:19\n",
      "  Setting cutoff to: 12/11/2012\n",
      "Collecting data on commits with bug fixes\n",
      "  Mainline Commits ignored due to legacy: 995  out of: 4507\n",
      "  Total commite requiring blame computation: 1241\n",
      "\n",
      "Computing Blame\n",
      "Loaded blame\n",
      "  Initial Blame cache size: 939\n",
      "  bug fix commits: 1241\n",
      ". . . . . . . . . . 100 . . . . . . . . . . 200 . . . . . . . . . . 300 . . . . . . . . . . 400 . . . . . . . . . . 500 . . . . . . . . . . 600 . . . . . . . . . . 700 . . . . . . . . . . 800 . . . . . . . . . . 900 . . . . . . . . . . 1000 . . . . . . . . . . 1100 . . . . . . . . . . 1200 . . . .\n",
      "  Saving updated Blame Cache\n",
      "\n",
      "Annotating Guilt\n",
      "entries with non-zero guilt:  1750\n",
      "smallest guilt: 0.000512557662737\n",
      "largest guilt: 56.4999319616\n",
      "Identify reachable commits\n",
      "  Loaded cached reachability data\n",
      "  Initial Reachable cache size: 142\n",
      "  Samples: 142\n",
      "  Revised samples: 0\n",
      "\n",
      "  Reachable commits: 2975\n",
      "Annotating lines of code changed\n",
      "  Loaded Lines of Code Changed cache\n",
      "  Initial Lines of Code Changed cache size: 2972\n",
      ". . . . . . . . . . 1000 . . . . . . . . . . 2000 . . . . . . . . .\n",
      "Order range for non-legacy comits\n",
      "  min: 387\n",
      "  max: 2972\n"
     ]
    }
   ],
   "source": [
    "combined_commits = commit_postprocessing(PROJECT, IMPORTANCE)"
   ]
  },
  {
   "cell_type": "code",
   "execution_count": 7,
   "metadata": {
    "collapsed": false
   },
   "outputs": [],
   "source": [
    "min_order, max_order = get_commit_ordering_min_max(combined_commits)"
   ]
  },
  {
   "cell_type": "code",
   "execution_count": 8,
   "metadata": {
    "collapsed": false
   },
   "outputs": [
    {
     "name": "stdout",
     "output_type": "stream",
     "text": [
      "Combined Commits: 7566\n",
      " Reachable nonLegacy: 2585\n"
     ]
    }
   ],
   "source": [
    "print 'Combined Commits:', len(combined_commits)\n",
    "print ' Reachable nonLegacy:', len([k for k, c in combined_commits.items()\n",
    "                                    if c['reachable'] and c['order'] > min_order])"
   ]
  },
  {
   "cell_type": "markdown",
   "metadata": {},
   "source": [
    "# Basic Authorship Stats"
   ]
  },
  {
   "cell_type": "code",
   "execution_count": 9,
   "metadata": {
    "collapsed": false
   },
   "outputs": [],
   "source": [
    "all_commits_by_author = get_commit_count_by_author(combined_commits, 0)\n",
    "all_commits_by_author = dict([[anonymize_name(k), v] for k, v in all_commits_by_author.items()])\n",
    "\n",
    "#Same, ignoring legacy commits (ie:  commits where we are unable to compute guilt)\n",
    "commits_by_author = get_commit_count_by_author(combined_commits, min_order)\n",
    "commits_by_author = dict([[anonymize_name(k), v] for k, v in commits_by_author.items()])"
   ]
  },
  {
   "cell_type": "markdown",
   "metadata": {},
   "source": [
    "### Box Plot showing distribution of commits by author"
   ]
  },
  {
   "cell_type": "code",
   "execution_count": 10,
   "metadata": {
    "collapsed": false
   },
   "outputs": [
    {
     "data": {
      "image/png": "[encoded data removed]",
      "text/plain": [
       "<matplotlib.figure.Figure at 0x12857f2d0>"
      ]
     },
     "metadata": {},
     "output_type": "display_data"
    }
   ],
   "source": [
    "plt.figure(figsize=(8, 1)); plt.title('Commits by Author')\n",
    "x = plt.boxplot([x[1] for x in all_commits_by_author.items()],vert=False)"
   ]
  },
  {
   "cell_type": "markdown",
   "metadata": {},
   "source": [
    "### Same data in histogram form, clipping extreme values"
   ]
  },
  {
   "cell_type": "code",
   "execution_count": 11,
   "metadata": {
    "collapsed": false
   },
   "outputs": [
    {
     "data": {
      "image/png": "[encoded data removed]",
      "text/plain": [
       "<matplotlib.figure.Figure at 0x128c17110>"
      ]
     },
     "metadata": {},
     "output_type": "display_data"
    }
   ],
   "source": [
    "plt.figure(figsize=(8, 3))\n",
    "plt.title('Commits by Author'); plt.xlabel('commits'); plt.ylabel('authors')\n",
    "x = plt.hist([x[1] for x in all_commits_by_author.items() if x[1] <= 50], bins=50)"
   ]
  },
  {
   "cell_type": "markdown",
   "metadata": {},
   "source": [
    "### Cumulative authorship, significant commits by authors with low commit counts"
   ]
  },
  {
   "cell_type": "code",
   "execution_count": 12,
   "metadata": {
    "collapsed": false
   },
   "outputs": [
    {
     "data": {
      "image/png": "[encoded data removed]",
      "text/plain": [
       "<matplotlib.figure.Figure at 0x128739350>"
      ]
     },
     "metadata": {},
     "output_type": "display_data"
    }
   ],
   "source": [
    "plt.figure(figsize=(10, 3))\n",
    "plt.title('Cumulative Commits by Author'); plt.xlabel('commits'); plt.ylabel('authors')\n",
    "x = plt.hist([x[1] for x in all_commits_by_author.items()], bins=160, cumulative=True)"
   ]
  },
  {
   "cell_type": "markdown",
   "metadata": {},
   "source": [
    "### Drill down on top authors"
   ]
  },
  {
   "cell_type": "code",
   "execution_count": 13,
   "metadata": {
    "collapsed": false
   },
   "outputs": [
    {
     "name": "stdout",
     "output_type": "stream",
     "text": [
      "Top Authors:\n",
      "------------\n",
      "Author_16 431.0\n",
      "Author_14 411.0\n",
      "Author_165 340.0\n",
      "Author_8 331.0\n",
      "Author_9 108.0\n",
      "Author_60 92.0\n",
      "Author_81 86.0\n",
      "Author_40 79.0\n",
      "Author_35 78.0\n",
      "Author_12 58.0\n"
     ]
    }
   ],
   "source": [
    "print 'Top Authors:'; print '------------'\n",
    "for author, commit_count in sorted(all_commits_by_author.items(), key=lambda x: x[1], reverse=True)[:10]:\n",
    "    print author, commit_count"
   ]
  },
  {
   "cell_type": "markdown",
   "metadata": {},
   "source": [
    "#Major Caveat\n",
    "\n",
    "####The analysis approach below is based on a model of 'guilt by association'.  Specifically, that for each bug fix, guilt as apportioned based on authorship of code in proximity to code changes by the fix, where code that was replaced by the bug fix received the highest degree of guilt.  'Guilt' as used here is only an abstract concept, and by no means is a definitive indication of blame.  Perhaps a more appropriate term might be 'suspicion'.\n",
    "\n",
    "Limitation:  Current analysis does not special case comments or whitespace when computing guilt."
   ]
  },
  {
   "cell_type": "markdown",
   "metadata": {},
   "source": [
    "# Explore Author's Association with Bugs (Guilt by association)"
   ]
  },
  {
   "cell_type": "markdown",
   "metadata": {},
   "source": [
    "###### Note:  Analysis ignores all commits prior to cut-over to current Git+Launchpad_Gerrit toolchain"
   ]
  },
  {
   "cell_type": "code",
   "execution_count": 14,
   "metadata": {
    "collapsed": false
   },
   "outputs": [],
   "source": [
    "def get_upper_and_lower_limits(series, lower=1, upper=99):\n",
    "    \"\"\"Determine 1 and 99 Percentile values\"\"\"\n",
    "    a = np.array([x[1] for x in series])\n",
    "    lthresh = np.percentile(a,1)\n",
    "    uthresh = np.percentile(a,99)\n",
    "    return lthresh, uthresh\n",
    "\n",
    "\n",
    "def remove_outliers(series, lower=1, upper=99):\n",
    "    \"\"\"Filtered version 1 - 99 Percentile\"\"\"\n",
    "    lthresh, uthresh = get_upper_and_lower_limits(series, lower, upper)\n",
    "    return [x for x in series if x[1] >= lthresh and x[1] <= uthresh]"
   ]
  },
  {
   "cell_type": "code",
   "execution_count": 15,
   "metadata": {
    "collapsed": false
   },
   "outputs": [],
   "source": [
    "guilt_by_author = get_guilt_by_author(combined_commits, min_order)\n",
    "guilt_by_author = dict([[anonymize_name(k), v] for k, v in guilt_by_author.items()])\n",
    "\n",
    "#normalize by author\n",
    "norm_guilt_by_author = [[k, v/commits_by_author[k]]\n",
    "                        for k, v in guilt_by_author.items()]\n",
    "\n",
    "# author, commits, norm, total_errore\n",
    "norm_guilt_vs_commit_count = [[k, all_commits_by_author[k],\n",
    "                               v/ commits_by_author[k], v] \n",
    "                              for k, v in guilt_by_author.items()]\n",
    "\n",
    "# Filtered version 1 - 99 Percentile\n",
    "norm_guilt_by_commit_f = remove_outliers(norm_guilt_by_author, lower=1, upper=99)\n",
    "_, max_commits = get_upper_and_lower_limits(all_commits_by_author.items())\n",
    "\n",
    "norm_guilt_vs_commit_count = [[all_commits_by_author[k], norm_guilt] \n",
    "                              for k, norm_guilt in norm_guilt_by_commit_f\n",
    "                              if all_commits_by_author[k] < max_commits]\n",
    "\n",
    "log_norm_guilt_vs_commit_count = [[math.log(all_commits_by_author[k]), norm_guilt] \n",
    "                              for k, norm_guilt in norm_guilt_by_commit_f\n",
    "                              if all_commits_by_author[k] < max_commits]"
   ]
  },
  {
   "cell_type": "markdown",
   "metadata": {},
   "source": [
    "### Box Plot showing distribution of normalized guilt"
   ]
  },
  {
   "cell_type": "code",
   "execution_count": 16,
   "metadata": {
    "collapsed": false
   },
   "outputs": [
    {
     "data": {
      "image/png": "[encoded data removed]",
      "text/plain": [
       "<matplotlib.figure.Figure at 0x127da4890>"
      ]
     },
     "metadata": {},
     "output_type": "display_data"
    }
   ],
   "source": [
    "plt.figure(figsize=(8, 1)); plt.title('Norm Guilt by Author')\n",
    "x = plt.boxplot([x[1] for x in norm_guilt_by_author],vert=False)"
   ]
  },
  {
   "cell_type": "markdown",
   "metadata": {},
   "source": [
    "### Look at range relative to average author"
   ]
  },
  {
   "cell_type": "code",
   "execution_count": 17,
   "metadata": {
    "collapsed": false
   },
   "outputs": [
    {
     "data": {
      "image/png": "[encoded data removed]",
      "text/plain": [
       "<matplotlib.figure.Figure at 0x12831eb90>"
      ]
     },
     "metadata": {},
     "output_type": "display_data"
    }
   ],
   "source": [
    "plt.figure(figsize=(8, 1)); plt.title('Norm Guilt by Author')\n",
    "\n",
    "x = plt.boxplot([x[1] for x in norm_guilt_by_author],vert=False)"
   ]
  },
  {
   "cell_type": "markdown",
   "metadata": {},
   "source": [
    "### Same data in histogram form"
   ]
  },
  {
   "cell_type": "code",
   "execution_count": 18,
   "metadata": {
    "collapsed": false
   },
   "outputs": [
    {
     "data": {
      "image/png": "[encoded data removed]",
      "text/plain": [
       "<matplotlib.figure.Figure at 0x12897e7d0>"
      ]
     },
     "metadata": {},
     "output_type": "display_data"
    }
   ],
   "source": [
    "plt.figure(figsize=(8, 3))\n",
    "plt.title('Normalized Guilt by Author'); plt.xlabel('guilt'); plt.ylabel('authors')\n",
    "x = plt.hist([x[1] for x in norm_guilt_by_author], bins=100)"
   ]
  },
  {
   "cell_type": "markdown",
   "metadata": {},
   "source": [
    "### Same data, ignoring outliers"
   ]
  },
  {
   "cell_type": "code",
   "execution_count": 19,
   "metadata": {
    "collapsed": false
   },
   "outputs": [
    {
     "data": {
      "image/png": "[encoded data removed]",
      "text/plain": [
       "<matplotlib.figure.Figure at 0x128122950>"
      ]
     },
     "metadata": {},
     "output_type": "display_data"
    }
   ],
   "source": [
    "plt.figure(figsize=(8, 3))\n",
    "plt.title('Normalized Guilt by Author - 1% to 99%'); plt.xlabel('guilt'); plt.ylabel('authors')\n",
    "x = plt.hist([x[1] for x in norm_guilt_by_commit_f], bins=50)"
   ]
  },
  {
   "cell_type": "markdown",
   "metadata": {},
   "source": [
    "### Look at individual authors"
   ]
  },
  {
   "cell_type": "code",
   "execution_count": 20,
   "metadata": {
    "collapsed": false
   },
   "outputs": [
    {
     "name": "stdout",
     "output_type": "stream",
     "text": [
      "Authors with Highest Normalized Guilt: (Significant Caveats Apply)\n",
      "--------------------------------------\n",
      "Author_138 16.0425966308\n",
      "Author_100 3.65924618187\n",
      "Author_22 3.35977437726\n",
      "Author_33 2.56878012607\n",
      "Author_117 2.21157118548\n",
      "Author_87 2.16533312274\n",
      "Author_145 1.77571301893\n",
      "Author_128 1.76655244622\n",
      "Author_164 1.64388821644\n",
      "Author_158 1.64292410265\n"
     ]
    }
   ],
   "source": [
    "print 'Authors with Highest Normalized Guilt: (Significant Caveats Apply)'\n",
    "print '--------------------------------------'\n",
    "for author, norm_guilt in sorted([[k, v] for k, v in norm_guilt_by_author],\n",
    "                                 key=lambda x: x[1], reverse=True)[:10]:\n",
    "    print author, norm_guilt"
   ]
  },
  {
   "cell_type": "markdown",
   "metadata": {},
   "source": [
    "# Normalized Guilt vs Commit Experience"
   ]
  },
  {
   "cell_type": "markdown",
   "metadata": {},
   "source": [
    "### Basic Scatter Plot"
   ]
  },
  {
   "cell_type": "code",
   "execution_count": 21,
   "metadata": {
    "collapsed": false
   },
   "outputs": [
    {
     "data": {
      "image/png": "[encoded data removed]",
      "text/plain": [
       "<matplotlib.figure.Figure at 0x1271c6610>"
      ]
     },
     "metadata": {},
     "output_type": "display_data"
    }
   ],
   "source": [
    "plt.figure(figsize=(8, 8))\n",
    "plt.xlabel('commits'); plt.ylabel('bug rate'); plt.title('Bug rate vs commit experience no outliers')\n",
    "x, y = zip(*norm_guilt_vs_commit_count)\n",
    "plt.scatter(x, y); plt.xlim(0, ); plt.ylim(0, ); plt.show()"
   ]
  },
  {
   "cell_type": "markdown",
   "metadata": {},
   "source": [
    "### Scatter plot with commit experience on log scale"
   ]
  },
  {
   "cell_type": "code",
   "execution_count": 22,
   "metadata": {
    "collapsed": false
   },
   "outputs": [
    {
     "data": {
      "image/png": "[encoded data removed]",
      "text/plain": [
       "<matplotlib.figure.Figure at 0x12778eb10>"
      ]
     },
     "metadata": {},
     "output_type": "display_data"
    }
   ],
   "source": [
    "plt.figure(figsize=(8, 8))\n",
    "plt.xlabel('log commits'); plt.ylabel('bug rate'); plt.title('Bug rate vs commit experience no outliers')\n",
    "x, y = zip(*log_norm_guilt_vs_commit_count)\n",
    "plt.scatter(x, y); plt.xlim(0, ); plt.ylim(0, ); plt.show()"
   ]
  },
  {
   "cell_type": "markdown",
   "metadata": {},
   "source": [
    "# Cumulative contribution to overall guilt based on normalized guilt"
   ]
  },
  {
   "cell_type": "code",
   "execution_count": 36,
   "metadata": {
    "collapsed": false
   },
   "outputs": [],
   "source": [
    "def compute_cumulative(series):\n",
    "    series = sorted(series, key=lambda x: x[1], reverse=True)    \n",
    "    total = 0.0\n",
    "    result = []\n",
    "    for g, ng in series:\n",
    "        total += g\n",
    "        result.append([total, -ng])\n",
    "    return result"
   ]
  },
  {
   "cell_type": "code",
   "execution_count": 45,
   "metadata": {
    "collapsed": false
   },
   "outputs": [],
   "source": [
    "guilt_vs_norm_guilt_by_author = [[v, v/commits_by_author[k]]\n",
    "                        for k, v in guilt_by_author.items()]\n",
    "\n",
    "cumulative_guilt = compute_cumulative(guilt_vs_norm_guilt_by_author)\n",
    "\n",
    "n_authors = float(len(cumulative_guilt))\n",
    "max_guilt = cumulative_guilt[-1][0]\n",
    "relative_cumulative_guilt = [[100*float(i)/n_authors, v[0]/max_guilt ]\n",
    "                             for i, v in enumerate(cumulative_guilt)]\n",
    "\n",
    "# filtered versio of above\n",
    "guilt_vs_norm_guilt_by_author_f = [[v, v/commits_by_author[k]]\n",
    "                        for k, v in guilt_by_author.items()\n",
    "                        if commits_by_author[k] > 10]\n",
    "\n",
    "cumulative_guilt_f = compute_cumulative(guilt_vs_norm_guilt_by_author_f)\n",
    "\n",
    "relative_cumulative_guilt_f = [[100*float(i)/n_authors, v[0]/max_guilt ]\n",
    "                             for i, v in enumerate(cumulative_guilt_f)]"
   ]
  },
  {
   "cell_type": "markdown",
   "metadata": {},
   "source": [
    "### Cumulative Guilt vs author error rate"
   ]
  },
  {
   "cell_type": "code",
   "execution_count": 33,
   "metadata": {
    "collapsed": false
   },
   "outputs": [
    {
     "data": {
      "image/png": "[encoded data removed]",
      "text/plain": [
       "<matplotlib.figure.Figure at 0x128afd190>"
      ]
     },
     "metadata": {},
     "output_type": "display_data"
    }
   ],
   "source": [
    "plt.figure(figsize=(8, 8))\n",
    "plt.xlabel('- author norm guilt'); plt.ylabel('cumulative guilt'); plt.title('Cumulative Guilt vs Normalized Author Guilt')\n",
    "y, x = zip(*cumulative_guilt)\n",
    "plt.plot(x, y); plt.show()"
   ]
  },
  {
   "cell_type": "markdown",
   "metadata": {},
   "source": [
    "###Overall Guilt Contribution based on Author Error Rate"
   ]
  },
  {
   "cell_type": "code",
   "execution_count": 34,
   "metadata": {
    "collapsed": false
   },
   "outputs": [
    {
     "data": {
      "image/png": "[encoded data removed]",
      "text/plain": [
       "<matplotlib.figure.Figure at 0x127a28310>"
      ]
     },
     "metadata": {},
     "output_type": "display_data"
    }
   ],
   "source": [
    "plt.figure(figsize=(8, 8))\n",
    "plt.xlabel('Author Percentile'); plt.ylabel('% total cumulative guilt'); plt.title('Cumulative Guilt vs Normalized Author Guilt')\n",
    "x, y = zip(*relative_cumulative_guilt)\n",
    "plt.plot(x, y); plt.show()"
   ]
  },
  {
   "cell_type": "markdown",
   "metadata": {},
   "source": [
    "######Note Below data skewed by large number of authors with zero guilt"
   ]
  },
  {
   "cell_type": "markdown",
   "metadata": {},
   "source": [
    "###Overall Guilt Contribution based on Author Error Rate, ignoring authors with 10 or less commits"
   ]
  },
  {
   "cell_type": "code",
   "execution_count": 46,
   "metadata": {
    "collapsed": false
   },
   "outputs": [
    {
     "data": {
      "image/png": "[encoded data removed]",
      "text/plain": [
       "<matplotlib.figure.Figure at 0x128967790>"
      ]
     },
     "metadata": {},
     "output_type": "display_data"
    }
   ],
   "source": [
    "plt.figure(figsize=(8, 8))\n",
    "plt.xlabel('Author Percentile'); plt.ylabel('% total cumulative guilt'); plt.title('Cumulative Guilt vs Normalized Author Guilt')\n",
    "x, y = zip(*relative_cumulative_guilt_f)\n",
    "plt.plot(x, y); plt.show()"
   ]
  },
  {
   "cell_type": "markdown",
   "metadata": {},
   "source": [
    "###### The prolific authors appear to account for the vast majority of bugs.  Only 10% of guilt attributable to authors with 10 or fewer commits"
   ]
  },
  {
   "cell_type": "code",
   "execution_count": null,
   "metadata": {
    "collapsed": false
   },
   "outputs": [],
   "source": []
  }
 ],
 "metadata": {
  "kernelspec": {
   "display_name": "Python 2",
   "language": "python",
   "name": "python2"
  },
  "language_info": {
   "codemirror_mode": {
    "name": "ipython",
    "version": 2
   },
   "file_extension": ".py",
   "mimetype": "text/x-python",
   "name": "python",
   "nbconvert_exporter": "python",
   "pygments_lexer": "ipython2",
   "version": "2.7.9"
  }
 },
 "nbformat": 4,
 "nbformat_minor": 0
}
