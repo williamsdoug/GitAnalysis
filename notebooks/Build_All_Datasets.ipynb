{
 "cells": [
  {
   "cell_type": "markdown",
   "metadata": {},
   "source": [
    "# (re)Build All Datasets\n",
    "\n",
    "####Description:  Single notebook to update all GitAnalysis datasets\n",
    "\n",
    "####Author: Doug Willliams, Copyright 2015\n",
    "\n",
    "####Last Updated:  3/12/2015"
   ]
  },
  {
   "cell_type": "code",
   "execution_count": 1,
   "metadata": {
    "collapsed": false
   },
   "outputs": [],
   "source": [
    "%matplotlib inline\n",
    "import matplotlib.pyplot as plt\n",
    "\n",
    "import pprint as pp\n",
    "import sys\n",
    "import re\n",
    "sys.path.append('../dev')\n",
    "\n",
    "from commit_analysis import load_all_analysis_data\n",
    "from commit_analysis import rebuild_all_analysis_data\n",
    "import collections"
   ]
  },
  {
   "cell_type": "code",
   "execution_count": 2,
   "metadata": {
    "collapsed": false
   },
   "outputs": [],
   "source": [
    "INCREMENTAL_UPDATE= True\n",
    "PERMIT_DOWNLOADS = False"
   ]
  },
  {
   "cell_type": "raw",
   "metadata": {
    "collapsed": false
   },
   "source": [
    "PROJECT = 'heat'\n",
    "rebuild_all_analysis_data(PROJECT, update=INCREMENTAL_UPDATE, download=PERMIT_DOWNLOADS)"
   ]
  },
  {
   "cell_type": "raw",
   "metadata": {
    "collapsed": false
   },
   "source": [
    "PROJECT = 'glance'\n",
    "rebuild_all_analysis_data(PROJECT, update=INCREMENTAL_UPDATE, download=PERMIT_DOWNLOADS)"
   ]
  },
  {
   "cell_type": "raw",
   "metadata": {
    "collapsed": false
   },
   "source": [
    "PROJECT = 'cinder'\n",
    "rebuild_all_analysis_data(PROJECT, update=INCREMENTAL_UPDATE, download=PERMIT_DOWNLOADS)"
   ]
  },
  {
   "cell_type": "raw",
   "metadata": {
    "collapsed": false
   },
   "source": [
    "PROJECT = 'swift'\n",
    "rebuild_all_analysis_data(PROJECT, update=INCREMENTAL_UPDATE, download=PERMIT_DOWNLOADS)"
   ]
  },
  {
   "cell_type": "code",
   "execution_count": 3,
   "metadata": {
    "collapsed": false
   },
   "outputs": [
    {
     "name": "stdout",
     "output_type": "stream",
     "text": [
      "\n",
      "building Git data\n",
      "  total git_commits: 33500\n",
      "  bug fix commits: 4796\n",
      "  commits with change_id: 11738\n",
      "  bug fix with change_id: 4533\n",
      "\n",
      "Annotating Master Branch\n",
      "\n",
      "total commits: 33568\n",
      "Other commit message post-processing\n",
      "  Blueprints\n",
      "  Identifying cherry-pick commits\n",
      "Master Commit: e5ed57dc3f93164ee8c09b13c60e7712736ad58a\n",
      "\n",
      "Build combined_commits by joining with bugs and gerrit data\n",
      "  total LP bugs: 6828\n",
      "  Entries annotated: 3207\n",
      "  total git_commits: 33568\n",
      "  bug fix commits: 4796\n",
      "  commits with change_id: 11738\n",
      "  bug fix with change_id: 4533\n",
      "  total gerrit changes: 12907\n",
      "  total gerrit changes with detail: 12885\n",
      "Joining with Launchpad Data\n",
      "Joining with Gerrit Data\n"
     ]
    }
   ],
   "source": [
    "PROJECT = 'nova'\n",
    "rebuild_all_analysis_data(PROJECT, update=INCREMENTAL_UPDATE, download=PERMIT_DOWNLOADS)"
   ]
  },
  {
   "cell_type": "markdown",
   "metadata": {},
   "source": [
    "# Export data in CSV format"
   ]
  },
  {
   "cell_type": "raw",
   "metadata": {
    "collapsed": false
   },
   "source": [
    "from BugFixWorkflow import export_feature_vectors_to_csv"
   ]
  },
  {
   "cell_type": "raw",
   "metadata": {
    "collapsed": false
   },
   "source": [
    "PROJECTS = ['nova', 'swift', 'cinder', 'heat', 'glance']"
   ]
  },
  {
   "cell_type": "raw",
   "metadata": {
    "collapsed": false
   },
   "source": [
    "LEVELS = [['crit', '_critical'], ['high+', '_highplus'], ['med+', '_medplus'], ['low+', '_lowplus']]"
   ]
  },
  {
   "cell_type": "raw",
   "metadata": {
    "collapsed": false
   },
   "source": [
    "for project in PROJECTS:\n",
    "    print 'Exporting data for:', project\n",
    "    for importance, suffix in LEVELS:\n",
    "        print 'Selected importance:', importance\n",
    "        export_feature_vectors_to_csv(project, importance=importance, suffix=suffix)"
   ]
  },
  {
   "cell_type": "code",
   "execution_count": null,
   "metadata": {
    "collapsed": false
   },
   "outputs": [],
   "source": []
  }
 ],
 "metadata": {
  "kernelspec": {
   "display_name": "Python 2",
   "language": "python",
   "name": "python2"
  },
  "language_info": {
   "codemirror_mode": {
    "name": "ipython",
    "version": 2
   },
   "file_extension": ".py",
   "mimetype": "text/x-python",
   "name": "python",
   "nbconvert_exporter": "python",
   "pygments_lexer": "ipython2",
   "version": "2.7.9"
  }
 },
 "nbformat": 4,
 "nbformat_minor": 0
}
