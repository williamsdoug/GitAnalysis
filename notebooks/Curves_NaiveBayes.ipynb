{
 "metadata": {
  "kernelspec": {
   "display_name": "Python 2",
   "language": "python",
   "name": "python2"
  },
  "language_info": {
   "codemirror_mode": {
    "name": "ipython",
    "version": 2
   },
   "file_extension": ".py",
   "mimetype": "text/x-python",
   "name": "python",
   "nbconvert_exporter": "python",
   "pygments_lexer": "ipython2",
   "version": "2.7.9"
  },
  "name": ""
 },
 "nbformat": 3,
 "nbformat_minor": 0,
 "worksheets": [
  {
   "cells": [
    {
     "cell_type": "code",
     "collapsed": false,
     "input": [
      "%matplotlib inline\n",
      "from pprint import pprint\n",
      "from collections import defaultdict\n",
      "\n",
      "import numpy as np\n",
      "import math\n",
      "import matplotlib.pyplot as plt\n",
      "import warnings\n",
      "\n",
      "#from sklearn.linear_model import LogisticRegression\n",
      "#from sklearn.svm import SVC\n",
      "from sklearn.naive_bayes import GaussianNB\n",
      "#from sklearn.linear_model import SGDClassifier\n",
      "\n",
      "from sklearn.grid_search import GridSearchCV\n",
      "from sklearn import metrics\n",
      "\n",
      "import sys\n",
      "sys.path.append('../dev')\n",
      "\n",
      "from ml_plot import plot_validation_curve\n",
      "from ml_plot import PredictCV, my_plot_learning_curve\n",
      "from ml_plot import plot_prediction_curve\n",
      "from ml_plot import get_dataset, eval_predictions"
     ],
     "language": "python",
     "metadata": {},
     "outputs": [],
     "prompt_number": 1
    },
    {
     "cell_type": "heading",
     "level": 1,
     "metadata": {},
     "source": [
      "Configuration"
     ]
    },
    {
     "cell_type": "code",
     "collapsed": false,
     "input": [
      "PROJECT = 'nova'\n",
      "# PROJECT = 'swift'\n",
      "# PROJECT = 'cinder'\n",
      "# PROJECT = 'heat'\n",
      "# PROJECT = 'glance'\n",
      "\n",
      "# IMPORTANCE = 'crit'\n",
      "# IMPORTANCE = 'high+'\n",
      "IMPORTANCE = 'med+'\n",
      "# IMPORTANCE = 'low+'\n",
      "\n",
      "# SIZE = 100\n",
      "#SIZE = 250\n",
      "# SIZE = 0.1\n",
      "SIZE = 0.5\n",
      "\n",
      "SCORING = 'f1'         # (precision * recall) / (precision + recall)\n",
      "# SCORING = 'accuracy'   # (TP + TN) / all values\n",
      "# SCORING = 'precision'  # TP / (TP + FP)\n",
      "# SCORING = 'recall'     # TP / (TP + FN)\n",
      "# SCORING = 'average_precision'\n",
      "# SCORING = 'roc_auc'\n",
      "\n",
      "JOBS = 4\n",
      "VERBOSE = 0\n",
      "\n",
      "warnings.filterwarnings('ignore', 'F-score is ill-defined')\n",
      "warnings.filterwarnings('ignore', 'overflow encountered in exp')"
     ],
     "language": "python",
     "metadata": {},
     "outputs": [],
     "prompt_number": 2
    },
    {
     "cell_type": "heading",
     "level": 1,
     "metadata": {},
     "source": [
      "Load Data"
     ]
    },
    {
     "cell_type": "code",
     "collapsed": false,
     "input": [
      "%%capture\n",
      "Y, X = get_dataset(PROJECT, IMPORTANCE)"
     ],
     "language": "python",
     "metadata": {},
     "outputs": [],
     "prompt_number": 3
    },
    {
     "cell_type": "heading",
     "level": 3,
     "metadata": {},
     "source": [
      "Select Split Strategy"
     ]
    },
    {
     "cell_type": "code",
     "collapsed": false,
     "input": [
      "cv = PredictCV(len(Y), history=1000, future=500, n_iter=100)"
     ],
     "language": "python",
     "metadata": {},
     "outputs": [],
     "prompt_number": 4
    },
    {
     "cell_type": "heading",
     "level": 1,
     "metadata": {},
     "source": [
      "Initial Parameter Settings"
     ]
    },
    {
     "cell_type": "code",
     "collapsed": false,
     "input": [
      "estimator = GaussianNB()"
     ],
     "language": "python",
     "metadata": {},
     "outputs": [],
     "prompt_number": 5
    },
    {
     "cell_type": "heading",
     "level": 1,
     "metadata": {},
     "source": [
      "Learning Curve"
     ]
    },
    {
     "cell_type": "code",
     "collapsed": false,
     "input": [
      "title = \"Learning Curves for Gaussian Naive Bayes\"\n",
      "my_plot_learning_curve(estimator, title, X, Y,\n",
      "                           n_jobs=JOBS, future=500,\n",
      "                           history_sizes=[100, 200, 300, 400, 500, 600, 700, 800, 900, 1000],\n",
      "                           n_iter=100)"
     ],
     "language": "python",
     "metadata": {},
     "outputs": [
      {
       "output_type": "pyout",
       "prompt_number": 6,
       "text": [
        "<module 'matplotlib.pyplot' from '/Users/doug/anaconda/lib/python2.7/site-packages/matplotlib/pyplot.pyc'>"
       ]
      },
      {
       "output_type": "display_data",
       "png": "[encoded data removed]",
       "text": [
        "<matplotlib.figure.Figure at 0x115b7b490>"
       ]
      }
     ],
     "prompt_number": 6
    },
    {
     "cell_type": "heading",
     "level": 1,
     "metadata": {},
     "source": [
      "Prediction Curve"
     ]
    },
    {
     "cell_type": "code",
     "collapsed": false,
     "input": [
      "title = \"Prediction Horizon Curve for Naive Bayes\"\n",
      "plot_prediction_curve(estimator, title, X, Y,\n",
      "                           n_jobs=JOBS, history=500,\n",
      "                           future_sizes=[100, 200, 300, 400, 500],\n",
      "                           n_iter=100)\n",
      "plt.show()"
     ],
     "language": "python",
     "metadata": {},
     "outputs": [
      {
       "output_type": "display_data",
       "png": "[encoded data removed]",
       "text": [
        "<matplotlib.figure.Figure at 0x120bef150>"
       ]
      }
     ],
     "prompt_number": 7
    },
    {
     "cell_type": "code",
     "collapsed": false,
     "input": [
      "NB_results = eval_predictions(estimator, X, Y, history_sizes=[100, 200, 300, 400, 500, 1000],\n",
      "                              future_sizes=[100, 200, 300, 400, 500],\n",
      "                              n_iter=100)"
     ],
     "language": "python",
     "metadata": {},
     "outputs": [
      {
       "output_type": "stream",
       "stream": "stdout",
       "text": [
        "** Predictions for hist=100 future=100 **\n",
        "\n",
        "F1:        0.28  +/- 0.13\n",
        "Accuracy:  0.65  +/- 0.12\n",
        "Precision: 0.27  +/- 0.14\n",
        "Recall:    0.33  +/- 0.18\n",
        "\n",
        "Aggregate Confusion Matrix - 100 iterations\n",
        "[[5687 2029]\n",
        " [1459  825]]\n",
        "\n",
        "\n",
        "** Predictions for hist=100 future=200 **"
       ]
      },
      {
       "output_type": "stream",
       "stream": "stdout",
       "text": [
        "\n",
        "\n",
        "F1:        0.28  +/- 0.11\n",
        "Accuracy:  0.65  +/- 0.09\n",
        "Precision: 0.27  +/- 0.11\n",
        "Recall:    0.33  +/- 0.14\n",
        "\n",
        "Aggregate Confusion Matrix - 100 iterations\n",
        "[[11383  4073]\n",
        " [ 2939  1605]]\n",
        "\n",
        "\n",
        "** Predictions for hist=100 future=300 **"
       ]
      },
      {
       "output_type": "stream",
       "stream": "stdout",
       "text": [
        "\n",
        "\n",
        "F1:        0.28  +/- 0.11\n",
        "Accuracy:  0.64  +/- 0.10\n",
        "Precision: 0.26  +/- 0.10\n",
        "Recall:    0.34  +/- 0.16\n",
        "\n",
        "Aggregate Confusion Matrix - 100 iterations\n",
        "[[16834  6368]\n",
        " [ 4309  2489]]\n",
        "\n",
        "\n",
        "** Predictions for hist=100 future=400 **"
       ]
      },
      {
       "output_type": "stream",
       "stream": "stdout",
       "text": [
        "\n",
        "\n",
        "F1:        0.27  +/- 0.11\n",
        "Accuracy:  0.63  +/- 0.11\n",
        "Precision: 0.24  +/- 0.09\n",
        "Recall:    0.32  +/- 0.16\n",
        "\n",
        "Aggregate Confusion Matrix - 100 iterations\n",
        "[[22202  8786]\n",
        " [ 5819  3193]]\n",
        "\n",
        "\n",
        "** Predictions for hist=100 future=500 **"
       ]
      },
      {
       "output_type": "stream",
       "stream": "stdout",
       "text": [
        "\n",
        "\n",
        "F1:        0.28  +/- 0.10\n",
        "Accuracy:  0.65  +/- 0.09\n",
        "Precision: 0.26  +/- 0.09\n",
        "Recall:    0.33  +/- 0.14\n",
        "\n",
        "Aggregate Confusion Matrix - 100 iterations\n",
        "[[28609 10150]\n",
        " [ 7275  3966]]\n",
        "\n",
        "\n",
        "** Predictions for hist=200 future=100 **"
       ]
      },
      {
       "output_type": "stream",
       "stream": "stdout",
       "text": [
        "\n",
        "\n",
        "F1:        0.28  +/- 0.11\n",
        "Accuracy:  0.61  +/- 0.11\n",
        "Precision: 0.24  +/- 0.11\n",
        "Recall:    0.37  +/- 0.17\n",
        "\n",
        "Aggregate Confusion Matrix - 100 iterations\n",
        "[[5290 2507]\n",
        " [1357  846]]\n",
        "\n",
        "\n",
        "** Predictions for hist=200 future=200 **"
       ]
      },
      {
       "output_type": "stream",
       "stream": "stdout",
       "text": [
        "\n",
        "\n",
        "F1:        0.29  +/- 0.11\n",
        "Accuracy:  0.64  +/- 0.09\n",
        "Precision: 0.25  +/- 0.11\n",
        "Recall:    0.37  +/- 0.15\n",
        "\n",
        "Aggregate Confusion Matrix - 100 iterations\n",
        "[[11039  4602]\n",
        " [ 2641  1718]]\n",
        "\n",
        "\n",
        "** Predictions for hist=200 future=300 **"
       ]
      },
      {
       "output_type": "stream",
       "stream": "stdout",
       "text": [
        "\n",
        "\n",
        "F1:        0.30  +/- 0.09\n",
        "Accuracy:  0.62  +/- 0.09\n",
        "Precision: 0.26  +/- 0.08\n",
        "Recall:    0.37  +/- 0.14\n",
        "\n",
        "Aggregate Confusion Matrix - 100 iterations\n",
        "[[15860  7349]\n",
        " [ 4104  2687]]\n",
        "\n",
        "\n",
        "** Predictions for hist=200 future=400 **"
       ]
      },
      {
       "output_type": "stream",
       "stream": "stdout",
       "text": [
        "\n",
        "\n",
        "F1:        0.30  +/- 0.09\n",
        "Accuracy:  0.62  +/- 0.09\n",
        "Precision: 0.25  +/- 0.08\n",
        "Recall:    0.40  +/- 0.14\n",
        "\n",
        "Aggregate Confusion Matrix - 100 iterations\n",
        "[[20917 10302]\n",
        " [ 5026  3755]]\n",
        "\n",
        "\n",
        "** Predictions for hist=200 future=500 **"
       ]
      },
      {
       "output_type": "stream",
       "stream": "stdout",
       "text": [
        "\n",
        "\n",
        "F1:        0.30  +/- 0.08\n",
        "Accuracy:  0.61  +/- 0.08\n",
        "Precision: 0.26  +/- 0.08\n",
        "Recall:    0.39  +/- 0.13\n",
        "\n",
        "Aggregate Confusion Matrix - 100 iterations\n",
        "[[25858 12603]\n",
        " [ 6873  4666]]\n",
        "\n",
        "\n",
        "** Predictions for hist=300 future=100 **"
       ]
      },
      {
       "output_type": "stream",
       "stream": "stdout",
       "text": [
        "\n",
        "\n",
        "F1:        0.30  +/- 0.12\n",
        "Accuracy:  0.61  +/- 0.10\n",
        "Precision: 0.25  +/- 0.12\n",
        "Recall:    0.41  +/- 0.20\n",
        "\n",
        "Aggregate Confusion Matrix - 100 iterations\n",
        "[[5110 2688]\n",
        " [1246  956]]\n",
        "\n",
        "\n",
        "** Predictions for hist=300 future=200 **"
       ]
      },
      {
       "output_type": "stream",
       "stream": "stdout",
       "text": [
        "\n",
        "\n",
        "F1:        0.28  +/- 0.10\n",
        "Accuracy:  0.61  +/- 0.11\n",
        "Precision: 0.23  +/- 0.09\n",
        "Recall:    0.37  +/- 0.15\n",
        "\n",
        "Aggregate Confusion Matrix - 100 iterations\n",
        "[[10421  5240]\n",
        " [ 2605  1734]]\n",
        "\n",
        "\n",
        "** Predictions for hist=300 future=300 **"
       ]
      },
      {
       "output_type": "stream",
       "stream": "stdout",
       "text": [
        "\n",
        "\n",
        "F1:        0.29  +/- 0.09\n",
        "Accuracy:  0.60  +/- 0.10\n",
        "Precision: 0.24  +/- 0.09\n",
        "Recall:    0.39  +/- 0.14\n",
        "\n",
        "Aggregate Confusion Matrix - 100 iterations\n",
        "[[15225  8051]\n",
        " [ 3996  2728]]\n",
        "\n",
        "\n",
        "** Predictions for hist=300 future=400 **"
       ]
      },
      {
       "output_type": "stream",
       "stream": "stdout",
       "text": [
        "\n",
        "\n",
        "F1:        0.31  +/- 0.09\n",
        "Accuracy:  0.58  +/- 0.10\n",
        "Precision: 0.24  +/- 0.08\n",
        "Recall:    0.43  +/- 0.15\n",
        "\n",
        "Aggregate Confusion Matrix - 100 iterations\n",
        "[[18977 12011]\n",
        " [ 4843  4169]]\n",
        "\n",
        "\n",
        "** Predictions for hist=300 future=500 **"
       ]
      },
      {
       "output_type": "stream",
       "stream": "stdout",
       "text": [
        "\n",
        "\n",
        "F1:        0.29  +/- 0.09\n",
        "Accuracy:  0.59  +/- 0.10\n",
        "Precision: 0.24  +/- 0.09\n",
        "Recall:    0.42  +/- 0.15\n",
        "\n",
        "Aggregate Confusion Matrix - 100 iterations\n",
        "[[25011 14292]\n",
        " [ 6007  4690]]\n",
        "\n",
        "\n",
        "** Predictions for hist=400 future=100 **"
       ]
      },
      {
       "output_type": "stream",
       "stream": "stdout",
       "text": [
        "\n",
        "\n",
        "F1:        0.30  +/- 0.12\n",
        "Accuracy:  0.61  +/- 0.11\n",
        "Precision: 0.26  +/- 0.13\n",
        "Recall:    0.40  +/- 0.18\n",
        "\n",
        "Aggregate Confusion Matrix - 100 iterations\n",
        "[[5193 2559]\n",
        " [1299  949]]\n",
        "\n",
        "\n",
        "** Predictions for hist=400 future=200 **"
       ]
      },
      {
       "output_type": "stream",
       "stream": "stdout",
       "text": [
        "\n",
        "\n",
        "F1:        0.30  +/- 0.09\n",
        "Accuracy:  0.57  +/- 0.11\n",
        "Precision: 0.23  +/- 0.08\n",
        "Recall:    0.44  +/- 0.16\n",
        "\n",
        "Aggregate Confusion Matrix - 100 iterations\n",
        "[[9447 6199]\n",
        " [2324 2030]]\n",
        "\n",
        "\n",
        "** Predictions for hist=400 future=300 **"
       ]
      },
      {
       "output_type": "stream",
       "stream": "stdout",
       "text": [
        "\n",
        "\n",
        "F1:        0.31  +/- 0.09\n",
        "Accuracy:  0.57  +/- 0.11\n",
        "Precision: 0.25  +/- 0.08\n",
        "Recall:    0.43  +/- 0.15\n",
        "\n",
        "Aggregate Confusion Matrix - 100 iterations\n",
        "[[14116  9075]\n",
        " [ 3699  3110]]\n",
        "\n",
        "\n",
        "** Predictions for hist=400 future=400 **"
       ]
      },
      {
       "output_type": "stream",
       "stream": "stdout",
       "text": [
        "\n",
        "\n",
        "F1:        0.30  +/- 0.09\n",
        "Accuracy:  0.59  +/- 0.09\n",
        "Precision: 0.24  +/- 0.09\n",
        "Recall:    0.41  +/- 0.14\n",
        "\n",
        "Aggregate Confusion Matrix - 100 iterations\n",
        "[[19607 11436]\n",
        " [ 5107  3850]]\n",
        "\n",
        "\n",
        "** Predictions for hist=400 future=500 **"
       ]
      },
      {
       "output_type": "stream",
       "stream": "stdout",
       "text": [
        "\n",
        "\n",
        "F1:        0.29  +/- 0.08\n",
        "Accuracy:  0.58  +/- 0.09\n",
        "Precision: 0.23  +/- 0.07\n",
        "Recall:    0.43  +/- 0.13\n",
        "\n",
        "Aggregate Confusion Matrix - 100 iterations\n",
        "[[24103 15347]\n",
        " [ 5806  4744]]\n",
        "\n",
        "\n",
        "** Predictions for hist=500 future=100 **"
       ]
      },
      {
       "output_type": "stream",
       "stream": "stdout",
       "text": [
        "\n",
        "\n",
        "F1:        0.30  +/- 0.12\n",
        "Accuracy:  0.56  +/- 0.11\n",
        "Precision: 0.24  +/- 0.11\n",
        "Recall:    0.45  +/- 0.18\n",
        "\n",
        "Aggregate Confusion Matrix - 100 iterations\n",
        "[[4540 3179]\n",
        " [1183 1098]]\n",
        "\n",
        "\n",
        "** Predictions for hist=500 future=200 **"
       ]
      },
      {
       "output_type": "stream",
       "stream": "stdout",
       "text": [
        "\n",
        "\n",
        "F1:        0.31  +/- 0.09\n",
        "Accuracy:  0.56  +/- 0.10\n",
        "Precision: 0.24  +/- 0.08\n",
        "Recall:    0.45  +/- 0.16\n",
        "\n",
        "Aggregate Confusion Matrix - 100 iterations\n",
        "[[8926 6497]\n",
        " [2385 2192]]\n",
        "\n",
        "\n",
        "** Predictions for hist=500 future=300 **"
       ]
      },
      {
       "output_type": "stream",
       "stream": "stdout",
       "text": [
        "\n",
        "\n",
        "F1:        0.30  +/- 0.09\n",
        "Accuracy:  0.57  +/- 0.10\n",
        "Precision: 0.24  +/- 0.09\n",
        "Recall:    0.44  +/- 0.15\n",
        "\n",
        "Aggregate Confusion Matrix - 100 iterations\n",
        "[[14179  9269]\n",
        " [ 3526  3026]]\n",
        "\n",
        "\n",
        "** Predictions for hist=500 future=400 **"
       ]
      },
      {
       "output_type": "stream",
       "stream": "stdout",
       "text": [
        "\n",
        "\n",
        "F1:        0.30  +/- 0.08\n",
        "Accuracy:  0.56  +/- 0.09\n",
        "Precision: 0.23  +/- 0.08\n",
        "Recall:    0.45  +/- 0.13\n",
        "\n",
        "Aggregate Confusion Matrix - 100 iterations\n",
        "[[18151 13207]\n",
        " [ 4526  4116]]\n",
        "\n",
        "\n",
        "** Predictions for hist=500 future=500 **"
       ]
      },
      {
       "output_type": "stream",
       "stream": "stdout",
       "text": [
        "\n",
        "\n",
        "F1:        0.30  +/- 0.08\n",
        "Accuracy:  0.56  +/- 0.10\n",
        "Precision: 0.23  +/- 0.08\n",
        "Recall:    0.46  +/- 0.15\n",
        "\n",
        "Aggregate Confusion Matrix - 100 iterations\n",
        "[[22950 16398]\n",
        " [ 5432  5220]]\n",
        "\n",
        "\n",
        "** Predictions for hist=1000 future=100 **"
       ]
      },
      {
       "output_type": "stream",
       "stream": "stdout",
       "text": [
        "\n",
        "\n",
        "F1:        0.33  +/- 0.11\n",
        "Accuracy:  0.51  +/- 0.10\n",
        "Precision: 0.24  +/- 0.09\n",
        "Recall:    0.56  +/- 0.15\n",
        "\n",
        "Aggregate Confusion Matrix - 100 iterations\n",
        "[[3777 3958]\n",
        " [ 924 1341]]\n",
        "\n",
        "\n",
        "** Predictions for hist=1000 future=200 **"
       ]
      },
      {
       "output_type": "stream",
       "stream": "stdout",
       "text": [
        "\n",
        "\n",
        "F1:        0.32  +/- 0.10\n",
        "Accuracy:  0.50  +/- 0.09\n",
        "Precision: 0.23  +/- 0.08\n",
        "Recall:    0.57  +/- 0.12\n",
        "\n",
        "Aggregate Confusion Matrix - 100 iterations\n",
        "[[7385 8293]\n",
        " [1752 2570]]\n",
        "\n",
        "\n",
        "** Predictions for hist=1000 future=300 **"
       ]
      },
      {
       "output_type": "stream",
       "stream": "stdout",
       "text": [
        "\n",
        "\n",
        "F1:        0.31  +/- 0.09\n",
        "Accuracy:  0.50  +/- 0.08\n",
        "Precision: 0.22  +/- 0.07\n",
        "Recall:    0.56  +/- 0.12\n",
        "\n",
        "Aggregate Confusion Matrix - 100 iterations\n",
        "[[11197 12439]\n",
        " [ 2672  3692]]\n",
        "\n",
        "\n",
        "** Predictions for hist=1000 future=400 **"
       ]
      },
      {
       "output_type": "stream",
       "stream": "stdout",
       "text": [
        "\n",
        "\n",
        "F1:        0.32  +/- 0.09\n",
        "Accuracy:  0.51  +/- 0.08\n",
        "Precision: 0.22  +/- 0.07\n",
        "Recall:    0.56  +/- 0.12\n",
        "\n",
        "Aggregate Confusion Matrix - 100 iterations\n",
        "[[15533 16118]\n",
        " [ 3368  4981]]\n",
        "\n",
        "\n",
        "** Predictions for hist=1000 future=500 **"
       ]
      },
      {
       "output_type": "stream",
       "stream": "stdout",
       "text": [
        "\n",
        "\n",
        "F1:        0.32  +/- 0.09\n",
        "Accuracy:  0.51  +/- 0.09\n",
        "Precision: 0.22  +/- 0.07\n",
        "Recall:    0.56  +/- 0.12\n",
        "\n",
        "Aggregate Confusion Matrix - 100 iterations\n",
        "[[19265 20210]\n",
        " [ 4312  6213]]\n",
        "\n",
        "\n"
       ]
      },
      {
       "output_type": "stream",
       "stream": "stderr",
       "text": [
        "/Users/doug/anaconda/lib/python2.7/site-packages/sklearn/metrics/classification.py:958: UndefinedMetricWarning: Precision is ill-defined and being set to 0.0 due to no predicted samples.\n",
        "  'precision', 'predicted', average, warn_for)\n"
       ]
      }
     ],
     "prompt_number": 8
    },
    {
     "cell_type": "code",
     "collapsed": false,
     "input": [],
     "language": "python",
     "metadata": {},
     "outputs": [],
     "prompt_number": 9
    }
   ],
   "metadata": {}
  }
 ]
}