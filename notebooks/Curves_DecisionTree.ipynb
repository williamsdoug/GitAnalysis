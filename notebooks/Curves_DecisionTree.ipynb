{
 "metadata": {
  "kernelspec": {
   "display_name": "Python 2",
   "language": "python",
   "name": "python2"
  },
  "language_info": {
   "codemirror_mode": {
    "name": "ipython",
    "version": 2
   },
   "file_extension": ".py",
   "mimetype": "text/x-python",
   "name": "python",
   "nbconvert_exporter": "python",
   "pygments_lexer": "ipython2",
   "version": "2.7.9"
  },
  "name": ""
 },
 "nbformat": 3,
 "nbformat_minor": 0,
 "worksheets": [
  {
   "cells": [
    {
     "cell_type": "code",
     "collapsed": false,
     "input": [
      "%matplotlib inline\n",
      "from pprint import pprint\n",
      "from collections import defaultdict\n",
      "\n",
      "import numpy as np\n",
      "import math\n",
      "import matplotlib.pyplot as plt\n",
      "import random\n",
      "import warnings\n",
      "\n",
      "#from sklearn.linear_model import LogisticRegression\n",
      "#from sklearn.svm import SVC\n",
      "#from sklearn.naive_bayes import GaussianNB\n",
      "#from sklearn.linear_model import SGDClassifier\n",
      "import sklearn.tree\n",
      "import sklearn.ensemble\n",
      "\n",
      "from sklearn.grid_search import GridSearchCV\n",
      "from sklearn import metrics\n",
      "\n",
      "import sys\n",
      "sys.path.append('../dev')\n",
      "\n",
      "from ml_plot import plot_validation_curve\n",
      "from ml_plot import PredictCV, my_plot_learning_curve\n",
      "from ml_plot import plot_prediction_curve\n",
      "from ml_plot import get_dataset, eval_predictions"
     ],
     "language": "python",
     "metadata": {},
     "outputs": [],
     "prompt_number": 1
    },
    {
     "cell_type": "heading",
     "level": 1,
     "metadata": {},
     "source": [
      "Configuration"
     ]
    },
    {
     "cell_type": "code",
     "collapsed": false,
     "input": [
      "PROJECT = 'nova'\n",
      "# PROJECT = 'swift'\n",
      "# PROJECT = 'cinder'\n",
      "# PROJECT = 'heat'\n",
      "# PROJECT = 'glance'\n",
      "\n",
      "# IMPORTANCE = 'crit'\n",
      "# IMPORTANCE = 'high+'\n",
      "IMPORTANCE = 'med+'\n",
      "# IMPORTANCE = 'low+'\n",
      "\n",
      "# SIZE = 100\n",
      "#SIZE = 250\n",
      "# SIZE = 0.1\n",
      "SIZE = 0.5\n",
      "\n",
      "SCORING = 'f1'         # (precision * recall) / (precision + recall)\n",
      "# SCORING = 'accuracy'   # (TP + TN) / all values\n",
      "# SCORING = 'precision'  # TP / (TP + FP)\n",
      "# SCORING = 'recall'     # TP / (TP + FN)\n",
      "# SCORING = 'average_precision'\n",
      "# SCORING = 'roc_auc'\n",
      "\n",
      "JOBS = 4\n",
      "\n",
      "VERBOSE = 0\n",
      "\n",
      "#warnings.simplefilter(\"ignore\", UndefinedMetricWarning)\n",
      "warnings.filterwarnings(\"ignore\", 'F-score is ill-defined')"
     ],
     "language": "python",
     "metadata": {},
     "outputs": [],
     "prompt_number": 2
    },
    {
     "cell_type": "heading",
     "level": 1,
     "metadata": {},
     "source": [
      "Load Data"
     ]
    },
    {
     "cell_type": "code",
     "collapsed": false,
     "input": [
      "%%capture\n",
      "Y, X = get_dataset(PROJECT, IMPORTANCE)"
     ],
     "language": "python",
     "metadata": {},
     "outputs": [],
     "prompt_number": 3
    },
    {
     "cell_type": "heading",
     "level": 3,
     "metadata": {},
     "source": [
      "Select Split Strategy"
     ]
    },
    {
     "cell_type": "code",
     "collapsed": false,
     "input": [
      "cv = PredictCV(len(Y), history=1000, future=500, n_iter=10)"
     ],
     "language": "python",
     "metadata": {},
     "outputs": [],
     "prompt_number": 4
    },
    {
     "cell_type": "heading",
     "level": 1,
     "metadata": {},
     "source": [
      "Decision Tree Classifier"
     ]
    },
    {
     "cell_type": "code",
     "collapsed": false,
     "input": [
      "estimator = sklearn.tree.DecisionTreeClassifier()\n",
      "param_grid = {'criterion': ['gini', 'entropy'], \n",
      "                  'max_features':['auto', 'log2', 10, 25, 50, 75, 100, 150, 200]  }"
     ],
     "language": "python",
     "metadata": {},
     "outputs": [],
     "prompt_number": 5
    },
    {
     "cell_type": "code",
     "collapsed": false,
     "input": [
      "grid = GridSearchCV(estimator, param_grid=param_grid, cv=cv, scoring=SCORING,\n",
      "                    n_jobs=JOBS, pre_dispatch=2*JOBS, verbose=VERBOSE)\n",
      "# grid.fit(X_train, Y_train)\n",
      "grid.fit(X, Y)\n",
      "print 'best_score: ', grid.best_score_\n",
      "clf = grid.best_estimator_\n",
      "grid.best_estimator_"
     ],
     "language": "python",
     "metadata": {},
     "outputs": [
      {
       "output_type": "stream",
       "stream": "stdout",
       "text": [
        "best_score:  0.38215460907\n"
       ]
      },
      {
       "output_type": "pyout",
       "prompt_number": 6,
       "text": [
        "DecisionTreeClassifier(class_weight=None, criterion='entropy', max_depth=None,\n",
        "            max_features=75, max_leaf_nodes=None, min_samples_leaf=1,\n",
        "            min_samples_split=2, min_weight_fraction_leaf=0.0,\n",
        "            random_state=None, splitter='best')"
       ]
      }
     ],
     "prompt_number": 6
    },
    {
     "cell_type": "heading",
     "level": 3,
     "metadata": {},
     "source": [
      "Validation Curves"
     ]
    },
    {
     "cell_type": "code",
     "collapsed": false,
     "input": [
      "best_score, param_val, param_name = \\\n",
      "    plot_validation_curve(clf,\n",
      "                          X, Y,\n",
      "                          \"max_features\", [10, 25, 50, 75, 100, 125, 150, 200, 250, 300],\n",
      "                          \"max_features Validation Curve\",\n",
      "                          cv=cv, scoring=SCORING, n_jobs=JOBS)\n",
      "print 'Best score of', best_score, 'when setting', param_name, 'to',  param_val"
     ],
     "language": "python",
     "metadata": {},
     "outputs": [
      {
       "output_type": "display_data",
       "png": "[encoded data removed]",
       "text": [
        "<matplotlib.figure.Figure at 0x100573250>"
       ]
      },
      {
       "output_type": "stream",
       "stream": "stdout",
       "text": [
        "Best score of 0.404607528577 when setting max_features to 250\n"
       ]
      }
     ],
     "prompt_number": 7
    },
    {
     "cell_type": "heading",
     "level": 3,
     "metadata": {},
     "source": [
      "Learning Curve"
     ]
    },
    {
     "cell_type": "code",
     "collapsed": false,
     "input": [
      "title = \"Learning Curves for Decision Tree Classifier\"\n",
      "my_plot_learning_curve(clf, title, X, Y,\n",
      "                           n_jobs=JOBS, future=200,\n",
      "                           history_sizes=[100, 200, 300, 500, 700, 1000])"
     ],
     "language": "python",
     "metadata": {},
     "outputs": [
      {
       "output_type": "pyout",
       "prompt_number": 8,
       "text": [
        "<module 'matplotlib.pyplot' from '/Users/doug/anaconda/lib/python2.7/site-packages/matplotlib/pyplot.pyc'>"
       ]
      },
      {
       "output_type": "display_data",
       "png": "[encoded data removed]",
       "text": [
        "<matplotlib.figure.Figure at 0x1c3658f10>"
       ]
      }
     ],
     "prompt_number": 8
    },
    {
     "cell_type": "heading",
     "level": 3,
     "metadata": {},
     "source": [
      "Prediction Curve"
     ]
    },
    {
     "cell_type": "code",
     "collapsed": false,
     "input": [
      "title = \"Prediction Horizon Curve for Decision Tree Classifier\"\n",
      "plot_prediction_curve(clf, title, X, Y,\n",
      "                           n_jobs=JOBS, history=500,\n",
      "                           future_sizes=[100, 200, 300, 500])"
     ],
     "language": "python",
     "metadata": {},
     "outputs": [
      {
       "output_type": "pyout",
       "prompt_number": 9,
       "text": [
        "<module 'matplotlib.pyplot' from '/Users/doug/anaconda/lib/python2.7/site-packages/matplotlib/pyplot.pyc'>"
       ]
      },
      {
       "output_type": "display_data",
       "png": "[encoded data removed]",
       "text": [
        "<matplotlib.figure.Figure at 0x1c55b5f10>"
       ]
      }
     ],
     "prompt_number": 9
    },
    {
     "cell_type": "code",
     "collapsed": false,
     "input": [
      "DT_results = eval_predictions(clf, X, Y, history_sizes=[300, 500, 1000], future_sizes=[100, 200, 500])"
     ],
     "language": "python",
     "metadata": {},
     "outputs": [
      {
       "output_type": "stream",
       "stream": "stdout",
       "text": [
        "** Predictions for hist=300 future=100 **\n",
        "\n",
        "F1:        0.27  +/- 0.15\n",
        "Accuracy:  0.75  +/- 0.09\n",
        "Precision: 0.26  +/- 0.15\n",
        "Recall:    0.31  +/- 0.20\n",
        "\n",
        "Aggregate Confusion Matrix - 10 iterations\n",
        "[[684 140]\n",
        " [110  66]]\n",
        "\n",
        "\n",
        "** Predictions for hist=300 future=200 **"
       ]
      },
      {
       "output_type": "stream",
       "stream": "stdout",
       "text": [
        "\n",
        "\n",
        "F1:        0.36  +/- 0.14\n",
        "Accuracy:  0.71  +/- 0.06\n",
        "Precision: 0.36  +/- 0.14\n",
        "Recall:    0.37  +/- 0.15\n",
        "\n",
        "Aggregate Confusion Matrix - 10 iterations\n",
        "[[1234  300]\n",
        " [ 275  191]]\n",
        "\n",
        "\n",
        "** Predictions for hist=300 future=500 **"
       ]
      },
      {
       "output_type": "stream",
       "stream": "stdout",
       "text": [
        "\n",
        "\n",
        "F1:        0.31  +/- 0.07\n",
        "Accuracy:  0.72  +/- 0.05\n",
        "Precision: 0.33  +/- 0.09\n",
        "Recall:    0.30  +/- 0.08\n",
        "\n",
        "Aggregate Confusion Matrix - 10 iterations\n",
        "[[3240  667]\n",
        " [ 748  345]]\n",
        "\n",
        "\n",
        "** Predictions for hist=500 future=100 **"
       ]
      },
      {
       "output_type": "stream",
       "stream": "stdout",
       "text": [
        "\n",
        "\n",
        "F1:        0.41  +/- 0.10\n",
        "Accuracy:  0.72  +/- 0.06\n",
        "Precision: 0.45  +/- 0.12\n",
        "Recall:    0.39  +/- 0.12\n",
        "\n",
        "Aggregate Confusion Matrix - 10 iterations\n",
        "[[610 127]\n",
        " [156 107]]\n",
        "\n",
        "\n",
        "** Predictions for hist=500 future=200 **"
       ]
      },
      {
       "output_type": "stream",
       "stream": "stdout",
       "text": [
        "\n",
        "\n",
        "F1:        0.34  +/- 0.13\n",
        "Accuracy:  0.73  +/- 0.06\n",
        "Precision: 0.32  +/- 0.13\n",
        "Recall:    0.38  +/- 0.17\n",
        "\n",
        "Aggregate Confusion Matrix - 10 iterations\n",
        "[[1291  300]\n",
        " [ 247  162]]\n",
        "\n",
        "\n",
        "** Predictions for hist=500 future=500 **"
       ]
      },
      {
       "output_type": "stream",
       "stream": "stdout",
       "text": [
        "\n",
        "\n",
        "F1:        0.34  +/- 0.08\n",
        "Accuracy:  0.74  +/- 0.06\n",
        "Precision: 0.35  +/- 0.11\n",
        "Recall:    0.34  +/- 0.07\n",
        "\n",
        "Aggregate Confusion Matrix - 10 iterations\n",
        "[[3323  626]\n",
        " [ 691  360]]\n",
        "\n",
        "\n",
        "** Predictions for hist=1000 future=100 **"
       ]
      },
      {
       "output_type": "stream",
       "stream": "stdout",
       "text": [
        "\n",
        "\n",
        "F1:        0.26  +/- 0.14\n",
        "Accuracy:  0.74  +/- 0.07\n",
        "Precision: 0.27  +/- 0.17\n",
        "Recall:    0.30  +/- 0.18\n",
        "\n",
        "Aggregate Confusion Matrix - 10 iterations\n",
        "[[689 136]\n",
        " [121  54]]\n",
        "\n",
        "\n",
        "** Predictions for hist=1000 future=200 **"
       ]
      },
      {
       "output_type": "stream",
       "stream": "stdout",
       "text": [
        "\n",
        "\n",
        "F1:        0.33  +/- 0.12\n",
        "Accuracy:  0.73  +/- 0.11\n",
        "Precision: 0.34  +/- 0.14\n",
        "Recall:    0.36  +/- 0.17\n",
        "\n",
        "Aggregate Confusion Matrix - 10 iterations\n",
        "[[1313  293]\n",
        " [ 243  151]]\n",
        "\n",
        "\n",
        "** Predictions for hist=1000 future=500 **"
       ]
      },
      {
       "output_type": "stream",
       "stream": "stdout",
       "text": [
        "\n",
        "\n",
        "F1:        0.40  +/- 0.09\n",
        "Accuracy:  0.72  +/- 0.05\n",
        "Precision: 0.38  +/- 0.08\n",
        "Recall:    0.43  +/- 0.11\n",
        "\n",
        "Aggregate Confusion Matrix - 10 iterations\n",
        "[[3070  767]\n",
        " [ 640  523]]\n",
        "\n",
        "\n"
       ]
      }
     ],
     "prompt_number": 10
    },
    {
     "cell_type": "code",
     "collapsed": false,
     "input": [
      "DT_clf = clf"
     ],
     "language": "python",
     "metadata": {},
     "outputs": [],
     "prompt_number": 11
    }
   ],
   "metadata": {}
  }
 ]
}