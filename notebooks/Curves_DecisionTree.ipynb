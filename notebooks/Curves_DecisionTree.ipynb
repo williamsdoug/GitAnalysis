{
 "cells": [
  {
   "cell_type": "code",
   "execution_count": 1,
   "metadata": {
    "collapsed": false
   },
   "outputs": [],
   "source": [
    "%matplotlib inline\n",
    "from pprint import pprint\n",
    "from collections import defaultdict\n",
    "\n",
    "import numpy as np\n",
    "import math\n",
    "import matplotlib.pyplot as plt\n",
    "import random\n",
    "import warnings\n",
    "\n",
    "#from sklearn.linear_model import LogisticRegression\n",
    "#from sklearn.svm import SVC\n",
    "#from sklearn.naive_bayes import GaussianNB\n",
    "#from sklearn.linear_model import SGDClassifier\n",
    "import sklearn.tree\n",
    "import sklearn.ensemble\n",
    "\n",
    "from sklearn.grid_search import GridSearchCV\n",
    "from sklearn import metrics\n",
    "\n",
    "import sys\n",
    "sys.path.append('../dev')\n",
    "\n",
    "from ml_plot import plot_validation_curve\n",
    "from ml_plot import PredictCV, my_plot_learning_curve\n",
    "from ml_plot import plot_prediction_curve\n",
    "from ml_plot import get_dataset, eval_predictions"
   ]
  },
  {
   "cell_type": "markdown",
   "metadata": {},
   "source": [
    "# Configuration"
   ]
  },
  {
   "cell_type": "code",
   "execution_count": 2,
   "metadata": {
    "collapsed": false
   },
   "outputs": [],
   "source": [
    "# PROJECT = 'nova'\n",
    "# PROJECT = 'swift'\n",
    "# PROJECT = 'cinder'\n",
    "PROJECT = 'heat'\n",
    "# PROJECT = 'glance'\n",
    "\n",
    "# IMPORTANCE = 'crit'\n",
    "# IMPORTANCE = 'high+'\n",
    "IMPORTANCE = 'med+'\n",
    "# IMPORTANCE = 'low+'\n",
    "\n",
    "# SIZE = 100\n",
    "#SIZE = 250\n",
    "# SIZE = 0.1\n",
    "SIZE = 0.5\n",
    "\n",
    "SCORING = 'f1'         # (precision * recall) / (precision + recall)\n",
    "# SCORING = 'accuracy'   # (TP + TN) / all values\n",
    "# SCORING = 'precision'  # TP / (TP + FP)\n",
    "# SCORING = 'recall'     # TP / (TP + FN)\n",
    "# SCORING = 'average_precision'\n",
    "# SCORING = 'roc_auc'\n",
    "\n",
    "JOBS = 4\n",
    "\n",
    "VERBOSE = 0\n",
    "\n",
    "#warnings.simplefilter(\"ignore\", UndefinedMetricWarning)\n",
    "warnings.filterwarnings(\"ignore\", 'F-score is ill-defined')"
   ]
  },
  {
   "cell_type": "markdown",
   "metadata": {},
   "source": [
    "# Load Data"
   ]
  },
  {
   "cell_type": "code",
   "execution_count": 3,
   "metadata": {
    "collapsed": false
   },
   "outputs": [],
   "source": [
    "%%capture\n",
    "Y, X = get_dataset(PROJECT, IMPORTANCE)"
   ]
  },
  {
   "cell_type": "markdown",
   "metadata": {},
   "source": [
    "### Select Split Strategy"
   ]
  },
  {
   "cell_type": "code",
   "execution_count": 4,
   "metadata": {
    "collapsed": false
   },
   "outputs": [],
   "source": [
    "cv = PredictCV(len(Y), history=1000, future=500, n_iter=10)"
   ]
  },
  {
   "cell_type": "markdown",
   "metadata": {},
   "source": [
    "# Decision Tree Classifier"
   ]
  },
  {
   "cell_type": "code",
   "execution_count": 5,
   "metadata": {
    "collapsed": false
   },
   "outputs": [],
   "source": [
    "estimator = sklearn.tree.DecisionTreeClassifier()\n",
    "param_grid = {'criterion': ['gini', 'entropy'], \n",
    "                  'max_features':['auto', 'log2', 10, 25, 50, 75, 100, 150, 200]  }"
   ]
  },
  {
   "cell_type": "code",
   "execution_count": 6,
   "metadata": {
    "collapsed": false
   },
   "outputs": [
    {
     "name": "stdout",
     "output_type": "stream",
     "text": [
      "best_score:  0.388241149317\n"
     ]
    },
    {
     "data": {
      "text/plain": [
       "DecisionTreeClassifier(compute_importances=None, criterion='entropy',\n",
       "            max_depth=None, max_features=75, max_leaf_nodes=None,\n",
       "            min_density=None, min_samples_leaf=1, min_samples_split=2,\n",
       "            random_state=None, splitter='best')"
      ]
     },
     "execution_count": 6,
     "metadata": {},
     "output_type": "execute_result"
    }
   ],
   "source": [
    "grid = GridSearchCV(estimator, param_grid=param_grid, cv=cv, scoring=SCORING,\n",
    "                    n_jobs=JOBS, pre_dispatch=2*JOBS, verbose=VERBOSE)\n",
    "# grid.fit(X_train, Y_train)\n",
    "grid.fit(X, Y)\n",
    "print 'best_score: ', grid.best_score_\n",
    "clf = grid.best_estimator_\n",
    "grid.best_estimator_"
   ]
  },
  {
   "cell_type": "markdown",
   "metadata": {},
   "source": [
    "### Validation Curves"
   ]
  },
  {
   "cell_type": "code",
   "execution_count": 7,
   "metadata": {
    "collapsed": false
   },
   "outputs": [
    {
     "data": {
      "image/png": "[encoded data removed]",
      "text/plain": [
       "<matplotlib.figure.Figure at 0x10840c950>"
      ]
     },
     "metadata": {},
     "output_type": "display_data"
    },
    {
     "name": "stdout",
     "output_type": "stream",
     "text": [
      "Best score of 0.370920659002 when setting max_features to 100\n"
     ]
    }
   ],
   "source": [
    "best_score, param_val, param_name = \\\n",
    "    plot_validation_curve(clf,\n",
    "                          X, Y,\n",
    "                          \"max_features\", [10, 25, 50, 75, 100, 125, 150, 200, 250, 300],\n",
    "                          \"max_features Validation Curve\",\n",
    "                          cv=cv, scoring=SCORING, n_jobs=JOBS)\n",
    "print 'Best score of', best_score, 'when setting', param_name, 'to',  param_val"
   ]
  },
  {
   "cell_type": "markdown",
   "metadata": {},
   "source": [
    "### Learning Curve"
   ]
  },
  {
   "cell_type": "code",
   "execution_count": 8,
   "metadata": {
    "collapsed": false
   },
   "outputs": [
    {
     "data": {
      "text/plain": [
       "<module 'matplotlib.pyplot' from '/Users/doug/anaconda/lib/python2.7/site-packages/matplotlib/pyplot.pyc'>"
      ]
     },
     "execution_count": 8,
     "metadata": {},
     "output_type": "execute_result"
    },
    {
     "data": {
      "image/png": "[encoded data removed]",
      "text/plain": [
       "<matplotlib.figure.Figure at 0x120b8a5d0>"
      ]
     },
     "metadata": {},
     "output_type": "display_data"
    }
   ],
   "source": [
    "title = \"Learning Curves for Decision Tree Classifier\"\n",
    "my_plot_learning_curve(clf, title, X, Y,\n",
    "                           n_jobs=JOBS, future=200,\n",
    "                           history_sizes=[100, 200, 300, 500, 700, 1000])"
   ]
  },
  {
   "cell_type": "markdown",
   "metadata": {},
   "source": [
    "### Prediction Curve"
   ]
  },
  {
   "cell_type": "code",
   "execution_count": 9,
   "metadata": {
    "collapsed": false
   },
   "outputs": [
    {
     "data": {
      "text/plain": [
       "<module 'matplotlib.pyplot' from '/Users/doug/anaconda/lib/python2.7/site-packages/matplotlib/pyplot.pyc'>"
      ]
     },
     "execution_count": 9,
     "metadata": {},
     "output_type": "execute_result"
    },
    {
     "data": {
      "image/png": "[encoded data removed]",
      "text/plain": [
       "<matplotlib.figure.Figure at 0x128393390>"
      ]
     },
     "metadata": {},
     "output_type": "display_data"
    }
   ],
   "source": [
    "title = \"Prediction Horizon Curve for Decision Tree Classifier\"\n",
    "plot_prediction_curve(clf, title, X, Y,\n",
    "                           n_jobs=JOBS, history=500,\n",
    "                           future_sizes=[100, 200, 300, 500])"
   ]
  },
  {
   "cell_type": "code",
   "execution_count": 10,
   "metadata": {
    "collapsed": false
   },
   "outputs": [
    {
     "name": "stdout",
     "output_type": "stream",
     "text": [
      "** Predictions for hist=300 future=100 **\n",
      "\n",
      "F1:        0.36  +/- 0.16\n",
      "Accuracy:  0.66  +/- 0.08\n",
      "Precision: 0.41  +/- 0.21\n",
      "Recall:    0.34  +/- 0.15\n",
      "\n",
      "Aggregate Confusion Matrix - 10 iterations\n",
      "[[548 144]\n",
      " [193 115]]\n",
      "\n",
      "\n",
      "** Predictions for hist=300 future=200 **\n",
      "\n",
      "F1:        0.39  +/- 0.14\n",
      "Accuracy:  0.65  +/- 0.09\n",
      "Precision: 0.42  +/- 0.09\n",
      "Recall:    0.42  +/- 0.19\n",
      "\n",
      "Aggregate Confusion Matrix - 10 iterations\n",
      "[[1033  356]\n",
      " [ 341  270]]\n",
      "\n",
      "\n",
      "** Predictions for hist=300 future=500 **\n",
      "\n",
      "F1:        0.35  +/- 0.09\n",
      "Accuracy:  0.65  +/- 0.06\n",
      "Precision: 0.35  +/- 0.09\n",
      "Recall:    0.35  +/- 0.11\n",
      "\n",
      "Aggregate Confusion Matrix - 10 iterations\n",
      "[[2765  868]\n",
      " [ 862  505]]\n",
      "\n",
      "\n",
      "** Predictions for hist=500 future=100 **\n",
      "\n",
      "F1:        0.43  +/- 0.11\n",
      "Accuracy:  0.67  +/- 0.07\n",
      "Precision: 0.46  +/- 0.15\n",
      "Recall:    0.44  +/- 0.12\n",
      "\n",
      "Aggregate Confusion Matrix - 10 iterations\n",
      "[[532 163]\n",
      " [169 136]]\n",
      "\n",
      "\n",
      "** Predictions for hist=500 future=200 **\n",
      "\n",
      "F1:        0.37  +/- 0.12\n",
      "Accuracy:  0.66  +/- 0.10\n",
      "Precision: 0.40  +/- 0.10\n",
      "Recall:    0.38  +/- 0.15\n",
      "\n",
      "Aggregate Confusion Matrix - 10 iterations\n",
      "[[1083  323]\n",
      " [ 354  240]]\n",
      "\n",
      "\n",
      "** Predictions for hist=500 future=500 **\n",
      "\n",
      "F1:        0.45  +/- 0.06\n",
      "Accuracy:  0.65  +/- 0.06\n",
      "Precision: 0.39  +/- 0.07\n",
      "Recall:    0.53  +/- 0.09\n",
      "\n",
      "Aggregate Confusion Matrix - 10 iterations\n",
      "[[2539 1116]\n",
      " [ 616  729]]\n",
      "\n",
      "\n",
      "** Predictions for hist=1000 future=100 **\n",
      "\n",
      "F1:        0.27  +/- 0.10\n",
      "Accuracy:  0.66  +/- 0.09\n",
      "Precision: 0.29  +/- 0.12\n",
      "Recall:    0.26  +/- 0.09\n",
      "\n",
      "Aggregate Confusion Matrix - 10 iterations\n",
      "[[596 159]\n",
      " [177  68]]\n",
      "\n",
      "\n",
      "** Predictions for hist=1000 future=200 **\n",
      "\n",
      "F1:        0.34  +/- 0.07\n",
      "Accuracy:  0.67  +/- 0.05\n",
      "Precision: 0.32  +/- 0.09\n",
      "Recall:    0.38  +/- 0.09\n",
      "\n",
      "Aggregate Confusion Matrix - 10 iterations\n",
      "[[1156  368]\n",
      " [ 297  179]]\n",
      "\n",
      "\n",
      "** Predictions for hist=1000 future=500 **\n",
      "\n",
      "F1:        0.37  +/- 0.09\n",
      "Accuracy:  0.68  +/- 0.05\n",
      "Precision: 0.33  +/- 0.09\n",
      "Recall:    0.43  +/- 0.10\n",
      "\n",
      "Aggregate Confusion Matrix - 10 iterations\n",
      "[[2893  983]\n",
      " [ 621  503]]\n",
      "\n",
      "\n"
     ]
    }
   ],
   "source": [
    "DT_results = eval_predictions(clf, X, Y, history_sizes=[300, 500, 1000], future_sizes=[100, 200, 500])"
   ]
  },
  {
   "cell_type": "code",
   "execution_count": 11,
   "metadata": {
    "collapsed": false
   },
   "outputs": [],
   "source": [
    "DT_clf = clf"
   ]
  }
 ],
 "metadata": {
  "kernelspec": {
   "display_name": "Python 2",
   "language": "python",
   "name": "python2"
  },
  "language_info": {
   "codemirror_mode": {
    "name": "ipython",
    "version": 2
   },
   "file_extension": ".py",
   "mimetype": "text/x-python",
   "name": "python",
   "nbconvert_exporter": "python",
   "pygments_lexer": "ipython2",
   "version": "2.7.9"
  }
 },
 "nbformat": 4,
 "nbformat_minor": 0
}
