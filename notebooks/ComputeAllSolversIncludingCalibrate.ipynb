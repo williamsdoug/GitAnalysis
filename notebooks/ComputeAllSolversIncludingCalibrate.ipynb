{
 "cells": [
  {
   "cell_type": "markdown",
   "metadata": {},
   "source": [
    "#Generates Results cata for various solvers"
   ]
  },
  {
   "cell_type": "code",
   "execution_count": 1,
   "metadata": {
    "collapsed": false
   },
   "outputs": [],
   "source": [
    "%matplotlib inline\n",
    "from pprint import pprint\n",
    "from collections import defaultdict\n",
    "\n",
    "import numpy as np\n",
    "import math\n",
    "import matplotlib.pyplot as plt\n",
    "import warnings\n",
    "import cPickle as pickle\n",
    "\n",
    "from sklearn.linear_model import LogisticRegression\n",
    "from sklearn.svm import SVC\n",
    "import sklearn.ensemble\n",
    "from sklearn.naive_bayes import GaussianNB\n",
    "#from sklearn.linear_model import SGDClassifier\n",
    "from sklearn.calibration import CalibratedClassifierCV\n",
    "\n",
    "from sklearn.grid_search import GridSearchCV\n",
    "from sklearn import metrics\n",
    "\n",
    "from sklearn.learning_curve import learning_curve\n",
    "from sklearn.learning_curve import validation_curve\n",
    "\n",
    "import sys\n",
    "sys.path.append('../dev')\n",
    "from ml_plot import plot_validation_curve\n",
    "from ml_plot import PredictCV, my_plot_learning_curve\n",
    "from ml_plot import plot_prediction_curve\n",
    "from ml_plot import get_dataset, eval_predictions\n",
    "\n",
    "from ml_plot import getClassifierProbs\n",
    "from ml_plot import plotThresholdDistribuition, plotPredictionStats\n",
    "from ml_plot import plotCombinedResults\n",
    "\n",
    "from ml_plot import PredictCV_TrainTest"
   ]
  },
  {
   "cell_type": "code",
   "execution_count": 2,
   "metadata": {
    "collapsed": true
   },
   "outputs": [],
   "source": [
    "from sklearn.feature_selection import VarianceThreshold\n",
    "from sklearn.feature_selection import SelectKBest\n",
    "from sklearn.feature_selection import chi2\n",
    "from sklearn import preprocessing\n",
    "from sklearn.preprocessing import MinMaxScaler\n",
    "from sklearn.feature_selection import f_regression, f_classif"
   ]
  },
  {
   "cell_type": "code",
   "execution_count": 3,
   "metadata": {
    "collapsed": true
   },
   "outputs": [],
   "source": [
    "from sklearn.metrics import confusion_matrix\n",
    "from sklearn.metrics import classification_report"
   ]
  },
  {
   "cell_type": "markdown",
   "metadata": {},
   "source": [
    "# Configuration"
   ]
  },
  {
   "cell_type": "code",
   "execution_count": 4,
   "metadata": {
    "collapsed": true
   },
   "outputs": [],
   "source": [
    "PROJECT = 'nova'\n",
    "# PROJECT = 'swift'\n",
    "# PROJECT = 'cinder'\n",
    "# PROJECT = 'heat'\n",
    "# PROJECT = 'glance'\n",
    "\n",
    "# IMPORTANCE = 'crit'\n",
    "# IMPORTANCE = 'high+'\n",
    "IMPORTANCE = 'med+'\n",
    "# IMPORTANCE = 'low+'\n",
    "\n",
    "# SIZE = 100\n",
    "#SIZE = 250\n",
    "# SIZE = 0.1\n",
    "SIZE = 0.5\n",
    "\n",
    "# SCORING = 'f1'         # (precision * recall) / (precision + recall)\n",
    "# SCORING = 'accuracy'   # (TP + TN) / all values\n",
    "# SCORING = 'precision'  # TP / (TP + FP)\n",
    "# SCORING = 'recall'     # TP / (TP + FN)\n",
    "# SCORING = 'average_precision'\n",
    "SCORING = 'roc_auc'\n",
    "\n",
    "JOBS = 4\n",
    "VERBOSE = 0"
   ]
  },
  {
   "cell_type": "code",
   "execution_count": 5,
   "metadata": {
    "collapsed": false
   },
   "outputs": [],
   "source": [
    "warnings.filterwarnings(\"ignore\", 'F-score is ill-defined')\n",
    "warnings.filterwarnings(\"ignore\", 'RuntimeWarning: invalid value encountered in divide')"
   ]
  },
  {
   "cell_type": "markdown",
   "metadata": {},
   "source": [
    "#Code"
   ]
  },
  {
   "cell_type": "code",
   "execution_count": 6,
   "metadata": {
    "collapsed": true
   },
   "outputs": [],
   "source": [
    "def getClassifierProbs2(clf, X, Y, history=2000, future=500,\n",
    "                       n_iter=10, seed=None):\n",
    "    \"\"\"Gets probabilities for a given classifier\"\"\"\n",
    "    results = []\n",
    "    for (X_train, Y_train,\n",
    "         X_test, Y_test) in PredictCV_TrainTest(X, Y,  history=history,\n",
    "                                                future=future,\n",
    "                                                n_iter=n_iter, seed=seed):\n",
    "\n",
    "        clf.fit(X_train, Y_train)\n",
    "        y_predict = clf.predict(X_test)\n",
    "        y_prob = clf.predict_proba(X_test)\n",
    "        y_log_prob = clf.predict_proba(X_test)\n",
    "\n",
    "        results.append({'Y_test': Y_test, 'y_predict': y_predict,\n",
    "                        'y_prob': y_prob, 'y_log_prob': y_log_prob})\n",
    "        print '*',\n",
    "        sys.stdout.flush()\n",
    "    return results"
   ]
  },
  {
   "cell_type": "code",
   "execution_count": 7,
   "metadata": {
    "collapsed": false
   },
   "outputs": [],
   "source": [
    "def results_to_matrix(all_results, start=0, end=None):\n",
    "    if not end:\n",
    "        end = len(all_results['LR'])\n",
    "    allX = []\n",
    "    allY = []\n",
    "    for i in range(start, end):\n",
    "        composite = []\n",
    "        for k in all_results.keys():\n",
    "            composite.append(all_results[k][i]['y_predict'] + 0.0)\n",
    "            composite.append(1.0 - all_results[k][i]['y_predict'])\n",
    "            composite.append(all_results[k][i]['y_prob'])\n",
    "            #composite.append(all_results[k][i]['y_prob'][:,1] -\n",
    "            #                 all_results[k][i]['y_prob'][:,0]\n",
    "            #                )\n",
    "\n",
    "        allX.append(np.vstack(composite).transpose())\n",
    "        allY.append(all_results['LR'][i]['Y_test'])\n",
    "\n",
    "    allX = np.vstack(allX)\n",
    "    allY = np.hstack(allY)\n",
    "    print allX.shape, allY.shape\n",
    "    return allX, allY"
   ]
  },
  {
   "cell_type": "markdown",
   "metadata": {},
   "source": [
    "# Load Data"
   ]
  },
  {
   "cell_type": "code",
   "execution_count": 8,
   "metadata": {
    "collapsed": false
   },
   "outputs": [],
   "source": [
    "%%capture\n",
    "Y, X = get_dataset(PROJECT, IMPORTANCE)"
   ]
  },
  {
   "cell_type": "code",
   "execution_count": 9,
   "metadata": {
    "collapsed": true
   },
   "outputs": [],
   "source": [
    "scaler = MinMaxScaler()\n",
    "#X_scaled = scaler.fit_transform(X)"
   ]
  },
  {
   "cell_type": "code",
   "execution_count": 10,
   "metadata": {
    "collapsed": false
   },
   "outputs": [
    {
     "name": "stderr",
     "output_type": "stream",
     "text": [
      "/Users/doug/anaconda/lib/python2.7/site-packages/sklearn/feature_selection/univariate_selection.py:161: RuntimeWarning: invalid value encountered in divide\n",
      "  chisq /= f_exp\n"
     ]
    }
   ],
   "source": [
    "n_feats = 2000\n",
    "newX = SelectKBest(chi2, k=n_feats).fit_transform(scaler.fit_transform(X), Y)"
   ]
  },
  {
   "cell_type": "markdown",
   "metadata": {},
   "source": [
    "### Select Split Strategy"
   ]
  },
  {
   "cell_type": "code",
   "execution_count": 11,
   "metadata": {
    "collapsed": false
   },
   "outputs": [],
   "source": [
    "cv = PredictCV(len(Y), history=2000, future=500, n_iter=10, seed=87654321)"
   ]
  },
  {
   "cell_type": "code",
   "execution_count": 12,
   "metadata": {
    "collapsed": false
   },
   "outputs": [],
   "source": [
    "all_classifiers = {\n",
    "    'LR': LogisticRegression(\n",
    "        C=0.31622776601683794, class_weight='auto', dual=False,\n",
    "        fit_intercept=True, intercept_scaling=1, max_iter=100,\n",
    "        multi_class='ovr', penalty='l2', random_state=None,\n",
    "        solver='liblinear', tol=0.0001, verbose=0),\n",
    "    'LR5': LogisticRegression(\n",
    "        C=0.31622776601683794, class_weight={1:5}, dual=False,\n",
    "        fit_intercept=True, intercept_scaling=1, max_iter=100,\n",
    "        multi_class='ovr', penalty='l2', random_state=None,\n",
    "        solver='liblinear', tol=0.0001, verbose=0),\n",
    "    'LR-none': LogisticRegression(\n",
    "        C=0.31622776601683794, class_weight=None, dual=False,\n",
    "        fit_intercept=True, intercept_scaling=1, max_iter=100,\n",
    "        multi_class='ovr', penalty='l2', random_state=None,\n",
    "        solver='liblinear', tol=0.0001, verbose=0),\n",
    "    'svc': SVC(C=7.743, cache_size=200, class_weight='auto', coef0=0.0,\n",
    "              degree=3, gamma=0.0043, kernel='rbf', max_iter=-1,\n",
    "              probability=True, random_state=None, shrinking=True, tol=0.001,\n",
    "              verbose=False),\n",
    "    'svc - cal': CalibratedClassifierCV(\n",
    "        SVC(C=7.743, cache_size=200, class_weight='auto', coef0=0.0,\n",
    "              degree=3, gamma=0.0043, kernel='rbf', max_iter=-1,\n",
    "              probability=True, random_state=None, shrinking=True, tol=0.001,\n",
    "              verbose=False),\n",
    "        cv=3, method='isotonic'),\n",
    "    'svclin': SVC(C=7.743, cache_size=200, class_weight='auto', coef0=0.0,\n",
    "              degree=3, gamma=0.0043, kernel='linear', max_iter=-1,\n",
    "              probability=True, random_state=None, shrinking=True, tol=0.001,\n",
    "              verbose=False),\n",
    "    'svclin - cal': CalibratedClassifierCV(\n",
    "        SVC(C=7.743, cache_size=200, class_weight='auto', coef0=0.0,\n",
    "              degree=3, gamma=0.0043, kernel='linear', max_iter=-1,\n",
    "              probability=True, random_state=None, shrinking=True, tol=0.001,\n",
    "              verbose=False),\n",
    "        cv=3, method='isotonic'),\n",
    "    'adaboost': sklearn.ensemble.AdaBoostClassifier(\n",
    "               algorithm='SAMME',\n",
    "               base_estimator=None, learning_rate=1.2,\n",
    "               n_estimators=40, random_state=None),\n",
    "    'adaboost - cal': CalibratedClassifierCV(\n",
    "        sklearn.ensemble.AdaBoostClassifier(\n",
    "               algorithm='SAMME',\n",
    "               base_estimator=None, learning_rate=1.2,\n",
    "               n_estimators=40, random_state=None),\n",
    "        cv=3, method='isotonic'),\n",
    "    'GaussianNB': GaussianNB(),\n",
    "    'nb - cal': CalibratedClassifierCV(\n",
    "        GaussianNB(),\n",
    "        cv=3, method='isotonic'),\n",
    "}"
   ]
  },
  {
   "cell_type": "markdown",
   "metadata": {},
   "source": [
    "#Get Results for all Classifiers"
   ]
  },
  {
   "cell_type": "code",
   "execution_count": 13,
   "metadata": {
    "collapsed": false
   },
   "outputs": [
    {
     "name": "stdout",
     "output_type": "stream",
     "text": [
      "Classifier: adaboost - cal\n",
      "* * * * * * * * * * * * * * * * * * * * * * * * * * * * * * * * * * * * * * * * * * * * * * * * * * * * * * * * * * * * * * * * * * * * * * * * * * * * * * * * * * * * * * * * * * * * * * * * * * * *\n",
      "Classifier: nb - cal\n",
      "* * * * * * * * * * * * * * * * * * * * * * * * * * * * * * * * * * * * * * * * * * * * * * * * * * * * * * * * * * * * * * * * * * * * * * * * * * * * * * * * * * * * * * * * * * * * * * * * * * * *\n",
      "Classifier: svclin - cal\n",
      "* * * * * * * * * * * * * * * * * * * * * * * * * * * * * * * * * * * * * * * * * * * * * * * * * * * * * * * * * * * * * * * * * * * * * * * * * * * * * * * * * * * * * * * * * * * * * * * * * * * *\n",
      "Classifier: LR5\n",
      "* * * * * * * * * * * * * * * * * * * * * * * * * * * * * * * * * * * * * * * * * * * * * * * * * * * * * * * * * * * * * * * * * * * * * * * * * * * * * * * * * * * * * * * * * * * * * * * * * * * *\n",
      "Classifier: GaussianNB\n",
      "* * * * * * * * * * * * * * * * * * * * * * * * * * * * * * * * * * * * * * * * * * * * * * * * * * * * * * * * * * * * * * * * * * * * * * * * * * * * * * * * * * * * * * * * * * * * * * * * * * * *\n",
      "Classifier: svc\n",
      "* * * * * * * * * * * * * * * * * * * * * * * * * * * * * * * * * * * * * * * * * * * * * * * * * * * * * * * * * * * * * * * * * * * * * * * * * * * * * * * * * * * * * * * * * * * * * * * * * * * *\n",
      "Classifier: svc - cal\n",
      "* * * * * * * * * * * * * * * * * * * * * * * * * * * * * * * * * * * * * * * * * * * * * * * * * * * * * * * * * * * * * * * * * * * * * * * * * * * * * * * * * * * * * * * * * * * * * * * * * * * *\n",
      "Classifier: LR\n",
      "* * * * * * * * * * * * * * * * * * * * * * * * * * * * * * * * * * * * * * * * * * * * * * * * * * * * * * * * * * * * * * * * * * * * * * * * * * * * * * * * * * * * * * * * * * * * * * * * * * * *\n",
      "Classifier: adaboost\n",
      "* * * * * * * * * * * * * * * * * * * * * * * * * * * * * * * * * * * * * * * * * * * * * * * * * * * * * * * * * * * * * * * * * * * * * * * * * * * * * * * * * * * * * * * * * * * * * * * * * * * *\n",
      "Classifier: LR-none\n",
      "* * * * * * * * * * * * * * * * * * * * * * * * * * * * * * * * * * * * * * * * * * * * * * * * * * * * * * * * * * * * * * * * * * * * * * * * * * * * * * * * * * * * * * * * * * * * * * * * * * * *\n",
      "Classifier: svclin\n",
      "* * * * * * * * * * * * * * * * * * * * * * * * * * * * * * * * * * * * * * * * * * * * * * * * * * * * * * * * * * * * * * * * * * * * * * * * * * * * * * * * * * * * * * * * * * * * * * * * * * * *\n"
     ]
    }
   ],
   "source": [
    "all_results = {}\n",
    "\n",
    "for clf_name, clf in all_classifiers.items():\n",
    "    print 'Classifier:', clf_name\n",
    "    results = getClassifierProbs(clf,\n",
    "                                 SelectKBest(chi2, k=n_feats).fit_transform(scaler.fit_transform(X), Y),\n",
    "                                 Y, history=2000, future=500, n_iter=100, seed=12345678)\n",
    "    all_results[clf_name] = results\n",
    "    print\n",
    "    sys.stdout.flush()\n"
   ]
  },
  {
   "cell_type": "code",
   "execution_count": 20,
   "metadata": {
    "collapsed": false
   },
   "outputs": [
    {
     "name": "stdout",
     "output_type": "stream",
     "text": [
      "Done\n"
     ]
    }
   ],
   "source": [
    "if True:\n",
    "    with open('all_probability_results2.pkl', 'wb') as output:\n",
    "        pickle.dump(all_results, output)\n",
    "        print 'Done'"
   ]
  },
  {
   "cell_type": "code",
   "execution_count": null,
   "metadata": {
    "collapsed": true
   },
   "outputs": [],
   "source": []
  }
 ],
 "metadata": {
  "kernelspec": {
   "display_name": "Python 2",
   "language": "python",
   "name": "python2"
  },
  "language_info": {
   "codemirror_mode": {
    "name": "ipython",
    "version": 2
   },
   "file_extension": ".py",
   "mimetype": "text/x-python",
   "name": "python",
   "nbconvert_exporter": "python",
   "pygments_lexer": "ipython2",
   "version": "2.7.9"
  }
 },
 "nbformat": 4,
 "nbformat_minor": 0
}
