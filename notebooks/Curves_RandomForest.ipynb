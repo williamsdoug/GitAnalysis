{
 "cells": [
  {
   "cell_type": "code",
   "execution_count": 1,
   "metadata": {
    "collapsed": false
   },
   "outputs": [],
   "source": [
    "%matplotlib inline\n",
    "from pprint import pprint\n",
    "from collections import defaultdict\n",
    "\n",
    "import numpy as np\n",
    "import math\n",
    "import matplotlib.pyplot as plt\n",
    "import random\n",
    "import warnings\n",
    "\n",
    "import sklearn.tree\n",
    "import sklearn.ensemble\n",
    "\n",
    "from sklearn.grid_search import GridSearchCV\n",
    "from sklearn import metrics\n",
    "\n",
    "import sys\n",
    "sys.path.append('../dev')\n",
    "\n",
    "from ml_plot import plot_validation_curve\n",
    "from ml_plot import PredictCV, my_plot_learning_curve\n",
    "from ml_plot import plot_prediction_curve\n",
    "from ml_plot import get_dataset, eval_predictions"
   ]
  },
  {
   "cell_type": "markdown",
   "metadata": {},
   "source": [
    "# Configuration"
   ]
  },
  {
   "cell_type": "code",
   "execution_count": 2,
   "metadata": {
    "collapsed": false
   },
   "outputs": [],
   "source": [
    "PROJECT = 'nova'\n",
    "# PROJECT = 'swift'\n",
    "# PROJECT = 'cinder'\n",
    "# PROJECT = 'heat'\n",
    "# PROJECT = 'glance'\n",
    "\n",
    "# IMPORTANCE = 'crit'\n",
    "# IMPORTANCE = 'high+'\n",
    "IMPORTANCE = 'med+'\n",
    "# IMPORTANCE = 'low+'\n",
    "\n",
    "# SIZE = 100\n",
    "#SIZE = 250\n",
    "# SIZE = 0.1\n",
    "SIZE = 0.5\n",
    "\n",
    "SCORING = 'f1'         # (precision * recall) / (precision + recall)\n",
    "# SCORING = 'accuracy'   # (TP + TN) / all values\n",
    "# SCORING = 'precision'  # TP / (TP + FP)\n",
    "# SCORING = 'recall'     # TP / (TP + FN)\n",
    "# SCORING = 'average_precision'\n",
    "# SCORING = 'roc_auc'\n",
    "\n",
    "JOBS = 4\n",
    "\n",
    "VERBOSE = 0\n",
    "\n",
    "#warnings.simplefilter(\"ignore\", UndefinedMetricWarning)\n",
    "warnings.filterwarnings(\"ignore\", 'F-score is ill-defined')"
   ]
  },
  {
   "cell_type": "markdown",
   "metadata": {},
   "source": [
    "# Load Data"
   ]
  },
  {
   "cell_type": "code",
   "execution_count": 3,
   "metadata": {
    "collapsed": false
   },
   "outputs": [
    {
     "name": "stdout",
     "output_type": "stream",
     "text": [
      "loading bug data\n",
      "  total LP bugs: 6828\n",
      "  Entries annotated: 3207\n",
      "loading Git commit data\n",
      "  total git_commits: 33568\n",
      "  bug fix commits: 4796\n",
      "  commits with change_id: 11738\n",
      "  bug fix with change_id: 4533\n",
      "loading change data\n",
      "  total gerrit changes with detail: 12885\n",
      "  all_change_details: 12885\n",
      "  total gerrit changes: 12907\n",
      "  all_changes: 12907\n",
      "combined_commits: 33568\n",
      "Determining legacy cut-off\n",
      "  Transition interval: 5:38:41\n",
      "  Parent of first_with: 853aad905531fbdf6d5ddce4bc26b3caeebbc49f\n",
      "  Setting cutoff to: 22/09/2011\n",
      "Collecting data on commits with bug fixes\n",
      "  Mainline Commits ignored due to legacy: 1616  out of: 13296\n",
      "  Total commite requiring blame computation: 2801\n",
      "\n",
      "Computing Blame\n",
      "Failed to load blame\n",
      "  Initial Blame cache size: 0\n",
      "  bug fix commits: 2801\n",
      ". . . . . . . . . . 100 . . . . . . . . . . 200 . . . . . . . . . . 300 . . . . . . . . . . 400 . . . . . . . . . . 500 . . . . . . . . . . 600 . . . . . . . . . . 700 . . . . . . . . . Skipping empty token A153_B179_insert\n",
      ". 800 . . . . . . . . . . 900 . . . . . . . . . . 1000 . . . . . . . . . . 1100 . . . . . . . . . . 1200 . . . . . . . . . . 1300 . . . . . . . . . . 1400 . . . . . . . . . . 1500 . . . . . . . . . . 1600 . . . . . . . . . . 1700 . . . . . . . . . . 1800 . . . . . . . . . . 1900 . . . . . . . . . . 2000 . . . . . . . . . . 2100 . . . . . . . . . . 2200 . . . . . . . . . . 2300 . . . . . . . . . . 2400 Error:  Invalid blob for performDiff None\n",
      "\n",
      "BadObject during blame extraction,  commit should be ignored\n",
      "\n",
      "Error:  Invalid blob for performDiff None\n",
      "\n",
      "BadObject during blame extraction,  commit should be ignored\n",
      "\n",
      "Error:  Invalid blob for performDiff None\n",
      "\n",
      "BadObject during blame extraction,  commit should be ignored\n",
      "\n",
      "Error:  Invalid blob for performDiff None\n",
      "\n",
      "BadObject during blame extraction,  commit should be ignored\n",
      "\n",
      "Error:  Invalid blob for performDiff None\n",
      "\n",
      "BadObject during blame extraction,  commit should be ignored\n",
      "\n",
      "Error:  Invalid blob for performDiff None\n",
      "\n",
      "BadObject during blame extraction,  commit should be ignored\n",
      "\n",
      "Error:  Invalid blob for performDiff None\n",
      "\n",
      "BadObject during blame extraction,  commit should be ignored\n",
      "\n",
      "Error:  Invalid blob for performDiff None\n",
      "\n",
      "BadObject during blame extraction,  commit should be ignored\n",
      "\n",
      "Error:  Invalid blob for performDiff None\n",
      "\n",
      "BadObject during blame extraction,  commit should be ignored\n",
      "\n",
      "Error:  Invalid blob for performDiff None\n",
      "\n",
      "BadObject during blame extraction,  commit should be ignored\n",
      "\n",
      "Error:  Invalid blob for performDiff None\n",
      "\n",
      "BadObject during blame extraction,  commit should be ignored\n",
      "\n",
      "Error:  Invalid blob for performDiff None\n",
      "\n",
      "BadObject during blame extraction,  commit should be ignored\n",
      "\n",
      ". . . . . . . . . . 2500 . . . . . . . . . . 2600 . . . . . . . . . . 2700 . . . . . . . . . . 2800\n",
      "  Saving updated Blame Cache\n",
      "\n",
      "\n",
      "** Warning: Blame entries with missing guilt data: 35\n",
      "Annotating Guilt\n",
      "blame_compute_normalized_guilt: ignoring nova/virt/libvirt/utils.py -1\n",
      "blame_compute_normalized_guilt: ignoring nova/virt/libvirt/imagebackend.py -1\n",
      "blame_compute_normalized_guilt: ignoring nova/virt/driver.py -1\n",
      "blame_compute_normalized_guilt: ignoring nova/virt/images.py -1\n",
      "blame_compute_normalized_guilt: ignoring nova/virt/fake.py -1\n",
      "blame_compute_normalized_guilt: ignoring nova/virt/vmwareapi/vmops.py -1\n",
      "blame_compute_normalized_guilt: ignoring nova/virt/baremetal/tilera_pdu.py -1\n",
      "blame_compute_normalized_guilt: ignoring nova/virt/xenapi/driver.py -1\n",
      "blame_compute_normalized_guilt: ignoring nova/virt/hyperv/driver.py -1\n",
      "blame_compute_normalized_guilt: ignoring nova/virt/baremetal/tilera.py -1\n",
      "blame_compute_normalized_guilt: ignoring nova/virt/libvirt/driver.py -1\n",
      "blame_compute_normalized_guilt: ignoring nova/virt/powervm/driver.py -1\n",
      "entries with non-zero guilt:  3478\n",
      "smallest guilt: 0.00050916496945\n",
      "largest guilt: 45.9016586393\n",
      "Identify reachable commits\n",
      "  Loaded cached reachability data\n",
      "  Initial Reachable cache size: 469\n",
      "  Samples: 469\n",
      "  Revised samples: 0\n",
      "\n",
      "  Reachable commits: 12452\n",
      "Annotating lines of code changed\n",
      "  Loaded Lines of Code Changed cache\n",
      "  Initial Lines of Code Changed cache size: 12443\n",
      ". . . . . . . . . . 1000 . . . . . . . . . . 2000 . . . . . . . . . . 3000 . . . . . . . . . . 4000 . . . . . . . . . . 5000 . . . . . . . . . . 6000 . . . . . . . . . . 7000 . . . . . . . . . . 8000 . . . . . . . . . . 9000 . . . . . . . . . . 10000 . . . . . . . . . . 11000 . . . . . . . . . . 12000 . . .\n",
      "Order range for non-legacy comits\n",
      "  min: 3584\n",
      "  max: 12389\n",
      "Setting guilt threshold to: 0.147067019088\n",
      "Labeled bugs: 2219  vs Actual bugs: 2221\n",
      "Total features: 16233\n",
      "Total feature vectors: 8806\n",
      "  bugs based on threshold: 1805\n"
     ]
    }
   ],
   "source": [
    "# %%capture\n",
    "Y, X = get_dataset(PROJECT, IMPORTANCE)"
   ]
  },
  {
   "cell_type": "markdown",
   "metadata": {},
   "source": [
    "### Select Split Strategy"
   ]
  },
  {
   "cell_type": "code",
   "execution_count": 4,
   "metadata": {
    "collapsed": false
   },
   "outputs": [],
   "source": [
    "cv = PredictCV(len(Y), history=500, future=500, n_iter=100)"
   ]
  },
  {
   "cell_type": "markdown",
   "metadata": {},
   "source": [
    "# Random Forest"
   ]
  },
  {
   "cell_type": "code",
   "execution_count": 5,
   "metadata": {
    "collapsed": false
   },
   "outputs": [],
   "source": [
    "estimator = sklearn.ensemble.RandomForestClassifier()\n",
    "param_grid = {'criterion': ['gini', 'entropy'],\n",
    "                  'n_estimators':[5, 10, 15],\n",
    "                  'max_features':['auto', 'log2', 10, 25, 50, 75, 100, 150, 200]  }"
   ]
  },
  {
   "cell_type": "code",
   "execution_count": 6,
   "metadata": {
    "collapsed": false
   },
   "outputs": [
    {
     "name": "stdout",
     "output_type": "stream",
     "text": [
      "best_score:  0.379879566745\n"
     ]
    },
    {
     "data": {
      "text/plain": [
       "RandomForestClassifier(bootstrap=True, compute_importances=None,\n",
       "            criterion='gini', max_depth=None, max_features=200,\n",
       "            max_leaf_nodes=None, min_density=None, min_samples_leaf=1,\n",
       "            min_samples_split=2, n_estimators=15, n_jobs=1,\n",
       "            oob_score=False, random_state=None, verbose=0)"
      ]
     },
     "execution_count": 6,
     "metadata": {},
     "output_type": "execute_result"
    }
   ],
   "source": [
    "grid = GridSearchCV(estimator, param_grid=param_grid, cv=cv, scoring=SCORING,\n",
    "                    n_jobs=JOBS, pre_dispatch=2*JOBS, verbose=VERBOSE)\n",
    "# grid.fit(X_train, Y_train)\n",
    "grid.fit(X, Y)\n",
    "print 'best_score: ', grid.best_score_\n",
    "clf = grid.best_estimator_\n",
    "grid.best_estimator_"
   ]
  },
  {
   "cell_type": "markdown",
   "metadata": {},
   "source": [
    "### Validation Curve"
   ]
  },
  {
   "cell_type": "code",
   "execution_count": 7,
   "metadata": {
    "collapsed": false
   },
   "outputs": [
    {
     "data": {
      "image/png": "[encoded data removed]",
      "text/plain": [
       "<matplotlib.figure.Figure at 0x106e4aed0>"
      ]
     },
     "metadata": {},
     "output_type": "display_data"
    }
   ],
   "source": [
    "best_score, param_val, param_name = \\\n",
    "    plot_validation_curve(clf,\n",
    "                          # X_train, Y_train,\n",
    "                          X, Y,\n",
    "                          \"max_features\", [10, 25, 50, 75, 100, 125, 150, 200, 250, 300],\n",
    "                          \"max_features Validation Curve\",\n",
    "                          cv=cv, scoring=SCORING, n_jobs=JOBS)"
   ]
  },
  {
   "cell_type": "code",
   "execution_count": 8,
   "metadata": {
    "collapsed": false
   },
   "outputs": [
    {
     "name": "stdout",
     "output_type": "stream",
     "text": [
      "Best score of 0.407078631093 when setting max_features to 300\n"
     ]
    }
   ],
   "source": [
    "print 'Best score of', best_score, 'when setting', param_name, 'to',  param_val"
   ]
  },
  {
   "cell_type": "code",
   "execution_count": 9,
   "metadata": {
    "collapsed": false
   },
   "outputs": [
    {
     "data": {
      "image/png": "[encoded data removed]",
      "text/plain": [
       "<matplotlib.figure.Figure at 0x1d5634490>"
      ]
     },
     "metadata": {},
     "output_type": "display_data"
    }
   ],
   "source": [
    "best_score, param_val, param_name = \\\n",
    "    plot_validation_curve(clf,\n",
    "                          # X_train, Y_train,\n",
    "                          X, Y,\n",
    "                          \"n_estimators\", [5, 7, 10, 11, 13, 15, 17, 19, 23, 25, 29],\n",
    "                          \"n_estimators Validation Curve\",\n",
    "                          cv=cv, scoring=SCORING, n_jobs=JOBS, scale='linear')"
   ]
  },
  {
   "cell_type": "code",
   "execution_count": 10,
   "metadata": {
    "collapsed": false
   },
   "outputs": [
    {
     "name": "stdout",
     "output_type": "stream",
     "text": [
      "Best score of 0.396751761058 when setting n_estimators to 17\n"
     ]
    }
   ],
   "source": [
    "print 'Best score of', best_score, 'when setting', param_name, 'to',  param_val"
   ]
  },
  {
   "cell_type": "markdown",
   "metadata": {},
   "source": [
    "### Learning Curve"
   ]
  },
  {
   "cell_type": "code",
   "execution_count": 11,
   "metadata": {
    "collapsed": false
   },
   "outputs": [
    {
     "data": {
      "image/png": "[encoded data removed]",
      "text/plain": [
       "<matplotlib.figure.Figure at 0x1d39b4b50>"
      ]
     },
     "metadata": {},
     "output_type": "display_data"
    }
   ],
   "source": [
    "title = \"Learning Curves for Random Forest Classifier\"\n",
    "my_plot_learning_curve(clf, title, X, Y,\n",
    "                           n_jobs=JOBS, future=500,\n",
    "                           history_sizes=[100, 200, 300, 500, 700, 800, 900, 1000], n_iter=100)\n",
    "plt.show()"
   ]
  },
  {
   "cell_type": "markdown",
   "metadata": {},
   "source": [
    "### Prediction Curve"
   ]
  },
  {
   "cell_type": "code",
   "execution_count": 12,
   "metadata": {
    "collapsed": false
   },
   "outputs": [
    {
     "data": {
      "image/png": "[encoded data removed]",
      "text/plain": [
       "<matplotlib.figure.Figure at 0x1d3ee36d0>"
      ]
     },
     "metadata": {},
     "output_type": "display_data"
    }
   ],
   "source": [
    "title = \"Prediction Horizon Curve for Random Forest Classifier\"\n",
    "plot_prediction_curve(clf, title, X, Y,\n",
    "                           n_jobs=JOBS, history=500,\n",
    "                           future_sizes=[100, 200, 300, 500], n_iter=100)\n",
    "plt.show()"
   ]
  },
  {
   "cell_type": "code",
   "execution_count": 13,
   "metadata": {
    "collapsed": false
   },
   "outputs": [
    {
     "name": "stdout",
     "output_type": "stream",
     "text": [
      "** Predictions for hist=300 future=100 **\n",
      "\n",
      "F1:        0.34  +/- 0.19\n",
      "Accuracy:  0.79  +/- 0.07\n",
      "Precision: 0.52  +/- 0.26\n",
      "Recall:    0.27  +/- 0.17\n",
      "\n",
      "Aggregate Confusion Matrix - 100 iterations\n",
      "[[7240  475]\n",
      " [1581  704]]\n",
      "\n",
      "\n",
      "** Predictions for hist=300 future=150 **\n",
      "\n",
      "F1:        0.32  +/- 0.15\n",
      "Accuracy:  0.80  +/- 0.07\n",
      "Precision: 0.57  +/- 0.23\n",
      "Recall:    0.24  +/- 0.14\n",
      "\n",
      "Aggregate Confusion Matrix - 100 iterations\n",
      "[[11055   625]\n",
      " [ 2418   902]]\n",
      "\n",
      "\n",
      "** Predictions for hist=300 future=200 **\n",
      "\n",
      "F1:        0.36  +/- 0.14\n",
      "Accuracy:  0.79  +/- 0.06\n",
      "Precision: 0.58  +/- 0.16\n",
      "Recall:    0.29  +/- 0.14\n",
      "\n",
      "Aggregate Confusion Matrix - 100 iterations\n",
      "[[14319  1052]\n",
      " [ 3178  1451]]\n",
      "\n",
      "\n",
      "** Predictions for hist=300 future=500 **\n",
      "\n",
      "F1:        0.32  +/- 0.14\n",
      "Accuracy:  0.80  +/- 0.05\n",
      "Precision: 0.57  +/- 0.14\n",
      "Recall:    0.24  +/- 0.12\n",
      "\n",
      "Aggregate Confusion Matrix - 100 iterations\n",
      "[[37159  2069]\n",
      " [ 7885  2887]]\n",
      "\n",
      "\n",
      "** Predictions for hist=700 future=100 **\n",
      "\n",
      "F1:        0.37  +/- 0.17\n",
      "Accuracy:  0.79  +/- 0.06\n",
      "Precision: 0.54  +/- 0.20\n",
      "Recall:    0.30  +/- 0.16\n",
      "\n",
      "Aggregate Confusion Matrix - 100 iterations\n",
      "[[7165  533]\n",
      " [1519  783]]\n",
      "\n",
      "\n",
      "** Predictions for hist=700 future=150 **\n",
      "\n",
      "F1:        0.39  +/- 0.15\n",
      "Accuracy:  0.80  +/- 0.06\n",
      "Precision: 0.55  +/- 0.16\n",
      "Recall:    0.32  +/- 0.14\n",
      "\n",
      "Aggregate Confusion Matrix - 100 iterations\n",
      "[[10929   811]\n",
      " [ 2135  1125]]\n",
      "\n",
      "\n",
      "** Predictions for hist=700 future=200 **\n",
      "\n",
      "F1:        0.36  +/- 0.15\n",
      "Accuracy:  0.81  +/- 0.06\n",
      "Precision: 0.53  +/- 0.18\n",
      "Recall:    0.29  +/- 0.14\n",
      "\n",
      "Aggregate Confusion Matrix - 100 iterations\n",
      "[[14933   990]\n",
      " [ 2725  1352]]\n",
      "\n",
      "\n",
      "** Predictions for hist=700 future=500 **\n",
      "\n",
      "F1:        0.41  +/- 0.11\n",
      "Accuracy:  0.80  +/- 0.05\n",
      "Precision: 0.56  +/- 0.11\n",
      "Recall:    0.33  +/- 0.11\n",
      "\n",
      "Aggregate Confusion Matrix - 100 iterations\n",
      "[[35871  2916]\n",
      " [ 7210  4003]]\n",
      "\n",
      "\n",
      "** Predictions for hist=500 future=100 **\n",
      "\n",
      "F1:        0.39  +/- 0.17\n",
      "Accuracy:  0.80  +/- 0.06\n",
      "Precision: 0.56  +/- 0.21\n",
      "Recall:    0.31  +/- 0.16\n",
      "\n",
      "Aggregate Confusion Matrix - 100 iterations\n",
      "[[7228  517]\n",
      " [1456  799]]\n",
      "\n",
      "\n",
      "** Predictions for hist=500 future=150 **\n",
      "\n",
      "F1:        0.36  +/- 0.14\n",
      "Accuracy:  0.80  +/- 0.06\n",
      "Precision: 0.56  +/- 0.18\n",
      "Recall:    0.28  +/- 0.14\n",
      "\n",
      "Aggregate Confusion Matrix - 100 iterations\n",
      "[[11041   686]\n",
      " [ 2262  1011]]\n",
      "\n",
      "\n",
      "** Predictions for hist=500 future=200 **\n",
      "\n",
      "F1:        0.35  +/- 0.14\n",
      "Accuracy:  0.80  +/- 0.05\n",
      "Precision: 0.54  +/- 0.16\n",
      "Recall:    0.27  +/- 0.13\n",
      "\n",
      "Aggregate Confusion Matrix - 100 iterations\n",
      "[[14620   985]\n",
      " [ 3062  1333]]\n",
      "\n",
      "\n",
      "** Predictions for hist=500 future=500 **\n",
      "\n",
      "F1:        0.39  +/- 0.11\n",
      "Accuracy:  0.80  +/- 0.05\n",
      "Precision: 0.54  +/- 0.11\n",
      "Recall:    0.31  +/- 0.11\n",
      "\n",
      "Aggregate Confusion Matrix - 100 iterations\n",
      "[[36053  2912]\n",
      " [ 7291  3744]]\n",
      "\n",
      "\n",
      "** Predictions for hist=1000 future=100 **\n",
      "\n",
      "F1:        0.35  +/- 0.17\n",
      "Accuracy:  0.82  +/- 0.06\n",
      "Precision: 0.49  +/- 0.22\n",
      "Recall:    0.29  +/- 0.15\n",
      "\n",
      "Aggregate Confusion Matrix - 100 iterations\n",
      "[[7503  524]\n",
      " [1320  653]]\n",
      "\n",
      "\n",
      "** Predictions for hist=1000 future=150 **\n",
      "\n",
      "F1:        0.38  +/- 0.15\n",
      "Accuracy:  0.81  +/- 0.06\n",
      "Precision: 0.53  +/- 0.19\n",
      "Recall:    0.31  +/- 0.14\n",
      "\n",
      "Aggregate Confusion Matrix - 100 iterations\n",
      "[[11036   865]\n",
      " [ 2016  1083]]\n",
      "\n",
      "\n",
      "** Predictions for hist=1000 future=200 **\n",
      "\n",
      "F1:        0.41  +/- 0.14\n",
      "Accuracy:  0.80  +/- 0.05\n",
      "Precision: 0.57  +/- 0.16\n",
      "Recall:    0.33  +/- 0.14\n",
      "\n",
      "Aggregate Confusion Matrix - 100 iterations\n",
      "[[14494  1085]\n",
      " [ 2821  1600]]\n",
      "\n",
      "\n",
      "** Predictions for hist=1000 future=500 **\n",
      "\n",
      "F1:        0.38  +/- 0.11\n",
      "Accuracy:  0.81  +/- 0.05\n",
      "Precision: 0.52  +/- 0.12\n",
      "Recall:    0.31  +/- 0.11\n",
      "\n",
      "Aggregate Confusion Matrix - 100 iterations\n",
      "[[36809  2834]\n",
      " [ 6834  3523]]\n",
      "\n",
      "\n"
     ]
    },
    {
     "name": "stderr",
     "output_type": "stream",
     "text": [
      "/Users/doug/anaconda/lib/python2.7/site-packages/sklearn/metrics/metrics.py:1771: UndefinedMetricWarning: Precision is ill-defined and being set to 0.0 due to no predicted samples.\n",
      "  'precision', 'predicted', average, warn_for)\n"
     ]
    }
   ],
   "source": [
    "RF_results = eval_predictions(clf, X, Y, history_sizes=[300, 700, 500, 1000], future_sizes=[100, 150, 200, 500], n_iter=100)"
   ]
  },
  {
   "cell_type": "code",
   "execution_count": 14,
   "metadata": {
    "collapsed": false
   },
   "outputs": [],
   "source": [
    "RF_clf = clf"
   ]
  }
 ],
 "metadata": {
  "kernelspec": {
   "display_name": "Python 2",
   "language": "python",
   "name": "python2"
  },
  "language_info": {
   "codemirror_mode": {
    "name": "ipython",
    "version": 2
   },
   "file_extension": ".py",
   "mimetype": "text/x-python",
   "name": "python",
   "nbconvert_exporter": "python",
   "pygments_lexer": "ipython2",
   "version": "2.7.9"
  }
 },
 "nbformat": 4,
 "nbformat_minor": 0
}
