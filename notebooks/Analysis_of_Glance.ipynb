{
 "cells": [
  {
   "cell_type": "markdown",
   "metadata": {},
   "source": [
    "#Basic Analysis of OpenStack Glance\n",
    "\n",
    "Copyright Doug Williams - 2014, 2015\n",
    "\n",
    "###Updated: 5/28/2015\n",
    "\n",
    "###History\n",
    "- 9/10/2014:  Initial Version\n",
    "- 3/12/2015:  Major Update"
   ]
  },
  {
   "cell_type": "code",
   "execution_count": 1,
   "metadata": {
    "collapsed": false
   },
   "outputs": [],
   "source": [
    "%matplotlib inline"
   ]
  },
  {
   "cell_type": "code",
   "execution_count": 2,
   "metadata": {
    "collapsed": false
   },
   "outputs": [],
   "source": [
    "import matplotlib.pyplot as plt\n",
    "import matplotlib\n",
    "import numpy as np\n",
    "from pprint import pprint\n",
    "import collections\n",
    "import math\n",
    "#from collections import defaultdict\n",
    "# import re\n",
    "\n",
    "import sys\n",
    "sys.path.append('../dev')\n",
    "from jp_load_dump import jload"
   ]
  },
  {
   "cell_type": "code",
   "execution_count": 3,
   "metadata": {
    "collapsed": false
   },
   "outputs": [],
   "source": [
    "#from commit_analysis import normalize_blame_by_commit\n",
    "#from commit_analysis import normalize_blame_by_file\n",
    "#from commit_analysis import parse_author\n",
    "from commit_analysis import get_commit_count_by_author\n",
    "from commit_analysis import get_guilt_by_author\n",
    "\n",
    "from BugFixWorkflow import commit_postprocessing\n",
    "from Git_Extract import compute_git_actor_dedupe\n",
    "from Git_Extract import get_commit_ordering_min_max"
   ]
  },
  {
   "cell_type": "code",
   "execution_count": 4,
   "metadata": {
    "collapsed": false
   },
   "outputs": [],
   "source": [
    "#PROJECT = 'nova'\n",
    "#PROJECT = 'swift'\n",
    "#PROJECT = 'cinder'\n",
    "PROJECT = 'glance'\n",
    "#PROJECT = 'heat'\n",
    "#IMPORTANCE = 'crit'\n",
    "#IMPORTANCE = 'high+'\n",
    "#IMPORTANCE = 'med+'\n",
    "IMPORTANCE = 'low+'\n",
    "ANONYMIZE = True"
   ]
  },
  {
   "cell_type": "markdown",
   "metadata": {},
   "source": [
    "# Code"
   ]
  },
  {
   "cell_type": "code",
   "execution_count": 5,
   "metadata": {
    "collapsed": false
   },
   "outputs": [],
   "source": [
    "KNOWN_NAMES = {}\n",
    "\n",
    "def anonymize_name(name):\n",
    "    global KNOWN_NAMES\n",
    "    if not ANONYMIZE:\n",
    "        return name\n",
    "    if name not in KNOWN_NAMES:\n",
    "        KNOWN_NAMES[name] = 'Author_'+str(len(KNOWN_NAMES)+1)\n",
    "    return KNOWN_NAMES[name]"
   ]
  },
  {
   "cell_type": "markdown",
   "metadata": {},
   "source": [
    "# Load corpus"
   ]
  },
  {
   "cell_type": "code",
   "execution_count": 6,
   "metadata": {
    "collapsed": false
   },
   "outputs": [
    {
     "name": "stdout",
     "output_type": "stream",
     "text": [
      "loading bug data\n",
      "  total LP bugs: 1254\n",
      "  Entries annotated: 924\n",
      "loading Git commit data\n",
      "  total git_commits: 4227\n",
      "  bug fix commits: 1041\n",
      "  commits with change_id: 1897\n",
      "  bug fix with change_id: 974\n",
      "loading change data\n",
      "  total gerrit changes with detail: 2113\n",
      "  all_change_details: 2113\n",
      "  total gerrit changes: 2114\n",
      "  all_changes: 2114\n",
      "combined_commits: 4227\n",
      "Determining legacy cut-off\n",
      "  Transition interval: 18:37:55\n",
      "  Parent of first_with: 3aa1701e076db88c445518ef8176f7151b5df5c3\n",
      "  Setting cutoff to: 04/08/2011\n",
      "Collecting data on commits with bug fixes\n",
      "  Mainline Commits ignored due to legacy: 180  out of: 1993\n",
      "  Total commite requiring blame computation: 771\n",
      "\n",
      "Computing Blame\n",
      "Loaded blame\n",
      "  Initial Blame cache size: 401\n",
      "  bug fix commits: 771\n",
      ". . . . . . . . . . 100 . . . . . . . . . . 200 . . . . . . . . . . 300 . . . . . . . . . . 400 . . . . . . . . . . 500 . . . . . . . . . . 600 . . . . . . . . . . 700 . . . . . . .\n",
      "  Saving updated Blame Cache\n",
      "\n",
      "\n",
      "** Warning: Blame entries with missing guilt data: 2\n",
      "Annotating Guilt\n",
      "entries with non-zero guilt:  692\n",
      "smallest guilt: 0.004329004329\n",
      "largest guilt: 25.0706481019\n",
      "Identify reachable commits\n",
      "  Loaded cached reachability data\n",
      "  Initial Reachable cache size: 74\n",
      "  Samples: 74\n",
      "  Revised samples: 0\n",
      "\n",
      "  Reachable commits: 1537\n",
      "Annotating lines of code changed\n",
      "  Loaded Lines of Code Changed cache\n",
      "  Initial Lines of Code Changed cache size: 1511\n",
      ". . . . . . . . . . 1000 . . . .\n",
      "Order range for non-legacy comits\n",
      "  min: 351\n",
      "  max: 1490\n"
     ]
    }
   ],
   "source": [
    "combined_commits, _ = commit_postprocessing(PROJECT, IMPORTANCE)"
   ]
  },
  {
   "cell_type": "code",
   "execution_count": 7,
   "metadata": {
    "collapsed": false
   },
   "outputs": [],
   "source": [
    "min_order, max_order = get_commit_ordering_min_max(combined_commits)"
   ]
  },
  {
   "cell_type": "code",
   "execution_count": 8,
   "metadata": {
    "collapsed": false
   },
   "outputs": [
    {
     "name": "stdout",
     "output_type": "stream",
     "text": [
      "Combined Commits: 4227\n",
      " Reachable nonLegacy: 1139\n"
     ]
    }
   ],
   "source": [
    "print 'Combined Commits:', len(combined_commits)\n",
    "print ' Reachable nonLegacy:', len([k for k, c in combined_commits.items()\n",
    "                                    if c['reachable'] and c['order'] > min_order])"
   ]
  },
  {
   "cell_type": "markdown",
   "metadata": {},
   "source": [
    "# Basic Authorship Stats"
   ]
  },
  {
   "cell_type": "code",
   "execution_count": 9,
   "metadata": {
    "collapsed": false
   },
   "outputs": [],
   "source": [
    "all_commits_by_author = get_commit_count_by_author(combined_commits, 0)\n",
    "all_commits_by_author = dict([[anonymize_name(k), v] for k, v in all_commits_by_author.items()])\n",
    "\n",
    "#Same, ignoring legacy commits (ie:  commits where we are unable to compute guilt)\n",
    "commits_by_author = get_commit_count_by_author(combined_commits, min_order)\n",
    "commits_by_author = dict([[anonymize_name(k), v] for k, v in commits_by_author.items()])"
   ]
  },
  {
   "cell_type": "markdown",
   "metadata": {},
   "source": [
    "### Box Plot showing distribution of commits by author"
   ]
  },
  {
   "cell_type": "code",
   "execution_count": 10,
   "metadata": {
    "collapsed": false
   },
   "outputs": [
    {
     "data": {
      "image/png": "[encoded data removed]",
      "text/plain": [
       "<matplotlib.figure.Figure at 0x10beccb90>"
      ]
     },
     "metadata": {},
     "output_type": "display_data"
    }
   ],
   "source": [
    "plt.figure(figsize=(8, 1)); plt.title('Commits by Author')\n",
    "x = plt.boxplot([x[1] for x in all_commits_by_author.items()],vert=False)"
   ]
  },
  {
   "cell_type": "markdown",
   "metadata": {},
   "source": [
    "### Same data in histogram form, clipping extreme values"
   ]
  },
  {
   "cell_type": "code",
   "execution_count": 11,
   "metadata": {
    "collapsed": false
   },
   "outputs": [
    {
     "data": {
      "image/png": "[encoded data removed]",
      "text/plain": [
       "<matplotlib.figure.Figure at 0x1158af850>"
      ]
     },
     "metadata": {},
     "output_type": "display_data"
    }
   ],
   "source": [
    "plt.figure(figsize=(8, 3))\n",
    "plt.title('Commits by Author'); plt.xlabel('commits'); plt.ylabel('authors')\n",
    "x = plt.hist([x[1] for x in all_commits_by_author.items() if x[1] <= 50], bins=50)"
   ]
  },
  {
   "cell_type": "markdown",
   "metadata": {},
   "source": [
    "### Cumulative authorship, significant commits by authors with low commit counts"
   ]
  },
  {
   "cell_type": "code",
   "execution_count": 12,
   "metadata": {
    "collapsed": false
   },
   "outputs": [
    {
     "data": {
      "image/png": "[encoded data removed]",
      "text/plain": [
       "<matplotlib.figure.Figure at 0x121b67f50>"
      ]
     },
     "metadata": {},
     "output_type": "display_data"
    }
   ],
   "source": [
    "plt.figure(figsize=(10, 3))\n",
    "plt.title('Cumulative Commits by Author'); plt.xlabel('commits'); plt.ylabel('authors')\n",
    "x = plt.hist([x[1] for x in all_commits_by_author.items()], bins=160, cumulative=True)"
   ]
  },
  {
   "cell_type": "markdown",
   "metadata": {},
   "source": [
    "### Drill down on top authors"
   ]
  },
  {
   "cell_type": "code",
   "execution_count": 13,
   "metadata": {
    "collapsed": false
   },
   "outputs": [
    {
     "name": "stdout",
     "output_type": "stream",
     "text": [
      "Top Authors:\n",
      "------------\n",
      "Author_137 195.0\n",
      "Author_1 129.0\n",
      "Author_22 119.0\n",
      "Author_211 53.0\n",
      "Author_20 49.0\n",
      "Author_141 46.0\n",
      "Author_79 45.0\n",
      "Author_75 39.0\n",
      "Author_205 38.0\n",
      "Author_170 31.0\n"
     ]
    }
   ],
   "source": [
    "print 'Top Authors:'; print '------------'\n",
    "for author, commit_count in sorted(all_commits_by_author.items(), key=lambda x: x[1], reverse=True)[:10]:\n",
    "    print author, commit_count"
   ]
  },
  {
   "cell_type": "markdown",
   "metadata": {},
   "source": [
    "#Caveat\n",
    "\n",
    "The analysis approach below is based on a model of 'guilt by association'.  Specifically, that for each bug fix, guilt as apportioned based on authorship of code in proximity to code changes by the fix, where code that was replaced by the bug fix received the highest degree of guilt.  'Guilt' as used here is only an abstract concept, and by no means is a definitive indication of blame.  Perhaps a more appropriate term might be 'suspicion'."
   ]
  },
  {
   "cell_type": "markdown",
   "metadata": {},
   "source": [
    "# Explore Author's Association with Bugs (Guilt by association)"
   ]
  },
  {
   "cell_type": "markdown",
   "metadata": {},
   "source": [
    "###### Note:  Analysis ignores all commits prior to cut-over to current Git+Launchpad_Gerrit toolchain"
   ]
  },
  {
   "cell_type": "code",
   "execution_count": 14,
   "metadata": {
    "collapsed": false
   },
   "outputs": [],
   "source": [
    "def get_upper_and_lower_limits(series, lower=1, upper=99):\n",
    "    \"\"\"Determine 1 and 99 Percentile values\"\"\"\n",
    "    a = np.array([x[1] for x in series])\n",
    "    lthresh = np.percentile(a,1)\n",
    "    uthresh = np.percentile(a,99)\n",
    "    return lthresh, uthresh\n",
    "\n",
    "\n",
    "def remove_outliers(series, lower=1, upper=99):\n",
    "    \"\"\"Filtered version 1 - 99 Percentile\"\"\"\n",
    "    lthresh, uthresh = get_upper_and_lower_limits(series, lower, upper)\n",
    "    return [x for x in series if x[1] >= lthresh and x[1] <= uthresh]"
   ]
  },
  {
   "cell_type": "code",
   "execution_count": 15,
   "metadata": {
    "collapsed": false
   },
   "outputs": [],
   "source": [
    "guilt_by_author = get_guilt_by_author(combined_commits, min_order)\n",
    "guilt_by_author = dict([[anonymize_name(k), v] for k, v in guilt_by_author.items()])\n",
    "\n",
    "#normalize by author\n",
    "norm_guilt_by_author = [[k, v/commits_by_author[k]]\n",
    "                        for k, v in guilt_by_author.items()]\n",
    "\n",
    "# author, commits, norm, total_errore\n",
    "norm_guilt_vs_commit_count = [[k, all_commits_by_author[k],\n",
    "                               v/ commits_by_author[k], v] \n",
    "                              for k, v in guilt_by_author.items()]\n",
    "\n",
    "# Filtered version 1 - 99 Percentile\n",
    "norm_guilt_by_commit_f = remove_outliers(norm_guilt_by_author, lower=1, upper=99)\n",
    "_, max_commits = get_upper_and_lower_limits(all_commits_by_author.items())\n",
    "\n",
    "norm_guilt_vs_commit_count = [[all_commits_by_author[k], norm_guilt] \n",
    "                              for k, norm_guilt in norm_guilt_by_commit_f\n",
    "                              if all_commits_by_author[k] < max_commits]\n",
    "\n",
    "log_norm_guilt_vs_commit_count = [[math.log(all_commits_by_author[k]), norm_guilt] \n",
    "                              for k, norm_guilt in norm_guilt_by_commit_f\n",
    "                              if all_commits_by_author[k] < max_commits]"
   ]
  },
  {
   "cell_type": "markdown",
   "metadata": {},
   "source": [
    "### Box Plot showing distribution of normalized guilt"
   ]
  },
  {
   "cell_type": "code",
   "execution_count": 16,
   "metadata": {
    "collapsed": false
   },
   "outputs": [
    {
     "data": {
      "image/png": "[encoded data removed]",
      "text/plain": [
       "<matplotlib.figure.Figure at 0x113b83590>"
      ]
     },
     "metadata": {},
     "output_type": "display_data"
    }
   ],
   "source": [
    "plt.figure(figsize=(8, 1)); plt.title('Norm Guilt by Author')\n",
    "x = plt.boxplot([x[1] for x in norm_guilt_by_author],vert=False)"
   ]
  },
  {
   "cell_type": "markdown",
   "metadata": {},
   "source": [
    "### Look at range relative to average author"
   ]
  },
  {
   "cell_type": "code",
   "execution_count": 17,
   "metadata": {
    "collapsed": false
   },
   "outputs": [
    {
     "data": {
      "image/png": "[encoded data removed]",
      "text/plain": [
       "<matplotlib.figure.Figure at 0x121fb00d0>"
      ]
     },
     "metadata": {},
     "output_type": "display_data"
    }
   ],
   "source": [
    "plt.figure(figsize=(8, 1)); plt.title('Norm Guilt by Author')\n",
    "\n",
    "x = plt.boxplot([x[1] for x in norm_guilt_by_author],vert=False)"
   ]
  },
  {
   "cell_type": "markdown",
   "metadata": {},
   "source": [
    "### Same data in histogram form"
   ]
  },
  {
   "cell_type": "code",
   "execution_count": 18,
   "metadata": {
    "collapsed": false
   },
   "outputs": [
    {
     "data": {
      "image/png": "[encoded data removed]",
      "text/plain": [
       "<matplotlib.figure.Figure at 0x114a77d10>"
      ]
     },
     "metadata": {},
     "output_type": "display_data"
    }
   ],
   "source": [
    "plt.figure(figsize=(8, 3))\n",
    "plt.title('Normalized Guilt by Author'); plt.xlabel('guilt'); plt.ylabel('authors')\n",
    "x = plt.hist([x[1] for x in norm_guilt_by_author], bins=100)"
   ]
  },
  {
   "cell_type": "markdown",
   "metadata": {},
   "source": [
    "### Same data, ignoring outliers"
   ]
  },
  {
   "cell_type": "code",
   "execution_count": 19,
   "metadata": {
    "collapsed": false
   },
   "outputs": [
    {
     "data": {
      "image/png": "[encoded data removed]",
      "text/plain": [
       "<matplotlib.figure.Figure at 0x115704e10>"
      ]
     },
     "metadata": {},
     "output_type": "display_data"
    }
   ],
   "source": [
    "plt.figure(figsize=(8, 3))\n",
    "plt.title('Normalized Guilt by Author - 1% to 99%'); plt.xlabel('guilt'); plt.ylabel('authors')\n",
    "x = plt.hist([x[1] for x in norm_guilt_by_commit_f], bins=50)"
   ]
  },
  {
   "cell_type": "markdown",
   "metadata": {},
   "source": [
    "### Look at individual authors"
   ]
  },
  {
   "cell_type": "code",
   "execution_count": 20,
   "metadata": {
    "collapsed": false
   },
   "outputs": [
    {
     "name": "stdout",
     "output_type": "stream",
     "text": [
      "Authors with Highest Normalized Guilt: (Significant Caveats Apply)\n",
      "--------------------------------------\n",
      "Author_118 5.66666666667\n",
      "Author_30 3.85714285714\n",
      "Author_38 3.66666666667\n",
      "Author_57 3.42154195011\n",
      "Author_148 3.37037037037\n",
      "Author_214 3.20771324879\n",
      "Author_71 3.05390279823\n",
      "Author_129 3.03151381973\n",
      "Author_201 3.0081300813\n",
      "Author_22 2.87120610951\n"
     ]
    }
   ],
   "source": [
    "print 'Authors with Highest Normalized Guilt: (Significant Caveats Apply)'\n",
    "print '--------------------------------------'\n",
    "for author, norm_guilt in sorted([[k, v] for k, v in norm_guilt_by_author],\n",
    "                                 key=lambda x: x[1], reverse=True)[:10]:\n",
    "    print author, norm_guilt"
   ]
  },
  {
   "cell_type": "markdown",
   "metadata": {},
   "source": [
    "# Normalized Guilt vs Commit Experience"
   ]
  },
  {
   "cell_type": "markdown",
   "metadata": {},
   "source": [
    "### Basic Scatter Plot"
   ]
  },
  {
   "cell_type": "code",
   "execution_count": 21,
   "metadata": {
    "collapsed": false
   },
   "outputs": [
    {
     "data": {
      "image/png": "[encoded data removed]",
      "text/plain": [
       "<matplotlib.figure.Figure at 0x113b835d0>"
      ]
     },
     "metadata": {},
     "output_type": "display_data"
    }
   ],
   "source": [
    "plt.figure(figsize=(8, 8))\n",
    "plt.xlabel('commits'); plt.ylabel('bug rate'); plt.title('Bug rate vs commit experience no outliers')\n",
    "x, y = zip(*norm_guilt_vs_commit_count)\n",
    "plt.scatter(x, y); plt.xlim(0, ); plt.ylim(0, ); plt.show()"
   ]
  },
  {
   "cell_type": "markdown",
   "metadata": {},
   "source": [
    "### Scatter plot with commit experience on log scale"
   ]
  },
  {
   "cell_type": "code",
   "execution_count": 22,
   "metadata": {
    "collapsed": false
   },
   "outputs": [
    {
     "data": {
      "image/png": "[encoded data removed]",
      "text/plain": [
       "<matplotlib.figure.Figure at 0x121b67a10>"
      ]
     },
     "metadata": {},
     "output_type": "display_data"
    }
   ],
   "source": [
    "plt.figure(figsize=(8, 8))\n",
    "plt.xlabel('log commits'); plt.ylabel('bug rate'); plt.title('Bug rate vs commit experience no outliers')\n",
    "x, y = zip(*log_norm_guilt_vs_commit_count)\n",
    "plt.scatter(x, y); plt.xlim(0, ); plt.ylim(0, ); plt.show()"
   ]
  },
  {
   "cell_type": "markdown",
   "metadata": {},
   "source": [
    "# Cumulative contribution to overall guilt based on normalized guilt"
   ]
  },
  {
   "cell_type": "code",
   "execution_count": 23,
   "metadata": {
    "collapsed": false
   },
   "outputs": [],
   "source": [
    "def compute_cumulative(series):\n",
    "    series = sorted(series, key=lambda x: x[1], reverse=True)    \n",
    "    total = 0.0\n",
    "    result = []\n",
    "    for g, ng in series:\n",
    "        total += g\n",
    "        result.append([total, -ng])\n",
    "    return result"
   ]
  },
  {
   "cell_type": "code",
   "execution_count": 24,
   "metadata": {
    "collapsed": false
   },
   "outputs": [],
   "source": [
    "guilt_vs_norm_guilt_by_author = [[v, v/commits_by_author[k]]\n",
    "                        for k, v in guilt_by_author.items()]\n",
    "\n",
    "cumulative_guilt = compute_cumulative(guilt_vs_norm_guilt_by_author)\n",
    "\n",
    "n_authors = float(len(cumulative_guilt))\n",
    "max_guilt = cumulative_guilt[-1][0]\n",
    "relative_cumulative_guilt = [[100*float(i)/n_authors, v[0]/max_guilt ]\n",
    "                             for i, v in enumerate(cumulative_guilt)]\n",
    "\n",
    "# filtered versio of above\n",
    "guilt_vs_norm_guilt_by_author_f = [[v, v/commits_by_author[k]]\n",
    "                        for k, v in guilt_by_author.items()\n",
    "                        if commits_by_author[k] > 10]\n",
    "\n",
    "cumulative_guilt_f = compute_cumulative(guilt_vs_norm_guilt_by_author_f)\n",
    "\n",
    "relative_cumulative_guilt_f = [[100*float(i)/n_authors, v[0]/max_guilt ]\n",
    "                             for i, v in enumerate(cumulative_guilt_f)]"
   ]
  },
  {
   "cell_type": "markdown",
   "metadata": {},
   "source": [
    "### Cumulative Guilt vs author error rate"
   ]
  },
  {
   "cell_type": "code",
   "execution_count": 25,
   "metadata": {
    "collapsed": false
   },
   "outputs": [
    {
     "data": {
      "image/png": "[encoded data removed]",
      "text/plain": [
       "<matplotlib.figure.Figure at 0x121a7e4d0>"
      ]
     },
     "metadata": {},
     "output_type": "display_data"
    }
   ],
   "source": [
    "plt.figure(figsize=(8, 8))\n",
    "plt.xlabel('- author norm guilt'); plt.ylabel('cumulative guilt'); plt.title('Cumulative Guilt vs Normalized Author Guilt')\n",
    "y, x = zip(*cumulative_guilt)\n",
    "plt.plot(x, y); plt.show()"
   ]
  },
  {
   "cell_type": "markdown",
   "metadata": {},
   "source": [
    "###Overall Guilt Contribution based on Author Error Rate"
   ]
  },
  {
   "cell_type": "code",
   "execution_count": 26,
   "metadata": {
    "collapsed": false
   },
   "outputs": [
    {
     "data": {
      "image/png": "[encoded data removed]",
      "text/plain": [
       "<matplotlib.figure.Figure at 0x121b04990>"
      ]
     },
     "metadata": {},
     "output_type": "display_data"
    }
   ],
   "source": [
    "plt.figure(figsize=(8, 8))\n",
    "plt.xlabel('Author Percentile'); plt.ylabel('% total cumulative guilt'); plt.title('Cumulative Guilt vs Normalized Author Guilt')\n",
    "x, y = zip(*relative_cumulative_guilt)\n",
    "plt.plot(x, y); plt.show()"
   ]
  },
  {
   "cell_type": "markdown",
   "metadata": {},
   "source": [
    "######Note Below data skewed by large number of authors with zero guilt"
   ]
  },
  {
   "cell_type": "markdown",
   "metadata": {},
   "source": [
    "###Overall Guilt Contribution based on Author Error Rate, ignoring authors with 10 or less commits"
   ]
  },
  {
   "cell_type": "code",
   "execution_count": 27,
   "metadata": {
    "collapsed": false
   },
   "outputs": [
    {
     "data": {
      "image/png": "[encoded data removed]",
      "text/plain": [
       "<matplotlib.figure.Figure at 0x1201ef610>"
      ]
     },
     "metadata": {},
     "output_type": "display_data"
    }
   ],
   "source": [
    "plt.figure(figsize=(8, 8))\n",
    "plt.xlabel('Author Percentile'); plt.ylabel('% total cumulative guilt'); plt.title('Cumulative Guilt vs Normalized Author Guilt')\n",
    "x, y = zip(*relative_cumulative_guilt_f)\n",
    "plt.plot(x, y); plt.show()"
   ]
  },
  {
   "cell_type": "markdown",
   "metadata": {},
   "source": [
    "###### The prolific authors appear to account for the vast majority of bugs.  Only 10% of guilt attributable to authors with 10 or fewer commits"
   ]
  },
  {
   "cell_type": "code",
   "execution_count": null,
   "metadata": {
    "collapsed": false
   },
   "outputs": [],
   "source": []
  }
 ],
 "metadata": {
  "kernelspec": {
   "display_name": "Python 2",
   "language": "python",
   "name": "python2"
  },
  "language_info": {
   "codemirror_mode": {
    "name": "ipython",
    "version": 2
   },
   "file_extension": ".py",
   "mimetype": "text/x-python",
   "name": "python",
   "nbconvert_exporter": "python",
   "pygments_lexer": "ipython2",
   "version": "2.7.9"
  }
 },
 "nbformat": 4,
 "nbformat_minor": 0
}
