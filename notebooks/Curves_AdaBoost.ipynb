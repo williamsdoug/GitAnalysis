{
 "metadata": {
  "kernelspec": {
   "display_name": "Python 2",
   "language": "python",
   "name": "python2"
  },
  "language_info": {
   "codemirror_mode": {
    "name": "ipython",
    "version": 2
   },
   "file_extension": ".py",
   "mimetype": "text/x-python",
   "name": "python",
   "nbconvert_exporter": "python",
   "pygments_lexer": "ipython2",
   "version": "2.7.9"
  },
  "name": ""
 },
 "nbformat": 3,
 "nbformat_minor": 0,
 "worksheets": [
  {
   "cells": [
    {
     "cell_type": "heading",
     "level": 3,
     "metadata": {},
     "source": [
      "Updated 5/28/15"
     ]
    },
    {
     "cell_type": "code",
     "collapsed": false,
     "input": [
      "%matplotlib inline\n",
      "from pprint import pprint\n",
      "from collections import defaultdict\n",
      "\n",
      "import numpy as np\n",
      "import math\n",
      "import matplotlib.pyplot as plt\n",
      "import random\n",
      "import warnings\n",
      "\n",
      "import sklearn.tree\n",
      "import sklearn.ensemble\n",
      "\n",
      "from sklearn.grid_search import GridSearchCV\n",
      "from sklearn import metrics\n",
      "\n",
      "import sys\n",
      "sys.path.append('../dev')\n",
      "\n",
      "from ml_plot import plot_validation_curve\n",
      "from ml_plot import PredictCV, my_plot_learning_curve\n",
      "from ml_plot import plot_prediction_curve\n",
      "from ml_plot import get_dataset, eval_predictions"
     ],
     "language": "python",
     "metadata": {},
     "outputs": [],
     "prompt_number": 1
    },
    {
     "cell_type": "heading",
     "level": 1,
     "metadata": {},
     "source": [
      "Configuration"
     ]
    },
    {
     "cell_type": "code",
     "collapsed": false,
     "input": [
      "PROJECT = 'nova'\n",
      "# PROJECT = 'swift'\n",
      "# PROJECT = 'cinder'\n",
      "# PROJECT = 'heat'\n",
      "# PROJECT = 'glance'\n",
      "\n",
      "# IMPORTANCE = 'crit'\n",
      "# IMPORTANCE = 'high+'\n",
      "IMPORTANCE = 'med+'\n",
      "# IMPORTANCE = 'low+'\n",
      "\n",
      "# SIZE = 100\n",
      "#SIZE = 250\n",
      "# SIZE = 0.1\n",
      "SIZE = 0.5\n",
      "\n",
      "SCORING = 'f1'         # (precision * recall) / (precision + recall)\n",
      "# SCORING = 'accuracy'   # (TP + TN) / all values\n",
      "# SCORING = 'precision'  # TP / (TP + FP)\n",
      "# SCORING = 'recall'     # TP / (TP + FN)\n",
      "# SCORING = 'average_precision'\n",
      "# SCORING = 'roc_auc'\n",
      "\n",
      "JOBS = 4\n",
      "\n",
      "VERBOSE = 0\n",
      "\n",
      "#warnings.simplefilter(\"ignore\", UndefinedMetricWarning)\n",
      "warnings.filterwarnings('ignore', 'F-score is ill-defined')\n",
      "warnings.filterwarnings('ignore', 'overflow encountered in exp')"
     ],
     "language": "python",
     "metadata": {},
     "outputs": [],
     "prompt_number": 2
    },
    {
     "cell_type": "heading",
     "level": 1,
     "metadata": {},
     "source": [
      "Load Data"
     ]
    },
    {
     "cell_type": "code",
     "collapsed": false,
     "input": [
      "%%capture\n",
      "Y, X = get_dataset(PROJECT, IMPORTANCE)"
     ],
     "language": "python",
     "metadata": {},
     "outputs": [],
     "prompt_number": 3
    },
    {
     "cell_type": "heading",
     "level": 3,
     "metadata": {},
     "source": [
      "Select Split Strategy"
     ]
    },
    {
     "cell_type": "code",
     "collapsed": false,
     "input": [
      "#cv = PredictCV(len(Y), history=500, future=300, n_iter=10)\n",
      "cv = PredictCV(len(Y), history=500, future=300, n_iter=100)"
     ],
     "language": "python",
     "metadata": {},
     "outputs": [],
     "prompt_number": 4
    },
    {
     "cell_type": "heading",
     "level": 1,
     "metadata": {},
     "source": [
      "AdaBoost  Classifier"
     ]
    },
    {
     "cell_type": "code",
     "collapsed": false,
     "input": [
      "estimator = sklearn.ensemble.AdaBoostClassifier()\n",
      "param_grid = {'learning_rate': [0.25, 0.5, 1.0, 1.25, 1.5, 1.75, 2.0],\n",
      "              'n_estimators': [15, 25, 50],\n",
      "               'algorithm': ['SAMME', 'SAMME.R'] }"
     ],
     "language": "python",
     "metadata": {},
     "outputs": [],
     "prompt_number": 5
    },
    {
     "cell_type": "code",
     "collapsed": false,
     "input": [
      "grid = GridSearchCV(estimator, param_grid=param_grid, cv=cv, scoring=SCORING,\n",
      "                    n_jobs=JOBS, pre_dispatch=2*JOBS, verbose=VERBOSE)\n",
      "# grid.fit(X_train, Y_train)\n",
      "grid.fit(X, Y)\n",
      "print 'best_score: ', grid.best_score_\n",
      "clf = grid.best_estimator_\n",
      "grid.best_estimator_"
     ],
     "language": "python",
     "metadata": {},
     "outputs": [
      {
       "output_type": "stream",
       "stream": "stdout",
       "text": [
        "best_score:  0.437733746901\n"
       ]
      },
      {
       "output_type": "pyout",
       "prompt_number": 6,
       "text": [
        "AdaBoostClassifier(algorithm='SAMME', base_estimator=None, learning_rate=1.0,\n",
        "          n_estimators=25, random_state=None)"
       ]
      }
     ],
     "prompt_number": 6
    },
    {
     "cell_type": "heading",
     "level": 3,
     "metadata": {},
     "source": [
      "Validation Curves"
     ]
    },
    {
     "cell_type": "code",
     "collapsed": false,
     "input": [
      "best_score, param_val, param_name = \\\n",
      "    plot_validation_curve(clf,\n",
      "                          X, Y,\n",
      "                          \"learning_rate\", [0.25, 0.5, 1.0, 1.25, 1.5, 1.75, 2.0],\n",
      "                          \"learning_rate Validation Curve\",\n",
      "                          cv=cv, scoring=SCORING, n_jobs=JOBS)\n",
      "print 'Best score of', best_score, 'when setting', param_name, 'to',  param_val"
     ],
     "language": "python",
     "metadata": {},
     "outputs": [
      {
       "output_type": "display_data",
       "png": "[encoded data removed]",
       "text": [
        "<matplotlib.figure.Figure at 0x117ba4450>"
       ]
      },
      {
       "output_type": "stream",
       "stream": "stdout",
       "text": [
        "Best score of 0.392939877007 when setting learning_rate to 1.0\n"
       ]
      }
     ],
     "prompt_number": 7
    },
    {
     "cell_type": "code",
     "collapsed": false,
     "input": [
      "best_score, param_val, param_name = \\\n",
      "    plot_validation_curve(clf,\n",
      "                          X, Y,\n",
      "                          \"n_estimators\", [9, 15, 21, 25, 50, 100],\n",
      "                          \"n_estimators Validation Curve\",\n",
      "                          cv=cv, scoring=SCORING, n_jobs=JOBS)\n",
      "print 'Best score of', best_score, 'when setting', param_name, 'to',  param_val"
     ],
     "language": "python",
     "metadata": {},
     "outputs": [
      {
       "output_type": "display_data",
       "png": "[encoded data removed]",
       "text": [
        "<matplotlib.figure.Figure at 0x117baa810>"
       ]
      },
      {
       "output_type": "stream",
       "stream": "stdout",
       "text": [
        "Best score of 0.418628099545 when setting n_estimators to 21\n"
       ]
      }
     ],
     "prompt_number": 8
    },
    {
     "cell_type": "heading",
     "level": 3,
     "metadata": {},
     "source": [
      "Learning Curve"
     ]
    },
    {
     "cell_type": "code",
     "collapsed": false,
     "input": [
      "title = \"Learning Curves for AdaBoost using DecisionTreeClassifier\"\n",
      "my_plot_learning_curve(clf, title, X, Y,\n",
      "                           n_jobs=JOBS, future=500,\n",
      "                           history_sizes=[100, 200, 300, 400, 500, 750, 1000],\n",
      "                           n_iter=100)\n",
      "plt.show()"
     ],
     "language": "python",
     "metadata": {},
     "outputs": [
      {
       "output_type": "display_data",
       "png": "[encoded data removed]",
       "text": [
        "<matplotlib.figure.Figure at 0x1bd1d4d90>"
       ]
      }
     ],
     "prompt_number": 9
    },
    {
     "cell_type": "heading",
     "level": 3,
     "metadata": {},
     "source": [
      "Prediction Curve"
     ]
    },
    {
     "cell_type": "code",
     "collapsed": false,
     "input": [
      "title = \"Prediction Horizon Curve for Adaboost with DecisionTreeClassifier\"\n",
      "plot_prediction_curve(clf, title, X, Y,\n",
      "                           n_jobs=JOBS, history=500,\n",
      "                           future_sizes=[100, 200, 300, 500], n_iter=100)\n",
      "plt.show()"
     ],
     "language": "python",
     "metadata": {},
     "outputs": [
      {
       "output_type": "display_data",
       "png": "[encoded data removed]",
       "text": [
        "<matplotlib.figure.Figure at 0x1d8fc4b50>"
       ]
      }
     ],
     "prompt_number": 10
    },
    {
     "cell_type": "code",
     "collapsed": false,
     "input": [
      "AB_results = eval_predictions(clf, X, Y, history_sizes=[400, 500, 1000], future_sizes=[100, 300, 400, 500], n_iter=100)"
     ],
     "language": "python",
     "metadata": {},
     "outputs": [
      {
       "output_type": "stream",
       "stream": "stdout",
       "text": [
        "** Predictions for hist=400 future=100 **\n",
        "\n",
        "F1:        0.37  +/- 0.17\n",
        "Accuracy:  0.80  +/- 0.07\n",
        "Precision: 0.53  +/- 0.19\n",
        "Recall:    0.32  +/- 0.18\n",
        "\n",
        "Aggregate Confusion Matrix - 100 iterations\n",
        "[[7250  618]\n",
        " [1379  753]]\n",
        "\n",
        "\n",
        "** Predictions for hist=400 future=300 **"
       ]
      },
      {
       "output_type": "stream",
       "stream": "stdout",
       "text": [
        "\n",
        "\n",
        "F1:        0.38  +/- 0.14\n",
        "Accuracy:  0.79  +/- 0.05\n",
        "Precision: 0.52  +/- 0.15\n",
        "Recall:    0.32  +/- 0.15\n",
        "\n",
        "Aggregate Confusion Matrix - 100 iterations\n",
        "[[21372  2050]\n",
        " [ 4221  2357]]\n",
        "\n",
        "\n",
        "** Predictions for hist=400 future=400 **"
       ]
      },
      {
       "output_type": "stream",
       "stream": "stdout",
       "text": [
        "\n",
        "\n",
        "F1:        0.36  +/- 0.14\n",
        "Accuracy:  0.81  +/- 0.05\n",
        "Precision: 0.49  +/- 0.14\n",
        "Recall:    0.31  +/- 0.16\n",
        "\n",
        "Aggregate Confusion Matrix - 100 iterations\n",
        "[[29399  2551]\n",
        " [ 5235  2815]]\n",
        "\n",
        "\n",
        "** Predictions for hist=400 future=500 **"
       ]
      },
      {
       "output_type": "stream",
       "stream": "stdout",
       "text": [
        "\n",
        "\n",
        "F1:        0.41  +/- 0.12\n",
        "Accuracy:  0.79  +/- 0.05\n",
        "Precision: 0.53  +/- 0.13\n",
        "Recall:    0.35  +/- 0.13\n",
        "\n",
        "Aggregate Confusion Matrix - 100 iterations\n",
        "[[35410  3471]\n",
        " [ 6875  4244]]\n",
        "\n",
        "\n",
        "** Predictions for hist=500 future=100 **"
       ]
      },
      {
       "output_type": "stream",
       "stream": "stdout",
       "text": [
        "\n",
        "\n",
        "F1:        0.38  +/- 0.17\n",
        "Accuracy:  0.80  +/- 0.06\n",
        "Precision: 0.53  +/- 0.19\n",
        "Recall:    0.33  +/- 0.18\n",
        "\n",
        "Aggregate Confusion Matrix - 100 iterations\n",
        "[[7236  613]\n",
        " [1358  793]]\n",
        "\n",
        "\n",
        "** Predictions for hist=500 future=300 **"
       ]
      },
      {
       "output_type": "stream",
       "stream": "stdout",
       "text": [
        "\n",
        "\n",
        "F1:        0.39  +/- 0.13\n",
        "Accuracy:  0.80  +/- 0.05\n",
        "Precision: 0.54  +/- 0.13\n",
        "Recall:    0.33  +/- 0.14\n",
        "\n",
        "Aggregate Confusion Matrix - 100 iterations\n",
        "[[21686  1890]\n",
        " [ 4093  2331]]\n",
        "\n",
        "\n",
        "** Predictions for hist=500 future=400 **"
       ]
      },
      {
       "output_type": "stream",
       "stream": "stdout",
       "text": [
        "\n",
        "\n",
        "F1:        0.39  +/- 0.15\n",
        "Accuracy:  0.80  +/- 0.05\n",
        "Precision: 0.53  +/- 0.14\n",
        "Recall:    0.34  +/- 0.16\n",
        "\n",
        "Aggregate Confusion Matrix - 100 iterations\n",
        "[[28679  2697]\n",
        " [ 5393  3231]]\n",
        "\n",
        "\n",
        "** Predictions for hist=500 future=500 **"
       ]
      },
      {
       "output_type": "stream",
       "stream": "stdout",
       "text": [
        "\n",
        "\n",
        "F1:        0.39  +/- 0.13\n",
        "Accuracy:  0.80  +/- 0.05\n",
        "Precision: 0.53  +/- 0.11\n",
        "Recall:    0.34  +/- 0.15\n",
        "\n",
        "Aggregate Confusion Matrix - 100 iterations\n",
        "[[36097  3281]\n",
        " [ 6719  3903]]\n",
        "\n",
        "\n",
        "** Predictions for hist=1000 future=100 **"
       ]
      },
      {
       "output_type": "stream",
       "stream": "stdout",
       "text": [
        "\n",
        "\n",
        "F1:        0.40  +/- 0.17\n",
        "Accuracy:  0.80  +/- 0.07\n",
        "Precision: 0.54  +/- 0.20\n",
        "Recall:    0.33  +/- 0.17\n",
        "\n",
        "Aggregate Confusion Matrix - 100 iterations\n",
        "[[7144  607]\n",
        " [1414  835]]\n",
        "\n",
        "\n",
        "** Predictions for hist=1000 future=300 **"
       ]
      },
      {
       "output_type": "stream",
       "stream": "stdout",
       "text": [
        "\n",
        "\n",
        "F1:        0.41  +/- 0.14\n",
        "Accuracy:  0.81  +/- 0.05\n",
        "Precision: 0.56  +/- 0.12\n",
        "Recall:    0.34  +/- 0.15\n",
        "\n",
        "Aggregate Confusion Matrix - 100 iterations\n",
        "[[21799  1810]\n",
        " [ 3928  2463]]\n",
        "\n",
        "\n",
        "** Predictions for hist=1000 future=400 **"
       ]
      },
      {
       "output_type": "stream",
       "stream": "stdout",
       "text": [
        "\n",
        "\n",
        "F1:        0.40  +/- 0.12\n",
        "Accuracy:  0.82  +/- 0.05\n",
        "Precision: 0.55  +/- 0.10\n",
        "Recall:    0.33  +/- 0.13\n",
        "\n",
        "Aggregate Confusion Matrix - 100 iterations\n",
        "[[29912  2187]\n",
        " [ 5009  2892]]\n",
        "\n",
        "\n",
        "** Predictions for hist=1000 future=500 **"
       ]
      },
      {
       "output_type": "stream",
       "stream": "stdout",
       "text": [
        "\n",
        "\n",
        "F1:        0.43  +/- 0.11\n",
        "Accuracy:  0.81  +/- 0.05\n",
        "Precision: 0.56  +/- 0.09\n",
        "Recall:    0.37  +/- 0.13\n",
        "\n",
        "Aggregate Confusion Matrix - 100 iterations\n",
        "[[36078  3170]\n",
        " [ 6446  4306]]\n",
        "\n",
        "\n"
       ]
      },
      {
       "output_type": "stream",
       "stream": "stderr",
       "text": [
        "/Users/doug/anaconda/lib/python2.7/site-packages/sklearn/metrics/classification.py:958: UndefinedMetricWarning: Precision is ill-defined and being set to 0.0 due to no predicted samples.\n",
        "  'precision', 'predicted', average, warn_for)\n"
       ]
      }
     ],
     "prompt_number": 11
    },
    {
     "cell_type": "code",
     "collapsed": false,
     "input": [
      "AB_clf = clf"
     ],
     "language": "python",
     "metadata": {},
     "outputs": [],
     "prompt_number": 12
    }
   ],
   "metadata": {}
  }
 ]
}