{
 "cells": [
  {
   "cell_type": "code",
   "execution_count": 1,
   "metadata": {
    "collapsed": false
   },
   "outputs": [],
   "source": [
    "%matplotlib inline\n",
    "from pprint import pprint\n",
    "from collections import defaultdict\n",
    "\n",
    "import numpy as np\n",
    "import math\n",
    "import matplotlib.pyplot as plt\n",
    "import random\n",
    "import warnings\n",
    "\n",
    "import sklearn.tree\n",
    "import sklearn.ensemble\n",
    "\n",
    "from sklearn.grid_search import GridSearchCV\n",
    "from sklearn import metrics\n",
    "\n",
    "import sys\n",
    "sys.path.append('../dev')\n",
    "\n",
    "from ml_plot import plot_validation_curve\n",
    "from ml_plot import PredictCV, my_plot_learning_curve\n",
    "from ml_plot import plot_prediction_curve\n",
    "from ml_plot import get_dataset, eval_predictions"
   ]
  },
  {
   "cell_type": "markdown",
   "metadata": {},
   "source": [
    "# Configuration"
   ]
  },
  {
   "cell_type": "code",
   "execution_count": 2,
   "metadata": {
    "collapsed": false
   },
   "outputs": [],
   "source": [
    "# PROJECT = 'nova'\n",
    "# PROJECT = 'swift'\n",
    "# PROJECT = 'cinder'\n",
    "PROJECT = 'heat'\n",
    "# PROJECT = 'glance'\n",
    "\n",
    "# IMPORTANCE = 'crit'\n",
    "# IMPORTANCE = 'high+'\n",
    "IMPORTANCE = 'med+'\n",
    "# IMPORTANCE = 'low+'\n",
    "\n",
    "# SIZE = 100\n",
    "#SIZE = 250\n",
    "# SIZE = 0.1\n",
    "SIZE = 0.5\n",
    "\n",
    "SCORING = 'f1'         # (precision * recall) / (precision + recall)\n",
    "# SCORING = 'accuracy'   # (TP + TN) / all values\n",
    "# SCORING = 'precision'  # TP / (TP + FP)\n",
    "# SCORING = 'recall'     # TP / (TP + FN)\n",
    "# SCORING = 'average_precision'\n",
    "# SCORING = 'roc_auc'\n",
    "\n",
    "JOBS = 4\n",
    "\n",
    "VERBOSE = 0\n",
    "\n",
    "#warnings.simplefilter(\"ignore\", UndefinedMetricWarning)\n",
    "warnings.filterwarnings('ignore', 'F-score is ill-defined')\n",
    "warnings.filterwarnings('ignore', 'overflow encountered in exp')"
   ]
  },
  {
   "cell_type": "markdown",
   "metadata": {},
   "source": [
    "# Load Data"
   ]
  },
  {
   "cell_type": "code",
   "execution_count": 3,
   "metadata": {
    "collapsed": false
   },
   "outputs": [],
   "source": [
    "%%capture\n",
    "Y, X = get_dataset(PROJECT, IMPORTANCE)"
   ]
  },
  {
   "cell_type": "markdown",
   "metadata": {},
   "source": [
    "### Select Split Strategy"
   ]
  },
  {
   "cell_type": "code",
   "execution_count": 4,
   "metadata": {
    "collapsed": false
   },
   "outputs": [],
   "source": [
    "#cv = PredictCV(len(Y), history=500, future=300, n_iter=10)\n",
    "cv = PredictCV(len(Y), history=500, future=300, n_iter=100)"
   ]
  },
  {
   "cell_type": "markdown",
   "metadata": {},
   "source": [
    "# AdaBoost  Classifier"
   ]
  },
  {
   "cell_type": "code",
   "execution_count": 5,
   "metadata": {
    "collapsed": false
   },
   "outputs": [],
   "source": [
    "estimator = sklearn.ensemble.AdaBoostClassifier()\n",
    "param_grid = {'learning_rate': [0.25, 0.5, 1.0, 1.25, 1.5, 1.75, 2.0],\n",
    "              'n_estimators': [15, 25, 50],\n",
    "               'algorithm': ['SAMME', 'SAMME.R'] }"
   ]
  },
  {
   "cell_type": "code",
   "execution_count": 6,
   "metadata": {
    "collapsed": false
   },
   "outputs": [
    {
     "name": "stdout",
     "output_type": "stream",
     "text": [
      "best_score:  0.451378043598\n"
     ]
    },
    {
     "data": {
      "text/plain": [
       "AdaBoostClassifier(algorithm='SAMME.R', base_estimator=None,\n",
       "          learning_rate=2.0, n_estimators=25, random_state=None)"
      ]
     },
     "execution_count": 6,
     "metadata": {},
     "output_type": "execute_result"
    }
   ],
   "source": [
    "grid = GridSearchCV(estimator, param_grid=param_grid, cv=cv, scoring=SCORING,\n",
    "                    n_jobs=JOBS, pre_dispatch=2*JOBS, verbose=VERBOSE)\n",
    "# grid.fit(X_train, Y_train)\n",
    "grid.fit(X, Y)\n",
    "print 'best_score: ', grid.best_score_\n",
    "clf = grid.best_estimator_\n",
    "grid.best_estimator_"
   ]
  },
  {
   "cell_type": "markdown",
   "metadata": {},
   "source": [
    "### Validation Curves"
   ]
  },
  {
   "cell_type": "code",
   "execution_count": 7,
   "metadata": {
    "collapsed": false
   },
   "outputs": [
    {
     "data": {
      "image/png": "[encoded data removed]",
      "text/plain": [
       "<matplotlib.figure.Figure at 0x103a0d210>"
      ]
     },
     "metadata": {},
     "output_type": "display_data"
    },
    {
     "name": "stdout",
     "output_type": "stream",
     "text": [
      "Best score of 0.456861109473 when setting learning_rate to 2.0\n"
     ]
    }
   ],
   "source": [
    "best_score, param_val, param_name = \\\n",
    "    plot_validation_curve(clf,\n",
    "                          X, Y,\n",
    "                          \"learning_rate\", [0.25, 0.5, 1.0, 1.25, 1.5, 1.75, 2.0],\n",
    "                          \"learning_rate Validation Curve\",\n",
    "                          cv=cv, scoring=SCORING, n_jobs=JOBS)\n",
    "print 'Best score of', best_score, 'when setting', param_name, 'to',  param_val"
   ]
  },
  {
   "cell_type": "code",
   "execution_count": 8,
   "metadata": {
    "collapsed": false
   },
   "outputs": [
    {
     "data": {
      "image/png": "[encoded data removed]",
      "text/plain": [
       "<matplotlib.figure.Figure at 0x103a0d210>"
      ]
     },
     "metadata": {},
     "output_type": "display_data"
    },
    {
     "name": "stdout",
     "output_type": "stream",
     "text": [
      "Best score of 0.446226772698 when setting n_estimators to 21\n"
     ]
    }
   ],
   "source": [
    "best_score, param_val, param_name = \\\n",
    "    plot_validation_curve(clf,\n",
    "                          X, Y,\n",
    "                          \"n_estimators\", [9, 15, 21, 25, 50, 100],\n",
    "                          \"n_estimators Validation Curve\",\n",
    "                          cv=cv, scoring=SCORING, n_jobs=JOBS)\n",
    "print 'Best score of', best_score, 'when setting', param_name, 'to',  param_val"
   ]
  },
  {
   "cell_type": "markdown",
   "metadata": {},
   "source": [
    "### Learning Curve"
   ]
  },
  {
   "cell_type": "code",
   "execution_count": 9,
   "metadata": {
    "collapsed": false
   },
   "outputs": [
    {
     "data": {
      "image/png": "[encoded data removed]",
      "text/plain": [
       "<matplotlib.figure.Figure at 0x126899d50>"
      ]
     },
     "metadata": {},
     "output_type": "display_data"
    }
   ],
   "source": [
    "title = \"Learning Curves for AdaBoost using DecisionTreeClassifier\"\n",
    "my_plot_learning_curve(clf, title, X, Y,\n",
    "                           n_jobs=JOBS, future=500,\n",
    "                           history_sizes=[100, 200, 300, 400, 500, 750, 1000],\n",
    "                           n_iter=100)\n",
    "plt.show()"
   ]
  },
  {
   "cell_type": "markdown",
   "metadata": {},
   "source": [
    "### Prediction Curve"
   ]
  },
  {
   "cell_type": "code",
   "execution_count": 10,
   "metadata": {
    "collapsed": false
   },
   "outputs": [
    {
     "data": {
      "image/png": "[encoded data removed]",
      "text/plain": [
       "<matplotlib.figure.Figure at 0x129ad0910>"
      ]
     },
     "metadata": {},
     "output_type": "display_data"
    }
   ],
   "source": [
    "title = \"Prediction Horizon Curve for Adaboost with DecisionTreeClassifier\"\n",
    "plot_prediction_curve(clf, title, X, Y,\n",
    "                           n_jobs=JOBS, history=500,\n",
    "                           future_sizes=[100, 200, 300, 500], n_iter=100)\n",
    "plt.show()"
   ]
  },
  {
   "cell_type": "code",
   "execution_count": 11,
   "metadata": {
    "collapsed": false
   },
   "outputs": [
    {
     "name": "stdout",
     "output_type": "stream",
     "text": [
      "** Predictions for hist=400 future=100 **\n",
      "\n",
      "F1:        0.43  +/- 0.17\n",
      "Accuracy:  0.71  +/- 0.10\n",
      "Precision: 0.45  +/- 0.19\n",
      "Recall:    0.45  +/- 0.23\n",
      "\n",
      "Aggregate Confusion Matrix - 100 iterations\n",
      "[[5814 1422]\n",
      " [1434 1330]]\n",
      "\n",
      "\n",
      "** Predictions for hist=400 future=300 **\n",
      "\n",
      "F1:        0.46  +/- 0.11\n",
      "Accuracy:  0.72  +/- 0.08\n",
      "Precision: 0.47  +/- 0.10\n",
      "Recall:    0.49  +/- 0.17\n",
      "\n",
      "Aggregate Confusion Matrix - 100 iterations\n",
      "[[17592  4441]\n",
      " [ 3853  4114]]\n",
      "\n",
      "\n",
      "** Predictions for hist=400 future=400 **\n",
      "\n",
      "F1:        0.47  +/- 0.10\n",
      "Accuracy:  0.72  +/- 0.07\n",
      "Precision: 0.45  +/- 0.09\n",
      "Recall:    0.51  +/- 0.14\n",
      "\n",
      "Aggregate Confusion Matrix - 100 iterations\n",
      "[[23083  6359]\n",
      " [ 4906  5652]]\n",
      "\n",
      "\n",
      "** Predictions for hist=400 future=500 **\n",
      "\n",
      "F1:        0.48  +/- 0.09\n",
      "Accuracy:  0.70  +/- 0.06\n",
      "Precision: 0.46  +/- 0.09\n",
      "Recall:    0.53  +/- 0.14\n",
      "\n",
      "Aggregate Confusion Matrix - 100 iterations\n",
      "[[27346  8829]\n",
      " [ 6218  7607]]\n",
      "\n",
      "\n",
      "** Predictions for hist=500 future=100 **\n",
      "\n",
      "F1:        0.40  +/- 0.20\n",
      "Accuracy:  0.74  +/- 0.08\n",
      "Precision: 0.42  +/- 0.21\n",
      "Recall:    0.41  +/- 0.23\n",
      "\n",
      "Aggregate Confusion Matrix - 100 iterations\n",
      "[[6330 1151]\n",
      " [1408 1111]]\n",
      "\n",
      "\n",
      "** Predictions for hist=500 future=300 **\n",
      "\n",
      "F1:        0.42  +/- 0.15\n",
      "Accuracy:  0.73  +/- 0.06\n",
      "Precision: 0.43  +/- 0.15\n",
      "Recall:    0.43  +/- 0.17\n",
      "\n",
      "Aggregate Confusion Matrix - 100 iterations\n",
      "[[18338  3849]\n",
      " [ 4224  3589]]\n",
      "\n",
      "\n",
      "** Predictions for hist=500 future=400 **\n",
      "\n",
      "F1:        0.46  +/- 0.14\n",
      "Accuracy:  0.71  +/- 0.05\n",
      "Precision: 0.45  +/- 0.13\n",
      "Recall:    0.48  +/- 0.16\n",
      "\n",
      "Aggregate Confusion Matrix - 100 iterations\n",
      "[[22989  5842]\n",
      " [ 5582  5587]]\n",
      "\n",
      "\n",
      "** Predictions for hist=500 future=500 **\n",
      "\n",
      "F1:        0.45  +/- 0.13\n",
      "Accuracy:  0.72  +/- 0.04\n",
      "Precision: 0.43  +/- 0.12\n",
      "Recall:    0.47  +/- 0.14\n",
      "\n",
      "Aggregate Confusion Matrix - 100 iterations\n",
      "[[29958  7246]\n",
      " [ 6518  6278]]\n",
      "\n",
      "\n",
      "** Predictions for hist=1000 future=100 **\n",
      "\n",
      "F1:        0.35  +/- 0.21\n",
      "Accuracy:  0.76  +/- 0.09\n",
      "Precision: 0.33  +/- 0.19\n",
      "Recall:    0.40  +/- 0.24\n",
      "\n",
      "Aggregate Confusion Matrix - 100 iterations\n",
      "[[6702 1233]\n",
      " [1137  928]]\n",
      "\n",
      "\n",
      "** Predictions for hist=1000 future=300 **\n",
      "\n",
      "F1:        0.46  +/- 0.07\n",
      "Accuracy:  0.74  +/- 0.06\n",
      "Precision: 0.42  +/- 0.07\n",
      "Recall:    0.51  +/- 0.09\n",
      "\n",
      "Aggregate Confusion Matrix - 100 iterations\n",
      "[[18540  4748]\n",
      " [ 3133  3579]]\n",
      "\n",
      "\n",
      "** Predictions for hist=1000 future=400 **\n",
      "\n",
      "F1:        0.47  +/- 0.07\n",
      "Accuracy:  0.73  +/- 0.04\n",
      "Precision: 0.42  +/- 0.06\n",
      "Recall:    0.53  +/- 0.09\n",
      "\n",
      "Aggregate Confusion Matrix - 100 iterations\n",
      "[[24262  6538]\n",
      " [ 4197  5003]]\n",
      "\n",
      "\n",
      "** Predictions for hist=1000 future=500 **\n",
      "\n",
      "F1:        0.46  +/- 0.06\n",
      "Accuracy:  0.73  +/- 0.04\n",
      "Precision: 0.41  +/- 0.05\n",
      "Recall:    0.53  +/- 0.08\n",
      "\n",
      "Aggregate Confusion Matrix - 100 iterations\n",
      "[[30129  8610]\n",
      " [ 5130  6131]]\n",
      "\n",
      "\n"
     ]
    },
    {
     "name": "stderr",
     "output_type": "stream",
     "text": [
      "/Users/doug/anaconda/lib/python2.7/site-packages/sklearn/metrics/metrics.py:1771: UndefinedMetricWarning: Precision is ill-defined and being set to 0.0 due to no predicted samples.\n",
      "  'precision', 'predicted', average, warn_for)\n"
     ]
    }
   ],
   "source": [
    "AB_results = eval_predictions(clf, X, Y, history_sizes=[400, 500, 1000], future_sizes=[100, 300, 400, 500], n_iter=100)"
   ]
  },
  {
   "cell_type": "code",
   "execution_count": 12,
   "metadata": {
    "collapsed": false
   },
   "outputs": [],
   "source": [
    "AB_clf = clf"
   ]
  }
 ],
 "metadata": {
  "kernelspec": {
   "display_name": "Python 2",
   "language": "python",
   "name": "python2"
  },
  "language_info": {
   "codemirror_mode": {
    "name": "ipython",
    "version": 2
   },
   "file_extension": ".py",
   "mimetype": "text/x-python",
   "name": "python",
   "nbconvert_exporter": "python",
   "pygments_lexer": "ipython2",
   "version": "2.7.9"
  }
 },
 "nbformat": 4,
 "nbformat_minor": 0
}
