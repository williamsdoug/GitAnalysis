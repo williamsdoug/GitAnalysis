{
 "cells": [
  {
   "cell_type": "code",
   "execution_count": 1,
   "metadata": {
    "collapsed": false
   },
   "outputs": [],
   "source": [
    "%matplotlib inline\n",
    "from pprint import pprint\n",
    "from collections import defaultdict\n",
    "\n",
    "import numpy as np\n",
    "import math\n",
    "import matplotlib.pyplot as plt\n",
    "import warnings\n",
    "\n",
    "import sklearn.linear_model\n",
    "\n",
    "from sklearn.grid_search import GridSearchCV\n",
    "from sklearn import metrics\n",
    "\n",
    "from sklearn.learning_curve import learning_curve\n",
    "from sklearn.learning_curve import validation_curve\n",
    "\n",
    "import sys\n",
    "sys.path.append('../dev')\n",
    "from ml_plot import plot_validation_curve\n",
    "from ml_plot import PredictCV, my_plot_learning_curve\n",
    "from ml_plot import plot_prediction_curve\n",
    "from ml_plot import get_dataset, eval_predictions"
   ]
  },
  {
   "cell_type": "markdown",
   "metadata": {},
   "source": [
    "# Configuration"
   ]
  },
  {
   "cell_type": "code",
   "execution_count": 2,
   "metadata": {
    "collapsed": false
   },
   "outputs": [],
   "source": [
    "# PROJECT = 'nova'\n",
    "# PROJECT = 'swift'\n",
    "# PROJECT = 'cinder'\n",
    "PROJECT = 'heat'\n",
    "# PROJECT = 'glance'\n",
    "\n",
    "# IMPORTANCE = 'crit'\n",
    "# IMPORTANCE = 'high+'\n",
    "IMPORTANCE = 'med+'\n",
    "# IMPORTANCE = 'low+'\n",
    "\n",
    "# SIZE = 100\n",
    "#SIZE = 250\n",
    "# SIZE = 0.1\n",
    "SIZE = 0.5\n",
    "\n",
    "SCORING = 'f1'         # (precision * recall) / (precision + recall)\n",
    "# SCORING = 'accuracy'   # (TP + TN) / all values\n",
    "# SCORING = 'precision'  # TP / (TP + FP)\n",
    "# SCORING = 'recall'     # TP / (TP + FN)\n",
    "# SCORING = 'average_precision'\n",
    "# SCORING = 'roc_auc'\n",
    "\n",
    "JOBS = 1\n",
    "VERBOSE = 0\n",
    "\n",
    "warnings.filterwarnings(\"ignore\", 'F-score is ill-defined')"
   ]
  },
  {
   "cell_type": "markdown",
   "metadata": {},
   "source": [
    "# Load Data"
   ]
  },
  {
   "cell_type": "code",
   "execution_count": 3,
   "metadata": {
    "collapsed": false
   },
   "outputs": [
    {
     "name": "stdout",
     "output_type": "stream",
     "text": [
      "loading bug data\n",
      "  total LP bugs: 1388\n",
      "  Entries annotated: 536\n",
      "loading Git commit data\n",
      "  total git_commits: 7566\n",
      "  bug fix commits: 1353\n",
      "  commits with change_id: 4084\n",
      "  bug fix with change_id: 1353\n",
      "loading change data\n",
      "  total gerrit changes with detail: 4126\n",
      "  all_change_details: 4126\n",
      "  total gerrit changes: 4132\n",
      "  all_changes: 4132\n",
      "combined_commits: 7566\n",
      "Determining legacy cut-off\n",
      "  Warning: Transition Overlap: 174 days, 7:48:19\n",
      "  Setting cutoff to: 12/11/2012\n",
      "Collecting data on commits with bug fixes\n",
      "  Mainline Commits ignored due to legacy: 995  out of: 4507\n",
      "  Total commite requiring blame computation: 1113\n",
      "\n",
      "Computing Blame\n",
      "Loaded blame\n",
      "  Initial Blame cache size: 826\n",
      "  bug fix commits: 1113\n",
      ". . . . . . . . . . 100 . . . . . . . . . . 200 . . . . . . . . . . 300 . . . . . . . . . . 400 . . . . . . . . . . 500 . . . . . . . . . . 600 . . . . . . . . . . 700 . . . . . . . . . . 800 . . . . . . . . . . 900 . . . . . . . . . . 1000 . . . . . . . . . . 1100 .\n",
      "  Saving updated Blame Cache\n",
      "\n",
      "\n",
      "** Warning: Blame entries with missing guilt data: 17\n",
      "Annotating Guilt\n",
      "entries with non-zero guilt:  1718\n",
      "smallest guilt: 0.000143225436838\n",
      "largest guilt: 34.9447764988\n",
      "Identify reachable commits\n",
      "  Loaded cached reachability data\n",
      "  Initial Reachable cache size: 142\n",
      "  Samples: 142\n",
      "  Revised samples: 0\n",
      "\n",
      "  Reachable commits: 2975\n",
      "Annotating lines of code changed\n",
      "  Loaded Lines of Code Changed cache\n",
      "  Initial Lines of Code Changed cache size: 2972\n",
      ". . . . . . . . . . 1000 . . . . . . . . . . 2000 . . . . . . . . .\n",
      "Order range for non-legacy comits\n",
      "  min: 387\n",
      "  max: 2972\n",
      "Setting guilt threshold to: 0.293410258829\n",
      "Labeled bugs: 826  vs Actual bugs: 826\n",
      "Total features: 2374\n",
      "Total feature vectors: 2586\n",
      "  bugs based on threshold: 694\n"
     ]
    }
   ],
   "source": [
    "#%%capture\n",
    "Y, X = get_dataset(PROJECT, IMPORTANCE)"
   ]
  },
  {
   "cell_type": "markdown",
   "metadata": {},
   "source": [
    "### Select Split Strategy"
   ]
  },
  {
   "cell_type": "code",
   "execution_count": 4,
   "metadata": {
    "collapsed": false
   },
   "outputs": [],
   "source": [
    "history_size = 500\n",
    "future_size = 300\n",
    "#future_size = 500"
   ]
  },
  {
   "cell_type": "code",
   "execution_count": 5,
   "metadata": {
    "collapsed": false
   },
   "outputs": [],
   "source": [
    "cv = PredictCV(len(Y), history=history_size, future=future_size, n_iter=100)"
   ]
  },
  {
   "cell_type": "markdown",
   "metadata": {},
   "source": [
    "# Initial Parameter Settings"
   ]
  },
  {
   "cell_type": "code",
   "execution_count": 6,
   "metadata": {
    "collapsed": false
   },
   "outputs": [],
   "source": [
    "estimator = sklearn.linear_model.SGDClassifier(class_weight='auto', alpha=0.005,\n",
    "       learning_rate='optimal', loss='log', n_iter=400, n_jobs=1,\n",
    "       shuffle=True, verbose=0)"
   ]
  },
  {
   "cell_type": "code",
   "execution_count": 7,
   "metadata": {
    "collapsed": false
   },
   "outputs": [],
   "source": [
    "n_iter = np.ceil(10**6 / history_size)  # see rule of thumb in section 1.3.5 of http://scikit-learn.org/stable/modules/sgd.html"
   ]
  },
  {
   "cell_type": "code",
   "execution_count": 8,
   "metadata": {
    "collapsed": false
   },
   "outputs": [
    {
     "name": "stdout",
     "output_type": "stream",
     "text": [
      "best_score:  0.404787098978\n"
     ]
    },
    {
     "data": {
      "text/plain": [
       "SGDClassifier(alpha=0.01, class_weight='auto', epsilon=0.1, eta0=0.0,\n",
       "       fit_intercept=True, l1_ratio=0.15, learning_rate='optimal',\n",
       "       loss='hinge', n_iter=400, n_jobs=1, penalty='l2', power_t=0.5,\n",
       "       random_state=None, shuffle=True, verbose=0, warm_start=False)"
      ]
     },
     "execution_count": 8,
     "metadata": {},
     "output_type": "execute_result"
    }
   ],
   "source": [
    "alpha_range = 10.0 ** np.arange(-7, -1)\n",
    "param_grid = dict(alpha=alpha_range, class_weight=['auto'], \n",
    "                  loss=['hinge', 'log', 'modified_huber', 'perceptron'], #'squared_hinge']\n",
    "                  #eta0=[0.5, 0.1, 0.05, 0.01],\n",
    "                  #learning_rate=['optimal', 'invscaling', 'constant'],\n",
    "                  n_iter=[400], shuffle=[True])\n",
    "\n",
    "grid = GridSearchCV(estimator, param_grid=param_grid, cv=cv, scoring=SCORING,\n",
    "                    n_jobs=JOBS, pre_dispatch=2*JOBS,\n",
    "                    verbose=VERBOSE)\n",
    "\n",
    "grid.fit(X, Y)\n",
    "print 'best_score: ', grid.best_score_\n",
    "clf = grid.best_estimator_\n",
    "grid.best_estimator_"
   ]
  },
  {
   "cell_type": "markdown",
   "metadata": {},
   "source": [
    "# Validation Curves Example"
   ]
  },
  {
   "cell_type": "markdown",
   "metadata": {},
   "source": [
    "### Impact of Gamma"
   ]
  },
  {
   "cell_type": "code",
   "execution_count": 9,
   "metadata": {
    "collapsed": false
   },
   "outputs": [
    {
     "data": {
      "image/png": "[encoded data removed]",
      "text/plain": [
       "<matplotlib.figure.Figure at 0x1028374d0>"
      ]
     },
     "metadata": {},
     "output_type": "display_data"
    }
   ],
   "source": [
    "best_score, param_val, param_name = \\\n",
    "    plot_validation_curve(clf, X, Y, \"alpha\", alpha_range,\n",
    "                      \"Alpha Validation Curve with SVC\",\n",
    "                      cv=cv, scoring=SCORING, n_jobs=JOBS)"
   ]
  },
  {
   "cell_type": "code",
   "execution_count": 10,
   "metadata": {
    "collapsed": false
   },
   "outputs": [
    {
     "data": {
      "image/png": "[encoded data removed]",
      "text/plain": [
       "<matplotlib.figure.Figure at 0x1278bf650>"
      ]
     },
     "metadata": {},
     "output_type": "display_data"
    },
    {
     "data": {
      "text/plain": [
       "SGDClassifier(alpha=0.059948425031894091, class_weight='auto', epsilon=0.1,\n",
       "       eta0=0.0, fit_intercept=True, l1_ratio=0.15,\n",
       "       learning_rate='optimal', loss='hinge', n_iter=400, n_jobs=1,\n",
       "       penalty='l2', power_t=0.5, random_state=None, shuffle=True,\n",
       "       verbose=0, warm_start=False)"
      ]
     },
     "execution_count": 10,
     "metadata": {},
     "output_type": "execute_result"
    }
   ],
   "source": [
    "param_log10 = math.log10(param_val)\n",
    "best_score, param_val, param_name = \\\n",
    "    plot_validation_curve(clf, X, Y, param_name, np.logspace(param_log10 - 1, param_log10 + 1, 10),\n",
    "                      \"Alpha Validation Curve with SVC\",\n",
    "                      cv=cv, scoring=SCORING, n_jobs=JOBS)\n",
    "clf.set_params(**dict([[param_name, param_val]]))\n",
    "clf"
   ]
  },
  {
   "cell_type": "markdown",
   "metadata": {},
   "source": [
    "# Learning Curve"
   ]
  },
  {
   "cell_type": "code",
   "execution_count": 11,
   "metadata": {
    "collapsed": false
   },
   "outputs": [
    {
     "data": {
      "image/png": "[encoded data removed]",
      "text/plain": [
       "<matplotlib.figure.Figure at 0x12788c550>"
      ]
     },
     "metadata": {},
     "output_type": "display_data"
    }
   ],
   "source": [
    "title = \"Learning Curves\"\n",
    "my_plot_learning_curve(clf, title, X, Y,\n",
    "                           n_jobs=JOBS, future=100,\n",
    "                           history_sizes=[100, 200, 300, 500, 700, 1000], n_iter=100)\n",
    "plt.show()"
   ]
  },
  {
   "cell_type": "markdown",
   "metadata": {},
   "source": [
    "# Prediction Curve"
   ]
  },
  {
   "cell_type": "code",
   "execution_count": 12,
   "metadata": {
    "collapsed": false
   },
   "outputs": [
    {
     "data": {
      "text/plain": [
       "<module 'matplotlib.pyplot' from '/Users/doug/anaconda/lib/python2.7/site-packages/matplotlib/pyplot.pyc'>"
      ]
     },
     "execution_count": 12,
     "metadata": {},
     "output_type": "execute_result"
    },
    {
     "data": {
      "image/png": "[encoded data removed]",
      "text/plain": [
       "<matplotlib.figure.Figure at 0x12a667c50>"
      ]
     },
     "metadata": {},
     "output_type": "display_data"
    }
   ],
   "source": [
    "title = \"Prediction Horizon Curve for SGD Classifier\"\n",
    "plot_prediction_curve(clf, title, X, Y,\n",
    "                           n_jobs=JOBS, history=500,\n",
    "                           future_sizes=[100, 200, 300, 500], n_iter=100)"
   ]
  },
  {
   "cell_type": "code",
   "execution_count": 13,
   "metadata": {
    "collapsed": false
   },
   "outputs": [
    {
     "name": "stdout",
     "output_type": "stream",
     "text": [
      "** Predictions for hist=500 future=100 **\n",
      "\n",
      "F1:        0.42  +/- 0.09\n",
      "Accuracy:  0.65  +/- 0.07\n",
      "Precision: 0.43  +/- 0.18\n",
      "Recall:    0.48  +/- 0.14\n",
      "\n",
      "Aggregate Confusion Matrix - 100 iterations\n",
      "[[5112 1984]\n",
      " [1526 1378]]\n",
      "\n",
      "\n",
      "** Predictions for hist=500 future=500 **\n",
      "\n",
      "F1:        0.40  +/- 0.07\n",
      "Accuracy:  0.64  +/- 0.04\n",
      "Precision: 0.39  +/- 0.12\n",
      "Recall:    0.50  +/- 0.17\n",
      "\n",
      "Aggregate Confusion Matrix - 100 iterations\n",
      "[[25452 11205]\n",
      " [ 7044  6299]]\n",
      "\n",
      "\n",
      "** Predictions for hist=1000 future=100 **\n",
      "\n",
      "F1:        0.39  +/- 0.10\n",
      "Accuracy:  0.65  +/- 0.07\n",
      "Precision: 0.33  +/- 0.10\n",
      "Recall:    0.57  +/- 0.21\n",
      "\n",
      "Aggregate Confusion Matrix - 100 iterations\n",
      "[[5288 2463]\n",
      " [1026 1223]]\n",
      "\n",
      "\n",
      "** Predictions for hist=1000 future=500 **\n",
      "\n",
      "F1:        0.39  +/- 0.05\n",
      "Accuracy:  0.64  +/- 0.04\n",
      "Precision: 0.33  +/- 0.06\n",
      "Recall:    0.54  +/- 0.15\n",
      "\n",
      "Aggregate Confusion Matrix - 100 iterations\n",
      "[[26314 12392]\n",
      " [ 5421  5873]]\n",
      "\n",
      "\n"
     ]
    }
   ],
   "source": [
    "SGD_results = eval_predictions(clf, X, Y, history_sizes=[500, 1000], future_sizes=[100, 500], n_iter=100)"
   ]
  },
  {
   "cell_type": "code",
   "execution_count": null,
   "metadata": {
    "collapsed": true
   },
   "outputs": [],
   "source": []
  }
 ],
 "metadata": {
  "kernelspec": {
   "display_name": "Python 2",
   "language": "python",
   "name": "python2"
  },
  "language_info": {
   "codemirror_mode": {
    "name": "ipython",
    "version": 2
   },
   "file_extension": ".py",
   "mimetype": "text/x-python",
   "name": "python",
   "nbconvert_exporter": "python",
   "pygments_lexer": "ipython2",
   "version": "2.7.9"
  }
 },
 "nbformat": 4,
 "nbformat_minor": 0
}
