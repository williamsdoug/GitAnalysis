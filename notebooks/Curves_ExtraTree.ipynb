{
 "cells": [
  {
   "cell_type": "code",
   "execution_count": 1,
   "metadata": {
    "collapsed": false
   },
   "outputs": [],
   "source": [
    "%matplotlib inline\n",
    "from pprint import pprint\n",
    "from collections import defaultdict\n",
    "\n",
    "import numpy as np\n",
    "import math\n",
    "import matplotlib.pyplot as plt\n",
    "import random\n",
    "import warnings\n",
    "\n",
    "#from sklearn.linear_model import LogisticRegression\n",
    "#from sklearn.svm import SVC\n",
    "#from sklearn.naive_bayes import GaussianNB\n",
    "#from sklearn.linear_model import SGDClassifier\n",
    "import sklearn.tree\n",
    "import sklearn.ensemble\n",
    "\n",
    "from sklearn.grid_search import GridSearchCV\n",
    "from sklearn import metrics\n",
    "\n",
    "import sys\n",
    "sys.path.append('../dev')\n",
    "\n",
    "from ml_plot import plot_validation_curve\n",
    "from ml_plot import PredictCV, my_plot_learning_curve\n",
    "from ml_plot import plot_prediction_curve\n",
    "from ml_plot import get_dataset, eval_predictions"
   ]
  },
  {
   "cell_type": "markdown",
   "metadata": {},
   "source": [
    "# Configuration"
   ]
  },
  {
   "cell_type": "code",
   "execution_count": 2,
   "metadata": {
    "collapsed": false
   },
   "outputs": [],
   "source": [
    "# PROJECT = 'nova'\n",
    "# PROJECT = 'swift'\n",
    "# PROJECT = 'cinder'\n",
    "PROJECT = 'heat'\n",
    "# PROJECT = 'glance'\n",
    "\n",
    "# IMPORTANCE = 'crit'\n",
    "# IMPORTANCE = 'high+'\n",
    "IMPORTANCE = 'med+'\n",
    "# IMPORTANCE = 'low+'\n",
    "\n",
    "# SIZE = 100\n",
    "#SIZE = 250\n",
    "# SIZE = 0.1\n",
    "SIZE = 0.5\n",
    "\n",
    "SCORING = 'f1'         # (precision * recall) / (precision + recall)\n",
    "# SCORING = 'accuracy'   # (TP + TN) / all values\n",
    "# SCORING = 'precision'  # TP / (TP + FP)\n",
    "# SCORING = 'recall'     # TP / (TP + FN)\n",
    "# SCORING = 'average_precision'\n",
    "# SCORING = 'roc_auc'\n",
    "\n",
    "JOBS = 4\n",
    "\n",
    "VERBOSE = 0\n",
    "\n",
    "#warnings.simplefilter(\"ignore\", UndefinedMetricWarning)\n",
    "warnings.filterwarnings(\"ignore\", 'F-score is ill-defined')"
   ]
  },
  {
   "cell_type": "markdown",
   "metadata": {},
   "source": [
    "# Load Data"
   ]
  },
  {
   "cell_type": "code",
   "execution_count": 3,
   "metadata": {
    "collapsed": false
   },
   "outputs": [],
   "source": [
    "%%capture\n",
    "Y, X = get_dataset(PROJECT, IMPORTANCE)"
   ]
  },
  {
   "cell_type": "markdown",
   "metadata": {},
   "source": [
    "### Select Split Strategy"
   ]
  },
  {
   "cell_type": "code",
   "execution_count": 4,
   "metadata": {
    "collapsed": false
   },
   "outputs": [],
   "source": [
    "cv = PredictCV(len(Y), history=1000, future=500, n_iter=10)"
   ]
  },
  {
   "cell_type": "markdown",
   "metadata": {},
   "source": [
    "# Extra Trees Classifier"
   ]
  },
  {
   "cell_type": "code",
   "execution_count": 5,
   "metadata": {
    "collapsed": false
   },
   "outputs": [],
   "source": [
    "estimator = sklearn.ensemble.ExtraTreesClassifier()\n",
    "param_grid = {'criterion': ['gini', 'entropy'],\n",
    "                  'n_estimators':[5, 7, 10, 11, 13, 15, 17, 19, 23, 25, 29],\n",
    "                  'max_features':['auto', 'log2', 10, 25, 50, 75, 100, 150, 200]  }"
   ]
  },
  {
   "cell_type": "code",
   "execution_count": 6,
   "metadata": {
    "collapsed": false
   },
   "outputs": [
    {
     "name": "stdout",
     "output_type": "stream",
     "text": [
      "best_score:  0.464198015837\n"
     ]
    },
    {
     "data": {
      "text/plain": [
       "ExtraTreesClassifier(bootstrap=False, compute_importances=None,\n",
       "           criterion='entropy', max_depth=None, max_features=200,\n",
       "           max_leaf_nodes=None, min_density=None, min_samples_leaf=1,\n",
       "           min_samples_split=2, n_estimators=23, n_jobs=1, oob_score=False,\n",
       "           random_state=None, verbose=0)"
      ]
     },
     "execution_count": 6,
     "metadata": {},
     "output_type": "execute_result"
    }
   ],
   "source": [
    "grid = GridSearchCV(estimator, param_grid=param_grid, cv=cv, scoring=SCORING,\n",
    "                    n_jobs=JOBS, pre_dispatch=2*JOBS, verbose=VERBOSE)\n",
    "# grid.fit(X_train, Y_train)\n",
    "grid.fit(X, Y)\n",
    "print 'best_score: ', grid.best_score_\n",
    "clf = grid.best_estimator_\n",
    "grid.best_estimator_"
   ]
  },
  {
   "cell_type": "markdown",
   "metadata": {},
   "source": [
    "### Validation Curves"
   ]
  },
  {
   "cell_type": "code",
   "execution_count": 7,
   "metadata": {
    "collapsed": false
   },
   "outputs": [
    {
     "data": {
      "image/png": "[encoded data removed]",
      "text/plain": [
       "<matplotlib.figure.Figure at 0x100728c50>"
      ]
     },
     "metadata": {},
     "output_type": "display_data"
    }
   ],
   "source": [
    "best_score, param_val, param_name = \\\n",
    "    plot_validation_curve(clf,\n",
    "                          # X_train, Y_train,\n",
    "                          X, Y,\n",
    "                          \"max_features\", [10, 25, 50, 75, 100, 125, 150, 200, 250, 300],\n",
    "                          \"max_features Validation Curve\",\n",
    "                          cv=cv, scoring=SCORING, n_jobs=JOBS)"
   ]
  },
  {
   "cell_type": "code",
   "execution_count": 8,
   "metadata": {
    "collapsed": false
   },
   "outputs": [
    {
     "name": "stdout",
     "output_type": "stream",
     "text": [
      "Best score of 0.40237528844 when setting max_features to 200\n"
     ]
    }
   ],
   "source": [
    "print 'Best score of', best_score, 'when setting', param_name, 'to',  param_val"
   ]
  },
  {
   "cell_type": "code",
   "execution_count": 9,
   "metadata": {
    "collapsed": false
   },
   "outputs": [
    {
     "data": {
      "image/png": "[encoded data removed]",
      "text/plain": [
       "<matplotlib.figure.Figure at 0x106726e50>"
      ]
     },
     "metadata": {},
     "output_type": "display_data"
    }
   ],
   "source": [
    "best_score, param_val, param_name = \\\n",
    "    plot_validation_curve(clf,\n",
    "                          # X_train, Y_train,\n",
    "                          X, Y,\n",
    "                          \"n_estimators\", [5, 7, 10, 11, 13, 15, 17, 19, 23, 25, 29],\n",
    "                          \"n_estimators Validation Curve\",\n",
    "                          cv=cv, scoring=SCORING, n_jobs=JOBS, scale='linear')"
   ]
  },
  {
   "cell_type": "code",
   "execution_count": 10,
   "metadata": {
    "collapsed": false
   },
   "outputs": [
    {
     "name": "stdout",
     "output_type": "stream",
     "text": [
      "Best score of 0.361523031143 when setting n_estimators to 15\n"
     ]
    }
   ],
   "source": [
    "print 'Best score of', best_score, 'when setting', param_name, 'to',  param_val"
   ]
  },
  {
   "cell_type": "markdown",
   "metadata": {},
   "source": [
    "### Learning Curve"
   ]
  },
  {
   "cell_type": "code",
   "execution_count": 11,
   "metadata": {
    "collapsed": false
   },
   "outputs": [
    {
     "data": {
      "image/png": "[encoded data removed]",
      "text/plain": [
       "<matplotlib.figure.Figure at 0x11f48a710>"
      ]
     },
     "metadata": {},
     "output_type": "display_data"
    }
   ],
   "source": [
    "title = \"Learning Curves for Extra Trees Classifier\"\n",
    "my_plot_learning_curve(clf, title, X, Y,\n",
    "                           n_jobs=JOBS, future=100,\n",
    "                           history_sizes=[100, 200, 300, 500, 700, 1000])\n",
    "plt.show()"
   ]
  },
  {
   "cell_type": "markdown",
   "metadata": {},
   "source": [
    "### Prediction Curve"
   ]
  },
  {
   "cell_type": "code",
   "execution_count": 12,
   "metadata": {
    "collapsed": false
   },
   "outputs": [
    {
     "data": {
      "image/png": "[encoded data removed]",
      "text/plain": [
       "<matplotlib.figure.Figure at 0x1283b7390>"
      ]
     },
     "metadata": {},
     "output_type": "display_data"
    }
   ],
   "source": [
    "title = \"Prediction Horizon Curve for Extra Trees Classifier\"\n",
    "plot_prediction_curve(clf, title, X, Y,\n",
    "                           n_jobs=JOBS, history=1000,\n",
    "                           future_sizes=[100, 200, 300, 500])\n",
    "plt.show()"
   ]
  },
  {
   "cell_type": "code",
   "execution_count": 13,
   "metadata": {
    "collapsed": false
   },
   "outputs": [
    {
     "name": "stdout",
     "output_type": "stream",
     "text": [
      "** Predictions for hist=300 future=100 **\n",
      "\n",
      "F1:        0.40  +/- 0.12\n",
      "Accuracy:  0.68  +/- 0.04\n",
      "Precision: 0.60  +/- 0.15\n",
      "Recall:    0.32  +/- 0.14\n",
      "\n",
      "Aggregate Confusion Matrix - 10 iterations\n",
      "[[562  76]\n",
      " [246 116]]\n",
      "\n",
      "\n",
      "** Predictions for hist=300 future=200 **\n",
      "\n",
      "F1:        0.33  +/- 0.16\n",
      "Accuracy:  0.71  +/- 0.07\n",
      "Precision: 0.47  +/- 0.20\n",
      "Recall:    0.26  +/- 0.13\n",
      "\n",
      "Aggregate Confusion Matrix - 10 iterations\n",
      "[[1238  158]\n",
      " [ 424  180]]\n",
      "\n",
      "\n",
      "** Predictions for hist=300 future=500 **\n",
      "\n",
      "F1:        0.33  +/- 0.10\n",
      "Accuracy:  0.72  +/- 0.06\n",
      "Precision: 0.43  +/- 0.09\n",
      "Recall:    0.28  +/- 0.12\n",
      "\n",
      "Aggregate Confusion Matrix - 10 iterations\n",
      "[[3198  486]\n",
      " [ 920  396]]\n",
      "\n",
      "\n",
      "** Predictions for hist=500 future=100 **\n",
      "\n",
      "F1:        0.25  +/- 0.18\n",
      "Accuracy:  0.77  +/- 0.06\n",
      "Precision: 0.44  +/- 0.27\n",
      "Recall:    0.19  +/- 0.15\n",
      "\n",
      "Aggregate Confusion Matrix - 10 iterations\n",
      "[[717  45]\n",
      " [182  56]]\n",
      "\n",
      "\n",
      "** Predictions for hist=500 future=200 **\n",
      "\n",
      "F1:        0.40  +/- 0.12\n",
      "Accuracy:  0.72  +/- 0.06\n",
      "Precision: 0.56  +/- 0.17\n",
      "Recall:    0.32  +/- 0.11\n",
      "\n",
      "Aggregate Confusion Matrix - 10 iterations\n",
      "[[1209  147]\n",
      " [ 421  223]]\n",
      "\n",
      "\n",
      "** Predictions for hist=500 future=500 **\n",
      "\n",
      "F1:        0.38  +/- 0.14\n",
      "Accuracy:  0.74  +/- 0.05\n",
      "Precision: 0.46  +/- 0.11\n",
      "Recall:    0.35  +/- 0.17\n",
      "\n",
      "Aggregate Confusion Matrix - 10 iterations\n",
      "[[3190  501]\n",
      " [ 808  501]]\n",
      "\n",
      "\n",
      "** Predictions for hist=700 future=100 **\n",
      "\n",
      "F1:        0.39  +/- 0.09\n",
      "Accuracy:  0.73  +/- 0.08\n",
      "Precision: 0.45  +/- 0.10\n",
      "Recall:    0.35  +/- 0.10\n",
      "\n",
      "Aggregate Confusion Matrix - 10 iterations\n",
      "[[635 112]\n",
      " [159  94]]\n",
      "\n",
      "\n",
      "** Predictions for hist=700 future=200 **\n",
      "\n",
      "F1:        0.24  +/- 0.16\n",
      "Accuracy:  0.77  +/- 0.10\n",
      "Precision: 0.37  +/- 0.16\n",
      "Recall:    0.21  +/- 0.17\n",
      "\n",
      "Aggregate Confusion Matrix - 10 iterations\n",
      "[[1433  153]\n",
      " [ 303  111]]\n",
      "\n",
      "\n",
      "** Predictions for hist=700 future=500 **\n",
      "\n",
      "F1:        0.37  +/- 0.10\n",
      "Accuracy:  0.74  +/- 0.07\n",
      "Precision: 0.45  +/- 0.08\n",
      "Recall:    0.32  +/- 0.12\n",
      "\n",
      "Aggregate Confusion Matrix - 10 iterations\n",
      "[[3293  500]\n",
      " [ 779  428]]\n",
      "\n",
      "\n",
      "** Predictions for hist=1000 future=100 **\n",
      "\n",
      "F1:        0.25  +/- 0.12\n",
      "Accuracy:  0.79  +/- 0.07\n",
      "Precision: 0.40  +/- 0.19\n",
      "Recall:    0.19  +/- 0.10\n",
      "\n",
      "Aggregate Confusion Matrix - 10 iterations\n",
      "[[743  57]\n",
      " [158  42]]\n",
      "\n",
      "\n",
      "** Predictions for hist=1000 future=200 **\n",
      "\n",
      "F1:        0.32  +/- 0.12\n",
      "Accuracy:  0.78  +/- 0.06\n",
      "Precision: 0.44  +/- 0.14\n",
      "Recall:    0.26  +/- 0.12\n",
      "\n",
      "Aggregate Confusion Matrix - 10 iterations\n",
      "[[1447  134]\n",
      " [ 298  121]]\n",
      "\n",
      "\n",
      "** Predictions for hist=1000 future=500 **\n",
      "\n",
      "F1:        0.38  +/- 0.10\n",
      "Accuracy:  0.76  +/- 0.03\n",
      "Precision: 0.44  +/- 0.08\n",
      "Recall:    0.34  +/- 0.12\n",
      "\n",
      "Aggregate Confusion Matrix - 10 iterations\n",
      "[[3380  469]\n",
      " [ 737  414]]\n",
      "\n",
      "\n"
     ]
    },
    {
     "name": "stderr",
     "output_type": "stream",
     "text": [
      "/Users/doug/anaconda/lib/python2.7/site-packages/sklearn/metrics/metrics.py:1771: UndefinedMetricWarning: Precision is ill-defined and being set to 0.0 due to no predicted samples.\n",
      "  'precision', 'predicted', average, warn_for)\n"
     ]
    }
   ],
   "source": [
    "ET_results = eval_predictions(clf, X, Y, history_sizes=[300, 500, 700, 1000], future_sizes=[100, 200, 500])"
   ]
  },
  {
   "cell_type": "code",
   "execution_count": 14,
   "metadata": {
    "collapsed": false
   },
   "outputs": [],
   "source": [
    "ET_clf = clf"
   ]
  }
 ],
 "metadata": {
  "kernelspec": {
   "display_name": "Python 2",
   "language": "python",
   "name": "python2"
  },
  "language_info": {
   "codemirror_mode": {
    "name": "ipython",
    "version": 2
   },
   "file_extension": ".py",
   "mimetype": "text/x-python",
   "name": "python",
   "nbconvert_exporter": "python",
   "pygments_lexer": "ipython2",
   "version": "2.7.9"
  }
 },
 "nbformat": 4,
 "nbformat_minor": 0
}
