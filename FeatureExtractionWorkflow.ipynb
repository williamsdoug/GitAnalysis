{
 "metadata": {
  "name": "",
  "signature": "sha256:bf03b52492f9833c16e837f5ba41fb55b748fdc0920be607732f44a320d14a75"
 },
 "nbformat": 3,
 "nbformat_minor": 0,
 "worksheets": [
  {
   "cells": [
    {
     "cell_type": "markdown",
     "metadata": {},
     "source": [
      "#Feature Extraction Workflow\n",
      "####Author:  Doug Williams, Copyright 2015\n",
      "\n",
      "####Updated: 5-Mar-2015\n",
      "\n",
      "###To Do:\n",
      "- Debug lines of code (LOC)\n",
      "- Flag bugs that are bug fix commits\n",
      "- Weigh bug by importance\n",
      "\n",
      "###Issues:\n",
      "- x\n",
      "\n",
      "###Explored Issues:\n",
      "- x\n",
      "\n",
      "###Design notes [verify still current]:\n",
      "- x."
     ]
    },
    {
     "cell_type": "code",
     "collapsed": false,
     "input": [
      "%matplotlib inline\n",
      "import matplotlib.pyplot as plt\n",
      "\n",
      "import pprint as pp\n",
      "import re\n",
      "import collections\n",
      "import datetime\n",
      "from datetime import date\n",
      "\n",
      "import sys\n",
      "sys.path.append('./dev')\n",
      "# from commit_analysis import load_all_analysis_data\n",
      "\n",
      "from BugFixWorkflow import commit_postprocessing\n",
      "from BugFixWorkflow import find_legacy_cutoff\n",
      "\n",
      "\n",
      "from commit_analysis import load_all_analysis_data\n",
      "from commit_analysis import create_feature"
     ],
     "language": "python",
     "metadata": {},
     "outputs": [],
     "prompt_number": 1
    },
    {
     "cell_type": "code",
     "collapsed": false,
     "input": [
      "# PROJECT = 'nova'\n",
      "# PROJECT = 'swift'\n",
      "# PROJECT = 'cinder'  # Verified\n",
      "# PROJECT = 'heat'    # Verified\n",
      "PROJECT = 'glance'  # Verified\n",
      "\n",
      "UPDATE_CORPUS = True\n",
      "BUILD_CORPUS = False\n",
      "\n",
      "cgit_url = 'http://git.openstack.org/cgit/openstack/' + PROJECT + '/commit/?id='\n",
      "cgit_suffix = '&context=1&ignorews=0&ss=0'"
     ],
     "language": "python",
     "metadata": {},
     "outputs": [],
     "prompt_number": 2
    },
    {
     "cell_type": "code",
     "collapsed": false,
     "input": [
      "# Note:  Currently unused\n",
      "\n",
      "BUG_WEIGHT_VALUES = {\n",
      "    'Critical': 4,\n",
      "    'High': 3,\n",
      "    'Medium': 2,\n",
      "    'Low': 1,\n",
      "    'Wishlist': 0,\n",
      "    'Unknown': 0,\n",
      "    'Undecided': 0,\n",
      "}"
     ],
     "language": "python",
     "metadata": {},
     "outputs": [],
     "prompt_number": 3
    },
    {
     "cell_type": "heading",
     "level": 1,
     "metadata": {},
     "source": [
      "Code"
     ]
    },
    {
     "cell_type": "heading",
     "level": 1,
     "metadata": {},
     "source": [
      "Load Data"
     ]
    },
    {
     "cell_type": "code",
     "collapsed": false,
     "input": [
      "if False:    # Only rebuilds combined_commits\n",
      "    from commit_analysis import rebuild_all_analysis_data\n",
      "    rebuild_all_analysis_data(PROJECT, update=False, download=False)\n",
      "\n",
      "if False:   # Updates data, then rebuilds combined_commits\n",
      "    from commit_analysis import rebuild_all_analysis_data\n",
      "    rebuild_all_analysis_data(PROJECT, update=True)"
     ],
     "language": "python",
     "metadata": {},
     "outputs": [],
     "prompt_number": 4
    },
    {
     "cell_type": "code",
     "collapsed": false,
     "input": [
      "combined_commits = commit_postprocessing(PROJECT)"
     ],
     "language": "python",
     "metadata": {},
     "outputs": [
      {
       "output_type": "stream",
       "stream": "stdout",
       "text": [
        "loading bug data\n",
        "  total LP bugs:"
       ]
      },
      {
       "output_type": "stream",
       "stream": "stdout",
       "text": [
        " 1252\n",
        "  Entries annotated: 924\n",
        "loading Git commit data\n",
        "  total git_commits:"
       ]
      },
      {
       "output_type": "stream",
       "stream": "stdout",
       "text": [
        " 4198\n",
        "  bug fix commits: 1037\n",
        "  commits with change_id: 1882\n",
        "  bug fix with change_id: 970\n",
        "loading change data\n",
        "  total gerrit changes with detail:"
       ]
      },
      {
       "output_type": "stream",
       "stream": "stdout",
       "text": [
        " 2102\n",
        "  all_change_details: 2102\n",
        "  total gerrit changes:"
       ]
      },
      {
       "output_type": "stream",
       "stream": "stdout",
       "text": [
        " 2103\n",
        "  all_changes: 2103\n",
        "combined_commits:"
       ]
      },
      {
       "output_type": "stream",
       "stream": "stdout",
       "text": [
        " 4198\n",
        "Determining legacy cut-off\n",
        "  Transition interval: 18:37:55\n",
        "  Parent of first_with: 3aa1701e076db88c445518ef8176f7151b5df5c3\n",
        "  Setting cutoff to: 04/08/2011\n",
        "Collecting data on commits with bug fixes\n",
        "  Mainline Commits ignored due to legacy:"
       ]
      },
      {
       "output_type": "stream",
       "stream": "stdout",
       "text": [
        " 180  out of: 1978\n",
        "  Total commite requiring blame computation: 808\n",
        "\n",
        "Computing Blame\n",
        "Loaded blame"
       ]
      },
      {
       "output_type": "stream",
       "stream": "stdout",
       "text": [
        "\n",
        "  Initial Blame cache size: 572\n",
        "  bug fix commits: 808\n",
        ". "
       ]
      },
      {
       "output_type": "stream",
       "stream": "stdout",
       "text": [
        ". . . . "
       ]
      },
      {
       "output_type": "stream",
       "stream": "stdout",
       "text": [
        ". . "
       ]
      },
      {
       "output_type": "stream",
       "stream": "stdout",
       "text": [
        ". "
       ]
      },
      {
       "output_type": "stream",
       "stream": "stdout",
       "text": [
        ". . 100 "
       ]
      },
      {
       "output_type": "stream",
       "stream": "stdout",
       "text": [
        ". "
       ]
      },
      {
       "output_type": "stream",
       "stream": "stdout",
       "text": [
        ". "
       ]
      },
      {
       "output_type": "stream",
       "stream": "stdout",
       "text": [
        ". . "
       ]
      },
      {
       "output_type": "stream",
       "stream": "stdout",
       "text": [
        ". . "
       ]
      },
      {
       "output_type": "stream",
       "stream": "stdout",
       "text": [
        ". "
       ]
      },
      {
       "output_type": "stream",
       "stream": "stdout",
       "text": [
        ". "
       ]
      },
      {
       "output_type": "stream",
       "stream": "stdout",
       "text": [
        ". . 200 "
       ]
      },
      {
       "output_type": "stream",
       "stream": "stdout",
       "text": [
        ". . "
       ]
      },
      {
       "output_type": "stream",
       "stream": "stdout",
       "text": [
        ". "
       ]
      },
      {
       "output_type": "stream",
       "stream": "stdout",
       "text": [
        ". . . "
       ]
      },
      {
       "output_type": "stream",
       "stream": "stdout",
       "text": [
        ". . . "
       ]
      },
      {
       "output_type": "stream",
       "stream": "stdout",
       "text": [
        ". 300 . "
       ]
      },
      {
       "output_type": "stream",
       "stream": "stdout",
       "text": [
        ". "
       ]
      },
      {
       "output_type": "stream",
       "stream": "stdout",
       "text": [
        ". "
       ]
      },
      {
       "output_type": "stream",
       "stream": "stdout",
       "text": [
        ". . . . "
       ]
      },
      {
       "output_type": "stream",
       "stream": "stdout",
       "text": [
        ". "
       ]
      },
      {
       "output_type": "stream",
       "stream": "stdout",
       "text": [
        ". . 400 "
       ]
      },
      {
       "output_type": "stream",
       "stream": "stdout",
       "text": [
        ". . . "
       ]
      },
      {
       "output_type": "stream",
       "stream": "stdout",
       "text": [
        ". . "
       ]
      },
      {
       "output_type": "stream",
       "stream": "stdout",
       "text": [
        ". . . "
       ]
      },
      {
       "output_type": "stream",
       "stream": "stdout",
       "text": [
        ". . 500 . . "
       ]
      },
      {
       "output_type": "stream",
       "stream": "stdout",
       "text": [
        ". . "
       ]
      },
      {
       "output_type": "stream",
       "stream": "stdout",
       "text": [
        ". . "
       ]
      },
      {
       "output_type": "stream",
       "stream": "stdout",
       "text": [
        ". . "
       ]
      },
      {
       "output_type": "stream",
       "stream": "stdout",
       "text": [
        ". "
       ]
      },
      {
       "output_type": "stream",
       "stream": "stdout",
       "text": [
        ". 600 "
       ]
      },
      {
       "output_type": "stream",
       "stream": "stdout",
       "text": [
        ". . "
       ]
      },
      {
       "output_type": "stream",
       "stream": "stdout",
       "text": [
        ". . "
       ]
      },
      {
       "output_type": "stream",
       "stream": "stdout",
       "text": [
        ". "
       ]
      },
      {
       "output_type": "stream",
       "stream": "stdout",
       "text": [
        ". . "
       ]
      },
      {
       "output_type": "stream",
       "stream": "stdout",
       "text": [
        ". "
       ]
      },
      {
       "output_type": "stream",
       "stream": "stdout",
       "text": [
        ". . 700 "
       ]
      },
      {
       "output_type": "stream",
       "stream": "stdout",
       "text": [
        ". . . "
       ]
      },
      {
       "output_type": "stream",
       "stream": "stdout",
       "text": [
        ". "
       ]
      },
      {
       "output_type": "stream",
       "stream": "stdout",
       "text": [
        ". . . . "
       ]
      },
      {
       "output_type": "stream",
       "stream": "stdout",
       "text": [
        ". . 800\n",
        "  Saving updated Blame Cache\n",
        "\n"
       ]
      },
      {
       "output_type": "stream",
       "stream": "stdout",
       "text": [
        "Annotating Guilt\n",
        "Identify reachable commits"
       ]
      },
      {
       "output_type": "stream",
       "stream": "stdout",
       "text": [
        "\n",
        "  Loaded cached reachability data"
       ]
      },
      {
       "output_type": "stream",
       "stream": "stdout",
       "text": [
        "\n",
        "  Initial Reachable cache size: 73\n",
        "  Samples: 73\n",
        "  Revised samples: 0\n",
        "\n",
        "  Reachable commits: 1526\n"
       ]
      }
     ],
     "prompt_number": 5
    },
    {
     "cell_type": "code",
     "collapsed": false,
     "input": [
      "legacy_cutoff = find_legacy_cutoff(combined_commits)"
     ],
     "language": "python",
     "metadata": {},
     "outputs": [],
     "prompt_number": 6
    },
    {
     "cell_type": "heading",
     "level": 1,
     "metadata": {},
     "source": [
      "Feature Extraction"
     ]
    },
    {
     "cell_type": "code",
     "collapsed": false,
     "input": [
      "from commit_analysis import parse_author_and_org\n",
      "import math"
     ],
     "language": "python",
     "metadata": {},
     "outputs": [],
     "prompt_number": 7
    },
    {
     "cell_type": "code",
     "collapsed": false,
     "input": [
      "for k, c in combined_commits.items():    #[:4]:\n",
      "    if c['reachable']:\n",
      "        # pp.pprint(create_feature(c))\n",
      "        create_feature(c)"
     ],
     "language": "python",
     "metadata": {},
     "outputs": [],
     "prompt_number": 8
    },
    {
     "cell_type": "code",
     "collapsed": false,
     "input": [],
     "language": "python",
     "metadata": {},
     "outputs": []
    },
    {
     "cell_type": "code",
     "collapsed": false,
     "input": [],
     "language": "python",
     "metadata": {},
     "outputs": []
    },
    {
     "cell_type": "heading",
     "level": 1,
     "metadata": {},
     "source": [
      "Boneyard"
     ]
    },
    {
     "cell_type": "code",
     "collapsed": false,
     "input": [],
     "language": "python",
     "metadata": {},
     "outputs": []
    },
    {
     "cell_type": "raw",
     "metadata": {},
     "source": [
      "from commit_analysis import extract_features, create_feature"
     ]
    },
    {
     "cell_type": "raw",
     "metadata": {},
     "source": [
      "extract_features(combined_commits, all_blame, extract_state,\n",
      "                     threshold=False,\n",
      "                     clip=False, min_order=False, max_order=False,\n",
      "                     offset=0, limit=0, equalize=False,\n",
      "                     debug=True)"
     ]
    },
    {
     "cell_type": "raw",
     "metadata": {},
     "source": [
      "extract_features_helper(combined_commits,\n",
      "                                               all_blame,\n",
      "                                               min_order, max_order,\n",
      "                                               offset, limit)"
     ]
    }
   ],
   "metadata": {}
  }
 ]
}