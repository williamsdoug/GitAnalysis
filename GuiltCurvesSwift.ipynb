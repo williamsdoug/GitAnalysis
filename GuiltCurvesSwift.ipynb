{
 "metadata": {
  "name": "",
  "signature": "sha256:d4b14beaa6d72b567140acea8238afa0d411e6072fd2c422e2766741204bba1a"
 },
 "nbformat": 3,
 "nbformat_minor": 0,
 "worksheets": [
  {
   "cells": [
    {
     "cell_type": "markdown",
     "metadata": {},
     "source": [
      "#Guilt Curves for OpenStack Swift\n",
      "\n",
      "Copyright Doug Williams - 2014, 2015\n",
      "\n",
      "The purpose of this notebook is to help determine proper guilt threshold for labeling entries prior to training machine learning model.\n",
      "\n",
      "###Updated: 2/4/2015\n",
      "\n",
      "###History\n",
      "- 2/4/2015: Created standalong notebook based on graphs in BlameAnalysis"
     ]
    },
    {
     "cell_type": "heading",
     "level": 1,
     "metadata": {},
     "source": [
      "Includes"
     ]
    },
    {
     "cell_type": "code",
     "collapsed": false,
     "input": [
      "%matplotlib inline"
     ],
     "language": "python",
     "metadata": {},
     "outputs": [],
     "prompt_number": 1
    },
    {
     "cell_type": "code",
     "collapsed": false,
     "input": [
      "from pprint import pprint\n",
      "from collections import defaultdict\n",
      "import numpy as np\n",
      "import math\n",
      "import matplotlib.pyplot as plt\n",
      "\n",
      "import sys\n",
      "sys.path.append('./dev')\n",
      "\n",
      "from Git_Extract_Join import load_combined_commits, load_all_blame\n",
      "# from commit_analysis import normalize_blame_by_file\n",
      "from commit_analysis import compute_guilt"
     ],
     "language": "python",
     "metadata": {},
     "outputs": [],
     "prompt_number": 2
    },
    {
     "cell_type": "heading",
     "level": 1,
     "metadata": {},
     "source": [
      "Load Data"
     ]
    },
    {
     "cell_type": "code",
     "collapsed": false,
     "input": [
      "# PROJECT = 'nova'\n",
      "PROJECT = 'swift'"
     ],
     "language": "python",
     "metadata": {},
     "outputs": [],
     "prompt_number": 3
    },
    {
     "cell_type": "code",
     "collapsed": false,
     "input": [
      "combined_commits = load_combined_commits(PROJECT)\n",
      "print len(combined_commits)"
     ],
     "language": "python",
     "metadata": {},
     "outputs": [
      {
       "output_type": "stream",
       "stream": "stdout",
       "text": [
        "4305\n"
       ]
      }
     ],
     "prompt_number": 4
    },
    {
     "cell_type": "code",
     "collapsed": false,
     "input": [
      "all_blame = load_all_blame(PROJECT)\n",
      "print len(all_blame)"
     ],
     "language": "python",
     "metadata": {},
     "outputs": [
      {
       "output_type": "stream",
       "stream": "stdout",
       "text": [
        "381\n"
       ]
      }
     ],
     "prompt_number": 5
    },
    {
     "cell_type": "code",
     "collapsed": false,
     "input": [
      "bug_fix_commits = [k for k,v in combined_commits.items()\n",
      "                   if 'lp:id' in v]\n",
      "print len(bug_fix_commits)"
     ],
     "language": "python",
     "metadata": {},
     "outputs": [
      {
       "output_type": "stream",
       "stream": "stdout",
       "text": [
        "381\n"
       ]
      }
     ],
     "prompt_number": 6
    },
    {
     "cell_type": "markdown",
     "metadata": {},
     "source": [
      "#Compute Guilt"
     ]
    },
    {
     "cell_type": "code",
     "collapsed": false,
     "input": [
      "compute_guilt(combined_commits, all_blame)"
     ],
     "language": "python",
     "metadata": {},
     "outputs": [
      {
       "output_type": "stream",
       "stream": "stdout",
       "text": [
        "guilty:  804 out of 4305 ( 18.6759581882 % )\n",
        "smallest guilt: 0.000368731563422\n",
        "largest guilt: 50.5677817892\n"
       ]
      }
     ],
     "prompt_number": 7
    },
    {
     "cell_type": "heading",
     "level": 3,
     "metadata": {},
     "source": [
      "Characterize Guilt Distribution"
     ]
    },
    {
     "cell_type": "markdown",
     "metadata": {},
     "source": [
      "Explore overall shape of curve.  \n",
      "\n",
      "Note:  There is an outlier value around 50 that is clipped in order to avoid distorying the below graph.  "
     ]
    },
    {
     "cell_type": "code",
     "collapsed": false,
     "input": [
      "plt.figure(figsize=(9,3))\n",
      "plt.title('Guilt Distribution'); plt.ylabel('log(count)'); plt.xlabel('guilt')\n",
      "plt.hist([v['guilt'] for v in combined_commits.values()], \n",
      "         log=True, range=(0, 3), bins=50)\n",
      "plt.show()"
     ],
     "language": "python",
     "metadata": {},
     "outputs": [
      {
       "metadata": {},
       "output_type": "display_data",
       "png": "[encoded data removed]",
       "text": [
        "<matplotlib.figure.Figure at 0x111b09110>"
       ]
      }
     ],
     "prompt_number": 8
    },
    {
     "cell_type": "markdown",
     "metadata": {},
     "source": [
      "Express as cumulative distribution"
     ]
    },
    {
     "cell_type": "code",
     "collapsed": false,
     "input": [
      "plt.figure(figsize=(9,3))\n",
      "plt.title('Guilt Reverse Cumulative Distribution'); plt.ylabel('count'); plt.xlabel('guilt (ignore sign)')\n",
      "plt.hist([- v['guilt'] for v in combined_commits.values()],\n",
      "         log=False, range=(-3, 0), bins=100, cumulative=True)\n",
      "plt.show()"
     ],
     "language": "python",
     "metadata": {},
     "outputs": [
      {
       "metadata": {},
       "output_type": "display_data",
       "png": "[encoded data removed]",
       "text": [
        "<matplotlib.figure.Figure at 0x111bf0190>"
       ]
      }
     ],
     "prompt_number": 9
    },
    {
     "cell_type": "markdown",
     "metadata": {},
     "source": [
      "Since actual bug count Swift is 381, zoom in where bug count is in neighborhood "
     ]
    },
    {
     "cell_type": "code",
     "collapsed": false,
     "input": [
      "plt.figure(figsize=(9,3))\n",
      "plt.title('Guilt Reverse Cumulative Distribution (normed)')\n",
      "plt.ylabel('cumulative density'); plt.xlabel('guilt (ignore sign)')\n",
      "plt.hist([- v['guilt'] for v in combined_commits.values()],\n",
      "         log=False, range=(-2, -0.05), bins=100, cumulative=True)\n",
      "plt.show()"
     ],
     "language": "python",
     "metadata": {},
     "outputs": [
      {
       "metadata": {},
       "output_type": "display_data",
       "png": "[encoded data removed]",
       "text": [
        "<matplotlib.figure.Figure at 0x11275d610>"
       ]
      }
     ],
     "prompt_number": 10
    },
    {
     "cell_type": "code",
     "collapsed": false,
     "input": [
      "print 'Actual Bugs:', len(bug_fix_commits)\n",
      "print\n",
      "print 'Counts for various thresholds'\n",
      "for threshold in np.arange(0.05, 0.155, 0.005):\n",
      "    count = sum([1 for v in combined_commits.values()\n",
      "                 if v['guilt'] >= threshold ])\n",
      "    \n",
      "    print count, '  thresh=', threshold"
     ],
     "language": "python",
     "metadata": {},
     "outputs": [
      {
       "output_type": "stream",
       "stream": "stdout",
       "text": [
        "Actual Bugs: 381\n",
        "\n",
        "Counts for various thresholds\n",
        "480   thresh= 0.05\n",
        "462   thresh= 0.055\n",
        "452   thresh= 0.06\n",
        "445   thresh= 0.065\n",
        "434   thresh= 0.07\n",
        "426   thresh= 0.075\n",
        "419   thresh= 0.08\n",
        "410   thresh= 0.085\n",
        "403   thresh= 0.09\n",
        "394   thresh= 0.095\n",
        "383   thresh= 0.1\n",
        "372   thresh= 0.105\n",
        "362   thresh= 0.11\n",
        "352   thresh= 0.115\n",
        "348   thresh= 0.12\n",
        "344   thresh= 0.125\n",
        "341   thresh= 0.13\n",
        "332   thresh= 0.135\n",
        "324   thresh= 0.14\n",
        "318   thresh= 0.145\n",
        "313   thresh= 0.15\n"
       ]
      }
     ],
     "prompt_number": 11
    },
    {
     "cell_type": "code",
     "collapsed": false,
     "input": [
      "plt.figure(figsize=(9,3))\n",
      "plt.title('Guilt Reverse Cumulative Distribution')\n",
      "plt.ylabel('count')\n",
      "plt.xlabel('log(guilt)')\n",
      "plt.hist([math.log(v['guilt']) for v in combined_commits.values() if v['guilt'] > 0],\n",
      "         log=False, bins=100, cumulative=True)\n",
      "plt.show()"
     ],
     "language": "python",
     "metadata": {},
     "outputs": [
      {
       "metadata": {},
       "output_type": "display_data",
       "png": "[encoded data removed]",
       "text": [
        "<matplotlib.figure.Figure at 0x11332f0d0>"
       ]
      }
     ],
     "prompt_number": 12
    },
    {
     "cell_type": "code",
     "collapsed": false,
     "input": [
      "plt.figure(figsize=(9,3))\n",
      "plt.title('Guilt Reverse Cumulative Distribution')\n",
      "plt.ylabel('count')\n",
      "plt.xlabel('log(guilt)')\n",
      "plt.hist([math.log(v['guilt']) for v in combined_commits.values() if v['guilt'] > 0],\n",
      "         log=False, bins=100, range=(-6, -0.5), cumulative=True)\n",
      "plt.show()"
     ],
     "language": "python",
     "metadata": {},
     "outputs": [
      {
       "metadata": {},
       "output_type": "display_data",
       "png": "[encoded data removed]",
       "text": [
        "<matplotlib.figure.Figure at 0x111e205d0>"
       ]
      }
     ],
     "prompt_number": 13
    },
    {
     "cell_type": "code",
     "collapsed": false,
     "input": [],
     "language": "python",
     "metadata": {},
     "outputs": [],
     "prompt_number": 13
    }
   ],
   "metadata": {}
  }
 ]
}