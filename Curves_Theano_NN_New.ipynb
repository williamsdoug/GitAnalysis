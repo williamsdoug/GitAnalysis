{
 "cells": [
  {
   "cell_type": "markdown",
   "metadata": {},
   "source": [
    "#GitAnalysis using Theano"
   ]
  },
  {
   "cell_type": "code",
   "execution_count": 1,
   "metadata": {
    "collapsed": true
   },
   "outputs": [],
   "source": [
    "%matplotlib inline"
   ]
  },
  {
   "cell_type": "code",
   "execution_count": 1,
   "metadata": {
    "collapsed": true
   },
   "outputs": [],
   "source": [
    "from pprint import pprint\n",
    "from collections import defaultdict\n",
    "\n",
    "import numpy as np\n",
    "import math\n",
    "import matplotlib.pyplot as plt\n",
    "import random\n",
    "import warnings\n",
    "import copy\n",
    "\n",
    "from sklearn.grid_search import GridSearchCV\n",
    "from sklearn import metrics\n",
    "\n",
    "import sys\n",
    "sys.path.append('./dev')\n",
    "\n",
    "from ml_plot import plot_validation_curve\n",
    "from ml_plot import my_plot_learning_curve\n",
    "from ml_plot import plot_prediction_curve\n",
    "from ml_plot import get_dataset, eval_predictions\n",
    "from ml_plot import PredictCV, PredictCV_TrainTest\n",
    "from ml_plot import PredictCV_TrainTestValidate"
   ]
  },
  {
   "cell_type": "code",
   "execution_count": 15,
   "metadata": {
    "collapsed": false
   },
   "outputs": [],
   "source": [
    "from Theano_NN import test_nn, modern_nn_model, modern_nn_model_h1\n",
    "from Theano_NN import convert_binary_to_onehot, compute_stats, print_stats"
   ]
  },
  {
   "cell_type": "code",
   "execution_count": 3,
   "metadata": {
    "collapsed": true
   },
   "outputs": [],
   "source": [
    "PROJECT = 'nova'\n",
    "# PROJECT = 'swift'\n",
    "# PROJECT = 'cinder'\n",
    "# PROJECT = 'heat'\n",
    "# PROJECT = 'glance'\n",
    "\n",
    "# IMPORTANCE = 'crit'\n",
    "# IMPORTANCE = 'high+'\n",
    "IMPORTANCE = 'med+'\n",
    "# IMPORTANCE = 'low+'\n",
    "\n",
    "# SIZE = 100\n",
    "#SIZE = 250\n",
    "# SIZE = 0.1\n",
    "SIZE = 0.5\n",
    "\n",
    "SCORING = 'f1'         # (precision * recall) / (precision + recall)\n",
    "# SCORING = 'accuracy'   # (TP + TN) / all values\n",
    "# SCORING = 'precision'  # TP / (TP + FP)\n",
    "# SCORING = 'recall'     # TP / (TP + FN)\n",
    "# SCORING = 'average_precision'\n",
    "# SCORING = 'roc_auc'\n",
    "\n",
    "JOBS = 4\n",
    "VERBOSE = True\n",
    "\n",
    "warnings.filterwarnings('ignore', 'F-score is ill-defined')\n",
    "warnings.filterwarnings('ignore', 'overflow encountered in exp')"
   ]
  },
  {
   "cell_type": "markdown",
   "metadata": {},
   "source": [
    "#Function definitions"
   ]
  },
  {
   "cell_type": "code",
   "execution_count": 22,
   "metadata": {
    "collapsed": true
   },
   "outputs": [],
   "source": [
    "def analyze_bias(predict, X_test, Y_test, min_bias=-0.2, max_bias=0.05):\n",
    "    for bias in np.linspace(min_bias, max_bias, 10):\n",
    "        biasV = np.array([-bias, bias])\n",
    "    \n",
    "        y_predict = predict(X_test, bias=biasV)\n",
    "        y_target = np.argmax(Y_test, axis=1)\n",
    "            \n",
    "        (cost, TP, FP, FN, TN, precision, recall, f1) = compute_stats(y_predict, y_target)\n",
    "        print 'Bias:', bias\n",
    "        print_stats(0, cost, TP, FP, FN, TN, precision, recall, f1)\n",
    "        print"
   ]
  },
  {
   "cell_type": "code",
   "execution_count": 23,
   "metadata": {
    "collapsed": true
   },
   "outputs": [],
   "source": [
    "def analyze_distance(predict, X_test, Y_test, bias=0.0):\n",
    "    biasV = np.array([-bias, bias])\n",
    "    for size in [100, 200, 300, 400, 500]:\n",
    "    \n",
    "        y_predict = predict(X_test[:size,], bias=biasV)\n",
    "        y_target = np.argmax(Y_test[:size,], axis=1)\n",
    "            \n",
    "        (cost, TP, FP, FN, TN, precision, recall, f1) = compute_stats(y_predict, y_target)\n",
    "        print 'Size:', size\n",
    "        print_stats(0, cost, TP, FP, FN, TN, precision, recall, f1)\n",
    "        print"
   ]
  },
  {
   "cell_type": "markdown",
   "metadata": {
    "collapsed": true
   },
   "source": [
    "#Load Data"
   ]
  },
  {
   "cell_type": "code",
   "execution_count": 4,
   "metadata": {
    "collapsed": false
   },
   "outputs": [],
   "source": [
    "%%capture\n",
    "Y, X = get_dataset(PROJECT, IMPORTANCE)"
   ]
  },
  {
   "cell_type": "code",
   "execution_count": 5,
   "metadata": {
    "collapsed": false
   },
   "outputs": [
    {
     "name": "stdout",
     "output_type": "stream",
     "text": [
      "Rows: 8806 Features: 16233\n"
     ]
    }
   ],
   "source": [
    "rows = X.shape[0]\n",
    "feats = X.shape[1]\n",
    "print 'Rows:', rows, 'Features:', feats"
   ]
  },
  {
   "cell_type": "code",
   "execution_count": 6,
   "metadata": {
    "collapsed": false
   },
   "outputs": [
    {
     "name": "stdout",
     "output_type": "stream",
     "text": [
      "7425 500 7925\n"
     ]
    }
   ],
   "source": [
    "n_test = 500\n",
    "ignore = 0.1\n",
    "\n",
    "max_rows= int(rows*(1.0-ignore))\n",
    "n_train = max_rows-n_test\n",
    "\n",
    "print n_train, n_test, max_rows"
   ]
  },
  {
   "cell_type": "code",
   "execution_count": 9,
   "metadata": {
    "collapsed": false
   },
   "outputs": [],
   "source": [
    "Y_onehot = convert_binary_to_onehot(Y)\n",
    "\n",
    "X_train = X[:n_train,]\n",
    "Y_train = Y_onehot[:n_train,]\n",
    "X_test = X[n_train:n_train+n_test,]\n",
    "Y_test = Y_onehot[n_train:n_train+n_test,]"
   ]
  },
  {
   "cell_type": "code",
   "execution_count": 10,
   "metadata": {
    "collapsed": false
   },
   "outputs": [
    {
     "name": "stdout",
     "output_type": "stream",
     "text": [
      "Initial Shapes:\n",
      "  X (8806, 16233) <type 'numpy.ndarray'>\n",
      "  Y (8806,) <type 'numpy.ndarray'>\n",
      "  Y(one hot): (8806, 2) <type 'numpy.ndarray'>\n",
      "\n",
      "Train and Test Data:\n",
      "  train -- X: (7425, 16233) Y: (7425, 2)\n",
      "  test  -- X: (500, 16233) Y: (500, 2)\n"
     ]
    }
   ],
   "source": [
    "print 'Initial Shapes:'\n",
    "print '  X', X.shape, type(X)\n",
    "print '  Y', Y.shape, type(Y)\n",
    "print '  Y(one hot):', Y_onehot.shape, type(Y_onehot)\n",
    "print\n",
    "print 'Train and Test Data:'\n",
    "print '  train -- X:', X_train.shape, 'Y:', Y_train.shape\n",
    "print '  test  -- X:', X_test.shape, 'Y:', Y_test.shape"
   ]
  },
  {
   "cell_type": "markdown",
   "metadata": {},
   "source": [
    "#Start of Analysis"
   ]
  },
  {
   "cell_type": "markdown",
   "metadata": {},
   "source": [
    "##Test Instance"
   ]
  },
  {
   "cell_type": "code",
   "execution_count": 12,
   "metadata": {
    "collapsed": false
   },
   "outputs": [
    {
     "name": "stdout",
     "output_type": "stream",
     "text": [
      "Iteration: 0  Cost: 0.11\n",
      "          55      445\n",
      "           0        0\n",
      "    Precision: 0.11 Recall: 1.00, F1: 0.20\n",
      "    Best Prec: 0.11 Recall: 1.00, F1: 0.20  i: 0\n",
      "\n",
      "Iteration: 1  Cost: 0.154\n",
      "          55      423\n",
      "           0       22\n",
      "    Precision: 0.12 Recall: 1.00, F1: 0.21\n",
      "    Best Prec: 0.12 Recall: 1.00, F1: 0.21  i: 1\n",
      "\n"
     ]
    }
   ],
   "source": [
    "(predict, best_weights, _) = test_nn(modern_nn_model_h1, X_train, X_test, Y_train, Y_test, \n",
    "        iterations=2, dimensions=[feats, 100, 2], #  lr=0.003,\n",
    "        update='rms_prop', uses_dropout=True,\n",
    "        max_distance=50, lr=0.003, min_lr=0.000001)"
   ]
  },
  {
   "cell_type": "code",
   "execution_count": 17,
   "metadata": {
    "collapsed": false,
    "scrolled": true
   },
   "outputs": [
    {
     "name": "stdout",
     "output_type": "stream",
     "text": [
      "Bias: -0.2\n",
      "Iteration: 0  Cost: 0.79\n",
      "          29       79\n",
      "          26      366\n",
      "    Precision: 0.27 Recall: 0.53, F1: 0.36\n",
      "Bias: -0.172222222222\n",
      "Iteration: 0  Cost: 0.746\n",
      "          36      108\n",
      "          19      337\n",
      "    Precision: 0.25 Recall: 0.65, F1: 0.36\n",
      "Bias: -0.144444444444\n",
      "Iteration: 0  Cost: 0.68\n",
      "          37      142\n",
      "          18      303\n",
      "    Precision: 0.21 Recall: 0.67, F1: 0.32\n",
      "Bias: -0.116666666667\n",
      "Iteration: 0  Cost: 0.582\n",
      "          41      195\n",
      "          14      250\n",
      "    Precision: 0.17 Recall: 0.75, F1: 0.28\n",
      "Bias: -0.0888888888889\n",
      "Iteration: 0  Cost: 0.504\n",
      "          49      242\n",
      "           6      203\n",
      "    Precision: 0.17 Recall: 0.89, F1: 0.28\n",
      "Bias: -0.0611111111111\n",
      "Iteration: 0  Cost: 0.402\n",
      "          53      297\n",
      "           2      148\n",
      "    Precision: 0.15 Recall: 0.96, F1: 0.26\n",
      "Bias: -0.0333333333333\n",
      "Iteration: 0  Cost: 0.3\n",
      "          54      349\n",
      "           1       96\n",
      "    Precision: 0.13 Recall: 0.98, F1: 0.24\n",
      "Bias: -0.00555555555556\n",
      "Iteration: 0  Cost: 0.184\n",
      "          55      408\n",
      "           0       37\n",
      "    Precision: 0.12 Recall: 1.00, F1: 0.21\n",
      "Bias: 0.0222222222222\n",
      "Iteration: 0  Cost: 0.12\n",
      "          55      440\n",
      "           0        5\n",
      "    Precision: 0.11 Recall: 1.00, F1: 0.20\n",
      "Bias: 0.05\n",
      "Iteration: 0  Cost: 0.11\n",
      "          55      445\n",
      "           0        0\n",
      "    Precision: 0.11 Recall: 1.00, F1: 0.20\n"
     ]
    }
   ],
   "source": [
    "analyze_bias(predict, X_test, Y_test, min_bias=-0.2, max_bias=0.05)"
   ]
  },
  {
   "cell_type": "code",
   "execution_count": 21,
   "metadata": {
    "collapsed": false,
    "scrolled": true
   },
   "outputs": [
    {
     "name": "stdout",
     "output_type": "stream",
     "text": [
      "Size: 100\n",
      "Iteration: 0  Cost: 0.23\n",
      "          16       77\n",
      "           0        7\n",
      "    Precision: 0.17 Recall: 1.00, F1: 0.29\n",
      "\n",
      "Size: 200\n",
      "Iteration: 0  Cost: 0.215\n",
      "          33      157\n",
      "           0       10\n",
      "    Precision: 0.17 Recall: 1.00, F1: 0.30\n",
      "\n",
      "Size: 300\n",
      "Iteration: 0  Cost: 0.183333333333\n",
      "          41      245\n",
      "           0       14\n",
      "    Precision: 0.14 Recall: 1.00, F1: 0.25\n",
      "\n",
      "Size: 400\n",
      "Iteration: 0  Cost: 0.17\n",
      "          49      332\n",
      "           0       19\n",
      "    Precision: 0.13 Recall: 1.00, F1: 0.23\n",
      "\n",
      "Size: 500\n",
      "Iteration: 0  Cost: 0.154\n",
      "          55      423\n",
      "           0       22\n",
      "    Precision: 0.12 Recall: 1.00, F1: 0.21\n",
      "\n"
     ]
    }
   ],
   "source": [
    "analyze_distance(predict, X_test, Y_test, bias=0.0)"
   ]
  },
  {
   "cell_type": "markdown",
   "metadata": {},
   "source": [
    "## Determine impact of starting LR"
   ]
  },
  {
   "cell_type": "code",
   "execution_count": null,
   "metadata": {
    "collapsed": false
   },
   "outputs": [
    {
     "name": "stdout",
     "output_type": "stream",
     "text": [
      "Iteration: 0  Cost: 0.266\n",
      "          55      367\n",
      "           0       78\n",
      "    Precision: 0.13 Recall: 1.00, F1: 0.23\n",
      "    Best Prec: 0.13 Recall: 1.00, F1: 0.23  i: 0\n",
      "\n",
      "Iteration: 1  Cost: 0.478\n",
      "          52      258\n",
      "           3      187\n",
      "    Precision: 0.17 Recall: 0.95, F1: 0.28\n",
      "    Best Prec: 0.17 Recall: 0.95, F1: 0.28  i: 1\n",
      "\n",
      "Iteration: 2  Cost: 0.578\n",
      "          48      204\n",
      "           7      241\n",
      "    Precision: 0.19 Recall: 0.87, F1: 0.31\n",
      "    Best Prec: 0.19 Recall: 0.87, F1: 0.31  i: 2\n",
      "\n",
      "Iteration: 3  Cost: 0.708\n",
      "          37      128\n",
      "          18      317\n",
      "    Precision: 0.22 Recall: 0.67, F1: 0.34\n",
      "    Best Prec: 0.22 Recall: 0.67, F1: 0.34  i: 3\n",
      "\n",
      "Iteration: 5  Cost: 0.696\n",
      "          39      136\n",
      "          16      309\n",
      "    Precision: 0.22 Recall: 0.71, F1: 0.34\n",
      "    Best Prec: 0.22 Recall: 0.71, F1: 0.34  i: 5\n",
      "\n",
      "Iteration: 8  Cost: 0.766\n",
      "          32       94\n",
      "          23      351\n",
      "    Precision: 0.25 Recall: 0.58, F1: 0.35\n",
      "    Best Prec: 0.25 Recall: 0.58, F1: 0.35  i: 8\n",
      "\n",
      "Iteration: 10  Cost: 0.846\n",
      "          25       47\n",
      "          30      398\n",
      "    Precision: 0.35 Recall: 0.45, F1: 0.39\n",
      "    Best Prec: 0.35 Recall: 0.45, F1: 0.39  i: 10\n",
      "\n",
      "Iteration: 16  Cost: 0.838\n",
      "          28       54\n",
      "          27      391\n",
      "    Precision: 0.34 Recall: 0.51, F1: 0.41\n",
      "    Best Prec: 0.34 Recall: 0.51, F1: 0.41  i: 16\n",
      "\n",
      "Iteration: 20  Cost: 0.762\n",
      "          35       99\n",
      "          20      346\n",
      "    Precision: 0.26 Recall: 0.64, F1: 0.37\n",
      "    Best Prec: 0.34 Recall: 0.51, F1: 0.41  i: 16\n",
      "\n",
      "Iteration: 30  Cost: 0.758\n",
      "          35      101\n",
      "          20      344\n",
      "    Precision: 0.26 Recall: 0.64, F1: 0.37\n",
      "    Best Prec: 0.34 Recall: 0.51, F1: 0.41  i: 16\n",
      "\n",
      "Iteration: 40  Cost: 0.744\n",
      "          31      104\n",
      "          24      341\n",
      "    Precision: 0.23 Recall: 0.56, F1: 0.33\n",
      "    Best Prec: 0.34 Recall: 0.51, F1: 0.41  i: 16\n",
      "\n",
      "Iteration: 50  Cost: 0.82\n",
      "          24       59\n",
      "          31      386\n",
      "    Precision: 0.29 Recall: 0.44, F1: 0.35\n",
      "    Best Prec: 0.34 Recall: 0.51, F1: 0.41  i: 16\n",
      "\n",
      "Iteration: 60  Cost: 0.784\n",
      "          31       84\n",
      "          24      361\n",
      "    Precision: 0.27 Recall: 0.56, F1: 0.36\n",
      "    Best Prec: 0.34 Recall: 0.51, F1: 0.41  i: 16\n",
      "\n",
      "\n",
      "67: Resetting to iteration 16, LR now 0.000949\n",
      "\n",
      "Validating restored results\n",
      "Iteration: 67  Cost: 0.838\n",
      "          28       54\n",
      "          27      391\n",
      "    Precision: 0.34 Recall: 0.51, F1: 0.41\n",
      "\n"
     ]
    }
   ],
   "source": [
    "(predict1, best_weights, _) = test_nn(modern_nn_model_h1, X_train, X_test, Y_train, Y_test, \n",
    "        iterations=2001, dimensions=[feats, 100, 2],\n",
    "        update='rms_prop', uses_dropout=True,\n",
    "        max_distance=50, lr=0.003, min_lr=0.000001)"
   ]
  },
  {
   "cell_type": "code",
   "execution_count": null,
   "metadata": {
    "collapsed": false
   },
   "outputs": [],
   "source": [
    "(predict2, best_weights, _) = test_nn(modern_nn_model_h1, X_train, X_test, Y_train, Y_test, \n",
    "        iterations=2001, dimensions=[feats, 100, 2],\n",
    "        update='rms_prop', uses_dropout=True,\n",
    "        max_distance=50, lr=0.001, min_lr=0.000001)"
   ]
  },
  {
   "cell_type": "raw",
   "metadata": {},
   "source": [
    "(predict3, best_weights, _) = test_nn(modern_nn_model_h1, X_train, X_test, Y_train, Y_test, \n",
    "        iterations=2001, dimensions=[feats, 100, 2],\n",
    "        update='rms_prop', uses_dropout=True,\n",
    "        max_distance=50, lr=0.0003, min_lr=0.000001)"
   ]
  },
  {
   "cell_type": "code",
   "execution_count": null,
   "metadata": {
    "collapsed": false
   },
   "outputs": [],
   "source": [
    "(predict4, best_weights, _) = test_nn(modern_nn_model_h1, X_train, X_test, Y_train, Y_test, \n",
    "        iterations=2001, dimensions=[feats, 100, 2],\n",
    "        update='rms_prop', uses_dropout=True,\n",
    "        max_distance=50, lr=0.0001, min_lr=0.000001)"
   ]
  },
  {
   "cell_type": "raw",
   "metadata": {},
   "source": [
    "(predict5, best_weights, _) = test_nn(modern_nn_model_h1, X_train, X_test, Y_train, Y_test, \n",
    "        iterations=20001, dimensions=[feats, 100, 2],\n",
    "        update='rms_prop', uses_dropout=True,\n",
    "        max_distance=100, lr=0.00003, min_lr=0.000001)"
   ]
  },
  {
   "cell_type": "code",
   "execution_count": null,
   "metadata": {
    "collapsed": false
   },
   "outputs": [],
   "source": [
    "(predict6, best_weights, _) = test_nn(modern_nn_model_h1, X_train, X_test, Y_train, Y_test, \n",
    "        iterations=20001, dimensions=[feats, 100, 2],\n",
    "        update='rms_prop', uses_dropout=True,\n",
    "        max_distance=100, lr=0.00001, min_lr=0.000001)"
   ]
  },
  {
   "cell_type": "raw",
   "metadata": {},
   "source": [
    "(predict7, best_weights, _) = test_nn(modern_nn_model_h1, X_train, X_test, Y_train, Y_test, \n",
    "        iterations=20001, dimensions=[feats, 100, 2],\n",
    "        update='rms_prop', uses_dropout=True,\n",
    "        max_distance=100, lr=0.000003, min_lr=0.0000001)"
   ]
  },
  {
   "cell_type": "code",
   "execution_count": null,
   "metadata": {
    "collapsed": false
   },
   "outputs": [],
   "source": [
    "(predict8, best_weights, _) = test_nn(modern_nn_model_h1, X_train, X_test, Y_train, Y_test, \n",
    "        iterations=20001, dimensions=[feats, 100, 2],\n",
    "        update='rms_prop', uses_dropout=True,\n",
    "        max_distance=100, lr=0.000001, min_lr=0.0000001)"
   ]
  },
  {
   "cell_type": "markdown",
   "metadata": {},
   "source": [
    "###Now try with single output"
   ]
  },
  {
   "cell_type": "raw",
   "metadata": {
    "collapsed": false
   },
   "source": [
    "YY_train = Y[:n_train,]\n",
    "YY_train = YY_train.reshape((n_train, 1))                         \n",
    "YY_test = Y[n_train:n_train+n_test,]\n",
    "YY_test = YY_test.reshape((n_test, 1))"
   ]
  },
  {
   "cell_type": "raw",
   "metadata": {
    "collapsed": false
   },
   "source": [
    "test_nn(modern_nn_model_h1, X_train, X_test, YY_train, YY_test, \n",
    "        iterations=51, dimensions=[feats, 100, 1],\n",
    "        update='rms_prop', uses_dropout=True, use_binary_crossentropy=True)"
   ]
  },
  {
   "cell_type": "markdown",
   "metadata": {},
   "source": [
    "Results are always 1, independent of Binary or categorical crossentropy"
   ]
  }
 ],
 "metadata": {
  "kernelspec": {
   "display_name": "Python 2",
   "language": "python",
   "name": "python2"
  },
  "language_info": {
   "codemirror_mode": {
    "name": "ipython",
    "version": 2
   },
   "file_extension": ".py",
   "mimetype": "text/x-python",
   "name": "python",
   "nbconvert_exporter": "python",
   "pygments_lexer": "ipython2",
   "version": "2.7.9"
  }
 },
 "nbformat": 4,
 "nbformat_minor": 0
}
