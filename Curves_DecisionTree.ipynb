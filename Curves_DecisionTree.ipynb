{
 "metadata": {
  "name": "",
  "signature": "sha256:0e0f43d3ac4a01f422d803fa815de3271c8d8e3a1482ff931ca5ec411bbd642c"
 },
 "nbformat": 3,
 "nbformat_minor": 0,
 "worksheets": [
  {
   "cells": [
    {
     "cell_type": "code",
     "collapsed": false,
     "input": [
      "%matplotlib inline\n",
      "from pprint import pprint\n",
      "from collections import defaultdict\n",
      "\n",
      "import numpy as np\n",
      "import math\n",
      "import matplotlib.pyplot as plt\n",
      "import random\n",
      "import warnings\n",
      "\n",
      "#from sklearn.linear_model import LogisticRegression\n",
      "#from sklearn.svm import SVC\n",
      "#from sklearn.naive_bayes import GaussianNB\n",
      "#from sklearn.linear_model import SGDClassifier\n",
      "import sklearn.tree\n",
      "import sklearn.ensemble\n",
      "\n",
      "from sklearn.grid_search import GridSearchCV\n",
      "from sklearn import metrics\n",
      "\n",
      "import sys\n",
      "sys.path.append('./dev')\n",
      "\n",
      "from ml_plot import plot_validation_curve\n",
      "from ml_plot import PredictCV, my_plot_learning_curve\n",
      "from ml_plot import plot_prediction_curve\n",
      "from ml_plot import get_dataset, eval_predictions"
     ],
     "language": "python",
     "metadata": {},
     "outputs": [],
     "prompt_number": 1
    },
    {
     "cell_type": "heading",
     "level": 1,
     "metadata": {},
     "source": [
      "Configuration"
     ]
    },
    {
     "cell_type": "code",
     "collapsed": false,
     "input": [
      "# PROJECT = 'nova'\n",
      "# PROJECT = 'swift'\n",
      "# PROJECT = 'cinder'\n",
      "PROJECT = 'heat'\n",
      "# PROJECT = 'glance'\n",
      "\n",
      "# IMPORTANCE = 'crit'\n",
      "# IMPORTANCE = 'high+'\n",
      "IMPORTANCE = 'med+'\n",
      "# IMPORTANCE = 'low+'\n",
      "\n",
      "# SIZE = 100\n",
      "#SIZE = 250\n",
      "# SIZE = 0.1\n",
      "SIZE = 0.5\n",
      "\n",
      "SCORING = 'f1'         # (precision * recall) / (precision + recall)\n",
      "# SCORING = 'accuracy'   # (TP + TN) / all values\n",
      "# SCORING = 'precision'  # TP / (TP + FP)\n",
      "# SCORING = 'recall'     # TP / (TP + FN)\n",
      "# SCORING = 'average_precision'\n",
      "# SCORING = 'roc_auc'\n",
      "\n",
      "JOBS = 4\n",
      "\n",
      "VERBOSE = 0\n",
      "\n",
      "#warnings.simplefilter(\"ignore\", UndefinedMetricWarning)\n",
      "warnings.filterwarnings(\"ignore\", 'F-score is ill-defined')"
     ],
     "language": "python",
     "metadata": {},
     "outputs": [],
     "prompt_number": 2
    },
    {
     "cell_type": "heading",
     "level": 1,
     "metadata": {},
     "source": [
      "Load Data"
     ]
    },
    {
     "cell_type": "code",
     "collapsed": false,
     "input": [
      "%%capture\n",
      "Y, X = get_dataset(PROJECT, IMPORTANCE)"
     ],
     "language": "python",
     "metadata": {},
     "outputs": [],
     "prompt_number": 3
    },
    {
     "cell_type": "heading",
     "level": 3,
     "metadata": {},
     "source": [
      "Select Split Strategy"
     ]
    },
    {
     "cell_type": "code",
     "collapsed": false,
     "input": [
      "cv = PredictCV(len(Y), history=1000, future=500, n_iter=10)"
     ],
     "language": "python",
     "metadata": {},
     "outputs": [],
     "prompt_number": 4
    },
    {
     "cell_type": "heading",
     "level": 1,
     "metadata": {},
     "source": [
      "Decision Tree Classifier"
     ]
    },
    {
     "cell_type": "code",
     "collapsed": false,
     "input": [
      "estimator = sklearn.tree.DecisionTreeClassifier()\n",
      "param_grid = {'criterion': ['gini', 'entropy'], \n",
      "                  'max_features':['auto', 'log2', 10, 25, 50, 75, 100, 150, 200]  }"
     ],
     "language": "python",
     "metadata": {},
     "outputs": [],
     "prompt_number": 5
    },
    {
     "cell_type": "code",
     "collapsed": false,
     "input": [
      "grid = GridSearchCV(estimator, param_grid=param_grid, cv=cv, scoring=SCORING,\n",
      "                    n_jobs=JOBS, pre_dispatch=2*JOBS, verbose=VERBOSE)\n",
      "# grid.fit(X_train, Y_train)\n",
      "grid.fit(X, Y)\n",
      "print 'best_score: ', grid.best_score_\n",
      "clf = grid.best_estimator_\n",
      "grid.best_estimator_"
     ],
     "language": "python",
     "metadata": {},
     "outputs": [
      {
       "output_type": "stream",
       "stream": "stdout",
       "text": [
        "best_score:  0.381126413882\n"
       ]
      },
      {
       "output_type": "pyout",
       "prompt_number": 6,
       "text": [
        "DecisionTreeClassifier(compute_importances=None, criterion='entropy',\n",
        "            max_depth=None, max_features=200, max_leaf_nodes=None,\n",
        "            min_density=None, min_samples_leaf=1, min_samples_split=2,\n",
        "            random_state=None, splitter='best')"
       ]
      }
     ],
     "prompt_number": 6
    },
    {
     "cell_type": "heading",
     "level": 3,
     "metadata": {},
     "source": [
      "Validation Curves"
     ]
    },
    {
     "cell_type": "code",
     "collapsed": false,
     "input": [
      "best_score, param_val, param_name = \\\n",
      "    plot_validation_curve(clf,\n",
      "                          X, Y,\n",
      "                          \"max_features\", [10, 25, 50, 75, 100, 125, 150, 200, 250, 300],\n",
      "                          \"max_features Validation Curve\",\n",
      "                          cv=cv, scoring=SCORING, n_jobs=JOBS)\n",
      "print 'Best score of', best_score, 'when setting', param_name, 'to',  param_val"
     ],
     "language": "python",
     "metadata": {},
     "outputs": [
      {
       "output_type": "display_data",
       "png": "[encoded data removed]",
       "text": [
        "<matplotlib.figure.Figure at 0x10182ef50>"
       ]
      },
      {
       "output_type": "stream",
       "stream": "stdout",
       "text": [
        "Best score of 0.383855663248 when setting max_features to 250\n"
       ]
      }
     ],
     "prompt_number": 7
    },
    {
     "cell_type": "heading",
     "level": 3,
     "metadata": {},
     "source": [
      "Learning Curve"
     ]
    },
    {
     "cell_type": "code",
     "collapsed": false,
     "input": [
      "title = \"Learning Curves for Decision Tree Classifier\"\n",
      "my_plot_learning_curve(clf, title, X, Y,\n",
      "                           n_jobs=JOBS, future=200,\n",
      "                           history_sizes=[100, 200, 300, 500, 700, 1000])"
     ],
     "language": "python",
     "metadata": {},
     "outputs": [
      {
       "output_type": "pyout",
       "prompt_number": 8,
       "text": [
        "<module 'matplotlib.pyplot' from '/Users/doug/anaconda/lib/python2.7/site-packages/matplotlib/pyplot.pyc'>"
       ]
      },
      {
       "output_type": "display_data",
       "png": "[encoded data removed]",
       "text": [
        "<matplotlib.figure.Figure at 0x102f543d0>"
       ]
      }
     ],
     "prompt_number": 8
    },
    {
     "cell_type": "heading",
     "level": 3,
     "metadata": {},
     "source": [
      "Prediction Curve"
     ]
    },
    {
     "cell_type": "code",
     "collapsed": false,
     "input": [
      "title = \"Prediction Horizon Curve for Decision Tree Classifier\"\n",
      "plot_prediction_curve(clf, title, X, Y,\n",
      "                           n_jobs=JOBS, history=500,\n",
      "                           future_sizes=[100, 200, 300, 500])"
     ],
     "language": "python",
     "metadata": {},
     "outputs": [
      {
       "output_type": "pyout",
       "prompt_number": 9,
       "text": [
        "<module 'matplotlib.pyplot' from '/Users/doug/anaconda/lib/python2.7/site-packages/matplotlib/pyplot.pyc'>"
       ]
      },
      {
       "output_type": "display_data",
       "png": "[encoded data removed]",
       "text": [
        "<matplotlib.figure.Figure at 0x12c401310>"
       ]
      }
     ],
     "prompt_number": 9
    },
    {
     "cell_type": "code",
     "collapsed": false,
     "input": [
      "DT_results = eval_predictions(clf, X, Y, history_sizes=[300, 500, 1000], future_sizes=[100, 200, 500])"
     ],
     "language": "python",
     "metadata": {},
     "outputs": [
      {
       "output_type": "stream",
       "stream": "stdout",
       "text": [
        "** Predictions for hist=300 future=100 **\n",
        "\n",
        "F1:        0.38  +/- 0.13\n",
        "Accuracy:  0.67  +/- 0.12\n",
        "Precision: 0.40  +/- 0.14\n",
        "Recall:    0.39  +/- 0.16\n",
        "\n",
        "Aggregate Confusion Matrix - 10 iterations\n",
        "[[554 170]\n",
        " [162 114]]\n",
        "\n",
        "\n",
        "** Predictions for hist=300 future=200 **"
       ]
      },
      {
       "output_type": "stream",
       "stream": "stdout",
       "text": [
        "\n",
        "\n",
        "F1:        0.40  +/- 0.10\n",
        "Accuracy:  0.66  +/- 0.13\n",
        "Precision: 0.38  +/- 0.04\n",
        "Recall:    0.46  +/- 0.20\n",
        "\n",
        "Aggregate Confusion Matrix - 10 iterations\n",
        "[[1047  425]\n",
        " [ 259  269]]\n",
        "\n",
        "\n",
        "** Predictions for hist=300 future=500 **"
       ]
      },
      {
       "output_type": "stream",
       "stream": "stdout",
       "text": [
        "\n",
        "\n",
        "F1:        0.38  +/- 0.09\n",
        "Accuracy:  0.68  +/- 0.08\n",
        "Precision: 0.40  +/- 0.09\n",
        "Recall:    0.39  +/- 0.14\n",
        "\n",
        "Aggregate Confusion Matrix - 10 iterations\n",
        "[[2830  834]\n",
        " [ 775  561]]\n",
        "\n",
        "\n",
        "** Predictions for hist=500 future=100 **"
       ]
      },
      {
       "output_type": "stream",
       "stream": "stdout",
       "text": [
        "\n",
        "\n",
        "F1:        0.36  +/- 0.13\n",
        "Accuracy:  0.63  +/- 0.10\n",
        "Precision: 0.36  +/- 0.13\n",
        "Recall:    0.37  +/- 0.17\n",
        "\n",
        "Aggregate Confusion Matrix - 10 iterations\n",
        "[[508 195]\n",
        " [176 121]]\n",
        "\n",
        "\n",
        "** Predictions for hist=500 future=200 **"
       ]
      },
      {
       "output_type": "stream",
       "stream": "stdout",
       "text": [
        "\n",
        "\n",
        "F1:        0.37  +/- 0.10\n",
        "Accuracy:  0.64  +/- 0.08\n",
        "Precision: 0.34  +/- 0.12\n",
        "Recall:    0.43  +/- 0.14\n",
        "\n",
        "Aggregate Confusion Matrix - 10 iterations\n",
        "[[1062  427]\n",
        " [ 284  227]]\n",
        "\n",
        "\n",
        "** Predictions for hist=500 future=500 **"
       ]
      },
      {
       "output_type": "stream",
       "stream": "stdout",
       "text": [
        "\n",
        "\n",
        "F1:        0.41  +/- 0.06\n",
        "Accuracy:  0.66  +/- 0.04\n",
        "Precision: 0.39  +/- 0.09\n",
        "Recall:    0.45  +/- 0.05\n",
        "\n",
        "Aggregate Confusion Matrix - 10 iterations\n",
        "[[2679  953]\n",
        " [ 741  627]]\n",
        "\n",
        "\n",
        "** Predictions for hist=1000 future=100 **"
       ]
      },
      {
       "output_type": "stream",
       "stream": "stdout",
       "text": [
        "\n",
        "\n",
        "F1:        0.34  +/- 0.12\n",
        "Accuracy:  0.69  +/- 0.11\n",
        "Precision: 0.34  +/- 0.13\n",
        "Recall:    0.36  +/- 0.16\n",
        "\n",
        "Aggregate Confusion Matrix - 10 iterations\n",
        "[[608 166]\n",
        " [140  86]]\n",
        "\n",
        "\n",
        "** Predictions for hist=1000 future=200 **"
       ]
      },
      {
       "output_type": "stream",
       "stream": "stdout",
       "text": [
        "\n",
        "\n",
        "F1:        0.38  +/- 0.06\n",
        "Accuracy:  0.70  +/- 0.05\n",
        "Precision: 0.33  +/- 0.06\n",
        "Recall:    0.44  +/- 0.08\n",
        "\n",
        "Aggregate Confusion Matrix - 10 iterations\n",
        "[[1222  359]\n",
        " [ 231  188]]\n",
        "\n",
        "\n",
        "** Predictions for hist=1000 future=500 **"
       ]
      },
      {
       "output_type": "stream",
       "stream": "stdout",
       "text": [
        "\n",
        "\n",
        "F1:        0.38  +/- 0.05\n",
        "Accuracy:  0.68  +/- 0.04\n",
        "Precision: 0.34  +/- 0.05\n",
        "Recall:    0.46  +/- 0.06\n",
        "\n",
        "Aggregate Confusion Matrix - 10 iterations\n",
        "[[2902  991]\n",
        " [ 599  508]]\n",
        "\n",
        "\n"
       ]
      }
     ],
     "prompt_number": 10
    },
    {
     "cell_type": "code",
     "collapsed": false,
     "input": [
      "DT_clf = clf"
     ],
     "language": "python",
     "metadata": {},
     "outputs": [],
     "prompt_number": 11
    }
   ],
   "metadata": {}
  }
 ]
}