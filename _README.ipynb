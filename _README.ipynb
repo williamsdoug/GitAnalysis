{
 "metadata": {
  "name": "",
  "signature": "sha256:e5402a873379a192fa74b9ef37acc16544e841c3329f935859f66a6573b0a1b3"
 },
 "nbformat": 3,
 "nbformat_minor": 0,
 "worksheets": [
  {
   "cells": [
    {
     "cell_type": "markdown",
     "metadata": {},
     "source": [
      "#Develop and Deployment Notes\n",
      "\n",
      "###Updated: 3/12/15"
     ]
    },
    {
     "cell_type": "markdown",
     "metadata": {},
     "source": [
      "#Issues and To Do\n",
      "\n",
      "###Issues:\n",
      "- Pre-Gerrit and post-Gerrit commits significantly complicate processing\n",
      " - for now, threat pre-Gerrit as legacy\n",
      "- Some bugs are actually feature enhancements\n",
      " - can we use blueprints to identify these commits???\n",
      "- Poor prediction rates using SVM\n",
      " - See if too many features is complicating things.\n",
      " - Try other solvers\n",
      "\n",
      "###To Do:\n",
      "- Focus on machine learning\n",
      "- Prune obsolete code"
     ]
    },
    {
     "cell_type": "heading",
     "level": 1,
     "metadata": {},
     "source": [
      "Installation"
     ]
    },
    {
     "cell_type": "markdown",
     "metadata": {},
     "source": [
      "######Installing launchpadlib produces error.  \n",
      "This work-around seemed to fix the problem: http://www.snip2code.com/Snippet/96088/Install-python-launchpadlib-in-Gentoo\n",
      "\n",
      "- pip install launchpadlib==1.10.2 --allow-external launchpadlib --allow-unverified launchpadlib --allow-external lazr.authentication --allow-unverified lazr.authentication\n",
      "\n",
      "- pip install lazr.restfulclient>=0.9.19  --allow-external lazr.authentication\n",
      "\n",
      "######Need latest version of GitPython\n",
      "- pip install -I GitPython==0.3.2.RC1\n",
      " - see:  https://github.com/vitalif/GitPython/commit/104524267b616934983fff89ff112970febac68e"
     ]
    },
    {
     "cell_type": "heading",
     "level": 1,
     "metadata": {},
     "source": [
      "Top Level Routines"
     ]
    },
    {
     "cell_type": "markdown",
     "metadata": {},
     "source": [
      "###rebuild_all_analysis_data(PROJECT, update=INCREMENTAL_UPDATE, download=PERMIT_DOWNLOADS)\n",
      "\n",
      "    from commit_analysis import rebuild_all_analysis_data\n",
      "\n",
      "Top level routine to download and parse data from git, Launchpad and Gerrit.  Annotates git commits with data from Launchpad and Gerrit (combined_commits)\n",
      "\n",
      "Includes:\n",
      "- build_lp_bugs()\n",
      "- build_gerrit_data()\n",
      "- build_git_commits()\n",
      "- verify_missing_bugs()\n",
      "- join_all(project)"
     ]
    },
    {
     "cell_type": "markdown",
     "metadata": {},
     "source": [
      "###commit_postprocessing(PROJECT, IMPORTANCE)\n",
      "    from BugFixWorkflow import commit_postprocessing\n",
      "    \n",
      "Top level bug-workflow routine. Computes guilt, determines commit relevance and annotates commit ordering.  Returns annotated version of combined_commits\n",
      "\n",
      "Includes:\n",
      "- rebuild_all_analysis_data() -- optional\n",
      "- load_all_analysis_data()\n",
      "- import_all_bugs(all_bugs)  # hack to make bug data visible\n",
      "- find_legacy_cutoff()\n",
      "- build_all_guilt() -- subject to specified importance\n",
      "- annotate_commit_reachability()\n",
      "- prune_empty_commits()\n",
      "- annotate_commit_loc()\n",
      "- git_annotate_order()\n",
      "- get_commit_ordering_min_max()"
     ]
    },
    {
     "cell_type": "markdown",
     "metadata": {},
     "source": [
      "##Feature Extraction Flow\n",
      "\n",
      "Current Features:\n",
      "- author, author's org\n",
      "- list of files changed\n",
      "- review stats\n",
      "- ordering info (expressed as log of order):\n",
      " - Author order\n",
      " - Include max and min order for files (overall and by author)\n",
      " - Include order by individual files\n",
      "- Overall change complexity and degree of change by individual files\n",
      "- If this is a fix to an existing bug\n",
      "Includes parameter extraction routines:\n",
      "- find_legacy_cutoff() - first commit using Git+LP+Gerrit toolschain\n",
      "- get_commit_ordering_min_max() - gets range of commit order values\n",
      "- compute_selected_bug_fixes() - dermines number of non-Legacy bugs subject to severity requirement\n",
      "\n",
      "###fit_features(combined_commits, min_order=min_order, max_order=max_order)\n",
      "    from commit_analysis import fit_features\n",
      "    \n",
      "Initial fitting of data.  Settings for min-max scaler, column names for DictVectorizer\n",
      "\n",
      "###extract_features(combined_commits, extract_state,\n",
      "    from commit_analysis import extract_features\n",
      "    \n",
      "Generates Feature Matrix and labels.  Also returns per-row commit id's and column names for feature matrix\n",
      "\n",
      "######Sample Sequence"
     ]
    },
    {
     "cell_type": "raw",
     "metadata": {},
     "source": [
      "from Git_Extract import get_commit_ordering_min_max\n",
      "from BugFixWorkflow import compute_selected_bug_fixes\n",
      "from BugFixWorkflow import find_legacy_cutoff\n",
      "from commit_analysis import fit_features\n",
      "from commit_analysis import extract_features\n",
      "\n",
      "legacy_cutoff = find_legacy_cutoff(combined_commits)\n",
      "min_order, max_order = get_commit_ordering_min_max(combined_commits)\n",
      "actual_bugs =  compute_selected_bug_fixes(combined_commits, legacy_cutoff=legacy_cutoff,\n",
      "                                          min_order=min_order, max_order=max_order)\n",
      "\n",
      "extract_state = fit_features(combined_commits, min_order=min_order, max_order=max_order)\n",
      "\n",
      "all_cid, Y, X, col_names = extract_features(combined_commits,\n",
      "                                               extract_state,\n",
      "                                               min_order=min_order, max_order=max_order,\n",
      "                                               threshold=guilt_threshold)"
     ]
    },
    {
     "cell_type": "markdown",
     "metadata": {},
     "source": [
      "###export_feature_vectors_to_csv(project, importance, suffix)\n",
      "    from BugFixWorkflow import export_feature_vectors_to_csv\n",
      "\n",
      "Exports data in CSV format"
     ]
    },
    {
     "cell_type": "heading",
     "level": 1,
     "metadata": {},
     "source": [
      "Development Notes"
     ]
    },
    {
     "cell_type": "markdown",
     "metadata": {},
     "source": [
      "###General\n",
      "######To Do:\n",
      "- Clean-up usage of global variables, consider converting to class\n",
      "- Verify with non-OpenStack use-cases, such as Kubernetes"
     ]
    },
    {
     "cell_type": "markdown",
     "metadata": {},
     "source": [
      "###Git_Extract_Join\n",
      "\n",
      "######To Do:\n"
     ]
    },
    {
     "cell_type": "markdown",
     "metadata": {},
     "source": [
      "###GerritDownload\n",
      "\n",
      "######To Do:\n",
      "- Validate data with git and LP\n",
      "- convert REST from global variable to a passed parameter (or re-cast as a class)"
     ]
    },
    {
     "cell_type": "markdown",
     "metadata": {},
     "source": [
      "###LPBugsDownload\n",
      "######To Do:\n",
      "- No actions at this time."
     ]
    },
    {
     "cell_type": "markdown",
     "metadata": {},
     "source": [
      "###CommitAnalysis\n",
      "######To Do:\n",
      "- add option to clip proximity to normalize_blame_by_commit\n",
      "- Consider making get_anon_name a class (encapsulate anon and anon_ctr)"
     ]
    },
    {
     "cell_type": "markdown",
     "metadata": {},
     "source": [
      "###Analysis and Feature Extraction\n",
      "######To Do:\n",
      "- add option to clip proximity to normalize_blame_by_commit\n",
      "- Consider making get_anon_name a class (encapsulate anon and anon_ctr)"
     ]
    },
    {
     "cell_type": "heading",
     "level": 1,
     "metadata": {},
     "source": [
      "Information on cgit"
     ]
    },
    {
     "cell_type": "markdown",
     "metadata": {},
     "source": [
      "location: http://git.openstack.org/cgit/openstack/glance/commit/?"
     ]
    },
    {
     "cell_type": "markdown",
     "metadata": {},
     "source": [
      "- Summary: http://git.openstack.org/cgit/openstack/glance/\n",
      "- Refs: http://git.openstack.org/cgit/openstack/glance/refs/\n",
      "- Log: http://git.openstack.org/cgit/openstack/glance/log/\n",
      " - Continuation: http://git.openstack.org/cgit/openstack/glance/log/?ofs=50\n",
      "- Master Commit: http://git.openstack.org/cgit/openstack/glance/commit/\n",
      "- Individual Commit: http://git.openstack.org/cgit/openstack/glance/commit/?id=c84d8c98bc0dd64d79bd1e659b9561d47b3428c1\n",
      " or http://git.openstack.org/cgit/openstack/glance/commit/?id=78b5b0a9575cd5e9c4543ec0e8fd6072af1f0ebb&context=1&ignorews=0&ss=0\n",
      " - Patch Data: http://git.openstack.org/cgit/openstack/glance/patch/?id=c84d8c98bc0dd64d79bd1e659b9561d47b3428c1\n",
      " - Tree: http://git.openstack.org/cgit/openstack/glance/tree/?id=c84d8c98bc0dd64d79bd1e659b9561d47b3428c1\n",
      "  - Subtree or file: http://git.openstack.org/cgit/openstack/glance/tree/.coveragerc?id=c84d8c98bc0dd64d79bd1e659b9561d47b3428c1\n",
      " - Diff: http://git.openstack.org/cgit/openstack/glance/diff/?id=c84d8c98bc0dd64d79bd1e659b9561d47b3428c1&id2=78b5b0a9575cd5e9c4543ec0e8fd6072af1f0ebb\n",
      " "
     ]
    },
    {
     "cell_type": "code",
     "collapsed": false,
     "input": [],
     "language": "python",
     "metadata": {},
     "outputs": [],
     "prompt_number": 0
    }
   ],
   "metadata": {}
  }
 ]
}