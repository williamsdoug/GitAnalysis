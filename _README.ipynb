{
 "metadata": {
  "name": "",
  "signature": "sha256:357b132f161844ef6cdbba206e25640e8288d220a44fc47fee09e714c415daec"
 },
 "nbformat": 3,
 "nbformat_minor": 0,
 "worksheets": [
  {
   "cells": [
    {
     "cell_type": "heading",
     "level": 1,
     "metadata": {},
     "source": [
      "Develop and Deployment Notes"
     ]
    },
    {
     "cell_type": "heading",
     "level": 2,
     "metadata": {},
     "source": [
      "Installation"
     ]
    },
    {
     "cell_type": "markdown",
     "metadata": {},
     "source": [
      "######Installing launchpadlib produces error.  \n",
      "This work-around seemed to fix the problem: http://www.snip2code.com/Snippet/96088/Install-python-launchpadlib-in-Gentoo\n",
      "\n",
      "- pip install launchpadlib==1.10.2 --allow-external launchpadlib --allow-unverified launchpadlib --allow-external lazr.authentication --allow-unverified lazr.authentication\n",
      "\n",
      "- pip install lazr.restfulclient>=0.9.19  --allow-external lazr.authentication\n",
      "\n",
      "######Need latest version of GitPython\n",
      "- pip install -I GitPython==0.3.2.RC1\n",
      " - see:  https://github.com/vitalif/GitPython/commit/104524267b616934983fff89ff112970febac68e"
     ]
    },
    {
     "cell_type": "code",
     "collapsed": false,
     "input": [],
     "language": "python",
     "metadata": {},
     "outputs": []
    },
    {
     "cell_type": "heading",
     "level": 2,
     "metadata": {},
     "source": [
      "Development"
     ]
    },
    {
     "cell_type": "heading",
     "level": 3,
     "metadata": {},
     "source": [
      "Create Corpus"
     ]
    },
    {
     "cell_type": "markdown",
     "metadata": {},
     "source": [
      "####Issues (may impact correctness):\n",
      "- Verify proper join operation for Swift\n",
      "- Verify get_patch_data operating properly for Swift\n",
      "- Determine why a number of git_blame are missing for Nova\n",
      " - (subsequent runs attempt to regenerate the same commits)\n",
      " - Are these the same commits as huge diffs?\n",
      "- Investigate huge diff outputs (should we change alg used in diff)\n",
      "\n",
      "####To Do (improvements):\n",
      "- make process_commits and build_git_commits incremental\n",
      "- Non-OpenStack support:\n",
      " - General clean-up and verification\n",
      " - check whether get_patch_data() handling OK for Kubernetes\n",
      "- Understand whether -C -C option should be used with git_blame\n",
      "- General issue:  for items with state (global), consider converting to a class"
     ]
    },
    {
     "cell_type": "heading",
     "level": 3,
     "metadata": {},
     "source": [
      "Analysis and Feature Extraction"
     ]
    },
    {
     "cell_type": "markdown",
     "metadata": {},
     "source": [
      "See: Blame Analysis for corrent description.  Once coding stabilized, should move documentation back to readme.\n",
      "\n",
      "\n",
      "####To Do (improvements):\n",
      "- rename normalize_blame_by_commit to blame_compute_normalized_guilt\n",
      "- add option to clip proximity to normalize_blame_by_commit\n",
      "- Consider making get_anon_name a class (encapsulate anon and anon_ctr)"
     ]
    },
    {
     "cell_type": "markdown",
     "metadata": {},
     "source": [
      "####Some speculative thoughts:\n",
      "- Feature Extraction Test/Train\n",
      " - Separately extract features for test/train period, skip latest 20% of commits\n",
      " - Change balance of positive/negative commits to imprpve trainging.  Traioning currently skewed towards negative test vased today\n",
      "- Create validation test suite with latest tests.  Want to measure prediction accuracy for future bugs."
     ]
    },
    {
     "cell_type": "code",
     "collapsed": false,
     "input": [
      ".git, .hb, .svn, .gs_Store, Thumb.db, .pyc"
     ],
     "language": "python",
     "metadata": {},
     "outputs": []
    }
   ],
   "metadata": {}
  }
 ]
}