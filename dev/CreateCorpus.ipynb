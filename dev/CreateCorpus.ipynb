{
 "metadata": {
  "name": "",
  "signature": "sha256:f39382ac486dcfb3b5884fe21f760dd17c59996c79cd291e27ded8cd1d0525da"
 },
 "nbformat": 3,
 "nbformat_minor": 0,
 "worksheets": [
  {
   "cells": [
    {
     "cell_type": "code",
     "collapsed": false,
     "input": [
      "import pprint as pp\n",
      "#import sys\n",
      "#sys.path.append('~/ipython/launchpad/')\n",
      "\n",
      "from jp_load_dump import pdump, pload, jdump, jload\n",
      "\n",
      "from LPBugsDownload import build_lp_bugs, load_lp_bugs\n",
      "\n",
      "from GerritDownload import build_gerrit_data\n",
      "from GerritDownload import load_gerrit_changes, load_gerrit_change_details\n",
      "\n",
      "from Git_Extract_Join import build_git_commits, load_git_commits\n",
      "from Git_Extract_Join import build_joined_LP_Gerrit_git, load_combined_commits\n",
      "from Git_Extract_Join import build_all_blame, load_all_blame"
     ],
     "language": "python",
     "metadata": {},
     "outputs": [],
     "prompt_number": 1
    },
    {
     "cell_type": "heading",
     "level": 3,
     "metadata": {},
     "source": [
      "Parameters"
     ]
    },
    {
     "cell_type": "code",
     "collapsed": false,
     "input": [
      "PROJECT = 'nova'\n",
      "REPO_NAME ='/Users/doug/SW_Dev/nova'\n",
      "CACHEDIR = '/Users/doug/ipython/launchpad/cache/'\n",
      "UPDATE_CORPUS = False"
     ],
     "language": "python",
     "metadata": {},
     "outputs": [],
     "prompt_number": 2
    },
    {
     "cell_type": "heading",
     "level": 3,
     "metadata": {},
     "source": [
      "Update base data for Corpus"
     ]
    },
    {
     "cell_type": "code",
     "collapsed": false,
     "input": [
      "if UPDATE_CORPUS:\n",
      "    print 'updating bug data'\n",
      "    build_lp_bugs(PROJECT, update=True, cachedir=CACHEDIR)\n",
      "    print 'rebuilding Gerrit data'\n",
      "    build_gerrit_data(PROJECT, update=True)\n",
      "\n",
      "    print 'rebuilding Git data'\n",
      "    build_git_commits(project=PROJECT, repo_name=REPO_NAME)"
     ],
     "language": "python",
     "metadata": {},
     "outputs": [],
     "prompt_number": 3
    },
    {
     "cell_type": "heading",
     "level": 3,
     "metadata": {},
     "source": [
      "Get Launchpad, Gerrit and Git Data"
     ]
    },
    {
     "cell_type": "code",
     "collapsed": false,
     "input": [
      "print\n",
      "print 'loading bug data'\n",
      "downloaded_bugs = load_lp_bugs(PROJECT)\n",
      "print 'loading change data'    \n",
      "all_changes = load_gerrit_changes(PROJECT)\n",
      "print 'all_changes:', len(all_changes)\n",
      "all_change_details = load_gerrit_change_details(PROJECT)\n",
      "print 'all_change_details:', len(all_change_details)\n",
      "print 'loading Git commit data'\n",
      "commits = load_git_commits(PROJECT)"
     ],
     "language": "python",
     "metadata": {},
     "outputs": [
      {
       "output_type": "stream",
       "stream": "stdout",
       "text": [
        "\n",
        "loading bug data\n",
        "gzipped\n",
        "returning dict"
       ]
      },
      {
       "output_type": "stream",
       "stream": "stdout",
       "text": [
        "\n",
        "Object type:"
       ]
      },
      {
       "output_type": "stream",
       "stream": "stdout",
       "text": [
        " <type 'dict'>\n",
        "total LP bugs: 6064\n",
        "Entries annotated: 3991\n",
        "loading change data\n",
        "gzipped\n",
        "returning list"
       ]
      },
      {
       "output_type": "stream",
       "stream": "stdout",
       "text": [
        "\n",
        "Object type: <type 'list'>\n",
        "total gerrit changes: 10755\n",
        "all_changes: 10755\n",
        "gzipped\n",
        "returning list"
       ]
      },
      {
       "output_type": "stream",
       "stream": "stdout",
       "text": [
        "\n",
        "Object type: <type 'list'>\n",
        "total gerrit changes with detail: 10734\n",
        "all_change_details: 10734\n",
        "loading Git commit data\n",
        "gzipped\n",
        "returning singleton"
       ]
      },
      {
       "output_type": "stream",
       "stream": "stdout",
       "text": [
        "\n",
        "Object type: <type 'dict'>\n",
        "total git_commits: 29640\n",
        "bug fix commits: 8220\n",
        "commits with change_id: 18475\n",
        "bug fix with change_id: 8028\n"
       ]
      }
     ],
     "prompt_number": 4
    },
    {
     "cell_type": "heading",
     "level": 6,
     "metadata": {},
     "source": [
      "Sanity check data"
     ]
    },
    {
     "cell_type": "code",
     "collapsed": false,
     "input": [
      "total_bugs = 0\n",
      "total_changes = 0\n",
      "total_both = 0\n",
      "for x in commits.values():\n",
      "    if 'bug' in x:\n",
      "        total_bugs += 1\n",
      "        \n",
      "print 'commits:', len(commits)\n",
      "print 'bugs:', total_bugs\n",
      "\n",
      "sample_change = [x for x in commits.values() if 'change_id' in x]\n",
      "print 'changes:', len(sample_change)\n",
      "sample_both = [x for x in commits.values() if 'change_id' in x and 'bug' in x]\n",
      "print 'bug fix changes:', len(sample_both)\n",
      "\n",
      "#print\n",
      "#pp.pprint(commits.values()[0:2])"
     ],
     "language": "python",
     "metadata": {},
     "outputs": [
      {
       "output_type": "stream",
       "stream": "stdout",
       "text": [
        "commits: 29640\n",
        "bugs: 8220\n",
        "changes: 18475\n",
        "bug fix changes: 8028\n"
       ]
      }
     ],
     "prompt_number": 5
    },
    {
     "cell_type": "heading",
     "level": 3,
     "metadata": {},
     "source": [
      "Join LP, Gerrit and Git data and generate consolidated corpus"
     ]
    },
    {
     "cell_type": "code",
     "collapsed": false,
     "input": [
      "if UPDATE_CORPUS:\n",
      "    build_joined_LP_Gerrit_git(PROJECT, commits, downloaded_bugs, all_change_details)"
     ],
     "language": "python",
     "metadata": {},
     "outputs": [],
     "prompt_number": 6
    },
    {
     "cell_type": "code",
     "collapsed": false,
     "input": [
      "combined_commits = load_combined_commits(PROJECT)\n",
      "\n",
      "print len(combined_commits)"
     ],
     "language": "python",
     "metadata": {},
     "outputs": [
      {
       "output_type": "stream",
       "stream": "stdout",
       "text": [
        "gzipped\n",
        "returning dict"
       ]
      },
      {
       "output_type": "stream",
       "stream": "stdout",
       "text": [
        "\n",
        "29640\n"
       ]
      }
     ]
    },
    {
     "cell_type": "heading",
     "level": 3,
     "metadata": {},
     "source": [
      "Compute Diff and Blame"
     ]
    },
    {
     "cell_type": "raw",
     "metadata": {},
     "source": [
      "if UPDATE_CORPUS:\n",
      "    build_all_blame(PROJECT, combined_commits, update=True, repo_name=REPO_NAME)"
     ]
    },
    {
     "cell_type": "code",
     "collapsed": false,
     "input": [
      "build_all_blame(PROJECT, combined_commits, update=False, repo_name=REPO_NAME)"
     ],
     "language": "python",
     "metadata": {},
     "outputs": []
    },
    {
     "cell_type": "code",
     "collapsed": false,
     "input": [
      "all_blame = load_all_blame(PROJECT)\n",
      "print len(all_blame)"
     ],
     "language": "python",
     "metadata": {},
     "outputs": []
    },
    {
     "cell_type": "code",
     "collapsed": false,
     "input": [
      "#pp.pprint(all_blame[0])"
     ],
     "language": "python",
     "metadata": {},
     "outputs": []
    },
    {
     "cell_type": "code",
     "collapsed": false,
     "input": [],
     "language": "python",
     "metadata": {},
     "outputs": []
    }
   ],
   "metadata": {}
  }
 ]
}