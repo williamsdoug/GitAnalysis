{
 "metadata": {
  "name": "",
  "signature": "sha256:b9c6b989e5baba102f520ac4a305c80c6472761192878eddb00831cf91b53d0e"
 },
 "nbformat": 3,
 "nbformat_minor": 0,
 "worksheets": [
  {
   "cells": [
    {
     "cell_type": "markdown",
     "metadata": {},
     "source": [
      "#Guilt Curves for OpenStack Heat\n",
      "Copyright Doug Williams - 2014, 2015\n",
      "\n",
      "The purpose of this notebook is to help determine proper guilt threshold for labeling entries prior to training machine learning model.\n",
      "\n",
      "###Updated: 2/4/2015\n",
      "\n",
      "###Issues:\n",
      "- x\n",
      "\n",
      "###History\n",
      "- 2/4/2015: Created standalong notebook based on graphs in BlameAnalysis"
     ]
    },
    {
     "cell_type": "heading",
     "level": 1,
     "metadata": {},
     "source": [
      "Includes"
     ]
    },
    {
     "cell_type": "code",
     "collapsed": false,
     "input": [
      "%matplotlib inline"
     ],
     "language": "python",
     "metadata": {},
     "outputs": [],
     "prompt_number": 1
    },
    {
     "cell_type": "code",
     "collapsed": false,
     "input": [
      "from pprint import pprint\n",
      "from collections import defaultdict\n",
      "import numpy as np\n",
      "import math\n",
      "import matplotlib.pyplot as plt\n",
      "\n",
      "import sys\n",
      "sys.path.append('./dev')\n",
      "\n",
      "from commit_analysis import compute_guilt\n",
      "from commit_analysis import load_core_analysis_data\n",
      "from Git_Extract_Join import  filter_bug_fix_combined_commits"
     ],
     "language": "python",
     "metadata": {},
     "outputs": [],
     "prompt_number": 2
    },
    {
     "cell_type": "heading",
     "level": 1,
     "metadata": {},
     "source": [
      "Load Data"
     ]
    },
    {
     "cell_type": "code",
     "collapsed": false,
     "input": [
      "PROJECT = 'heat'"
     ],
     "language": "python",
     "metadata": {},
     "outputs": [],
     "prompt_number": 3
    },
    {
     "cell_type": "code",
     "collapsed": false,
     "input": [
      "combined_commits, all_blame = load_core_analysis_data(PROJECT)"
     ],
     "language": "python",
     "metadata": {},
     "outputs": [
      {
       "output_type": "stream",
       "stream": "stdout",
       "text": [
        "combined_commits: 7268\n",
        "all blame:"
       ]
      },
      {
       "output_type": "stream",
       "stream": "stdout",
       "text": [
        " 2605\n"
       ]
      }
     ],
     "prompt_number": 4
    },
    {
     "cell_type": "code",
     "collapsed": false,
     "input": [
      "bug_fix_commits = [k for k,v in combined_commits.items()\n",
      "                   if filter_bug_fix_combined_commits(v, importance='high+')]\n",
      "print len(bug_fix_commits)"
     ],
     "language": "python",
     "metadata": {},
     "outputs": [
      {
       "output_type": "stream",
       "stream": "stdout",
       "text": [
        "936\n"
       ]
      }
     ],
     "prompt_number": 5
    },
    {
     "cell_type": "markdown",
     "metadata": {},
     "source": [
      "#Compute Guilt"
     ]
    },
    {
     "cell_type": "code",
     "collapsed": false,
     "input": [
      "compute_guilt(combined_commits, all_blame)"
     ],
     "language": "python",
     "metadata": {},
     "outputs": [
      {
       "output_type": "stream",
       "stream": "stdout",
       "text": [
        "guilty:  2607 out of 7268 ( 35.8695652174 % )\n",
        "smallest guilt: 7.14489854244e-05\n",
        "largest guilt: 16.9705388462\n"
       ]
      }
     ],
     "prompt_number": 6
    },
    {
     "cell_type": "heading",
     "level": 3,
     "metadata": {},
     "source": [
      "Characterize Guilt Distribution"
     ]
    },
    {
     "cell_type": "markdown",
     "metadata": {},
     "source": [
      "Explore overall shape of curve.  \n",
      "\n",
      "Note:  There is an outlier value around 50 that is clipped in order to avoid distorying the below graph.  "
     ]
    },
    {
     "cell_type": "code",
     "collapsed": false,
     "input": [
      "plt.figure(figsize=(9,3))\n",
      "plt.title('Guilt Distribution'); plt.ylabel('log(count)'); plt.xlabel('guilt')\n",
      "plt.hist([v['guilt'] for v in combined_commits.values()], \n",
      "         log=True, range=(0, 10), bins=50)\n",
      "plt.show()"
     ],
     "language": "python",
     "metadata": {},
     "outputs": [
      {
       "metadata": {},
       "output_type": "display_data",
       "png": "[encoded data removed]",
       "text": [
        "<matplotlib.figure.Figure at 0x14c866bd0>"
       ]
      }
     ],
     "prompt_number": 15
    },
    {
     "cell_type": "markdown",
     "metadata": {},
     "source": [
      "Express as cumulative distribution"
     ]
    },
    {
     "cell_type": "code",
     "collapsed": false,
     "input": [
      "plt.figure(figsize=(9,3))\n",
      "plt.title('Guilt Reverse Cumulative Distribution'); plt.ylabel('count'); plt.xlabel('guilt (ignore sign)')\n",
      "plt.hist([- v['guilt'] for v in combined_commits.values()],\n",
      "         log=False, range=(-4, 0), bins=100, cumulative=True)\n",
      "plt.show()"
     ],
     "language": "python",
     "metadata": {},
     "outputs": [
      {
       "metadata": {},
       "output_type": "display_data",
       "png": "[encoded data removed]",
       "text": [
        "<matplotlib.figure.Figure at 0x14c6680d0>"
       ]
      }
     ],
     "prompt_number": 16
    },
    {
     "cell_type": "markdown",
     "metadata": {},
     "source": [
      "Since actual bug count Heat is 936, zoom in where bug count is in neighborhood "
     ]
    },
    {
     "cell_type": "code",
     "collapsed": false,
     "input": [
      "plt.figure(figsize=(9,3))\n",
      "plt.title('Guilt Reverse Cumulative Distribution (normed)')\n",
      "plt.ylabel('cumulative density'); plt.xlabel('guilt (ignore sign)')\n",
      "plt.hist([- v['guilt'] for v in combined_commits.values()],\n",
      "         log=False, range=(-2, -0.002), bins=100, cumulative=True)\n",
      "plt.show()"
     ],
     "language": "python",
     "metadata": {},
     "outputs": [
      {
       "metadata": {},
       "output_type": "display_data",
       "png": "[encoded data removed]",
       "text": [
        "<matplotlib.figure.Figure at 0x14c71d850>"
       ]
      }
     ],
     "prompt_number": 9
    },
    {
     "cell_type": "code",
     "collapsed": false,
     "input": [
      "print 'Actual Bugs:', len(bug_fix_commits)\n",
      "print\n",
      "print 'Counts for various thresholds'\n",
      "for threshold in np.arange(0.14, 0.2, 0.005):\n",
      "    count = sum([1 for v in combined_commits.values()\n",
      "                 if v['guilt'] >= threshold ])\n",
      "    \n",
      "    print count, '  thresh=', threshold"
     ],
     "language": "python",
     "metadata": {},
     "outputs": [
      {
       "output_type": "stream",
       "stream": "stdout",
       "text": [
        "Actual Bugs: 936\n",
        "\n",
        "Counts for various thresholds\n",
        "1023   thresh= 0.14\n",
        "1010   thresh= 0.145\n",
        "993   thresh= 0.15\n",
        "982   thresh= 0.155\n",
        "964   thresh= 0.16\n",
        "942   thresh= 0.165\n",
        "924   thresh= 0.17\n",
        "907   thresh= 0.175\n",
        "896   thresh= 0.18\n",
        "883   thresh= 0.185\n",
        "872   thresh= 0.19\n",
        "862"
       ]
      },
      {
       "output_type": "stream",
       "stream": "stdout",
       "text": [
        "   thresh= 0.195\n"
       ]
      }
     ],
     "prompt_number": 19
    },
    {
     "cell_type": "code",
     "collapsed": false,
     "input": [
      "plt.figure(figsize=(9,3))\n",
      "plt.title('Guilt Reverse Cumulative Distribution')\n",
      "plt.ylabel('count')\n",
      "plt.xlabel('log(guilt)')\n",
      "plt.hist([math.log(v['guilt']) for v in combined_commits.values() if v['guilt'] > 0],\n",
      "         log=False, bins=100, cumulative=True)\n",
      "plt.show()"
     ],
     "language": "python",
     "metadata": {},
     "outputs": [
      {
       "metadata": {},
       "output_type": "display_data",
       "png": "[encoded data removed]",
       "text": [
        "<matplotlib.figure.Figure at 0x14c887cd0>"
       ]
      }
     ],
     "prompt_number": 11
    },
    {
     "cell_type": "code",
     "collapsed": false,
     "input": [
      "plt.figure(figsize=(9,3))\n",
      "plt.title('Guilt Reverse Cumulative Distribution')\n",
      "plt.ylabel('count')\n",
      "plt.xlabel('log(guilt)')\n",
      "plt.hist([math.log(v['guilt']) for v in combined_commits.values() if v['guilt'] > 0],\n",
      "         log=False, bins=100, range=(-3, 0), cumulative=True)\n",
      "plt.show()"
     ],
     "language": "python",
     "metadata": {},
     "outputs": [
      {
       "metadata": {},
       "output_type": "display_data",
       "png": "[encoded data removed]",
       "text": [
        "<matplotlib.figure.Figure at 0x14cbcce90>"
       ]
      }
     ],
     "prompt_number": 12
    },
    {
     "cell_type": "code",
     "collapsed": false,
     "input": [],
     "language": "python",
     "metadata": {},
     "outputs": [],
     "prompt_number": 12
    },
    {
     "cell_type": "code",
     "collapsed": false,
     "input": [],
     "language": "python",
     "metadata": {},
     "outputs": [],
     "prompt_number": 12
    }
   ],
   "metadata": {}
  }
 ]
}