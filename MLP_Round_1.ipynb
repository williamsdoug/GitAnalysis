{
 "metadata": {
  "name": "",
  "signature": "sha256:6f44d3e23e6f4d5d9254c59b7c40dcde03e51ed2f8563fe8edb59b21d74d5310"
 },
 "nbformat": 3,
 "nbformat_minor": 0,
 "worksheets": [
  {
   "cells": [
    {
     "cell_type": "code",
     "collapsed": false,
     "input": [
      "%matplotlib inline\n",
      "from pprint import pprint\n",
      "from collections import defaultdict\n",
      "\n",
      "import numpy as np\n",
      "import math\n",
      "import matplotlib.pyplot as plt\n",
      "import random\n",
      "import warnings\n",
      "\n",
      "import sklearn.tree\n",
      "import sklearn.ensemble\n",
      "import sklearn.decomposition\n",
      "from sklearn.naive_bayes import GaussianNB\n",
      "from sklearn.linear_model import LogisticRegression\n",
      "import sklearn.linear_model\n",
      "from sklearn.svm import SVC\n",
      "\n",
      "from sklearn.grid_search import GridSearchCV\n",
      "from sklearn import metrics\n",
      "\n",
      "import sys\n",
      "sys.path.append('./dev')\n",
      "\n",
      "from ml_plot import plot_validation_curve\n",
      "from ml_plot import my_plot_learning_curve\n",
      "from ml_plot import plot_prediction_curve\n",
      "from ml_plot import get_dataset, eval_predictions\n",
      "from ml_plot import PredictCV, PredictCV_TrainTest\n",
      "from ml_plot import PredictCV_TrainTestValidate\n",
      "\n",
      "sys.path.append('/Users/doug/iPython/multilayer_perceptron')\n",
      "from multilayer_perceptron  import MultilayerPerceptronClassifier"
     ],
     "language": "python",
     "metadata": {},
     "outputs": [],
     "prompt_number": 1
    },
    {
     "cell_type": "code",
     "collapsed": false,
     "input": [
      "from multilayer_perceptron_ddw  import MultilayerPerceptronClassifier as MultilayerPerceptronClassifier2"
     ],
     "language": "python",
     "metadata": {},
     "outputs": [],
     "prompt_number": 2
    },
    {
     "cell_type": "code",
     "collapsed": false,
     "input": [
      "1e20"
     ],
     "language": "python",
     "metadata": {},
     "outputs": [
      {
       "metadata": {},
       "output_type": "pyout",
       "prompt_number": 3,
       "text": [
        "1e+20"
       ]
      }
     ],
     "prompt_number": 3
    },
    {
     "cell_type": "code",
     "collapsed": false,
     "input": [
      "# PROJECT = 'nova'\n",
      "# PROJECT = 'swift'\n",
      "# PROJECT = 'cinder'\n",
      "PROJECT = 'heat'\n",
      "# PROJECT = 'glance'\n",
      "\n",
      "# IMPORTANCE = 'crit'\n",
      "# IMPORTANCE = 'high+'\n",
      "IMPORTANCE = 'med+'\n",
      "# IMPORTANCE = 'low+'\n",
      "\n",
      "# SIZE = 100\n",
      "#SIZE = 250\n",
      "# SIZE = 0.1\n",
      "SIZE = 0.5\n",
      "\n",
      "SCORING = 'f1'         # (precision * recall) / (precision + recall)\n",
      "# SCORING = 'accuracy'   # (TP + TN) / all values\n",
      "# SCORING = 'precision'  # TP / (TP + FP)\n",
      "# SCORING = 'recall'     # TP / (TP + FN)\n",
      "# SCORING = 'average_precision'\n",
      "# SCORING = 'roc_auc'\n",
      "\n",
      "JOBS = 4\n",
      "VERBOSE = True\n",
      "\n",
      "warnings.filterwarnings('ignore', 'F-score is ill-defined')\n",
      "warnings.filterwarnings('ignore', 'overflow encountered in exp')"
     ],
     "language": "python",
     "metadata": {},
     "outputs": [],
     "prompt_number": 4
    },
    {
     "cell_type": "code",
     "collapsed": false,
     "input": [
      "%%capture\n",
      "Y, X = get_dataset(PROJECT, IMPORTANCE)"
     ],
     "language": "python",
     "metadata": {},
     "outputs": [],
     "prompt_number": 5
    },
    {
     "cell_type": "code",
     "collapsed": false,
     "input": [
      "cv = PredictCV(len(Y), history=500, future=500, n_iter=10)"
     ],
     "language": "python",
     "metadata": {},
     "outputs": [],
     "prompt_number": 6
    },
    {
     "cell_type": "code",
     "collapsed": false,
     "input": [
      "estimator = MultilayerPerceptronClassifier(verbose=False)"
     ],
     "language": "python",
     "metadata": {},
     "outputs": [],
     "prompt_number": 7
    },
    {
     "cell_type": "raw",
     "metadata": {},
     "source": [
      "param_grid = {'alpha': [1.0, 0.1, 0.01, 0.001, 0.0001, 0.00001, 0.000001],\n",
      "              'max_iter': [400],\n",
      "              'hidden_layer_sizes': [(50, 20), (100, 20), (100, 40)],\n",
      "              'learning_rate': ['constant', 'invscaling'],\n",
      "              'learning_rate_init': [0.5], }"
     ]
    },
    {
     "cell_type": "code",
     "collapsed": false,
     "input": [
      "param_grid = {'alpha': [0.01, 0.001, 0.0001],\n",
      "              'max_iter': [400],\n",
      "              'hidden_layer_sizes': [(100, 20), (200, 20), (400, 20)],\n",
      "              'learning_rate': ['invscaling'],\n",
      "              'learning_rate_init': [1], }"
     ],
     "language": "python",
     "metadata": {},
     "outputs": [],
     "prompt_number": 8
    },
    {
     "cell_type": "code",
     "collapsed": false,
     "input": [
      "grid = GridSearchCV(estimator, param_grid=param_grid, cv=cv, scoring=SCORING,\n",
      "                    n_jobs=JOBS, pre_dispatch=2*JOBS, verbose=VERBOSE)\n",
      "grid.fit(X, Y)\n",
      "print 'best_score: ', grid.best_score_\n",
      "clf = grid.best_estimator_\n",
      "grid.best_estimator_"
     ],
     "language": "python",
     "metadata": {},
     "outputs": [
      {
       "output_type": "stream",
       "stream": "stdout",
       "text": [
        "Fitting 10 folds for each of 9 candidates, totalling 90 fits\n"
       ]
      },
      {
       "output_type": "stream",
       "stream": "stderr",
       "text": [
        "[Parallel(n_jobs=4)]: Done   1 jobs       | elapsed:   34.7s\n",
        "[Parallel(n_jobs=4)]: Done  50 jobs       | elapsed: 15.5min\n",
        "[Parallel(n_jobs=4)]: Done  84 out of  90 | elapsed: 28.1min remaining:  2.0min\n",
        "[Parallel(n_jobs=4)]: Done  90 out of  90 | elapsed: 31.2min finished\n"
       ]
      },
      {
       "output_type": "stream",
       "stream": "stdout",
       "text": [
        "best_score:  0.378479301603\n"
       ]
      },
      {
       "metadata": {},
       "output_type": "pyout",
       "prompt_number": 9,
       "text": [
        "MultilayerPerceptronClassifier(activation='relu', algorithm='l-bfgs',\n",
        "                alpha=0.0001, batch_size=200, hidden_layer_sizes=(100, 20),\n",
        "                learning_rate='invscaling', learning_rate_init=1,\n",
        "                max_iter=400, power_t=0.5, random_state=None,\n",
        "                shuffle=False, tol=1e-05, verbose=False, warm_start=False)"
       ]
      }
     ],
     "prompt_number": 9
    },
    {
     "cell_type": "code",
     "collapsed": false,
     "input": [
      "grid.grid_scores_"
     ],
     "language": "python",
     "metadata": {},
     "outputs": [
      {
       "metadata": {},
       "output_type": "pyout",
       "prompt_number": 10,
       "text": [
        "[mean: 0.28952, std: 0.06200, params: {'alpha': 0.01, 'learning_rate': 'invscaling', 'max_iter': 400, 'learning_rate_init': 1, 'hidden_layer_sizes': (100, 20)},\n",
        " mean: 0.35451, std: 0.08494, params: {'alpha': 0.01, 'learning_rate': 'invscaling', 'max_iter': 400, 'learning_rate_init': 1, 'hidden_layer_sizes': (200, 20)},\n",
        " mean: 0.31216, std: 0.08622, params: {'alpha': 0.01, 'learning_rate': 'invscaling', 'max_iter': 400, 'learning_rate_init': 1, 'hidden_layer_sizes': (400, 20)},\n",
        " mean: 0.28400, std: 0.06332, params: {'alpha': 0.001, 'learning_rate': 'invscaling', 'max_iter': 400, 'learning_rate_init': 1, 'hidden_layer_sizes': (100, 20)},\n",
        " mean: 0.35430, std: 0.10447, params: {'alpha': 0.001, 'learning_rate': 'invscaling', 'max_iter': 400, 'learning_rate_init': 1, 'hidden_layer_sizes': (200, 20)},\n",
        " mean: 0.31778, std: 0.09013, params: {'alpha': 0.001, 'learning_rate': 'invscaling', 'max_iter': 400, 'learning_rate_init': 1, 'hidden_layer_sizes': (400, 20)},\n",
        " mean: 0.37848, std: 0.08050, params: {'alpha': 0.0001, 'learning_rate': 'invscaling', 'max_iter': 400, 'learning_rate_init': 1, 'hidden_layer_sizes': (100, 20)},\n",
        " mean: 0.33720, std: 0.07749, params: {'alpha': 0.0001, 'learning_rate': 'invscaling', 'max_iter': 400, 'learning_rate_init': 1, 'hidden_layer_sizes': (200, 20)},\n",
        " mean: 0.29248, std: 0.04559, params: {'alpha': 0.0001, 'learning_rate': 'invscaling', 'max_iter': 400, 'learning_rate_init': 1, 'hidden_layer_sizes': (400, 20)}]"
       ]
      }
     ],
     "prompt_number": 10
    },
    {
     "cell_type": "heading",
     "level": 1,
     "metadata": {},
     "source": [
      "Determine learning rate and number of iterations"
     ]
    },
    {
     "cell_type": "code",
     "collapsed": false,
     "input": [
      "JOBS = 1"
     ],
     "language": "python",
     "metadata": {},
     "outputs": [],
     "prompt_number": 11
    },
    {
     "cell_type": "code",
     "collapsed": false,
     "input": [
      "cv = PredictCV(len(Y), history=500, future=500, n_iter=10)"
     ],
     "language": "python",
     "metadata": {},
     "outputs": [],
     "prompt_number": 12
    },
    {
     "cell_type": "code",
     "collapsed": false,
     "input": [
      "estimator = MultilayerPerceptronClassifier(verbose=False)"
     ],
     "language": "python",
     "metadata": {},
     "outputs": [],
     "prompt_number": 13
    },
    {
     "cell_type": "code",
     "collapsed": false,
     "input": [
      "param_grid = {'alpha': [0.001],\n",
      "              'max_iter': [800],\n",
      "              'hidden_layer_sizes': [(200, 20)],\n",
      "              'learning_rate': ['invscaling'],\n",
      "              'learning_rate_init': [2],\n",
      "              'power_t': [0.3]}"
     ],
     "language": "python",
     "metadata": {},
     "outputs": [],
     "prompt_number": 14
    },
    {
     "cell_type": "code",
     "collapsed": false,
     "input": [
      "grid = GridSearchCV(estimator, param_grid=param_grid, cv=cv, scoring=SCORING,\n",
      "                    n_jobs=JOBS, pre_dispatch=2*JOBS, verbose=True, refit=False)\n",
      "grid.fit(X, Y)\n",
      "print 'best_score: ', grid.best_score_\n",
      "grid.grid_scores_"
     ],
     "language": "python",
     "metadata": {},
     "outputs": [
      {
       "output_type": "stream",
       "stream": "stderr",
       "text": [
        "[Parallel(n_jobs=1)]: Done   1 jobs       | elapsed:   58.5s\n",
        "[Parallel(n_jobs=1)]: Done  10 out of  10 | elapsed:  9.7min finished\n"
       ]
      },
      {
       "output_type": "stream",
       "stream": "stdout",
       "text": [
        "Fitting 10 folds for each of 1 candidates, totalling 10 fits\n",
        "best_score: "
       ]
      },
      {
       "output_type": "stream",
       "stream": "stdout",
       "text": [
        " 0.378352946743\n"
       ]
      },
      {
       "metadata": {},
       "output_type": "pyout",
       "prompt_number": 15,
       "text": [
        "[mean: 0.37835, std: 0.09693, params: {'hidden_layer_sizes': (200, 20), 'learning_rate': 'invscaling', 'max_iter': 800, 'power_t': 0.3, 'alpha': 0.001, 'learning_rate_init': 2}]"
       ]
      }
     ],
     "prompt_number": 15
    },
    {
     "cell_type": "code",
     "collapsed": false,
     "input": [
      "param_grid = {'alpha': [0.001],\n",
      "              'max_iter': [1200],\n",
      "              'hidden_layer_sizes': [(200, 20)],\n",
      "              'learning_rate': ['invscaling'],\n",
      "              'learning_rate_init': [2],\n",
      "              'power_t': [0.3]}"
     ],
     "language": "python",
     "metadata": {},
     "outputs": [],
     "prompt_number": 16
    },
    {
     "cell_type": "code",
     "collapsed": false,
     "input": [
      "grid = GridSearchCV(estimator, param_grid=param_grid, cv=cv, scoring=SCORING,\n",
      "                    n_jobs=JOBS, pre_dispatch=2*JOBS, verbose=True, refit=False)\n",
      "grid.fit(X, Y)\n",
      "print 'best_score: ', grid.best_score_\n",
      "grid.grid_scores_"
     ],
     "language": "python",
     "metadata": {},
     "outputs": [
      {
       "output_type": "stream",
       "stream": "stderr",
       "text": [
        "[Parallel(n_jobs=1)]: Done   1 jobs       | elapsed:  1.5min\n",
        "[Parallel(n_jobs=1)]: Done  10 out of  10 | elapsed: 14.7min finished\n"
       ]
      },
      {
       "output_type": "stream",
       "stream": "stdout",
       "text": [
        "Fitting 10 folds for each of 1 candidates, totalling 10 fits\n",
        "best_score: "
       ]
      },
      {
       "output_type": "stream",
       "stream": "stdout",
       "text": [
        " 0.300467072958\n"
       ]
      },
      {
       "metadata": {},
       "output_type": "pyout",
       "prompt_number": 17,
       "text": [
        "[mean: 0.30047, std: 0.07589, params: {'hidden_layer_sizes': (200, 20), 'learning_rate': 'invscaling', 'max_iter': 1200, 'power_t': 0.3, 'alpha': 0.001, 'learning_rate_init': 2}]"
       ]
      }
     ],
     "prompt_number": 17
    },
    {
     "cell_type": "code",
     "collapsed": false,
     "input": [
      "param_grid = {'alpha': [0.001],\n",
      "              'max_iter': [800],\n",
      "              'hidden_layer_sizes': [(200, 20)],\n",
      "              'learning_rate': ['constant'],\n",
      "              'learning_rate_init': [0.5],}"
     ],
     "language": "python",
     "metadata": {},
     "outputs": [],
     "prompt_number": 18
    },
    {
     "cell_type": "code",
     "collapsed": false,
     "input": [
      "grid = GridSearchCV(estimator, param_grid=param_grid, cv=cv, scoring=SCORING,\n",
      "                    n_jobs=JOBS, pre_dispatch=2*JOBS, verbose=True, refit=False)\n",
      "grid.fit(X, Y)\n",
      "print 'best_score: ', grid.best_score_\n",
      "grid.grid_scores_"
     ],
     "language": "python",
     "metadata": {},
     "outputs": [
      {
       "output_type": "stream",
       "stream": "stderr",
       "text": [
        "[Parallel(n_jobs=1)]: Done   1 jobs       | elapsed:   58.2s\n",
        "[Parallel(n_jobs=1)]: Done  10 out of  10 | elapsed:  9.7min finished\n"
       ]
      },
      {
       "output_type": "stream",
       "stream": "stdout",
       "text": [
        "Fitting 10 folds for each of 1 candidates, totalling 10 fits\n",
        "best_score: "
       ]
      },
      {
       "output_type": "stream",
       "stream": "stdout",
       "text": [
        " 0.342502519455\n"
       ]
      },
      {
       "metadata": {},
       "output_type": "pyout",
       "prompt_number": 19,
       "text": [
        "[mean: 0.34250, std: 0.10864, params: {'alpha': 0.001, 'learning_rate': 'constant', 'max_iter': 800, 'learning_rate_init': 0.5, 'hidden_layer_sizes': (200, 20)}]"
       ]
      }
     ],
     "prompt_number": 19
    },
    {
     "cell_type": "code",
     "collapsed": false,
     "input": [
      "param_grid = {'alpha': [0.001],\n",
      "              'max_iter': [800],\n",
      "              'hidden_layer_sizes': [(200, 20)],\n",
      "              'learning_rate': ['constant'],\n",
      "              'learning_rate_init': [0.25],}"
     ],
     "language": "python",
     "metadata": {},
     "outputs": [],
     "prompt_number": 20
    },
    {
     "cell_type": "code",
     "collapsed": false,
     "input": [
      "grid = GridSearchCV(estimator, param_grid=param_grid, cv=cv, scoring=SCORING,\n",
      "                    n_jobs=JOBS, pre_dispatch=2*JOBS, verbose=True, refit=False)\n",
      "grid.fit(X, Y)\n",
      "print 'best_score: ', grid.best_score_\n",
      "grid.grid_scores_"
     ],
     "language": "python",
     "metadata": {},
     "outputs": [
      {
       "output_type": "stream",
       "stream": "stderr",
       "text": [
        "[Parallel(n_jobs=1)]: Done   1 jobs       | elapsed:   59.8s\n",
        "[Parallel(n_jobs=1)]: Done  10 out of  10 | elapsed:  9.8min finished\n"
       ]
      },
      {
       "output_type": "stream",
       "stream": "stdout",
       "text": [
        "Fitting 10 folds for each of 1 candidates, totalling 10 fits\n",
        "best_score: "
       ]
      },
      {
       "output_type": "stream",
       "stream": "stdout",
       "text": [
        " 0.332752887798\n"
       ]
      },
      {
       "metadata": {},
       "output_type": "pyout",
       "prompt_number": 21,
       "text": [
        "[mean: 0.33275, std: 0.06782, params: {'alpha': 0.001, 'learning_rate': 'constant', 'max_iter': 800, 'learning_rate_init': 0.25, 'hidden_layer_sizes': (200, 20)}]"
       ]
      }
     ],
     "prompt_number": 21
    },
    {
     "cell_type": "code",
     "collapsed": false,
     "input": [
      "estimator = MultilayerPerceptronClassifier2(verbose=False)"
     ],
     "language": "python",
     "metadata": {},
     "outputs": [],
     "prompt_number": 24
    },
    {
     "cell_type": "code",
     "collapsed": false,
     "input": [
      "param_grid = {'alpha': [0.001],\n",
      "              'max_iter': [3000],\n",
      "              'algorithm' : ['sgd'],\n",
      "              'hidden_layer_sizes': [(200, 20)],\n",
      "              'learning_rate': ['doug'],\n",
      "              'learning_rate_init': [0.25],\n",
      "              'tol': [1e-9]}"
     ],
     "language": "python",
     "metadata": {},
     "outputs": [],
     "prompt_number": 25
    },
    {
     "cell_type": "code",
     "collapsed": false,
     "input": [
      "grid = GridSearchCV(estimator, param_grid=param_grid, cv=cv, scoring=SCORING,\n",
      "                    n_jobs=JOBS, pre_dispatch=2*JOBS, verbose=True, refit=False)\n",
      "grid.fit(X, Y)\n",
      "print 'best_score: ', grid.best_score_\n",
      "grid.grid_scores_"
     ],
     "language": "python",
     "metadata": {},
     "outputs": [
      {
       "output_type": "stream",
       "stream": "stdout",
       "text": [
        "Fitting 10 folds for each of 1 candidates, totalling 10 fits\n",
        "Learning rate now:"
       ]
      },
      {
       "output_type": "stream",
       "stream": "stdout",
       "text": [
        " 0.166666666667\n",
        "Learning rate now:"
       ]
      },
      {
       "output_type": "stream",
       "stream": "stdout",
       "text": [
        " 0.111111111111\n",
        "Learning rate now:"
       ]
      },
      {
       "output_type": "stream",
       "stream": "stdout",
       "text": [
        " 0.0740740740741\n",
        "Learning rate now:"
       ]
      },
      {
       "output_type": "stream",
       "stream": "stdout",
       "text": [
        " 0.0493827160494\n",
        "Learning rate now:"
       ]
      },
      {
       "output_type": "stream",
       "stream": "stdout",
       "text": [
        " 0.0329218106996\n",
        "Learning rate now:"
       ]
      },
      {
       "output_type": "stream",
       "stream": "stdout",
       "text": [
        " 0.0219478737997\n",
        "Learning rate now:"
       ]
      },
      {
       "output_type": "stream",
       "stream": "stdout",
       "text": [
        " 0.0146319158665\n",
        "Learning rate now:"
       ]
      },
      {
       "output_type": "stream",
       "stream": "stdout",
       "text": [
        " 0.00975461057766\n",
        "Learning rate now:"
       ]
      },
      {
       "output_type": "stream",
       "stream": "stdout",
       "text": [
        " 0.00650307371844\n",
        "Learning rate now:"
       ]
      },
      {
       "output_type": "stream",
       "stream": "stdout",
       "text": [
        " 0.00433538247896\n",
        "Learning rate now:"
       ]
      },
      {
       "output_type": "stream",
       "stream": "stdout",
       "text": [
        " 0.00289025498597\n",
        "Learning rate now:"
       ]
      },
      {
       "output_type": "stream",
       "stream": "stdout",
       "text": [
        " 0.00192683665731\n",
        "Learning rate now:"
       ]
      },
      {
       "output_type": "stream",
       "stream": "stdout",
       "text": [
        " 0.00128455777154\n",
        "Learning rate now:"
       ]
      },
      {
       "output_type": "stream",
       "stream": "stdout",
       "text": [
        " 0.000856371847695\n",
        "Learning rate now:"
       ]
      },
      {
       "output_type": "stream",
       "stream": "stdout",
       "text": [
        " 0.00057091456513\n",
        "Learning rate now:"
       ]
      },
      {
       "output_type": "stream",
       "stream": "stdout",
       "text": [
        " 0.000380609710087\n",
        "Learning rate now:"
       ]
      },
      {
       "output_type": "stream",
       "stream": "stdout",
       "text": [
        " 0.166666666667\n",
        "Learning rate now:"
       ]
      },
      {
       "output_type": "stream",
       "stream": "stdout",
       "text": [
        " 0.111111111111\n",
        "Learning rate now:"
       ]
      },
      {
       "output_type": "stream",
       "stream": "stdout",
       "text": [
        " 0.0740740740741\n",
        "Learning rate now:"
       ]
      },
      {
       "output_type": "stream",
       "stream": "stdout",
       "text": [
        " 0.0493827160494\n",
        "Learning rate now:"
       ]
      },
      {
       "output_type": "stream",
       "stream": "stdout",
       "text": [
        " 0.0329218106996\n",
        "Learning rate now:"
       ]
      },
      {
       "output_type": "stream",
       "stream": "stdout",
       "text": [
        " 0.0219478737997\n",
        "Learning rate now:"
       ]
      },
      {
       "output_type": "stream",
       "stream": "stdout",
       "text": [
        " 0.0146319158665\n",
        "Learning rate now:"
       ]
      },
      {
       "output_type": "stream",
       "stream": "stdout",
       "text": [
        " 0.00975461057766\n",
        "Learning rate now:"
       ]
      },
      {
       "output_type": "stream",
       "stream": "stdout",
       "text": [
        " 0.00650307371844\n",
        "Learning rate now:"
       ]
      },
      {
       "output_type": "stream",
       "stream": "stdout",
       "text": [
        " 0.00433538247896\n",
        "Learning rate now:"
       ]
      },
      {
       "output_type": "stream",
       "stream": "stdout",
       "text": [
        " 0.00289025498597\n",
        "Learning rate now:"
       ]
      },
      {
       "output_type": "stream",
       "stream": "stdout",
       "text": [
        " 0.00192683665731\n",
        "Learning rate now:"
       ]
      },
      {
       "output_type": "stream",
       "stream": "stdout",
       "text": [
        " 0.00128455777154\n",
        "Learning rate now:"
       ]
      },
      {
       "output_type": "stream",
       "stream": "stdout",
       "text": [
        " 0.000856371847695\n",
        "Learning rate now:"
       ]
      },
      {
       "output_type": "stream",
       "stream": "stdout",
       "text": [
        " 0.00057091456513\n",
        "Learning rate now:"
       ]
      },
      {
       "output_type": "stream",
       "stream": "stdout",
       "text": [
        " 0.000380609710087\n",
        "Learning rate now:"
       ]
      },
      {
       "output_type": "stream",
       "stream": "stdout",
       "text": [
        " 0.000253739806725\n",
        "Learning rate now:"
       ]
      },
      {
       "output_type": "stream",
       "stream": "stdout",
       "text": [
        " 0.00016915987115\n",
        "Learning rate now:"
       ]
      },
      {
       "output_type": "stream",
       "stream": "stdout",
       "text": [
        " 0.000112773247433\n",
        "Learning rate now:"
       ]
      },
      {
       "output_type": "stream",
       "stream": "stdout",
       "text": [
        " 7.51821649554e-05\n",
        "Learning rate now:"
       ]
      },
      {
       "output_type": "stream",
       "stream": "stdout",
       "text": [
        " 5.01214433036e-05\n",
        "Learning rate now:"
       ]
      },
      {
       "output_type": "stream",
       "stream": "stdout",
       "text": [
        " 3.34142955357e-05\n",
        "Learning rate now:"
       ]
      },
      {
       "output_type": "stream",
       "stream": "stdout",
       "text": [
        " 2.22761970238e-05\n",
        "Learning rate now:"
       ]
      },
      {
       "output_type": "stream",
       "stream": "stdout",
       "text": [
        " 1.48507980159e-05\n",
        "Learning rate now:"
       ]
      },
      {
       "output_type": "stream",
       "stream": "stdout",
       "text": [
        " 9.90053201059e-06\n",
        "Learning rate now:"
       ]
      },
      {
       "output_type": "stream",
       "stream": "stdout",
       "text": [
        " 6.60035467373e-06\n",
        "Learning rate now:"
       ]
      },
      {
       "output_type": "stream",
       "stream": "stdout",
       "text": [
        " 4.40023644915e-06\n",
        "Learning rate now:"
       ]
      },
      {
       "output_type": "stream",
       "stream": "stdout",
       "text": [
        " 2.9334909661e-06\n",
        "Learning rate now:"
       ]
      },
      {
       "output_type": "stream",
       "stream": "stdout",
       "text": [
        " 1.95566064407e-06\n",
        "Learning rate now:"
       ]
      },
      {
       "output_type": "stream",
       "stream": "stdout",
       "text": [
        " 1.30377376271e-06\n",
        "Learning rate now:"
       ]
      },
      {
       "output_type": "stream",
       "stream": "stdout",
       "text": [
        " 8.69182508474e-07\n",
        "Learning rate now:"
       ]
      },
      {
       "output_type": "stream",
       "stream": "stdout",
       "text": [
        " 5.7945500565e-07\n",
        "Learning rate now:"
       ]
      },
      {
       "output_type": "stream",
       "stream": "stdout",
       "text": [
        " 3.863033371e-07\n",
        "Learning rate now:"
       ]
      },
      {
       "output_type": "stream",
       "stream": "stdout",
       "text": [
        " 2.57535558066e-07\n",
        "Learning rate now:"
       ]
      },
      {
       "output_type": "stream",
       "stream": "stdout",
       "text": [
        " 1.71690372044e-07\n",
        "Learning rate now:"
       ]
      },
      {
       "output_type": "stream",
       "stream": "stdout",
       "text": [
        " 1.1446024803e-07\n",
        "Learning rate now:"
       ]
      },
      {
       "output_type": "stream",
       "stream": "stdout",
       "text": [
        " 7.63068320197e-08\n",
        "Learning rate now:"
       ]
      },
      {
       "output_type": "stream",
       "stream": "stdout",
       "text": [
        " 5.08712213465e-08\n",
        "Learning rate now:"
       ]
      },
      {
       "output_type": "stream",
       "stream": "stdout",
       "text": [
        " 3.39141475643e-08\n",
        "Learning rate now:"
       ]
      },
      {
       "output_type": "stream",
       "stream": "stdout",
       "text": [
        " 2.26094317095e-08\n",
        "Learning rate now:"
       ]
      },
      {
       "output_type": "stream",
       "stream": "stdout",
       "text": [
        " 0.166666666667\n",
        "Learning rate now:"
       ]
      },
      {
       "output_type": "stream",
       "stream": "stdout",
       "text": [
        " 0.111111111111\n",
        "Learning rate now:"
       ]
      },
      {
       "output_type": "stream",
       "stream": "stdout",
       "text": [
        " 0.0740740740741\n",
        "Learning rate now:"
       ]
      },
      {
       "output_type": "stream",
       "stream": "stdout",
       "text": [
        " 0.0493827160494\n",
        "Learning rate now:"
       ]
      },
      {
       "output_type": "stream",
       "stream": "stdout",
       "text": [
        " 0.0329218106996\n",
        "Learning rate now:"
       ]
      },
      {
       "output_type": "stream",
       "stream": "stdout",
       "text": [
        " 0.0219478737997\n",
        "Learning rate now:"
       ]
      },
      {
       "output_type": "stream",
       "stream": "stdout",
       "text": [
        " 0.0146319158665\n",
        "Learning rate now:"
       ]
      },
      {
       "output_type": "stream",
       "stream": "stdout",
       "text": [
        " 0.00975461057766\n",
        "Learning rate now:"
       ]
      },
      {
       "output_type": "stream",
       "stream": "stdout",
       "text": [
        " 0.00650307371844\n",
        "Learning rate now:"
       ]
      },
      {
       "output_type": "stream",
       "stream": "stdout",
       "text": [
        " 0.00433538247896\n",
        "Learning rate now:"
       ]
      },
      {
       "output_type": "stream",
       "stream": "stdout",
       "text": [
        " 0.00289025498597\n",
        "Learning rate now:"
       ]
      },
      {
       "output_type": "stream",
       "stream": "stdout",
       "text": [
        " 0.00192683665731\n",
        "Learning rate now:"
       ]
      },
      {
       "output_type": "stream",
       "stream": "stdout",
       "text": [
        " 0.00128455777154\n",
        "Learning rate now:"
       ]
      },
      {
       "output_type": "stream",
       "stream": "stdout",
       "text": [
        " 0.000856371847695\n",
        "Learning rate now:"
       ]
      },
      {
       "output_type": "stream",
       "stream": "stdout",
       "text": [
        " 0.00057091456513\n",
        "Learning rate now:"
       ]
      },
      {
       "output_type": "stream",
       "stream": "stdout",
       "text": [
        " 0.000380609710087\n",
        "Learning rate now:"
       ]
      },
      {
       "output_type": "stream",
       "stream": "stdout",
       "text": [
        " 0.000253739806725\n",
        "Learning rate now:"
       ]
      },
      {
       "output_type": "stream",
       "stream": "stdout",
       "text": [
        " 0.00016915987115\n",
        "Learning rate now:"
       ]
      },
      {
       "output_type": "stream",
       "stream": "stdout",
       "text": [
        " 0.000112773247433\n",
        "Learning rate now:"
       ]
      },
      {
       "output_type": "stream",
       "stream": "stdout",
       "text": [
        " 7.51821649554e-05\n",
        "Learning rate now:"
       ]
      },
      {
       "output_type": "stream",
       "stream": "stdout",
       "text": [
        " 5.01214433036e-05\n",
        "Learning rate now:"
       ]
      },
      {
       "output_type": "stream",
       "stream": "stdout",
       "text": [
        " 3.34142955357e-05\n",
        "Learning rate now:"
       ]
      },
      {
       "output_type": "stream",
       "stream": "stdout",
       "text": [
        " 2.22761970238e-05\n",
        "Learning rate now:"
       ]
      },
      {
       "output_type": "stream",
       "stream": "stdout",
       "text": [
        " 1.48507980159e-05\n",
        "Learning rate now:"
       ]
      },
      {
       "output_type": "stream",
       "stream": "stdout",
       "text": [
        " 9.90053201059e-06\n",
        "Learning rate now:"
       ]
      },
      {
       "output_type": "stream",
       "stream": "stdout",
       "text": [
        " 6.60035467373e-06\n",
        "Learning rate now:"
       ]
      },
      {
       "output_type": "stream",
       "stream": "stdout",
       "text": [
        " 4.40023644915e-06\n",
        "Learning rate now:"
       ]
      },
      {
       "output_type": "stream",
       "stream": "stdout",
       "text": [
        " 2.9334909661e-06\n",
        "Learning rate now:"
       ]
      },
      {
       "output_type": "stream",
       "stream": "stdout",
       "text": [
        " 1.95566064407e-06\n",
        "Learning rate now:"
       ]
      },
      {
       "output_type": "stream",
       "stream": "stdout",
       "text": [
        " 1.30377376271e-06\n",
        "Learning rate now:"
       ]
      },
      {
       "output_type": "stream",
       "stream": "stdout",
       "text": [
        " 8.69182508474e-07\n",
        "Learning rate now:"
       ]
      },
      {
       "output_type": "stream",
       "stream": "stdout",
       "text": [
        " 5.7945500565e-07\n",
        "Learning rate now:"
       ]
      },
      {
       "output_type": "stream",
       "stream": "stdout",
       "text": [
        " 3.863033371e-07\n",
        "Learning rate now:"
       ]
      },
      {
       "output_type": "stream",
       "stream": "stdout",
       "text": [
        " 2.57535558066e-07\n",
        "Learning rate now:"
       ]
      },
      {
       "output_type": "stream",
       "stream": "stdout",
       "text": [
        " 1.71690372044e-07\n",
        "Learning rate now:"
       ]
      },
      {
       "output_type": "stream",
       "stream": "stdout",
       "text": [
        " 1.1446024803e-07\n",
        "Learning rate now:"
       ]
      },
      {
       "output_type": "stream",
       "stream": "stdout",
       "text": [
        " 7.63068320197e-08\n",
        "Learning rate now:"
       ]
      },
      {
       "output_type": "stream",
       "stream": "stdout",
       "text": [
        " 5.08712213465e-08\n",
        "Learning rate now:"
       ]
      },
      {
       "output_type": "stream",
       "stream": "stdout",
       "text": [
        " 3.39141475643e-08\n",
        "Learning rate now:"
       ]
      },
      {
       "output_type": "stream",
       "stream": "stdout",
       "text": [
        " 2.26094317095e-08\n",
        "Learning rate now:"
       ]
      },
      {
       "output_type": "stream",
       "stream": "stdout",
       "text": [
        " 1.5072954473e-08\n",
        "Learning rate now:"
       ]
      },
      {
       "output_type": "stream",
       "stream": "stdout",
       "text": [
        " 0.166666666667\n",
        "Learning rate now:"
       ]
      },
      {
       "output_type": "stream",
       "stream": "stdout",
       "text": [
        " 0.111111111111\n",
        "Learning rate now:"
       ]
      },
      {
       "output_type": "stream",
       "stream": "stdout",
       "text": [
        " 0.0740740740741\n",
        "Learning rate now:"
       ]
      },
      {
       "output_type": "stream",
       "stream": "stdout",
       "text": [
        " 0.0493827160494\n",
        "Learning rate now: 0.0329218106996\n",
        "Learning rate now:"
       ]
      },
      {
       "output_type": "stream",
       "stream": "stdout",
       "text": [
        " 0.0219478737997\n",
        "Learning rate now:"
       ]
      },
      {
       "output_type": "stream",
       "stream": "stdout",
       "text": [
        " 0.0146319158665\n",
        "Learning rate now:"
       ]
      },
      {
       "output_type": "stream",
       "stream": "stdout",
       "text": [
        " 0.00975461057766\n",
        "Learning rate now:"
       ]
      },
      {
       "output_type": "stream",
       "stream": "stdout",
       "text": [
        " 0.00650307371844\n",
        "Learning rate now:"
       ]
      },
      {
       "output_type": "stream",
       "stream": "stdout",
       "text": [
        " 0.00433538247896\n",
        "Learning rate now:"
       ]
      },
      {
       "output_type": "stream",
       "stream": "stdout",
       "text": [
        " 0.00289025498597\n",
        "Learning rate now:"
       ]
      },
      {
       "output_type": "stream",
       "stream": "stdout",
       "text": [
        " 0.00192683665731\n",
        "Learning rate now:"
       ]
      },
      {
       "output_type": "stream",
       "stream": "stdout",
       "text": [
        " 0.00128455777154\n",
        "Learning rate now:"
       ]
      },
      {
       "output_type": "stream",
       "stream": "stdout",
       "text": [
        " 0.000856371847695\n",
        "Learning rate now:"
       ]
      },
      {
       "output_type": "stream",
       "stream": "stdout",
       "text": [
        " 0.00057091456513\n",
        "Learning rate now:"
       ]
      },
      {
       "output_type": "stream",
       "stream": "stdout",
       "text": [
        " 0.000380609710087\n",
        "Learning rate now:"
       ]
      },
      {
       "output_type": "stream",
       "stream": "stdout",
       "text": [
        " 0.000253739806725\n",
        "Learning rate now:"
       ]
      },
      {
       "output_type": "stream",
       "stream": "stdout",
       "text": [
        " 0.00016915987115\n",
        "Learning rate now:"
       ]
      },
      {
       "output_type": "stream",
       "stream": "stdout",
       "text": [
        " 0.000112773247433\n",
        "Learning rate now:"
       ]
      },
      {
       "output_type": "stream",
       "stream": "stdout",
       "text": [
        " 7.51821649554e-05\n",
        "Learning rate now:"
       ]
      },
      {
       "output_type": "stream",
       "stream": "stdout",
       "text": [
        " 5.01214433036e-05\n",
        "Learning rate now:"
       ]
      },
      {
       "output_type": "stream",
       "stream": "stdout",
       "text": [
        " 3.34142955357e-05\n",
        "Learning rate now:"
       ]
      },
      {
       "output_type": "stream",
       "stream": "stdout",
       "text": [
        " 2.22761970238e-05\n",
        "Learning rate now:"
       ]
      },
      {
       "output_type": "stream",
       "stream": "stdout",
       "text": [
        " 1.48507980159e-05\n",
        "Learning rate now:"
       ]
      },
      {
       "output_type": "stream",
       "stream": "stdout",
       "text": [
        " 9.90053201059e-06\n",
        "Learning rate now:"
       ]
      },
      {
       "output_type": "stream",
       "stream": "stdout",
       "text": [
        " 6.60035467373e-06\n",
        "Learning rate now:"
       ]
      },
      {
       "output_type": "stream",
       "stream": "stdout",
       "text": [
        " 4.40023644915e-06\n",
        "Learning rate now:"
       ]
      },
      {
       "output_type": "stream",
       "stream": "stdout",
       "text": [
        " 2.9334909661e-06\n",
        "Learning rate now:"
       ]
      },
      {
       "output_type": "stream",
       "stream": "stdout",
       "text": [
        " 1.95566064407e-06\n",
        "Learning rate now:"
       ]
      },
      {
       "output_type": "stream",
       "stream": "stdout",
       "text": [
        " 1.30377376271e-06\n",
        "Learning rate now:"
       ]
      },
      {
       "output_type": "stream",
       "stream": "stdout",
       "text": [
        " 8.69182508474e-07\n",
        "Learning rate now:"
       ]
      },
      {
       "output_type": "stream",
       "stream": "stdout",
       "text": [
        " 5.7945500565e-07\n",
        "Learning rate now:"
       ]
      },
      {
       "output_type": "stream",
       "stream": "stdout",
       "text": [
        " 3.863033371e-07\n",
        "Learning rate now:"
       ]
      },
      {
       "output_type": "stream",
       "stream": "stdout",
       "text": [
        " 2.57535558066e-07\n",
        "Learning rate now:"
       ]
      },
      {
       "output_type": "stream",
       "stream": "stdout",
       "text": [
        " 1.71690372044e-07\n",
        "Learning rate now:"
       ]
      },
      {
       "output_type": "stream",
       "stream": "stdout",
       "text": [
        " 1.1446024803e-07\n",
        "Learning rate now:"
       ]
      },
      {
       "output_type": "stream",
       "stream": "stdout",
       "text": [
        " 7.63068320197e-08\n",
        "Learning rate now:"
       ]
      },
      {
       "output_type": "stream",
       "stream": "stdout",
       "text": [
        " 5.08712213465e-08\n",
        "Learning rate now:"
       ]
      },
      {
       "output_type": "stream",
       "stream": "stdout",
       "text": [
        " 3.39141475643e-08\n",
        "Learning rate now:"
       ]
      },
      {
       "output_type": "stream",
       "stream": "stdout",
       "text": [
        " 2.26094317095e-08\n",
        "Learning rate now:"
       ]
      },
      {
       "output_type": "stream",
       "stream": "stdout",
       "text": [
        " 1.5072954473e-08\n",
        "Learning rate now:"
       ]
      },
      {
       "output_type": "stream",
       "stream": "stdout",
       "text": [
        " 1.00486363154e-08\n",
        "Learning rate now:"
       ]
      },
      {
       "output_type": "stream",
       "stream": "stdout",
       "text": [
        " 0.166666666667\n",
        "Learning rate now:"
       ]
      },
      {
       "output_type": "stream",
       "stream": "stdout",
       "text": [
        " 0.111111111111\n",
        "Learning rate now:"
       ]
      },
      {
       "output_type": "stream",
       "stream": "stdout",
       "text": [
        " 0.0740740740741\n",
        "Learning rate now:"
       ]
      },
      {
       "output_type": "stream",
       "stream": "stdout",
       "text": [
        " 0.0493827160494\n",
        "Learning rate now:"
       ]
      },
      {
       "output_type": "stream",
       "stream": "stdout",
       "text": [
        " 0.0329218106996\n",
        "Learning rate now:"
       ]
      },
      {
       "output_type": "stream",
       "stream": "stdout",
       "text": [
        " 0.0219478737997\n",
        "Learning rate now:"
       ]
      },
      {
       "output_type": "stream",
       "stream": "stdout",
       "text": [
        " 0.0146319158665\n",
        "Learning rate now:"
       ]
      },
      {
       "output_type": "stream",
       "stream": "stdout",
       "text": [
        " 0.00975461057766\n",
        "Learning rate now:"
       ]
      },
      {
       "output_type": "stream",
       "stream": "stdout",
       "text": [
        " 0.00650307371844\n",
        "Learning rate now:"
       ]
      },
      {
       "output_type": "stream",
       "stream": "stdout",
       "text": [
        " 0.00433538247896\n",
        "Learning rate now:"
       ]
      },
      {
       "output_type": "stream",
       "stream": "stdout",
       "text": [
        " 0.00289025498597\n",
        "Learning rate now:"
       ]
      },
      {
       "output_type": "stream",
       "stream": "stdout",
       "text": [
        " 0.00192683665731\n",
        "Learning rate now:"
       ]
      },
      {
       "output_type": "stream",
       "stream": "stdout",
       "text": [
        " 0.00128455777154\n",
        "Learning rate now:"
       ]
      },
      {
       "output_type": "stream",
       "stream": "stdout",
       "text": [
        " 0.000856371847695\n",
        "Learning rate now:"
       ]
      },
      {
       "output_type": "stream",
       "stream": "stdout",
       "text": [
        " 0.166666666667\n",
        "Learning rate now:"
       ]
      },
      {
       "output_type": "stream",
       "stream": "stdout",
       "text": [
        " 0.111111111111\n",
        "Learning rate now:"
       ]
      },
      {
       "output_type": "stream",
       "stream": "stdout",
       "text": [
        " 0.0740740740741\n",
        "Learning rate now:"
       ]
      },
      {
       "output_type": "stream",
       "stream": "stdout",
       "text": [
        " 0.0493827160494\n",
        "Learning rate now: 0.0329218106996\n",
        "Learning rate now:"
       ]
      },
      {
       "output_type": "stream",
       "stream": "stdout",
       "text": [
        " 0.0219478737997\n",
        "Learning rate now: 0.0146319158665\n",
        "Learning rate now:"
       ]
      },
      {
       "output_type": "stream",
       "stream": "stdout",
       "text": [
        " 0.00975461057766\n",
        "Learning rate now:"
       ]
      },
      {
       "output_type": "stream",
       "stream": "stdout",
       "text": [
        " 0.00650307371844\n",
        "Learning rate now:"
       ]
      },
      {
       "output_type": "stream",
       "stream": "stdout",
       "text": [
        " 0.00433538247896\n",
        "Learning rate now:"
       ]
      },
      {
       "output_type": "stream",
       "stream": "stdout",
       "text": [
        " 0.00289025498597\n",
        "Learning rate now:"
       ]
      },
      {
       "output_type": "stream",
       "stream": "stdout",
       "text": [
        " 0.00192683665731\n",
        "Learning rate now:"
       ]
      },
      {
       "output_type": "stream",
       "stream": "stdout",
       "text": [
        " 0.00128455777154\n",
        "Learning rate now:"
       ]
      },
      {
       "output_type": "stream",
       "stream": "stdout",
       "text": [
        " 0.000856371847695\n",
        "Learning rate now:"
       ]
      },
      {
       "output_type": "stream",
       "stream": "stdout",
       "text": [
        " 0.00057091456513\n",
        "Learning rate now:"
       ]
      },
      {
       "output_type": "stream",
       "stream": "stdout",
       "text": [
        " 0.000380609710087\n",
        "Learning rate now:"
       ]
      },
      {
       "output_type": "stream",
       "stream": "stdout",
       "text": [
        " 0.000253739806725\n",
        "Learning rate now:"
       ]
      },
      {
       "output_type": "stream",
       "stream": "stdout",
       "text": [
        " 0.00016915987115\n",
        "Learning rate now:"
       ]
      },
      {
       "output_type": "stream",
       "stream": "stdout",
       "text": [
        " 0.000112773247433\n",
        "Learning rate now:"
       ]
      },
      {
       "output_type": "stream",
       "stream": "stdout",
       "text": [
        " 7.51821649554e-05\n",
        "Learning rate now:"
       ]
      },
      {
       "output_type": "stream",
       "stream": "stdout",
       "text": [
        " 5.01214433036e-05\n",
        "Learning rate now:"
       ]
      },
      {
       "output_type": "stream",
       "stream": "stdout",
       "text": [
        " 3.34142955357e-05\n",
        "Learning rate now:"
       ]
      },
      {
       "output_type": "stream",
       "stream": "stdout",
       "text": [
        " 2.22761970238e-05\n",
        "Learning rate now:"
       ]
      },
      {
       "output_type": "stream",
       "stream": "stdout",
       "text": [
        " 1.48507980159e-05\n",
        "Learning rate now:"
       ]
      },
      {
       "output_type": "stream",
       "stream": "stdout",
       "text": [
        " 9.90053201059e-06\n",
        "Learning rate now:"
       ]
      },
      {
       "output_type": "stream",
       "stream": "stdout",
       "text": [
        " 6.60035467373e-06\n",
        "Learning rate now:"
       ]
      },
      {
       "output_type": "stream",
       "stream": "stdout",
       "text": [
        " 4.40023644915e-06\n",
        "Learning rate now:"
       ]
      },
      {
       "output_type": "stream",
       "stream": "stdout",
       "text": [
        " 2.9334909661e-06\n",
        "Learning rate now:"
       ]
      },
      {
       "output_type": "stream",
       "stream": "stdout",
       "text": [
        " 1.95566064407e-06\n",
        "Learning rate now:"
       ]
      },
      {
       "output_type": "stream",
       "stream": "stdout",
       "text": [
        " 0.166666666667\n",
        "Learning rate now:"
       ]
      },
      {
       "output_type": "stream",
       "stream": "stdout",
       "text": [
        " 0.111111111111\n",
        "Learning rate now:"
       ]
      },
      {
       "output_type": "stream",
       "stream": "stdout",
       "text": [
        " 0.0740740740741\n",
        "Learning rate now:"
       ]
      },
      {
       "output_type": "stream",
       "stream": "stdout",
       "text": [
        " 0.0493827160494\n",
        "Learning rate now:"
       ]
      },
      {
       "output_type": "stream",
       "stream": "stdout",
       "text": [
        " 0.0329218106996\n",
        "Learning rate now:"
       ]
      },
      {
       "output_type": "stream",
       "stream": "stdout",
       "text": [
        " 0.0219478737997\n",
        "Learning rate now:"
       ]
      },
      {
       "output_type": "stream",
       "stream": "stdout",
       "text": [
        " 0.0146319158665\n",
        "Learning rate now:"
       ]
      },
      {
       "output_type": "stream",
       "stream": "stdout",
       "text": [
        " 0.00975461057766\n",
        "Learning rate now:"
       ]
      },
      {
       "output_type": "stream",
       "stream": "stdout",
       "text": [
        " 0.00650307371844\n",
        "Learning rate now:"
       ]
      },
      {
       "output_type": "stream",
       "stream": "stdout",
       "text": [
        " 0.00433538247896\n",
        "Learning rate now:"
       ]
      },
      {
       "output_type": "stream",
       "stream": "stdout",
       "text": [
        " 0.00289025498597\n",
        "Learning rate now: 0.00192683665731\n",
        "Learning rate now:"
       ]
      },
      {
       "output_type": "stream",
       "stream": "stdout",
       "text": [
        " 0.00128455777154\n",
        "Learning rate now:"
       ]
      },
      {
       "output_type": "stream",
       "stream": "stdout",
       "text": [
        " 0.000856371847695\n",
        "Learning rate now:"
       ]
      },
      {
       "output_type": "stream",
       "stream": "stdout",
       "text": [
        " 0.00057091456513\n",
        "Learning rate now:"
       ]
      },
      {
       "output_type": "stream",
       "stream": "stdout",
       "text": [
        " 0.000380609710087\n",
        "Learning rate now:"
       ]
      },
      {
       "output_type": "stream",
       "stream": "stdout",
       "text": [
        " 0.000253739806725\n",
        "Learning rate now:"
       ]
      },
      {
       "output_type": "stream",
       "stream": "stdout",
       "text": [
        " 0.00016915987115\n",
        "Learning rate now:"
       ]
      },
      {
       "output_type": "stream",
       "stream": "stdout",
       "text": [
        " 0.000112773247433\n",
        "Learning rate now:"
       ]
      },
      {
       "output_type": "stream",
       "stream": "stdout",
       "text": [
        " 7.51821649554e-05\n",
        "Learning rate now:"
       ]
      },
      {
       "output_type": "stream",
       "stream": "stdout",
       "text": [
        " 5.01214433036e-05\n",
        "Learning rate now:"
       ]
      },
      {
       "output_type": "stream",
       "stream": "stdout",
       "text": [
        " 3.34142955357e-05\n",
        "Learning rate now:"
       ]
      },
      {
       "output_type": "stream",
       "stream": "stdout",
       "text": [
        " 2.22761970238e-05\n",
        "Learning rate now:"
       ]
      },
      {
       "output_type": "stream",
       "stream": "stdout",
       "text": [
        " 1.48507980159e-05\n",
        "Learning rate now:"
       ]
      },
      {
       "output_type": "stream",
       "stream": "stdout",
       "text": [
        " 9.90053201059e-06\n",
        "Learning rate now:"
       ]
      },
      {
       "output_type": "stream",
       "stream": "stdout",
       "text": [
        " 6.60035467373e-06\n",
        "Learning rate now:"
       ]
      },
      {
       "output_type": "stream",
       "stream": "stdout",
       "text": [
        " 4.40023644915e-06\n",
        "Learning rate now:"
       ]
      },
      {
       "output_type": "stream",
       "stream": "stdout",
       "text": [
        " 2.9334909661e-06\n",
        "Learning rate now:"
       ]
      },
      {
       "output_type": "stream",
       "stream": "stdout",
       "text": [
        " 1.95566064407e-06\n",
        "Learning rate now:"
       ]
      },
      {
       "output_type": "stream",
       "stream": "stdout",
       "text": [
        " 1.30377376271e-06\n",
        "Learning rate now:"
       ]
      },
      {
       "output_type": "stream",
       "stream": "stdout",
       "text": [
        " 8.69182508474e-07\n",
        "Learning rate now:"
       ]
      },
      {
       "output_type": "stream",
       "stream": "stdout",
       "text": [
        " 5.7945500565e-07\n",
        "Learning rate now:"
       ]
      },
      {
       "output_type": "stream",
       "stream": "stdout",
       "text": [
        " 3.863033371e-07\n",
        "Learning rate now:"
       ]
      },
      {
       "output_type": "stream",
       "stream": "stdout",
       "text": [
        " 2.57535558066e-07\n",
        "Learning rate now:"
       ]
      },
      {
       "output_type": "stream",
       "stream": "stdout",
       "text": [
        " 1.71690372044e-07\n",
        "Learning rate now:"
       ]
      },
      {
       "output_type": "stream",
       "stream": "stdout",
       "text": [
        " 1.1446024803e-07\n",
        "Learning rate now:"
       ]
      },
      {
       "output_type": "stream",
       "stream": "stdout",
       "text": [
        " 7.63068320197e-08\n",
        "Learning rate now:"
       ]
      },
      {
       "output_type": "stream",
       "stream": "stdout",
       "text": [
        " 5.08712213465e-08\n",
        "Learning rate now:"
       ]
      },
      {
       "output_type": "stream",
       "stream": "stdout",
       "text": [
        " 3.39141475643e-08\n",
        "Learning rate now:"
       ]
      },
      {
       "output_type": "stream",
       "stream": "stdout",
       "text": [
        " 2.26094317095e-08\n",
        "Learning rate now:"
       ]
      },
      {
       "output_type": "stream",
       "stream": "stdout",
       "text": [
        " 1.5072954473e-08\n",
        "Learning rate now:"
       ]
      },
      {
       "output_type": "stream",
       "stream": "stdout",
       "text": [
        " 1.00486363154e-08\n",
        "Learning rate now:"
       ]
      },
      {
       "output_type": "stream",
       "stream": "stdout",
       "text": [
        " 6.6990908769e-09\n",
        "Learning rate now:"
       ]
      },
      {
       "output_type": "stream",
       "stream": "stdout",
       "text": [
        " 4.4660605846e-09\n",
        "Learning rate now:"
       ]
      },
      {
       "output_type": "stream",
       "stream": "stdout",
       "text": [
        " 2.97737372307e-09\n",
        "Learning rate now:"
       ]
      },
      {
       "output_type": "stream",
       "stream": "stdout",
       "text": [
        " 1.98491581538e-09\n",
        "Learning rate now:"
       ]
      },
      {
       "output_type": "stream",
       "stream": "stdout",
       "text": [
        " 1.32327721025e-09\n",
        "Learning rate now:"
       ]
      },
      {
       "output_type": "stream",
       "stream": "stdout",
       "text": [
        " 0.166666666667\n",
        "Learning rate now:"
       ]
      },
      {
       "output_type": "stream",
       "stream": "stdout",
       "text": [
        " 0.111111111111\n",
        "Learning rate now:"
       ]
      },
      {
       "output_type": "stream",
       "stream": "stdout",
       "text": [
        " 0.0740740740741\n",
        "Learning rate now:"
       ]
      },
      {
       "output_type": "stream",
       "stream": "stdout",
       "text": [
        " 0.0493827160494\n",
        "Learning rate now:"
       ]
      },
      {
       "output_type": "stream",
       "stream": "stdout",
       "text": [
        " 0.0329218106996\n",
        "Learning rate now:"
       ]
      },
      {
       "output_type": "stream",
       "stream": "stdout",
       "text": [
        " 0.0219478737997\n",
        "Learning rate now:"
       ]
      },
      {
       "output_type": "stream",
       "stream": "stdout",
       "text": [
        " 0.0146319158665\n",
        "Learning rate now:"
       ]
      },
      {
       "output_type": "stream",
       "stream": "stdout",
       "text": [
        " 0.00975461057766\n",
        "Learning rate now:"
       ]
      },
      {
       "output_type": "stream",
       "stream": "stdout",
       "text": [
        " 0.00650307371844\n",
        "Learning rate now:"
       ]
      },
      {
       "output_type": "stream",
       "stream": "stdout",
       "text": [
        " 0.00433538247896\n",
        "Learning rate now:"
       ]
      },
      {
       "output_type": "stream",
       "stream": "stdout",
       "text": [
        " 0.00289025498597\n",
        "Learning rate now:"
       ]
      },
      {
       "output_type": "stream",
       "stream": "stdout",
       "text": [
        " 0.00192683665731\n",
        "Learning rate now:"
       ]
      },
      {
       "output_type": "stream",
       "stream": "stdout",
       "text": [
        " 0.00128455777154\n",
        "Learning rate now:"
       ]
      },
      {
       "output_type": "stream",
       "stream": "stdout",
       "text": [
        " 0.000856371847695\n",
        "Learning rate now:"
       ]
      },
      {
       "output_type": "stream",
       "stream": "stdout",
       "text": [
        " 0.00057091456513\n",
        "Learning rate now:"
       ]
      },
      {
       "output_type": "stream",
       "stream": "stdout",
       "text": [
        " 0.000380609710087\n",
        "Learning rate now:"
       ]
      },
      {
       "output_type": "stream",
       "stream": "stdout",
       "text": [
        " 0.000253739806725\n",
        "Learning rate now:"
       ]
      },
      {
       "output_type": "stream",
       "stream": "stdout",
       "text": [
        " 0.00016915987115\n",
        "Learning rate now:"
       ]
      },
      {
       "output_type": "stream",
       "stream": "stdout",
       "text": [
        " 0.000112773247433\n",
        "Learning rate now:"
       ]
      },
      {
       "output_type": "stream",
       "stream": "stdout",
       "text": [
        " 7.51821649554e-05\n",
        "Learning rate now:"
       ]
      },
      {
       "output_type": "stream",
       "stream": "stdout",
       "text": [
        " 5.01214433036e-05\n",
        "Learning rate now:"
       ]
      },
      {
       "output_type": "stream",
       "stream": "stdout",
       "text": [
        " 3.34142955357e-05\n",
        "Learning rate now:"
       ]
      },
      {
       "output_type": "stream",
       "stream": "stdout",
       "text": [
        " 2.22761970238e-05\n",
        "Learning rate now:"
       ]
      },
      {
       "output_type": "stream",
       "stream": "stdout",
       "text": [
        " 1.48507980159e-05\n",
        "Learning rate now:"
       ]
      },
      {
       "output_type": "stream",
       "stream": "stdout",
       "text": [
        " 9.90053201059e-06\n",
        "Learning rate now:"
       ]
      },
      {
       "output_type": "stream",
       "stream": "stdout",
       "text": [
        " 6.60035467373e-06\n",
        "Learning rate now:"
       ]
      },
      {
       "output_type": "stream",
       "stream": "stdout",
       "text": [
        " 4.40023644915e-06\n",
        "Learning rate now:"
       ]
      },
      {
       "output_type": "stream",
       "stream": "stdout",
       "text": [
        " 2.9334909661e-06\n",
        "Learning rate now:"
       ]
      },
      {
       "output_type": "stream",
       "stream": "stdout",
       "text": [
        " 1.95566064407e-06\n",
        "Learning rate now:"
       ]
      },
      {
       "output_type": "stream",
       "stream": "stdout",
       "text": [
        " 1.30377376271e-06\n",
        "Learning rate now:"
       ]
      },
      {
       "output_type": "stream",
       "stream": "stdout",
       "text": [
        " 8.69182508474e-07\n",
        "Learning rate now:"
       ]
      },
      {
       "output_type": "stream",
       "stream": "stdout",
       "text": [
        " 5.7945500565e-07\n",
        "Learning rate now:"
       ]
      },
      {
       "output_type": "stream",
       "stream": "stdout",
       "text": [
        " 3.863033371e-07\n",
        "Learning rate now:"
       ]
      },
      {
       "output_type": "stream",
       "stream": "stdout",
       "text": [
        " 2.57535558066e-07\n",
        "Learning rate now:"
       ]
      },
      {
       "output_type": "stream",
       "stream": "stdout",
       "text": [
        " 1.71690372044e-07\n",
        "Learning rate now:"
       ]
      },
      {
       "output_type": "stream",
       "stream": "stdout",
       "text": [
        " 1.1446024803e-07\n",
        "Learning rate now:"
       ]
      },
      {
       "output_type": "stream",
       "stream": "stdout",
       "text": [
        " 7.63068320197e-08\n",
        "Learning rate now:"
       ]
      },
      {
       "output_type": "stream",
       "stream": "stdout",
       "text": [
        " 5.08712213465e-08\n",
        "Learning rate now:"
       ]
      },
      {
       "output_type": "stream",
       "stream": "stdout",
       "text": [
        " 0.166666666667\n",
        "Learning rate now:"
       ]
      },
      {
       "output_type": "stream",
       "stream": "stdout",
       "text": [
        " 0.111111111111\n",
        "Learning rate now:"
       ]
      },
      {
       "output_type": "stream",
       "stream": "stdout",
       "text": [
        " 0.0740740740741\n",
        "Learning rate now: 0.0493827160494\n",
        "Learning rate now:"
       ]
      },
      {
       "output_type": "stream",
       "stream": "stdout",
       "text": [
        " 0.0329218106996\n",
        "Learning rate now: 0.0219478737997\n",
        "Learning rate now:"
       ]
      },
      {
       "output_type": "stream",
       "stream": "stdout",
       "text": [
        " 0.0146319158665\n",
        "Learning rate now:"
       ]
      },
      {
       "output_type": "stream",
       "stream": "stdout",
       "text": [
        " 0.00975461057766\n",
        "Learning rate now:"
       ]
      },
      {
       "output_type": "stream",
       "stream": "stdout",
       "text": [
        " 0.00650307371844\n",
        "Learning rate now:"
       ]
      },
      {
       "output_type": "stream",
       "stream": "stdout",
       "text": [
        " 0.00433538247896\n",
        "Learning rate now:"
       ]
      },
      {
       "output_type": "stream",
       "stream": "stdout",
       "text": [
        " 0.00289025498597\n",
        "Learning rate now:"
       ]
      },
      {
       "output_type": "stream",
       "stream": "stdout",
       "text": [
        " 0.00192683665731\n",
        "Learning rate now:"
       ]
      },
      {
       "output_type": "stream",
       "stream": "stdout",
       "text": [
        " 0.00128455777154\n",
        "Learning rate now:"
       ]
      },
      {
       "output_type": "stream",
       "stream": "stdout",
       "text": [
        " 0.000856371847695\n",
        "Learning rate now:"
       ]
      },
      {
       "output_type": "stream",
       "stream": "stdout",
       "text": [
        " 0.00057091456513\n",
        "Learning rate now:"
       ]
      },
      {
       "output_type": "stream",
       "stream": "stdout",
       "text": [
        " 0.000380609710087\n",
        "Learning rate now:"
       ]
      },
      {
       "output_type": "stream",
       "stream": "stdout",
       "text": [
        " 0.000253739806725\n",
        "Learning rate now:"
       ]
      },
      {
       "output_type": "stream",
       "stream": "stdout",
       "text": [
        " 0.00016915987115\n",
        "Learning rate now:"
       ]
      },
      {
       "output_type": "stream",
       "stream": "stdout",
       "text": [
        " 0.000112773247433\n",
        "Learning rate now:"
       ]
      },
      {
       "output_type": "stream",
       "stream": "stdout",
       "text": [
        " 7.51821649554e-05\n",
        "Learning rate now:"
       ]
      },
      {
       "output_type": "stream",
       "stream": "stdout",
       "text": [
        " 5.01214433036e-05\n",
        "Learning rate now:"
       ]
      },
      {
       "output_type": "stream",
       "stream": "stdout",
       "text": [
        " 3.34142955357e-05\n",
        "Learning rate now:"
       ]
      },
      {
       "output_type": "stream",
       "stream": "stdout",
       "text": [
        " 2.22761970238e-05\n",
        "Learning rate now:"
       ]
      },
      {
       "output_type": "stream",
       "stream": "stdout",
       "text": [
        " 1.48507980159e-05\n",
        "Learning rate now:"
       ]
      },
      {
       "output_type": "stream",
       "stream": "stdout",
       "text": [
        " 9.90053201059e-06\n",
        "Learning rate now:"
       ]
      },
      {
       "output_type": "stream",
       "stream": "stdout",
       "text": [
        " 6.60035467373e-06\n",
        "Learning rate now:"
       ]
      },
      {
       "output_type": "stream",
       "stream": "stdout",
       "text": [
        " 4.40023644915e-06\n",
        "Learning rate now:"
       ]
      },
      {
       "output_type": "stream",
       "stream": "stdout",
       "text": [
        " 2.9334909661e-06\n",
        "Learning rate now:"
       ]
      },
      {
       "output_type": "stream",
       "stream": "stdout",
       "text": [
        " 1.95566064407e-06\n",
        "Learning rate now:"
       ]
      },
      {
       "output_type": "stream",
       "stream": "stdout",
       "text": [
        " 1.30377376271e-06\n",
        "Learning rate now:"
       ]
      },
      {
       "output_type": "stream",
       "stream": "stdout",
       "text": [
        " 8.69182508474e-07\n",
        "Learning rate now:"
       ]
      },
      {
       "output_type": "stream",
       "stream": "stdout",
       "text": [
        " 5.7945500565e-07\n",
        "Learning rate now:"
       ]
      },
      {
       "output_type": "stream",
       "stream": "stdout",
       "text": [
        " 3.863033371e-07\n",
        "Learning rate now:"
       ]
      },
      {
       "output_type": "stream",
       "stream": "stdout",
       "text": [
        " 2.57535558066e-07\n",
        "Learning rate now:"
       ]
      },
      {
       "output_type": "stream",
       "stream": "stdout",
       "text": [
        " 1.71690372044e-07\n",
        "Learning rate now:"
       ]
      },
      {
       "output_type": "stream",
       "stream": "stdout",
       "text": [
        " 1.1446024803e-07\n",
        "Learning rate now:"
       ]
      },
      {
       "output_type": "stream",
       "stream": "stdout",
       "text": [
        " 7.63068320197e-08\n",
        "Learning rate now:"
       ]
      },
      {
       "output_type": "stream",
       "stream": "stdout",
       "text": [
        " 5.08712213465e-08\n",
        "Learning rate now:"
       ]
      },
      {
       "output_type": "stream",
       "stream": "stdout",
       "text": [
        " 3.39141475643e-08\n",
        "Learning rate now:"
       ]
      },
      {
       "output_type": "stream",
       "stream": "stdout",
       "text": [
        " 2.26094317095e-08\n",
        "Learning rate now:"
       ]
      },
      {
       "output_type": "stream",
       "stream": "stdout",
       "text": [
        " 1.5072954473e-08\n",
        "Learning rate now:"
       ]
      },
      {
       "output_type": "stream",
       "stream": "stdout",
       "text": [
        " 1.00486363154e-08\n",
        "Learning rate now:"
       ]
      },
      {
       "output_type": "stream",
       "stream": "stdout",
       "text": [
        " 6.6990908769e-09\n",
        "Learning rate now:"
       ]
      },
      {
       "output_type": "stream",
       "stream": "stdout",
       "text": [
        " 4.4660605846e-09\n",
        "Learning rate now:"
       ]
      },
      {
       "output_type": "stream",
       "stream": "stdout",
       "text": [
        " 0.166666666667\n",
        "Learning rate now:"
       ]
      },
      {
       "output_type": "stream",
       "stream": "stdout",
       "text": [
        " 0.111111111111\n",
        "Learning rate now:"
       ]
      },
      {
       "output_type": "stream",
       "stream": "stdout",
       "text": [
        " 0.0740740740741\n",
        "Learning rate now:"
       ]
      },
      {
       "output_type": "stream",
       "stream": "stdout",
       "text": [
        " 0.0493827160494\n",
        "Learning rate now:"
       ]
      },
      {
       "output_type": "stream",
       "stream": "stdout",
       "text": [
        " 0.0329218106996\n",
        "Learning rate now:"
       ]
      },
      {
       "output_type": "stream",
       "stream": "stdout",
       "text": [
        " 0.0219478737997\n",
        "Learning rate now: 0.0146319158665\n",
        "Learning rate now:"
       ]
      },
      {
       "output_type": "stream",
       "stream": "stdout",
       "text": [
        " 0.00975461057766\n",
        "Learning rate now:"
       ]
      },
      {
       "output_type": "stream",
       "stream": "stdout",
       "text": [
        " 0.00650307371844\n",
        "Learning rate now:"
       ]
      },
      {
       "output_type": "stream",
       "stream": "stdout",
       "text": [
        " 0.00433538247896\n",
        "Learning rate now:"
       ]
      },
      {
       "output_type": "stream",
       "stream": "stdout",
       "text": [
        " 0.00289025498597\n",
        "Learning rate now:"
       ]
      },
      {
       "output_type": "stream",
       "stream": "stdout",
       "text": [
        " 0.00192683665731\n",
        "Learning rate now:"
       ]
      },
      {
       "output_type": "stream",
       "stream": "stdout",
       "text": [
        " 0.00128455777154\n",
        "Learning rate now:"
       ]
      },
      {
       "output_type": "stream",
       "stream": "stdout",
       "text": [
        " 0.000856371847695\n",
        "Learning rate now:"
       ]
      },
      {
       "output_type": "stream",
       "stream": "stdout",
       "text": [
        " 0.00057091456513\n",
        "Learning rate now:"
       ]
      },
      {
       "output_type": "stream",
       "stream": "stdout",
       "text": [
        " 0.000380609710087\n",
        "Learning rate now:"
       ]
      },
      {
       "output_type": "stream",
       "stream": "stdout",
       "text": [
        " 0.000253739806725\n",
        "Learning rate now:"
       ]
      },
      {
       "output_type": "stream",
       "stream": "stdout",
       "text": [
        " 0.00016915987115\n",
        "Learning rate now:"
       ]
      },
      {
       "output_type": "stream",
       "stream": "stdout",
       "text": [
        " 0.000112773247433\n",
        "Learning rate now:"
       ]
      },
      {
       "output_type": "stream",
       "stream": "stdout",
       "text": [
        " 7.51821649554e-05\n",
        "Learning rate now:"
       ]
      },
      {
       "output_type": "stream",
       "stream": "stdout",
       "text": [
        " 5.01214433036e-05\n",
        "Learning rate now:"
       ]
      },
      {
       "output_type": "stream",
       "stream": "stdout",
       "text": [
        " 3.34142955357e-05\n",
        "Learning rate now:"
       ]
      },
      {
       "output_type": "stream",
       "stream": "stdout",
       "text": [
        " 2.22761970238e-05\n",
        "Learning rate now:"
       ]
      },
      {
       "output_type": "stream",
       "stream": "stdout",
       "text": [
        " 1.48507980159e-05\n",
        "Learning rate now:"
       ]
      },
      {
       "output_type": "stream",
       "stream": "stdout",
       "text": [
        " 9.90053201059e-06\n",
        "Learning rate now:"
       ]
      },
      {
       "output_type": "stream",
       "stream": "stdout",
       "text": [
        " 6.60035467373e-06\n",
        "Learning rate now:"
       ]
      },
      {
       "output_type": "stream",
       "stream": "stdout",
       "text": [
        " 4.40023644915e-06\n",
        "Learning rate now:"
       ]
      },
      {
       "output_type": "stream",
       "stream": "stdout",
       "text": [
        " 2.9334909661e-06\n",
        "Learning rate now:"
       ]
      },
      {
       "output_type": "stream",
       "stream": "stdout",
       "text": [
        " 1.95566064407e-06\n",
        "Learning rate now:"
       ]
      },
      {
       "output_type": "stream",
       "stream": "stdout",
       "text": [
        " 1.30377376271e-06\n",
        "Learning rate now:"
       ]
      },
      {
       "output_type": "stream",
       "stream": "stdout",
       "text": [
        " 8.69182508474e-07\n",
        "Learning rate now:"
       ]
      },
      {
       "output_type": "stream",
       "stream": "stdout",
       "text": [
        " 5.7945500565e-07\n",
        "Learning rate now:"
       ]
      },
      {
       "output_type": "stream",
       "stream": "stdout",
       "text": [
        " 3.863033371e-07\n",
        "Learning rate now:"
       ]
      },
      {
       "output_type": "stream",
       "stream": "stdout",
       "text": [
        " 2.57535558066e-07\n",
        "Learning rate now:"
       ]
      },
      {
       "output_type": "stream",
       "stream": "stdout",
       "text": [
        " 1.71690372044e-07\n",
        "Learning rate now:"
       ]
      },
      {
       "output_type": "stream",
       "stream": "stdout",
       "text": [
        " 1.1446024803e-07\n",
        "Learning rate now:"
       ]
      },
      {
       "output_type": "stream",
       "stream": "stdout",
       "text": [
        " 7.63068320197e-08\n",
        "Learning rate now:"
       ]
      },
      {
       "output_type": "stream",
       "stream": "stdout",
       "text": [
        " 5.08712213465e-08\n",
        "Learning rate now:"
       ]
      },
      {
       "output_type": "stream",
       "stream": "stdout",
       "text": [
        " 3.39141475643e-08\n",
        "Learning rate now:"
       ]
      },
      {
       "output_type": "stream",
       "stream": "stdout",
       "text": [
        " 2.26094317095e-08\n",
        "Learning rate now:"
       ]
      },
      {
       "output_type": "stream",
       "stream": "stdout",
       "text": [
        " 1.5072954473e-08\n",
        "Learning rate now:"
       ]
      },
      {
       "output_type": "stream",
       "stream": "stdout",
       "text": [
        " 1.00486363154e-08\n",
        "Learning rate now:"
       ]
      },
      {
       "output_type": "stream",
       "stream": "stdout",
       "text": [
        " 6.6990908769e-09\n",
        "Learning rate now:"
       ]
      },
      {
       "output_type": "stream",
       "stream": "stdout",
       "text": [
        " 4.4660605846e-09\n",
        "Learning rate now:"
       ]
      },
      {
       "output_type": "stream",
       "stream": "stderr",
       "text": [
        "/Users/doug/iPython/multilayer_perceptron/multilayer_perceptron_ddw.py:447: ConvergenceWarning: SGD: Maximum iterations have reached and the optimization hasn't converged yet.\n",
        "  % (), ConvergenceWarning)\n",
        "[Parallel(n_jobs=1)]: Done   1 jobs       | elapsed:  2.2min\n",
        "[Parallel(n_jobs=1)]: Done  10 out of  10 | elapsed:  7.2min finished\n"
       ]
      },
      {
       "output_type": "stream",
       "stream": "stdout",
       "text": [
        " 2.97737372307e-09\n",
        "best_score: "
       ]
      },
      {
       "output_type": "stream",
       "stream": "stdout",
       "text": [
        " 0.168456397281\n"
       ]
      },
      {
       "metadata": {},
       "output_type": "pyout",
       "prompt_number": 28,
       "text": [
        "[mean: 0.16846, std: 0.15021, params: {'algorithm': 'sgd', 'hidden_layer_sizes': (200, 20), 'learning_rate': 'doug', 'max_iter': 3000, 'tol': 1e-09, 'alpha': 0.001, 'learning_rate_init': 0.25}]"
       ]
      }
     ],
     "prompt_number": 28
    },
    {
     "cell_type": "raw",
     "metadata": {},
     "source": [
      "best_score, param_val, param_name = \\\n",
      "    plot_validation_curve(clf,\n",
      "                          X, Y,\n",
      "                          \"max_iter\", [100, 200, 400, 600, 800],\n",
      "                          \"max_iter Validation Curve\",\n",
      "                          cv=cv, scoring=SCORING, n_jobs=JOBS)\n",
      "print 'Best score of', best_score, 'when setting', param_name, 'to',  param_val"
     ]
    },
    {
     "cell_type": "raw",
     "metadata": {},
     "source": [
      "title = \"Learning Curves for MLP\"\n",
      "my_plot_learning_curve(estimator, title, X, Y,\n",
      "                           n_jobs=JOBS, future=500,\n",
      "                           history_sizes=[100, 200, 500, 1000],\n",
      "                           n_iter=10)"
     ]
    },
    {
     "cell_type": "heading",
     "level": 1,
     "metadata": {},
     "source": [
      "Boneyard"
     ]
    },
    {
     "cell_type": "raw",
     "metadata": {},
     "source": [
      "from sklearn.datasets import load_digits"
     ]
    },
    {
     "cell_type": "raw",
     "metadata": {},
     "source": [
      "# Load dataset\n",
      "digits = load_digits()\n",
      "X, y = digits.data, digits.target"
     ]
    },
    {
     "cell_type": "raw",
     "metadata": {},
     "source": [
      "# Create MLP Object\n",
      "# Please see line 562 in \"multilayer_perceptron.py\" for more information \n",
      "# about the parameters\n",
      "mlp = MultilayerPerceptronClassifier(hidden_layer_sizes = (50, 20), \\\n",
      "                                     max_iter = 200, alpha = 0.02)"
     ]
    },
    {
     "cell_type": "raw",
     "metadata": {},
     "source": [
      "# Train MLP\n",
      "mlp.fit(X, y)"
     ]
    },
    {
     "cell_type": "raw",
     "metadata": {},
     "source": [
      "# Report scores\n",
      "print \"Training Score = \", mlp.score(X,y)\n",
      "print \"Predicted labels = \", mlp.predict(X)\n",
      "print \"True labels = \", y "
     ]
    },
    {
     "cell_type": "raw",
     "metadata": {},
     "source": [
      "Type:            ABCMeta\n",
      "String form:     <class 'multilayer_perceptron.MultilayerPerceptronClassifier'>\n",
      "File:            /Users/doug/iPython/multilayer_perceptron/multilayer_perceptron.py\n",
      "Init definition: MultilayerPerceptronClassifier(self, hidden_layer_sizes=(100,), activation='relu', algorithm='l-bfgs', alpha=1e-05, batch_size=200, learning_rate='constant', learning_rate_init=0.5, power_t=0.5, max_iter=200, shuffle=False, random_state=None, tol=1e-05, verbose=False, warm_start=False)\n",
      "Docstring:\n",
      "Multi-layer Perceptron classifier.\n",
      "\n",
      "This algorithm optimizes the logistic loss function using l-bfgs or\n",
      "gradient descent.\n",
      "\n",
      "Parameters\n",
      "----------\n",
      "hidden_layer_sizes : tuple, length = n_layers - 2, default (100,)\n",
      "    The ith index in list contains the number of neurons in the ith\n",
      "    hidden layer.\n",
      "\n",
      "activation : {'logistic', 'tanh', 'relu'}, default 'relu'\n",
      "    Activation function for the hidden layer.\n",
      "\n",
      "    -  'logistic', the logistic sigmoid function,\n",
      "        returns f(x) = 1 / (1 + exp(x)).\n",
      "\n",
      "    - 'tanh', the hyperbolic tan function,\n",
      "       returns f(x) = tanh(x).\n",
      "\n",
      "    - 'relu', the rectified linear unit function,\n",
      "       returns f(x) = max(0, x)\n",
      "\n",
      "algorithm : {'l-bfgs', 'sgd'}, default 'l-bfgs'\n",
      "    The algorithm for weight optimization.  Defaults to 'l-bfgs'\n",
      "\n",
      "    - 'l-bfgs' is an optimization algorithm in the family of\n",
      "      quasi-Newton methods.\n",
      "\n",
      "    - 'sgd' refers to stochastic gradient descent.\n",
      "\n",
      "alpha : float, optional, default 0.00001\n",
      "    L2 penalty (regularization term) parameter.\n",
      "\n",
      "batch_size : int, optional, default 200\n",
      "    Size of minibatches in SGD optimizer.\n",
      "    If you select the algorithm as 'l-bfgs',\n",
      "    then the classifier will not use minibatches.\n",
      "\n",
      "learning_rate : {'constant', 'invscaling'}, default 'constant'\n",
      "    Base learning rate for weight updates.\n",
      "\n",
      "    -'constant', as it stands,  keeps the learning rate\n",
      "     'learning_rate_init' constant throughout training.\n",
      "     learning_rate_ = learning_rate_init\n",
      "\n",
      "    -'invscaling' gradually decreases the learning rate 'learning_rate_' at\n",
      "      each time step 't' using an inverse scaling exponent of 'power_t'.\n",
      "      learning_rate_ = learning_rate_init / pow(t, power_t)\n",
      "\n",
      "max_iter : int, optional, default 200\n",
      "    Maximum number of iterations. The algorithm\n",
      "    iterates until convergence (determined by 'tol') or\n",
      "    this number of iterations.\n",
      "\n",
      "random_state : int or RandomState, optional, default None\n",
      "    State of or seed for random number generator.\n",
      "\n",
      "shuffle : bool, optional, default False\n",
      "    Whether to shuffle samples in each iteration before extracting\n",
      "    minibatches.\n",
      "\n",
      "tol : float, optional, default 1e-5\n",
      "    Tolerance for the optimization. When the loss at iteration i+1 differs\n",
      "    less than this amount from that at iteration i, convergence is\n",
      "    considered to be reached and the algorithm exits.\n",
      "\n",
      "learning_rate_init : double, optional, default 0.5\n",
      "    The initial learning rate used. It controls the step-size\n",
      "    in updating the weights.\n",
      "\n",
      "power_t : double, optional, default 0.5\n",
      "    The exponent for inverse scaling learning rate.\n",
      "    It is used in updating learning_rate_init when the learning_rate\n",
      "    is set to 'invscaling'.\n",
      "\n",
      "verbose : bool, optional, default False\n",
      "    Whether to print progress messages to stdout.\n",
      "\n",
      "warm_start : bool, optional, default False\n",
      "    When set to True, reuse the solution of the previous\n",
      "    call to fit as initialization, otherwise, just erase the\n",
      "    previous solution.\n",
      "\n",
      "Attributes\n",
      "----------\n",
      "`classes_` : array or list of array of shape (n_classes,)\n",
      "    Class labels for each output.\n",
      "\n",
      "`cost_` : float\n",
      "    The current cost value computed by the loss function.\n",
      "\n",
      "`label_binarizer_` : LabelBinarizer\n",
      "    A LabelBinarizer object trained on the training set.\n",
      "\n",
      "`layers_coef_` : list, length n_layers - 1\n",
      "    The ith element in the list represents the weight matrix corresponding\n",
      "    to layer i.\n",
      "\n",
      "`layers_intercept_` : list, length n_layers - 1\n",
      "    The ith element in the list represents the bias vector corresponding to\n",
      "    layer i + 1.\n",
      "\n",
      "`learning_rate_` : float\n",
      "    The current learning rate.\n",
      "\n",
      "n_iter_ : int,\n",
      "    The current number of iterations the algorithm has ran.\n",
      "\n",
      "n_layers_ : int\n",
      "    Number of layers.\n",
      "\n",
      "`n_outputs_` : int\n",
      "    Number of outputs.\n",
      "\n",
      "`out_activation_` : string\n",
      "    Name of the output activation function.\n",
      "\n",
      "Notes\n",
      "-----\n",
      "MultilayerPerceptronClassifier trains iteratively since at each time step\n",
      "the partial derivatives of the loss function with respect to the model\n",
      "parameters are computed to update the parameters.\n",
      "\n",
      "It can also use regularizer as a penalty term added to the loss function\n",
      "that shrinks model parameters towards zero.\n",
      "\n",
      "This implementation works with data represented as dense and sparse numpy\n",
      "arrays of floating point values for the features.\n",
      "\n",
      "References\n",
      "----------\n",
      "Hinton, Geoffrey E.\n",
      "    \"Connectionist learning procedures.\" Artificial intelligence 40.1\n",
      "    (1989): 185-234.\n",
      "\n",
      "Glorot, Xavier, and Yoshua Bengio. \"Understanding the difficulty of\n",
      "    training deep feedforward neural networks.\" International Conference\n",
      "    on Artificial Intelligence and Statistics. 2010."
     ]
    }
   ],
   "metadata": {}
  }
 ]
}