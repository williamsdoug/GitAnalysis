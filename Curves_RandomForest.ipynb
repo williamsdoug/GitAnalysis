{
 "metadata": {
  "name": "",
  "signature": "sha256:ca492df8fbc8a1b432ce899a181732df6d2f94dbc9138065893ccb023666a30a"
 },
 "nbformat": 3,
 "nbformat_minor": 0,
 "worksheets": [
  {
   "cells": [
    {
     "cell_type": "code",
     "collapsed": false,
     "input": [
      "%matplotlib inline\n",
      "from pprint import pprint\n",
      "from collections import defaultdict\n",
      "\n",
      "import numpy as np\n",
      "import math\n",
      "import matplotlib.pyplot as plt\n",
      "import random\n",
      "import warnings\n",
      "\n",
      "import sklearn.tree\n",
      "import sklearn.ensemble\n",
      "\n",
      "from sklearn.grid_search import GridSearchCV\n",
      "from sklearn import metrics\n",
      "\n",
      "import sys\n",
      "sys.path.append('./dev')\n",
      "\n",
      "from ml_plot import plot_validation_curve\n",
      "from ml_plot import PredictCV, my_plot_learning_curve\n",
      "from ml_plot import plot_prediction_curve\n",
      "from ml_plot import get_dataset, eval_predictions"
     ],
     "language": "python",
     "metadata": {},
     "outputs": [],
     "prompt_number": 1
    },
    {
     "cell_type": "heading",
     "level": 1,
     "metadata": {},
     "source": [
      "Configuration"
     ]
    },
    {
     "cell_type": "code",
     "collapsed": false,
     "input": [
      "# PROJECT = 'nova'\n",
      "# PROJECT = 'swift'\n",
      "# PROJECT = 'cinder'\n",
      "PROJECT = 'heat'\n",
      "# PROJECT = 'glance'\n",
      "\n",
      "# IMPORTANCE = 'crit'\n",
      "# IMPORTANCE = 'high+'\n",
      "IMPORTANCE = 'med+'\n",
      "# IMPORTANCE = 'low+'\n",
      "\n",
      "# SIZE = 100\n",
      "#SIZE = 250\n",
      "# SIZE = 0.1\n",
      "SIZE = 0.5\n",
      "\n",
      "SCORING = 'f1'         # (precision * recall) / (precision + recall)\n",
      "# SCORING = 'accuracy'   # (TP + TN) / all values\n",
      "# SCORING = 'precision'  # TP / (TP + FP)\n",
      "# SCORING = 'recall'     # TP / (TP + FN)\n",
      "# SCORING = 'average_precision'\n",
      "# SCORING = 'roc_auc'\n",
      "\n",
      "JOBS = 4\n",
      "\n",
      "VERBOSE = 0\n",
      "\n",
      "#warnings.simplefilter(\"ignore\", UndefinedMetricWarning)\n",
      "warnings.filterwarnings(\"ignore\", 'F-score is ill-defined')"
     ],
     "language": "python",
     "metadata": {},
     "outputs": [],
     "prompt_number": 2
    },
    {
     "cell_type": "heading",
     "level": 1,
     "metadata": {},
     "source": [
      "Load Data"
     ]
    },
    {
     "cell_type": "code",
     "collapsed": false,
     "input": [
      "%%capture\n",
      "Y, X = get_dataset(PROJECT, IMPORTANCE)"
     ],
     "language": "python",
     "metadata": {},
     "outputs": [],
     "prompt_number": 3
    },
    {
     "cell_type": "heading",
     "level": 3,
     "metadata": {},
     "source": [
      "Select Split Strategy"
     ]
    },
    {
     "cell_type": "code",
     "collapsed": false,
     "input": [
      "cv = PredictCV(len(Y), history=500, future=500, n_iter=100)"
     ],
     "language": "python",
     "metadata": {},
     "outputs": [],
     "prompt_number": 4
    },
    {
     "cell_type": "heading",
     "level": 1,
     "metadata": {},
     "source": [
      "Random Forest"
     ]
    },
    {
     "cell_type": "code",
     "collapsed": false,
     "input": [
      "estimator = sklearn.ensemble.RandomForestClassifier()\n",
      "param_grid = {'criterion': ['gini', 'entropy'],\n",
      "                  'n_estimators':[5, 10, 15],\n",
      "                  'max_features':['auto', 'log2', 10, 25, 50, 75, 100, 150, 200]  }"
     ],
     "language": "python",
     "metadata": {},
     "outputs": [],
     "prompt_number": 5
    },
    {
     "cell_type": "code",
     "collapsed": false,
     "input": [
      "grid = GridSearchCV(estimator, param_grid=param_grid, cv=cv, scoring=SCORING,\n",
      "                    n_jobs=JOBS, pre_dispatch=2*JOBS, verbose=VERBOSE)\n",
      "# grid.fit(X_train, Y_train)\n",
      "grid.fit(X, Y)\n",
      "print 'best_score: ', grid.best_score_\n",
      "clf = grid.best_estimator_\n",
      "grid.best_estimator_"
     ],
     "language": "python",
     "metadata": {},
     "outputs": [
      {
       "output_type": "stream",
       "stream": "stdout",
       "text": [
        "best_score:  0.436284953112\n"
       ]
      },
      {
       "output_type": "pyout",
       "prompt_number": 6,
       "text": [
        "RandomForestClassifier(bootstrap=True, compute_importances=None,\n",
        "            criterion='gini', max_depth=None, max_features=200,\n",
        "            max_leaf_nodes=None, min_density=None, min_samples_leaf=1,\n",
        "            min_samples_split=2, n_estimators=15, n_jobs=1,\n",
        "            oob_score=False, random_state=None, verbose=0)"
       ]
      }
     ],
     "prompt_number": 6
    },
    {
     "cell_type": "heading",
     "level": 3,
     "metadata": {},
     "source": [
      "Validation Curve"
     ]
    },
    {
     "cell_type": "code",
     "collapsed": false,
     "input": [
      "best_score, param_val, param_name = \\\n",
      "    plot_validation_curve(clf,\n",
      "                          # X_train, Y_train,\n",
      "                          X, Y,\n",
      "                          \"max_features\", [10, 25, 50, 75, 100, 125, 150, 200, 250, 300],\n",
      "                          \"max_features Validation Curve\",\n",
      "                          cv=cv, scoring=SCORING, n_jobs=JOBS)"
     ],
     "language": "python",
     "metadata": {},
     "outputs": [
      {
       "output_type": "display_data",
       "png": "[encoded data removed]",
       "text": [
        "<matplotlib.figure.Figure at 0x10a286450>"
       ]
      }
     ],
     "prompt_number": 7
    },
    {
     "cell_type": "code",
     "collapsed": false,
     "input": [
      "print 'Best score of', best_score, 'when setting', param_name, 'to',  param_val"
     ],
     "language": "python",
     "metadata": {},
     "outputs": [
      {
       "output_type": "stream",
       "stream": "stdout",
       "text": [
        "Best score of 0.445246716761 when setting max_features to 300\n"
       ]
      }
     ],
     "prompt_number": 8
    },
    {
     "cell_type": "code",
     "collapsed": false,
     "input": [
      "best_score, param_val, param_name = \\\n",
      "    plot_validation_curve(clf,\n",
      "                          # X_train, Y_train,\n",
      "                          X, Y,\n",
      "                          \"n_estimators\", [5, 7, 10, 11, 13, 15, 17, 19, 23, 25, 29],\n",
      "                          \"n_estimators Validation Curve\",\n",
      "                          cv=cv, scoring=SCORING, n_jobs=JOBS, scale='linear')"
     ],
     "language": "python",
     "metadata": {},
     "outputs": [
      {
       "output_type": "display_data",
       "png": "[encoded data removed]",
       "text": [
        "<matplotlib.figure.Figure at 0x100737190>"
       ]
      }
     ],
     "prompt_number": 9
    },
    {
     "cell_type": "code",
     "collapsed": false,
     "input": [
      "print 'Best score of', best_score, 'when setting', param_name, 'to',  param_val"
     ],
     "language": "python",
     "metadata": {},
     "outputs": [
      {
       "output_type": "stream",
       "stream": "stdout",
       "text": [
        "Best score of 0.446897173107 when setting n_estimators to 29\n"
       ]
      }
     ],
     "prompt_number": 10
    },
    {
     "cell_type": "heading",
     "level": 3,
     "metadata": {},
     "source": [
      "Learning Curve"
     ]
    },
    {
     "cell_type": "code",
     "collapsed": false,
     "input": [
      "title = \"Learning Curves for Random Forest Classifier\"\n",
      "my_plot_learning_curve(clf, title, X, Y,\n",
      "                           n_jobs=JOBS, future=500,\n",
      "                           history_sizes=[100, 200, 300, 500, 700, 800, 900, 1000], n_iter=100)\n",
      "plt.show()"
     ],
     "language": "python",
     "metadata": {},
     "outputs": [
      {
       "output_type": "display_data",
       "png": "[encoded data removed]",
       "text": [
        "<matplotlib.figure.Figure at 0x127f3e710>"
       ]
      }
     ],
     "prompt_number": 11
    },
    {
     "cell_type": "heading",
     "level": 3,
     "metadata": {},
     "source": [
      "Prediction Curve"
     ]
    },
    {
     "cell_type": "code",
     "collapsed": false,
     "input": [
      "title = \"Prediction Horizon Curve for Random Forest Classifier\"\n",
      "plot_prediction_curve(clf, title, X, Y,\n",
      "                           n_jobs=JOBS, history=500,\n",
      "                           future_sizes=[100, 200, 300, 500], n_iter=100)\n",
      "plt.show()"
     ],
     "language": "python",
     "metadata": {},
     "outputs": [
      {
       "output_type": "display_data",
       "png": "[encoded data removed]",
       "text": [
        "<matplotlib.figure.Figure at 0x126e03c50>"
       ]
      }
     ],
     "prompt_number": 12
    },
    {
     "cell_type": "code",
     "collapsed": false,
     "input": [
      "RF_results = eval_predictions(clf, X, Y, history_sizes=[300, 700, 500, 1000], future_sizes=[100, 150, 200, 500], n_iter=100)"
     ],
     "language": "python",
     "metadata": {},
     "outputs": [
      {
       "output_type": "stream",
       "stream": "stdout",
       "text": [
        "** Predictions for hist=300 future=100 **\n",
        "\n",
        "F1:        0.38  +/- 0.17\n",
        "Accuracy:  0.73  +/- 0.08\n",
        "Precision: 0.49  +/- 0.18\n",
        "Recall:    0.33  +/- 0.18\n",
        "\n",
        "Aggregate Confusion Matrix - 100 iterations\n",
        "[[6221  960]\n",
        " [1764 1055]]\n",
        "\n",
        "\n",
        "** Predictions for hist=300 future=150 **"
       ]
      },
      {
       "output_type": "stream",
       "stream": "stdout",
       "text": [
        "\n",
        "\n",
        "F1:        0.39  +/- 0.15\n",
        "Accuracy:  0.75  +/- 0.08\n",
        "Precision: 0.53  +/- 0.16\n",
        "Recall:    0.34  +/- 0.17\n",
        "\n",
        "Aggregate Confusion Matrix - 100 iterations\n",
        "[[9751 1295]\n",
        " [2431 1523]]\n",
        "\n",
        "\n",
        "** Predictions for hist=300 future=200 **"
       ]
      },
      {
       "output_type": "stream",
       "stream": "stdout",
       "text": [
        "\n",
        "\n",
        "F1:        0.39  +/- 0.14\n",
        "Accuracy:  0.74  +/- 0.08\n",
        "Precision: 0.53  +/- 0.15\n",
        "Recall:    0.33  +/- 0.14\n",
        "\n",
        "Aggregate Confusion Matrix - 100 iterations\n",
        "[[12922  1723]\n",
        " [ 3419  1936]]\n",
        "\n",
        "\n",
        "** Predictions for hist=300 future=500 **"
       ]
      },
      {
       "output_type": "stream",
       "stream": "stdout",
       "text": [
        "\n",
        "\n",
        "F1:        0.42  +/- 0.09\n",
        "Accuracy:  0.71  +/- 0.06\n",
        "Precision: 0.49  +/- 0.09\n",
        "Recall:    0.38  +/- 0.12\n",
        "\n",
        "Aggregate Confusion Matrix - 100 iterations\n",
        "[[29748  5864]\n",
        " [ 8672  5716]]\n",
        "\n",
        "\n",
        "** Predictions for hist=700 future=100 **"
       ]
      },
      {
       "output_type": "stream",
       "stream": "stdout",
       "text": [
        "\n",
        "\n",
        "F1:        0.43  +/- 0.13\n",
        "Accuracy:  0.74  +/- 0.08\n",
        "Precision: 0.50  +/- 0.15\n",
        "Recall:    0.39  +/- 0.14\n",
        "\n",
        "Aggregate Confusion Matrix - 100 iterations\n",
        "[[6224 1062]\n",
        " [1565 1149]]\n",
        "\n",
        "\n",
        "** Predictions for hist=700 future=150 **"
       ]
      },
      {
       "output_type": "stream",
       "stream": "stdout",
       "text": [
        "\n",
        "\n",
        "F1:        0.38  +/- 0.13\n",
        "Accuracy:  0.75  +/- 0.09\n",
        "Precision: 0.47  +/- 0.13\n",
        "Recall:    0.35  +/- 0.15\n",
        "\n",
        "Aggregate Confusion Matrix - 100 iterations\n",
        "[[9844 1473]\n",
        " [2282 1401]]\n",
        "\n",
        "\n",
        "** Predictions for hist=700 future=200 **"
       ]
      },
      {
       "output_type": "stream",
       "stream": "stdout",
       "text": [
        "\n",
        "\n",
        "F1:        0.43  +/- 0.12\n",
        "Accuracy:  0.73  +/- 0.08\n",
        "Precision: 0.48  +/- 0.09\n",
        "Recall:    0.41  +/- 0.14\n",
        "\n",
        "Aggregate Confusion Matrix - 100 iterations\n",
        "[[12230  2411]\n",
        " [ 3042  2317]]\n",
        "\n",
        "\n",
        "** Predictions for hist=700 future=500 **"
       ]
      },
      {
       "output_type": "stream",
       "stream": "stdout",
       "text": [
        "\n",
        "\n",
        "F1:        0.45  +/- 0.07\n",
        "Accuracy:  0.73  +/- 0.06\n",
        "Precision: 0.45  +/- 0.04\n",
        "Recall:    0.46  +/- 0.11\n",
        "\n",
        "Aggregate Confusion Matrix - 100 iterations\n",
        "[[30356  7237]\n",
        " [ 6498  5909]]\n",
        "\n",
        "\n",
        "** Predictions for hist=500 future=100 **"
       ]
      },
      {
       "output_type": "stream",
       "stream": "stdout",
       "text": [
        "\n",
        "\n",
        "F1:        0.42  +/- 0.17\n",
        "Accuracy:  0.73  +/- 0.08\n",
        "Precision: 0.51  +/- 0.18\n",
        "Recall:    0.37  +/- 0.17\n",
        "\n",
        "Aggregate Confusion Matrix - 100 iterations\n",
        "[[6077  971]\n",
        " [1720 1232]]\n",
        "\n",
        "\n",
        "** Predictions for hist=500 future=150 **"
       ]
      },
      {
       "output_type": "stream",
       "stream": "stdout",
       "text": [
        "\n",
        "\n",
        "F1:        0.40  +/- 0.16\n",
        "Accuracy:  0.74  +/- 0.08\n",
        "Precision: 0.48  +/- 0.16\n",
        "Recall:    0.37  +/- 0.17\n",
        "\n",
        "Aggregate Confusion Matrix - 100 iterations\n",
        "[[9372 1558]\n",
        " [2395 1675]]\n",
        "\n",
        "\n",
        "** Predictions for hist=500 future=200 **"
       ]
      },
      {
       "output_type": "stream",
       "stream": "stdout",
       "text": [
        "\n",
        "\n",
        "F1:        0.43  +/- 0.12\n",
        "Accuracy:  0.73  +/- 0.08\n",
        "Precision: 0.52  +/- 0.11\n",
        "Recall:    0.39  +/- 0.14\n",
        "\n",
        "Aggregate Confusion Matrix - 100 iterations\n",
        "[[12325  2051]\n",
        " [ 3272  2352]]\n",
        "\n",
        "\n",
        "** Predictions for hist=500 future=500 **"
       ]
      },
      {
       "output_type": "stream",
       "stream": "stdout",
       "text": [
        "\n",
        "\n",
        "F1:        0.44  +/- 0.10\n",
        "Accuracy:  0.72  +/- 0.07\n",
        "Precision: 0.48  +/- 0.08\n",
        "Recall:    0.43  +/- 0.14\n",
        "\n",
        "Aggregate Confusion Matrix - 100 iterations\n",
        "[[29849  6554]\n",
        " [ 7416  6181]]\n",
        "\n",
        "\n",
        "** Predictions for hist=1000 future=100 **"
       ]
      },
      {
       "output_type": "stream",
       "stream": "stdout",
       "text": [
        "\n",
        "\n",
        "F1:        0.41  +/- 0.15\n",
        "Accuracy:  0.77  +/- 0.08\n",
        "Precision: 0.46  +/- 0.14\n",
        "Recall:    0.39  +/- 0.17\n",
        "\n",
        "Aggregate Confusion Matrix - 100 iterations\n",
        "[[6736 1012]\n",
        " [1291  961]]\n",
        "\n",
        "\n",
        "** Predictions for hist=1000 future=150 **"
       ]
      },
      {
       "output_type": "stream",
       "stream": "stdout",
       "text": [
        "\n",
        "\n",
        "F1:        0.39  +/- 0.12\n",
        "Accuracy:  0.76  +/- 0.08\n",
        "Precision: 0.44  +/- 0.11\n",
        "Recall:    0.36  +/- 0.15\n",
        "\n",
        "Aggregate Confusion Matrix - 100 iterations\n",
        "[[10095  1528]\n",
        " [ 2064  1313]]\n",
        "\n",
        "\n",
        "** Predictions for hist=1000 future=200 **"
       ]
      },
      {
       "output_type": "stream",
       "stream": "stdout",
       "text": [
        "\n",
        "\n",
        "F1:        0.40  +/- 0.10\n",
        "Accuracy:  0.75  +/- 0.08\n",
        "Precision: 0.45  +/- 0.08\n",
        "Recall:    0.38  +/- 0.14\n",
        "\n",
        "Aggregate Confusion Matrix - 100 iterations\n",
        "[[13085  2276]\n",
        " [ 2773  1866]]\n",
        "\n",
        "\n",
        "** Predictions for hist=1000 future=500 **"
       ]
      },
      {
       "output_type": "stream",
       "stream": "stdout",
       "text": [
        "\n",
        "\n",
        "F1:        0.42  +/- 0.06\n",
        "Accuracy:  0.75  +/- 0.05\n",
        "Precision: 0.43  +/- 0.05\n",
        "Recall:    0.42  +/- 0.10\n",
        "\n",
        "Aggregate Confusion Matrix - 100 iterations\n",
        "[[32616  6303]\n",
        " [ 6294  4787]]\n",
        "\n",
        "\n"
       ]
      },
      {
       "output_type": "stream",
       "stream": "stderr",
       "text": [
        "/Users/doug/anaconda/lib/python2.7/site-packages/sklearn/metrics/metrics.py:1771: UndefinedMetricWarning: Precision is ill-defined and being set to 0.0 due to no predicted samples.\n",
        "  'precision', 'predicted', average, warn_for)\n"
       ]
      }
     ],
     "prompt_number": 13
    },
    {
     "cell_type": "code",
     "collapsed": false,
     "input": [
      "RF_clf = clf"
     ],
     "language": "python",
     "metadata": {},
     "outputs": [],
     "prompt_number": 14
    }
   ],
   "metadata": {}
  }
 ]
}