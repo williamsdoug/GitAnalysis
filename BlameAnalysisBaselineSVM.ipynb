{
 "metadata": {
  "name": "",
  "signature": "sha256:64bf6eb7f3d1b8dab79cd97cb472fe8bd80f43f16e7c19a4c1bc1d7639387762"
 },
 "nbformat": 3,
 "nbformat_minor": 0,
 "worksheets": [
  {
   "cells": [
    {
     "cell_type": "markdown",
     "metadata": {},
     "source": [
      "#Baseline Blame Analysis for OpenStack Projects using Support Vector Machines\n",
      "\n",
      "Copyright Doug Williams - 2014, 2015\n",
      "\n",
      "###Updated: 3/13/2015\n",
      "\n",
      "Background: http://neerajkumar.org/writings/svm/\n",
      " \n",
      "####Current Status\n",
      "- Currently poor results, much worst than SGD\n",
      " - May be an issue of too many features relative to number of feature vectors"
     ]
    },
    {
     "cell_type": "heading",
     "level": 1,
     "metadata": {},
     "source": [
      "Includes"
     ]
    },
    {
     "cell_type": "code",
     "collapsed": false,
     "input": [
      "%matplotlib inline"
     ],
     "language": "python",
     "metadata": {},
     "outputs": [],
     "prompt_number": 1
    },
    {
     "cell_type": "code",
     "collapsed": false,
     "input": [
      "from pprint import pprint\n",
      "from collections import defaultdict\n",
      "\n",
      "import numpy as np\n",
      "import numpy as np\n",
      "import math\n",
      "import matplotlib.pyplot as plt\n",
      "\n",
      "from sklearn.svm import SVC\n",
      "from sklearn.cross_validation import StratifiedKFold\n",
      "from sklearn.cross_validation import StratifiedShuffleSplit\n",
      "from sklearn.cross_validation import ShuffleSplit\n",
      "from sklearn.grid_search import GridSearchCV\n",
      "from sklearn import metrics\n",
      "\n",
      "# from sklearn.feature_extraction import DictVectorizer\n",
      "# from sklearn.preprocessing import StandardScaler\n",
      "#from sklearn.preprocessing import MinMaxScaler\n",
      "# from sklearn.svm import SVR\n",
      "\n",
      "import sys\n",
      "sys.path.append('./dev')\n",
      "\n",
      "from Git_Extract import  filter_bug_fix_combined_commits\n",
      "from Git_Extract import get_commit_ordering_min_max\n",
      "\n",
      "from commit_analysis import load_core_analysis_data\n",
      "from commit_analysis import fit_features\n",
      "from commit_analysis import extract_features\n",
      "#from commit_analysis import compute_guilt\n",
      "from commit_analysis import autoset_threshold\n",
      "from BugFixWorkflow import compute_selected_bug_fixes\n",
      "\n",
      "from BugFixWorkflow import commit_postprocessing\n",
      "from BugFixWorkflow import find_legacy_cutoff\n",
      "\n",
      "# from commit_analysis import blame_compute_normalized_guilt\n",
      "# from commit_analysis import normalize_blame_by_file"
     ],
     "language": "python",
     "metadata": {},
     "outputs": [],
     "prompt_number": 2
    },
    {
     "cell_type": "heading",
     "level": 1,
     "metadata": {},
     "source": [
      "Code"
     ]
    },
    {
     "cell_type": "code",
     "collapsed": false,
     "input": [
      "def eval_clf(clf, X, Y, verbose=True, title=False):\n",
      "    Y_predict = clf.predict(X)\n",
      "    \n",
      "    f1 = metrics.f1_score(Y, Y_predict)\n",
      "    accuracy = metrics.accuracy_score(Y, Y_predict)\n",
      "    precision = metrics.precision_score(Y, Y_predict)\n",
      "    recall = metrics.recall_score(Y, Y_predict)\n",
      "    confusion = metrics.confusion_matrix(Y, Y_predict)\n",
      "    \n",
      "    if verbose:\n",
      "        if title:\n",
      "            print title\n",
      "            print\n",
      "        print 'F1:', f1\n",
      "        print 'accuracy:', accuracy\n",
      "        print 'precision:', precision\n",
      "        print 'recall:', recall\n",
      "        print 'confusion matrix'\n",
      "        print  confusion\n",
      "        print\n",
      "        print metrics.classification_report(Y, Y_predict)\n",
      "    \n",
      "    return {'f1': f1, 'accuracy':accuracy,\n",
      "            'precision': precision, 'recall': recall,\n",
      "            'confusion': confusion}"
     ],
     "language": "python",
     "metadata": {},
     "outputs": [],
     "prompt_number": 3
    },
    {
     "cell_type": "heading",
     "level": 1,
     "metadata": {},
     "source": [
      "Configuration"
     ]
    },
    {
     "cell_type": "code",
     "collapsed": false,
     "input": [
      "# PROJECT = 'nova'\n",
      "# PROJECT = 'swift'\n",
      "# PROJECT = 'cinder'\n",
      "PROJECT = 'heat'\n",
      "# PROJECT = 'glance'\n",
      "\n",
      "# IMPORTANCE = 'high+'\n",
      "IMPORTANCE = 'med+'"
     ],
     "language": "python",
     "metadata": {},
     "outputs": [],
     "prompt_number": 4
    },
    {
     "cell_type": "heading",
     "level": 1,
     "metadata": {},
     "source": [
      "Preprocessing"
     ]
    },
    {
     "cell_type": "heading",
     "level": 2,
     "metadata": {},
     "source": [
      "Load Data"
     ]
    },
    {
     "cell_type": "code",
     "collapsed": false,
     "input": [
      "combined_commits = commit_postprocessing(PROJECT, importance=IMPORTANCE)"
     ],
     "language": "python",
     "metadata": {},
     "outputs": [
      {
       "output_type": "stream",
       "stream": "stdout",
       "text": [
        "loading bug data\n",
        "  total LP bugs:"
       ]
      },
      {
       "output_type": "stream",
       "stream": "stdout",
       "text": [
        " 1388\n",
        "  Entries annotated: 536\n",
        "loading Git commit data\n",
        "  total git_commits:"
       ]
      },
      {
       "output_type": "stream",
       "stream": "stdout",
       "text": [
        " 7566\n",
        "  bug fix commits: 1353\n",
        "  commits with change_id: 4084\n",
        "  bug fix with change_id: 1353\n",
        "loading change data\n",
        "  total gerrit changes with detail:"
       ]
      },
      {
       "output_type": "stream",
       "stream": "stdout",
       "text": [
        " 4126\n",
        "  all_change_details: 4126\n",
        "  total gerrit changes:"
       ]
      },
      {
       "output_type": "stream",
       "stream": "stdout",
       "text": [
        " 4132\n",
        "  all_changes: 4132\n",
        "combined_commits:"
       ]
      },
      {
       "output_type": "stream",
       "stream": "stdout",
       "text": [
        " 7566\n",
        "Determining legacy cut-off\n",
        "  Warning: Transition Overlap: 174 days, 7:48:19\n",
        "  Setting cutoff to: 12/11/2012\n",
        "Collecting data on commits with bug fixes\n",
        "  Mainline Commits ignored due to legacy:"
       ]
      },
      {
       "output_type": "stream",
       "stream": "stdout",
       "text": [
        " 995  out of: 4507\n",
        "  Total commite requiring blame computation: 1113\n",
        "\n",
        "Computing Blame\n",
        "Loaded blame"
       ]
      },
      {
       "output_type": "stream",
       "stream": "stdout",
       "text": [
        "\n",
        "  Initial Blame cache size: 939\n",
        "  bug fix commits: 1113\n",
        "."
       ]
      },
      {
       "output_type": "stream",
       "stream": "stdout",
       "text": [
        " . . . "
       ]
      },
      {
       "output_type": "stream",
       "stream": "stdout",
       "text": [
        ". . . "
       ]
      },
      {
       "output_type": "stream",
       "stream": "stdout",
       "text": [
        ". . . 100 . . "
       ]
      },
      {
       "output_type": "stream",
       "stream": "stdout",
       "text": [
        ". . . "
       ]
      },
      {
       "output_type": "stream",
       "stream": "stdout",
       "text": [
        ". . . . "
       ]
      },
      {
       "output_type": "stream",
       "stream": "stdout",
       "text": [
        ". 200 . . . . "
       ]
      },
      {
       "output_type": "stream",
       "stream": "stdout",
       "text": [
        ". . . "
       ]
      },
      {
       "output_type": "stream",
       "stream": "stdout",
       "text": [
        ". . . 300 . . . . . . . . . . 400 . "
       ]
      },
      {
       "output_type": "stream",
       "stream": "stdout",
       "text": [
        ". . . . . "
       ]
      },
      {
       "output_type": "stream",
       "stream": "stdout",
       "text": [
        ". . . . 500 . . "
       ]
      },
      {
       "output_type": "stream",
       "stream": "stdout",
       "text": [
        ". . . . . "
       ]
      },
      {
       "output_type": "stream",
       "stream": "stdout",
       "text": [
        ". . . 600 . . . "
       ]
      },
      {
       "output_type": "stream",
       "stream": "stdout",
       "text": [
        ". . . . "
       ]
      },
      {
       "output_type": "stream",
       "stream": "stdout",
       "text": [
        ". . . 700 "
       ]
      },
      {
       "output_type": "stream",
       "stream": "stdout",
       "text": [
        ". . . . . "
       ]
      },
      {
       "output_type": "stream",
       "stream": "stdout",
       "text": [
        ". . . . . 800 . "
       ]
      },
      {
       "output_type": "stream",
       "stream": "stdout",
       "text": [
        ". . . . . "
       ]
      },
      {
       "output_type": "stream",
       "stream": "stdout",
       "text": [
        ". . . "
       ]
      },
      {
       "output_type": "stream",
       "stream": "stdout",
       "text": [
        ". 900 . . . . . . "
       ]
      },
      {
       "output_type": "stream",
       "stream": "stdout",
       "text": [
        ". . . . 1000 "
       ]
      },
      {
       "output_type": "stream",
       "stream": "stdout",
       "text": [
        ". . "
       ]
      },
      {
       "output_type": "stream",
       "stream": "stdout",
       "text": [
        ". . . . . . "
       ]
      },
      {
       "output_type": "stream",
       "stream": "stdout",
       "text": [
        ". . 1100 .\n",
        "  Saving updated Blame Cache\n",
        "\n"
       ]
      },
      {
       "output_type": "stream",
       "stream": "stdout",
       "text": [
        "Annotating Guilt\n",
        "entries with non-zero guilt: "
       ]
      },
      {
       "output_type": "stream",
       "stream": "stdout",
       "text": [
        " 1668\n",
        "smallest guilt: 0.000256278831369\n",
        "largest guilt: 36.2464850617\n",
        "Identify reachable commits\n",
        "  Loaded cached reachability data"
       ]
      },
      {
       "output_type": "stream",
       "stream": "stdout",
       "text": [
        "\n",
        "  Initial Reachable cache size: 142\n",
        "  Samples: 142\n",
        "  Revised samples:"
       ]
      },
      {
       "output_type": "stream",
       "stream": "stdout",
       "text": [
        " 0\n",
        "\n",
        "  Reachable commits: 2975\n",
        "Annotating lines of code changed\n",
        "  Loaded Lines of Code Changed cache"
       ]
      },
      {
       "output_type": "stream",
       "stream": "stdout",
       "text": [
        "\n",
        "  Initial Lines of Code Changed cache size: 2972\n",
        ". . . . . . . . . . 1000 . . . . . . . . . . 2000 . . . . . . . . .\n",
        "Order range for non-legacy comits"
       ]
      },
      {
       "output_type": "stream",
       "stream": "stdout",
       "text": [
        "\n",
        "  min: 387\n",
        "  max: 2972\n"
       ]
      }
     ],
     "prompt_number": 5
    },
    {
     "cell_type": "code",
     "collapsed": false,
     "input": [
      "legacy_cutoff = find_legacy_cutoff(combined_commits)\n",
      "min_order, max_order = get_commit_ordering_min_max(combined_commits)\n",
      "actual_bugs =  compute_selected_bug_fixes(combined_commits, legacy_cutoff=legacy_cutoff,\n",
      "                                          min_order=min_order, max_order=max_order)"
     ],
     "language": "python",
     "metadata": {},
     "outputs": [],
     "prompt_number": 6
    },
    {
     "cell_type": "raw",
     "metadata": {},
     "source": [
      "min_order = 351\n",
      "max_order = 1500\n",
      "actual_bugs = 518"
     ]
    },
    {
     "cell_type": "heading",
     "level": 2,
     "metadata": {},
     "source": [
      "Validate number of Bug Fix related commits"
     ]
    },
    {
     "cell_type": "raw",
     "metadata": {},
     "source": [
      "bug_fix_commits = [k for k,v in combined_commits.items()\n",
      "                   if filter_bug_fix_combined_commits(v, importance=IMPORTANCE)]\n",
      "\n",
      "#bug_fix_commits2 = [be['cid'] for be in all_blame\n",
      "#                    if filter_bug_fix_combined_commits(combined_commits[be['cid']], \n",
      "#                                                       importance=IMPORTANCE)]\n",
      "actual_bugs = len(bug_fix_commits)\n",
      "print 'Bug Fix Commits:', len(bug_fix_commits), '(method 1)'\n",
      "#, len(bug_fix_commits), '(method 2)', "
     ]
    },
    {
     "cell_type": "heading",
     "level": 2,
     "metadata": {},
     "source": [
      "Compute Guilt and Select Threshold Value"
     ]
    },
    {
     "cell_type": "raw",
     "metadata": {},
     "source": [
      "#compute_guilt(combined_commits, all_blame, importance=IMPORTANCE)"
     ]
    },
    {
     "cell_type": "code",
     "collapsed": false,
     "input": [
      "guilt_threshold, labeled_bugs = autoset_threshold(combined_commits, actual_bugs)\n",
      "print 'Setting guilt threshold to:', guilt_threshold\n",
      "print 'Labeled bugs:', labeled_bugs, ' vs Actual bugs:', actual_bugs"
     ],
     "language": "python",
     "metadata": {},
     "outputs": [
      {
       "output_type": "stream",
       "stream": "stdout",
       "text": [
        "Setting guilt threshold to: 0.262413145944\n",
        "Labeled bugs: 840  vs Actual bugs: 840\n"
       ]
      }
     ],
     "prompt_number": 7
    },
    {
     "cell_type": "heading",
     "level": 2,
     "metadata": {},
     "source": [
      "Plot Guilt Curves, showing selected threshold"
     ]
    },
    {
     "cell_type": "code",
     "collapsed": false,
     "input": [
      "plt.figure(figsize=(12,3))\n",
      "plt.subplot(1, 2, 1)\n",
      "plt.title('Guilt Distribution'); plt.ylabel('log(count)'); plt.xlabel('guilt')\n",
      "plt.hist([v['guilt'] for v in combined_commits.values()],  \n",
      "         log=True, bins=50)\n",
      "plt.axvline(guilt_threshold, color='r', linestyle='dashed', linewidth=2)\n",
      "\n",
      "plt.subplot(1, 2, 2)\n",
      "plt.title('Guilt Cumulative Distribution (reverse)'); plt.ylabel('count'); plt.xlabel('guilt (ignore sign)')\n",
      "plt.hist([- v['guilt'] for v in combined_commits.values()],\n",
      "         log=False, range=(-4, 0), bins=100, cumulative=True)\n",
      "\n",
      "plt.axvline(-guilt_threshold, color='r', linestyle='dashed', linewidth=2)\n",
      "plt.show()"
     ],
     "language": "python",
     "metadata": {},
     "outputs": [
      {
       "metadata": {},
       "output_type": "display_data",
       "png": "[encoded data removed]",
       "text": [
        "<matplotlib.figure.Figure at 0x127688210>"
       ]
      }
     ],
     "prompt_number": 8
    },
    {
     "cell_type": "code",
     "collapsed": false,
     "input": [
      "plt.figure(figsize=(12,3))\n",
      "plt.subplot(1, 2, 1)\n",
      "plt.title('Guilt Cumulative Dist - Zoom'); plt.ylabel('count'); plt.xlabel('guilt (ignore sign)')\n",
      "plt.hist([- v['guilt'] for v in combined_commits.values()],\n",
      "         log=False, range=(-2, -guilt_threshold/4), bins=100, cumulative=True)\n",
      "\n",
      "plt.axvline(-guilt_threshold, color='r', linestyle='dashed', linewidth=2)\n",
      "\n",
      "plt.subplot(1, 2, 2)\n",
      "plt.title('Guilt Cumulative Dist - Log/Lin')\n",
      "plt.ylabel('count')\n",
      "plt.xlabel('log(guilt)')\n",
      "plt.hist([math.log(v['guilt']) for v in combined_commits.values() if v['guilt'] > 0],\n",
      "         log=False, bins=100, range=(-6, -0), cumulative=True)\n",
      "\n",
      "plt.axvline(math.log(guilt_threshold), color='r', linestyle='dashed', linewidth=2)\n",
      "plt.show()"
     ],
     "language": "python",
     "metadata": {},
     "outputs": [
      {
       "metadata": {},
       "output_type": "display_data",
       "png": "[encoded data removed]",
       "text": [
        "<matplotlib.figure.Figure at 0x127c38550>"
       ]
      }
     ],
     "prompt_number": 9
    },
    {
     "cell_type": "heading",
     "level": 2,
     "metadata": {},
     "source": [
      "Feature Extraction and Creation of Training Sets"
     ]
    },
    {
     "cell_type": "markdown",
     "metadata": {},
     "source": [
      "Steps:\n",
      "- Generate full dataset for use in training scaler\n",
      " - Train scaler\n",
      "- Generate Train/Test Dataset\n",
      "- Generate prediction dataset"
     ]
    },
    {
     "cell_type": "code",
     "collapsed": false,
     "input": [
      "extract_state = fit_features(combined_commits, min_order=min_order, max_order=max_order)"
     ],
     "language": "python",
     "metadata": {},
     "outputs": [
      {
       "output_type": "stream",
       "stream": "stdout",
       "text": [
        "Total features: 2374\n"
       ]
      }
     ],
     "prompt_number": 10
    },
    {
     "cell_type": "code",
     "collapsed": false,
     "input": [
      "_, Y_train, X_train, col_names = extract_features(combined_commits,\n",
      "                                                  extract_state, \n",
      "                                                  min_order=500, max_order=1000,\n",
      "                                                  threshold=guilt_threshold)"
     ],
     "language": "python",
     "metadata": {},
     "outputs": [
      {
       "output_type": "stream",
       "stream": "stdout",
       "text": [
        "Total feature vectors: 501\n",
        "  bugs based on threshold: 183\n"
       ]
      }
     ],
     "prompt_number": 11
    },
    {
     "cell_type": "code",
     "collapsed": false,
     "input": [
      "cid_predict_vshort, Y_predict_vshort, \\\n",
      "X_predict_vshort, col_names = extract_features(combined_commits,\n",
      "                                               extract_state,\n",
      "                                               min_order=1001, max_order=1050,\n",
      "                                               threshold=guilt_threshold)"
     ],
     "language": "python",
     "metadata": {},
     "outputs": [
      {
       "output_type": "stream",
       "stream": "stdout",
       "text": [
        "Total feature vectors: 50\n",
        "  bugs based on threshold: 27\n"
       ]
      }
     ],
     "prompt_number": 12
    },
    {
     "cell_type": "code",
     "collapsed": false,
     "input": [
      "cid_predict_short, Y_predict_short, \\\n",
      "X_predict_short, col_names = extract_features(combined_commits,\n",
      "                                              extract_state,\n",
      "                                              min_order=1001, max_order=1100,\n",
      "                                              threshold=guilt_threshold)"
     ],
     "language": "python",
     "metadata": {},
     "outputs": [
      {
       "output_type": "stream",
       "stream": "stdout",
       "text": [
        "Total feature vectors: 100\n",
        "  bugs based on threshold: 47\n"
       ]
      }
     ],
     "prompt_number": 13
    },
    {
     "cell_type": "code",
     "collapsed": false,
     "input": [
      "cid_predict_med, Y_predict_med,\\\n",
      "X_predict_med, col_names = extract_features(combined_commits,\n",
      "                                            extract_state,\n",
      "                                            min_order=1001, max_order=1200,\n",
      "                                            threshold=guilt_threshold)"
     ],
     "language": "python",
     "metadata": {},
     "outputs": [
      {
       "output_type": "stream",
       "stream": "stdout",
       "text": [
        "Total feature vectors: 200\n",
        "  bugs based on threshold: 94\n"
       ]
      }
     ],
     "prompt_number": 14
    },
    {
     "cell_type": "code",
     "collapsed": false,
     "input": [
      "cid_predict_long, Y_predict_long, \\\n",
      "X_predict_long, col_names = extract_features(combined_commits,\n",
      "                                             extract_state,\n",
      "                                             min_order=1001, max_order=1500,\n",
      "                                             threshold=guilt_threshold)"
     ],
     "language": "python",
     "metadata": {},
     "outputs": [
      {
       "output_type": "stream",
       "stream": "stdout",
       "text": [
        "Total feature vectors: 500\n",
        "  bugs based on threshold: 190\n"
       ]
      }
     ],
     "prompt_number": 15
    },
    {
     "cell_type": "code",
     "collapsed": false,
     "input": [
      "if True:\n",
      "    cid_predict_vlong, Y_predict_vlong, \\\n",
      "    X_predict_vlong, col_names = extract_features(combined_commits,\n",
      "                                              extract_state,\n",
      "                                              min_order=1001,\n",
      "                                              max_order=max_order,\n",
      "                                              threshold=guilt_threshold)"
     ],
     "language": "python",
     "metadata": {},
     "outputs": [
      {
       "output_type": "stream",
       "stream": "stdout",
       "text": [
        "Total feature vectors: 1972\n",
        "  bugs based on threshold: 465\n"
       ]
      }
     ],
     "prompt_number": 16
    },
    {
     "cell_type": "markdown",
     "metadata": {},
     "source": [
      "####Proposed enhancements to training\n",
      "\n",
      "Some speculative thoughts:\n",
      "- Feature Extraction Test/Train\n",
      " - Separately extract features for test/train period, skip latest 20% of commits\n",
      " - Change balance of positive/negative commits to imprpve trainging.  Traioning currently skewed towards negative test vased today\n",
      "- Create validation test suite with latest tests.  Want to measure prediction accuracy for future bugs."
     ]
    },
    {
     "cell_type": "raw",
     "metadata": {},
     "source": [
      "from sklearn.decomposition import PCA\n",
      "\n",
      "# Note:  Weakness in methodology, really should fix using training set only\n",
      "\n",
      "pca = PCA(n_components='mle')\n",
      "X = pca.fit_transform(X)"
     ]
    },
    {
     "cell_type": "heading",
     "level": 1,
     "metadata": {},
     "source": [
      "Classification"
     ]
    },
    {
     "cell_type": "markdown",
     "metadata": {},
     "source": [
      "Other classifiers to explore\n",
      "- from sklearn.linear_model import LogisticRegression\n",
      " - clf = LogisticRegression()\n",
      "- sklearn.linear_model.SGDClassifier\n",
      "- sklearn.svm.LinearSVC\n",
      "- sklearn.tree.DecisionTreeClassifier"
     ]
    },
    {
     "cell_type": "heading",
     "level": 2,
     "metadata": {},
     "source": [
      "Training Parameters"
     ]
    },
    {
     "cell_type": "code",
     "collapsed": false,
     "input": [
      "# SIZE = 100\n",
      "#SIZE = 250\n",
      "# SIZE = 0.1\n",
      "SIZE = 0.5\n",
      "\n",
      "SCORING = 'f1'         # (precision * recall) / (precision + recall)\n",
      "# SCORING = 'accuracy'   # (TP + TN) / all values\n",
      "# SCORING = 'precision'  # TP / (TP + FP)\n",
      "# SCORING = 'recall'     # TP / (TP + FN)\n",
      "# SCORING = 'average_precision'\n",
      "# SCORING = 'roc_auc'\n",
      "\n",
      "JOBS = 4\n",
      "\n",
      "VERBOSE = 1\n",
      "\n",
      "# cv = StratifiedKFold(y=Y, n_folds=3)\n",
      "cv = StratifiedShuffleSplit(Y_train, train_size=SIZE, test_size=SIZE, random_state=0)"
     ],
     "language": "python",
     "metadata": {},
     "outputs": [],
     "prompt_number": 17
    },
    {
     "cell_type": "heading",
     "level": 2,
     "metadata": {},
     "source": [
      "Train SVM Classifier - Coarse"
     ]
    },
    {
     "cell_type": "code",
     "collapsed": false,
     "input": [
      "C_range = 10.0 ** np.arange(-2, 9)\n",
      "gamma_range = 10.0 ** np.arange(-5, 4)\n",
      "param_grid = dict(gamma=gamma_range, C=C_range, class_weight=['auto'], \n",
      "                  # probability=[True]\n",
      "                  )\n",
      "\n",
      "grid = GridSearchCV(SVC(), param_grid=param_grid, cv=cv, scoring=SCORING,\n",
      "                    n_jobs=JOBS, pre_dispatch=2*JOBS, verbose=VERBOSE)"
     ],
     "language": "python",
     "metadata": {},
     "outputs": [],
     "prompt_number": 18
    },
    {
     "cell_type": "code",
     "collapsed": false,
     "input": [
      "grid.fit(X_train, Y_train)"
     ],
     "language": "python",
     "metadata": {},
     "outputs": [
      {
       "output_type": "stream",
       "stream": "stdout",
       "text": [
        "Fitting 10 folds for each of 99 candidates, totalling 990 fits\n"
       ]
      },
      {
       "output_type": "stream",
       "stream": "stderr",
       "text": [
        "[Parallel(n_jobs=4)]: Done   1 jobs       | elapsed:    0.5s\n",
        "[Parallel(n_jobs=4)]: Done  50 jobs       | elapsed:    6.9s\n",
        "[Parallel(n_jobs=4)]: Done 200 jobs       | elapsed:   25.7s\n",
        "[Parallel(n_jobs=4)]: Done 450 jobs       | elapsed:   54.9s\n",
        "[Parallel(n_jobs=4)]: Done 800 jobs       | elapsed:  1.5min\n",
        "[Parallel(n_jobs=4)]: Done 984 out of 990 | elapsed:  1.8min remaining:    0.7s\n",
        "[Parallel(n_jobs=4)]: Done 990 out of 990 | elapsed:  1.9min finished\n"
       ]
      },
      {
       "metadata": {},
       "output_type": "pyout",
       "prompt_number": 19,
       "text": [
        "GridSearchCV(cv=StratifiedShuffleSplit(labels=[False False ..., False  True], n_iter=10, test_size=0.5, random_state=0),\n",
        "       estimator=SVC(C=1.0, cache_size=200, class_weight=None, coef0=0.0, degree=3, gamma=0.0,\n",
        "  kernel='rbf', max_iter=-1, probability=False, random_state=None,\n",
        "  shrinking=True, tol=0.001, verbose=False),\n",
        "       fit_params={}, iid=True, loss_func=None, n_jobs=4,\n",
        "       param_grid={'C': array([  1.00000e-02,   1.00000e-01,   1.00000e+00,   1.00000e+01,\n",
        "         1.00000e+02,   1.00000e+03,   1.00000e+04,   1.00000e+05,\n",
        "         1.00000e+06,   1.00000e+07,   1.00000e+08]), 'gamma': array([  1.00000e-05,   1.00000e-04,   1.00000e-03,   1.00000e-02,\n",
        "         1.00000e-01,   1.00000e+00,   1.00000e+01,   1.00000e+02,\n",
        "         1.00000e+03]), 'class_weight': ['auto']},\n",
        "       pre_dispatch=8, refit=True, score_func=None, scoring='f1',\n",
        "       verbose=1)"
       ]
      }
     ],
     "prompt_number": 19
    },
    {
     "cell_type": "code",
     "collapsed": false,
     "input": [
      "print \"The best classifier is: \", grid.best_estimator_"
     ],
     "language": "python",
     "metadata": {},
     "outputs": [
      {
       "output_type": "stream",
       "stream": "stdout",
       "text": [
        "The best classifier is:  SVC(C=0.01, cache_size=200, class_weight='auto', coef0=0.0, degree=3,\n",
        "  gamma=1.0000000000000001e-05, kernel='rbf', max_iter=-1,\n",
        "  probability=False, random_state=None, shrinking=True, tol=0.001,\n",
        "  verbose=False)\n"
       ]
      }
     ],
     "prompt_number": 20
    },
    {
     "cell_type": "code",
     "collapsed": false,
     "input": [
      "print 'best_params: ',\n",
      "print grid.best_params_"
     ],
     "language": "python",
     "metadata": {},
     "outputs": [
      {
       "output_type": "stream",
       "stream": "stdout",
       "text": [
        "best_params:  {'C': 0.01, 'gamma': 1.0000000000000001e-05, 'class_weight': 'auto'}\n"
       ]
      }
     ],
     "prompt_number": 21
    },
    {
     "cell_type": "heading",
     "level": 2,
     "metadata": {},
     "source": [
      "Train SVM Classifier - Fine"
     ]
    },
    {
     "cell_type": "code",
     "collapsed": false,
     "input": [
      "C = grid.best_params_['C']\n",
      "gamma = grid.best_params_['gamma']\n",
      "\n",
      "C_range = C * 1.7 ** np.arange(-4, 5)\n",
      "gamma_range = gamma * 1.7 ** np.arange(-4, 5)\n",
      "\n",
      "print C, C_range\n",
      "print gamma, gamma_range"
     ],
     "language": "python",
     "metadata": {},
     "outputs": []
    },
    {
     "cell_type": "code",
     "collapsed": false,
     "input": [
      "param_grid = dict(gamma=gamma_range, C=C_range, class_weight=['auto'],\n",
      "                  # probability=[True]\n",
      "                  )\n",
      "\n",
      "grid = GridSearchCV(SVC(), param_grid=param_grid, cv=cv, scoring=SCORING,\n",
      "                    n_jobs=JOBS, pre_dispatch=2*JOBS, verbose=VERBOSE)"
     ],
     "language": "python",
     "metadata": {},
     "outputs": []
    },
    {
     "cell_type": "code",
     "collapsed": false,
     "input": [
      "grid.fit(X_train, Y_train)"
     ],
     "language": "python",
     "metadata": {},
     "outputs": []
    },
    {
     "cell_type": "code",
     "collapsed": false,
     "input": [
      "print \"The best classifier is: \", grid.best_estimator_"
     ],
     "language": "python",
     "metadata": {},
     "outputs": []
    },
    {
     "cell_type": "code",
     "collapsed": false,
     "input": [
      "print 'best_params: ',\n",
      "print grid.best_params_"
     ],
     "language": "python",
     "metadata": {},
     "outputs": []
    },
    {
     "cell_type": "code",
     "collapsed": false,
     "input": [
      "clf = grid.best_estimator_"
     ],
     "language": "python",
     "metadata": {},
     "outputs": []
    },
    {
     "cell_type": "code",
     "collapsed": false,
     "input": [
      "clf_prob = SVC(C=grid.best_params_['C'], gamma=grid.best_params_['gamma'],\n",
      "               class_weight='auto', probability=True)\n",
      "clf_prob.fit(X_train, Y_train)"
     ],
     "language": "python",
     "metadata": {},
     "outputs": []
    },
    {
     "cell_type": "heading",
     "level": 2,
     "metadata": {},
     "source": [
      "Evaluate Training Results"
     ]
    },
    {
     "cell_type": "code",
     "collapsed": false,
     "input": [
      "print 'best_score: ', grid.best_score_\n",
      "print"
     ],
     "language": "python",
     "metadata": {},
     "outputs": [
      {
       "output_type": "stream",
       "stream": "stdout",
       "text": [
        "best_score:  0.536443148688\n",
        "\n"
       ]
      }
     ],
     "prompt_number": 31
    },
    {
     "cell_type": "code",
     "collapsed": false,
     "input": [
      "eval_clf(clf, X_train, Y_train)"
     ],
     "language": "python",
     "metadata": {},
     "outputs": [
      {
       "output_type": "stream",
       "stream": "stdout",
       "text": [
        "F1: 0.535087719298\n",
        "accuracy: 0.365269461078\n",
        "precision: 0.365269461078\n",
        "recall: 1.0\n",
        "confusion matrix\n",
        "[[  0 318]\n",
        " [  0 183]]\n",
        "\n",
        "             precision    recall  f1-score   support\n",
        "\n",
        "      False       0.00      0.00      0.00       318\n",
        "       True       0.37      1.00      0.54       183\n",
        "\n",
        "avg / total       0.13      0.37      0.20       501\n",
        "\n"
       ]
      },
      {
       "output_type": "stream",
       "stream": "stderr",
       "text": [
        "/Users/doug/anaconda/lib/python2.7/site-packages/sklearn/metrics/metrics.py:1771: UndefinedMetricWarning: Precision and F-score are ill-defined and being set to 0.0 in labels with no predicted samples.\n",
        "  'precision', 'predicted', average, warn_for)\n"
       ]
      },
      {
       "metadata": {},
       "output_type": "pyout",
       "prompt_number": 32,
       "text": [
        "{'accuracy': 0.3652694610778443, 'confusion': array([[  0, 318],\n",
        "        [  0, 183]]), 'f1': 0.53508771929824561, 'precision': 0.3652694610778443, 'recall': 1.0}"
       ]
      }
     ],
     "prompt_number": 32
    },
    {
     "cell_type": "heading",
     "level": 2,
     "metadata": {},
     "source": [
      "Now determine predictive value"
     ]
    },
    {
     "cell_type": "code",
     "collapsed": false,
     "input": [
      "print 'incidence of bugs:',  float(actual_bugs)/ float(len(combined_commits))"
     ],
     "language": "python",
     "metadata": {},
     "outputs": [
      {
       "output_type": "stream",
       "stream": "stdout",
       "text": [
        "incidence of bugs: 0.111022997621\n"
       ]
      }
     ],
     "prompt_number": 33
    },
    {
     "cell_type": "code",
     "collapsed": false,
     "input": [
      "eval_clf(clf, X_predict_vshort, Y_predict_vshort)"
     ],
     "language": "python",
     "metadata": {},
     "outputs": [
      {
       "output_type": "stream",
       "stream": "stdout",
       "text": [
        "F1: 0.701298701299\n",
        "accuracy: 0.54\n",
        "precision: 0.54\n",
        "recall: 1.0\n",
        "confusion matrix\n",
        "[[ 0 23]\n",
        " [ 0 27]]\n",
        "\n",
        "             precision    recall  f1-score   support\n",
        "\n",
        "      False       0.00      0.00      0.00        23\n",
        "       True       0.54      1.00      0.70        27\n",
        "\n",
        "avg / total       0.29      0.54      0.38        50\n",
        "\n"
       ]
      },
      {
       "metadata": {},
       "output_type": "pyout",
       "prompt_number": 34,
       "text": [
        "{'accuracy': 0.54000000000000004, 'confusion': array([[ 0, 23],\n",
        "        [ 0, 27]]), 'f1': 0.70129870129870131, 'precision': 0.54000000000000004, 'recall': 1.0}"
       ]
      }
     ],
     "prompt_number": 34
    },
    {
     "cell_type": "code",
     "collapsed": false,
     "input": [
      "eval_clf(clf, X_predict_short, Y_predict_short)"
     ],
     "language": "python",
     "metadata": {},
     "outputs": [
      {
       "output_type": "stream",
       "stream": "stdout",
       "text": [
        "F1: 0.639455782313\n",
        "accuracy: 0.47\n",
        "precision: 0.47\n",
        "recall: 1.0\n",
        "confusion matrix\n",
        "[[ 0 53]\n",
        " [ 0 47]]\n",
        "\n",
        "             precision    recall  f1-score   support\n",
        "\n",
        "      False       0.00      0.00      0.00        53\n",
        "       True       0.47      1.00      0.64        47\n",
        "\n",
        "avg / total       0.22      0.47      0.30       100\n",
        "\n"
       ]
      },
      {
       "metadata": {},
       "output_type": "pyout",
       "prompt_number": 35,
       "text": [
        "{'accuracy': 0.46999999999999997, 'confusion': array([[ 0, 53],\n",
        "        [ 0, 47]]), 'f1': 0.6394557823129251, 'precision': 0.46999999999999997, 'recall': 1.0}"
       ]
      }
     ],
     "prompt_number": 35
    },
    {
     "cell_type": "code",
     "collapsed": false,
     "input": [
      "eval_clf(clf, X_predict_med, Y_predict_med)"
     ],
     "language": "python",
     "metadata": {},
     "outputs": [
      {
       "output_type": "stream",
       "stream": "stdout",
       "text": [
        "F1: 0.639455782313\n",
        "accuracy: 0.47\n",
        "precision: 0.47\n",
        "recall: 1.0\n",
        "confusion matrix\n",
        "[[  0 106]\n",
        " [  0  94]]\n",
        "\n",
        "             precision    recall  f1-score   support\n",
        "\n",
        "      False       0.00      0.00      0.00       106\n",
        "       True       0.47      1.00      0.64        94\n",
        "\n",
        "avg / total       0.22      0.47      0.30       200\n",
        "\n"
       ]
      },
      {
       "metadata": {},
       "output_type": "pyout",
       "prompt_number": 36,
       "text": [
        "{'accuracy': 0.46999999999999997, 'confusion': array([[  0, 106],\n",
        "        [  0,  94]]), 'f1': 0.6394557823129251, 'precision': 0.46999999999999997, 'recall': 1.0}"
       ]
      }
     ],
     "prompt_number": 36
    },
    {
     "cell_type": "code",
     "collapsed": false,
     "input": [
      "eval_clf(clf, X_predict_long, Y_predict_long)"
     ],
     "language": "python",
     "metadata": {},
     "outputs": [
      {
       "output_type": "stream",
       "stream": "stdout",
       "text": [
        "F1: 0.550724637681\n",
        "accuracy: 0.38\n",
        "precision: 0.38\n",
        "recall: 1.0\n",
        "confusion matrix\n",
        "[[  0 310]\n",
        " [  0 190]]\n",
        "\n",
        "             precision    recall  f1-score   support\n",
        "\n",
        "      False       0.00      0.00      0.00       310\n",
        "       True       0.38      1.00      0.55       190\n",
        "\n",
        "avg / total       0.14      0.38      0.21       500\n",
        "\n"
       ]
      },
      {
       "metadata": {},
       "output_type": "pyout",
       "prompt_number": 37,
       "text": [
        "{'accuracy': 0.38, 'confusion': array([[  0, 310],\n",
        "        [  0, 190]]), 'f1': 0.55072463768115942, 'precision': 0.38, 'recall': 1.0}"
       ]
      }
     ],
     "prompt_number": 37
    },
    {
     "cell_type": "code",
     "collapsed": false,
     "input": [
      "if True:\n",
      "    eval_clf(clf, X_predict_vlong, Y_predict_vlong)"
     ],
     "language": "python",
     "metadata": {},
     "outputs": [
      {
       "output_type": "stream",
       "stream": "stdout",
       "text": [
        "F1: 0.381616741896\n",
        "accuracy: 0.235801217039\n",
        "precision: 0.235801217039\n",
        "recall: 1.0\n",
        "confusion matrix\n",
        "[[   0 1507]\n",
        " [   0  465]]\n",
        "\n",
        "             precision    recall  f1-score   support\n",
        "\n",
        "      False       0.00      0.00      0.00      1507\n",
        "       True       0.24      1.00      0.38       465\n",
        "\n",
        "avg / total       0.06      0.24      0.09      1972\n",
        "\n"
       ]
      }
     ],
     "prompt_number": 38
    },
    {
     "cell_type": "heading",
     "level": 1,
     "metadata": {},
     "source": [
      "Can we use below code to compute a bias value to maximize F1 ?"
     ]
    },
    {
     "cell_type": "code",
     "collapsed": false,
     "input": [
      "def bar(clf, X, Y, threshold=0.5):\n",
      "    print 'Input Labels'\n",
      "    print metrics.confusion_matrix(Y, Y)\n",
      "    print\n",
      "    print 'Baseline F1:', \n",
      "    predict = clf.predict(X)       \n",
      "    f1 = metrics.f1_score(Y, predict)\n",
      "    print f1\n",
      "    print metrics.confusion_matrix(Y, predict)\n",
      "    print\n",
      "    probs = clf.decision_function(X)\n",
      "    #f1 = metrics.f1_score(Y, y_predict)\n",
      "    \n",
      "    best_f1 = -1.0\n",
      "    best_threshold = -1\n",
      "    for i in range(-200, 201, 1):\n",
      "        threshold = float(i)/1000.0\n",
      "        predict = probs >= threshold        \n",
      "        f1 = metrics.f1_score(Y, predict)\n",
      "        \n",
      "        if f1 > best_f1:\n",
      "            best_f1 = f1\n",
      "            best_threshold = threshold\n",
      "        \n",
      "    threshold = best_threshold\n",
      "    predict = probs >= threshold        \n",
      "    f1 = metrics.f1_score(Y, predict)\n",
      "        \n",
      "    print threshold, ':', \n",
      "    print f1\n",
      "    print metrics.confusion_matrix(Y, predict)"
     ],
     "language": "python",
     "metadata": {},
     "outputs": [],
     "prompt_number": 39
    },
    {
     "cell_type": "code",
     "collapsed": false,
     "input": [
      "bar(clf, X_predict_vshort, Y_predict_vshort)"
     ],
     "language": "python",
     "metadata": {},
     "outputs": [
      {
       "output_type": "stream",
       "stream": "stdout",
       "text": [
        "Input Labels\n",
        "[[23  0]\n",
        " [ 0 27]]\n",
        "\n",
        "Baseline F1: "
       ]
      },
      {
       "output_type": "stream",
       "stream": "stdout",
       "text": [
        "0.701298701299\n",
        "[[ 0 23]\n",
        " [ 0 27]]\n",
        "\n",
        "-0.2"
       ]
      },
      {
       "output_type": "stream",
       "stream": "stdout",
       "text": [
        " : 0.701298701299\n",
        "[[ 0 23]\n",
        " [ 0 27]]\n"
       ]
      }
     ],
     "prompt_number": 40
    },
    {
     "cell_type": "code",
     "collapsed": false,
     "input": [
      "def foo(clf, X, Y, threshold=0.5):\n",
      "    print clf.classes_\n",
      "    print\n",
      "    predict = clf.predict(X)\n",
      "    probs = clf.predict_proba(X)\n",
      "    \n",
      "    for i in range(Y.size):\n",
      "        if Y[i] != predict[i]:\n",
      "            print Y[i], predict[i], probs[i][0] - probs[i][1], '     ', probs[i]\n",
      "        \n",
      "    print '------------------------------'\n",
      "    \n",
      "    for i in range(Y.size):\n",
      "        if Y[i] == predict[i]:\n",
      "            print Y[i], predict[i], probs[i][0] - probs[i][1], '     ', probs[i]\n",
      "        \n",
      "    print '------------------------------'\n",
      "    \n",
      "    for i in range(Y.size):\n",
      "        print probs[i][0] + probs[i][1]"
     ],
     "language": "python",
     "metadata": {},
     "outputs": [],
     "prompt_number": 41
    },
    {
     "cell_type": "raw",
     "metadata": {},
     "source": [
      "foo(clf_prob, X_predict_vshort, Y_predict_vshort)"
     ]
    },
    {
     "cell_type": "raw",
     "metadata": {},
     "source": [
      "clf_prob.predict_log_proba(X_predict_vshort)"
     ]
    },
    {
     "cell_type": "heading",
     "level": 1,
     "metadata": {},
     "source": [
      "Boneyard"
     ]
    },
    {
     "cell_type": "code",
     "collapsed": false,
     "input": [
      "from sklearn.svm import LinearSVC"
     ],
     "language": "python",
     "metadata": {},
     "outputs": [],
     "prompt_number": 42
    },
    {
     "cell_type": "code",
     "collapsed": false,
     "input": [
      "LinearSVC?"
     ],
     "language": "python",
     "metadata": {},
     "outputs": [],
     "prompt_number": 43
    },
    {
     "cell_type": "code",
     "collapsed": false,
     "input": [
      "from sklearn.svm import SVC"
     ],
     "language": "python",
     "metadata": {},
     "outputs": [],
     "prompt_number": 44
    },
    {
     "cell_type": "raw",
     "metadata": {},
     "source": [
      "SVC?"
     ]
    }
   ],
   "metadata": {}
  }
 ]
}