{
 "metadata": {
  "name": "",
  "signature": "sha256:a12094d60a098c93579941f627bd88010ec90f1e53bf2f377c5d1c81dcecad89"
 },
 "nbformat": 3,
 "nbformat_minor": 0,
 "worksheets": [
  {
   "cells": [
    {
     "cell_type": "markdown",
     "metadata": {},
     "source": [
      "#Debug Corpus - Others\n",
      "\n",
      "Determine join effectiveness"
     ]
    },
    {
     "cell_type": "code",
     "collapsed": false,
     "input": [
      "import pprint as pp\n",
      "import sys\n",
      "sys.path.append('./dev')\n",
      "\n",
      "from commit_analysis import load_all_analysis_data\n",
      "from Git_Extract_Join import filter_bug_fix_commits, filter_bug_fix_combined_commits"
     ],
     "language": "python",
     "metadata": {},
     "outputs": [],
     "prompt_number": 1
    },
    {
     "cell_type": "code",
     "collapsed": false,
     "input": [
      "from time import (time, altzone)\n",
      "from time import gmtime\n",
      "import datetime\n",
      "import calendar\n",
      "import time"
     ],
     "language": "python",
     "metadata": {},
     "outputs": [],
     "prompt_number": 2
    },
    {
     "cell_type": "heading",
     "level": 3,
     "metadata": {},
     "source": [
      "Parameters"
     ]
    },
    {
     "cell_type": "code",
     "collapsed": false,
     "input": [
      "# PROJECT = 'nova'\n",
      "# PROJECT = 'swift'\n",
      "# PROJECT = 'cinder'\n",
      "# PROJECT = 'heat'\n",
      "PROJECT = 'glance'"
     ],
     "language": "python",
     "metadata": {},
     "outputs": [],
     "prompt_number": 3
    },
    {
     "cell_type": "heading",
     "level": 3,
     "metadata": {},
     "source": [
      "Get Launchpad, Gerrit and Git Data"
     ]
    },
    {
     "cell_type": "code",
     "collapsed": false,
     "input": [
      "downloaded_bugs, all_changes, \\\n",
      "all_change_details, \\\n",
      "commits, combined_commits, all_blame = load_all_analysis_data(PROJECT)"
     ],
     "language": "python",
     "metadata": {},
     "outputs": [
      {
       "output_type": "stream",
       "stream": "stdout",
       "text": [
        "loading bug data\n",
        "total LP bugs:"
       ]
      },
      {
       "output_type": "stream",
       "stream": "stdout",
       "text": [
        " 6579\n",
        "Entries annotated: 4500\n",
        "\n",
        "loading Git commit data\n",
        "total git_commits:"
       ]
      },
      {
       "output_type": "stream",
       "stream": "stdout",
       "text": [
        " 32711\n",
        "bug fix commits: 9297\n",
        "commits with change_id: 21546\n",
        "bug fix with change_id: 9105\n",
        "loading change data\n",
        "total gerrit changes with detail:"
       ]
      },
      {
       "output_type": "stream",
       "stream": "stdout",
       "text": [
        " 12491\n",
        "all_change_details: 12491\n",
        "total gerrit changes:"
       ]
      },
      {
       "output_type": "stream",
       "stream": "stdout",
       "text": [
        " 12491\n",
        "all_changes: 12491\n",
        "combined_commits:"
       ]
      },
      {
       "output_type": "stream",
       "stream": "stdout",
       "text": [
        " 32711\n",
        "all blame:"
       ]
      },
      {
       "output_type": "stream",
       "stream": "stdout",
       "text": [
        " 9403\n"
       ]
      }
     ],
     "prompt_number": 4
    },
    {
     "cell_type": "code",
     "collapsed": false,
     "input": [
      "hot_commits = sum([1 for val in combined_commits.values()\n",
      "                   if 'lp:heat' in val and int(val['lp:heat']) >= 250])\n",
      "\n",
      "print hot_commits"
     ],
     "language": "python",
     "metadata": {},
     "outputs": [
      {
       "output_type": "stream",
       "stream": "stdout",
       "text": [
        "90\n"
       ]
      }
     ],
     "prompt_number": 5
    },
    {
     "cell_type": "markdown",
     "metadata": {},
     "source": [
      "##Understand why some commits / bug joins incomplete\n",
      "\n",
      "Use Critical commits as test sample"
     ]
    },
    {
     "cell_type": "heading",
     "level": 6,
     "metadata": {},
     "source": [
      "Get counts of Critical commits.  Note:  Large drop after join phase"
     ]
    },
    {
     "cell_type": "code",
     "collapsed": false,
     "input": [
      "print sum([1 for val in downloaded_bugs.values()\n",
      "          if  filter_bug_fix_commits(val, importance='crit')])\n",
      "\n",
      "print sum([1 for val in combined_commits.values()\n",
      "          if  filter_bug_fix_combined_commits(val, importance='crit')])"
     ],
     "language": "python",
     "metadata": {},
     "outputs": [
      {
       "output_type": "stream",
       "stream": "stdout",
       "text": [
        "220\n",
        "388"
       ]
      },
      {
       "output_type": "stream",
       "stream": "stdout",
       "text": [
        "\n"
       ]
      }
     ],
     "prompt_number": 6
    },
    {
     "cell_type": "code",
     "collapsed": false,
     "input": [
      "print sum([1 for val in downloaded_bugs.values()\n",
      "          if  filter_bug_fix_commits(val, importance='high+')])\n",
      "\n",
      "print sum([1 for val in combined_commits.values()\n",
      "          if  filter_bug_fix_combined_commits(val, importance='high+')])"
     ],
     "language": "python",
     "metadata": {},
     "outputs": [
      {
       "output_type": "stream",
       "stream": "stdout",
       "text": [
        "1415\n",
        "2403"
       ]
      },
      {
       "output_type": "stream",
       "stream": "stdout",
       "text": [
        "\n"
       ]
      }
     ],
     "prompt_number": 7
    },
    {
     "cell_type": "code",
     "collapsed": false,
     "input": [
      "print sum([1 for val in downloaded_bugs.values()\n",
      "          if  filter_bug_fix_commits(val, importance='med+')])\n",
      "\n",
      "print sum([1 for val in combined_commits.values()\n",
      "          if  filter_bug_fix_combined_commits(val, importance='med+')])"
     ],
     "language": "python",
     "metadata": {},
     "outputs": [
      {
       "output_type": "stream",
       "stream": "stdout",
       "text": [
        "2967\n",
        "4846"
       ]
      },
      {
       "output_type": "stream",
       "stream": "stdout",
       "text": [
        "\n"
       ]
      }
     ],
     "prompt_number": 8
    },
    {
     "cell_type": "code",
     "collapsed": false,
     "input": [
      "temp = sorted([int(val['id']) for val in downloaded_bugs.values()\n",
      "               if  filter_bug_fix_commits(val)])\n",
      "print temp[:3]\n",
      "print '------'\n",
      "print temp[-4:-1]"
     ],
     "language": "python",
     "metadata": {},
     "outputs": [
      {
       "output_type": "stream",
       "stream": "stdout",
       "text": [
        "[606340, 607501, 607512]\n",
        "------\n",
        "[1416321, 1417348, 1417678]\n"
       ]
      }
     ],
     "prompt_number": 9
    },
    {
     "cell_type": "code",
     "collapsed": false,
     "input": [
      "temp = sorted([int(val['lp:id']) for val in combined_commits.values()\n",
      "               if filter_bug_fix_combined_commits(val)])\n",
      "\n",
      "print temp[:3]\n",
      "print '------'\n",
      "print temp[-4:-1]"
     ],
     "language": "python",
     "metadata": {},
     "outputs": [
      {
       "output_type": "stream",
       "stream": "stdout",
       "text": [
        "[607501, 607501, 607541]\n",
        "------\n",
        "[1416321, 1416321, 1417348]\n"
       ]
      }
     ],
     "prompt_number": 10
    },
    {
     "cell_type": "code",
     "collapsed": false,
     "input": [],
     "language": "python",
     "metadata": {},
     "outputs": [],
     "prompt_number": 13
    },
    {
     "cell_type": "heading",
     "level": 1,
     "metadata": {},
     "source": [
      "Boneyard"
     ]
    },
    {
     "cell_type": "raw",
     "metadata": {},
     "source": [
      "downloaded_bugs['887288']"
     ]
    },
    {
     "cell_type": "raw",
     "metadata": {},
     "source": [
      "commits['f643a58d32b45068ee106444eae90ba0e0d2280c']"
     ]
    },
    {
     "cell_type": "raw",
     "metadata": {},
     "source": [
      "combined_commits['f643a58d32b45068ee106444eae90ba0e0d2280c']"
     ]
    },
    {
     "cell_type": "heading",
     "level": 3,
     "metadata": {},
     "source": [
      "Experiments in trying to extract Related Branches Field from LP"
     ]
    },
    {
     "cell_type": "raw",
     "metadata": {},
     "source": [
      "from launchpadlib.launchpad import Launchpad\n",
      "from LPBugsDownload import lp_fetch_object"
     ]
    },
    {
     "cell_type": "raw",
     "metadata": {},
     "source": [
      "lp = Launchpad.login_anonymously('just testing', 'production', CACHEDIR)"
     ]
    },
    {
     "cell_type": "raw",
     "metadata": {},
     "source": [
      "def fetch_bug(bugno):\n",
      "    print lp.bugs[bugno].linked_branches_collection_link\n",
      "    print lp.bugs[bugno].linked_branches_collection_link.lp_entries\n",
      "    print lp.bugs[bugno].linked_branches_collection_link.lp_collections\n",
      "    #print lp.bugs[bugno].linked_branches_collection_link.branch_link\n",
      "    #print lp.bugs[bugno].linked_branches_collection_link.bug_link \n",
      "    \n",
      "    print lp.bugs[bugno].bug_tasks_collection_link\n",
      "    bug = lp_fetch_object(lp.bugs[bugno])\n",
      "    # now fetch associated messages\n",
      "    #bug['messages'] = [lp_fetch_object(msg) for msg in bug['messages']]\n",
      "\n",
      "    return bug"
     ]
    },
    {
     "cell_type": "raw",
     "metadata": {},
     "source": [
      "fetch_bug('663565')"
     ]
    }
   ],
   "metadata": {}
  }
 ]
}