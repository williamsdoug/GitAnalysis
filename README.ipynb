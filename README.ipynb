{
 "metadata": {
  "name": "",
  "signature": "sha256:8c4595c9064b2f1813b3d5fae22e747b76e43f6c6430acd188d682c4d9ae6156"
 },
 "nbformat": 3,
 "nbformat_minor": 0,
 "worksheets": [
  {
   "cells": [
    {
     "cell_type": "heading",
     "level": 1,
     "metadata": {},
     "source": [
      "Develop and Deployment Notes"
     ]
    },
    {
     "cell_type": "heading",
     "level": 2,
     "metadata": {},
     "source": [
      "Installation"
     ]
    },
    {
     "cell_type": "markdown",
     "metadata": {},
     "source": [
      "######Installing launchpadlib produces error.  \n",
      "This work-around seemed to fix the problem: http://www.snip2code.com/Snippet/96088/Install-python-launchpadlib-in-Gentoo\n",
      "\n",
      "- pip install launchpadlib==1.10.2 --allow-external launchpadlib --allow-unverified launchpadlib --allow-external lazr.authentication --allow-unverified lazr.authentication\n",
      "\n",
      "- pip install lazr.restfulclient>=0.9.19  --allow-external lazr.authentication\n",
      "\n",
      "######Need latest version of GitPython\n",
      "- pip install -I GitPython==0.3.2.RC1"
     ]
    },
    {
     "cell_type": "markdown",
     "metadata": {},
     "source": []
    },
    {
     "cell_type": "heading",
     "level": 2,
     "metadata": {},
     "source": [
      "Development"
     ]
    },
    {
     "cell_type": "heading",
     "level": 3,
     "metadata": {},
     "source": [
      "Create Corpus"
     ]
    },
    {
     "cell_type": "markdown",
     "metadata": {},
     "source": [
      "- fix huge output (change alg used in diff)\n",
      "- make process_commits and build_git_commits incremental\n",
      "- Non-OpenStack support:\n",
      " - General clean-up and verification\n",
      " - check whether get_patch_data() handling OK fur Kubernetes"
     ]
    },
    {
     "cell_type": "heading",
     "level": 3,
     "metadata": {},
     "source": [
      "Analysis and Feature Extraction"
     ]
    },
    {
     "cell_type": "code",
     "collapsed": false,
     "input": [],
     "language": "python",
     "metadata": {},
     "outputs": []
    }
   ],
   "metadata": {}
  }
 ]
}