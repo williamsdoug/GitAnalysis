{
 "metadata": {
  "name": "",
  "signature": "sha256:cb32de134139410824f11809dc23d33331865733ac5bf63fbe5bcd3083d773a2"
 },
 "nbformat": 3,
 "nbformat_minor": 0,
 "worksheets": [
  {
   "cells": [
    {
     "cell_type": "markdown",
     "metadata": {},
     "source": [
      "#Validate Join Data\n",
      "Focus on data used to combine commits with bugs and changes\n",
      "\n",
      "Copyright Doug Williams, 2015\n",
      "\n",
      "Updated 2/25/2015\n",
      "\n",
      "####Summary of bugs to be fixed\n",
      "- Determine why some LP entries not properly downloaded\n",
      " - Case 1:  Missing entirely          [DONE: added verify_missing_bugs()]\n",
      " - Case 2: Messages Missing           [DONE: expected behavior]\n",
      "- Extend LP parsing to support multiple commits and change-Id's [DONE]\n",
      "- Exteng Git Commit Parser to support multiple bug fixes per line [DONE]\n",
      "- Consider extracting other git branches besides Master [DONE - DOESN'T FIX]\n",
      "- Consider cloning OpenStack git repo directly instead of GitHub [Low Priority]\n",
      "- Use Gerrit as secondary validation\n",
      "\n",
      "####Other To Do:\n",
      "- Update test code to reflect all_bugs[bugno]['commits']"
     ]
    },
    {
     "cell_type": "code",
     "collapsed": false,
     "input": [
      "%matplotlib inline\n",
      "import matplotlib.pyplot as plt\n",
      "import pprint as pp\n",
      "import sys\n",
      "import re\n",
      "sys.path.append('./dev')\n",
      "\n",
      "from commit_analysis import load_all_analysis_data\n",
      "from commit_analysis import rebuild_all_analysis_data\n",
      "from Git_Extract import build_all_blame, load_all_blame\n",
      "\n",
      "from LPBugsDownload import load_lp_bugs\n",
      "from LPBugsDownload import build_lp_bugs\n",
      "from GerritDownload import load_gerrit_changes, load_gerrit_change_details\n",
      "\n",
      "from Git_Extract import build_git_commits\n",
      "from Git_Extract import load_git_commits\n",
      "\n",
      "from commit_analysis import verify_missing_bugs\n",
      "\n",
      "from pygerrit.rest import GerritRestAPI\n",
      "from git_analysis_config import get_gerrit_url, get_gerrit_query_base"
     ],
     "language": "python",
     "metadata": {},
     "outputs": [],
     "prompt_number": 1
    },
    {
     "cell_type": "heading",
     "level": 1,
     "metadata": {},
     "source": [
      "Config"
     ]
    },
    {
     "cell_type": "code",
     "collapsed": false,
     "input": [
      "# PROJECT = 'nova'\n",
      "# PROJECT = 'swift'\n",
      "# PROJECT = 'cinder'\n",
      "# PROJECT = 'heat'\n",
      "PROJECT = 'glance'\n",
      "cgit_url = 'http://git.openstack.org/cgit/openstack/' + PROJECT + '/commit/?id='\n",
      "cgit_suffix = '&context=1&ignorews=0&ss=0'"
     ],
     "language": "python",
     "metadata": {},
     "outputs": [],
     "prompt_number": 2
    },
    {
     "cell_type": "heading",
     "level": 1,
     "metadata": {},
     "source": [
      "Code"
     ]
    },
    {
     "cell_type": "heading",
     "level": 1,
     "metadata": {},
     "source": [
      "Rebuild Data"
     ]
    },
    {
     "cell_type": "code",
     "collapsed": false,
     "input": [
      "if False: \n",
      "    print 'rebuilding Launchpad (bug) data'\n",
      "    build_lp_bugs(PROJECT, update=True)"
     ],
     "language": "python",
     "metadata": {},
     "outputs": [],
     "prompt_number": 3
    },
    {
     "cell_type": "heading",
     "level": 1,
     "metadata": {},
     "source": [
      "Load Data"
     ]
    },
    {
     "cell_type": "code",
     "collapsed": false,
     "input": [
      "project = PROJECT\n",
      "all_bugs = load_lp_bugs(project)\n",
      "commits = load_git_commits(project, prune=False)\n",
      "all_changes = load_gerrit_changes(project)\n",
      "all_change_details = load_gerrit_change_details(project)"
     ],
     "language": "python",
     "metadata": {},
     "outputs": [
      {
       "output_type": "stream",
       "stream": "stdout",
       "text": [
        "  total LP bugs: 1250\n",
        "  Entries annotated: 924\n",
        "  total git_commits:"
       ]
      },
      {
       "output_type": "stream",
       "stream": "stdout",
       "text": [
        " 4198\n",
        "  actual commits: 1978\n",
        "  pruned commits: 2220\n",
        "  bug fix commits: 1037\n",
        "  commits with change_id: 1882\n",
        "  bug fix with change_id: 970\n",
        "  total gerrit changes:"
       ]
      },
      {
       "output_type": "stream",
       "stream": "stdout",
       "text": [
        " 2098\n",
        "  total gerrit changes with detail:"
       ]
      },
      {
       "output_type": "stream",
       "stream": "stdout",
       "text": [
        " 2097\n"
       ]
      }
     ],
     "prompt_number": 4
    },
    {
     "cell_type": "heading",
     "level": 6,
     "metadata": {},
     "source": [
      "New workflow step to address missing bugs from launchpadlib.launchpad.searchTasks().  Needs to be integrated into mainline workflow"
     ]
    },
    {
     "cell_type": "code",
     "collapsed": false,
     "input": [
      "verify_missing_bugs(PROJECT)\n",
      "print\n",
      "all_bugs = load_lp_bugs(project)"
     ],
     "language": "python",
     "metadata": {},
     "outputs": [
      {
       "output_type": "stream",
       "stream": "stdout",
       "text": [
        "  total LP bugs: 1250\n",
        "  Entries annotated: 924\n",
        "  total git_commits:"
       ]
      },
      {
       "output_type": "stream",
       "stream": "stdout",
       "text": [
        " 4198\n",
        "  actual commits: 1978\n",
        "  pruned commits: 2220\n",
        "  bug fix commits: 1037\n",
        "  commits with change_id: 1882\n",
        "  bug fix with change_id: 970\n",
        "no missing bugs\n",
        "\n",
        "  total LP bugs:"
       ]
      },
      {
       "output_type": "stream",
       "stream": "stdout",
       "text": [
        " 1250\n",
        "  Entries annotated: 924\n"
       ]
      }
     ],
     "prompt_number": 7
    },
    {
     "cell_type": "raw",
     "metadata": {},
     "source": [
      "for k, v in all_bugs.items():\n",
      "    all_bugs[k]['commits'] = lp_parse_messages(v['messages'])"
     ]
    },
    {
     "cell_type": "heading",
     "level": 6,
     "metadata": {},
     "source": [
      "Sanity check patch"
     ]
    },
    {
     "cell_type": "code",
     "collapsed": false,
     "input": [
      "print 'total bug entries:', len(all_bugs)\n",
      "print 'total bugs with commits:',  sum([1 for k, v in all_bugs.items() if len(v['commits'])>0])\n",
      "print 'total_commits:', sum([len(v['commits']) for k, v in all_bugs.items()])"
     ],
     "language": "python",
     "metadata": {},
     "outputs": [
      {
       "output_type": "stream",
       "stream": "stdout",
       "text": [
        "total bug entries: 1250\n",
        "total bugs with commits: 924\n",
        "total_commits: 1352\n"
       ]
      }
     ],
     "prompt_number": 8
    },
    {
     "cell_type": "heading",
     "level": 1,
     "metadata": {},
     "source": [
      "See if LaunchPad and Git Data Agree"
     ]
    },
    {
     "cell_type": "heading",
     "level": 3,
     "metadata": {},
     "source": [
      "Look for missing Bugs"
     ]
    },
    {
     "cell_type": "code",
     "collapsed": false,
     "input": [
      "all_bugs_in_commits = set([b for c in commits.values() if 'bugs' in c for b in c['bugs'] ])\n",
      "known_bugs = set(all_bugs.keys())\n",
      "\n",
      "missing_bugs = all_bugs_in_commits.difference(known_bugs)\n",
      "common_bugs = all_bugs_in_commits.intersection(known_bugs)\n",
      "\n",
      "print 'Common Bugs:', len(common_bugs)\n",
      "print 'Missing Bugs:', len(missing_bugs)\n",
      "print \n",
      "for bugno in missing_bugs:\n",
      "    print bugno, '  https://bugs.launchpad.net/glance/+bug/' + bugno"
     ],
     "language": "python",
     "metadata": {},
     "outputs": [
      {
       "output_type": "stream",
       "stream": "stdout",
       "text": [
        "Common Bugs: 939\n",
        "Missing Bugs: 0\n",
        "\n"
       ]
      }
     ],
     "prompt_number": 9
    },
    {
     "cell_type": "markdown",
     "metadata": {},
     "source": [
      "######Conclusion:  New routine verify_missing_bugs() now addresses issue [Resolved]\n",
      "- For some reason launchpadlib.launchpad.searchTasks() fails to identify certain relevant bugs"
     ]
    },
    {
     "cell_type": "heading",
     "level": 3,
     "metadata": {},
     "source": [
      "Start with Commit Data"
     ]
    },
    {
     "cell_type": "code",
     "collapsed": false,
     "input": [
      "all_commits_in_bugs = set([e['cid'] for b in all_bugs.values() for e in b['commits']])\n",
      "known_commits = set(commits.keys())\n",
      "\n",
      "missing_commits = all_commits_in_bugs.difference(known_commits)\n",
      "common_commits = all_commits_in_bugs.intersection(known_commits)\n",
      "missing_commits_reverse = known_commits.difference(all_commits_in_bugs)\n",
      "\n",
      "print 'Common Commits:', len(common_commits)\n",
      "print 'Missing Commits:', len(missing_commits), '(in bugs, but not git)'\n",
      "print \n",
      "print 'Sample Missing Commits:'\n",
      "for cid in list(missing_commits)[:5]:\n",
      "    print cid[:7], 'https://github.com/openstack/glance/commits/'+ cid\n",
      "    # print '        ', cgit_url+str(cid)+cgit_suffix"
     ],
     "language": "python",
     "metadata": {},
     "outputs": [
      {
       "output_type": "stream",
       "stream": "stdout",
       "text": [
        "Common Commits: 961\n",
        "Missing Commits: 336 (in bugs, but not git)\n",
        "\n",
        "Sample Missing Commits:\n",
        "5e69dd9 https://github.com/openstack/glance/commits/5e69dd94bf81f55d6d5b917b7ec673482b5565c0\n",
        "55cf240 https://github.com/openstack/glance/commits/55cf240cad2b52497cd8dc67f0e68ca7bd2dd9ae\n",
        "5462295 https://github.com/openstack/glance/commits/54622953c4cc09196c7f16d8229ba438afbe626f\n",
        "74b067d https://github.com/openstack/glance/commits/74b067df9726f9cf3e6e17e248719794a6ee0745\n",
        "28e5ba9 https://github.com/openstack/glance/commits/28e5ba9dd933282321a267a3203b29036118a010\n"
       ]
      }
     ],
     "prompt_number": 10
    },
    {
     "cell_type": "heading",
     "level": 3,
     "metadata": {},
     "source": [
      "Test again, this time limiting to Master Branch"
     ]
    },
    {
     "cell_type": "code",
     "collapsed": false,
     "input": [
      "known_commits2 = set([k for k, c in commits.items() if c['on_master_branch']])\n",
      "\n",
      "missing_commits2 = all_commits_in_bugs.difference(known_commits2)\n",
      "common_commits2 = all_commits_in_bugs.intersection(known_commits2)\n",
      "missing_commits_reverse2 = known_commits2.difference(all_commits_in_bugs)\n",
      "\n",
      "print 'Common Commits:', len(common_commits2)\n",
      "print 'Missing Commits:', len(missing_commits2), '(in bugs, but not git)'\n",
      "print \n",
      "print 'Sample Missing Commits:'\n",
      "for cid in list(missing_commits2)[:5]:\n",
      "    print cid[:7], 'https://github.com/openstack/glance/commits/'+ cid"
     ],
     "language": "python",
     "metadata": {},
     "outputs": [
      {
       "output_type": "stream",
       "stream": "stdout",
       "text": [
        "Common Commits: 932\n",
        "Missing Commits: 365 (in bugs, but not git)\n",
        "\n",
        "Sample Missing Commits:\n",
        "4655685 https://github.com/openstack/glance/commits/46556859df9b935a04cf4d3184bac64a2e736d23\n",
        "5462295 https://github.com/openstack/glance/commits/54622953c4cc09196c7f16d8229ba438afbe626f\n",
        "74b067d https://github.com/openstack/glance/commits/74b067df9726f9cf3e6e17e248719794a6ee0745\n",
        "1cee671 https://github.com/openstack/glance/commits/1cee671ce1bfacbd1ac07675dede8f46aae4a8a1\n",
        "1a40881 https://github.com/openstack/glance/commits/1a408818e96434778d34415e880d81c6f176233f\n"
       ]
      }
     ],
     "prompt_number": 11
    },
    {
     "cell_type": "code",
     "collapsed": false,
     "input": [
      "import git\n",
      "from git_analysis_config import get_repo_name\n",
      "\n",
      "from subprocess import Popen, PIPE, STDOUT\n",
      "def get_all_commits_remote(project):\n",
      "    \"\"\"Compute per-line blame for individual file for a commit \"\"\"\n",
      "\n",
      "    result = []\n",
      "    repo_name = get_repo_name(project)\n",
      "\n",
      "    # Build git blame command string\n",
      "    cmd = 'cd ' + repo_name + ' ; ' + 'git rev-list --remotes'\n",
      "\n",
      "    # Now execute git blame command in subprocess and parse results\n",
      "    with Popen(cmd, shell=True, stdout=PIPE, stderr=STDOUT).stdout as f:\n",
      "        for line in f:\n",
      "            try:\n",
      "                line = str(line)\n",
      "                # line = line.encode('ascii', errors='ignore')\n",
      "            except Exception, e:\n",
      "                print e\n",
      "                print type(line), line\n",
      "                raise Exception\n",
      "                \n",
      "            result.append(line)\n",
      "\n",
      "    return result\n",
      "\n",
      "def get_all_commits(project):\n",
      "    repo_name = get_repo_name(project)\n",
      "    repo = git.Repo(repo_name)\n",
      "    all = {}\n",
      "\n",
      "    for h in repo.heads:\n",
      "        for c in repo.iter_commits(h):\n",
      "            all[c.hexsha] = c\n",
      "            \n",
      "    return all.keys()\n"
     ],
     "language": "python",
     "metadata": {},
     "outputs": [],
     "prompt_number": 12
    },
    {
     "cell_type": "heading",
     "level": 6,
     "metadata": {},
     "source": [
      "Check is commits are present in local repo via GitPython"
     ]
    },
    {
     "cell_type": "code",
     "collapsed": false,
     "input": [
      "all_names = get_all_commits(PROJECT)\n",
      "print 'Missing after checking local repo:', len(all_commits_in_bugs.difference(set(all_names)))"
     ],
     "language": "python",
     "metadata": {},
     "outputs": [
      {
       "output_type": "stream",
       "stream": "stdout",
       "text": [
        "Missing after checking local repo: 336\n"
       ]
      }
     ],
     "prompt_number": 13
    },
    {
     "cell_type": "markdown",
     "metadata": {},
     "source": [
      "######Conclusion:  Same missing commits count, so commits not accessoble via GitPython (using clone of GitHub)\n",
      "\n",
      "######Try Again getting information directly from remote repo"
     ]
    },
    {
     "cell_type": "code",
     "collapsed": false,
     "input": [
      "all_names = get_all_commits_remote(PROJECT)\n",
      "print 'Missing after checking remote repo:', len(all_commits_in_bugs.difference(set(all_names)))"
     ],
     "language": "python",
     "metadata": {},
     "outputs": [
      {
       "output_type": "stream",
       "stream": "stdout",
       "text": [
        "Missing after checking remote repo: 1297\n"
       ]
      }
     ],
     "prompt_number": 14
    },
    {
     "cell_type": "markdown",
     "metadata": {},
     "source": [
      "######Conclusion:  Ignore for now\n",
      "- May be an issue with github, consider using OpenStack git repo directly instead of GitHub [Low Priority]"
     ]
    },
    {
     "cell_type": "heading",
     "level": 3,
     "metadata": {},
     "source": [
      "Start with LP, match to Git"
     ]
    },
    {
     "cell_type": "code",
     "collapsed": false,
     "input": [
      "total_cid = 0\n",
      "cid_match = 0\n",
      "bug_match = 0\n",
      "commit_bug_mismatch = []\n",
      "\n",
      "for k, b in all_bugs.items():\n",
      "    for e in b['commits']:\n",
      "        bcid = e['cid']\n",
      "        total_cid += 1\n",
      "        if bcid in commits:\n",
      "            cid_match += 1\n",
      "            c = commits[bcid]\n",
      "            if 'bugs' in c:\n",
      "                if k in c['bugs']:\n",
      "                    bug_match += 1\n",
      "                else:\n",
      "                    commit_bug_mismatch.append([bcid, k])\n",
      "\n",
      "print 'total bugs with cid:', total_cid\n",
      "print 'cid that match with real commits:', cid_match\n",
      "print 'commit and bug entry agree (both cid and bugno):', bug_match\n",
      "print 'Total commit_bug_mismatch:', len(commit_bug_mismatch)"
     ],
     "language": "python",
     "metadata": {},
     "outputs": [
      {
       "output_type": "stream",
       "stream": "stdout",
       "text": [
        "total bugs with cid: 1352\n",
        "cid that match with real commits: 1012\n",
        "commit and bug entry agree (both cid and bugno): 943\n",
        "Total commit_bug_mismatch: 5\n"
       ]
      }
     ],
     "prompt_number": 15
    },
    {
     "cell_type": "code",
     "collapsed": false,
     "input": [
      "print 'Commit Bug Mismatch'\n",
      "for cid, bugno in commit_bug_mismatch:\n",
      "    print bugno, '  https://bugs.launchpad.net/glance/+bug/' + bugno\n",
      "    print '          commits in bug:', [c['cid'][:7] for c in all_bugs[bugno]['commits']]\n",
      "    print cid[:7], '  https://github.com/openstack/glance/commits/'+ cid  \n",
      "    print '          bugs in commit:', commits[cid]['bugs']\n",
      "    # print all_bugs[bugno]['cid'][:7], '  https://github.com/openstack/glance/commits/'+ all_bugs[bugno]['cid']\n",
      "    print '------------'"
     ],
     "language": "python",
     "metadata": {},
     "outputs": [
      {
       "output_type": "stream",
       "stream": "stdout",
       "text": [
        "Commit Bug Mismatch\n",
        "1367908   https://bugs.launchpad.net/glance/+bug/1367908\n",
        "          commits in bug: [u'f97afca', u'0aab5e2', u'60ff6fd', u'858cd9d']\n",
        "0aab5e2   https://github.com/openstack/glance/commits/0aab5e271667990afb1a2522c7c9c61fa7211e0b\n",
        "          bugs in commit: [u'1367432']\n",
        "------------\n",
        "1367908   https://bugs.launchpad.net/glance/+bug/1367908\n",
        "          commits in bug: [u'f97afca', u'0aab5e2', u'60ff6fd', u'858cd9d']\n",
        "60ff6fd   https://github.com/openstack/glance/commits/60ff6fd0efb6615b9df3adbd7913f1a3fa615acf\n",
        "          bugs in commit: [u'1367432']\n",
        "------------\n",
        "988099   https://bugs.launchpad.net/glance/+bug/988099\n",
        "          commits in bug: [u'7804a6e', u'9a01d53', u'2ff8b96', u'13f8f00']\n",
        "2ff8b96   https://github.com/openstack/glance/commits/2ff8b9627c9c9a48af0e12b65bbbe4325d5e804c\n",
        "          bugs in commit: [u'1158247']\n",
        "------------\n",
        "1042925   https://bugs.launchpad.net/glance/+bug/1042925\n",
        "          commits in bug: [u'3917fdf', u'1cfb025']\n",
        "3917fdf   https://github.com/openstack/glance/commits/3917fdf3b0c69019303522109d96b9c3d9ff19e2\n",
        "          bugs in commit: [u'1043041']\n",
        "------------\n",
        "1068051   https://bugs.launchpad.net/glance/+bug/1068051\n",
        "          commits in bug: [u'a9f9f13', u'866cb84', u'4655685']\n",
        "866cb84   https://github.com/openstack/glance/commits/866cb846f5310e1ad36181e64e7d59ba54d9fd40\n",
        "          bugs in commit: [u'1173415']\n",
        "------------\n"
       ]
      }
     ],
     "prompt_number": 16
    },
    {
     "cell_type": "markdown",
     "metadata": {},
     "source": [
      "######Analysis:\n",
      "- 1367908:  LP Parser incorrectly included commit information from Related-Bug - Git information correct\n",
      "- Commit 2ff8b96 correct, LP contains entries for multiple bugs\n",
      "- Commit 3917fdf  is correct, Bug history appreas to contain incorrect history (revert?)\n",
      "- Commit 866cb84 correct, Bug history appears to also contain reference to this commit\n",
      "\n",
      "- Dual Bugs - Bug in Git_Extract_Join.py\n",
      " - 1046433 / 41c1641  - commit message contains multiple bugs in line, \n",
      "\n",
      "######Conclusion:  \n",
      "- In most cases issue unavoidable, git appears to be correct.  Only small number of bugs impacted.\n",
      "- Opportunity to enhance parser - may be low priority since only 1 commit\n",
      " - Unable to parse 'Fixes bug 1008874, bug 1046433.'"
     ]
    },
    {
     "cell_type": "heading",
     "level": 3,
     "metadata": {},
     "source": [
      "Starting with Git, match to LP"
     ]
    },
    {
     "cell_type": "code",
     "collapsed": false,
     "input": [
      "total_commits_with_bugs = 0\n",
      "total_bugs_in_commits = 0\n",
      "bug_match = 0\n",
      "\n",
      "cid_match = 0\n",
      "bug_commit_mismatch = []\n",
      "\n",
      "for k, c in commits.items():\n",
      "    if 'bugs' in c:\n",
      "        if len(['bugs']) > 0:\n",
      "            total_commits_with_bugs += 1\n",
      "        for b in c['bugs']:\n",
      "            total_bugs_in_commits += 1\n",
      "            if b in all_bugs:\n",
      "                bug_match += 1\n",
      "                bug = all_bugs[b]\n",
      "                match = False\n",
      "                for e in bug['commits']:\n",
      "                    ecid = e['cid']\n",
      "                    if k == ecid:\n",
      "                        cid_match += 1\n",
      "                        match = True\n",
      "                if not match:\n",
      "                    bug_commit_mismatch.append([k, b])\n",
      "\n",
      "print 'total commits with bugs:', total_commits_with_bugs\n",
      "print 'total bugs in commits:', total_bugs_in_commits\n",
      "\n",
      "print 'commit has bug entry (bugno match):', bug_match\n",
      "print 'commit and bug agree (bugno and cid match):', cid_match\n",
      "print 'Total bug_commit_mismatch:', len(bug_commit_mismatch)"
     ],
     "language": "python",
     "metadata": {},
     "outputs": [
      {
       "output_type": "stream",
       "stream": "stdout",
       "text": [
        "total commits with bugs: 1037\n",
        "total bugs in commits: 1064\n",
        "commit has bug entry (bugno match): 1064\n",
        "commit and bug agree (bugno and cid match): 943\n",
        "Total bug_commit_mismatch: 122\n"
       ]
      }
     ],
     "prompt_number": 17
    },
    {
     "cell_type": "heading",
     "level": 6,
     "metadata": {},
     "source": [
      "Drill-down on missing messages as source of mis-match:"
     ]
    },
    {
     "cell_type": "code",
     "collapsed": false,
     "input": [
      "print 'total messages:', sum ([  len(b['messages']) for b in all_bugs.values() ])\n",
      "print 'bugs with messages:', sum ([1   for b in all_bugs.values() if len(b['messages']) > 1])\n",
      "print 'bugs with single messages:', sum ([1   for b in all_bugs.values() if len(b['messages']) == 1])\n",
      "single_message_bugs = [k for k, b in all_bugs.items() if len(b['messages']) == 1]\n",
      "print 'total bugs:',len(all_bugs)\n",
      "print\n",
      "print 'total Bug Commit Mis-match', len(bug_commit_mismatch)\n",
      "test = [bugno for cid, bugno in bug_commit_mismatch if bugno in single_message_bugs]\n",
      "print 'mis-matches explained by missing messages:', len(test)\n",
      "print '     Samples:', test[:3]\n",
      "print 'Others still be be explored:', len(bug_commit_mismatch) - len(test)"
     ],
     "language": "python",
     "metadata": {},
     "outputs": [
      {
       "output_type": "stream",
       "stream": "stdout",
       "text": [
        "total messages: 7537\n",
        "bugs with messages: 1168\n",
        "bugs with single messages: 82\n",
        "total bugs: 1250\n",
        "\n",
        "total Bug Commit Mis-match 122\n",
        "mis-matches explained by missing messages: 22\n",
        "     Samples: [u'746435', u'746435', u'759018']\n",
        "Others still be be explored: 100\n"
       ]
      }
     ],
     "prompt_number": 18
    },
    {
     "cell_type": "code",
     "collapsed": false,
     "input": [
      "single_message_bugs = sorted(single_message_bugs, key=lambda z: int(z))\n",
      "print single_message_bugs[:10]\n",
      "print '-----------------'\n",
      "print single_message_bugs[-10:]"
     ],
     "language": "python",
     "metadata": {},
     "outputs": [
      {
       "output_type": "stream",
       "stream": "stdout",
       "text": [
        "[u'653358', u'659445', u'660812', u'687661', u'687665', u'693471', u'694382', u'696382', u'696385', u'698316']\n",
        "-----------------\n",
        "[u'1210031', u'1229823', u'1272464', u'1309597', u'1323646', u'1334467', u'1379308', u'1394316', u'1409071', u'1422699']\n"
       ]
      }
     ],
     "prompt_number": 19
    },
    {
     "cell_type": "markdown",
     "metadata": {},
     "source": [
      "######Conclusion: Rely on Gerrit Data\n",
      "- Expected behavior since some bugs only contain status transitions, but no messages with commit information"
     ]
    },
    {
     "cell_type": "heading",
     "level": 6,
     "metadata": {},
     "source": [
      "Drill-down on other mis-matches"
     ]
    },
    {
     "cell_type": "code",
     "collapsed": false,
     "input": [
      "other_mismatch = [[cid, bugno] for cid, bugno in bug_commit_mismatch if bugno not in single_message_bugs]\n",
      "print 'Other Bug Commit Mis-match: ', len(other_mismatch)\n",
      "print\n",
      "for cid, bugno in other_mismatch[:5]:\n",
      "    if bugno not in single_message_bugs:\n",
      "        print cid[:7], '  https://github.com/openstack/glance/commits/'+ cid\n",
      "        print '          bugs in commit:', commits[cid]['bugs']\n",
      "        print bugno, '  https://bugs.launchpad.net/glance/+bug/' + bugno\n",
      "        print '          commits in bug:', [c['cid'][:7] for c in all_bugs[bugno]['commits']]\n",
      "        for e in all_bugs[bugno]['commits']:\n",
      "            print e['cid'][:7], '  https://github.com/openstack/glance/commits/'+ e['cid']\n",
      "        if all_bugs[bugno]['commits']:\n",
      "            print\n",
      "            pp.pprint(all_bugs[bugno]['commits'])\n",
      "        print '------------'"
     ],
     "language": "python",
     "metadata": {},
     "outputs": [
      {
       "output_type": "stream",
       "stream": "stdout",
       "text": [
        "Other Bug Commit Mis-match:  100\n",
        "\n",
        "b7796ec   https://github.com/openstack/glance/commits/b7796ecd8cff784bc3dd698510b66e0cdd5d30ab\n",
        "          bugs in commit: [u'911681']\n",
        "911681   https://bugs.launchpad.net/glance/+bug/911681\n",
        "          commits in bug: [u'2528e56']\n",
        "2528e56   https://github.com/openstack/glance/commits/2528e569d0a53248dd9cae9b1f6aa2da5f455cdd\n",
        "\n",
        "[{'change_id': u'I3096a39fd0c26f9fa5243f7cc2bd25dd8d5235ea',\n",
        "  'cid': u'2528e569d0a53248dd9cae9b1f6aa2da5f455cdd'}]\n",
        "------------\n",
        "1777e01   https://github.com/openstack/glance/commits/1777e019e0df8e83d5ac25dd7265186e4bb01aae\n",
        "          bugs in commit: [u'1270832']\n",
        "1270832   https://bugs.launchpad.net/glance/+bug/1270832\n",
        "          commits in bug: []\n",
        "------------\n",
        "67f5d86   https://github.com/openstack/glance/commits/67f5d86260d77aee04d0cbb5f0885aedd89c02da\n",
        "          bugs in commit: [u'730213']\n",
        "730213   https://bugs.launchpad.net/glance/+bug/730213\n",
        "          commits in bug: []\n",
        "------------\n",
        "be811f3   https://github.com/openstack/glance/commits/be811f3ef45da52ed1d350a814022909cfb15f84\n",
        "          bugs in commit: [u'730213']\n",
        "730213   https://bugs.launchpad.net/glance/+bug/730213\n",
        "          commits in bug: []\n",
        "------------\n",
        "5662243   https://github.com/openstack/glance/commits/5662243a49e8341b381ee1fc9ba1efcb7712195c\n",
        "          bugs in commit: [u'1275716']\n",
        "1275716   https://bugs.launchpad.net/glance/+bug/1275716\n",
        "          commits in bug: []\n",
        "------------\n"
       ]
      }
     ],
     "prompt_number": 20
    },
    {
     "cell_type": "markdown",
     "metadata": {},
     "source": [
      "######Conclusion: Rely on Gerrit for supplemental data\n",
      "- Many bugs contain only status history, but no messages detailing commit information\n",
      " - Recommended fix:  Use Gerrit Data to sanity check\n",
      " - 1270832:  No commit in message history, just a review\n",
      " - 730213, 730213, 1275716  \n",
      " - 1272136 :  shows other commits, but master commit missing in messages\n",
      "- 1400966: has workarounds outside of glance, using bug 1408663 to track actual fix\n",
      " - No obvioius way to link the two bugs"
     ]
    },
    {
     "cell_type": "heading",
     "level": 1,
     "metadata": {},
     "source": [
      "Sanity Check Gerrit Data"
     ]
    },
    {
     "cell_type": "code",
     "collapsed": false,
     "input": [
      "change_by_changeid = dict([[c['change_id'], c]\n",
      "                           for c in all_changes\n",
      "                           if c['branch'] == 'master' and c['status'] == 'MERGED'])\n",
      "all_changeid = set(change_by_changeid.keys())\n",
      "change__details_by_changeid = dict([[c['change_id'], c]\n",
      "                                    for c in all_change_details\n",
      "                                    if c['branch'] == 'master' and c['status'] == 'MERGED'])\n",
      "all_changeid2 = set(change__details_by_changeid.keys())\n",
      "\n",
      "print 'Total Gerrit:', len(all_changeid),  len(all_changeid2), len(all_changeid.intersection(all_changeid2))"
     ],
     "language": "python",
     "metadata": {},
     "outputs": [
      {
       "output_type": "stream",
       "stream": "stdout",
       "text": [
        "Total Gerrit: 1803 1803 1803\n"
       ]
      }
     ],
     "prompt_number": 21
    },
    {
     "cell_type": "heading",
     "level": 6,
     "metadata": {},
     "source": [
      "Conclusion:  Gerrit all_changes and all_change_details cover same set of change_id's"
     ]
    },
    {
     "cell_type": "code",
     "collapsed": false,
     "input": [
      "change_by_id = dict([ [c['id'], c] for c in all_changes\n",
      "                     if c['branch'] == 'master' and c['status'] == 'MERGED'])\n",
      "print len(change_by_id)"
     ],
     "language": "python",
     "metadata": {},
     "outputs": [
      {
       "output_type": "stream",
       "stream": "stdout",
       "text": [
        "1803\n"
       ]
      }
     ],
     "prompt_number": 22
    },
    {
     "cell_type": "heading",
     "level": 3,
     "metadata": {},
     "source": [
      "See if Gerrit data accounts for all the git commits"
     ]
    },
    {
     "cell_type": "code",
     "collapsed": false,
     "input": [
      "git_changeid = set(\n",
      "     [c['change_id'] for c in commits.values() if 'change_id' in c and c['on_master_branch'] ])\n",
      "len(git_changeid)"
     ],
     "language": "python",
     "metadata": {},
     "outputs": [
      {
       "metadata": {},
       "output_type": "pyout",
       "prompt_number": 23,
       "text": [
        "1805"
       ]
      }
     ],
     "prompt_number": 23
    },
    {
     "cell_type": "code",
     "collapsed": false,
     "input": [
      "print 'Total Git:', len(commits)\n",
      "print 'Total Git w/ change_id:', len(git_changeid)\n",
      "print 'Total Gerrit:', len(all_changeid)\n",
      "print 'Common:', len(git_changeid.intersection(all_changeid)) \n",
      "print\n",
      "print 'Missing from all_changes:', len(git_changeid.difference(all_changeid)) \n",
      "print list(git_changeid.difference(all_changeid))[:3]\n",
      "print\n",
      "print 'Missing from git:', len(all_changeid.difference(git_changeid)) \n",
      "list(all_changeid.difference(git_changeid))[:3]"
     ],
     "language": "python",
     "metadata": {},
     "outputs": [
      {
       "output_type": "stream",
       "stream": "stdout",
       "text": [
        "Total Git: 4198\n",
        "Total Git w/ change_id: 1805\n",
        "Total Gerrit: 1803\n",
        "Common: 1803\n",
        "\n",
        "Missing from all_changes: 2\n",
        "[u'I32c8167913b9412120d1256ffddf9117f765551f', u'If1bdff3f7330c3eb58bd56b08299472ae3d4b552']\n",
        "\n",
        "Missing from git: 0\n"
       ]
      },
      {
       "metadata": {},
       "output_type": "pyout",
       "prompt_number": 24,
       "text": [
        "[]"
       ]
      }
     ],
     "prompt_number": 24
    },
    {
     "cell_type": "heading",
     "level": 6,
     "metadata": {},
     "source": [
      "Conclusion:  Both sets of Gerrit data sufficiently complete (only 1 change missing)"
     ]
    },
    {
     "cell_type": "heading",
     "level": 3,
     "metadata": {},
     "source": [
      "Compare Gerrit data with Launchpad Data"
     ]
    },
    {
     "cell_type": "code",
     "collapsed": false,
     "input": [
      "all_changeid_in_bugs = set([e['change_id'] for b in all_bugs.values() for e in b['commits']])\n",
      "print \"Total Bugs with Gerrit Change-id's\", len(all_changeid_in_bugs)"
     ],
     "language": "python",
     "metadata": {},
     "outputs": [
      {
       "output_type": "stream",
       "stream": "stdout",
       "text": [
        "Total Bugs with Gerrit Change-id's 1093\n"
       ]
      }
     ],
     "prompt_number": 25
    },
    {
     "cell_type": "code",
     "collapsed": false,
     "input": [
      "print 'Joining all on change_id:', len(all_changeid_in_bugs.intersection(all_changeid2).intersection( git_changeid ))"
     ],
     "language": "python",
     "metadata": {},
     "outputs": [
      {
       "output_type": "stream",
       "stream": "stdout",
       "text": [
        "Joining all on change_id: 914\n"
       ]
      }
     ],
     "prompt_number": 26
    },
    {
     "cell_type": "code",
     "collapsed": false,
     "input": [
      "print 'In Git and Gerrit ', len(all_changeid.intersection(git_changeid))\n",
      "print 'In Git and not Gerrit:', len(git_changeid.difference(all_changeid))\n",
      "print 'In Gerrit and not Git:', len(all_changeid.difference(git_changeid))"
     ],
     "language": "python",
     "metadata": {},
     "outputs": [
      {
       "output_type": "stream",
       "stream": "stdout",
       "text": [
        "In Git and Gerrit  1803\n",
        "In Git and not Gerrit: 2\n",
        "In Gerrit and not Git: 0\n"
       ]
      }
     ],
     "prompt_number": 27
    },
    {
     "cell_type": "code",
     "collapsed": false,
     "input": [
      "print 'In LP and Gerrit:', len(all_changeid_in_bugs.intersection(all_changeid2)) \n",
      "print 'In LP but not Gerrit:', len(all_changeid_in_bugs.difference(all_changeid2)) \n",
      "print 'In Gerrit but not LP:', len(all_changeid2.difference(all_changeid_in_bugs))  \n",
      "# list(git_changeid.difference(all_changeid))[0]"
     ],
     "language": "python",
     "metadata": {},
     "outputs": [
      {
       "output_type": "stream",
       "stream": "stdout",
       "text": [
        "In LP and Gerrit: 914\n",
        "In LP but not Gerrit: 179\n",
        "In Gerrit but not LP: 889\n"
       ]
      }
     ],
     "prompt_number": 28
    },
    {
     "cell_type": "code",
     "collapsed": false,
     "input": [
      "print 'In LP and Git:', len(all_changeid_in_bugs.intersection(git_changeid)) \n",
      "print 'In LP but not Git:', len(all_changeid_in_bugs.difference(git_changeid)) \n",
      "print 'In Git but not LP:', len(git_changeid.difference(all_changeid_in_bugs)) "
     ],
     "language": "python",
     "metadata": {},
     "outputs": [
      {
       "output_type": "stream",
       "stream": "stdout",
       "text": [
        "In LP and Git: 915\n",
        "In LP but not Git: 178\n",
        "In Git but not LP: 890\n"
       ]
      }
     ],
     "prompt_number": 29
    },
    {
     "cell_type": "code",
     "collapsed": false,
     "input": [
      "print 'Best of both:',\n",
      "print len(all_changeid_in_bugs.intersection(git_changeid).union(all_changeid_in_bugs.intersection(all_changeid2)))"
     ],
     "language": "python",
     "metadata": {},
     "outputs": [
      {
       "output_type": "stream",
       "stream": "stdout",
       "text": [
        "Best of both: 915\n"
       ]
      }
     ],
     "prompt_number": 30
    },
    {
     "cell_type": "heading",
     "level": 6,
     "metadata": {},
     "source": [
      "Conclusion:  Good alignment between Git and Gerrit, however Change_ID data in Launchpad seems very incomplete"
     ]
    },
    {
     "cell_type": "heading",
     "level": 6,
     "metadata": {},
     "source": [
      "See if join sensitive to case"
     ]
    },
    {
     "cell_type": "code",
     "collapsed": false,
     "input": [
      "all_changeid_in_bugs_ = set([x.lower() for x in all_changeid_in_bugs])\n",
      "all_changeid_ = set([x.lower() for x in all_changeid])\n",
      "git_changeid_ = set([x.lower() for x in git_changeid])"
     ],
     "language": "python",
     "metadata": {},
     "outputs": [],
     "prompt_number": 31
    },
    {
     "cell_type": "code",
     "collapsed": false,
     "input": [
      "print 'Caseless joins:'\n",
      "print 'Git and Gerrit ', len(all_changeid_.intersection(git_changeid_))\n",
      "print 'LP and Gerrit', len(all_changeid_in_bugs_.intersection(all_changeid_))\n",
      "print 'LP and  Git', len(all_changeid_in_bugs_.intersection(git_changeid_))\n",
      "print\n",
      "print 'Joining all on change_id:', len(all_changeid_in_bugs_.intersection(all_changeid_).intersection( git_changeid_))"
     ],
     "language": "python",
     "metadata": {},
     "outputs": [
      {
       "output_type": "stream",
       "stream": "stdout",
       "text": [
        "Caseless joins:\n",
        "Git and Gerrit  1803\n",
        "LP and Gerrit 914\n",
        "LP and  Git 915\n",
        "\n",
        "Joining all on change_id: 914\n"
       ]
      }
     ],
     "prompt_number": 32
    },
    {
     "cell_type": "heading",
     "level": 6,
     "metadata": {},
     "source": [
      "Conclusion:  Join effectiveness not dependent on case"
     ]
    },
    {
     "cell_type": "heading",
     "level": 3,
     "metadata": {},
     "source": [
      "Investigate missing Gerrit commits (change_id in LP) in more detail"
     ]
    },
    {
     "cell_type": "code",
     "collapsed": false,
     "input": [
      "changeid_to_lp = dict( [[e['change_id'], b ] for b in all_bugs.values() for e in b['commits']] )\n",
      "missing_changeid = all_changeid_in_bugs.difference(all_changeid)\n",
      "print 'In LP but not Gerrit:', len(missing_changeid)"
     ],
     "language": "python",
     "metadata": {},
     "outputs": [
      {
       "output_type": "stream",
       "stream": "stdout",
       "text": [
        "In LP but not Gerrit: 179\n"
       ]
      }
     ],
     "prompt_number": 33
    },
    {
     "cell_type": "code",
     "collapsed": false,
     "input": [
      "for change_id in list(missing_changeid)[:5]:\n",
      "    bugno = changeid_to_lp[change_id]['id']\n",
      "    print change_id, len(changeid_to_lp[change_id]['commits'])\n",
      "    bugno = changeid_to_lp[change_id]['id']\n",
      "    print '  https://bugs.launchpad.net/glance/+bug/' + bugno\n",
      "    print '  https://review.openstack.org/#q,' + change_id + ',n,z'"
     ],
     "language": "python",
     "metadata": {},
     "outputs": [
      {
       "output_type": "stream",
       "stream": "stdout",
       "text": [
        "I0969752910b92209408d956f633ad2ccacc7fa46 9\n",
        "  https://bugs.launchpad.net/glance/+bug/1092227\n",
        "  https://review.openstack.org/#q,I0969752910b92209408d956f633ad2ccacc7fa46,n,z\n",
        "I8ba039612d9603377028ba72cb80ae89d675c741 2\n",
        "  https://bugs.launchpad.net/glance/+bug/980872\n",
        "  https://review.openstack.org/#q,I8ba039612d9603377028ba72cb80ae89d675c741,n,z\n",
        "I0878adf6ef5c54e577ab2ea39e2ff9845e0e9191 2\n",
        "  https://bugs.launchpad.net/glance/+bug/1029727\n",
        "  https://review.openstack.org/#q,I0878adf6ef5c54e577ab2ea39e2ff9845e0e9191,n,z\n",
        "I6d2ca2f8fca951fe2d90265da8728438dd7d7567 6\n",
        "  https://bugs.launchpad.net/glance/+bug/1220937\n",
        "  https://review.openstack.org/#q,I6d2ca2f8fca951fe2d90265da8728438dd7d7567,n,z\n",
        "I42acdca42f27fbbe9a52441f8cf7ea8261fd8d24 8\n",
        "  https://bugs.launchpad.net/glance/+bug/1050661\n",
        "  https://review.openstack.org/#q,I42acdca42f27fbbe9a52441f8cf7ea8261fd8d24,n,z\n"
       ]
      }
     ],
     "prompt_number": 34
    },
    {
     "cell_type": "markdown",
     "metadata": {},
     "source": [
      "Results of visual inspection:\n",
      "- I0969752910b92209408d956f633ad2ccacc7fa46 : Fixed in Neutron\n",
      "- I8ba039612d9603377028ba72cb80ae89d675c741 : Branch: Glance Stable Essex\n",
      "- I0878adf6ef5c54e577ab2ea39e2ff9845e0e9191  : OPenStack Nova\n",
      "- I6d2ca2f8fca951fe2d90265da8728438dd7d7567  : OpenStack Neutron\n",
      "- I42acdca42f27fbbe9a52441f8cf7ea8261fd8d24  : OpenStack Nova"
     ]
    },
    {
     "cell_type": "code",
     "collapsed": false,
     "input": [
      "REST = GerritRestAPI(url=get_gerrit_url(PROJECT))\n",
      "not_relevant = 0\n",
      "found = 0\n",
      "missing = 0\n",
      "for change_id in list(missing_changeid):\n",
      "    bugno = changeid_to_lp[change_id]['id']\n",
      "    \n",
      "    if len(changeid_to_lp[change_id]['commits']) >= 1:\n",
      "        bugno = changeid_to_lp[change_id]['id']\n",
      "        query = \"/changes/\" + str(change_id)\n",
      "        try:\n",
      "            x = REST.get(query)\n",
      "            if not x['project'].endswith(project) or 'master' not in x['branch']:\n",
      "                not_relevant += 1\n",
      "                continue\n",
      "        except Exception:\n",
      "            print '*** Unable to locate Gerrit Entry ***', change_id\n",
      "            missing += 1\n",
      "            continue\n",
      "            \n",
      "        print change_id, len(changeid_to_lp[change_id]['commits'])\n",
      "        print '  Project:', x['project'], '  Branch:', x['branch']\n",
      "        \n",
      "        print '  https://bugs.launchpad.net/glance/+bug/' + bugno\n",
      "        print '  https://review.openstack.org/#q,' + change_id + ',n,z'\n",
      "        found += 1\n",
      "        \n",
      "print\n",
      "print 'Not relevant:', not_relevant, 'Found:', found, 'Invalid Gerrit Change:', missing"
     ],
     "language": "python",
     "metadata": {},
     "outputs": [
      {
       "output_type": "stream",
       "stream": "stdout",
       "text": [
        "*** Unable to locate Gerrit Entry *** Iaded7245cea7a30c2f421c7b48ece9823aaf152f\n",
        "*** Unable to locate Gerrit Entry ***"
       ]
      },
      {
       "output_type": "stream",
       "stream": "stdout",
       "text": [
        " Icf680a933c6092cce52706fd9616a0d208164d1e\n",
        "*** Unable to locate Gerrit Entry ***"
       ]
      },
      {
       "output_type": "stream",
       "stream": "stdout",
       "text": [
        " Ia97a95ce6ed5d98a76515eea8817e309bcf0889a\n",
        "*** Unable to locate Gerrit Entry ***"
       ]
      },
      {
       "output_type": "stream",
       "stream": "stdout",
       "text": [
        " I6e5efa156c9a905a979a469244cd483723e6b1e3\n",
        "*** Unable to locate Gerrit Entry ***"
       ]
      },
      {
       "output_type": "stream",
       "stream": "stdout",
       "text": [
        " Idce48944050c331dda85e9b10ab6f5b025845c34\n",
        "*** Unable to locate Gerrit Entry ***"
       ]
      },
      {
       "output_type": "stream",
       "stream": "stdout",
       "text": [
        " I6cff4ee7f6c1dc970397b66fd2d15fa22b0a63a3\n",
        "*** Unable to locate Gerrit Entry ***"
       ]
      },
      {
       "output_type": "stream",
       "stream": "stdout",
       "text": [
        " I82639e730c2887630fbbee608a4d4da24862982d\n",
        "*** Unable to locate Gerrit Entry ***"
       ]
      },
      {
       "output_type": "stream",
       "stream": "stdout",
       "text": [
        " I2cb63d091f3d8a9a35d0e35ef18b70409c1f09ae\n",
        "*** Unable to locate Gerrit Entry ***"
       ]
      },
      {
       "output_type": "stream",
       "stream": "stdout",
       "text": [
        " Ie53d9606edac408401961fc6526bb7c99baa836a\n",
        "*** Unable to locate Gerrit Entry ***"
       ]
      },
      {
       "output_type": "stream",
       "stream": "stdout",
       "text": [
        " I3400006eb6ab94095c0c2d2b5dc90cb9b7775a84\n",
        "*** Unable to locate Gerrit Entry ***"
       ]
      },
      {
       "output_type": "stream",
       "stream": "stdout",
       "text": [
        " I17882e407afa00167e550a565081219f9e432a31\n",
        "*** Unable to locate Gerrit Entry ***"
       ]
      },
      {
       "output_type": "stream",
       "stream": "stdout",
       "text": [
        " I6620276bf8f0a7cbc1d51aa226cd33c512e59a48\n",
        "*** Unable to locate Gerrit Entry ***"
       ]
      },
      {
       "output_type": "stream",
       "stream": "stdout",
       "text": [
        " Ie415667a809975948c8cfb71ec63a0905995fa67\n",
        "\n"
       ]
      },
      {
       "output_type": "stream",
       "stream": "stdout",
       "text": [
        "Not relevant: 166 Found: 0 Invalid Gerrit Change: 13\n"
       ]
      }
     ],
     "prompt_number": 35
    },
    {
     "cell_type": "heading",
     "level": 6,
     "metadata": {},
     "source": [
      "Conclusion:  It is safe to ignore the the incremental 177 changes from LP since either irrelevant or invalid change_id's"
     ]
    },
    {
     "cell_type": "heading",
     "level": 1,
     "metadata": {},
     "source": [
      "Explore Information in Gerrit Messages"
     ]
    },
    {
     "cell_type": "code",
     "collapsed": false,
     "input": [
      "gerrit_bug_msg = [msg['message'] for g in all_change_details for msg in g['messages']\n",
      "                  if 'bug' in msg['message'].lower()\n",
      "                  and 'no bug' not in msg['message'].lower()]\n",
      "len(gerrit_bug_msg)"
     ],
     "language": "python",
     "metadata": {},
     "outputs": [
      {
       "metadata": {},
       "output_type": "pyout",
       "prompt_number": 36,
       "text": [
        "746"
       ]
      }
     ],
     "prompt_number": 36
    },
    {
     "cell_type": "code",
     "collapsed": false,
     "input": [
      "gerrit_commit_msg = [msg['message'] for g in all_change_details for msg in g['messages'] if 'commit' in msg['message'].lower()]\n",
      "len(gerrit_commit_msg)"
     ],
     "language": "python",
     "metadata": {},
     "outputs": [
      {
       "metadata": {},
       "output_type": "pyout",
       "prompt_number": 37,
       "text": [
        "174"
       ]
      }
     ],
     "prompt_number": 37
    },
    {
     "cell_type": "heading",
     "level": 3,
     "metadata": {},
     "source": [
      "Look for Bug Messages"
     ]
    },
    {
     "cell_type": "code",
     "collapsed": false,
     "input": [
      "print 'Sample Messages containing bug'\n",
      "print\n",
      "for m in gerrit_bug_msg[:3]:\n",
      "    print m\n",
      "    print '-----------------'"
     ],
     "language": "python",
     "metadata": {},
     "outputs": [
      {
       "output_type": "stream",
       "stream": "stdout",
       "text": [
        "Sample Messages containing bug\n",
        "\n",
        "Patch Set 1: Code-Review+1\n",
        "\n",
        "reverify bug 1407165\n",
        "-----------------\n",
        "Patch Set 2:\n",
        "\n",
        "I noticed jenkins failed, I think you hit bug(s):\n",
        "\n",
        "- gate-tempest-dsvm-neutron-full: https://bugs.launchpad.net/bugs/1410982\n",
        "\n",
        "If you believe we've correctly identified the failure, feel free to leave a 'recheck' comment to run the tests again.\n",
        "For more details on this and other bugs, please see http://status.openstack.org/elastic-recheck/\n",
        "-----------------\n",
        "Patch Set 2:\n",
        "\n",
        "recheck bug 1410982\n",
        "-----------------\n"
       ]
      }
     ],
     "prompt_number": 38
    },
    {
     "cell_type": "markdown",
     "metadata": {},
     "source": [
      "Try extracting bugs using standard messag parsing."
     ]
    },
    {
     "cell_type": "code",
     "collapsed": false,
     "input": [
      "from Git_Extract import parse_bugs\n",
      "import unicodedata\n",
      "for m in gerrit_bug_msg:\n",
      "    try:\n",
      "        m = unicodedata.normalize('NFKD', m).encode('ascii','ignore')\n",
      "        data = parse_bugs(str(m))\n",
      "        if data and len(data) > 0:\n",
      "            print data\n",
      "            print '-----------------'\n",
      "    except Exception:\n",
      "        print 'Exception:', type(m)\n",
      "        pp.pprint(m)\n",
      "        print '--------------'"
     ],
     "language": "python",
     "metadata": {},
     "outputs": [
      {
       "output_type": "stream",
       "stream": "stdout",
       "text": [
        "['915621']\n",
        "-----------------\n",
        "['823676']\n",
        "-----------------\n",
        "['1391840']\n",
        "-----------------\n",
        "['1298698']\n",
        "-----------------\n"
       ]
      }
     ],
     "prompt_number": 39
    },
    {
     "cell_type": "markdown",
     "metadata": {},
     "source": [
      "Look at messages containing launchpad URL"
     ]
    },
    {
     "cell_type": "code",
     "collapsed": false,
     "input": [
      "print 'Sample Messages containing Launchpad'\n",
      "print\n",
      "for m in gerrit_bug_msg[:3]:\n",
      "    if 'launchpad.net/bugs' in m.lower():\n",
      "        print m\n",
      "        print '-----------------'"
     ],
     "language": "python",
     "metadata": {},
     "outputs": [
      {
       "output_type": "stream",
       "stream": "stdout",
       "text": [
        "Sample Messages containing Launchpad\n",
        "\n",
        "Patch Set 2:\n",
        "\n",
        "I noticed jenkins failed, I think you hit bug(s):\n",
        "\n",
        "- gate-tempest-dsvm-neutron-full: https://bugs.launchpad.net/bugs/1410982\n",
        "\n",
        "If you believe we've correctly identified the failure, feel free to leave a 'recheck' comment to run the tests again.\n",
        "For more details on this and other bugs, please see http://status.openstack.org/elastic-recheck/\n",
        "-----------------\n"
       ]
      }
     ],
     "prompt_number": 40
    },
    {
     "cell_type": "code",
     "collapsed": false,
     "input": [
      "count = 0\n",
      "for m in gerrit_bug_msg:\n",
      "    if 'launchpad.net/bugs' in m.lower():\n",
      "        count += 1\n",
      "        \n",
      "print 'Total Messages containing Launchpad:', count"
     ],
     "language": "python",
     "metadata": {},
     "outputs": [
      {
       "output_type": "stream",
       "stream": "stdout",
       "text": [
        "Total Messages containing Launchpad: 207\n"
       ]
      }
     ],
     "prompt_number": 41
    },
    {
     "cell_type": "heading",
     "level": 6,
     "metadata": {},
     "source": [
      "Conclusion:  Unclear how to extract additional Launchpad data in Gerrit using messages only."
     ]
    },
    {
     "cell_type": "heading",
     "level": 3,
     "metadata": {},
     "source": [
      "Now look at commit information in Gerrit"
     ]
    },
    {
     "cell_type": "code",
     "collapsed": false,
     "input": [
      "print 'Sample Messages containing commit'\n",
      "print\n",
      "for m in gerrit_commit_msg[:5]:\n",
      "    print m\n",
      "    print '-----------------'"
     ],
     "language": "python",
     "metadata": {},
     "outputs": [
      {
       "output_type": "stream",
       "stream": "stdout",
       "text": [
        "Sample Messages containing commit\n",
        "\n",
        "Patch Set 9: Commit message was updated\n",
        "-----------------\n",
        "Patch Set 9:\n",
        "\n",
        "Thanks for updating the commit message, Ian!\n",
        "-----------------\n",
        "Patch Set 3: Code-Review+1\n",
        "\n",
        "Even better with an updated commit message.\n",
        "-----------------\n",
        "Patch Set 5: Commit message was updated\n",
        "-----------------\n",
        "Patch Set 5:\n",
        "\n",
        "Thanks for you updating on commit message.\n",
        "\n",
        "According to \"Even if the policy.json file exists before it is loaded (which it almost always does) the rules that were loaded by glance.api.policy.Enforcer were always glance.openstack.common.policy.TrueCheck instances.\", is it a issue in policy.Enforcer or only for testing you fixed here?\n",
        "-----------------\n"
       ]
      }
     ],
     "prompt_number": 42
    },
    {
     "cell_type": "heading",
     "level": 6,
     "metadata": {},
     "source": [
      "Conclusion:  Gerrit messages with 'Commit' do not appear to contain useful info for join"
     ]
    },
    {
     "cell_type": "code",
     "collapsed": false,
     "input": [],
     "language": "python",
     "metadata": {},
     "outputs": []
    }
   ],
   "metadata": {}
  }
 ]
}