{
 "metadata": {
  "name": "",
  "signature": "sha256:08a6443c4bd5755cdb684fed0dd1f2c6de0e85313ad97fab30b51bb0d5d56c60"
 },
 "nbformat": 3,
 "nbformat_minor": 0,
 "worksheets": [
  {
   "cells": [
    {
     "cell_type": "markdown",
     "metadata": {},
     "source": [
      "#Python Feature Extraction\n",
      "\n",
      "This notebook prototypes the integration of PythonDiff and Python Feature Extraction into overall GitAnalysis Code\n",
      "\n",
      "Radon: http://radon.readthedocs.org/en/latest/index.html\n",
      "\n",
      "######Metrics:\n",
      "- Halstead: http://en.wikipedia.org/wiki/Halstead_complexity_measures\n",
      "- Cyclomatic Complexity (McCabe): http://en.wikipedia.org/wiki/Cyclomatic_complexity\n",
      "- Maintainability Index:\n",
      " - Concerns about MI: http://avandeursen.com/2014/08/29/think-twice-before-using-the-maintainability-index/\n",
      "- Per-function statement/expression/node depth  (my code)\n",
      "\n",
      "###Nomenclaure:\n",
      "- AST, ST - Abstract Syntax Tree  (from Python standard library)\n",
      "- HT - Hash Tree - AST annotates with signatures of each included element"
     ]
    },
    {
     "cell_type": "code",
     "collapsed": false,
     "input": [
      "from pprint import pprint\n",
      "\n",
      "\n",
      "import sys\n",
      "sys.path.append('./dev')\n",
      "\n",
      "from language_feature import test_all_git_commits"
     ],
     "language": "python",
     "metadata": {},
     "outputs": [],
     "prompt_number": 1
    },
    {
     "cell_type": "heading",
     "level": 1,
     "metadata": {},
     "source": [
      "Code"
     ]
    },
    {
     "cell_type": "heading",
     "level": 3,
     "metadata": {},
     "source": [
      "Display Diff Result"
     ]
    },
    {
     "cell_type": "heading",
     "level": 1,
     "metadata": {},
     "source": [
      "Current Code"
     ]
    },
    {
     "cell_type": "code",
     "collapsed": false,
     "input": [
      "#foo = test_all_git_commits('nova', limit = 1, verbose=False, skip=10)\n",
      "#foo = test_all_git_commits('glance', skip=2850, verbose=False)\n",
      "foo = test_all_git_commits('test', limit = 10, verbose=False)"
     ],
     "language": "python",
     "metadata": {},
     "outputs": [
      {
       "output_type": "stream",
       "stream": "stdout",
       "text": [
        "CID: a81a672c4fff232c8c2a41bcaa7de94e886e53cd\n"
       ]
      },
      {
       "output_type": "stream",
       "stream": "stdout",
       "text": [
        "CID: fdd322b990326e911956c8eb5eb07d16d12825f0\n"
       ]
      },
      {
       "output_type": "stream",
       "stream": "stdout",
       "text": [
        "\n",
        "A: bb9f2b9afe40c588d0c2c994c5f30a9499e0bf39 test.py\n",
        "B: 0000000000000000000000000000000000000000"
       ]
      },
      {
       "output_type": "stream",
       "stream": "stdout",
       "text": [
        " CID: bd6e9fcfb1eaa06e414d0a52e1b5f31544529f12\n"
       ]
      },
      {
       "output_type": "stream",
       "stream": "stdout",
       "text": [
        "CID: b747ef6489cc40d47711a1c9f86ea98a694da4a6\n"
       ]
      },
      {
       "output_type": "stream",
       "stream": "stdout",
       "text": [
        "\n",
        "A: 93119f8fbcde97a6e86d91419b5fabe775aea4c0 test2.py\n",
        "B: 0000000000000000000000000000000000000000"
       ]
      },
      {
       "output_type": "stream",
       "stream": "stdout",
       "text": [
        " CID: aaf62eaeeba297e4053d1be459009f758db1e73b\n"
       ]
      },
      {
       "output_type": "stream",
       "stream": "stdout",
       "text": [
        "CID: 1db080651bce0ac04eb4771ea813e26d7b7a86f6\n"
       ]
      },
      {
       "output_type": "stream",
       "stream": "stdout",
       "text": [
        "CID: d496dd7179d03666894c50ab0e6f5f79c5930567\n"
       ]
      }
     ],
     "prompt_number": 2
    },
    {
     "cell_type": "code",
     "collapsed": false,
     "input": [
      "%debug"
     ],
     "language": "python",
     "metadata": {},
     "outputs": [
      {
       "output_type": "stream",
       "stream": "stderr",
       "text": [
        "ERROR: No traceback has been produced, nothing to debug.\n"
       ]
      }
     ],
     "prompt_number": 3
    },
    {
     "cell_type": "code",
     "collapsed": false,
     "input": [],
     "language": "python",
     "metadata": {},
     "outputs": [],
     "prompt_number": 3
    }
   ],
   "metadata": {}
  }
 ]
}