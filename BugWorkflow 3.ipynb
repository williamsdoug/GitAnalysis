{
 "metadata": {
  "name": "",
  "signature": "sha256:721a3fd248786790d0612f3b95c973ae21c7e44e4e953088516c844d7290bca8"
 },
 "nbformat": 3,
 "nbformat_minor": 0,
 "worksheets": [
  {
   "cells": [
    {
     "cell_type": "markdown",
     "metadata": {},
     "source": [
      "#Bug Workflow Part 3 -- Generation of guilt\n",
      "####Author:  Doug Williams, Copyright 2015\n",
      "\n",
      "####Updated: 3-Mar-2015\n",
      "\n",
      "###Issues:\n",
      "- Explore missing blame\n",
      "- Currently ignoring legacy commits\n",
      "- How should we handle blueprint commits?\n",
      "- Should we treat different A/C as a feature?, may call it sponsor(c)\n",
      "\n",
      "\n",
      "###Findings:\n",
      "- For FF Commits, comput blame against parent of commit\n",
      "- For Simple Merge Commits, comput blame against mainline commit's parent\n",
      "- For complex commits, compute blame against parent of commit with bug fix.\n"
     ]
    },
    {
     "cell_type": "code",
     "collapsed": false,
     "input": [
      "%matplotlib inline\n",
      "import matplotlib.pyplot as plt\n",
      "\n",
      "import pprint as pp\n",
      "import re\n",
      "import collections\n",
      "import datetime\n",
      "from datetime import date\n",
      "\n",
      "import sys\n",
      "sys.path.append('./dev')"
     ],
     "language": "python",
     "metadata": {},
     "outputs": [],
     "prompt_number": 1
    },
    {
     "cell_type": "code",
     "collapsed": false,
     "input": [
      "from commit_analysis import load_all_analysis_data\n",
      "\n",
      "from BugFixWorkflow import import_all_bugs\n",
      "from BugFixWorkflow import build_all_guilt\n",
      "from BugFixWorkflow import annotate_guilt\n",
      "from BugFixWorkflow import find_legacy_cutoff"
     ],
     "language": "python",
     "metadata": {},
     "outputs": [],
     "prompt_number": 2
    },
    {
     "cell_type": "code",
     "collapsed": false,
     "input": [
      "from BugFixWorkflow import annotate_commit_reachability"
     ],
     "language": "python",
     "metadata": {},
     "outputs": [],
     "prompt_number": 3
    },
    {
     "cell_type": "code",
     "collapsed": false,
     "input": [
      "# PROJECT = 'nova'\n",
      "# PROJECT = 'swift'\n",
      "# PROJECT = 'cinder'\n",
      "# PROJECT = 'heat'\n",
      "PROJECT = 'glance'\n",
      "\n",
      "UPDATE_CORPUS = True\n",
      "BUILD_CORPUS = False\n",
      "\n",
      "cgit_url = 'http://git.openstack.org/cgit/openstack/' + PROJECT + '/commit/?id='\n",
      "cgit_suffix = '&context=1&ignorews=0&ss=0'"
     ],
     "language": "python",
     "metadata": {},
     "outputs": [],
     "prompt_number": 4
    },
    {
     "cell_type": "code",
     "collapsed": false,
     "input": [
      "# Note:  Currently unused\n",
      "\n",
      "BUG_WEIGHT_VALUES = {\n",
      "    'Critical': 4,\n",
      "    'High': 3,\n",
      "    'Medium': 2,\n",
      "    'Low': 1,\n",
      "    'Wishlist': 0,\n",
      "    'Unknown': 0,\n",
      "    'Undecided': 0,\n",
      "}"
     ],
     "language": "python",
     "metadata": {},
     "outputs": [],
     "prompt_number": 5
    },
    {
     "cell_type": "heading",
     "level": 1,
     "metadata": {},
     "source": [
      "Code"
     ]
    },
    {
     "cell_type": "raw",
     "metadata": {},
     "source": [
      "def annotate_guilt(guilt_data, commits, limit=-1):\n",
      "    \"\"\" \"\"\"\n",
      "    for k, c in commits.items():  # Initialize\n",
      "        c['guilt'] = 0.0\n",
      "    \n",
      "    for entry in guilt_data:\n",
      "        if not entry['blame']:   # skip empty entries\n",
      "            continue\n",
      "        limit -= 1\n",
      "        if limit == 0:\n",
      "            break\n",
      "            \n",
      "        #pp.pprint(entry)\n",
      "        for commit_key, guilt in blame_compute_normalized_guilt(entry).items():\n",
      "            commits[commit_key]['guilt'] += guilt"
     ]
    },
    {
     "cell_type": "raw",
     "metadata": {},
     "source": [
      "from BugFixWorkflow import find_legacy_cutoff\n",
      "from BugFixWorkflow import annotate_children\n",
      "from BugFixWorkflow import annotate_cherry_pick\n",
      "from BugFixWorkflow import collect_all_bug_fix_commits\n",
      "from BugFixWorkflow import find_missing_guilt_data\n",
      "\n",
      "def build_all_guilt(project, combined_commits, clear_cache=False):\n",
      "    \"\"\"Top level routine for Merge processing and guilt annotation\"\"\"\n",
      "    importance = 'low+'\n",
      "    \n",
      "    print 'Determining lexacy cut-off'\n",
      "    legacy_cutoff = find_legacy_cutoff(combined_commits)\n",
      "    \n",
      "    # annotate_blueprints(commits)        \n",
      "    # foo = find_blueprint_in_bugs(all_bugs, limit=100000)\n",
      "    print\n",
      "    print 'Determining commit parent/child relationships'\n",
      "    annotate_children(combined_commits)\n",
      "    \n",
      "    print\n",
      "    print 'Identifying cherry-pick commits'\n",
      "    annotate_cherry_pick(combined_commits)\n",
      "\n",
      "    print\n",
      "    print 'Collecting data on commits with bug fixes'\n",
      "    guilt_data = collect_all_bug_fix_commits(combined_commits,\n",
      "                                             importance,\n",
      "                                             legacy_cutoff,\n",
      "                                             limit=-1)\n",
      "\n",
      "    print\n",
      "    print 'Computing Blame'\n",
      "    compute_all_blame(project, guilt_data, combined_commits, clear_cache=clear_cache)\n",
      "    print\n",
      "    \n",
      "    missing_guilt_data = find_missing_guilt_data(guilt_data)\n",
      "    if len(missing_guilt_data) > 0:\n",
      "        print\n",
      "        print 'Warning: Entries with missing guilt data:', len(missing_guilt_data)\n",
      "\n",
      "    print\n",
      "    print 'Annotating Guilt'  \n",
      "    #annotate_guilt(guilt_data, combined_commits)   \n",
      "\n",
      "    return guilt_data"
     ]
    },
    {
     "cell_type": "heading",
     "level": 1,
     "metadata": {},
     "source": [
      "Load Data"
     ]
    },
    {
     "cell_type": "code",
     "collapsed": false,
     "input": [
      "if False:    # Only rebuilds combined_commits\n",
      "    from commit_analysis import rebuild_all_analysis_data\n",
      "    rebuild_all_analysis_data(PROJECT, update=True, download=False)\n",
      "\n",
      "if False:   # Updates data, then rebuilds combined_commits\n",
      "    from commit_analysis import rebuild_all_analysis_data\n",
      "    rebuild_all_analysis_data(PROJECT, update=True)"
     ],
     "language": "python",
     "metadata": {},
     "outputs": [],
     "prompt_number": 6
    },
    {
     "cell_type": "code",
     "collapsed": false,
     "input": [
      "all_bugs, all_changes, \\\n",
      "all_change_details, \\\n",
      "commits, combined_commits, all_blame = load_all_analysis_data(PROJECT)\n",
      "\n",
      "import_all_bugs(all_bugs)"
     ],
     "language": "python",
     "metadata": {},
     "outputs": [
      {
       "output_type": "stream",
       "stream": "stdout",
       "text": [
        "loading bug data\n",
        "  total LP bugs:"
       ]
      },
      {
       "output_type": "stream",
       "stream": "stdout",
       "text": [
        " 1252\n",
        "  Entries annotated: 924\n",
        "loading Git commit data\n",
        "  total git_commits:"
       ]
      },
      {
       "output_type": "stream",
       "stream": "stdout",
       "text": [
        " 4198\n",
        "  actual commits: 1978\n",
        "  pruned commits: 2220\n",
        "  bug fix commits: 1037\n",
        "  commits with change_id: 1882\n",
        "  bug fix with change_id: 970\n",
        "loading change data\n",
        "  total gerrit changes with detail:"
       ]
      },
      {
       "output_type": "stream",
       "stream": "stdout",
       "text": [
        " 2102\n",
        "  all_change_details: 2102\n",
        "  total gerrit changes:"
       ]
      },
      {
       "output_type": "stream",
       "stream": "stdout",
       "text": [
        " 2103\n",
        "  all_changes: 2103\n",
        "combined_commits:"
       ]
      },
      {
       "output_type": "stream",
       "stream": "stdout",
       "text": [
        " 4198\n",
        "all blame:"
       ]
      },
      {
       "output_type": "stream",
       "stream": "stdout",
       "text": [
        " 776\n"
       ]
      }
     ],
     "prompt_number": 7
    },
    {
     "cell_type": "code",
     "collapsed": false,
     "input": [
      "legacy_cutoff = find_legacy_cutoff(combined_commits)"
     ],
     "language": "python",
     "metadata": {},
     "outputs": [],
     "prompt_number": 8
    },
    {
     "cell_type": "heading",
     "level": 1,
     "metadata": {},
     "source": [
      "Identify Bug Fixes along Mainline"
     ]
    },
    {
     "cell_type": "code",
     "collapsed": false,
     "input": [
      "if True:\n",
      "    guilt_data = build_all_guilt(PROJECT, combined_commits, clear_cache=False, apply_guilt=True)\n",
      "    # annotate_guilt(guilt_data, combined_commits)  # currently called from above\n",
      "\n",
      "    # Use git_blame to tag commits for inclusion in feature set\n",
      "    annotate_commit_reachability(PROJECT, combined_commits, sampling_freq=1000)"
     ],
     "language": "python",
     "metadata": {},
     "outputs": [
      {
       "output_type": "stream",
       "stream": "stdout",
       "text": [
        "Identify reachable commits\n",
        "    Samples: 2\n",
        "."
       ]
      },
      {
       "output_type": "stream",
       "stream": "stdout",
       "text": [
        " .\n",
        "Reachable commits: 1184\n"
       ]
      }
     ],
     "prompt_number": 12
    },
    {
     "cell_type": "heading",
     "level": 1,
     "metadata": {},
     "source": [
      "Explore Guilt distribution"
     ]
    },
    {
     "cell_type": "code",
     "collapsed": false,
     "input": [
      "all_guilty = [k for k, c in combined_commits.items()\n",
      "             if c['guilt'] > 0.0]\n",
      "guilt_on_master_branch = [k for k, c in combined_commits.items()\n",
      "                          if c['on_master_branch'] and c['guilt'] > 0.0]\n",
      "non_guilty_on_master_branch = [k for k, c in combined_commits.items()\n",
      "                               if c['on_master_branch'] and c['guilt'] == 0.0]\n",
      "reachable_non_guilty_on_master_branch = [k for k, c in combined_commits.items()\n",
      "                                         if c['on_master_branch'] and c['reachable']\n",
      "                                         and c['guilt'] == 0.0]\n",
      "guilt_off_master_branch = [k for k, c in combined_commits.items()\n",
      "                           if not c['on_master_branch'] and c['guilt'] > 0.0]\n",
      "\n",
      "guilt_on_mainline = [k for k, c in combined_commits.items()\n",
      "                     if c['on_master_branch'] and c['on_mainline']\n",
      "                     and c['guilt'] > 0.0]\n",
      "non_guilt_on_mainline = [k for k, c in combined_commits.items()\n",
      "                         if c['on_master_branch'] and c['on_mainline']\n",
      "                         and c['guilt'] == 0.0]\n",
      "guilt_off_mainline = [k for k, c in combined_commits.items()\n",
      "                      if c['on_master_branch']\n",
      "                      and not c['on_mainline']\n",
      "                      and c['guilt'] > 0.0]\n",
      "non_guilt_off_mainline = [k for k, c in combined_commits.items()\n",
      "                          if c['on_master_branch']\n",
      "                          and not c['on_mainline']\n",
      "                          and c['guilt'] == 0.0]\n",
      "\n",
      "guilt_on_mainline_with_changeid = [k for k, c in combined_commits.items()\n",
      "                                   if c['on_master_branch'] and c['on_mainline']\n",
      "                                   and 'change_id' in c\n",
      "                                   and c['guilt'] > 0.0]\n",
      "guilt_off_mainline_with_changeid = [k for k, c in combined_commits.items()\n",
      "                                   if c['on_master_branch'] and not c['on_mainline']\n",
      "                                   and 'change_id' in c\n",
      "                                   and c['guilt'] > 0.0]\n",
      "guilt_on_mainline_without_changeid = [k for k, c in combined_commits.items()\n",
      "                                   if c['on_master_branch'] and c['on_mainline']\n",
      "                                   and ('change_id' not in c or not c['change_id'])\n",
      "                                   and c['guilt'] > 0.0]\n",
      "guilt_off_mainline_without_change_id = [k for k, c in combined_commits.items()\n",
      "                                   if c['on_master_branch'] and not c['on_mainline']\n",
      "                                   and ('change_id' not in c or not c['change_id'])\n",
      "                                   and c['guilt'] > 0.0]\n",
      "\n",
      "non_leg_guilt_on_mainline_with_changeid = [k for k, c in combined_commits.items()\n",
      "                                   if c['on_master_branch'] and c['on_mainline']\n",
      "                                   and 'change_id' in c\n",
      "                                   and c['date'] > legacy_cutoff\n",
      "                                   and c['guilt'] > 0.0]\n",
      "non_leg_guilt_off_mainline_with_changeid = [k for k, c in combined_commits.items()\n",
      "                                   if c['on_master_branch'] and not c['on_mainline']\n",
      "                                   and 'change_id' in c\n",
      "                                   and c['date'] > legacy_cutoff\n",
      "                                   and c['guilt'] > 0.0]\n",
      "non_leg_guilt_off_mainline_without_change_id = [k for k, c in combined_commits.items()\n",
      "                                   if c['on_master_branch'] and not c['on_mainline']\n",
      "                                   and ('change_id' not in c or not c['change_id'])\n",
      "                                   and c['date'] > legacy_cutoff\n",
      "                                   and c['guilt'] > 0.0]\n",
      "\n",
      "leg_guilt_off_mainline_without_change_id = [k for k, c in combined_commits.items()\n",
      "                                   if c['on_master_branch'] and not c['on_mainline']\n",
      "                                   and ('change_id' not in c or not c['change_id'])\n",
      "                                   and c['date'] < legacy_cutoff\n",
      "                                   and c['guilt'] > 0.0]\n",
      "non_leg_guilt_off_mainline_without_change_id = [k for k, c in combined_commits.items()\n",
      "                                   if c['on_master_branch'] and not c['on_mainline']\n",
      "                                   and ('change_id' not in c or not c['change_id'])\n",
      "                                   and c['date'] > legacy_cutoff\n",
      "                                   and c['guilt'] > 0.0]"
     ],
     "language": "python",
     "metadata": {},
     "outputs": [],
     "prompt_number": 10
    },
    {
     "cell_type": "code",
     "collapsed": false,
     "input": [
      "print 'Guilty Commits', len(all_guilty)\n",
      "print\n",
      "print 'Master Branch:'\n",
      "print '  Guilty Commits on Master Branch', len(guilt_on_master_branch)\n",
      "print '  Non-Guilty Commits on Master Branch', len(non_guilty_on_master_branch)\n",
      "print '      Reachable Non-Guilty Commits on Master Branch', len(reachable_non_guilty_on_master_branch)\n",
      "print '      Unreachable Master Branch commits', len(non_guilty_on_master_branch) - len(reachable_non_guilty_on_master_branch)\n",
      "print '  Guilty Commits off Master Branch', len(guilt_off_master_branch)\n",
      "print\n",
      "print 'Mainline:'\n",
      "print '  Guilty Commits on Mainline', len(guilt_on_mainline)\n",
      "print '  Non-Guilty Commits on Mainline', len(non_guilt_on_mainline)\n",
      "print 'Off-Mainline:'\n",
      "print '  Guilty Commits off Mainline', len(guilt_off_mainline)\n",
      "print '  Non-Guilty Commits off Mainline', len(non_guilt_off_mainline)\n",
      "print\n",
      "print 'With Change_Id:'\n",
      "print '  Guilty Commits on Mainline with change_id', len(guilt_on_mainline_with_changeid)\n",
      "print '  Guilty Commits off Mainline with change_id', len(guilt_off_mainline_with_changeid)\n",
      "print 'Without Change-Id:'\n",
      "print '  Guilty Commits on Mainline without change_id', len(guilt_on_mainline_without_changeid)\n",
      "print '  Guilty Commits on Mainline without_change_id', len(guilt_off_mainline_without_change_id)\n",
      "print\n",
      "print 'Non-Legacy:'\n",
      "print '  Non-Legacy Guilty Commits on Mainline with change_id', len(non_leg_guilt_on_mainline_with_changeid)\n",
      "print '  Non-Legacy Guilty Commits off Mainline with change_id', len(non_leg_guilt_off_mainline_with_changeid)\n",
      "print '  Non-Legacy Guilty Commits on Mainline without_change_id', len(non_leg_guilt_off_mainline_without_change_id)\n",
      "print\n",
      "print 'Legacy vs non-legacy for off-mainline:'\n",
      "print '  Legacy Guilty Commits on Mainline without_change_id', len(leg_guilt_off_mainline_without_change_id)\n",
      "print '  Non-Legacy Guilty Commits on Mainline without_change_id', len(non_leg_guilt_off_mainline_without_change_id)"
     ],
     "language": "python",
     "metadata": {},
     "outputs": [
      {
       "output_type": "stream",
       "stream": "stdout",
       "text": [
        "Guilty Commits 1024\n",
        "\n",
        "Master Branch:\n",
        "  Guilty Commits on Master Branch 1024\n",
        "  Non-Guilty Commits on Master Branch 3097\n",
        "      Reachable Non-Guilty Commits on Master Branch 336\n",
        "      Unreachable Master Branch commits 2761\n",
        "  Guilty Commits off Master Branch 0\n",
        "\n",
        "Mainline:\n",
        "  Guilty Commits on Mainline 221\n",
        "  Non-Guilty Commits on Mainline 1757\n",
        "Off-Mainline:\n",
        "  Guilty Commits off Mainline 803\n",
        "  Non-Guilty Commits off Mainline 1340\n",
        "\n",
        "With Change_Id:\n",
        "  Guilty Commits on Mainline with change_id 221\n",
        "  Guilty Commits off Mainline with change_id 540\n",
        "Without Change-Id:\n",
        "  Guilty Commits on Mainline without change_id 0\n",
        "  Guilty Commits on Mainline without_change_id 263\n",
        "\n",
        "Non-Legacy:\n",
        "  Non-Legacy Guilty Commits on Mainline with change_id 221\n",
        "  Non-Legacy Guilty Commits off Mainline with change_id 540\n",
        "  Non-Legacy Guilty Commits on Mainline without_change_id 0\n",
        "\n",
        "Legacy vs non-legacy for off-mainline:\n",
        "  Legacy Guilty Commits on Mainline without_change_id 263\n",
        "  Non-Legacy Guilty Commits on Mainline without_change_id 0\n"
       ]
      }
     ],
     "prompt_number": 17
    },
    {
     "cell_type": "markdown",
     "metadata": {},
     "source": [
      "###Findings:\n",
      "- Guilty commits are always on the Master Branch\n",
      "- The majority of guilty commits are off the mainline\n",
      "- Guilty commits chage change_id, except for legacy\n",
      "- A large percentage of the non-guilty commits are unreachable"
     ]
    },
    {
     "cell_type": "markdown",
     "metadata": {},
     "source": [
      "#To Do: Add Ordering\n",
      "\n",
      "- Don't use legacy cut-off with annotate_commit_reachability() when establishing ordering\n",
      "- use legacy cut-off with annotate_commit_reachability() for feature selection "
     ]
    },
    {
     "cell_type": "code",
     "collapsed": false,
     "input": [
      "\n",
      "\n",
      "print '  Reachable Non-Guilty Commits on Master Branch', len(reachable_non_guilty_on_master_branch)"
     ],
     "language": "python",
     "metadata": {},
     "outputs": [
      {
       "output_type": "stream",
       "stream": "stdout",
       "text": [
        "   Reachable Non-Guilty Commits on Master Branch 336\n"
       ]
      }
     ],
     "prompt_number": 14
    },
    {
     "cell_type": "heading",
     "level": 1,
     "metadata": {},
     "source": [
      "To Do:  Investigate missing guilt"
     ]
    },
    {
     "cell_type": "code",
     "collapsed": false,
     "input": [],
     "language": "python",
     "metadata": {},
     "outputs": [],
     "prompt_number": 11
    },
    {
     "cell_type": "markdown",
     "metadata": {},
     "source": [
      "#Question:  Would Cherry Pick help with non-mainline commits ?\n",
      "\n",
      "- Conclusion:  It would only help in 5 out of 13 commits\n",
      "- Treat as low prioroity for now"
     ]
    },
    {
     "cell_type": "heading",
     "level": 1,
     "metadata": {},
     "source": [
      "Boneyard"
     ]
    }
   ],
   "metadata": {}
  }
 ]
}