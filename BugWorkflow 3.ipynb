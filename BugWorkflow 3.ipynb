{
 "metadata": {
  "name": "",
  "signature": "sha256:5eb39a3d806b9d65795c89b0ec8d4061b310b85bbace5e5cd086b3098defa11d"
 },
 "nbformat": 3,
 "nbformat_minor": 0,
 "worksheets": [
  {
   "cells": [
    {
     "cell_type": "markdown",
     "metadata": {},
     "source": [
      "#Bug Workflow Part 3 -- Generation of guilt\n",
      "####Author:  Doug Williams, Copyright 2015\n",
      "\n",
      "####Updated: 5-Mar-2015\n",
      "\n",
      "###Issues:\n",
      "- Currently ignoring legacy commits\n",
      "- How should we handle blueprint commits?\n",
      "- Should we treat different Author/Committer as a feature?, may call it sponsor(c)\n",
      "\n",
      "###Explored Issues:\n",
      "- Guilt distribution\n",
      " - Guilty commits are always on the Master Branch\n",
      " - Guilty commits have Change-Id except for legacy\n",
      " - A majority of guilty commits are off Mainline\n",
      "- Unreachable commits with guilt\n",
      " - Very few unreachable guilty commits\n",
      " - All have change_id\n",
      " - Number depends on granularity of sampling_freq (used 25)\n",
      "- Unreachable commits with Change-Id\n",
      " - Appears tp be mostly housekeeping commits\n",
      " - Should be safe to ignore\n",
      "- Cherry-pick commits\n",
      " - None of the cherry pick commits have any guilt in sample set\n",
      " - No reason to prune either commit, won't impact outcome\n",
      " - Might consider treating as a feature\n",
      "- Missing blame\n",
      " - Related to commits where files intentionally ignored\n",
      "  -- [Warning filter rule updated]\n",
      " - Consider removing relevance from this class of commits [To Do]\n",
      "\n",
      "###Design notes [verify still current]:\n",
      "- For FF Commits, compute blame against parent of commit\n",
      "- For Simple Merge Commits, compute blame against mainline commit's parent\n",
      "- For complex commits, compute blame against parent of commit with bug fix."
     ]
    },
    {
     "cell_type": "code",
     "collapsed": false,
     "input": [
      "%matplotlib inline\n",
      "import matplotlib.pyplot as plt\n",
      "\n",
      "import pprint as pp\n",
      "import re\n",
      "import collections\n",
      "import datetime\n",
      "from datetime import date\n",
      "\n",
      "import sys\n",
      "sys.path.append('./dev')\n",
      "from commit_analysis import load_all_analysis_data\n",
      "\n",
      "from BugFixWorkflow import import_all_bugs\n",
      "from BugFixWorkflow import build_all_guilt\n",
      "from BugFixWorkflow import annotate_guilt\n",
      "from BugFixWorkflow import find_legacy_cutoff\n",
      "from BugFixWorkflow import annotate_commit_reachability\n",
      "from BugFixWorkflow import prune_empty_commits\n",
      "from BugFixWorkflow import commit_postprocessing\n",
      "\n",
      "from Git_Extract import git_annotate_order\n",
      "from git_analysis_config import get_repo_name"
     ],
     "language": "python",
     "metadata": {},
     "outputs": [],
     "prompt_number": 1
    },
    {
     "cell_type": "code",
     "collapsed": false,
     "input": [
      "# PROJECT = 'nova'    # Verified\n",
      "# PROJECT = 'swift'   # Verified\n",
      "# PROJECT = 'cinder'  # Verified\n",
      "# PROJECT = 'heat'    # Verified\n",
      "PROJECT = 'glance'  # Verified\n",
      "\n",
      "USE_NEW_VERSION = True   # determines whether to use commit_postprocessing()\n",
      "#                          older version needed for missing guilt analysis\n",
      "\n",
      "UPDATE_CORPUS = True\n",
      "BUILD_CORPUS = False\n",
      "\n",
      "cgit_url = 'http://git.openstack.org/cgit/openstack/' + PROJECT + '/commit/?id='\n",
      "cgit_suffix = '&context=1&ignorews=0&ss=0'"
     ],
     "language": "python",
     "metadata": {},
     "outputs": [],
     "prompt_number": 2
    },
    {
     "cell_type": "code",
     "collapsed": false,
     "input": [
      "# Note:  Currently unused\n",
      "\n",
      "BUG_WEIGHT_VALUES = {\n",
      "    'Critical': 4,\n",
      "    'High': 3,\n",
      "    'Medium': 2,\n",
      "    'Low': 1,\n",
      "    'Wishlist': 0,\n",
      "    'Unknown': 0,\n",
      "    'Undecided': 0,\n",
      "}"
     ],
     "language": "python",
     "metadata": {},
     "outputs": [],
     "prompt_number": 3
    },
    {
     "cell_type": "heading",
     "level": 1,
     "metadata": {},
     "source": [
      "Code"
     ]
    },
    {
     "cell_type": "heading",
     "level": 1,
     "metadata": {},
     "source": [
      "Load Data"
     ]
    },
    {
     "cell_type": "code",
     "collapsed": false,
     "input": [
      "if False:    # Only rebuilds combined_commits\n",
      "    from commit_analysis import rebuild_all_analysis_data\n",
      "    rebuild_all_analysis_data(PROJECT, update=False, download=False)\n",
      "\n",
      "if False:   # Updates data, then rebuilds combined_commits\n",
      "    from commit_analysis import rebuild_all_analysis_data\n",
      "    rebuild_all_analysis_data(PROJECT, update=True)"
     ],
     "language": "python",
     "metadata": {},
     "outputs": [],
     "prompt_number": 4
    },
    {
     "cell_type": "code",
     "collapsed": false,
     "input": [
      "if USE_NEW_VERSION:\n",
      "    combined_commits = commit_postprocessing(PROJECT)\n",
      "    legacy_cutoff = find_legacy_cutoff(combined_commits)"
     ],
     "language": "python",
     "metadata": {},
     "outputs": [
      {
       "output_type": "stream",
       "stream": "stdout",
       "text": [
        "loading bug data\n",
        "  total LP bugs:"
       ]
      },
      {
       "output_type": "stream",
       "stream": "stdout",
       "text": [
        " 1252\n",
        "  Entries annotated: 924\n",
        "loading Git commit data\n",
        "  total git_commits:"
       ]
      },
      {
       "output_type": "stream",
       "stream": "stdout",
       "text": [
        " 4198\n",
        "  bug fix commits: 1037\n",
        "  commits with change_id: 1882\n",
        "  bug fix with change_id: 970\n",
        "loading change data\n",
        "  total gerrit changes with detail:"
       ]
      },
      {
       "output_type": "stream",
       "stream": "stdout",
       "text": [
        " 2102\n",
        "  all_change_details: 2102\n",
        "  total gerrit changes:"
       ]
      },
      {
       "output_type": "stream",
       "stream": "stdout",
       "text": [
        " 2103\n",
        "  all_changes: 2103\n",
        "combined_commits:"
       ]
      },
      {
       "output_type": "stream",
       "stream": "stdout",
       "text": [
        " 4198\n",
        "Determining legacy cut-off\n",
        "  Transition interval: 18:37:55\n",
        "  Parent of first_with: 3aa1701e076db88c445518ef8176f7151b5df5c3\n",
        "  Setting cutoff to: 04/08/2011\n",
        "Collecting data on commits with bug fixes\n",
        "  Mainline Commits ignored due to legacy:"
       ]
      },
      {
       "output_type": "stream",
       "stream": "stdout",
       "text": [
        " 180  out of: 1978\n",
        "  Total commite requiring blame computation: 808\n",
        "\n",
        "Computing Blame\n",
        "Loaded blame"
       ]
      },
      {
       "output_type": "stream",
       "stream": "stdout",
       "text": [
        "\n",
        "  Initial Blame cache size: 572\n",
        "  bug fix commits: 808\n",
        "."
       ]
      },
      {
       "output_type": "stream",
       "stream": "stdout",
       "text": [
        " . . . . "
       ]
      },
      {
       "output_type": "stream",
       "stream": "stdout",
       "text": [
        ". . "
       ]
      },
      {
       "output_type": "stream",
       "stream": "stdout",
       "text": [
        ". "
       ]
      },
      {
       "output_type": "stream",
       "stream": "stdout",
       "text": [
        ". . 100 "
       ]
      },
      {
       "output_type": "stream",
       "stream": "stdout",
       "text": [
        ". "
       ]
      },
      {
       "output_type": "stream",
       "stream": "stdout",
       "text": [
        ". "
       ]
      },
      {
       "output_type": "stream",
       "stream": "stdout",
       "text": [
        ". . "
       ]
      },
      {
       "output_type": "stream",
       "stream": "stdout",
       "text": [
        ". . "
       ]
      },
      {
       "output_type": "stream",
       "stream": "stdout",
       "text": [
        ". "
       ]
      },
      {
       "output_type": "stream",
       "stream": "stdout",
       "text": [
        ". "
       ]
      },
      {
       "output_type": "stream",
       "stream": "stdout",
       "text": [
        ". . 200 "
       ]
      },
      {
       "output_type": "stream",
       "stream": "stdout",
       "text": [
        ". . "
       ]
      },
      {
       "output_type": "stream",
       "stream": "stdout",
       "text": [
        ". "
       ]
      },
      {
       "output_type": "stream",
       "stream": "stdout",
       "text": [
        ". . . "
       ]
      },
      {
       "output_type": "stream",
       "stream": "stdout",
       "text": [
        ". . . "
       ]
      },
      {
       "output_type": "stream",
       "stream": "stdout",
       "text": [
        ". 300 . "
       ]
      },
      {
       "output_type": "stream",
       "stream": "stdout",
       "text": [
        ". "
       ]
      },
      {
       "output_type": "stream",
       "stream": "stdout",
       "text": [
        ". "
       ]
      },
      {
       "output_type": "stream",
       "stream": "stdout",
       "text": [
        ". . . . "
       ]
      },
      {
       "output_type": "stream",
       "stream": "stdout",
       "text": [
        ". "
       ]
      },
      {
       "output_type": "stream",
       "stream": "stdout",
       "text": [
        ". . 400 "
       ]
      },
      {
       "output_type": "stream",
       "stream": "stdout",
       "text": [
        ". . . "
       ]
      },
      {
       "output_type": "stream",
       "stream": "stdout",
       "text": [
        ". . "
       ]
      },
      {
       "output_type": "stream",
       "stream": "stdout",
       "text": [
        ". . . "
       ]
      },
      {
       "output_type": "stream",
       "stream": "stdout",
       "text": [
        ". . 500 . . "
       ]
      },
      {
       "output_type": "stream",
       "stream": "stdout",
       "text": [
        ". . "
       ]
      },
      {
       "output_type": "stream",
       "stream": "stdout",
       "text": [
        ". . "
       ]
      },
      {
       "output_type": "stream",
       "stream": "stdout",
       "text": [
        ". . "
       ]
      },
      {
       "output_type": "stream",
       "stream": "stdout",
       "text": [
        ". "
       ]
      },
      {
       "output_type": "stream",
       "stream": "stdout",
       "text": [
        ". 600 "
       ]
      },
      {
       "output_type": "stream",
       "stream": "stdout",
       "text": [
        ". . "
       ]
      },
      {
       "output_type": "stream",
       "stream": "stdout",
       "text": [
        ". . "
       ]
      },
      {
       "output_type": "stream",
       "stream": "stdout",
       "text": [
        ". "
       ]
      },
      {
       "output_type": "stream",
       "stream": "stdout",
       "text": [
        ". . "
       ]
      },
      {
       "output_type": "stream",
       "stream": "stdout",
       "text": [
        ". "
       ]
      },
      {
       "output_type": "stream",
       "stream": "stdout",
       "text": [
        ". . 700 "
       ]
      },
      {
       "output_type": "stream",
       "stream": "stdout",
       "text": [
        ". . . "
       ]
      },
      {
       "output_type": "stream",
       "stream": "stdout",
       "text": [
        ". "
       ]
      },
      {
       "output_type": "stream",
       "stream": "stdout",
       "text": [
        ". . . . "
       ]
      },
      {
       "output_type": "stream",
       "stream": "stdout",
       "text": [
        ". . 800\n",
        "  Saving updated Blame Cache\n",
        "\n"
       ]
      },
      {
       "output_type": "stream",
       "stream": "stdout",
       "text": [
        "Annotating Guilt\n",
        "Identify reachable commits"
       ]
      },
      {
       "output_type": "stream",
       "stream": "stdout",
       "text": [
        "\n",
        "  Loaded cached reachability data"
       ]
      },
      {
       "output_type": "stream",
       "stream": "stdout",
       "text": [
        "\n",
        "  Initial Reachable cache size: 73\n",
        "  Samples: 73\n",
        "  Revised samples: 0\n",
        "\n",
        "  Reachable commits: 1526\n"
       ]
      }
     ],
     "prompt_number": 5
    },
    {
     "cell_type": "code",
     "collapsed": false,
     "input": [
      "if not USE_NEW_VERSION:\n",
      "    all_bugs, all_changes, \\\n",
      "    all_change_details, \\\n",
      "    commits, combined_commits = load_all_analysis_data(PROJECT)\n",
      "\n",
      "    import_all_bugs(all_bugs)\n",
      "\n",
      "    project = PROJECT\n",
      "    \n",
      "    guilt_data = build_all_guilt(project, combined_commits, clear_cache=False, apply_guilt=True)\n",
      "    # annotate_guilt(guilt_data, combined_commits)  # currently called from above\n",
      "\n",
      "    # Use git_blame to tag commits for inclusion in feature set\n",
      "    annotate_commit_reachability(project, combined_commits, sampling_freq=25)\n",
      "    legacy_cutoff = find_legacy_cutoff(combined_commits)\n",
      "    if True:\n",
      "        prune_empty_commits(combined_commits, legacy_cutoff)\n",
      "\n",
      "    git_annotate_order(combined_commits, get_repo_name(project))"
     ],
     "language": "python",
     "metadata": {},
     "outputs": [],
     "prompt_number": 6
    },
    {
     "cell_type": "heading",
     "level": 1,
     "metadata": {},
     "source": [
      "Explore Guilt distribution"
     ]
    },
    {
     "cell_type": "code",
     "collapsed": false,
     "input": [
      "all_guilty = [k for k, c in combined_commits.items()\n",
      "             if c['guilt'] > 0.0]\n",
      "guilt_on_master_branch = [k for k, c in combined_commits.items()\n",
      "                          if c['on_master_branch'] and c['guilt'] > 0.0]\n",
      "non_guilty_on_master_branch = [k for k, c in combined_commits.items()\n",
      "                               if c['on_master_branch'] and c['guilt'] == 0.0]\n",
      "\n",
      "guilt_off_master_branch = [k for k, c in combined_commits.items()\n",
      "                           if not c['on_master_branch'] and c['guilt'] > 0.0]\n",
      "\n",
      "guilt_on_mainline = [k for k, c in combined_commits.items()\n",
      "                     if c['on_master_branch'] and c['on_mainline']\n",
      "                     and c['guilt'] > 0.0]\n",
      "non_guilt_on_mainline = [k for k, c in combined_commits.items()\n",
      "                         if c['on_master_branch'] and c['on_mainline']\n",
      "                         and c['guilt'] == 0.0]\n",
      "guilt_off_mainline = [k for k, c in combined_commits.items()\n",
      "                      if c['on_master_branch']\n",
      "                      and not c['on_mainline']\n",
      "                      and c['guilt'] > 0.0]\n",
      "non_guilt_off_mainline = [k for k, c in combined_commits.items()\n",
      "                          if c['on_master_branch']\n",
      "                          and not c['on_mainline']\n",
      "                          and c['guilt'] == 0.0]\n",
      "\n",
      "guilt_on_mainline_with_changeid = [k for k, c in combined_commits.items()\n",
      "                                   if c['on_master_branch'] and c['on_mainline']\n",
      "                                   and 'change_id' in c and c['change_id']\n",
      "                                   and c['guilt'] > 0.0]\n",
      "guilt_off_mainline_with_changeid = [k for k, c in combined_commits.items()\n",
      "                                   if c['on_master_branch'] and not c['on_mainline']\n",
      "                                   and 'change_id' in c and c['change_id']\n",
      "                                   and c['guilt'] > 0.0]\n",
      "guilt_on_mainline_without_changeid = [k for k, c in combined_commits.items()\n",
      "                                   if c['on_master_branch'] and c['on_mainline']\n",
      "                                   and ('change_id' not in c or not c['change_id'])\n",
      "                                   and c['guilt'] > 0.0]\n",
      "guilt_off_mainline_without_change_id = [k for k, c in combined_commits.items()\n",
      "                                   if c['on_master_branch'] and not c['on_mainline']\n",
      "                                   and ('change_id' not in c or not c['change_id'])\n",
      "                                   and c['guilt'] > 0.0]\n",
      "\n",
      "non_leg_guilt_on_mainline_with_changeid = [k for k, c in combined_commits.items()\n",
      "                                   if c['on_master_branch'] and c['on_mainline']\n",
      "                                   and 'change_id' in c and c['change_id']\n",
      "                                   and c['date'] > legacy_cutoff\n",
      "                                   and c['guilt'] > 0.0]\n",
      "non_leg_guilt_off_mainline_with_changeid = [k for k, c in combined_commits.items()\n",
      "                                   if c['on_master_branch'] and not c['on_mainline']\n",
      "                                   and 'change_id' in c and c['change_id']\n",
      "                                   and c['date'] > legacy_cutoff\n",
      "                                   and c['guilt'] > 0.0]\n",
      "non_leg_guilt_off_mainline_without_change_id = [k for k, c in combined_commits.items()\n",
      "                                   if c['on_master_branch'] and not c['on_mainline']\n",
      "                                   and ('change_id' not in c or not c['change_id'])\n",
      "                                   and c['date'] > legacy_cutoff\n",
      "                                   and c['guilt'] > 0.0]\n",
      "\n",
      "leg_guilt_off_mainline_without_change_id = [k for k, c in combined_commits.items()\n",
      "                                   if c['on_master_branch'] and not c['on_mainline']\n",
      "                                   and ('change_id' not in c or not c['change_id'])\n",
      "                                   and c['date'] < legacy_cutoff\n",
      "                                   and c['guilt'] > 0.0]\n",
      "non_leg_guilt_off_mainline_without_change_id = [k for k, c in combined_commits.items()\n",
      "                                   if c['on_master_branch'] and not c['on_mainline']\n",
      "                                   and ('change_id' not in c or not c['change_id'])\n",
      "                                   and c['date'] > legacy_cutoff\n",
      "                                   and c['guilt'] > 0.0]"
     ],
     "language": "python",
     "metadata": {},
     "outputs": [],
     "prompt_number": 7
    },
    {
     "cell_type": "code",
     "collapsed": false,
     "input": [
      "print 'Guilty Commits', len(all_guilty)\n",
      "print\n",
      "print 'Master Branch:'\n",
      "print '  Guilty Commits    ', len(guilt_on_master_branch)\n",
      "print '  Non-Guilty Commits', len(non_guilty_on_master_branch)\n",
      "print 'Off Master Branch:'\n",
      "print '  Guilty Commits    ', len(guilt_off_master_branch)\n",
      "print\n",
      "print 'Mainline:'\n",
      "print '  Guilty Commits    ', len(guilt_on_mainline)\n",
      "print '  Non-Guilty Commits', len(non_guilt_on_mainline)\n",
      "print 'Off-Mainline:'\n",
      "print '  Guilty Commits    ', len(guilt_off_mainline)\n",
      "print '  Non-Guilty Commits', len(non_guilt_off_mainline)\n",
      "print\n",
      "print 'Guilty with Change_Id:'\n",
      "print '  On Mainline ', len(guilt_on_mainline_with_changeid)\n",
      "print '  Off Mainline', len(guilt_off_mainline_with_changeid)\n",
      "print 'Guilty without Change-Id:'\n",
      "print '  On Mainline ', len(guilt_on_mainline_without_changeid)\n",
      "print '  Off Mainline', len(guilt_off_mainline_without_change_id)\n",
      "print '    Legacy    ', len(leg_guilt_off_mainline_without_change_id)\n",
      "print '    Non-Legacy', len(non_leg_guilt_off_mainline_without_change_id)\n",
      "print\n",
      "print 'Non-Legacy Guilty Commits:'\n",
      "print '  On Mainline with change_id   ', len(non_leg_guilt_on_mainline_with_changeid)\n",
      "print '  Off Mainline with change_id  ', len(non_leg_guilt_off_mainline_with_changeid)\n",
      "print '  Off Mainline without_change_id', len(non_leg_guilt_off_mainline_without_change_id)"
     ],
     "language": "python",
     "metadata": {},
     "outputs": [
      {
       "output_type": "stream",
       "stream": "stdout",
       "text": [
        "Guilty Commits 1024\n",
        "\n",
        "Master Branch:\n",
        "  Guilty Commits     1024\n",
        "  Non-Guilty Commits 3097\n",
        "Off Master Branch:\n",
        "  Guilty Commits     0\n",
        "\n",
        "Mainline:\n",
        "  Guilty Commits     221\n",
        "  Non-Guilty Commits 1757\n",
        "Off-Mainline:\n",
        "  Guilty Commits     803\n",
        "  Non-Guilty Commits 1340\n",
        "\n",
        "Guilty with Change_Id:\n",
        "  On Mainline  221\n",
        "  Off Mainline 540\n",
        "Guilty without Change-Id:\n",
        "  On Mainline  0\n",
        "  Off Mainline 263\n",
        "    Legacy     263\n",
        "    Non-Legacy 0\n",
        "\n",
        "Non-Legacy Guilty Commits:\n",
        "  On Mainline with change_id    221\n",
        "  Off Mainline with change_id   540\n",
        "  Off Mainline without_change_id 0\n"
       ]
      }
     ],
     "prompt_number": 8
    },
    {
     "cell_type": "markdown",
     "metadata": {},
     "source": [
      "###Findings:\n",
      "- Guilty commits are always on the Master Branch\n",
      "- Guilty commits have Change-Id except for legacy\n",
      "- A majority of guilty commits are off Mainline"
     ]
    },
    {
     "cell_type": "heading",
     "level": 3,
     "metadata": {},
     "source": [
      "Look at guilty commits flagged as non-reachable"
     ]
    },
    {
     "cell_type": "code",
     "collapsed": false,
     "input": [
      "reachable_commits = [k for k, c in combined_commits.items() if c['reachable']]\n",
      "\n",
      "guilty_reachable_commits = [k for k, c in combined_commits.items()\n",
      "                            if c['reachable'] and c['guilt'] > 0.0]\n",
      "non_guilty_reachable_commits = [k for k, c in combined_commits.items()\n",
      "                                if c['reachable']and c['guilt'] == 0.0]\n",
      "\n",
      "guilty_non_reachable_commits = [k for k, c in combined_commits.items()\n",
      "                                if not c['reachable'] and c['guilt'] > 0.0]\n",
      "non_guilty_non_reachable_commits = [k for k, c in combined_commits.items()\n",
      "                                    if not c['reachable'] and c['guilt'] == 0.0]\n",
      "\n",
      "guilty_non_reachable_commits_legacy = [k for k, c in combined_commits.items()\n",
      "                                       if not c['reachable']\n",
      "                                       and c['date'] < legacy_cutoff \n",
      "                                       and c['guilt'] > 0.0]\n",
      "guilty_non_reachable_commits_non_legacy = [k for k, c in combined_commits.items()\n",
      "                                       if not c['reachable']\n",
      "                                       and c['date'] > legacy_cutoff \n",
      "                                       and c['guilt'] > 0.0]\n",
      "guilty_non_reachable_commits_non_legacy_with_changeid = [k for k, c in combined_commits.items()\n",
      "                                       if not c['reachable']\n",
      "                                       and ('change_id' in c and c['change_id'])\n",
      "                                       and c['date'] > legacy_cutoff \n",
      "                                       and c['guilt'] > 0.0]\n",
      "\n",
      "non_reachable_commits_non_legacy_with_changeid = [k for k, c in combined_commits.items()\n",
      "                                       if not c['reachable']\n",
      "                                       and ('change_id' in c and c['change_id'])\n",
      "                                       and c['date'] > legacy_cutoff]\n",
      "\n",
      "non_reachable_commits_non_legacy_with_changeid_and_files = [k for k, c in combined_commits.items()\n",
      "                                       if not c['reachable']\n",
      "                                       and ('change_id' in c and c['change_id'])\n",
      "                                       and c['date'] > legacy_cutoff\n",
      "                                       and len(c['files']) > 0]"
     ],
     "language": "python",
     "metadata": {},
     "outputs": [],
     "prompt_number": 9
    },
    {
     "cell_type": "code",
     "collapsed": false,
     "input": [
      "print 'Reachable commits', len(reachable_commits)\n",
      "print '  Guilty    ', len(guilty_reachable_commits)\n",
      "print '  Non-Guilty', len(non_guilty_reachable_commits)\n",
      "print\n",
      "print 'Non-Reachable Commits'\n",
      "print '  Non-Guilty', len(non_guilty_non_reachable_commits)\n",
      "print '  Guilty    ', len(guilty_non_reachable_commits)\n",
      "print '    Legacy    ', len(guilty_non_reachable_commits_legacy)\n",
      "print '    Non-Legacy', len(guilty_non_reachable_commits_non_legacy)\n",
      "print '      With Change-Id', len(guilty_non_reachable_commits_non_legacy_with_changeid)\n",
      "print\n",
      "print 'Non-Reachable Commits (non-legacy)'\n",
      "print '  With Change-Id', len(non_reachable_commits_non_legacy_with_changeid)\n",
      "print '    with files', len(non_reachable_commits_non_legacy_with_changeid_and_files)\n",
      "print '    Guilty', len(guilty_non_reachable_commits_non_legacy_with_changeid)"
     ],
     "language": "python",
     "metadata": {},
     "outputs": [
      {
       "output_type": "stream",
       "stream": "stdout",
       "text": [
        "Reachable commits 1500\n",
        "  Guilty     1008\n",
        "  Non-Guilty 492\n",
        "\n",
        "Non-Reachable Commits\n",
        "  Non-Guilty 2682\n",
        "  Guilty     16\n",
        "    Legacy     0\n",
        "    Non-Legacy 16\n",
        "      With Change-Id 16\n",
        "\n",
        "Non-Reachable Commits (non-legacy)\n",
        "  With Change-Id 732\n",
        "    with files 105\n",
        "    Guilty 16\n"
       ]
      }
     ],
     "prompt_number": 10
    },
    {
     "cell_type": "markdown",
     "metadata": {},
     "source": [
      "###Findings:\n",
      "- Very few unreachable guilty commits\n",
      " - All have change_id\n",
      " - Number depends on granularity of sampling_freq  (used 25)"
     ]
    },
    {
     "cell_type": "heading",
     "level": 1,
     "metadata": {},
     "source": [
      "Explore unreachable commits with Change-Id"
     ]
    },
    {
     "cell_type": "code",
     "collapsed": false,
     "input": [
      "print\n",
      "print 'Unreachable commits with change_id (where a child has guilt):'\n",
      "for k in non_reachable_commits_non_legacy_with_changeid_and_files:\n",
      "    header = False\n",
      "    for child in combined_commits[k]['children']:\n",
      "        if combined_commits[child]['on_master_branch'] and 'guilt' in combined_commits[child] and combined_commits[child]['guilt'] > 0.0:\n",
      "            if not header:\n",
      "                print\n",
      "                print 'Parent:', k\n",
      "                print '  total children:', len(combined_commits[k]['children'])\n",
      "                header = True\n",
      "            print '  Child:', child, 'On Mainline:', combined_commits[child]['on_mainline'], \n",
      "            print '  Has Change-Id:', ('change_id' in combined_commits[child] and combined_commits[child]['change_id'] != False),\n",
      "            print ' Is Reachable:', combined_commits[child]['reachable'],\n",
      "            print ' Parents:', len(combined_commits[child]['parents'])\n",
      "            print '     Guilt:', combined_commits[child]['guilt']"
     ],
     "language": "python",
     "metadata": {},
     "outputs": [
      {
       "output_type": "stream",
       "stream": "stdout",
       "text": [
        "\n",
        "Unreachable commits with change_id (where a child has guilt):\n",
        "\n",
        "Parent: 1f28b6ca7efb9bed12052c10af71e57773693970\n",
        "  total children: 1\n",
        "  Child: 49d67bd5051a7399d6108119ade54db92cae23f0 On Mainline: True   Has Change-Id: True  Is Reachable: True  Parents: 1\n",
        "     Guilt: 0.0540886352098\n",
        "\n",
        "Parent: c3ff558fc0b8eab6117901a746f97a2800d7d02f\n",
        "  total children: 2\n",
        "  Child: 0435a7823bfea87eec0bdd129c532305da6efb19 On Mainline: False   Has Change-Id: True  Is Reachable: True  Parents: 1\n",
        "     Guilt: 0.00538599640934\n",
        "\n",
        "Parent: 3b4c276550f1a126bc985588252b944e147f2d90\n",
        "  total children: 4\n",
        "  Child: c44e16a538113293c7e73eea22c2ebc0f84c365f On Mainline: False   Has Change-Id: True  Is Reachable: True  Parents: 1\n",
        "     Guilt: 0.0341232227488\n",
        "  Child: ed16167425c5a2a610ce503c3084bb3b2a03ae63 On Mainline: True   Has Change-Id: True  Is Reachable: True  Parents: 1\n",
        "     Guilt: 0.253590046528\n",
        "\n",
        "Parent: da93f408dde9652a3f5e2daaa534852576b8f6f2\n",
        "  total children: 2\n",
        "  Child: 76c66343a45cba0068c97d1ad21b46c63977e13d On Mainline: False   Has Change-Id: True  Is Reachable: False  Parents: 1\n",
        "     Guilt: 0.0958605664488\n",
        "\n",
        "Parent: 14593a3b9691bdb6920c7fefe98d1f817495abb9\n",
        "  total children: 2\n",
        "  Child: 5835b30cc241e1dbad4ca2920ea05f19e3097cbe On Mainline: False   Has Change-Id: True  Is Reachable: True  Parents: 1\n",
        "     Guilt: 0.381446380923\n",
        "\n",
        "Parent: 180ae8964d0ab1bcde419aff06e2d299dbe242c9\n",
        "  total children: 3\n",
        "  Child: 76b894b47a9dcd44098fd59eb22eb2fee599a7f9 On Mainline: False   Has Change-Id: True  Is Reachable: True  Parents: 1\n",
        "     Guilt: 0.410757206531\n"
       ]
      }
     ],
     "prompt_number": 11
    },
    {
     "cell_type": "markdown",
     "metadata": {},
     "source": [
      "###Findings:\n",
      "- Appears tp be mostly housekeeping commits\n",
      "- Should be safe to ignore"
     ]
    },
    {
     "cell_type": "heading",
     "level": 1,
     "metadata": {},
     "source": [
      "Explore Cherry-Pick Commits"
     ]
    },
    {
     "cell_type": "code",
     "collapsed": false,
     "input": [
      "cherry_commits = [[k, c['cherry_picked_from']] for k, c in combined_commits.items()\n",
      "                  if c['on_master_branch']\n",
      "                  and 'cherry_picked_from' in c\n",
      "                  and combined_commits[c['cherry_picked_from']]['on_master_branch']]\n",
      "\n",
      "cherry_commits_single_parent = [[picked_to, picked_from] for picked_to, picked_from  in cherry_commits\n",
      "                                if len(combined_commits[picked_to]['parents']) == 1\n",
      "                                and len(combined_commits[picked_from]['parents']) == 1]\n",
      "\n",
      "\n",
      "cherry_commits_multi_parent = [[picked_to, picked_from] for picked_to, picked_from  in cherry_commits\n",
      "                                if len(combined_commits[picked_to]['parents']) > 1\n",
      "                                and len(combined_commits[picked_from]['parents']) > 1]\n",
      "\n",
      "cherry_commits_any_guilt = [[picked_to, picked_from] for picked_to, picked_from  in cherry_commits\n",
      "                            if ('guilt' in combined_commits[picked_to]\n",
      "                                and combined_commits[picked_to]['guilt'] > 0)\n",
      "                            or ('guilt' in combined_commits[picked_from]\n",
      "                                and combined_commits[picked_from]['guilt'] > 0)]\n",
      "\n",
      "print 'Total Cherry Pick commits on Master Branch', len(cherry_commits)\n",
      "print '    both with single parent', len(cherry_commits_single_parent)\n",
      "print '    both with multi parent', len(cherry_commits_multi_parent)\n",
      "print '    and any with guilt', len(cherry_commits_any_guilt)"
     ],
     "language": "python",
     "metadata": {},
     "outputs": [
      {
       "output_type": "stream",
       "stream": "stdout",
       "text": [
        "Total Cherry Pick commits on Master Branch 12\n",
        "    both with single parent 12\n",
        "    both with multi parent 0\n",
        "    and any with guilt 2\n"
       ]
      }
     ],
     "prompt_number": 12
    },
    {
     "cell_type": "markdown",
     "metadata": {},
     "source": [
      "###Findings\n",
      "- None of the cherry pick commits have any guilt in sample set\n",
      "- No reason to prune either commit, won't impact outcome\n",
      "- Might consider treating as a feature"
     ]
    },
    {
     "cell_type": "heading",
     "level": 1,
     "metadata": {},
     "source": [
      "Investigate missing guilt"
     ]
    },
    {
     "cell_type": "code",
     "collapsed": false,
     "input": [
      "if not USE_NEW_VERSION:\n",
      "    all_empty_blame = [entry for entry in guilt_data if not entry['blame']]\n",
      "    empty_blame = [entry for entry in guilt_data\n",
      "               if not entry['blame']\n",
      "               and len(combined_commits[entry['diff_commit']]['files']) > 0]\n",
      "\n",
      "    non_empty_blame_without_files = [entry for entry in guilt_data\n",
      "               if entry['blame']\n",
      "               and len(combined_commits[entry['diff_commit']]['files']) == 0]\n",
      "    guilt_data_without_files = [entry for entry in guilt_data\n",
      "               if len(combined_commits[entry['diff_commit']]['files']) == 0]\n",
      "\n",
      "    print 'Guilt Data for commits without files:', len(guilt_data_without_files)\n",
      "    print\n",
      "    print 'Empty blame:', len(all_empty_blame)\n",
      "    print '  for commits with files:', len(empty_blame)\n",
      "    print 'Non-Empty blame for commits without files:', len(non_empty_blame_without_files)\n",
      "\n",
      "    empty_blame[:10]"
     ],
     "language": "python",
     "metadata": {},
     "outputs": [],
     "prompt_number": 13
    },
    {
     "cell_type": "heading",
     "level": 6,
     "metadata": {},
     "source": [
      "Conclusion:  We should filter-out non-file commits when computing Guilt_Data"
     ]
    },
    {
     "cell_type": "markdown",
     "metadata": {},
     "source": [
      "Sanity-check by merge commit type"
     ]
    },
    {
     "cell_type": "code",
     "collapsed": false,
     "input": [
      "if not USE_NEW_VERSION:\n",
      "    counts = collections.defaultdict(int)\n",
      "    for entry in all_empty_blame:\n",
      "        counts[entry['type']] += 1\n",
      "    \n",
      "    counts.items()"
     ],
     "language": "python",
     "metadata": {},
     "outputs": [],
     "prompt_number": 14
    },
    {
     "cell_type": "heading",
     "level": 6,
     "metadata": {},
     "source": [
      "Conclusion:  Empty blame does not appear specific to a single merge type"
     ]
    },
    {
     "cell_type": "markdown",
     "metadata": {},
     "source": [
      "Check whether empty_blame commits are considered reachable"
     ]
    },
    {
     "cell_type": "code",
     "collapsed": false,
     "input": [
      "if not USE_NEW_VERSION:\n",
      "    reachable_empty_blame = [entry['diff_commit'] for entry in guilt_data\n",
      "                         if not entry['blame']\n",
      "                         and combined_commits[entry['diff_commit']]['reachable']]\n",
      "    reachable_empty_blame_merge = [entry['merge_commit'] for entry in guilt_data\n",
      "                               if not entry['blame']\n",
      "                               and combined_commits[entry['merge_commit']]['reachable']]\n",
      "    print 'Empty blame where diff commits reachable:', len(reachable_empty_blame)\n",
      "    print 'Empty blame where merge commits reachable:', len(reachable_empty_blame_merge)"
     ],
     "language": "python",
     "metadata": {},
     "outputs": [],
     "prompt_number": 15
    },
    {
     "cell_type": "markdown",
     "metadata": {},
     "source": [
      "Check general case of commits with on relevant modified files"
     ]
    },
    {
     "cell_type": "code",
     "collapsed": false,
     "input": [
      "empty_commits = [k for k, c in combined_commits.items()\n",
      "                 if c['on_master_branch']\n",
      "                 and c['date'] > legacy_cutoff\n",
      "                 and len(c['files']) == 0]\n",
      "\n",
      "reachable_empty_commits = [k for k, c in combined_commits.items()\n",
      "                 if c['on_master_branch']\n",
      "                 and  c['reachable']\n",
      "                 and c['date'] > legacy_cutoff\n",
      "                 and len(c['files']) == 0]\n",
      "print 'Commits with no relevant files', len(empty_commits)\n",
      "print '                reachable only', len(reachable_empty_commits)"
     ],
     "language": "python",
     "metadata": {},
     "outputs": [
      {
       "output_type": "stream",
       "stream": "stdout",
       "text": [
        "Commits with no relevant files 1044\n",
        "                reachable only 0\n"
       ]
      }
     ],
     "prompt_number": 16
    },
    {
     "cell_type": "code",
     "collapsed": false,
     "input": [
      "if not USE_NEW_VERSION:\n",
      "    print len(set(reachable_empty_blame).intersection(set(empty_commits)))\n",
      "    print len(set(reachable_empty_blame_merge).intersection(set(empty_commits)))"
     ],
     "language": "python",
     "metadata": {},
     "outputs": [],
     "prompt_number": 17
    },
    {
     "cell_type": "markdown",
     "metadata": {},
     "source": [
      "###Conclusion:  These commits were legitimately skipped since exclusively involve file types that are not currently being tracked\n",
      "- Exclude these commits from analysis [Done: prune_empty_commits()]"
     ]
    },
    {
     "cell_type": "heading",
     "level": 1,
     "metadata": {},
     "source": [
      "Boneyard"
     ]
    },
    {
     "cell_type": "code",
     "collapsed": false,
     "input": [],
     "language": "python",
     "metadata": {},
     "outputs": [],
     "prompt_number": 17
    }
   ],
   "metadata": {}
  }
 ]
}