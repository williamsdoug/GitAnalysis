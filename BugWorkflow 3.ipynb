{
 "metadata": {
  "name": "",
  "signature": "sha256:d0e4aa8af2b7aecf41748493376ad346d0d2d998288f933b1f2ee02e14613c29"
 },
 "nbformat": 3,
 "nbformat_minor": 0,
 "worksheets": [
  {
   "cells": [
    {
     "cell_type": "markdown",
     "metadata": {},
     "source": [
      "#Bug Workflow Part 3 -- Generation of guilt\n",
      "####Author:  Doug Williams, Copyright 2015\n",
      "\n",
      "####Updated: 3-Mar-2015\n",
      "\n",
      "###Issues:\n",
      "- Explore missing blame\n",
      "- Currently ignoring legacy commits\n",
      "- How should we handle blueprint commits?\n",
      "- Should we treat different A/C as a feature?, may call it sponsor(c)\n",
      "\n",
      "\n",
      "###Findings:\n",
      "- For FF Commits, comput blame against parent of commit\n",
      "- For Simple Merge Commits, comput blame against mainline commit's parent\n",
      "- For complex commits, compute blame against parent of commit with bug fix.\n"
     ]
    },
    {
     "cell_type": "code",
     "collapsed": false,
     "input": [
      "%matplotlib inline\n",
      "import matplotlib.pyplot as plt\n",
      "\n",
      "import pprint as pp\n",
      "import re\n",
      "import collections\n",
      "import datetime\n",
      "from datetime import date\n",
      "\n",
      "import sys\n",
      "sys.path.append('./dev')"
     ],
     "language": "python",
     "metadata": {},
     "outputs": [],
     "prompt_number": 1
    },
    {
     "cell_type": "code",
     "collapsed": false,
     "input": [
      "from commit_analysis import load_all_analysis_data\n",
      "\n",
      "from BugFixWorkflow import import_all_bugs\n",
      "from BugFixWorkflow import build_all_guilt\n",
      "from BugFixWorkflow import annotate_guilt"
     ],
     "language": "python",
     "metadata": {},
     "outputs": [],
     "prompt_number": 2
    },
    {
     "cell_type": "code",
     "collapsed": false,
     "input": [
      "# PROJECT = 'nova'\n",
      "PROJECT = 'swift'  # produces error\n",
      "# PROJECT = 'cinder'\n",
      "# PROJECT = 'heat'\n",
      "# PROJECT = 'glance'\n",
      "\n",
      "UPDATE_CORPUS = True\n",
      "BUILD_CORPUS = False\n",
      "\n",
      "cgit_url = 'http://git.openstack.org/cgit/openstack/' + PROJECT + '/commit/?id='\n",
      "cgit_suffix = '&context=1&ignorews=0&ss=0'"
     ],
     "language": "python",
     "metadata": {},
     "outputs": [],
     "prompt_number": 3
    },
    {
     "cell_type": "code",
     "collapsed": false,
     "input": [
      "# Note:  Currently unused\n",
      "\n",
      "BUG_WEIGHT_VALUES = {\n",
      "    'Critical': 4,\n",
      "    'High': 3,\n",
      "    'Medium': 2,\n",
      "    'Low': 1,\n",
      "    'Wishlist': 0,\n",
      "    'Unknown': 0,\n",
      "    'Undecided': 0,\n",
      "}"
     ],
     "language": "python",
     "metadata": {},
     "outputs": [],
     "prompt_number": 4
    },
    {
     "cell_type": "heading",
     "level": 1,
     "metadata": {},
     "source": [
      "Code"
     ]
    },
    {
     "cell_type": "raw",
     "metadata": {},
     "source": [
      "def annotate_guilt(guilt_data, commits, limit=-1):\n",
      "    \"\"\" \"\"\"\n",
      "    for k, c in commits.items():  # Initialize\n",
      "        c['guilt'] = 0.0\n",
      "    \n",
      "    for entry in guilt_data:\n",
      "        if not entry['blame']:   # skip empty entries\n",
      "            continue\n",
      "        limit -= 1\n",
      "        if limit == 0:\n",
      "            break\n",
      "            \n",
      "        #pp.pprint(entry)\n",
      "        for commit_key, guilt in blame_compute_normalized_guilt(entry).items():\n",
      "            commits[commit_key]['guilt'] += guilt"
     ]
    },
    {
     "cell_type": "raw",
     "metadata": {},
     "source": [
      "from BugFixWorkflow import find_legacy_cutoff\n",
      "from BugFixWorkflow import annotate_children\n",
      "from BugFixWorkflow import annotate_cherry_pick\n",
      "from BugFixWorkflow import collect_all_bug_fix_commits\n",
      "from BugFixWorkflow import find_missing_guilt_data\n",
      "\n",
      "def build_all_guilt(project, combined_commits, clear_cache=False):\n",
      "    \"\"\"Top level routine for Merge processing and guilt annotation\"\"\"\n",
      "    importance = 'low+'\n",
      "    \n",
      "    print 'Determining lexacy cut-off'\n",
      "    legacy_cutoff = find_legacy_cutoff(combined_commits)\n",
      "    \n",
      "    # annotate_blueprints(commits)        \n",
      "    # foo = find_blueprint_in_bugs(all_bugs, limit=100000)\n",
      "    print\n",
      "    print 'Determining commit parent/child relationships'\n",
      "    annotate_children(combined_commits)\n",
      "    \n",
      "    print\n",
      "    print 'Identifying cherry-pick commits'\n",
      "    annotate_cherry_pick(combined_commits)\n",
      "\n",
      "    print\n",
      "    print 'Collecting data on commits with bug fixes'\n",
      "    guilt_data = collect_all_bug_fix_commits(combined_commits,\n",
      "                                             importance,\n",
      "                                             legacy_cutoff,\n",
      "                                             limit=-1)\n",
      "\n",
      "    print\n",
      "    print 'Computing Blame'\n",
      "    compute_all_blame(project, guilt_data, combined_commits, clear_cache=clear_cache)\n",
      "    print\n",
      "    \n",
      "    missing_guilt_data = find_missing_guilt_data(guilt_data)\n",
      "    if len(missing_guilt_data) > 0:\n",
      "        print\n",
      "        print 'Warning: Entries with missing guilt data:', len(missing_guilt_data)\n",
      "\n",
      "    print\n",
      "    print 'Annotating Guilt'  \n",
      "    #annotate_guilt(guilt_data, combined_commits)   \n",
      "\n",
      "    return guilt_data"
     ]
    },
    {
     "cell_type": "heading",
     "level": 1,
     "metadata": {},
     "source": [
      "Load Data"
     ]
    },
    {
     "cell_type": "code",
     "collapsed": false,
     "input": [
      "if False:    # Only rebuilds combined_commits\n",
      "    from commit_analysis import rebuild_all_analysis_data\n",
      "    rebuild_all_analysis_data(PROJECT, update=True, download=False)\n",
      "\n",
      "if False:   # Updates data, then rebuilds combined_commits\n",
      "    from commit_analysis import rebuild_all_analysis_data\n",
      "    rebuild_all_analysis_data(PROJECT, update=True)"
     ],
     "language": "python",
     "metadata": {},
     "outputs": [],
     "prompt_number": 5
    },
    {
     "cell_type": "code",
     "collapsed": false,
     "input": [
      "all_bugs, all_changes, \\\n",
      "all_change_details, \\\n",
      "commits, combined_commits, all_blame = load_all_analysis_data(PROJECT)\n",
      "\n",
      "import_all_bugs(all_bugs)"
     ],
     "language": "python",
     "metadata": {},
     "outputs": [
      {
       "output_type": "stream",
       "stream": "stdout",
       "text": [
        "loading bug data\n",
        "  total LP bugs:"
       ]
      },
      {
       "output_type": "stream",
       "stream": "stdout",
       "text": [
        " 703\n",
        "  Entries annotated: 252\n",
        "loading Git commit data\n",
        "  total git_commits:"
       ]
      },
      {
       "output_type": "stream",
       "stream": "stdout",
       "text": [
        " 4385\n",
        "  actual commits: 1938\n",
        "  pruned commits: 2447\n",
        "  bug fix commits: 352\n",
        "  commits with change_id: 1617\n",
        "  bug fix with change_id: 340\n",
        "loading change data\n",
        "  total gerrit changes with detail:"
       ]
      },
      {
       "output_type": "stream",
       "stream": "stdout",
       "text": [
        " 1804\n",
        "  all_change_details: 1804\n",
        "  total gerrit changes:"
       ]
      },
      {
       "output_type": "stream",
       "stream": "stdout",
       "text": [
        " 1804\n",
        "  all_changes: 1804\n",
        "combined_commits:"
       ]
      },
      {
       "output_type": "stream",
       "stream": "stdout",
       "text": [
        " 4385\n",
        "all blame: 136\n"
       ]
      }
     ],
     "prompt_number": 6
    },
    {
     "cell_type": "heading",
     "level": 1,
     "metadata": {},
     "source": [
      "Identify Bug Fixes along Mainline"
     ]
    },
    {
     "cell_type": "code",
     "collapsed": false,
     "input": [
      "guilt_data = build_all_guilt(PROJECT, combined_commits, clear_cache=False)"
     ],
     "language": "python",
     "metadata": {},
     "outputs": [
      {
       "output_type": "stream",
       "stream": "stdout",
       "text": [
        "Determining legacy cut-off\n",
        "First_with: 46c5ed75e1fa11f6e180e737f6ba94e25c7212e3\n",
        "Last_without: 081dd1683226330d73b5906c2a1906ffd167f69f\n",
        "Transition interval: 4 days, 0:05:23\n",
        "Parent of first_with: 081dd1683226330d73b5906c2a1906ffd167f69f\n",
        "Setting cutoff to: 06/09/2011\n",
        "\n",
        "Determining commit parent/child relationships\n",
        "\n",
        "Identifying cherry-pick commits\n",
        "\n",
        "Collecting data on commits with bug fixes\n",
        "Ignoring revert:"
       ]
      },
      {
       "output_type": "stream",
       "stream": "stdout",
       "text": [
        " 72faf7b86d347608d0ef95f4f709f7f34debbcc6\n",
        "Unexpected change_id on simple merge, ignored b20278907bdaafe54e2537294a20a1d890b953f7\n",
        "Unexpected change_id on simple merge, ignored b6fa53dbd25708f1fe21e82d61816ece47203daf\n",
        "Mainline Commits ignored due to legacy: 354  out of: 1938\n",
        "Total commite requiring blame computation: 137\n",
        "\n",
        "Computing Blame\n",
        "Loaded blame"
       ]
      },
      {
       "output_type": "stream",
       "stream": "stdout",
       "text": [
        "\n",
        "Initial Blame cache size: 109\n",
        "bug fix commits: 137\n",
        "."
       ]
      },
      {
       "output_type": "stream",
       "stream": "stdout",
       "text": [
        " . . . . . "
       ]
      },
      {
       "output_type": "stream",
       "stream": "stdout",
       "text": [
        ". . "
       ]
      },
      {
       "output_type": "stream",
       "stream": "stdout",
       "text": [
        ". "
       ]
      },
      {
       "output_type": "stream",
       "stream": "stdout",
       "text": [
        ". 100 . "
       ]
      },
      {
       "output_type": "stream",
       "stream": "stdout",
       "text": [
        ". .\n",
        "Saving updated Blame Cache\n",
        "\n"
       ]
      },
      {
       "output_type": "stream",
       "stream": "stdout",
       "text": [
        "\n",
        "Warning: Entries with missing guilt data: 27\n"
       ]
      }
     ],
     "prompt_number": 7
    },
    {
     "cell_type": "code",
     "collapsed": false,
     "input": [
      "annotate_guilt(guilt_data, combined_commits)"
     ],
     "language": "python",
     "metadata": {},
     "outputs": [],
     "prompt_number": 8
    },
    {
     "cell_type": "code",
     "collapsed": false,
     "input": [],
     "language": "python",
     "metadata": {},
     "outputs": [],
     "prompt_number": 8
    },
    {
     "cell_type": "markdown",
     "metadata": {},
     "source": [
      "#Question:  Would Cherry Pick help with non-mainline commits ?\n",
      "\n",
      "- Conclusion:  It would only help in 5 out of 13 commits\n",
      "- Treat as low prioroity for now"
     ]
    },
    {
     "cell_type": "heading",
     "level": 1,
     "metadata": {},
     "source": [
      "Boneyard"
     ]
    }
   ],
   "metadata": {}
  }
 ]
}