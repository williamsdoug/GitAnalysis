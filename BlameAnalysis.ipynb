{
 "metadata": {
  "name": "",
  "signature": "sha256:85f8e007d0f6e8d4be8260c7fb98e3c051f94b7859056aed019fef6ac244a85e"
 },
 "nbformat": 3,
 "nbformat_minor": 0,
 "worksheets": [
  {
   "cells": [
    {
     "cell_type": "markdown",
     "metadata": {},
     "source": [
      "#Blame Analysis for OpenStack Nova\n",
      "\n",
      "Copyright Doug Williams - 2014, 2015\n",
      "\n",
      "###Updated: 1/30/2015\n",
      "\n",
      "###General Approach:\n",
      "\n",
      "####Generate Labels\n",
      "- Create wrapper around extend blame_compute_normalized_guilt() to compute cumulative blame for a commit\n",
      "- Apply thresholding to deterime which commits get labelled\n",
      " \n",
      "####Generate Features\n",
      "Current Features:\n",
      "- author, author's org\n",
      "- list of files changed\n",
      "- review stats\n",
      "- ordering info (expressed as log of order):\n",
      " - Author order\n",
      " - Include max and min order for files (overall and by author)\n",
      " - Include order by individual files\n",
      "- Overall change complexity and degree of change by individual files\n",
      "- If this is a fix to an existing bug\n",
      "\n",
      "Others to consider in future::\n",
      "- information on reviewer or committer experience?\n",
      " - express as reviewer order\n",
      "- prior bugs by file\n",
      "- prior bugs by author\n",
      "\n",
      "####Train model\n",
      "To Do:\n",
      " - Plot Learning Curves\n",
      "\n",
      "###History\n",
      "- 1/28/2015: Initial file creation, derived from NovaSampleData\n",
      "- 1/29/2015:  Shift to use of Swift for initial analysis\n",
      "- 1/30/2015:  First pass end-to end analysis complete using SVM, including create_feature() and extract_features. Recall 0.78, F1 0.88, however very sensitive to training set size.\n",
      "\n",
      "###Issues:\n",
      "- SVM results extremely sensitive to training set size (fails if > 100)"
     ]
    },
    {
     "cell_type": "heading",
     "level": 1,
     "metadata": {},
     "source": [
      "Includes"
     ]
    },
    {
     "cell_type": "code",
     "collapsed": false,
     "input": [
      "%matplotlib inline"
     ],
     "language": "python",
     "metadata": {},
     "outputs": [],
     "prompt_number": 1
    },
    {
     "cell_type": "code",
     "collapsed": false,
     "input": [
      "from pprint import pprint\n",
      "from collections import defaultdict\n",
      "import sys\n",
      "sys.path.append('./dev')\n",
      "import numpy as np"
     ],
     "language": "python",
     "metadata": {},
     "outputs": [],
     "prompt_number": 2
    },
    {
     "cell_type": "code",
     "collapsed": false,
     "input": [
      "from Git_Extract_Join import load_combined_commits, load_all_blame"
     ],
     "language": "python",
     "metadata": {},
     "outputs": [],
     "prompt_number": 3
    },
    {
     "cell_type": "code",
     "collapsed": false,
     "input": [
      "from commit_analysis import blame_compute_normalized_guilt\n",
      "from commit_analysis import normalize_blame_by_file"
     ],
     "language": "python",
     "metadata": {},
     "outputs": [],
     "prompt_number": 4
    },
    {
     "cell_type": "code",
     "collapsed": false,
     "input": [
      "from sklearn.feature_extraction import DictVectorizer"
     ],
     "language": "python",
     "metadata": {},
     "outputs": [],
     "prompt_number": 5
    },
    {
     "cell_type": "code",
     "collapsed": false,
     "input": [
      "import numpy as np\n",
      "import math\n",
      "import matplotlib.pyplot as plt\n",
      "\n",
      "from sklearn.svm import SVC, SVR\n",
      "from sklearn.preprocessing import StandardScaler\n",
      "from sklearn.preprocessing import MinMaxScaler\n",
      "from sklearn.cross_validation import StratifiedKFold\n",
      "from sklearn.cross_validation import StratifiedShuffleSplit\n",
      "from sklearn.cross_validation import ShuffleSplit\n",
      "from sklearn.grid_search import GridSearchCV\n",
      "\n",
      "from sklearn import metrics"
     ],
     "language": "python",
     "metadata": {},
     "outputs": [],
     "prompt_number": 6
    },
    {
     "cell_type": "heading",
     "level": 1,
     "metadata": {},
     "source": [
      "Code"
     ]
    },
    {
     "cell_type": "code",
     "collapsed": false,
     "input": [
      "def compute_guilt(combined_commits):\n",
      "    for c in combined_commits.values():  # initialize guilt values\n",
      "        c['guilt'] = 0.0\n",
      "    \n",
      "    for be in all_blame:    # now apply weighted guilt for each blame\n",
      "        for c, g in blame_compute_normalized_guilt(be, exp_weighting=True).items():\n",
      "            combined_commits[c]['guilt'] += g\n",
      "\n",
      "    total = len(combined_commits)\n",
      "    guilty = sum([1 for v in combined_commits.values() if v['guilt'] > 0])\n",
      "    min_guilt = min([v['guilt'] for v in combined_commits.values()\n",
      "                                if v['guilt'] > 0])\n",
      "    max_guilt = max([v['guilt'] for v in combined_commits.values() \n",
      "                                if v['guilt'] > 0])\n",
      "        \n",
      "    print 'guilty: ', guilty, 'out of',  total,\n",
      "    print '(',  100.0 * float(guilty) / float(total), '%', ')'\n",
      "    print 'smallest guilt:', min_guilt\n",
      "    print 'largest guilt:', max_guilt"
     ],
     "language": "python",
     "metadata": {},
     "outputs": [],
     "prompt_number": 7
    },
    {
     "cell_type": "code",
     "collapsed": false,
     "input": [
      "def trim_entries(combined_commits):\n",
      "    \"\"\"Returns order range (min, max) based on first and list\n",
      "    bug fix commit. First entry is after first bug fix. \n",
      "    \"\"\"\n",
      "    buglist = [(combined_commits[be['cid']]['order'], be['cid'])\n",
      "               for be in all_blame]\n",
      "    buglist = sorted(buglist, key=lambda x: x[0])\n",
      "    return buglist[0][0] + 1, buglist[-1][0]"
     ],
     "language": "python",
     "metadata": {},
     "outputs": [],
     "prompt_number": 8
    },
    {
     "cell_type": "heading",
     "level": 1,
     "metadata": {},
     "source": [
      "Load Data"
     ]
    },
    {
     "cell_type": "code",
     "collapsed": false,
     "input": [
      "# PROJECT = 'nova'\n",
      "PROJECT = 'swift'"
     ],
     "language": "python",
     "metadata": {},
     "outputs": [],
     "prompt_number": 9
    },
    {
     "cell_type": "code",
     "collapsed": false,
     "input": [
      "combined_commits = load_combined_commits(PROJECT)\n",
      "print len(combined_commits)"
     ],
     "language": "python",
     "metadata": {},
     "outputs": [
      {
       "output_type": "stream",
       "stream": "stdout",
       "text": [
        "4277\n"
       ]
      }
     ],
     "prompt_number": 10
    },
    {
     "cell_type": "code",
     "collapsed": false,
     "input": [
      "all_blame = load_all_blame(PROJECT)\n",
      "print len(all_blame)"
     ],
     "language": "python",
     "metadata": {},
     "outputs": [
      {
       "output_type": "stream",
       "stream": "stdout",
       "text": [
        "379\n"
       ]
      }
     ],
     "prompt_number": 11
    },
    {
     "cell_type": "code",
     "collapsed": false,
     "input": [
      "bug_fix_commits = [k for k,v in combined_commits.items()\n",
      "                   if 'lp:id' in v]\n",
      "print len(bug_fix_commits)"
     ],
     "language": "python",
     "metadata": {},
     "outputs": [
      {
       "output_type": "stream",
       "stream": "stdout",
       "text": [
        "379\n"
       ]
      }
     ],
     "prompt_number": 12
    },
    {
     "cell_type": "markdown",
     "metadata": {},
     "source": [
      "#Compute Guilt"
     ]
    },
    {
     "cell_type": "code",
     "collapsed": false,
     "input": [
      "compute_guilt(combined_commits)"
     ],
     "language": "python",
     "metadata": {},
     "outputs": [
      {
       "output_type": "stream",
       "stream": "stdout",
       "text": [
        "guilty:  799 out of 4277 ( 18.6813186813 % )\n",
        "smallest guilt: 0.000368731563422\n",
        "largest guilt: 50.3930829941\n"
       ]
      }
     ],
     "prompt_number": 13
    },
    {
     "cell_type": "heading",
     "level": 3,
     "metadata": {},
     "source": [
      "Characterize Guilt Distribution"
     ]
    },
    {
     "cell_type": "code",
     "collapsed": false,
     "input": [
      "plt.figure(figsize=(9,3))\n",
      "plt.title('Non-Zero Guilt Distribution')\n",
      "plt.hist([v['guilt'] for v in combined_commits.values()\n",
      "          if v['guilt'] > 0], \n",
      "         log=True, range=(0.01, 3), bins=50)\n",
      "plt.show()"
     ],
     "language": "python",
     "metadata": {},
     "outputs": [
      {
       "metadata": {},
       "output_type": "display_data",
       "png": "[encoded data removed]",
       "text": [
        "<matplotlib.figure.Figure at 0x10f9911d0>"
       ]
      }
     ],
     "prompt_number": 14
    },
    {
     "cell_type": "code",
     "collapsed": false,
     "input": [
      "plt.figure(figsize=(9,3))\n",
      "plt.title('Non-Zero Guilt Distribution')\n",
      "plt.hist([v['guilt'] for v in combined_commits.values()\n",
      "          if v['guilt'] > 0], \n",
      "         log=False, range=(0.001, 0.201), bins=50)\n",
      "plt.show()"
     ],
     "language": "python",
     "metadata": {},
     "outputs": [
      {
       "metadata": {},
       "output_type": "display_data",
       "png": "[encoded data removed]",
       "text": [
        "<matplotlib.figure.Figure at 0x10fa8e510>"
       ]
      }
     ],
     "prompt_number": 15
    },
    {
     "cell_type": "code",
     "collapsed": false,
     "input": [
      "plt.figure(figsize=(9,3))\n",
      "plt.title('Non-Zero Guilt Distribution')\n",
      "plt.hist([math.log(v['guilt']) for v in combined_commits.values()\n",
      "          if v['guilt'] > 0], \n",
      "         log=False, bins=50)\n",
      "plt.show()"
     ],
     "language": "python",
     "metadata": {},
     "outputs": [
      {
       "metadata": {},
       "output_type": "display_data",
       "png": "[encoded data removed]",
       "text": [
        "<matplotlib.figure.Figure at 0x10fa81490>"
       ]
      }
     ],
     "prompt_number": 17
    },
    {
     "cell_type": "code",
     "collapsed": false,
     "input": [
      "plt.figure(figsize=(9,3))\n",
      "plt.title('Non-Zero Guilt Distribution')\n",
      "plt.hist([math.log(v['guilt']) for v in combined_commits.values()\n",
      "          if v['guilt'] > 0], \n",
      "         log=True, bins=50)\n",
      "plt.show()"
     ],
     "language": "python",
     "metadata": {},
     "outputs": [
      {
       "metadata": {},
       "output_type": "display_data",
       "png": "[encoded data removed]",
       "text": [
        "<matplotlib.figure.Figure at 0x11101a1d0>"
       ]
      }
     ],
     "prompt_number": 18
    },
    {
     "cell_type": "heading",
     "level": 1,
     "metadata": {},
     "source": [
      "Feature Extraction and Preprocessing"
     ]
    },
    {
     "cell_type": "markdown",
     "metadata": {},
     "source": [
      "- Output is a list of dicts suitable for DictVectorizer()\n",
      "- Include author, author's org [done]\n",
      "- list of files changed [done]\n",
      "- some review stats [done]\n",
      "- Include ordering info:\n",
      " -  Express order as log(). [done]\n",
      " - Author order [done]\n",
      " - Include max and min order for files (overall and by author) [done]\n",
      " - Include order by individual files\n",
      "- Overall change complexity and degree of change by individual files [done]\n",
      "- If this is a fix to an existing bug [done]\n",
      "- Others, more speculative:\n",
      " - Should we collect information on reviewer or committer experience?\n",
      "  - express as reviewer order\n",
      " - Should we collect prior bugs by file\n",
      " - Should we collect prior bugs by author"
     ]
    },
    {
     "cell_type": "code",
     "collapsed": false,
     "input": [
      "import re\n",
      "RE_AUTH = re.compile('<(\\S+@\\S+)>')\n",
      "RE_AUTH2 = re.compile('\"(\\S+@\\S+)\\s')\n",
      "RE_AUTH3 = re.compile('\"(\\S+)\\s')\n",
      "\n",
      "def parse_author(auth):\n",
      "    result = RE_AUTH.search(auth)\n",
      "    if not result:  # Try alternative pattern\n",
      "        result = RE_AUTH2.search(auth)\n",
      "    if not result:  # Try alternative pattern\n",
      "        result = RE_AUTH3.search(auth)\n",
      "    if not result:\n",
      "        raise Exception('Unable to parse author: ' + str(auth))\n",
      "        \n",
      "    author_name =  result.groups()[0]\n",
      "    author_org = author_name.split('@')[-1]\n",
      "    return author_name, author_org\n",
      "\n",
      "def create_feature(c):\n",
      "    \"\"\"Extract features from combined_commits entry\"\"\"\n",
      "    label = c['guilt']\n",
      "    cid = c['cid']\n",
      "    \n",
      "    feats={}\n",
      "    #feats['order'] = math.log(c['order'])\n",
      "    \n",
      "    # General information about author\n",
      "    author_name, author_org = parse_author(c['author'])\n",
      "    feats['author'] = author_name\n",
      "    feats['author_org'] = author_org\n",
      "    feats['author_order'] = math.log(c['author_order'])\n",
      "    \n",
      "    #if this commit associated with a bug fix itself\n",
      "    feats['is_bug_fix'] = 'lp:id' in c\n",
      "    \n",
      "    # General information around change (size (loc), code maturity, prior bugs in module)\n",
      "    for fname in c['files']:\n",
      "        feats[fname] = 1\n",
      "    if c['file_order']:\n",
      "        feats['min_file_order'] = math.log(min([v for v in c['file_order'].values()]))\n",
      "        feats['max_file_order'] = math.log(max([v for v in c['file_order'].values()]))\n",
      "\n",
      "    # Information about committer, approver and reviewers    \n",
      "    committer_name, _ = parse_author(c['committer'])\n",
      "    feats['committer'] = committer_name\n",
      "    \n",
      "    # Information about code changes\n",
      "    feats['loc_add'] = c['loc_add']\n",
      "    feats['loc_change'] = c['loc_change']\n",
      "    for fname, detail in c['loc_detail']. items():\n",
      "        feats['loc_add_' + fname] = detail['add']\n",
      "        feats['loc_changes_' + fname] = detail['changes']\n",
      "    \n",
      "    \"\"\"\n",
      "    # Features below commented out since no impact on recall and F1\n",
      "    if False: #'g:labels' in c:\n",
      "        feats['approved'] = c['g:labels']['Code-Review']['approved']['name']\n",
      "        for r in c['g:labels']['Code-Review']['all']:\n",
      "            feats['reviewer'+ r['name']] = r['value'] \n",
      "    \n",
      "        feats['votes'] = sum([r['value'] for r in c['g:labels']['Code-Review']['all']])\n",
      "\n",
      "    if False: # 'g:messages' in c and c['g:messages']:\n",
      "        feats['revision'] = max([msg['_revision_number'] for msg in c['g:messages']])\n",
      "    \"\"\"\n",
      "\n",
      "    if 'lp:message_count' in c:\n",
      "        feats['lp_messages'] = c['lp:message_count']\n",
      "        \n",
      "    return cid, label, feats"
     ],
     "language": "python",
     "metadata": {},
     "outputs": [],
     "prompt_number": 16
    },
    {
     "cell_type": "markdown",
     "metadata": {},
     "source": [
      "Proposed approach for equalization:\n",
      "\n",
      "- Method 1: Delete False entries until target percentage achieved\n",
      "- Method 2: Duplicate True entries until target percentage achieved\n"
     ]
    },
    {
     "cell_type": "code",
     "collapsed": false,
     "input": [
      "def extract_features(combined_commits, threshold=False, clip=False,\n",
      "                     min_order=False, max_order=False,\n",
      "                     offset = 0, limit = 0, equalize = False,\n",
      "                     debug=True):\n",
      "    \"\"\"Extracts features from combined_commits\n",
      "    Parameters:\n",
      "    - threshold -- Used for classification, determines 1 /0 labels. False\n",
      "      for regression (default)\n",
      "    - clip -- Limits max value of label for regression problems. \n",
      "    - min_order, max_order -- range of included commits.  full range\n",
      "      by default\n",
      "    - offset -- relative start, either as integer or percent\n",
      "    - limit -- overall entries, either integer or percent\n",
      "    \n",
      "    Returns:\n",
      "    - Labels\n",
      "    - Feature Matrix\n",
      "    - Feature matrix column names\n",
      "    \"\"\"\n",
      "    \n",
      "    if not min_order and not max_order:     \n",
      "        min_order, max_order = trim_entries(combined_commits)\n",
      "    elif not min_order:     \n",
      "        min_order, _ = trim_entries(combined_commits)\n",
      "    elif not max_order:     \n",
      "        _, max_order = trim_entries(combined_commits)\n",
      "        \n",
      "    order_range = max_order - min_order\n",
      "    \n",
      "    if offset == 0:\n",
      "        pass\n",
      "    elif type(offset) is int:\n",
      "        min_order += offset\n",
      "    elif type(offset) is float and offset < 1.0:\n",
      "        min_order += int(order_range*offset)\n",
      "    else:\n",
      "        raise Exception('extract_features: Invalid offset value ' + str(offset))\n",
      "    \n",
      "    if limit == 0:\n",
      "        pass\n",
      "    elif type(limit) is int:\n",
      "        max_order = min_order + limit - 1\n",
      "    elif type(limit) is float and offset < 1.0:\n",
      "        max_order = min_order + int(order_range*limit)\n",
      "    else:\n",
      "        raise Exception('extract_features: Invalid limit value ' + str(limit))\n",
      "    \n",
      "    cid, Y, features = zip(*[create_feature(x) \n",
      "                             for x in combined_commits.values()\n",
      "                             if (x['order'] >= min_order \n",
      "                                 and x['order'] <= max_order)])\n",
      "\n",
      "    vec = DictVectorizer()\n",
      "    X = vec.fit_transform([f for f in features]).toarray()\n",
      "    \n",
      "    Y = np.asarray(Y)\n",
      "    if clip:\n",
      "        Y = np.minimum(Y, float(clip))\n",
      "\n",
      "    scaler = MinMaxScaler() # Use MinMaxScaler non-gaussian data\n",
      "    X = scaler.fit_transform(X)\n",
      "    \n",
      "    if debug:\n",
      "        print 'total features:', len(features)\n",
      "    if threshold: # Quantize guilt\n",
      "        Y = np.asarray(Y) > threshold\n",
      "        if debug:\n",
      "            print 'bugs based on threshold:', sum(Y)    \n",
      "            print 'actual bugs:', sum([1 for f in features if f['is_bug_fix']])\n",
      "    \n",
      "    return cid, Y, X, vec.get_feature_names()"
     ],
     "language": "python",
     "metadata": {},
     "outputs": [],
     "prompt_number": 17
    },
    {
     "cell_type": "raw",
     "metadata": {},
     "source": [
      "# For testing only\n",
      "cid, y, X, col_names = extract_features(combined_commits, threshold=0.08)\n",
      "print\n",
      "cid, y, X, col_names = extract_features(combined_commits, threshold=0.08, offset=2)\n",
      "print\n",
      "cid, y, X, col_names = extract_features(combined_commits, threshold=0.08, offset=0.9)\n",
      "print\n",
      "\n",
      "cid, y, X, col_names = extract_features(combined_commits, threshold=0.08, limit=2)\n",
      "print\n",
      "cid, y, X, col_names = extract_features(combined_commits, limit=0.1, threshold=0.08)\n",
      "print"
     ]
    },
    {
     "cell_type": "code",
     "collapsed": false,
     "input": [
      "cid, Y, X, col_names = extract_features(combined_commits, threshold=0.08)\n",
      "print\n",
      "print X.shape"
     ],
     "language": "python",
     "metadata": {},
     "outputs": [
      {
       "output_type": "stream",
       "stream": "stdout",
       "text": [
        "total features: 3560\n",
        "bugs based on threshold: 363\n",
        "actual bugs: 378\n",
        "\n",
        "(3560, 1356)\n"
       ]
      }
     ],
     "prompt_number": 18
    },
    {
     "cell_type": "markdown",
     "metadata": {},
     "source": [
      "####Proposed enhancements to training\n",
      "\n",
      "Some speculative thoughts:\n",
      "- Feature Extraction Test/Train\n",
      " - Separately extract features for test/train period, skip latest 20% of commits\n",
      " - Change balance of positive/negative commits to imprpve trainging.  Traioning currently skewed towards negative test vased today\n",
      "- Create validation test suite with latest tests.  Want to measure prediction accuracy for future bugs."
     ]
    },
    {
     "cell_type": "raw",
     "metadata": {},
     "source": [
      "from sklearn.decomposition import PCA\n",
      "\n",
      "# Note:  Weakness in methodology, really should fix using training set only\n",
      "\n",
      "pca = PCA(n_components='mle')\n",
      "X = pca.fit_transform(X)"
     ]
    },
    {
     "cell_type": "heading",
     "level": 3,
     "metadata": {},
     "source": [
      "Train SVM Classifier"
     ]
    },
    {
     "cell_type": "code",
     "collapsed": false,
     "input": [
      "# Train classifier\n",
      "\n",
      "C_range = 10.0 ** np.arange(-2, 9)\n",
      "gamma_range = 10.0 ** np.arange(-5, 4)\n",
      "param_grid = dict(gamma=gamma_range, C=C_range)\n",
      "\n",
      "# cv = StratifiedKFold(y=Y, n_folds=3)\n",
      "# cv = StratifiedShuffleSplit(Y, train_size=0.2, test_size=0.2, random_state=0)\n",
      "\n",
      "cv = StratifiedShuffleSplit(Y, train_size=100,\n",
      "                            test_size=100, random_state=0)\n",
      "# cv = ShuffleSplit(len(Y), train_size=100, test_size=100, random_state=0)\n",
      "\n",
      "grid = GridSearchCV(SVC(), param_grid=param_grid, cv=cv,\n",
      "                    n_jobs=4, pre_dispatch=8, verbose=3)\n",
      "grid.fit(X, Y)\n",
      "\n",
      "print \"The best classifier is: \", grid.best_estimator_\n",
      "print 'best_score: ', grid.best_score_\n",
      "print 'best_params: ',\n",
      "pprint(grid.best_params_)\n",
      "\n",
      "print\n",
      "clf = grid.best_estimator_\n",
      "print \"Score:\", clf.score(X, Y)"
     ],
     "language": "python",
     "metadata": {},
     "outputs": [
      {
       "output_type": "stream",
       "stream": "stdout",
       "text": [
        "Fitting 10 folds for each of 99 candidates, totalling 990 fits\n"
       ]
      },
      {
       "output_type": "stream",
       "stream": "stderr",
       "text": [
        "[Parallel(n_jobs=4)]: Done   1 jobs       | elapsed:    0.3s\n",
        "[Parallel(n_jobs=4)]: Done  32 jobs       | elapsed:    4.0s\n",
        "[Parallel(n_jobs=4)]: Done 128 jobs       | elapsed:   15.1s\n",
        "[Parallel(n_jobs=4)]: Done 288 jobs       | elapsed:   33.7s\n",
        "[Parallel(n_jobs=4)]: Done 512 jobs       | elapsed:   59.9s\n",
        "[Parallel(n_jobs=4)]: Done 800 jobs       | elapsed:  1.6min\n",
        "[Parallel(n_jobs=4)]: Done 984 out of 990 | elapsed:  1.9min remaining:    0.7s\n",
        "[Parallel(n_jobs=4)]: Done 990 out of 990 | elapsed:  1.9min finished\n"
       ]
      },
      {
       "output_type": "stream",
       "stream": "stdout",
       "text": [
        "The best classifier is:  SVC(C=1.0, cache_size=200, class_weight=None, coef0=0.0, degree=3, gamma=1.0,\n",
        "  kernel='rbf', max_iter=-1, probability=False, random_state=None,\n",
        "  shrinking=True, tol=0.001, verbose=False)\n",
        "best_score:  0.901\n",
        "best_params: {'C': 1.0, 'gamma': 1.0}\n",
        "\n",
        "Score: [CV] C=0.01, gamma=1e-05 .............................................\n",
        "[CV] C=0.01, gamma=1e-05 .............................................\n",
        "[CV] C=0.01, gamma=1e-05 .............................................\n",
        "[CV] C=0.01, gamma=1e-05 .............................................\n",
        "[CV] .................... C=0.01, gamma=1e-05, score=0.900000 -   0.0s\n",
        "[CV] .................... C=0.01, gamma=1e-05, score=0.900000 -   0.0s\n",
        "[CV] .................... C=0.01, gamma=1e-05, score=0.900000 -   0.0s\n",
        "[CV] .................... C=0.01, gamma=1e-05, score=0.900000 -   0.0s\n",
        "[CV] C=0.01, gamma=1e-05 .............................................[CV] C=0.01, gamma=1e-05 .............................................[CV] C=0.01, gamma=1e-05 .............................................[CV] C=0.01, gamma=1e-05 .............................................\n",
        "\n",
        "\n",
        "\n",
        "[CV] .................... C=0.01, gamma=1e-05, score=0.900000 -   0.0s\n",
        "[CV] .................... C=0.01, gamma=1e-05, score=0.900000 -   0.0s\n",
        "[CV] .................... C=0.01, gamma=1e-05, score=0.900000 -   0.0s\n",
        "[CV] .................... C=0.01, gamma=1e-05, score=0.900000 -   0.0s\n",
        "[CV] C=0.01, gamma=1e-05 .............................................[CV] C=0.01, gamma=1e-05 .............................................[CV] C=0.01, gamma=0.0001 ............................................[CV] C=0.01, gamma=0.0001 ............................................\n",
        "\n",
        "\n",
        "\n",
        "[CV] .................... C=0.01, gamma=1e-05, score=0.900000 -   0.0s\n",
        "[CV] .................... C=0.01, gamma=1e-05, score=0.900000 -   0.0s\n",
        "[CV] ................... C=0.01, gamma=0.0001, score=0.900000 -   0.0s\n",
        "[CV] ................... C=0.01, gamma=0.0001, score=0.900000 -   0.0s\n",
        "[CV] C=0.01, gamma=0.0001 ............................................[CV] C=0.01, gamma=0.0001 ............................................[CV] C=0.01, gamma=0.0001 ............................................[CV] C=0.01, gamma=0.0001 ............................................\n",
        "\n",
        "\n",
        "\n",
        "[CV] ................... C=0.01, gamma=0.0001, score=0.900000 -   0.0s\n",
        "[CV] ................... C=0.01, gamma=0.0001, score=0.900000 -   0.0s\n",
        "[CV] ................... C=0.01, gamma=0.0001, score=0.900000 -   0.0s\n",
        "[CV] ................... C=0.01, gamma=0.0001, score=0.900000 -   0.0s\n",
        "[CV] C=0.01, gamma=0.0001 ............................................[CV] C=0.01, gamma=0.0001 ............................................[CV] C=0.01, gamma=0.0001 ............................................[CV] C=0.01, gamma=0.0001 ............................................\n",
        "\n",
        "\n",
        "\n",
        "[CV] ................... C=0.01, gamma=0.0001, score=0.900000 -   0.0s\n",
        "[CV] ................... C=0.01, gamma=0.0001, score=0.900000 -   0.0s\n",
        "[CV] ................... C=0.01, gamma=0.0001, score=0.900000 -   0.0s\n",
        "[CV] ................... C=0.01, gamma=0.0001, score=0.900000 -   0.0s\n",
        "[CV] C=0.01, gamma=0.001 .............................................[CV] C=0.01, gamma=0.001 .............................................[CV] C=0.01, gamma=0.001 .............................................[CV] C=0.01, gamma=0.001 .............................................\n",
        "\n",
        "\n",
        "\n",
        "[CV] .................... C=0.01, gamma=0.001, score=0.900000 -   0.0s\n",
        "[CV] .................... C=0.01, gamma=0.001, score=0.900000 -   0.0s\n",
        "[CV] .................... C=0.01, gamma=0.001, score=0.900000 -   0.0s\n",
        "[CV] .................... C=0.01, gamma=0.001, score=0.900000 -   0.0s\n",
        "[CV] C=0.01, gamma=0.001 .............................................[CV] C=0.01, gamma=0.001 .............................................[CV] C=0.01, gamma=0.001 .............................................[CV] C=0.01, gamma=0.001 .............................................\n",
        "\n",
        "\n",
        "\n",
        "[CV] .................... C=0.01, gamma=0.001, score=0.900000 -   0.0s\n",
        "[CV] .................... C=0.01, gamma=0.001, score=0.900000 -   0.0s\n",
        "[CV] .................... C=0.01, gamma=0.001, score=0.900000 -   0.0s\n",
        "[CV] .................... C=0.01, gamma=0.001, score=0.900000 -   0.0s\n",
        "[CV] C=0.01, gamma=0.001 .............................................[CV] C=0.01, gamma=0.001 .............................................[CV] C=0.01, gamma=0.01 ..............................................[CV] C=0.01, gamma=0.01 ..............................................\n",
        "\n",
        "\n",
        "\n",
        "[CV] .................... C=0.01, gamma=0.001, score=0.900000 -   0.0s\n",
        "[CV] .................... C=0.01, gamma=0.001, score=0.900000 -   0.0s\n",
        "[CV] ..................... C=0.01, gamma=0.01, score=0.900000 -   0.0s\n",
        "[CV] ..................... C=0.01, gamma=0.01, score=0.900000 -   0.0s\n",
        "[CV] C=0.01, gamma=0.01 ..............................................[CV] C=0.01, gamma=0.01 ..............................................[CV] C=0.01, gamma=0.01 ..............................................[CV] C=0.01, gamma=0.01 ..............................................\n",
        "\n",
        "\n",
        "\n",
        "[CV] ..................... C=0.01, gamma=0.01, score=0.900000 -   0.0s\n",
        "[CV] ..................... C=0.01, gamma=0.01, score=0.900000 -   0.0s\n",
        "[CV] ..................... C=0.01, gamma=0.01, score=0.900000 -   0.0s\n",
        "[CV] ..................... C=0.01, gamma=0.01, score=0.900000 -   0.0s\n",
        "[CV] C=0.01, gamma=0.01 ..............................................[CV] C=0.01, gamma=0.01 ..............................................[CV] C=0.01, gamma=0.01 ..............................................[CV] C=0.01, gamma=0.01 ..............................................\n",
        "\n",
        "\n",
        "\n",
        "[CV] ..................... C=0.01, gamma=0.01, score=0.900000 -   0.0s\n",
        "[CV] ..................... C=0.01, gamma=0.01, score=0.900000 -   0.0s\n",
        "[CV] ..................... C=0.01, gamma=0.01, score=0.900000 -   0.0s\n",
        "[CV] ..................... C=0.01, gamma=0.01, score=0.900000 -   0.0s\n",
        "[CV] C=0.01, gamma=0.1 ...............................................[CV] C=0.01, gamma=0.1 ...............................................[CV] C=0.01, gamma=0.1 ...............................................[CV] C=0.01, gamma=0.1 ...............................................\n",
        "\n",
        "\n",
        "\n",
        "[CV] ...................... C=0.01, gamma=0.1, score=0.900000 -   0.0s\n",
        "[CV] ...................... C=0.01, gamma=0.1, score=0.900000 -   0.0s\n",
        "[CV] ...................... C=0.01, gamma=0.1, score=0.900000 -   0.0s\n",
        "[CV] ...................... C=0.01, gamma=0.1, score=0.900000 -   0.0s\n",
        "[CV] C=0.01, gamma=0.1 ...............................................[CV] C=0.01, gamma=0.1 ...............................................[CV] C=0.01, gamma=0.1 ...............................................[CV] C=0.01, gamma=0.1 ...............................................\n",
        "\n",
        "\n",
        "\n",
        "[CV] ...................... C=0.01, gamma=0.1, score=0.900000 -   0.0s\n",
        "[CV] ...................... C=0.01, gamma=0.1, score=0.900000 -   0.0s\n",
        "[CV] ...................... C=0.01, gamma=0.1, score=0.900000 -   0.0s\n",
        "[CV] ...................... C=0.01, gamma=0.1, score=0.900000 -   0.0s\n",
        "[CV] C=0.01, gamma=0.1 ...............................................[CV] C=0.01, gamma=0.1 ...............................................[CV] C=0.01, gamma=1.0 ...............................................[CV] C=0.01, gamma=1.0 ...............................................\n",
        "\n",
        "\n",
        "\n",
        "[CV] ...................... C=0.01, gamma=0.1, score=0.900000 -   0.0s\n",
        "[CV] ...................... C=0.01, gamma=0.1, score=0.900000 -   0.0s\n",
        "[CV] ...................... C=0.01, gamma=1.0, score=0.900000 -   0.0s\n",
        "[CV] ...................... C=0.01, gamma=1.0, score=0.900000 -   0.0s\n",
        "[CV] C=0.01, gamma=1.0 ...............................................[CV] C=0.01, gamma=1.0 ...............................................[CV] C=0.01, gamma=1.0 ...............................................[CV] C=0.01, gamma=1.0 ...............................................\n",
        "\n",
        "\n",
        "\n",
        "[CV] ...................... C=0.01, gamma=1.0, score=0.900000 -   0.0s\n",
        "[CV] ...................... C=0.01, gamma=1.0, score=0.900000 -   0.0s\n",
        "[CV] ...................... C=0.01, gamma=1.0, score=0.900000 -   0.0s\n",
        "[CV] ...................... C=0.01, gamma=1.0, score=0.900000 -   0.0s\n",
        "[CV] C=0.01, gamma=1.0 ...............................................[CV] C=0.01, gamma=1.0 ...............................................[CV] C=0.01, gamma=1.0 ...............................................[CV] C=0.01, gamma=1.0 ...............................................\n",
        "\n",
        "\n",
        "\n",
        "[CV] ...................... C=0.01, gamma=1.0, score=0.900000 -   0.0s\n",
        "[CV] ...................... C=0.01, gamma=1.0, score=0.900000 -   0.0s\n",
        "[CV] ...................... C=0.01, gamma=1.0, score=0.900000 -   0.0s\n",
        "[CV] ...................... C=0.01, gamma=1.0, score=0.900000 -   0.0s\n",
        "[CV] C=0.01, gamma=10.0 ..............................................[CV] C=0.01, gamma=10.0 ..............................................[CV] C=0.01, gamma=10.0 ..............................................[CV] C=0.01, gamma=10.0 ..............................................\n",
        "\n",
        "\n",
        "\n",
        "[CV] ..................... C=0.01, gamma=10.0, score=0.900000 -   0.0s\n",
        "[CV] ..................... C=0.01, gamma=10.0, score=0.900000 -   0.0s\n",
        "[CV] ..................... C=0.01, gamma=10.0, score=0.900000 -   0.0s\n",
        "[CV] ..................... C=0.01, gamma=10.0, score=0.900000 -   0.0s\n",
        "[CV] C=0.01, gamma=10.0 ..............................................[CV] C=0.01, gamma=10.0 ..............................................[CV] C=0.01, gamma=10.0 ..............................................[CV] C=0.01, gamma=10.0 ..............................................\n",
        "\n",
        "\n",
        "\n",
        "[CV] ..................... C=0.01, gamma=10.0, score=0.900000 -   0.0s\n",
        "[CV] ..................... C=0.01, gamma=10.0, score=0.900000 -   0.0s\n",
        "[CV] ..................... C=0.01, gamma=10.0, score=0.900000 -   0.0s\n",
        "[CV] ..................... C=0.01, gamma=10.0, score=0.900000 -   0.0s\n",
        "[CV] C=0.01, gamma=10.0 ..............................................[CV] C=0.01, gamma=10.0 ..............................................[CV] C=0.01, gamma=100.0 .............................................[CV] C=0.01, gamma=100.0 .............................................\n",
        "\n",
        "\n",
        "\n",
        "[CV] ..................... C=0.01, gamma=10.0, score=0.900000 -   0.0s\n",
        "[CV] ..................... C=0.01, gamma=10.0, score=0.900000 -   0.0s\n",
        "[CV] .................... C=0.01, gamma=100.0, score=0.900000 -   0.0s\n",
        "[CV] .................... C=0.01, gamma=100.0, score=0.900000 -   0.0s\n",
        "[CV] C=0.01, gamma=100.0 .............................................[CV] C=0.01, gamma=100.0 .............................................[CV] C=0.01, gamma=100.0 .............................................[CV] C=0.01, gamma=100.0 .............................................\n",
        "\n",
        "\n",
        "\n",
        "[CV] .................... C=0.01, gamma=100.0, score=0.900000 -   0.0s\n",
        "[CV] .................... C=0.01, gamma=100.0, score=0.900000 -   0.0s\n",
        "[CV] .................... C=0.01, gamma=100.0, score=0.900000 -   0.0s\n",
        "[CV] .................... C=0.01, gamma=100.0, score=0.900000 -   0.0s\n",
        "[CV] C=0.01, gamma=100.0 .............................................[CV] C=0.01, gamma=100.0 .............................................[CV] C=0.01, gamma=100.0 .............................................[CV] C=0.01, gamma=100.0 .............................................\n",
        "\n",
        "\n",
        "\n",
        "[CV] .................... C=0.01, gamma=100.0, score=0.900000 -   0.0s\n",
        "[CV] .................... C=0.01, gamma=100.0, score=0.900000 -   0.0s\n",
        "[CV] .................... C=0.01, gamma=100.0, score=0.900000 -   0.0s\n",
        "[CV] .................... C=0.01, gamma=100.0, score=0.900000 -   0.0s\n",
        "[CV] C=0.01, gamma=1000.0 ............................................[CV] C=0.01, gamma=1000.0 ............................................[CV] C=0.01, gamma=1000.0 ............................................[CV] C=0.01, gamma=1000.0 ............................................\n",
        "\n",
        "\n",
        "\n",
        "[CV] ................... C=0.01, gamma=1000.0, score=0.900000 -   0.0s\n",
        "[CV] ................... C=0.01, gamma=1000.0, score=0.900000 -   0.0s\n",
        "[CV] ................... C=0.01, gamma=1000.0, score=0.900000 -   0.0s\n",
        "[CV] ................... C=0.01, gamma=1000.0, score=0.900000 -   0.0s\n",
        "[CV] C=0.01, gamma=1000.0 ............................................[CV] C=0.01, gamma=1000.0 ............................................[CV] C=0.01, gamma=1000.0 ............................................[CV] C=0.01, gamma=1000.0 ............................................\n",
        "\n",
        "\n",
        "\n"
       ]
      },
      {
       "output_type": "stream",
       "stream": "stdout",
       "text": [
        "0.977528089888\n",
        "[CV] ................... C=0.01, gamma=1000.0, score=0.900000 -   0.0s\n",
        "[CV] ................... C=0.01, gamma=1000.0, score=0.900000 -   0.0s\n",
        "[CV] ................... C=0.01, gamma=1000.0, score=0.900000 -   0.0s\n",
        "[CV] ................... C=0.01, gamma=1000.0, score=0.900000 -   0.0s\n",
        "[CV] C=0.01, gamma=1000.0 ............................................[CV] C=0.01, gamma=1000.0 ............................................[CV] C=0.1, gamma=1e-05 ..............................................[CV] C=0.1, gamma=1e-05 ..............................................\n",
        "\n",
        "\n",
        "\n",
        "[CV] ................... C=0.01, gamma=1000.0, score=0.900000 -   0.0s\n",
        "[CV] ................... C=0.01, gamma=1000.0, score=0.900000 -   0.0s\n",
        "[CV] ..................... C=0.1, gamma=1e-05, score=0.900000 -   0.0s\n",
        "[CV] ..................... C=0.1, gamma=1e-05, score=0.900000 -   0.0s\n",
        "[CV] C=0.1, gamma=1e-05 ..............................................[CV] C=0.1, gamma=1e-05 ..............................................[CV] C=0.1, gamma=1e-05 ..............................................[CV] C=0.1, gamma=1e-05 ..............................................\n",
        "\n",
        "\n",
        "\n",
        "[CV] ..................... C=0.1, gamma=1e-05, score=0.900000 -   0.0s\n",
        "[CV] ..................... C=0.1, gamma=1e-05, score=0.900000 -   0.0s\n",
        "[CV] ..................... C=0.1, gamma=1e-05, score=0.900000 -   0.0s\n",
        "[CV] ..................... C=0.1, gamma=1e-05, score=0.900000 -   0.0s\n",
        "[CV] C=0.1, gamma=1e-05 ..............................................[CV] C=0.1, gamma=1e-05 ..............................................[CV] C=0.1, gamma=1e-05 ..............................................[CV] C=0.1, gamma=1e-05 ..............................................\n",
        "\n",
        "\n",
        "\n",
        "[CV] ..................... C=0.1, gamma=1e-05, score=0.900000 -   0.0s\n",
        "[CV] ..................... C=0.1, gamma=1e-05, score=0.900000 -   0.0s\n",
        "[CV] ..................... C=0.1, gamma=1e-05, score=0.900000 -   0.0s\n",
        "[CV] ..................... C=0.1, gamma=1e-05, score=0.900000 -   0.0s\n",
        "[CV] C=0.1, gamma=0.0001 .............................................[CV] C=0.1, gamma=0.0001 .............................................[CV] C=0.1, gamma=0.0001 .............................................[CV] C=0.1, gamma=0.0001 .............................................\n",
        "\n",
        "\n",
        "\n",
        "[CV] .................... C=0.1, gamma=0.0001, score=0.900000 -   0.0s\n",
        "[CV] .................... C=0.1, gamma=0.0001, score=0.900000 -   0.0s\n",
        "[CV] .................... C=0.1, gamma=0.0001, score=0.900000 -   0.0s\n",
        "[CV] .................... C=0.1, gamma=0.0001, score=0.900000 -   0.0s\n",
        "[CV] C=0.1, gamma=0.0001 .............................................[CV] C=0.1, gamma=0.0001 .............................................[CV] C=0.1, gamma=0.0001 .............................................[CV] C=0.1, gamma=0.0001 .............................................\n",
        "\n",
        "\n",
        "\n",
        "[CV] .................... C=0.1, gamma=0.0001, score=0.900000 -   0.0s\n",
        "[CV] .................... C=0.1, gamma=0.0001, score=0.900000 -   0.0s\n",
        "[CV] .................... C=0.1, gamma=0.0001, score=0.900000 -   0.0s\n",
        "[CV] .................... C=0.1, gamma=0.0001, score=0.900000 -   0.0s\n",
        "[CV] C=0.1, gamma=0.0001 .............................................[CV] C=0.1, gamma=0.0001 .............................................[CV] C=0.1, gamma=0.001 ..............................................[CV] C=0.1, gamma=0.001 ..............................................\n",
        "\n",
        "\n",
        "\n",
        "[CV] .................... C=0.1, gamma=0.0001, score=0.900000 -   0.0s\n",
        "[CV] .................... C=0.1, gamma=0.0001, score=0.900000 -   0.0s\n",
        "[CV] ..................... C=0.1, gamma=0.001, score=0.900000 -   0.0s\n",
        "[CV] ..................... C=0.1, gamma=0.001, score=0.900000 -   0.0s\n",
        "[CV] C=0.1, gamma=0.001 ..............................................[CV] C=0.1, gamma=0.001 ..............................................[CV] C=0.1, gamma=0.001 ..............................................[CV] C=0.1, gamma=0.001 ..............................................\n",
        "\n",
        "\n",
        "\n",
        "[CV] ..................... C=0.1, gamma=0.001, score=0.900000 -   0.0s\n",
        "[CV] ..................... C=0.1, gamma=0.001, score=0.900000 -   0.0s\n",
        "[CV] ..................... C=0.1, gamma=0.001, score=0.900000 -   0.0s\n",
        "[CV] ..................... C=0.1, gamma=0.001, score=0.900000 -   0.0s\n",
        "[CV] C=0.1, gamma=0.001 ..............................................[CV] C=0.1, gamma=0.001 ..............................................[CV] C=0.1, gamma=0.001 ..............................................[CV] C=0.1, gamma=0.001 ..............................................\n",
        "\n",
        "\n",
        "\n",
        "[CV] ..................... C=0.1, gamma=0.001, score=0.900000 -   0.0s\n",
        "[CV] ..................... C=0.1, gamma=0.001, score=0.900000 -   0.0s\n",
        "[CV] ..................... C=0.1, gamma=0.001, score=0.900000 -   0.0s\n",
        "[CV] ..................... C=0.1, gamma=0.001, score=0.900000 -   0.0s\n",
        "[CV] C=0.1, gamma=0.01 ...............................................[CV] C=0.1, gamma=0.01 ...............................................[CV] C=0.1, gamma=0.01 ...............................................[CV] C=0.1, gamma=0.01 ...............................................\n",
        "\n",
        "\n",
        "\n",
        "[CV] ...................... C=0.1, gamma=0.01, score=0.900000 -   0.0s\n",
        "[CV] ...................... C=0.1, gamma=0.01, score=0.900000 -   0.0s\n",
        "[CV] ...................... C=0.1, gamma=0.01, score=0.900000 -   0.0s\n",
        "[CV] ...................... C=0.1, gamma=0.01, score=0.900000 -   0.0s\n",
        "[CV] C=0.1, gamma=0.01 ...............................................[CV] C=0.1, gamma=0.01 ...............................................[CV] C=0.1, gamma=0.01 ...............................................[CV] C=0.1, gamma=0.01 ...............................................\n",
        "\n",
        "\n",
        "\n",
        "[CV] ...................... C=0.1, gamma=0.01, score=0.900000 -   0.0s\n",
        "[CV] ...................... C=0.1, gamma=0.01, score=0.900000 -   0.0s\n",
        "[CV] ...................... C=0.1, gamma=0.01, score=0.900000 -   0.0s\n",
        "[CV] ...................... C=0.1, gamma=0.01, score=0.900000 -   0.0s\n",
        "[CV] C=0.1, gamma=0.01 ...............................................[CV] C=0.1, gamma=0.01 ...............................................[CV] C=0.1, gamma=0.1 ................................................[CV] C=0.1, gamma=0.1 ................................................\n",
        "\n",
        "\n",
        "\n",
        "[CV] ...................... C=0.1, gamma=0.01, score=0.900000 -   0.0s\n",
        "[CV] ...................... C=0.1, gamma=0.01, score=0.900000 -   0.0s\n",
        "[CV] ....................... C=0.1, gamma=0.1, score=0.900000 -   0.0s\n",
        "[CV] ....................... C=0.1, gamma=0.1, score=0.900000 -   0.0s\n",
        "[CV] C=0.1, gamma=0.1 ................................................[CV] C=0.1, gamma=0.1 ................................................[CV] C=0.1, gamma=0.1 ................................................[CV] C=0.1, gamma=0.1 ................................................\n",
        "\n",
        "\n",
        "\n",
        "[CV] ....................... C=0.1, gamma=0.1, score=0.900000 -   0.0s\n",
        "[CV] ....................... C=0.1, gamma=0.1, score=0.900000 -   0.0s\n",
        "[CV] ....................... C=0.1, gamma=0.1, score=0.900000 -   0.0s\n",
        "[CV] ....................... C=0.1, gamma=0.1, score=0.900000 -   0.0s\n",
        "[CV] C=0.1, gamma=0.1 ................................................[CV] C=0.1, gamma=0.1 ................................................[CV] C=0.1, gamma=0.1 ................................................[CV] C=0.1, gamma=0.1 ................................................\n",
        "\n",
        "\n",
        "\n",
        "[CV] ....................... C=0.1, gamma=0.1, score=0.900000 -   0.0s\n",
        "[CV] ....................... C=0.1, gamma=0.1, score=0.900000 -   0.0s\n",
        "[CV] ....................... C=0.1, gamma=0.1, score=0.900000 -   0.0s\n",
        "[CV] ....................... C=0.1, gamma=0.1, score=0.900000 -   0.0s\n",
        "[CV] C=0.1, gamma=1.0 ................................................[CV] C=0.1, gamma=1.0 ................................................[CV] C=0.1, gamma=1.0 ................................................[CV] C=0.1, gamma=1.0 ................................................\n",
        "\n",
        "\n",
        "\n",
        "[CV] ....................... C=0.1, gamma=1.0, score=0.900000 -   0.0s\n",
        "[CV] ....................... C=0.1, gamma=1.0, score=0.900000 -   0.0s\n",
        "[CV] ....................... C=0.1, gamma=1.0, score=0.900000 -   0.0s\n",
        "[CV] ....................... C=0.1, gamma=1.0, score=0.900000 -   0.0s\n",
        "[CV] C=0.1, gamma=1.0 ................................................[CV] C=0.1, gamma=1.0 ................................................[CV] C=0.1, gamma=1.0 ................................................[CV] C=0.1, gamma=1.0 ................................................\n",
        "\n",
        "\n",
        "\n",
        "[CV] ....................... C=0.1, gamma=1.0, score=0.900000 -   0.0s\n",
        "[CV] ....................... C=0.1, gamma=1.0, score=0.900000 -   0.0s\n",
        "[CV] ....................... C=0.1, gamma=1.0, score=0.900000 -   0.0s\n",
        "[CV] ....................... C=0.1, gamma=1.0, score=0.900000 -   0.0s\n",
        "[CV] C=0.1, gamma=1.0 ................................................[CV] C=0.1, gamma=1.0 ................................................[CV] C=0.1, gamma=10.0 ...............................................[CV] C=0.1, gamma=10.0 ...............................................\n",
        "\n",
        "\n",
        "\n",
        "[CV] ....................... C=0.1, gamma=1.0, score=0.900000 -   0.0s\n",
        "[CV] ....................... C=0.1, gamma=1.0, score=0.900000 -   0.0s\n",
        "[CV] ...................... C=0.1, gamma=10.0, score=0.900000 -   0.0s\n",
        "[CV] ...................... C=0.1, gamma=10.0, score=0.900000 -   0.0s\n",
        "[CV] C=0.1, gamma=10.0 ...............................................[CV] C=0.1, gamma=10.0 ...............................................[CV] C=0.1, gamma=10.0 ...............................................[CV] C=0.1, gamma=10.0 ...............................................\n",
        "\n",
        "\n",
        "\n",
        "[CV] ...................... C=0.1, gamma=10.0, score=0.900000 -   0.0s\n",
        "[CV] ...................... C=0.1, gamma=10.0, score=0.900000 -   0.0s\n",
        "[CV] ...................... C=0.1, gamma=10.0, score=0.900000 -   0.0s\n",
        "[CV] ...................... C=0.1, gamma=10.0, score=0.900000 -   0.0s\n",
        "[CV] C=0.1, gamma=10.0 ...............................................[CV] C=0.1, gamma=10.0 ...............................................[CV] C=0.1, gamma=10.0 ...............................................[CV] C=0.1, gamma=10.0 ...............................................\n",
        "\n",
        "\n",
        "\n",
        "[CV] ...................... C=0.1, gamma=10.0, score=0.900000 -   0.0s\n",
        "[CV] ...................... C=0.1, gamma=10.0, score=0.900000 -   0.0s\n",
        "[CV] ...................... C=0.1, gamma=10.0, score=0.900000 -   0.0s\n",
        "[CV] ...................... C=0.1, gamma=10.0, score=0.900000 -   0.0s\n",
        "[CV] C=0.1, gamma=100.0 ..............................................[CV] C=0.1, gamma=100.0 ..............................................[CV] C=0.1, gamma=100.0 ..............................................[CV] C=0.1, gamma=100.0 ..............................................\n",
        "\n",
        "\n",
        "\n",
        "[CV] ..................... C=0.1, gamma=100.0, score=0.900000 -   0.0s\n",
        "[CV] ..................... C=0.1, gamma=100.0, score=0.900000 -   0.0s\n",
        "[CV] ..................... C=0.1, gamma=100.0, score=0.900000 -   0.0s\n",
        "[CV] ..................... C=0.1, gamma=100.0, score=0.900000 -   0.0s\n",
        "[CV] C=0.1, gamma=100.0 ..............................................[CV] C=0.1, gamma=100.0 ..............................................[CV] C=0.1, gamma=100.0 ..............................................[CV] C=0.1, gamma=100.0 ..............................................\n",
        "\n",
        "\n",
        "\n",
        "[CV] ..................... C=0.1, gamma=100.0, score=0.900000 -   0.0s\n",
        "[CV] ..................... C=0.1, gamma=100.0, score=0.900000 -   0.0s\n",
        "[CV] ..................... C=0.1, gamma=100.0, score=0.900000 -   0.0s\n",
        "[CV] ..................... C=0.1, gamma=100.0, score=0.900000 -   0.0s\n",
        "[CV] C=0.1, gamma=100.0 ..............................................[CV] C=0.1, gamma=100.0 ..............................................[CV] C=0.1, gamma=1000.0 .............................................[CV] C=0.1, gamma=1000.0 .............................................\n",
        "\n",
        "\n",
        "\n",
        "[CV] ..................... C=0.1, gamma=100.0, score=0.900000 -   0.0s\n",
        "[CV] ..................... C=0.1, gamma=100.0, score=0.900000 -   0.0s\n",
        "[CV] .................... C=0.1, gamma=1000.0, score=0.900000 -   0.0s\n",
        "[CV] .................... C=0.1, gamma=1000.0, score=0.900000 -   0.0s\n"
       ]
      }
     ],
     "prompt_number": 38
    },
    {
     "cell_type": "code",
     "collapsed": false,
     "input": [
      "print\n",
      "Y_predict = clf.predict(X)\n",
      "print 'F1:', metrics.f1_score(Y, Y_predict)\n",
      "print 'accuracy:', metrics.accuracy_score(Y, Y_predict)\n",
      "print 'precision:', metrics.precision_score(Y, Y_predict)\n",
      "print 'recall:', metrics.recall_score(Y, Y_predict)\n",
      "print metrics.confusion_matrix(Y, Y_predict)\n",
      "print\n",
      "print metrics.classification_report(Y, Y_predict)"
     ],
     "language": "python",
     "metadata": {},
     "outputs": []
    },
    {
     "cell_type": "code",
     "collapsed": false,
     "input": [
      "print X.shape\n",
      "print X[1:100,].shape\n",
      "print np.concatenate((X, X), axis=0).shape"
     ],
     "language": "python",
     "metadata": {},
     "outputs": [
      {
       "output_type": "stream",
       "stream": "stdout",
       "text": [
        "(3560, 1356)\n",
        "(99, 1356)\n",
        "(7120, 1356)\n"
       ]
      }
     ],
     "prompt_number": 127
    },
    {
     "cell_type": "heading",
     "level": 1,
     "metadata": {},
     "source": [
      "Regression"
     ]
    },
    {
     "cell_type": "code",
     "collapsed": false,
     "input": [
      "cid, y, X, col_names = extract_features(combined_commits, clip=2.0)"
     ],
     "language": "python",
     "metadata": {},
     "outputs": [
      {
       "output_type": "stream",
       "stream": "stdout",
       "text": [
        "total features: 3560\n"
       ]
      }
     ],
     "prompt_number": 105
    },
    {
     "cell_type": "code",
     "collapsed": false,
     "input": [
      "# Train cRegression classifier\n",
      "\n",
      "C_range = 10.0 ** np.arange(-2, 9)\n",
      "gamma_range = 10.0 ** np.arange(-5, 4)\n",
      "param_grid = dict(gamma=gamma_range, C=C_range)\n",
      "\n",
      "# cv = StratifiedKFold(y=Y, n_folds=3)\n",
      "# cv = StratifiedShuffleSplit(Y, train_size=0.2, test_size=0.2, random_state=0)\n",
      "\n",
      "#cv = StratifiedShuffleSplit(Y, train_size=100, test_size=100, random_state=0)\n",
      "cv = ShuffleSplit(len(Y), train_size=100, test_size=100, random_state=0)\n",
      "\n",
      "grid = GridSearchCV(SVR(), param_grid=param_grid, cv=cv)\n",
      "grid.fit(X, Y)\n",
      "\n",
      "print \"The best classifier is: \", grid.best_estimator_\n",
      "print\n",
      "clf = grid.best_estimator_\n",
      "print \"Score:\", clf.score(X, Y)"
     ],
     "language": "python",
     "metadata": {},
     "outputs": [
      {
       "output_type": "stream",
       "stream": "stdout",
       "text": [
        "The best classifier is:  SVR(C=1.0, cache_size=200, coef0=0.0, degree=3, epsilon=0.1, gamma=0.01,\n",
        "  kernel='rbf', max_iter=-1, probability=False, random_state=None,\n",
        "  shrinking=True, tol=0.001, verbose=False)\n",
        "\n",
        "Score: "
       ]
      },
      {
       "output_type": "stream",
       "stream": "stdout",
       "text": [
        "0.17969594438\n"
       ]
      }
     ],
     "prompt_number": 106
    },
    {
     "cell_type": "code",
     "collapsed": false,
     "input": [
      "YY = clf.predict(X)"
     ],
     "language": "python",
     "metadata": {},
     "outputs": [],
     "prompt_number": 107
    },
    {
     "cell_type": "code",
     "collapsed": false,
     "input": [
      "for i in range(100):\n",
      "    print abs(y[i] - YY[i])\n",
      "        # , '    ',  y[i], '    ', YY[i]"
     ],
     "language": "python",
     "metadata": {},
     "outputs": [
      {
       "output_type": "stream",
       "stream": "stdout",
       "text": [
        "0.0987566418818\n",
        "0.10013909636\n",
        "0.0366698216586\n",
        "0.0559826604127\n",
        "0.0825453562576\n",
        "0.0311549812472\n",
        "0.0442496270146\n",
        "0.0600624338743\n",
        "0.0857939942345\n",
        "0.0327378032592\n",
        "0.0109004018934\n",
        "0.0123289970755\n",
        "0.0159915585531\n",
        "0.0841776910238\n",
        "0.0420523435678\n",
        "0.0734391619135\n",
        "0.0386771838614\n",
        "0.0139339819115\n",
        "0.0748362788879\n",
        "0.0130434098358\n",
        "0.112312982365\n",
        "0.0600851098767\n",
        "0.0371948703723\n",
        "0.0998306272125\n",
        "0.118871118581\n",
        "0.0745115314221\n",
        "0.0997911500665\n",
        "0.0518321055344\n",
        "0.0890556725232\n",
        "0.0296334998694\n",
        "0.0999107570568\n",
        "0.0888958492037\n",
        "0.0997140192643\n",
        "0.0997636819542\n",
        "0.00490056255908\n",
        "0.0202101867102\n",
        "0.0941294562392\n",
        "0.0486697630017\n",
        "0.0738860278808\n",
        "0.0677144806356\n",
        "0.0674357805989\n",
        "0.0233722758341\n",
        "0.0590788408154\n",
        "0.0740085729501\n",
        "0.0660249442282\n",
        "0.00371750251736\n",
        "0.0492011901699\n",
        "0.081179967077\n",
        "0.0902384917497\n",
        "0.0680636310909\n",
        "0.121869604516\n",
        "0.105142104169\n",
        "0.0364338006211\n",
        "0.0702954634638\n",
        "0.11807808657\n",
        "0.0377537694357\n",
        "0.0528065993398\n",
        "0.0589585680162\n",
        "0.0803755648428\n",
        "0.0937548796169\n",
        "0.0232783741575\n",
        "0.0352271010067\n",
        "0.0713657309276\n",
        "0.0533464549018\n",
        "0.100580869767\n",
        "0.0813889624007\n",
        "0.0470931242982\n",
        "0.0528271360676\n",
        "0.0339162999965\n",
        "0.0861794016409\n",
        "0.0730313837059\n",
        "0.0348348101241\n",
        "0.0814755416021\n",
        "0.0568515574313\n",
        "0.0595982002352\n",
        "0.0701109515338\n",
        "0.0263769010935\n",
        "0.0637382010882\n",
        "0.0713606924367\n",
        "0.0754991769746\n",
        "0.0699550238169\n",
        "0.0872208009028\n",
        "0.100159270952\n",
        "0.0290868543409\n",
        "0.0505898838679\n",
        "0.0175070564397\n",
        "0.0043383094248\n",
        "0.0638642381623\n",
        "0.0627562550351\n",
        "0.0827733433567\n",
        "0.0269626160705\n",
        "0.081302729797\n",
        "0.389452832696\n",
        "0.10014392687\n",
        "0.0696818005824\n",
        "0.0241737726742\n",
        "0.0791876626645\n",
        "0.0941276795568\n",
        "0.0407844649008\n",
        "0.0367200190533\n"
       ]
      }
     ],
     "prompt_number": 108
    },
    {
     "cell_type": "code",
     "collapsed": false,
     "input": [
      "from random import randint"
     ],
     "language": "python",
     "metadata": {},
     "outputs": [],
     "prompt_number": 27
    },
    {
     "cell_type": "code",
     "collapsed": false,
     "input": [
      "def shuffle(idx, iter=10):\n",
      "    \"\"\"Shuffles an array of values.\n",
      "    idx - can be a list, array or an integer.  If integer,\n",
      "    initialized as an array from 0 to n-1.\n",
      "    \"\"\"\n",
      "    if type(idx) is list:\n",
      "        pass\n",
      "    elif type(idx) is int:\n",
      "        idx = range(idx)\n",
      "    else:\n",
      "        raise Exception('shuffle: Invalid index type')\n",
      "    \n",
      "    elements = len(idx)\n",
      "    for n in range(iter):\n",
      "        for i in range(elements):\n",
      "            x = randint(0, elements - 1)\n",
      "            idx[i], idx[x] = idx[x], idx[i]   # swap\n",
      "    return idx"
     ],
     "language": "python",
     "metadata": {},
     "outputs": [],
     "prompt_number": 28
    },
    {
     "cell_type": "code",
     "collapsed": false,
     "input": [
      "shuffle(20, iter=10000)"
     ],
     "language": "python",
     "metadata": {},
     "outputs": [
      {
       "metadata": {},
       "output_type": "pyout",
       "prompt_number": 31,
       "text": [
        "[3, 9, 4, 13, 16, 15, 14, 2, 5, 18, 1, 17, 6, 12, 10, 19, 0, 8, 7, 11]"
       ]
      }
     ],
     "prompt_number": 31
    },
    {
     "cell_type": "code",
     "collapsed": false,
     "input": [],
     "language": "python",
     "metadata": {},
     "outputs": []
    }
   ],
   "metadata": {}
  }
 ]
}