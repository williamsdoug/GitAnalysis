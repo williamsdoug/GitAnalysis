{
 "metadata": {
  "name": "",
  "signature": "sha256:56eb24910e4da8ce85931b67440768223e3b8e60950375a4d78a05a096d14ae0"
 },
 "nbformat": 3,
 "nbformat_minor": 0,
 "worksheets": [
  {
   "cells": [
    {
     "cell_type": "markdown",
     "metadata": {},
     "source": [
      "#Blame Analysis for OpenStack Projects\n",
      "\n",
      "Copyright Doug Williams - 2014, 2015\n",
      "\n",
      "###Updated: 2/7/2015\n",
      "\n",
      "###General Approach:\n",
      "\n",
      "####Generate Guilt (raw data for labels)\n",
      "- Create wrapper around extend blame_compute_normalized_guilt() to compute cumulative blame for a commit\n",
      "- Apply thresholding to deterime which commits get labelled as bug contributors\n",
      " \n",
      "####Generate Features\n",
      "Current Features:\n",
      "- author, author's org\n",
      "- list of files changed\n",
      "- review stats\n",
      "- ordering info (expressed as log of order):\n",
      " - Author order\n",
      " - Include max and min order for files (overall and by author)\n",
      " - Include order by individual files\n",
      "- Overall change complexity and degree of change by individual files\n",
      "- If this is a fix to an existing bug\n",
      "\n",
      "Others to consider in future::\n",
      "- information on reviewer or committer experience?\n",
      " - express as reviewer order\n",
      "- prior bugs by file\n",
      "- prior bugs by author\n",
      "\n",
      "####Train model\n",
      "To Do:\n",
      " - Plot Learning Curves"
     ]
    },
    {
     "cell_type": "markdown",
     "metadata": {},
     "source": [
      "####Proposed approach for equalization:\n",
      "\n",
      "- Method 1: Delete False entries until target percentage achieved\n",
      "- Method 2: Duplicate True entries until target percentage achieved\n"
     ]
    },
    {
     "cell_type": "markdown",
     "metadata": {},
     "source": [
      "###History\n",
      "- 1/28/2015: Initial file creation, derived from NovaSampleData\n",
      "- 1/29/2015:  Shift to use of Swift for initial analysis\n",
      "- 1/30/2015:  First pass end-to end analysis complete using SVM, including create_feature() and extract_features. Recall 0.78, F1 0.88, however very sensitive to training set size.\n",
      "\n",
      "###Issues:\n",
      "- SVM results extremely sensitive to training set size (fails if > 100)"
     ]
    },
    {
     "cell_type": "heading",
     "level": 1,
     "metadata": {},
     "source": [
      "Includes"
     ]
    },
    {
     "cell_type": "code",
     "collapsed": false,
     "input": [
      "%matplotlib inline"
     ],
     "language": "python",
     "metadata": {},
     "outputs": [],
     "prompt_number": 1
    },
    {
     "cell_type": "code",
     "collapsed": false,
     "input": [
      "from pprint import pprint\n",
      "from collections import defaultdict\n",
      "\n",
      "import numpy as np\n",
      "import numpy as np\n",
      "import math\n",
      "import matplotlib.pyplot as plt\n",
      "\n",
      "from sklearn.svm import SVC\n",
      "from sklearn.cross_validation import StratifiedKFold\n",
      "from sklearn.cross_validation import StratifiedShuffleSplit\n",
      "from sklearn.cross_validation import ShuffleSplit\n",
      "from sklearn.grid_search import GridSearchCV\n",
      "from sklearn import metrics\n",
      "\n",
      "# from sklearn.feature_extraction import DictVectorizer\n",
      "# from sklearn.preprocessing import StandardScaler\n",
      "# from sklearn.preprocessing import MinMaxScaler\n",
      "# from sklearn.svm import SVR\n",
      "\n",
      "import sys\n",
      "sys.path.append('./dev')\n",
      "\n",
      "from Git_Extract_Join import  filter_bug_fix_combined_commits\n",
      "\n",
      "from commit_analysis import load_core_analysis_data\n",
      "from commit_analysis import extract_features\n",
      "from commit_analysis import compute_guilt\n",
      "from commit_analysis import autoset_threshold\n",
      "\n",
      "# from commit_analysis import blame_compute_normalized_guilt\n",
      "# from commit_analysis import normalize_blame_by_file"
     ],
     "language": "python",
     "metadata": {},
     "outputs": [],
     "prompt_number": 2
    },
    {
     "cell_type": "heading",
     "level": 1,
     "metadata": {},
     "source": [
      "Code"
     ]
    },
    {
     "cell_type": "raw",
     "metadata": {},
     "source": [
      "None currently"
     ]
    },
    {
     "cell_type": "heading",
     "level": 1,
     "metadata": {},
     "source": [
      "Configuration"
     ]
    },
    {
     "cell_type": "code",
     "collapsed": false,
     "input": [
      "# PROJECT = 'nova'\n",
      "# PROJECT = 'swift'\n",
      "# PROJECT = 'cinder'\n",
      "# PROJECT = 'heat'\n",
      "PROJECT = 'glance'\n",
      "\n",
      "# IMPORTANCE = 'high+'\n",
      "IMPORTANCE = 'med+'"
     ],
     "language": "python",
     "metadata": {},
     "outputs": [],
     "prompt_number": 3
    },
    {
     "cell_type": "heading",
     "level": 1,
     "metadata": {},
     "source": [
      "Processing"
     ]
    },
    {
     "cell_type": "heading",
     "level": 3,
     "metadata": {},
     "source": [
      "Load Data"
     ]
    },
    {
     "cell_type": "code",
     "collapsed": false,
     "input": [
      "combined_commits, all_blame = load_core_analysis_data(PROJECT)"
     ],
     "language": "python",
     "metadata": {},
     "outputs": [
      {
       "output_type": "stream",
       "stream": "stdout",
       "text": [
        "combined_commits: 4076\n",
        "all blame:"
       ]
      },
      {
       "output_type": "stream",
       "stream": "stdout",
       "text": [
        " 1715\n"
       ]
      }
     ],
     "prompt_number": 4
    },
    {
     "cell_type": "heading",
     "level": 3,
     "metadata": {},
     "source": [
      "Validate number of Bug Fix related commits"
     ]
    },
    {
     "cell_type": "code",
     "collapsed": false,
     "input": [
      "bug_fix_commits = [k for k,v in combined_commits.items()\n",
      "                   if filter_bug_fix_combined_commits(v, importance=IMPORTANCE)]\n",
      "\n",
      "bug_fix_commits2 = [be['cid'] for be in all_blame\n",
      "                    if filter_bug_fix_combined_commits(combined_commits[be['cid']], \n",
      "                                                       importance=IMPORTANCE)]\n",
      "actual_bugs = len(bug_fix_commits)\n",
      "print 'Bug Fix Commits:', len(bug_fix_commits), '(method 1)', len(bug_fix_commits), '(method 2)', "
     ],
     "language": "python",
     "metadata": {},
     "outputs": [
      {
       "output_type": "stream",
       "stream": "stdout",
       "text": [
        "Bug Fix Commits: 889 (method 1) 889 (method 2)\n"
       ]
      }
     ],
     "prompt_number": 5
    },
    {
     "cell_type": "heading",
     "level": 3,
     "metadata": {},
     "source": [
      "Compute Guilt"
     ]
    },
    {
     "cell_type": "code",
     "collapsed": false,
     "input": [
      "compute_guilt(combined_commits, all_blame, importance=IMPORTANCE)"
     ],
     "language": "python",
     "metadata": {},
     "outputs": [
      {
       "output_type": "stream",
       "stream": "stdout",
       "text": [
        "entries with non-zero guilt:  1581 out of 4076 ( 38.7880274779 % )\n",
        "smallest guilt: 7.84867749784e-05\n",
        "largest guilt: 15.4417301135\n"
       ]
      }
     ],
     "prompt_number": 6
    },
    {
     "cell_type": "code",
     "collapsed": false,
     "input": [
      "guilt_threshold, labeled_bugs = autoset_threshold(combined_commits, actual_bugs)\n",
      "print 'Setting guilt threshold to:', guilt_threshold\n",
      "print 'Labeled bugs:', labeled_bugs, ' vs Actual bugs:', actual_bugs"
     ],
     "language": "python",
     "metadata": {},
     "outputs": [
      {
       "output_type": "stream",
       "stream": "stdout",
       "text": [
        "Setting guilt threshold to: 0.0702935164496\n",
        "Labeled bugs: 889  vs Actual bugs: 889\n"
       ]
      }
     ],
     "prompt_number": 7
    },
    {
     "cell_type": "heading",
     "level": 3,
     "metadata": {},
     "source": [
      "Plot Guilt Curves, showing selected threshold"
     ]
    },
    {
     "cell_type": "code",
     "collapsed": false,
     "input": [
      "plt.figure(figsize=(12,3))\n",
      "plt.subplot(1, 2, 1)\n",
      "plt.title('Guilt Distribution'); plt.ylabel('log(count)'); plt.xlabel('guilt')\n",
      "plt.hist([v['guilt'] for v in combined_commits.values()],  \n",
      "         log=True, bins=50)\n",
      "plt.axvline(guilt_threshold, color='r', linestyle='dashed', linewidth=2)\n",
      "\n",
      "plt.subplot(1, 2, 2)\n",
      "plt.title('Guilt Cumulative Distribution (reverse)'); plt.ylabel('count'); plt.xlabel('guilt (ignore sign)')\n",
      "plt.hist([- v['guilt'] for v in combined_commits.values()],\n",
      "         log=False, range=(-4, 0), bins=100, cumulative=True)\n",
      "\n",
      "plt.axvline(-guilt_threshold, color='r', linestyle='dashed', linewidth=2)\n",
      "plt.show()"
     ],
     "language": "python",
     "metadata": {},
     "outputs": [
      {
       "metadata": {},
       "output_type": "display_data",
       "png": "[encoded data removed]",
       "text": [
        "<matplotlib.figure.Figure at 0x12ad6a690>"
       ]
      }
     ],
     "prompt_number": 8
    },
    {
     "cell_type": "code",
     "collapsed": false,
     "input": [
      "plt.figure(figsize=(12,3))\n",
      "plt.subplot(1, 2, 1)\n",
      "plt.title('Guilt Cumulative Dist - Zoom'); plt.ylabel('count'); plt.xlabel('guilt (ignore sign)')\n",
      "plt.hist([- v['guilt'] for v in combined_commits.values()],\n",
      "         log=False, range=(-2, -guilt_threshold/4), bins=100, cumulative=True)\n",
      "\n",
      "plt.axvline(-guilt_threshold, color='r', linestyle='dashed', linewidth=2)\n",
      "\n",
      "plt.subplot(1, 2, 2)\n",
      "plt.title('Guilt Cumulative Dist - Log/Lin')\n",
      "plt.ylabel('count')\n",
      "plt.xlabel('log(guilt)')\n",
      "plt.hist([math.log(v['guilt']) for v in combined_commits.values() if v['guilt'] > 0],\n",
      "         log=False, bins=100, range=(-6, -0), cumulative=True)\n",
      "\n",
      "plt.axvline(math.log(guilt_threshold), color='r', linestyle='dashed', linewidth=2)\n",
      "plt.show()"
     ],
     "language": "python",
     "metadata": {},
     "outputs": [
      {
       "metadata": {},
       "output_type": "display_data",
       "png": "[encoded data removed]",
       "text": [
        "<matplotlib.figure.Figure at 0x12b189f10>"
       ]
      }
     ],
     "prompt_number": 9
    },
    {
     "cell_type": "heading",
     "level": 3,
     "metadata": {},
     "source": [
      "Feature Extraction and Preprocessing"
     ]
    },
    {
     "cell_type": "code",
     "collapsed": false,
     "input": [
      "cid, Y_all, X_all, col_names = extract_features(combined_commits, all_blame, threshold=guilt_threshold)\n",
      "print\n",
      "print X_all.shape, Y_all.shape"
     ],
     "language": "python",
     "metadata": {},
     "outputs": [
      {
       "output_type": "stream",
       "stream": "stdout",
       "text": [
        "total features: 3957\n",
        "bugs based on threshold: 857\n",
        "\n",
        "(3957, 2496) (3957,)\n"
       ]
      }
     ],
     "prompt_number": 10
    },
    {
     "cell_type": "code",
     "collapsed": false,
     "input": [
      "X = X_all[1:1001,]\n",
      "XX = X_all[1001:1501,]\n",
      "\n",
      "Y = Y_all[1:1001,]\n",
      "YY = Y_all[1001:1501,]\n",
      "\n",
      "print X.shape, Y.shape\n",
      "print XX.shape, YY.shape"
     ],
     "language": "python",
     "metadata": {},
     "outputs": [
      {
       "output_type": "stream",
       "stream": "stdout",
       "text": [
        "(1000, 2496) (1000,)\n",
        "(500, 2496) (500,)\n"
       ]
      }
     ],
     "prompt_number": 11
    },
    {
     "cell_type": "markdown",
     "metadata": {},
     "source": [
      "####Proposed enhancements to training\n",
      "\n",
      "Some speculative thoughts:\n",
      "- Feature Extraction Test/Train\n",
      " - Separately extract features for test/train period, skip latest 20% of commits\n",
      " - Change balance of positive/negative commits to imprpve trainging.  Traioning currently skewed towards negative test vased today\n",
      "- Create validation test suite with latest tests.  Want to measure prediction accuracy for future bugs."
     ]
    },
    {
     "cell_type": "raw",
     "metadata": {},
     "source": [
      "from sklearn.decomposition import PCA\n",
      "\n",
      "# Note:  Weakness in methodology, really should fix using training set only\n",
      "\n",
      "pca = PCA(n_components='mle')\n",
      "X = pca.fit_transform(X)"
     ]
    },
    {
     "cell_type": "heading",
     "level": 3,
     "metadata": {},
     "source": [
      "Train SVM Classifier"
     ]
    },
    {
     "cell_type": "code",
     "collapsed": false,
     "input": [
      "# SIZE = 100\n",
      "SIZE = 250\n",
      "# SIZE = 0.1\n",
      "# SIZE = 0.2\n",
      "\n",
      "SCORING = 'f1'         # (precision * recall) / (precision + recall)\n",
      "# SCORING = 'accuracy'   # (TP + TN) / all values\n",
      "# SCORING = 'precision'  # TP / (TP + FP)\n",
      "# SCORING = 'recall'     # TP / (TP + FN)\n",
      "# SCORING = 'average_precision'\n",
      "# SCORING = 'roc_auc'\n",
      "\n",
      "JOBS = 4\n",
      "\n",
      "VERBOSE = 1\n",
      "\n",
      "C_range = 10.0 ** np.arange(-2, 9)\n",
      "gamma_range = 10.0 ** np.arange(-5, 4)\n",
      "param_grid = dict(gamma=gamma_range, C=C_range, class_weight=['auto'])\n",
      "\n",
      "\n",
      "# cv = StratifiedKFold(y=Y, n_folds=3)\n",
      "cv = StratifiedShuffleSplit(Y, train_size=SIZE, test_size=SIZE, random_state=0)\n",
      "\n",
      "grid = GridSearchCV(SVC(), param_grid=param_grid, cv=cv, scoring=SCORING,\n",
      "                    n_jobs=JOBS, pre_dispatch=2*JOBS, verbose=VERBOSE)"
     ],
     "language": "python",
     "metadata": {},
     "outputs": [],
     "prompt_number": 11
    },
    {
     "cell_type": "code",
     "collapsed": false,
     "input": [
      "grid.fit(X, Y)"
     ],
     "language": "python",
     "metadata": {},
     "outputs": [
      {
       "output_type": "stream",
       "stream": "stdout",
       "text": [
        "Fitting 10 folds for each of 99 candidates, totalling 990 fits\n"
       ]
      },
      {
       "output_type": "stream",
       "stream": "stderr",
       "text": [
        "[Parallel(n_jobs=4)]: Done   1 jobs       | elapsed:    0.6s\n",
        "[Parallel(n_jobs=4)]: Done  50 jobs       | elapsed:    7.5s\n",
        "[Parallel(n_jobs=4)]: Done 200 jobs       | elapsed:   29.1s\n",
        "[Parallel(n_jobs=4)]: Done 450 jobs       | elapsed:  1.1min\n",
        "[Parallel(n_jobs=4)]: Done 800 jobs       | elapsed:  1.8min\n",
        "[Parallel(n_jobs=4)]: Done 984 out of 990 | elapsed:  2.2min remaining:    0.8s\n",
        "[Parallel(n_jobs=4)]: Done 990 out of 990 | elapsed:  2.2min finished\n",
        "/Users/doug/anaconda/lib/python2.7/site-packages/sklearn/metrics/metrics.py:1771: UndefinedMetricWarning: F-score is ill-defined and being set to 0.0 due to no predicted samples.\n",
        "  'precision', 'predicted', average, warn_for)\n",
        "/Users/doug/anaconda/lib/python2.7/site-packages/sklearn/metrics/metrics.py:1771: UndefinedMetricWarning: F-score is ill-defined and being set to 0.0 due to no predicted samples.\n",
        "  'precision', 'predicted', average, warn_for)\n",
        "/Users/doug/anaconda/lib/python2.7/site-packages/sklearn/metrics/metrics.py:1771: UndefinedMetricWarning: F-score is ill-defined and being set to 0.0 due to no predicted samples.\n",
        "  'precision', 'predicted', average, warn_for)\n",
        "/Users/doug/anaconda/lib/python2.7/site-packages/sklearn/metrics/metrics.py:1771: UndefinedMetricWarning: F-score is ill-defined and being set to 0.0 due to no predicted samples.\n",
        "  'precision', 'predicted', average, warn_for)\n"
       ]
      },
      {
       "metadata": {},
       "output_type": "pyout",
       "prompt_number": 12,
       "text": [
        "GridSearchCV(cv=StratifiedShuffleSplit(labels=[ True False ...,  True False], n_iter=10, test_size=250, random_state=0),\n",
        "       estimator=SVC(C=1.0, cache_size=200, class_weight=None, coef0=0.0, degree=3, gamma=0.0,\n",
        "  kernel='rbf', max_iter=-1, probability=False, random_state=None,\n",
        "  shrinking=True, tol=0.001, verbose=False),\n",
        "       fit_params={}, iid=True, loss_func=None, n_jobs=4,\n",
        "       param_grid={'C': array([  1.00000e-02,   1.00000e-01,   1.00000e+00,   1.00000e+01,\n",
        "         1.00000e+02,   1.00000e+03,   1.00000e+04,   1.00000e+05,\n",
        "         1.00000e+06,   1.00000e+07,   1.00000e+08]), 'gamma': array([  1.00000e-05,   1.00000e-04,   1.00000e-03,   1.00000e-02,\n",
        "         1.00000e-01,   1.00000e+00,   1.00000e+01,   1.00000e+02,\n",
        "         1.00000e+03]), 'class_weight': ['auto']},\n",
        "       pre_dispatch=8, refit=True, score_func=None, scoring='f1',\n",
        "       verbose=1)"
       ]
      }
     ],
     "prompt_number": 12
    },
    {
     "cell_type": "code",
     "collapsed": false,
     "input": [
      "print \"The best classifier is: \", grid.best_estimator_"
     ],
     "language": "python",
     "metadata": {},
     "outputs": [
      {
       "output_type": "stream",
       "stream": "stdout",
       "text": [
        "The best classifier is:  SVC(C=1.0, cache_size=200, class_weight='auto', coef0=0.0, degree=3,\n",
        "  gamma=0.01, kernel='rbf', max_iter=-1, probability=False,\n",
        "  random_state=None, shrinking=True, tol=0.001, verbose=False)\n"
       ]
      }
     ],
     "prompt_number": 13
    },
    {
     "cell_type": "code",
     "collapsed": false,
     "input": [
      "print 'best_score: ', grid.best_score_\n",
      "print"
     ],
     "language": "python",
     "metadata": {},
     "outputs": [
      {
       "output_type": "stream",
       "stream": "stdout",
       "text": [
        "best_score:  0.375413738232\n",
        "\n"
       ]
      }
     ],
     "prompt_number": 14
    },
    {
     "cell_type": "code",
     "collapsed": false,
     "input": [
      "print 'best_params: ',\n",
      "print grid.best_params_"
     ],
     "language": "python",
     "metadata": {},
     "outputs": [
      {
       "output_type": "stream",
       "stream": "stdout",
       "text": [
        "best_params:  {'C': 1.0, 'gamma': 0.01, 'class_weight': 'auto'}\n"
       ]
      }
     ],
     "prompt_number": 15
    },
    {
     "cell_type": "code",
     "collapsed": false,
     "input": [
      "clf = grid.best_estimator_"
     ],
     "language": "python",
     "metadata": {},
     "outputs": [],
     "prompt_number": 16
    },
    {
     "cell_type": "code",
     "collapsed": false,
     "input": [
      "clf"
     ],
     "language": "python",
     "metadata": {},
     "outputs": [
      {
       "metadata": {},
       "output_type": "pyout",
       "prompt_number": 17,
       "text": [
        "SVC(C=1.0, cache_size=200, class_weight='auto', coef0=0.0, degree=3,\n",
        "  gamma=0.01, kernel='rbf', max_iter=-1, probability=False,\n",
        "  random_state=None, shrinking=True, tol=0.001, verbose=False)"
       ]
      }
     ],
     "prompt_number": 17
    },
    {
     "cell_type": "raw",
     "metadata": {},
     "source": [
      "clf.fit(X, Y)"
     ]
    },
    {
     "cell_type": "raw",
     "metadata": {},
     "source": [
      "print \"Score:\", clf.score(X, Y)"
     ]
    },
    {
     "cell_type": "code",
     "collapsed": false,
     "input": [
      "print\n",
      "Y_predict = clf.predict(X)\n",
      "print 'F1:', metrics.f1_score(Y, Y_predict)\n",
      "print 'accuracy:', metrics.accuracy_score(Y, Y_predict)\n",
      "print 'precision:', metrics.precision_score(Y, Y_predict)\n",
      "print 'recall:', metrics.recall_score(Y, Y_predict)\n",
      "print metrics.confusion_matrix(Y, Y_predict)\n",
      "print\n",
      "print metrics.classification_report(Y, Y_predict)"
     ],
     "language": "python",
     "metadata": {},
     "outputs": [
      {
       "output_type": "stream",
       "stream": "stdout",
       "text": [
        "\n",
        "F1:"
       ]
      },
      {
       "output_type": "stream",
       "stream": "stdout",
       "text": [
        " 0.442996742671\n",
        "accuracy: 0.487\n",
        "precision: 0.287729196051\n",
        "recall: 0.962264150943\n",
        "[[283 505]\n",
        " [  8 204]]\n",
        "\n",
        "             precision    recall  f1-score   support\n",
        "\n",
        "      False       0.97      0.36      0.52       788\n",
        "       True       0.29      0.96      0.44       212\n",
        "\n",
        "avg / total       0.83      0.49      0.51      1000\n",
        "\n"
       ]
      }
     ],
     "prompt_number": 18
    },
    {
     "cell_type": "heading",
     "level": 2,
     "metadata": {},
     "source": [
      "Now determine predictive value"
     ]
    },
    {
     "cell_type": "code",
     "collapsed": false,
     "input": [
      "future = 200\n",
      "XX = X_all[1001:1001+future,]\n",
      "YY = Y_all[1001:1001+future,]\n",
      "\n",
      "print XX.shape, YY.shape"
     ],
     "language": "python",
     "metadata": {},
     "outputs": [
      {
       "output_type": "stream",
       "stream": "stdout",
       "text": [
        "(200, 2496) (200,)\n"
       ]
      }
     ],
     "prompt_number": 19
    },
    {
     "cell_type": "code",
     "collapsed": false,
     "input": [
      "print 'incidence of bugs:',  float(len(bug_fix_commits))/ float(len(combined_commits))"
     ],
     "language": "python",
     "metadata": {},
     "outputs": [
      {
       "output_type": "stream",
       "stream": "stdout",
       "text": [
        "incidence of bugs: 0.218105986261\n"
       ]
      }
     ],
     "prompt_number": 20
    },
    {
     "cell_type": "code",
     "collapsed": false,
     "input": [
      "print\n",
      "Y_predict = clf.predict(XX)\n",
      "print 'F1:', metrics.f1_score(YY, Y_predict)\n",
      "print 'accuracy:', metrics.accuracy_score(YY, Y_predict)\n",
      "print 'precision:', metrics.precision_score(YY, Y_predict)\n",
      "print 'recall:', metrics.recall_score(YY, Y_predict)\n",
      "print metrics.confusion_matrix(YY, Y_predict)\n",
      "print\n",
      "print metrics.classification_report(YY, Y_predict)"
     ],
     "language": "python",
     "metadata": {},
     "outputs": [
      {
       "output_type": "stream",
       "stream": "stdout",
       "text": [
        "\n",
        "F1:"
       ]
      },
      {
       "output_type": "stream",
       "stream": "stdout",
       "text": [
        " 0.4\n",
        "accuracy: 0.445\n",
        "precision: 0.268115942029\n",
        "recall: 0.787234042553\n",
        "[[ 52 101]\n",
        " [ 10  37]]\n",
        "\n",
        "             precision    recall  f1-score   support\n",
        "\n",
        "      False       0.84      0.34      0.48       153\n",
        "       True       0.27      0.79      0.40        47\n",
        "\n",
        "avg / total       0.70      0.45      0.46       200\n",
        "\n"
       ]
      }
     ],
     "prompt_number": 21
    },
    {
     "cell_type": "code",
     "collapsed": false,
     "input": [],
     "language": "python",
     "metadata": {},
     "outputs": [],
     "prompt_number": 21
    },
    {
     "cell_type": "heading",
     "level": 1,
     "metadata": {},
     "source": [
      "Boneyard"
     ]
    },
    {
     "cell_type": "heading",
     "level": 6,
     "metadata": {},
     "source": [
      "Regression"
     ]
    },
    {
     "cell_type": "raw",
     "metadata": {},
     "source": [
      "cid, y, X, col_names = extract_features(combined_commits, all_blame, clip=2.0)"
     ]
    },
    {
     "cell_type": "raw",
     "metadata": {},
     "source": [
      "# Train cRegression classifier\n",
      "\n",
      "C_range = 10.0 ** np.arange(-2, 9)\n",
      "gamma_range = 10.0 ** np.arange(-5, 4)\n",
      "param_grid = dict(gamma=gamma_range, C=C_range)\n",
      "\n",
      "# cv = StratifiedKFold(y=Y, n_folds=3)\n",
      "# cv = StratifiedShuffleSplit(Y, train_size=0.2, test_size=0.2, random_state=0)\n",
      "\n",
      "#cv = StratifiedShuffleSplit(Y, train_size=100, test_size=100, random_state=0)\n",
      "cv = ShuffleSplit(len(Y), train_size=100, test_size=100, random_state=0)\n",
      "\n",
      "grid = GridSearchCV(SVR(), param_grid=param_grid, cv=cv)\n",
      "grid.fit(X, Y)\n",
      "\n",
      "print \"The best classifier is: \", grid.best_estimator_\n",
      "print\n",
      "clf = grid.best_estimator_\n",
      "print \"Score:\", clf.score(X, Y)"
     ]
    },
    {
     "cell_type": "raw",
     "metadata": {},
     "source": [
      "YY = clf.predict(X)"
     ]
    },
    {
     "cell_type": "raw",
     "metadata": {},
     "source": [
      "for i in range(100):\n",
      "    print abs(y[i] - YY[i])\n",
      "        # , '    ',  y[i], '    ', YY[i]"
     ]
    },
    {
     "cell_type": "raw",
     "metadata": {},
     "source": [
      "from random import randint"
     ]
    },
    {
     "cell_type": "raw",
     "metadata": {},
     "source": [
      "def shuffle(idx, iter=10):\n",
      "    \"\"\"Shuffles an array of values.\n",
      "    idx - can be a list, array or an integer.  If integer,\n",
      "    initialized as an array from 0 to n-1.\n",
      "    \"\"\"\n",
      "    if type(idx) is list:\n",
      "        pass\n",
      "    elif type(idx) is int:\n",
      "        idx = range(idx)\n",
      "    else:\n",
      "        raise Exception('shuffle: Invalid index type')\n",
      "    \n",
      "    elements = len(idx)\n",
      "    for n in range(iter):\n",
      "        for i in range(elements):\n",
      "            x = randint(0, elements - 1)\n",
      "            idx[i], idx[x] = idx[x], idx[i]   # swap\n",
      "    return idx"
     ]
    },
    {
     "cell_type": "raw",
     "metadata": {},
     "source": [
      "shuffle(20, iter=10000)"
     ]
    },
    {
     "cell_type": "code",
     "collapsed": false,
     "input": [],
     "language": "python",
     "metadata": {},
     "outputs": [],
     "prompt_number": 21
    },
    {
     "cell_type": "code",
     "collapsed": false,
     "input": [],
     "language": "python",
     "metadata": {},
     "outputs": [],
     "prompt_number": 21
    },
    {
     "cell_type": "code",
     "collapsed": false,
     "input": [],
     "language": "python",
     "metadata": {},
     "outputs": []
    },
    {
     "cell_type": "raw",
     "metadata": {},
     "source": []
    }
   ],
   "metadata": {}
  }
 ]
}