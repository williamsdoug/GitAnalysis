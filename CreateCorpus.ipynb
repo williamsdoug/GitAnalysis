{
 "metadata": {
  "name": "",
  "signature": "sha256:2fcfc1008181f61f2a8bf0b880541e66b88f3e6089d0df9c0e43ecff6bbb2d61"
 },
 "nbformat": 3,
 "nbformat_minor": 0,
 "worksheets": [
  {
   "cells": [
    {
     "cell_type": "markdown",
     "metadata": {},
     "source": [
      "#Master file to create Corpus\n",
      "\n",
      "Author:  Doug Williams, Copyright 2014, 2015\n",
      "\n",
      "Last Updated: 2/6/2015\n",
      "\n",
      "Can either rebuild corpus from scratch, or apply updates incrementally.   Since some of the cata is downloaded from the web, there are a set of intermediate corpus that are also maintained.  These are later joined to produce the finl result\n",
      "\n",
      "Intermediate Corpus:\n",
      "- < project >_change_details.jsonz\n",
      "- < project >_changes.jsonz\n",
      "- < project >_commits.jsonz\n",
      "- < project >_lp_bugs.jsonz\n",
      "- < project >_patch_data.jsonz\n",
      "\n",
      "\n",
      "Output Corpus:\n",
      "- < project >_all_blame.jsonz\n",
      "- < project >_combined_commits.jsonz\n",
      "\n",
      "Currently tested projects:\n",
      "- nova - rebuild\n",
      "- swift\n",
      "- glance\n",
      "- cinder\n",
      "- heat"
     ]
    },
    {
     "cell_type": "code",
     "collapsed": false,
     "input": [
      "import pprint as pp\n",
      "import sys\n",
      "sys.path.append('./dev')\n",
      "\n",
      "from commit_analysis import load_all_analysis_data\n",
      "from commit_analysis import rebuild_all_analysis_data\n",
      "from Git_Extract_Join import build_all_blame, load_all_blame"
     ],
     "language": "python",
     "metadata": {},
     "outputs": [],
     "prompt_number": 1
    },
    {
     "cell_type": "heading",
     "level": 3,
     "metadata": {},
     "source": [
      "Parameters"
     ]
    },
    {
     "cell_type": "code",
     "collapsed": false,
     "input": [
      "# PROJECT = 'nova'\n",
      "# PROJECT = 'swift'\n",
      "# PROJECT = 'cinder'\n",
      "# PROJECT = 'heat'\n",
      "PROJECT = 'glance'\n",
      "\n",
      "UPDATE_CORPUS = True\n",
      "BUILD_CORPUS = False"
     ],
     "language": "python",
     "metadata": {},
     "outputs": [],
     "prompt_number": 2
    },
    {
     "cell_type": "heading",
     "level": 3,
     "metadata": {},
     "source": [
      "Update base data for Corpus"
     ]
    },
    {
     "cell_type": "code",
     "collapsed": false,
     "input": [
      "if BUILD_CORPUS or UPDATE_CORPUS:\n",
      "    repo_name ='/Users/doug/SW_Dev/' + PROJECT\n",
      "    rebuild_all_analysis_data(PROJECT, repo_name, update=UPDATE_CORPUS)"
     ],
     "language": "python",
     "metadata": {},
     "outputs": [
      {
       "output_type": "stream",
       "stream": "stdout",
       "text": [
        "Total prior bugs: 1220\n",
        "total bugs:"
       ]
      },
      {
       "output_type": "stream",
       "stream": "stdout",
       "text": [
        " 1136\n",
        "bugs to be downloaded: 0\n",
        "New bugs downloaded: 0\n",
        "Prior bugs downloaded: 1220\n",
        "Final bugs: 1220\n",
        "annotating bug entries ..."
       ]
      },
      {
       "output_type": "stream",
       "stream": "stdout",
       "text": [
        "\n",
        "      Critical "
       ]
      },
      {
       "output_type": "stream",
       "stream": "stdout",
       "text": [
        "96 / 96\n",
        "      High "
       ]
      },
      {
       "output_type": "stream",
       "stream": "stdout",
       "text": [
        "203 / 203\n",
        "      Medium "
       ]
      },
      {
       "output_type": "stream",
       "stream": "stdout",
       "text": [
        "290 / 290\n",
        "      Low "
       ]
      },
      {
       "output_type": "stream",
       "stream": "stdout",
       "text": [
        "280 / 280\n",
        "      Wishlist "
       ]
      },
      {
       "output_type": "stream",
       "stream": "stdout",
       "text": [
        "76 / 76\n",
        "      Unknown "
       ]
      },
      {
       "output_type": "stream",
       "stream": "stdout",
       "text": [
        "0 / 0\n",
        "      Undecided "
       ]
      },
      {
       "output_type": "stream",
       "stream": "stdout",
       "text": [
        "191 / 191\n",
        "\n",
        "      Fix Committed "
       ]
      },
      {
       "output_type": "stream",
       "stream": "stdout",
       "text": [
        "1 / 1\n",
        "      Fix Released "
       ]
      },
      {
       "output_type": "stream",
       "stream": "stdout",
       "text": [
        "1135 / 1135\n",
        "\n"
       ]
      },
      {
       "output_type": "stream",
       "stream": "stdout",
       "text": [
        "rebuilding Gerrit data\n",
        "."
       ]
      },
      {
       "output_type": "stream",
       "stream": "stdout",
       "text": [
        " . "
       ]
      },
      {
       "output_type": "stream",
       "stream": "stdout",
       "text": [
        ". "
       ]
      },
      {
       "output_type": "stream",
       "stream": "stdout",
       "text": [
        ". "
       ]
      },
      {
       "output_type": "stream",
       "stream": "stdout",
       "text": [
        ". "
       ]
      },
      {
       "output_type": "stream",
       "stream": "stdout",
       "text": [
        ".\n",
        "total changes: 2078\n",
        "2078\n",
        "total gerrit changes:"
       ]
      },
      {
       "output_type": "stream",
       "stream": "stdout",
       "text": [
        " 2078\n",
        "all_changes: 2078\n",
        "total gerrit changes with detail:"
       ]
      },
      {
       "output_type": "stream",
       "stream": "stdout",
       "text": [
        " 2078\n",
        "all_change_details: 2078\n",
        "Missing: 0\n",
        "Downloaded: 0\n",
        "Skipped: 0\n",
        "total gerrit changes with detail:"
       ]
      },
      {
       "output_type": "stream",
       "stream": "stdout",
       "text": [
        " 2078\n",
        "\n"
       ]
      },
      {
       "output_type": "stream",
       "stream": "stdout",
       "text": [
        "building Git data\n",
        "total git_commits:"
       ]
      },
      {
       "output_type": "stream",
       "stream": "stdout",
       "text": [
        " 4076\n",
        "bug fix commits: 1698\n",
        "commits with change_id: 3110\n",
        "bug fix with change_id: 1643\n",
        "\n"
       ]
      },
      {
       "output_type": "stream",
       "stream": "stdout",
       "text": [
        "total commits: 4076\n",
        "Augment Git data with patch info\n",
        "known patches:"
       ]
      },
      {
       "output_type": "stream",
       "stream": "stdout",
       "text": [
        " 1309\n",
        "requested patches: 0\n",
        "new patches to be fetched: 0\n",
        "\n",
        "Augment Git data with ordering info\n",
        "\n"
       ]
      },
      {
       "output_type": "stream",
       "stream": "stdout",
       "text": [
        "Augment Git data with lines-of-code changed\n",
        "Preparation for join"
       ]
      },
      {
       "output_type": "stream",
       "stream": "stdout",
       "text": [
        "\n",
        "total LP bugs:"
       ]
      },
      {
       "output_type": "stream",
       "stream": "stdout",
       "text": [
        " 1220\n",
        "Entries annotated: 927\n",
        "total git_commits:"
       ]
      },
      {
       "output_type": "stream",
       "stream": "stdout",
       "text": [
        " 4076\n",
        "bug fix commits: 1698\n",
        "commits with change_id: 3110\n",
        "bug fix with change_id: 1643\n",
        "total gerrit changes with detail:"
       ]
      },
      {
       "output_type": "stream",
       "stream": "stdout",
       "text": [
        " 2078\n",
        "\n",
        "Building combined_commits\n",
        "1867\n",
        ". . . . . . . . . . 1000 . . . "
       ]
      },
      {
       "output_type": "stream",
       "stream": "stdout",
       "text": [
        ". . . . . . . 2000 . . . . . . . . . . 3000 . . "
       ]
      },
      {
       "output_type": "stream",
       "stream": "stdout",
       "text": [
        ". . . . . . . . 4000\n"
       ]
      },
      {
       "output_type": "stream",
       "stream": "stdout",
       "text": [
        "Building all blame\n",
        "bug fix commits:"
       ]
      },
      {
       "output_type": "stream",
       "stream": "stdout",
       "text": [
        " 438\n",
        "new blame to be computed:"
       ]
      },
      {
       "output_type": "stream",
       "stream": "stdout",
       "text": [
        " 0\n"
       ]
      }
     ],
     "prompt_number": 3
    },
    {
     "cell_type": "heading",
     "level": 3,
     "metadata": {},
     "source": [
      "Get Launchpad, Gerrit and Git Data"
     ]
    },
    {
     "cell_type": "code",
     "collapsed": false,
     "input": [
      "downloaded_bugs, all_changes, \\\n",
      "all_change_details, \\\n",
      "commits, combined_commits, all_blame = load_all_analysis_data(PROJECT)"
     ],
     "language": "python",
     "metadata": {},
     "outputs": [
      {
       "output_type": "stream",
       "stream": "stdout",
       "text": [
        "loading bug data\n",
        "total LP bugs:"
       ]
      },
      {
       "output_type": "stream",
       "stream": "stdout",
       "text": [
        " 1220\n",
        "Entries annotated: 927\n",
        "\n",
        "loading Git commit data\n",
        "total git_commits:"
       ]
      },
      {
       "output_type": "stream",
       "stream": "stdout",
       "text": [
        " 4076\n",
        "bug fix commits: 1698\n",
        "commits with change_id: 3110\n",
        "bug fix with change_id: 1643\n",
        "loading change data\n",
        "total gerrit changes with detail:"
       ]
      },
      {
       "output_type": "stream",
       "stream": "stdout",
       "text": [
        " 2078\n",
        "all_change_details: 2078\n",
        "total gerrit changes:"
       ]
      },
      {
       "output_type": "stream",
       "stream": "stdout",
       "text": [
        " 2078\n",
        "all_changes: 2078\n",
        "combined_commits:"
       ]
      },
      {
       "output_type": "stream",
       "stream": "stdout",
       "text": [
        " 4076\n",
        "all blame:"
       ]
      },
      {
       "output_type": "stream",
       "stream": "stdout",
       "text": [
        " 1715\n"
       ]
      }
     ],
     "prompt_number": 4
    },
    {
     "cell_type": "heading",
     "level": 3,
     "metadata": {},
     "source": [
      "Compute Diff and Blame"
     ]
    },
    {
     "cell_type": "raw",
     "metadata": {},
     "source": [
      "if BUILD_CORPUS or UPDATE_CORPUS:\n",
      "    project = PROJECT\n",
      "    repo_name ='/Users/doug/SW_Dev/' + project\n",
      "    build_all_blame(project, combined_commits, repo_name, update=UPDATE_CORPUS)"
     ]
    },
    {
     "cell_type": "raw",
     "metadata": {},
     "source": [
      "all_blame = load_all_blame(PROJECT)\n",
      "print len(all_blame)"
     ]
    },
    {
     "cell_type": "heading",
     "level": 3,
     "metadata": {},
     "source": [
      "Display Sample Output"
     ]
    },
    {
     "cell_type": "code",
     "collapsed": false,
     "input": [
      "hot_commits = sum([1 for val in combined_commits.values()\n",
      "                   if 'lp:heat' in val and int(val['lp:heat']) >= 250])\n",
      "\n",
      "print hot_commits"
     ],
     "language": "python",
     "metadata": {},
     "outputs": [
      {
       "output_type": "stream",
       "stream": "stdout",
       "text": [
        "20\n"
       ]
      }
     ],
     "prompt_number": 5
    },
    {
     "cell_type": "code",
     "collapsed": false,
     "input": [
      "pp.pprint(combined_commits.values()[-15].keys())"
     ],
     "language": "python",
     "metadata": {},
     "outputs": [
      {
       "output_type": "stream",
       "stream": "stdout",
       "text": [
        "[u'committer',\n",
        " u'lp:title',\n",
        " u'g:status',\n",
        " u'lp:cves',\n",
        " u'lp:self_link',\n",
        " u'loc_add',\n",
        " u'lp:tags',\n",
        " u'g:updated',\n",
        " u'lp:attachments',\n",
        " u'lp:heat',\n",
        " u'lp:date_created',\n",
        " u'lp:messages',\n",
        " u'lp:description',\n",
        " u'lp:message_count',\n",
        " u'lp:importance',\n",
        " u'author',\n",
        " u'g:project',\n",
        " u'lp:activity',\n",
        " u'lp:resource_type',\n",
        " u'parents',\n",
        " u'g:_number',\n",
        " u'loc_detail',\n",
        " u'lp:change_id',\n",
        " u'files',\n",
        " u'g:owner',\n",
        " u'g:subject',\n",
        " u'g:branch',\n",
        " u'g:created',\n",
        " u'g:change_id',\n",
        " u'lp:information_type',\n",
        " u'msg',\n",
        " u'file_order',\n",
        " u'date',\n",
        " u'bug',\n",
        " u'loc_change',\n",
        " u'g:messages',\n",
        " u'cid',\n",
        " u'lp:duplicate_of',\n",
        " u'change_id',\n",
        " u'lp:security_related',\n",
        " u'lp:status',\n",
        " u'lp:id',\n",
        " u'g:topic',\n",
        " u'lp:name',\n",
        " u'g:labels',\n",
        " u'lp:review',\n",
        " u'author_order',\n",
        " u'order',\n",
        " u'file_order_for_author']\n"
       ]
      }
     ],
     "prompt_number": 11
    },
    {
     "cell_type": "code",
     "collapsed": false,
     "input": [
      "pp.pprint(combined_commits.values()[10]['order'])\n",
      "pp.pprint(combined_commits.values()[-11]['order'])"
     ],
     "language": "python",
     "metadata": {},
     "outputs": [
      {
       "output_type": "stream",
       "stream": "stdout",
       "text": [
        "2435\n",
        "48\n"
       ]
      }
     ],
     "prompt_number": 12
    },
    {
     "cell_type": "code",
     "collapsed": false,
     "input": [
      "pp.pprint(combined_commits.values()[10]['author_order'])\n",
      "pp.pprint(combined_commits.values()[-11]['author_order'])"
     ],
     "language": "python",
     "metadata": {},
     "outputs": [
      {
       "output_type": "stream",
       "stream": "stdout",
       "text": [
        "9\n",
        "9\n"
       ]
      }
     ],
     "prompt_number": 13
    },
    {
     "cell_type": "code",
     "collapsed": false,
     "input": [
      "pp.pprint(combined_commits.values()[10]['file_order'])\n",
      "pp.pprint(combined_commits.values()[-11]['file_order'])"
     ],
     "language": "python",
     "metadata": {},
     "outputs": [
      {
       "output_type": "stream",
       "stream": "stdout",
       "text": [
        "{u'glance/db/sqlalchemy/migrate_repo/versions/012_id_to_uuid.py': 32,\n",
        " u'glance/tests/functional/db/base.py': 63,\n",
        " u'glance/tests/functional/db/test_simple.py': 41,\n",
        " u'glance/tests/functional/db/test_sqlalchemy.py': 46,\n",
        " u'glance/tests/unit/v2/test_image_members_resource.py': 31}\n",
        "{u'glance/parallax/controllers.py': 9,\n",
        " u'glance/teller/backends/__init__.py': 4,\n",
        " u'glance/teller/backends/http.py': 4,\n",
        " u'glance/teller/backends/swift.py': 4,\n",
        " u'glance/teller/controllers.py': 7,\n",
        " u'glance/teller/registries.py': 7,\n",
        " u'run_tests.sh': 2,\n",
        " u'tests/stubs.py': 3,\n",
        " u'tests/unit/test_teller_api.py': 9,\n",
        " u'tests/unit/test_teller_backends.py': 9,\n",
        " u'tests/utils.py': 2,\n",
        " u'tools/install_venv.py': 2,\n",
        " u'tools/with_venv.sh': 2}\n"
       ]
      }
     ],
     "prompt_number": 14
    },
    {
     "cell_type": "code",
     "collapsed": false,
     "input": [
      "pp.pprint(combined_commits.values()[10]['file_order_for_author'])\n",
      "pp.pprint(combined_commits.values()[-11]['file_order_for_author'])"
     ],
     "language": "python",
     "metadata": {},
     "outputs": [
      {
       "output_type": "stream",
       "stream": "stdout",
       "text": [
        "{u'glance/db/sqlalchemy/migrate_repo/versions/012_id_to_uuid.py': 2,\n",
        " u'glance/tests/functional/db/base.py': 2,\n",
        " u'glance/tests/functional/db/test_simple.py': 2,\n",
        " u'glance/tests/functional/db/test_sqlalchemy.py': 2,\n",
        " u'glance/tests/unit/v2/test_image_members_resource.py': 1}\n",
        "{u'glance/parallax/controllers.py': 2,\n",
        " u'glance/teller/backends/__init__.py': 2,\n",
        " u'glance/teller/backends/http.py': 2,\n",
        " u'glance/teller/backends/swift.py': 2,\n",
        " u'glance/teller/controllers.py': 2,\n",
        " u'glance/teller/registries.py': 2,\n",
        " u'run_tests.sh': 2,\n",
        " u'tests/stubs.py': 3,\n",
        " u'tests/unit/test_teller_api.py': 3,\n",
        " u'tests/unit/test_teller_backends.py': 4,\n",
        " u'tests/utils.py': 2,\n",
        " u'tools/install_venv.py': 2,\n",
        " u'tools/with_venv.sh': 2}\n"
       ]
      }
     ],
     "prompt_number": 15
    },
    {
     "cell_type": "code",
     "collapsed": false,
     "input": [
      "pp.pprint(all_blame[0])"
     ],
     "language": "python",
     "metadata": {},
     "outputs": [
      {
       "output_type": "stream",
       "stream": "stdout",
       "text": [
        "{u'blame': {u'glance/cmd/api.py': [{u'commit': u'83cfeb562038954f11581dd15b230fc4c33d10d6',\n",
        "                                    u'lineno': 26,\n",
        "                                    u'proximity': 4},\n",
        "                                   {u'commit': u'83cfeb562038954f11581dd15b230fc4c33d10d6',\n",
        "                                    u'lineno': 27,\n",
        "                                    u'proximity': 3},\n",
        "                                   {u'commit': u'83cfeb562038954f11581dd15b230fc4c33d10d6',\n",
        "                                    u'lineno': 28,\n",
        "                                    u'proximity': 2},\n",
        "                                   {u'commit': u'1c5a4d2bdcc00439b5e351d14f47deebdedcb001',\n",
        "                                    u'lineno': 29,\n",
        "                                    u'proximity': 1},\n",
        "                                   {u'commit': u'1c5a4d2bdcc00439b5e351d14f47deebdedcb001',\n",
        "                                    u'lineno': 30,\n",
        "                                    u'proximity': 1},\n",
        "                                   {u'commit': u'1c5a4d2bdcc00439b5e351d14f47deebdedcb001',\n",
        "                                    u'lineno': 31,\n",
        "                                    u'proximity': 1},\n",
        "                                   {u'commit': u'bb5f1229ef44b87064a85dc7a81af9f4ef8d6669',\n",
        "                                    u'lineno': 32,\n",
        "                                    u'proximity': 1},\n",
        "                                   {u'commit': u'bb5f1229ef44b87064a85dc7a81af9f4ef8d6669',\n",
        "                                    u'lineno': 33,\n",
        "                                    u'proximity': 2},\n",
        "                                   {u'commit': u'bb5f1229ef44b87064a85dc7a81af9f4ef8d6669',\n",
        "                                    u'lineno': 34,\n",
        "                                    u'proximity': 3}],\n",
        "            u'glance/notifier/notify_qpid.py': [{u'commit': u'1e98e108c057914a1e8b2ee2295c80db410b5ffa',\n",
        "                                                 u'lineno': 83,\n",
        "                                                 u'proximity': 4},\n",
        "                                                {u'commit': u'2fa1ed0da18cd92c29afcebaa34b15ecbe58bfd2',\n",
        "                                                 u'lineno': 84,\n",
        "                                                 u'proximity': 3},\n",
        "                                                {u'commit': u'60be7133544afa5e63c0b742d31b9998688530b6',\n",
        "                                                 u'lineno': 85,\n",
        "                                                 u'proximity': 2},\n",
        "                                                {u'commit': u'60be7133544afa5e63c0b742d31b9998688530b6',\n",
        "                                                 u'lineno': 86,\n",
        "                                                 u'proximity': 1},\n",
        "                                                {u'commit': u'9d9d22541902977319457de89e07fb3094d0a4db',\n",
        "                                                 u'lineno': 87,\n",
        "                                                 u'proximity': 1},\n",
        "                                                {u'commit': u'9d9d22541902977319457de89e07fb3094d0a4db',\n",
        "                                                 u'lineno': 88,\n",
        "                                                 u'proximity': 1},\n",
        "                                                {u'commit': u'9d9d22541902977319457de89e07fb3094d0a4db',\n",
        "                                                 u'lineno': 89,\n",
        "                                                 u'proximity': 1},\n",
        "                                                {u'commit': u'2fa1ed0da18cd92c29afcebaa34b15ecbe58bfd2',\n",
        "                                                 u'lineno': 90,\n",
        "                                                 u'proximity': 1},\n",
        "                                                {u'commit': u'2fa1ed0da18cd92c29afcebaa34b15ecbe58bfd2',\n",
        "                                                 u'lineno': 91,\n",
        "                                                 u'proximity': 2},\n",
        "                                                {u'commit': u'2fa1ed0da18cd92c29afcebaa34b15ecbe58bfd2',\n",
        "                                                 u'lineno': 92,\n",
        "                                                 u'proximity': 1},\n",
        "                                                {u'commit': u'9d9d22541902977319457de89e07fb3094d0a4db',\n",
        "                                                 u'lineno': 93,\n",
        "                                                 u'proximity': 2},\n",
        "                                                {u'commit': u'9d9d22541902977319457de89e07fb3094d0a4db',\n",
        "                                                 u'lineno': 94,\n",
        "                                                 u'proximity': 1},\n",
        "                                                {u'commit': u'9d9d22541902977319457de89e07fb3094d0a4db',\n",
        "                                                 u'lineno': 95,\n",
        "                                                 u'proximity': 2},\n",
        "                                                {u'commit': u'9d9d22541902977319457de89e07fb3094d0a4db',\n",
        "                                                 u'lineno': 96,\n",
        "                                                 u'proximity': 1},\n",
        "                                                {u'commit': u'9d9d22541902977319457de89e07fb3094d0a4db',\n",
        "                                                 u'lineno': 97,\n",
        "                                                 u'proximity': 2},\n",
        "                                                {u'commit': u'2fa1ed0da18cd92c29afcebaa34b15ecbe58bfd2',\n",
        "                                                 u'lineno': 98,\n",
        "                                                 u'proximity': 1},\n",
        "                                                {u'commit': u'9d9d22541902977319457de89e07fb3094d0a4db',\n",
        "                                                 u'lineno': 99,\n",
        "                                                 u'proximity': 2},\n",
        "                                                {u'commit': u'9d9d22541902977319457de89e07fb3094d0a4db',\n",
        "                                                 u'lineno': 100,\n",
        "                                                 u'proximity': 2},\n",
        "                                                {u'commit': u'2fa1ed0da18cd92c29afcebaa34b15ecbe58bfd2',\n",
        "                                                 u'lineno': 101,\n",
        "                                                 u'proximity': 1},\n",
        "                                                {u'commit': u'9d9d22541902977319457de89e07fb3094d0a4db',\n",
        "                                                 u'lineno': 102,\n",
        "                                                 u'proximity': 2},\n",
        "                                                {u'commit': u'9d9d22541902977319457de89e07fb3094d0a4db',\n",
        "                                                 u'lineno': 103,\n",
        "                                                 u'proximity': 2},\n",
        "                                                {u'commit': u'9d9d22541902977319457de89e07fb3094d0a4db',\n",
        "                                                 u'lineno': 104,\n",
        "                                                 u'proximity': 1},\n",
        "                                                {u'commit': u'751ac81defe61d4cc8fb5e86dc96f76bdee6f398',\n",
        "                                                 u'lineno': 105,\n",
        "                                                 u'proximity': 1},\n",
        "                                                {u'commit': u'9d9d22541902977319457de89e07fb3094d0a4db',\n",
        "                                                 u'lineno': 106,\n",
        "                                                 u'proximity': 1},\n",
        "                                                {u'commit': u'9d9d22541902977319457de89e07fb3094d0a4db',\n",
        "                                                 u'lineno': 107,\n",
        "                                                 u'proximity': 1},\n",
        "                                                {u'commit': u'2fa1ed0da18cd92c29afcebaa34b15ecbe58bfd2',\n",
        "                                                 u'lineno': 108,\n",
        "                                                 u'proximity': 1},\n",
        "                                                {u'commit': u'60be7133544afa5e63c0b742d31b9998688530b6',\n",
        "                                                 u'lineno': 109,\n",
        "                                                 u'proximity': 1},\n",
        "                                                {u'commit': u'2fa1ed0da18cd92c29afcebaa34b15ecbe58bfd2',\n",
        "                                                 u'lineno': 110,\n",
        "                                                 u'proximity': 1},\n",
        "                                                {u'commit': u'1e98e108c057914a1e8b2ee2295c80db410b5ffa',\n",
        "                                                 u'lineno': 111,\n",
        "                                                 u'proximity': 2},\n",
        "                                                {u'commit': u'2fa1ed0da18cd92c29afcebaa34b15ecbe58bfd2',\n",
        "                                                 u'lineno': 112,\n",
        "                                                 u'proximity': 3},\n",
        "                                                {u'commit': u'2fa1ed0da18cd92c29afcebaa34b15ecbe58bfd2',\n",
        "                                                 u'lineno': 113,\n",
        "                                                 u'proximity': 4},\n",
        "                                                {u'commit': u'9d9d22541902977319457de89e07fb3094d0a4db',\n",
        "                                                 u'lineno': 125,\n",
        "                                                 u'proximity': 4},\n",
        "                                                {u'commit': u'2fa1ed0da18cd92c29afcebaa34b15ecbe58bfd2',\n",
        "                                                 u'lineno': 126,\n",
        "                                                 u'proximity': 3},\n",
        "                                                {u'commit': u'1e98e108c057914a1e8b2ee2295c80db410b5ffa',\n",
        "                                                 u'lineno': 127,\n",
        "                                                 u'proximity': 2},\n",
        "                                                {u'commit': u'1e98e108c057914a1e8b2ee2295c80db410b5ffa',\n",
        "                                                 u'lineno': 128,\n",
        "                                                 u'proximity': 1},\n",
        "                                                {u'commit': u'1e98e108c057914a1e8b2ee2295c80db410b5ffa',\n",
        "                                                 u'lineno': 129,\n",
        "                                                 u'proximity': 2},\n",
        "                                                {u'commit': u'1e98e108c057914a1e8b2ee2295c80db410b5ffa',\n",
        "                                                 u'lineno': 130,\n",
        "                                                 u'proximity': 1},\n",
        "                                                {u'commit': u'1e98e108c057914a1e8b2ee2295c80db410b5ffa',\n",
        "                                                 u'lineno': 131,\n",
        "                                                 u'proximity': 1},\n",
        "                                                {u'commit': u'1e98e108c057914a1e8b2ee2295c80db410b5ffa',\n",
        "                                                 u'lineno': 132,\n",
        "                                                 u'proximity': 1},\n",
        "                                                {u'commit': u'1e98e108c057914a1e8b2ee2295c80db410b5ffa',\n",
        "                                                 u'lineno': 133,\n",
        "                                                 u'proximity': 2},\n",
        "                                                {u'commit': u'1e98e108c057914a1e8b2ee2295c80db410b5ffa',\n",
        "                                                 u'lineno': 134,\n",
        "                                                 u'proximity': 3},\n",
        "                                                {u'commit': u'38e8f6863ff9b3bb7d5751abb50b704eb958a514',\n",
        "                                                 u'lineno': 138,\n",
        "                                                 u'proximity': 4},\n",
        "                                                {u'commit': u'1e98e108c057914a1e8b2ee2295c80db410b5ffa',\n",
        "                                                 u'lineno': 139,\n",
        "                                                 u'proximity': 3},\n",
        "                                                {u'commit': u'1e98e108c057914a1e8b2ee2295c80db410b5ffa',\n",
        "                                                 u'lineno': 140,\n",
        "                                                 u'proximity': 2},\n",
        "                                                {u'commit': u'1e98e108c057914a1e8b2ee2295c80db410b5ffa',\n",
        "                                                 u'lineno': 141,\n",
        "                                                 u'proximity': 1},\n",
        "                                                {u'commit': u'1e98e108c057914a1e8b2ee2295c80db410b5ffa',\n",
        "                                                 u'lineno': 142,\n",
        "                                                 u'proximity': 1},\n",
        "                                                {u'commit': u'2fa1ed0da18cd92c29afcebaa34b15ecbe58bfd2',\n",
        "                                                 u'lineno': 143,\n",
        "                                                 u'proximity': 1},\n",
        "                                                {u'commit': u'2fa1ed0da18cd92c29afcebaa34b15ecbe58bfd2',\n",
        "                                                 u'lineno': 144,\n",
        "                                                 u'proximity': 2},\n",
        "                                                {u'commit': u'1e98e108c057914a1e8b2ee2295c80db410b5ffa',\n",
        "                                                 u'lineno': 145,\n",
        "                                                 u'proximity': 3}],\n",
        "            u'glance/tests/unit/test_notifier.py': [{u'commit': u'2fa1ed0da18cd92c29afcebaa34b15ecbe58bfd2',\n",
        "                                                     u'lineno': 348,\n",
        "                                                     u'proximity': 4},\n",
        "                                                    {u'commit': u'2fa1ed0da18cd92c29afcebaa34b15ecbe58bfd2',\n",
        "                                                     u'lineno': 349,\n",
        "                                                     u'proximity': 3},\n",
        "                                                    {u'commit': u'2fa1ed0da18cd92c29afcebaa34b15ecbe58bfd2',\n",
        "                                                     u'lineno': 350,\n",
        "                                                     u'proximity': 2},\n",
        "                                                    {u'commit': u'1e98e108c057914a1e8b2ee2295c80db410b5ffa',\n",
        "                                                     u'lineno': 351,\n",
        "                                                     u'proximity': 1},\n",
        "                                                    {u'commit': u'5bed23cbc962d3c6503f0ff93e6d1e326efbd49d',\n",
        "                                                     u'lineno': 352,\n",
        "                                                     u'proximity': 2},\n",
        "                                                    {u'commit': u'2d36facf14f4eb2742ba46274e04a73b5231aece',\n",
        "                                                     u'lineno': 353,\n",
        "                                                     u'proximity': 3},\n",
        "                                                    {u'commit': u'2fa1ed0da18cd92c29afcebaa34b15ecbe58bfd2',\n",
        "                                                     u'lineno': 354,\n",
        "                                                     u'proximity': 4},\n",
        "                                                    {u'commit': u'2fa1ed0da18cd92c29afcebaa34b15ecbe58bfd2',\n",
        "                                                     u'lineno': 358,\n",
        "                                                     u'proximity': 4},\n",
        "                                                    {u'commit': u'1e98e108c057914a1e8b2ee2295c80db410b5ffa',\n",
        "                                                     u'lineno': 359,\n",
        "                                                     u'proximity': 3},\n",
        "                                                    {u'commit': u'1e98e108c057914a1e8b2ee2295c80db410b5ffa',\n",
        "                                                     u'lineno': 360,\n",
        "                                                     u'proximity': 2},\n",
        "                                                    {u'commit': u'1e98e108c057914a1e8b2ee2295c80db410b5ffa',\n",
        "                                                     u'lineno': 361,\n",
        "                                                     u'proximity': 1},\n",
        "                                                    {u'commit': u'1e98e108c057914a1e8b2ee2295c80db410b5ffa',\n",
        "                                                     u'lineno': 362,\n",
        "                                                     u'proximity': 2},\n",
        "                                                    {u'commit': u'1e98e108c057914a1e8b2ee2295c80db410b5ffa',\n",
        "                                                     u'lineno': 363,\n",
        "                                                     u'proximity': 3},\n",
        "                                                    {u'commit': u'1e98e108c057914a1e8b2ee2295c80db410b5ffa',\n",
        "                                                     u'lineno': 364,\n",
        "                                                     u'proximity': 4},\n",
        "                                                    {u'commit': u'1e98e108c057914a1e8b2ee2295c80db410b5ffa',\n",
        "                                                     u'lineno': 368,\n",
        "                                                     u'proximity': 4},\n",
        "                                                    {u'commit': u'1e98e108c057914a1e8b2ee2295c80db410b5ffa',\n",
        "                                                     u'lineno': 369,\n",
        "                                                     u'proximity': 3},\n",
        "                                                    {u'commit': u'1e98e108c057914a1e8b2ee2295c80db410b5ffa',\n",
        "                                                     u'lineno': 370,\n",
        "                                                     u'proximity': 2},\n",
        "                                                    {u'commit': u'1e98e108c057914a1e8b2ee2295c80db410b5ffa',\n",
        "                                                     u'lineno': 371,\n",
        "                                                     u'proximity': 1},\n",
        "                                                    {u'commit': u'1e98e108c057914a1e8b2ee2295c80db410b5ffa',\n",
        "                                                     u'lineno': 372,\n",
        "                                                     u'proximity': 1},\n",
        "                                                    {u'commit': u'1e98e108c057914a1e8b2ee2295c80db410b5ffa',\n",
        "                                                     u'lineno': 373,\n",
        "                                                     u'proximity': 1},\n",
        "                                                    {u'commit': u'1e98e108c057914a1e8b2ee2295c80db410b5ffa',\n",
        "                                                     u'lineno': 374,\n",
        "                                                     u'proximity': 1},\n",
        "                                                    {u'commit': u'2fa1ed0da18cd92c29afcebaa34b15ecbe58bfd2',\n",
        "                                                     u'lineno': 375,\n",
        "                                                     u'proximity': 1},\n",
        "                                                    {u'commit': u'2fa1ed0da18cd92c29afcebaa34b15ecbe58bfd2',\n",
        "                                                     u'lineno': 376,\n",
        "                                                     u'proximity': 1},\n",
        "                                                    {u'commit': u'2fa1ed0da18cd92c29afcebaa34b15ecbe58bfd2',\n",
        "                                                     u'lineno': 377,\n",
        "                                                     u'proximity': 1},\n",
        "                                                    {u'commit': u'1038a19a32a28f6d8d42a11d435baf5e1e1583bf',\n",
        "                                                     u'lineno': 378,\n",
        "                                                     u'proximity': 1},\n",
        "                                                    {u'commit': u'9d9d22541902977319457de89e07fb3094d0a4db',\n",
        "                                                     u'lineno': 379,\n",
        "                                                     u'proximity': 1},\n",
        "                                                    {u'commit': u'2d36facf14f4eb2742ba46274e04a73b5231aece',\n",
        "                                                     u'lineno': 380,\n",
        "                                                     u'proximity': 2},\n",
        "                                                    {u'commit': u'1e98e108c057914a1e8b2ee2295c80db410b5ffa',\n",
        "                                                     u'lineno': 381,\n",
        "                                                     u'proximity': 3},\n",
        "                                                    {u'commit': u'1e98e108c057914a1e8b2ee2295c80db410b5ffa',\n",
        "                                                     u'lineno': 383,\n",
        "                                                     u'proximity': 4},\n",
        "                                                    {u'commit': u'1e98e108c057914a1e8b2ee2295c80db410b5ffa',\n",
        "                                                     u'lineno': 384,\n",
        "                                                     u'proximity': 3},\n",
        "                                                    {u'commit': u'2d36facf14f4eb2742ba46274e04a73b5231aece',\n",
        "                                                     u'lineno': 385,\n",
        "                                                     u'proximity': 2},\n",
        "                                                    {u'commit': u'1e98e108c057914a1e8b2ee2295c80db410b5ffa',\n",
        "                                                     u'lineno': 386,\n",
        "                                                     u'proximity': 1},\n",
        "                                                    {u'commit': u'1e98e108c057914a1e8b2ee2295c80db410b5ffa',\n",
        "                                                     u'lineno': 387,\n",
        "                                                     u'proximity': 2},\n",
        "                                                    {u'commit': u'1e98e108c057914a1e8b2ee2295c80db410b5ffa',\n",
        "                                                     u'lineno': 388,\n",
        "                                                     u'proximity': 3},\n",
        "                                                    {u'commit': u'1e98e108c057914a1e8b2ee2295c80db410b5ffa',\n",
        "                                                     u'lineno': 389,\n",
        "                                                     u'proximity': 3},\n",
        "                                                    {u'commit': u'2d36facf14f4eb2742ba46274e04a73b5231aece',\n",
        "                                                     u'lineno': 390,\n",
        "                                                     u'proximity': 2},\n",
        "                                                    {u'commit': u'1e98e108c057914a1e8b2ee2295c80db410b5ffa',\n",
        "                                                     u'lineno': 391,\n",
        "                                                     u'proximity': 1},\n",
        "                                                    {u'commit': u'1e98e108c057914a1e8b2ee2295c80db410b5ffa',\n",
        "                                                     u'lineno': 392,\n",
        "                                                     u'proximity': 2},\n",
        "                                                    {u'commit': u'1e98e108c057914a1e8b2ee2295c80db410b5ffa',\n",
        "                                                     u'lineno': 393,\n",
        "                                                     u'proximity': 3},\n",
        "                                                    {u'commit': u'1e98e108c057914a1e8b2ee2295c80db410b5ffa',\n",
        "                                                     u'lineno': 394,\n",
        "                                                     u'proximity': 3},\n",
        "                                                    {u'commit': u'2fa1ed0da18cd92c29afcebaa34b15ecbe58bfd2',\n",
        "                                                     u'lineno': 395,\n",
        "                                                     u'proximity': 2},\n",
        "                                                    {u'commit': u'2fa1ed0da18cd92c29afcebaa34b15ecbe58bfd2',\n",
        "                                                     u'lineno': 396,\n",
        "                                                     u'proximity': 1},\n",
        "                                                    {u'commit': u'2fa1ed0da18cd92c29afcebaa34b15ecbe58bfd2',\n",
        "                                                     u'lineno': 397,\n",
        "                                                     u'proximity': 2},\n",
        "                                                    {u'commit': u'2fa1ed0da18cd92c29afcebaa34b15ecbe58bfd2',\n",
        "                                                     u'lineno': 398,\n",
        "                                                     u'proximity': 3},\n",
        "                                                    {u'commit': u'2fa1ed0da18cd92c29afcebaa34b15ecbe58bfd2',\n",
        "                                                     u'lineno': 399,\n",
        "                                                     u'proximity': 4},\n",
        "                                                    {u'commit': u'1e98e108c057914a1e8b2ee2295c80db410b5ffa',\n",
        "                                                     u'lineno': 412,\n",
        "                                                     u'proximity': 4},\n",
        "                                                    {u'commit': u'85eb4df48082fd5c8402e17a4e290e7ff7f48dd5',\n",
        "                                                     u'lineno': 413,\n",
        "                                                     u'proximity': 3},\n",
        "                                                    {u'commit': u'98b66c1ddd308bacb8ad8a78f71ea75353c3a01e',\n",
        "                                                     u'lineno': 414,\n",
        "                                                     u'proximity': 2},\n",
        "                                                    {u'commit': u'85eb4df48082fd5c8402e17a4e290e7ff7f48dd5',\n",
        "                                                     u'lineno': 415,\n",
        "                                                     u'proximity': 1},\n",
        "                                                    {u'commit': u'85eb4df48082fd5c8402e17a4e290e7ff7f48dd5',\n",
        "                                                     u'lineno': 416,\n",
        "                                                     u'proximity': 1},\n",
        "                                                    {u'commit': u'85eb4df48082fd5c8402e17a4e290e7ff7f48dd5',\n",
        "                                                     u'lineno': 417,\n",
        "                                                     u'proximity': 1},\n",
        "                                                    {u'commit': u'98b66c1ddd308bacb8ad8a78f71ea75353c3a01e',\n",
        "                                                     u'lineno': 418,\n",
        "                                                     u'proximity': 1},\n",
        "                                                    {u'commit': u'85eb4df48082fd5c8402e17a4e290e7ff7f48dd5',\n",
        "                                                     u'lineno': 419,\n",
        "                                                     u'proximity': 1},\n",
        "                                                    {u'commit': u'85eb4df48082fd5c8402e17a4e290e7ff7f48dd5',\n",
        "                                                     u'lineno': 420,\n",
        "                                                     u'proximity': 1},\n",
        "                                                    {u'commit': u'85eb4df48082fd5c8402e17a4e290e7ff7f48dd5',\n",
        "                                                     u'lineno': 421,\n",
        "                                                     u'proximity': 1},\n",
        "                                                    {u'commit': u'85eb4df48082fd5c8402e17a4e290e7ff7f48dd5',\n",
        "                                                     u'lineno': 422,\n",
        "                                                     u'proximity': 1},\n",
        "                                                    {u'commit': u'85eb4df48082fd5c8402e17a4e290e7ff7f48dd5',\n",
        "                                                     u'lineno': 423,\n",
        "                                                     u'proximity': 1},\n",
        "                                                    {u'commit': u'85eb4df48082fd5c8402e17a4e290e7ff7f48dd5',\n",
        "                                                     u'lineno': 424,\n",
        "                                                     u'proximity': 2},\n",
        "                                                    {u'commit': u'85eb4df48082fd5c8402e17a4e290e7ff7f48dd5',\n",
        "                                                     u'lineno': 425,\n",
        "                                                     u'proximity': 3}]},\n",
        " u'cid': u'2e7aa761b6c2b31f4cbd9703ee19090b6757508a'}\n"
       ]
      }
     ],
     "prompt_number": 16
    },
    {
     "cell_type": "code",
     "collapsed": false,
     "input": [],
     "language": "python",
     "metadata": {},
     "outputs": [],
     "prompt_number": 16
    },
    {
     "cell_type": "code",
     "collapsed": false,
     "input": [],
     "language": "python",
     "metadata": {},
     "outputs": [],
     "prompt_number": 16
    },
    {
     "cell_type": "code",
     "collapsed": false,
     "input": [],
     "language": "python",
     "metadata": {},
     "outputs": [],
     "prompt_number": 16
    }
   ],
   "metadata": {}
  }
 ]
}