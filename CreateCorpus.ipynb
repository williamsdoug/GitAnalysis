{
 "metadata": {
  "name": "",
  "signature": "sha256:3d47bc8471905d3d43917525be23ff1947c60d05c1bde90fd99c32e68f6eab7c"
 },
 "nbformat": 3,
 "nbformat_minor": 0,
 "worksheets": [
  {
   "cells": [
    {
     "cell_type": "markdown",
     "metadata": {},
     "source": [
      "#Master file to create Corpus\n",
      "\n",
      "Author:  Doug Williams, Copyright 2014, 2015\n",
      "\n",
      "Last Updated: 1/28/2015\n",
      "\n",
      "Can either rebuild corpus from scratch, or apply updates incrementally.   Since some of the cata is downloaded from the web, there are a set of intermediate corpus that are also maintained.  These are later joined to produce the finl result\n",
      "\n",
      "Intermediate Corpus:\n",
      "- < project >_change_details.jsonz\n",
      "- < project >_changes.jsonz\n",
      "- < project >_commits.jsonz\n",
      "- < project >_lp_bugs.jsonz\n",
      "- < project >_patch_data.jsonz\n",
      "\n",
      "\n",
      "Output Corpus:\n",
      "- < project >_all_blame.jsonz\n",
      "- < project >_combined_commits.jsonz\n",
      "\n",
      "Currently testd projects:\n",
      "- nova\n",
      "- swift"
     ]
    },
    {
     "cell_type": "code",
     "collapsed": false,
     "input": [
      "import pprint as pp\n",
      "import sys\n",
      "sys.path.append('./dev')\n",
      "\n",
      "from jp_load_dump import pdump, pload, jdump, jload\n",
      "\n",
      "from LPBugsDownload import build_lp_bugs, load_lp_bugs\n",
      "\n",
      "from GerritDownload import build_gerrit_data\n",
      "from GerritDownload import load_gerrit_changes, load_gerrit_change_details\n",
      "\n",
      "from Git_Extract_Join import build_git_commits, load_git_commits\n",
      "from Git_Extract_Join import build_joined_LP_Gerrit_git, load_combined_commits\n",
      "from Git_Extract_Join import build_all_blame, load_all_blame"
     ],
     "language": "python",
     "metadata": {},
     "outputs": [],
     "prompt_number": 1
    },
    {
     "cell_type": "heading",
     "level": 3,
     "metadata": {},
     "source": [
      "Parameters"
     ]
    },
    {
     "cell_type": "code",
     "collapsed": false,
     "input": [
      "# PROJECT = 'nova'\n",
      "PROJECT = 'swift'\n",
      "REPO_NAME ='/Users/doug/SW_Dev/' + PROJECT\n",
      "CACHEDIR = './cache/'\n",
      "UPDATE_CORPUS = True\n",
      "BUILD_CORPUS = False"
     ],
     "language": "python",
     "metadata": {},
     "outputs": [],
     "prompt_number": 2
    },
    {
     "cell_type": "heading",
     "level": 3,
     "metadata": {},
     "source": [
      "Update base data for Corpus"
     ]
    },
    {
     "cell_type": "code",
     "collapsed": false,
     "input": [
      "if BUILD_CORPUS or UPDATE_CORPUS:\n",
      "    print 'updating bug data'\n",
      "    build_lp_bugs(PROJECT, update=UPDATE_CORPUS, cachedir=CACHEDIR)\n",
      "    \n",
      "    print\n",
      "    print 'rebuilding Gerrit data'\n",
      "    build_gerrit_data(PROJECT, update=UPDATE_CORPUS)\n",
      "\n",
      "    print\n",
      "    print'building Git data'\n",
      "    build_git_commits(PROJECT, REPO_NAME)"
     ],
     "language": "python",
     "metadata": {},
     "outputs": [
      {
       "output_type": "stream",
       "stream": "stdout",
       "text": [
        "updating bug data\n",
        "Total prior bugs:"
       ]
      },
      {
       "output_type": "stream",
       "stream": "stdout",
       "text": [
        " 676\n",
        "total bugs:"
       ]
      },
      {
       "output_type": "stream",
       "stream": "stdout",
       "text": [
        " 674\n",
        "bugs to be downloaded: 0\n",
        "New bugs downloaded: 0\n",
        "Prior bugs downloaded: 676\n",
        "Final bugs: 676\n",
        "\n"
       ]
      },
      {
       "output_type": "stream",
       "stream": "stdout",
       "text": [
        "rebuilding Gerrit data\n",
        "."
       ]
      },
      {
       "output_type": "stream",
       "stream": "stdout",
       "text": [
        " . "
       ]
      },
      {
       "output_type": "stream",
       "stream": "stdout",
       "text": [
        ". "
       ]
      },
      {
       "output_type": "stream",
       "stream": "stdout",
       "text": [
        ". "
       ]
      },
      {
       "output_type": "stream",
       "stream": "stdout",
       "text": [
        ". "
       ]
      },
      {
       "output_type": "stream",
       "stream": "stdout",
       "text": [
        ". "
       ]
      },
      {
       "output_type": "stream",
       "stream": "stdout",
       "text": [
        ". "
       ]
      },
      {
       "output_type": "stream",
       "stream": "stdout",
       "text": [
        ". "
       ]
      },
      {
       "output_type": "stream",
       "stream": "stdout",
       "text": [
        ". "
       ]
      },
      {
       "output_type": "stream",
       "stream": "stdout",
       "text": [
        ". "
       ]
      },
      {
       "output_type": "stream",
       "stream": "stdout",
       "text": [
        ". "
       ]
      },
      {
       "output_type": "stream",
       "stream": "stdout",
       "text": [
        ". "
       ]
      },
      {
       "output_type": "stream",
       "stream": "stdout",
       "text": [
        ". "
       ]
      },
      {
       "output_type": "stream",
       "stream": "stdout",
       "text": [
        ". "
       ]
      },
      {
       "output_type": "stream",
       "stream": "stdout",
       "text": [
        ". "
       ]
      },
      {
       "output_type": "stream",
       "stream": "stdout",
       "text": [
        ". "
       ]
      },
      {
       "output_type": "stream",
       "stream": "stdout",
       "text": [
        ". "
       ]
      },
      {
       "output_type": "stream",
       "stream": "stdout",
       "text": [
        ". "
       ]
      },
      {
       "output_type": "stream",
       "stream": "stdout",
       "text": [
        ". "
       ]
      },
      {
       "output_type": "stream",
       "stream": "stdout",
       "text": [
        ". "
       ]
      },
      {
       "output_type": "stream",
       "stream": "stdout",
       "text": [
        ". "
       ]
      },
      {
       "output_type": "stream",
       "stream": "stdout",
       "text": [
        ". "
       ]
      },
      {
       "output_type": "stream",
       "stream": "stdout",
       "text": [
        ". "
       ]
      },
      {
       "output_type": "stream",
       "stream": "stdout",
       "text": [
        ". "
       ]
      },
      {
       "output_type": "stream",
       "stream": "stdout",
       "text": [
        ". "
       ]
      },
      {
       "output_type": "stream",
       "stream": "stdout",
       "text": [
        ".\n",
        "total changes: 12346\n",
        "12346\n",
        "total gerrit changes:"
       ]
      },
      {
       "output_type": "stream",
       "stream": "stdout",
       "text": [
        " 12346\n",
        "all_changes: 12346\n",
        "total gerrit changes with detail:"
       ]
      },
      {
       "output_type": "stream",
       "stream": "stdout",
       "text": [
        " 12217\n",
        "all_change_details: 12217\n",
        "Missing: 61\n",
        "."
       ]
      },
      {
       "output_type": "stream",
       "stream": "stdout",
       "text": [
        " Downloaded: 61\n",
        "Skipped: 0\n",
        "total gerrit changes with detail:"
       ]
      },
      {
       "output_type": "stream",
       "stream": "stdout",
       "text": [
        " 12217\n",
        "\n"
       ]
      },
      {
       "output_type": "stream",
       "stream": "stdout",
       "text": [
        "building Git data\n",
        "."
       ]
      },
      {
       "output_type": "stream",
       "stream": "stdout",
       "text": [
        " . "
       ]
      },
      {
       "output_type": "stream",
       "stream": "stdout",
       "text": [
        ". "
       ]
      },
      {
       "output_type": "stream",
       "stream": "stdout",
       "text": [
        ". "
       ]
      },
      {
       "output_type": "stream",
       "stream": "stdout",
       "text": [
        ". "
       ]
      },
      {
       "output_type": "stream",
       "stream": "stdout",
       "text": [
        ". "
       ]
      },
      {
       "output_type": "stream",
       "stream": "stdout",
       "text": [
        ". "
       ]
      },
      {
       "output_type": "stream",
       "stream": "stdout",
       "text": [
        ". "
       ]
      },
      {
       "output_type": "stream",
       "stream": "stdout",
       "text": [
        ". "
       ]
      },
      {
       "output_type": "stream",
       "stream": "stdout",
       "text": [
        ". 1000 "
       ]
      },
      {
       "output_type": "stream",
       "stream": "stdout",
       "text": [
        ". "
       ]
      },
      {
       "output_type": "stream",
       "stream": "stdout",
       "text": [
        ". "
       ]
      },
      {
       "output_type": "stream",
       "stream": "stdout",
       "text": [
        ". "
       ]
      },
      {
       "output_type": "stream",
       "stream": "stdout",
       "text": [
        ". "
       ]
      },
      {
       "output_type": "stream",
       "stream": "stdout",
       "text": [
        ". "
       ]
      },
      {
       "output_type": "stream",
       "stream": "stdout",
       "text": [
        ". "
       ]
      },
      {
       "output_type": "stream",
       "stream": "stdout",
       "text": [
        ". "
       ]
      },
      {
       "output_type": "stream",
       "stream": "stdout",
       "text": [
        ". "
       ]
      },
      {
       "output_type": "stream",
       "stream": "stdout",
       "text": [
        ". "
       ]
      },
      {
       "output_type": "stream",
       "stream": "stdout",
       "text": [
        ". 2000 "
       ]
      },
      {
       "output_type": "stream",
       "stream": "stdout",
       "text": [
        ". "
       ]
      },
      {
       "output_type": "stream",
       "stream": "stdout",
       "text": [
        ". "
       ]
      },
      {
       "output_type": "stream",
       "stream": "stdout",
       "text": [
        ". "
       ]
      },
      {
       "output_type": "stream",
       "stream": "stdout",
       "text": [
        ". "
       ]
      },
      {
       "output_type": "stream",
       "stream": "stdout",
       "text": [
        ". "
       ]
      },
      {
       "output_type": "stream",
       "stream": "stdout",
       "text": [
        ". "
       ]
      },
      {
       "output_type": "stream",
       "stream": "stdout",
       "text": [
        ". "
       ]
      },
      {
       "output_type": "stream",
       "stream": "stdout",
       "text": [
        ". "
       ]
      },
      {
       "output_type": "stream",
       "stream": "stdout",
       "text": [
        ". "
       ]
      },
      {
       "output_type": "stream",
       "stream": "stdout",
       "text": [
        ". 3000 "
       ]
      },
      {
       "output_type": "stream",
       "stream": "stdout",
       "text": [
        ". "
       ]
      },
      {
       "output_type": "stream",
       "stream": "stdout",
       "text": [
        ". "
       ]
      },
      {
       "output_type": "stream",
       "stream": "stdout",
       "text": [
        ". "
       ]
      },
      {
       "output_type": "stream",
       "stream": "stdout",
       "text": [
        ". "
       ]
      },
      {
       "output_type": "stream",
       "stream": "stdout",
       "text": [
        ". "
       ]
      },
      {
       "output_type": "stream",
       "stream": "stdout",
       "text": [
        ". "
       ]
      },
      {
       "output_type": "stream",
       "stream": "stdout",
       "text": [
        ". "
       ]
      },
      {
       "output_type": "stream",
       "stream": "stdout",
       "text": [
        ". "
       ]
      },
      {
       "output_type": "stream",
       "stream": "stdout",
       "text": [
        ". "
       ]
      },
      {
       "output_type": "stream",
       "stream": "stdout",
       "text": [
        ". 4000 "
       ]
      },
      {
       "output_type": "stream",
       "stream": "stdout",
       "text": [
        ". "
       ]
      },
      {
       "output_type": "stream",
       "stream": "stdout",
       "text": [
        ".\n"
       ]
      },
      {
       "output_type": "stream",
       "stream": "stdout",
       "text": [
        "total commits: 4277\n",
        "Augment Git data with patch info\n",
        "known patches: 1140\n",
        "requested patches: 1140\n",
        "new patches to be fetched: 0\n",
        "Augment Git data with ordering info\n"
       ]
      }
     ],
     "prompt_number": 3
    },
    {
     "cell_type": "heading",
     "level": 3,
     "metadata": {},
     "source": [
      "Get Launchpad, Gerrit and Git Data"
     ]
    },
    {
     "cell_type": "code",
     "collapsed": false,
     "input": [
      "print\n",
      "print 'loading bug data'\n",
      "downloaded_bugs = load_lp_bugs(PROJECT)\n",
      "print 'loading change data'    \n",
      "all_changes = load_gerrit_changes(PROJECT)\n",
      "print 'all_changes:', len(all_changes)\n",
      "all_change_details = load_gerrit_change_details(PROJECT)\n",
      "print 'all_change_details:', len(all_change_details)\n",
      "print 'loading Git commit data'\n",
      "commits = load_git_commits(PROJECT)"
     ],
     "language": "python",
     "metadata": {},
     "outputs": [
      {
       "output_type": "stream",
       "stream": "stdout",
       "text": [
        "\n",
        "loading bug data\n",
        "total LP bugs:"
       ]
      },
      {
       "output_type": "stream",
       "stream": "stdout",
       "text": [
        " 676\n",
        "Entries annotated: 337\n",
        "loading change data\n",
        "total gerrit changes:"
       ]
      },
      {
       "output_type": "stream",
       "stream": "stdout",
       "text": [
        " 12346\n",
        "all_changes: 12346\n",
        "total gerrit changes with detail:"
       ]
      },
      {
       "output_type": "stream",
       "stream": "stdout",
       "text": [
        " 12278\n",
        "all_change_details: 12278\n",
        "loading Git commit data\n",
        "returning singleton"
       ]
      },
      {
       "output_type": "stream",
       "stream": "stdout",
       "text": [
        "\n",
        "Object type: <type 'dict'>\n",
        "total git_commits: 4277\n",
        "bug fix commits: 372\n",
        "commits with change_id: 1557\n",
        "bug fix with change_id: 358\n"
       ]
      }
     ],
     "prompt_number": 4
    },
    {
     "cell_type": "heading",
     "level": 6,
     "metadata": {},
     "source": [
      "Sanity check data"
     ]
    },
    {
     "cell_type": "code",
     "collapsed": false,
     "input": [
      "total_bugs = 0\n",
      "total_changes = 0\n",
      "total_both = 0\n",
      "for x in commits.values():\n",
      "    if 'bug' in x:\n",
      "        total_bugs += 1\n",
      "        \n",
      "print 'commits:', len(commits)\n",
      "print 'bugs:', total_bugs\n",
      "\n",
      "sample_change = [x for x in commits.values() if 'change_id' in x]\n",
      "print 'changes:', len(sample_change)\n",
      "sample_both = [x for x in commits.values() if 'change_id' in x and 'bug' in x]\n",
      "print 'bug fix changes:', len(sample_both)\n",
      "\n",
      "#print\n",
      "#pp.pprint(commits.values()[0:2])"
     ],
     "language": "python",
     "metadata": {},
     "outputs": [
      {
       "output_type": "stream",
       "stream": "stdout",
       "text": [
        "commits: 4277\n",
        "bugs: 372\n",
        "changes: 1557\n",
        "bug fix changes: 358\n"
       ]
      }
     ],
     "prompt_number": 5
    },
    {
     "cell_type": "heading",
     "level": 3,
     "metadata": {},
     "source": [
      "Join LP, Gerrit and Git data and generate consolidated corpus"
     ]
    },
    {
     "cell_type": "code",
     "collapsed": false,
     "input": [
      "if BUILD_CORPUS or UPDATE_CORPUS:\n",
      "    build_joined_LP_Gerrit_git(PROJECT, commits, downloaded_bugs, all_change_details)"
     ],
     "language": "python",
     "metadata": {},
     "outputs": [
      {
       "output_type": "stream",
       "stream": "stdout",
       "text": [
        "11408\n",
        ". . . . . . . . . . 1000 . . . . . . . . . . 2000 . . . . . . . . . . 3000 . . . . . . . "
       ]
      },
      {
       "output_type": "stream",
       "stream": "stdout",
       "text": [
        ". . . 4000 . .\n"
       ]
      }
     ],
     "prompt_number": 6
    },
    {
     "cell_type": "code",
     "collapsed": false,
     "input": [
      "combined_commits = load_combined_commits(PROJECT)\n",
      "\n",
      "print len(combined_commits)"
     ],
     "language": "python",
     "metadata": {},
     "outputs": [
      {
       "output_type": "stream",
       "stream": "stdout",
       "text": [
        "4277\n"
       ]
      }
     ],
     "prompt_number": 7
    },
    {
     "cell_type": "heading",
     "level": 3,
     "metadata": {},
     "source": [
      "Compute Diff and Blame"
     ]
    },
    {
     "cell_type": "code",
     "collapsed": false,
     "input": [
      "if BUILD_CORPUS or UPDATE_CORPUS:\n",
      "    build_all_blame(PROJECT, combined_commits, REPO_NAME, update=UPDATE_CORPUS)"
     ],
     "language": "python",
     "metadata": {},
     "outputs": [
      {
       "output_type": "stream",
       "stream": "stdout",
       "text": [
        "bug fix commits: 379\n",
        "new blame to be computed:"
       ]
      },
      {
       "output_type": "stream",
       "stream": "stdout",
       "text": [
        " 0\n"
       ]
      }
     ],
     "prompt_number": 8
    },
    {
     "cell_type": "code",
     "collapsed": false,
     "input": [
      "all_blame = load_all_blame(PROJECT)\n",
      "print len(all_blame)"
     ],
     "language": "python",
     "metadata": {},
     "outputs": [
      {
       "output_type": "stream",
       "stream": "stdout",
       "text": [
        "379\n"
       ]
      }
     ],
     "prompt_number": 9
    },
    {
     "cell_type": "code",
     "collapsed": false,
     "input": [
      "#pp.pprint(all_blame[0])"
     ],
     "language": "python",
     "metadata": {},
     "outputs": [],
     "prompt_number": 10
    },
    {
     "cell_type": "code",
     "collapsed": false,
     "input": [
      "pp.pprint(combined_commits.values()[10]['order'])\n",
      "pp.pprint(combined_commits.values()[-11]['order'])"
     ],
     "language": "python",
     "metadata": {},
     "outputs": [
      {
       "output_type": "stream",
       "stream": "stdout",
       "text": [
        "949\n",
        "3719\n"
       ]
      }
     ],
     "prompt_number": 11
    },
    {
     "cell_type": "code",
     "collapsed": false,
     "input": [
      "pp.pprint(combined_commits.values()[10]['author_order'])\n",
      "pp.pprint(combined_commits.values()[-11]['author_order'])"
     ],
     "language": "python",
     "metadata": {},
     "outputs": [
      {
       "output_type": "stream",
       "stream": "stdout",
       "text": [
        "94\n",
        "903\n"
       ]
      }
     ],
     "prompt_number": 12
    },
    {
     "cell_type": "code",
     "collapsed": false,
     "input": [
      "pp.pprint(combined_commits.values()[10]['file_order'])\n",
      "pp.pprint(combined_commits.values()[-11]['file_order'])"
     ],
     "language": "python",
     "metadata": {},
     "outputs": [
      {
       "output_type": "stream",
       "stream": "stdout",
       "text": [
        "{u'swift/__init__.py': 22}\n",
        "{u'setup.py': 356,\n",
        " u'swift/account/server.py': 438,\n",
        " u'swift/cli/info.py': 10,\n",
        " u'swift/common/utils.py': 848,\n",
        " u'swift/container/server.py': 528,\n",
        " u'swift/obj/server.py': 686,\n",
        " u'test/unit/account/test_server.py': 244,\n",
        " u'test/unit/common/test_utils.py': 555,\n",
        " u'test/unit/container/test_server.py': 311,\n",
        " u'test/unit/obj/test_server.py': 433}\n"
       ]
      }
     ],
     "prompt_number": 13
    },
    {
     "cell_type": "code",
     "collapsed": false,
     "input": [
      "pp.pprint(combined_commits.values()[10]['file_order_for_author'])\n",
      "pp.pprint(combined_commits.values()[-11]['file_order_for_author'])"
     ],
     "language": "python",
     "metadata": {},
     "outputs": [
      {
       "output_type": "stream",
       "stream": "stdout",
       "text": [
        "{u'swift/__init__.py': 8}\n",
        "{u'setup.py': 96,\n",
        " u'swift/account/server.py': 231,\n",
        " u'swift/cli/info.py': 7,\n",
        " u'swift/common/utils.py': 406,\n",
        " u'swift/container/server.py': 266,\n",
        " u'swift/obj/server.py': 378,\n",
        " u'test/unit/account/test_server.py': 171,\n",
        " u'test/unit/common/test_utils.py': 319,\n",
        " u'test/unit/container/test_server.py': 186,\n",
        " u'test/unit/obj/test_server.py': 293}\n"
       ]
      }
     ],
     "prompt_number": 14
    },
    {
     "cell_type": "code",
     "collapsed": false,
     "input": [],
     "language": "python",
     "metadata": {},
     "outputs": [],
     "prompt_number": 14
    },
    {
     "cell_type": "code",
     "collapsed": false,
     "input": [],
     "language": "python",
     "metadata": {},
     "outputs": []
    }
   ],
   "metadata": {}
  }
 ]
}