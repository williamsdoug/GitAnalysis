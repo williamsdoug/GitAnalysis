{
 "metadata": {
  "name": "",
  "signature": "sha256:7ec213c3f5af35b7605805d459fc7bb205b0d0044ec9fcac9d8ee4740536fc93"
 },
 "nbformat": 3,
 "nbformat_minor": 0,
 "worksheets": [
  {
   "cells": [
    {
     "cell_type": "markdown",
     "metadata": {},
     "source": [
      "#Master file to create Corpus\n",
      "\n",
      "Author:  Doug Williams, Copyright 2014, 2015\n",
      "\n",
      "Last Updated: 2/20/2015\n",
      "\n",
      "Can either rebuild corpus from scratch, or apply updates incrementally.   Since some of the cata is downloaded from the web, there are a set of intermediate corpus that are also maintained.  These are later joined to produce the finl result\n",
      "\n",
      "Intermediate Corpus:\n",
      "- < project >_change_details.jsonz\n",
      "- < project >_changes.jsonz\n",
      "- < project >_commits.jsonz\n",
      "- < project >_lp_bugs.jsonz\n",
      "- < project >_patch_data.jsonz\n",
      "\n",
      "\n",
      "Output Corpus:\n",
      "- < project >_all_blame.jsonz\n",
      "- < project >_combined_commits.jsonz\n",
      "\n",
      "Currently tested projects:\n",
      "- nova - rebuild\n",
      "- swift\n",
      "- glance\n",
      "- cinder\n",
      "- heat"
     ]
    },
    {
     "cell_type": "code",
     "collapsed": false,
     "input": [
      "%matplotlib inline\n",
      "import matplotlib.pyplot as plt"
     ],
     "language": "python",
     "metadata": {},
     "outputs": [],
     "prompt_number": 1
    },
    {
     "cell_type": "code",
     "collapsed": false,
     "input": [
      "import pprint as pp\n",
      "import sys\n",
      "sys.path.append('./dev')\n",
      "\n",
      "from commit_analysis import load_all_analysis_data\n",
      "from commit_analysis import rebuild_all_analysis_data\n",
      "from Git_Extract import build_all_blame, load_all_blame"
     ],
     "language": "python",
     "metadata": {},
     "outputs": [],
     "prompt_number": 2
    },
    {
     "cell_type": "heading",
     "level": 3,
     "metadata": {},
     "source": [
      "Parameters"
     ]
    },
    {
     "cell_type": "code",
     "collapsed": false,
     "input": [
      "# PROJECT = 'nova'\n",
      "# PROJECT = 'swift'\n",
      "# PROJECT = 'cinder'\n",
      "# PROJECT = 'heat'\n",
      "PROJECT = 'glance'\n",
      "\n",
      "UPDATE_CORPUS = True\n",
      "BUILD_CORPUS = False"
     ],
     "language": "python",
     "metadata": {},
     "outputs": [],
     "prompt_number": 3
    },
    {
     "cell_type": "heading",
     "level": 3,
     "metadata": {},
     "source": [
      "Update base data for Corpus"
     ]
    },
    {
     "cell_type": "raw",
     "metadata": {},
     "source": [
      "from Git_Extract import build_git_commits\n",
      "from Git_Extract import load_git_commits"
     ]
    },
    {
     "cell_type": "raw",
     "metadata": {},
     "source": [
      "build_git_commits(PROJECT, update=False)"
     ]
    },
    {
     "cell_type": "raw",
     "metadata": {},
     "source": [
      "commits = load_git_commits(PROJECT, prune=False)"
     ]
    },
    {
     "cell_type": "raw",
     "metadata": {},
     "source": [
      "build_git_commits(PROJECT, update=True)"
     ]
    },
    {
     "cell_type": "raw",
     "metadata": {},
     "source": [
      "build_git_commits(PROJECT, update=True)"
     ]
    },
    {
     "cell_type": "code",
     "collapsed": false,
     "input": [
      "if BUILD_CORPUS or UPDATE_CORPUS:\n",
      "    # repo_name ='/Users/doug/SW_Dev/' + PROJECT\n",
      "    rebuild_all_analysis_data(PROJECT, update=UPDATE_CORPUS)"
     ],
     "language": "python",
     "metadata": {},
     "outputs": [
      {
       "output_type": "stream",
       "stream": "stdout",
       "text": [
        "\n",
        "rebuilding Launchpad (bug) data\n",
        "Total prior bugs:"
       ]
      },
      {
       "output_type": "stream",
       "stream": "stdout",
       "text": [
        " 1250\n",
        "total bugs:"
       ]
      },
      {
       "output_type": "stream",
       "stream": "stdout",
       "text": [
        " 1231\n",
        "bugs to be downloaded: 0\n",
        "\n",
        "New bugs downloaded: 0\n",
        "Prior bugs downloaded: 1250\n",
        "Final bugs: 1250\n",
        "annotating bug entries ..."
       ]
      },
      {
       "output_type": "stream",
       "stream": "stdout",
       "text": [
        "\n",
        "      Critical "
       ]
      },
      {
       "output_type": "stream",
       "stream": "stdout",
       "text": [
        "97 / 97\n",
        "      High "
       ]
      },
      {
       "output_type": "stream",
       "stream": "stdout",
       "text": [
        "204 / 204\n",
        "      Medium "
       ]
      },
      {
       "output_type": "stream",
       "stream": "stdout",
       "text": [
        "291 / 291\n",
        "      Low "
       ]
      },
      {
       "output_type": "stream",
       "stream": "stdout",
       "text": [
        "284 / 284\n",
        "      Wishlist "
       ]
      },
      {
       "output_type": "stream",
       "stream": "stdout",
       "text": [
        "77 / 77\n",
        "      Unknown "
       ]
      },
      {
       "output_type": "stream",
       "stream": "stdout",
       "text": [
        "0 / 0\n",
        "      Undecided "
       ]
      },
      {
       "output_type": "stream",
       "stream": "stdout",
       "text": [
        "192 / 192\n",
        "\n",
        "      Fix Committed "
       ]
      },
      {
       "output_type": "stream",
       "stream": "stdout",
       "text": [
        "10 / 10\n",
        "      Fix Released "
       ]
      },
      {
       "output_type": "stream",
       "stream": "stdout",
       "text": [
        "1135 / 1135\n",
        "\n"
       ]
      },
      {
       "output_type": "stream",
       "stream": "stdout",
       "text": [
        "rebuilding Gerrit data\n",
        "."
       ]
      },
      {
       "output_type": "stream",
       "stream": "stdout",
       "text": [
        " . "
       ]
      },
      {
       "output_type": "stream",
       "stream": "stdout",
       "text": [
        ". "
       ]
      },
      {
       "output_type": "stream",
       "stream": "stdout",
       "text": [
        ". "
       ]
      },
      {
       "output_type": "stream",
       "stream": "stdout",
       "text": [
        ". "
       ]
      },
      {
       "output_type": "stream",
       "stream": "stdout",
       "text": [
        ".\n",
        "total changes: 2095\n",
        "2095\n",
        "total gerrit changes:"
       ]
      },
      {
       "output_type": "stream",
       "stream": "stdout",
       "text": [
        " 2095\n",
        "all_changes: 2095\n",
        "total gerrit changes with detail:"
       ]
      },
      {
       "output_type": "stream",
       "stream": "stdout",
       "text": [
        " 2094\n",
        "all_change_details: 2094\n",
        "Missing: 0\n",
        "Downloaded: 0\n",
        "Skipped: 0\n",
        "total gerrit changes with detail:"
       ]
      },
      {
       "output_type": "stream",
       "stream": "stdout",
       "text": [
        " 2094\n",
        "\n"
       ]
      },
      {
       "output_type": "stream",
       "stream": "stdout",
       "text": [
        "building Git data\n",
        "total git_commits:"
       ]
      },
      {
       "output_type": "stream",
       "stream": "stdout",
       "text": [
        " 4183\n",
        "  actual commits: 1970\n",
        "  pruned commits: 2213\n",
        "bug fix commits: 0\n",
        "commits with change_id: 1874\n",
        "bug fix with change_id: 0\n",
        "\n"
       ]
      },
      {
       "output_type": "stream",
       "stream": "stdout",
       "text": [
        "Annotating Master Branch\n",
        "\n"
       ]
      },
      {
       "output_type": "stream",
       "stream": "stdout",
       "text": [
        "total commits: 4183\n",
        "Consolidate Git Merge related commits\n",
        "Master Commit:"
       ]
      },
      {
       "output_type": "stream",
       "stream": "stdout",
       "text": [
        " c84d8c98bc0dd64d79bd1e659b9561d47b3428c1\n",
        "initial commmits to be pruned: 1494\n",
        "starting commits: 4183\n",
        "commits after pruning:"
       ]
      },
      {
       "output_type": "stream",
       "stream": "stdout",
       "text": [
        " 1970\n",
        "Augment Git data with ordering info\n",
        "\n"
       ]
      },
      {
       "output_type": "stream",
       "stream": "stdout",
       "text": [
        "Build combined_commits by joinin with bugs and gerrit data\n",
        "total LP bugs:"
       ]
      },
      {
       "output_type": "stream",
       "stream": "stdout",
       "text": [
        " 1250\n",
        "Entries annotated: 924\n",
        "total git_commits:"
       ]
      },
      {
       "output_type": "stream",
       "stream": "stdout",
       "text": [
        " 4183\n",
        "  actual commits: 1970\n",
        "  pruned commits: 2213\n",
        "bug fix commits: 0\n",
        "commits with change_id: 1874\n",
        "bug fix with change_id: 0\n",
        "total gerrit changes:"
       ]
      },
      {
       "output_type": "stream",
       "stream": "stdout",
       "text": [
        " 2095\n",
        "total gerrit changes with detail:"
       ]
      },
      {
       "output_type": "stream",
       "stream": "stdout",
       "text": [
        " 2094\n",
        "\n",
        "Load any missing bugs, if needed\n",
        "no missing bugs\n",
        "Joining with Launchpad Data\n",
        "Joining with Gerrit Data\n",
        "\n"
       ]
      },
      {
       "output_type": "stream",
       "stream": "stdout",
       "text": [
        "Building all blame\n"
       ]
      }
     ],
     "prompt_number": 4
    },
    {
     "cell_type": "heading",
     "level": 3,
     "metadata": {},
     "source": [
      "Get Launchpad, Gerrit and Git Data"
     ]
    },
    {
     "cell_type": "code",
     "collapsed": false,
     "input": [
      "downloaded_bugs, all_changes, \\\n",
      "all_change_details, \\\n",
      "commits, combined_commits, all_blame = load_all_analysis_data(PROJECT)"
     ],
     "language": "python",
     "metadata": {},
     "outputs": [
      {
       "output_type": "stream",
       "stream": "stdout",
       "text": [
        "loading bug data\n",
        "total LP bugs:"
       ]
      },
      {
       "output_type": "stream",
       "stream": "stdout",
       "text": [
        " 1250\n",
        "Entries annotated: 924\n",
        "\n",
        "loading Git commit data\n",
        "total git_commits:"
       ]
      },
      {
       "output_type": "stream",
       "stream": "stdout",
       "text": [
        " 4183\n",
        "  actual commits: 1970\n",
        "  pruned commits: 2213\n",
        "bug fix commits: 0\n",
        "commits with change_id: 1874\n",
        "bug fix with change_id: 0\n",
        "loading change data\n",
        "total gerrit changes with detail:"
       ]
      },
      {
       "output_type": "stream",
       "stream": "stdout",
       "text": [
        " 2094\n",
        "all_change_details: 2094\n",
        "total gerrit changes:"
       ]
      },
      {
       "output_type": "stream",
       "stream": "stdout",
       "text": [
        " 2095\n",
        "all_changes: 2095\n",
        "combined_commits:"
       ]
      },
      {
       "output_type": "stream",
       "stream": "stdout",
       "text": [
        " 4183\n",
        "all blame:"
       ]
      },
      {
       "output_type": "stream",
       "stream": "stdout",
       "text": [
        " 1276\n"
       ]
      }
     ],
     "prompt_number": 5
    },
    {
     "cell_type": "heading",
     "level": 3,
     "metadata": {},
     "source": [
      "Compute Diff and Blame"
     ]
    },
    {
     "cell_type": "raw",
     "metadata": {},
     "source": [
      "if BUILD_CORPUS or UPDATE_CORPUS:\n",
      "    project = PROJECT\n",
      "    # repo_name ='/Users/doug/SW_Dev/' + project\n",
      "    build_all_blame(project, combined_commits, update=UPDATE_CORPUS)"
     ]
    },
    {
     "cell_type": "raw",
     "metadata": {},
     "source": [
      "all_blame = load_all_blame(PROJECT)\n",
      "print len(all_blame)"
     ]
    },
    {
     "cell_type": "heading",
     "level": 3,
     "metadata": {},
     "source": [
      "Display Sample Output"
     ]
    },
    {
     "cell_type": "code",
     "collapsed": false,
     "input": [
      "hot_commits = sum([1 for val in combined_commits.values()\n",
      "                   if 'lp:heat' in val and int(val['lp:heat']) >= 250])\n",
      "\n",
      "print hot_commits"
     ],
     "language": "python",
     "metadata": {},
     "outputs": [
      {
       "output_type": "stream",
       "stream": "stdout",
       "text": [
        "0\n"
       ]
      }
     ],
     "prompt_number": 6
    },
    {
     "cell_type": "code",
     "collapsed": false,
     "input": [
      "pp.pprint(combined_commits.values()[-15].keys())"
     ],
     "language": "python",
     "metadata": {},
     "outputs": [
      {
       "output_type": "stream",
       "stream": "stdout",
       "text": [
        "[u'files',\n",
        " u'committer',\n",
        " u'ancestors',\n",
        " u'unfiltered_files',\n",
        " u'author',\n",
        " u'change_id',\n",
        " u'is_master_commit',\n",
        " u'tombstone',\n",
        " u'on_mainline',\n",
        " u'msg',\n",
        " u'cid',\n",
        " u'parents',\n",
        " u'bug_details',\n",
        " u'change_details',\n",
        " u'date',\n",
        " u'distance_from_mainline',\n",
        " u'merge_commit',\n",
        " u'on_master_branch']\n"
       ]
      }
     ],
     "prompt_number": 7
    },
    {
     "cell_type": "code",
     "collapsed": false,
     "input": [
      "pp.pprint(combined_commits.values()[10]['order'])\n",
      "pp.pprint(combined_commits.values()[-11]['order'])"
     ],
     "language": "python",
     "metadata": {},
     "outputs": [
      {
       "output_type": "stream",
       "stream": "stdout",
       "text": [
        "1\n",
        "12\n"
       ]
      }
     ],
     "prompt_number": 8
    },
    {
     "cell_type": "code",
     "collapsed": false,
     "input": [
      "pp.pprint(combined_commits.values()[10]['author_order'])\n",
      "pp.pprint(combined_commits.values()[-11]['author_order'])"
     ],
     "language": "python",
     "metadata": {},
     "outputs": [
      {
       "output_type": "stream",
       "stream": "stdout",
       "text": [
        "1\n",
        "3\n"
       ]
      }
     ],
     "prompt_number": 9
    },
    {
     "cell_type": "code",
     "collapsed": false,
     "input": [
      "pp.pprint(combined_commits.values()[10]['file_order'])\n",
      "pp.pprint(combined_commits.values()[-11]['file_order'])"
     ],
     "language": "python",
     "metadata": {},
     "outputs": [
      {
       "output_type": "stream",
       "stream": "stdout",
       "text": [
        "{}\n",
        "{u'glance/parallax/controllers.py': 3,\n",
        " u'glance/teller/backends/__init__.py': 2,\n",
        " u'glance/teller/backends/http.py': 2,\n",
        " u'glance/teller/backends/swift.py': 2,\n",
        " u'glance/teller/controllers.py': 2,\n",
        " u'glance/teller/registries.py': 2,\n",
        " u'run_tests.sh': 1,\n",
        " u'tests/stubs.py': 1,\n",
        " u'tests/unit/test_teller_api.py': 2,\n",
        " u'tests/unit/test_teller_backends.py': 2,\n",
        " u'tests/utils.py': 1}\n"
       ]
      }
     ],
     "prompt_number": 10
    },
    {
     "cell_type": "code",
     "collapsed": false,
     "input": [
      "pp.pprint(combined_commits.values()[10]['file_order_for_author'])\n",
      "pp.pprint(combined_commits.values()[-11]['file_order_for_author'])"
     ],
     "language": "python",
     "metadata": {},
     "outputs": [
      {
       "output_type": "stream",
       "stream": "stdout",
       "text": [
        "{}\n",
        "{u'glance/parallax/controllers.py': 1,\n",
        " u'glance/teller/backends/__init__.py': 1,\n",
        " u'glance/teller/backends/http.py': 1,\n",
        " u'glance/teller/backends/swift.py': 1,\n",
        " u'glance/teller/controllers.py': 1,\n",
        " u'glance/teller/registries.py': 1,\n",
        " u'run_tests.sh': 1,\n",
        " u'tests/stubs.py': 1,\n",
        " u'tests/unit/test_teller_api.py': 1,\n",
        " u'tests/unit/test_teller_backends.py': 1,\n",
        " u'tests/utils.py': 1}\n"
       ]
      }
     ],
     "prompt_number": 11
    },
    {
     "cell_type": "code",
     "collapsed": false,
     "input": [
      "pp.pprint(all_blame[0])"
     ],
     "language": "python",
     "metadata": {},
     "outputs": [
      {
       "output_type": "stream",
       "stream": "stdout",
       "text": [
        "{u'blame': {u'glance/image_cache/prefetcher.py': [{u'commit': u'39c855743423175beca6955ed30c15b9c40f9129',\n",
        "                                                   u'lineno': 78,\n",
        "                                                   u'proximity': 4},\n",
        "                                                  {u'commit': u'39c855743423175beca6955ed30c15b9c40f9129',\n",
        "                                                   u'lineno': 79,\n",
        "                                                   u'proximity': 3},\n",
        "                                                  {u'commit': u'39c855743423175beca6955ed30c15b9c40f9129',\n",
        "                                                   u'lineno': 80,\n",
        "                                                   u'proximity': 2},\n",
        "                                                  {u'commit': u'39c855743423175beca6955ed30c15b9c40f9129',\n",
        "                                                   u'lineno': 81,\n",
        "                                                   u'proximity': 1},\n",
        "                                                  {u'commit': u'39c855743423175beca6955ed30c15b9c40f9129',\n",
        "                                                   u'lineno': 82,\n",
        "                                                   u'proximity': 2},\n",
        "                                                  {u'commit': u'95c0acb9cb2951b9a16ae9b6e3bb0fdde770886b',\n",
        "                                                   u'lineno': 83,\n",
        "                                                   u'proximity': 3},\n",
        "                                                  {u'commit': u'95c0acb9cb2951b9a16ae9b6e3bb0fdde770886b',\n",
        "                                                   u'lineno': 84,\n",
        "                                                   u'proximity': 4}],\n",
        "            u'glance/tests/unit/test_image_cache.py': [{u'commit': u'39c855743423175beca6955ed30c15b9c40f9129',\n",
        "                                                        u'lineno': 24,\n",
        "                                                        u'proximity': 3},\n",
        "                                                       {u'commit': u'39c855743423175beca6955ed30c15b9c40f9129',\n",
        "                                                        u'lineno': 25,\n",
        "                                                        u'proximity': 2},\n",
        "                                                       {u'commit': u'388f2919147e9350fff75f68876693e473c9dbfe',\n",
        "                                                        u'lineno': 26,\n",
        "                                                        u'proximity': 1},\n",
        "                                                       {u'commit': u'39c855743423175beca6955ed30c15b9c40f9129',\n",
        "                                                        u'lineno': 27,\n",
        "                                                        u'proximity': 1},\n",
        "                                                       {u'commit': u'ad9e9ca3f741af714b9faf46224bf12e4a2693bd',\n",
        "                                                        u'lineno': 28,\n",
        "                                                        u'proximity': 1},\n",
        "                                                       {u'commit': u'39c855743423175beca6955ed30c15b9c40f9129',\n",
        "                                                        u'lineno': 29,\n",
        "                                                        u'proximity': 2},\n",
        "                                                       {u'commit': u'39c855743423175beca6955ed30c15b9c40f9129',\n",
        "                                                        u'lineno': 30,\n",
        "                                                        u'proximity': 3},\n",
        "                                                       {u'commit': u'39c855743423175beca6955ed30c15b9c40f9129',\n",
        "                                                        u'lineno': 202,\n",
        "                                                        u'proximity': 3},\n",
        "                                                       {u'commit': u'ad9e9ca3f741af714b9faf46224bf12e4a2693bd',\n",
        "                                                        u'lineno': 203,\n",
        "                                                        u'proximity': 2},\n",
        "                                                       {u'commit': u'39c855743423175beca6955ed30c15b9c40f9129',\n",
        "                                                        u'lineno': 204,\n",
        "                                                        u'proximity': 1},\n",
        "                                                       {u'commit': u'39c855743423175beca6955ed30c15b9c40f9129',\n",
        "                                                        u'lineno': 205,\n",
        "                                                        u'proximity': 1},\n",
        "                                                       {u'commit': u'ad9e9ca3f741af714b9faf46224bf12e4a2693bd',\n",
        "                                                        u'lineno': 206,\n",
        "                                                        u'proximity': 2},\n",
        "                                                       {u'commit': u'39c855743423175beca6955ed30c15b9c40f9129',\n",
        "                                                        u'lineno': 207,\n",
        "                                                        u'proximity': 3},\n",
        "                                                       {u'commit': u'39c855743423175beca6955ed30c15b9c40f9129',\n",
        "                                                        u'lineno': 236,\n",
        "                                                        u'proximity': 3},\n",
        "                                                       {u'commit': u'39c855743423175beca6955ed30c15b9c40f9129',\n",
        "                                                        u'lineno': 237,\n",
        "                                                        u'proximity': 2},\n",
        "                                                       {u'commit': u'39c855743423175beca6955ed30c15b9c40f9129',\n",
        "                                                        u'lineno': 238,\n",
        "                                                        u'proximity': 1},\n",
        "                                                       {u'commit': u'39c855743423175beca6955ed30c15b9c40f9129',\n",
        "                                                        u'lineno': 239,\n",
        "                                                        u'proximity': 1},\n",
        "                                                       {u'commit': u'39c855743423175beca6955ed30c15b9c40f9129',\n",
        "                                                        u'lineno': 240,\n",
        "                                                        u'proximity': 2},\n",
        "                                                       {u'commit': u'39c855743423175beca6955ed30c15b9c40f9129',\n",
        "                                                        u'lineno': 241,\n",
        "                                                        u'proximity': 2},\n",
        "                                                       {u'commit': u'39c855743423175beca6955ed30c15b9c40f9129',\n",
        "                                                        u'lineno': 242,\n",
        "                                                        u'proximity': 1},\n",
        "                                                       {u'commit': u'39c855743423175beca6955ed30c15b9c40f9129',\n",
        "                                                        u'lineno': 243,\n",
        "                                                        u'proximity': 1},\n",
        "                                                       {u'commit': u'39c855743423175beca6955ed30c15b9c40f9129',\n",
        "                                                        u'lineno': 244,\n",
        "                                                        u'proximity': 2},\n",
        "                                                       {u'commit': u'39c855743423175beca6955ed30c15b9c40f9129',\n",
        "                                                        u'lineno': 245,\n",
        "                                                        u'proximity': 3},\n",
        "                                                       {u'commit': u'39c855743423175beca6955ed30c15b9c40f9129',\n",
        "                                                        u'lineno': 274,\n",
        "                                                        u'proximity': 3},\n",
        "                                                       {u'commit': u'39c855743423175beca6955ed30c15b9c40f9129',\n",
        "                                                        u'lineno': 275,\n",
        "                                                        u'proximity': 2},\n",
        "                                                       {u'commit': u'39c855743423175beca6955ed30c15b9c40f9129',\n",
        "                                                        u'lineno': 276,\n",
        "                                                        u'proximity': 1},\n",
        "                                                       {u'commit': u'39c855743423175beca6955ed30c15b9c40f9129',\n",
        "                                                        u'lineno': 277,\n",
        "                                                        u'proximity': 1},\n",
        "                                                       {u'commit': u'39c855743423175beca6955ed30c15b9c40f9129',\n",
        "                                                        u'lineno': 278,\n",
        "                                                        u'proximity': 2},\n",
        "                                                       {u'commit': u'39c855743423175beca6955ed30c15b9c40f9129',\n",
        "                                                        u'lineno': 279,\n",
        "                                                        u'proximity': 2},\n",
        "                                                       {u'commit': u'ad9e9ca3f741af714b9faf46224bf12e4a2693bd',\n",
        "                                                        u'lineno': 280,\n",
        "                                                        u'proximity': 1}]},\n",
        " u'cid': u'b82998684ac969d1639b6f002e2040522fb43cf7'}\n"
       ]
      }
     ],
     "prompt_number": 12
    },
    {
     "cell_type": "code",
     "collapsed": false,
     "input": [],
     "language": "python",
     "metadata": {},
     "outputs": [],
     "prompt_number": 12
    },
    {
     "cell_type": "code",
     "collapsed": false,
     "input": [],
     "language": "python",
     "metadata": {},
     "outputs": [],
     "prompt_number": 12
    },
    {
     "cell_type": "code",
     "collapsed": false,
     "input": [],
     "language": "python",
     "metadata": {},
     "outputs": [],
     "prompt_number": 12
    }
   ],
   "metadata": {}
  }
 ]
}