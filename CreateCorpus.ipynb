{
 "metadata": {
  "name": "",
  "signature": "sha256:95f0b32e7df8f5ecad54731ce3f532f86c2112fde89bc51ce66fe11962084be5"
 },
 "nbformat": 3,
 "nbformat_minor": 0,
 "worksheets": [
  {
   "cells": [
    {
     "cell_type": "markdown",
     "metadata": {},
     "source": [
      "#Master file to create Corpus\n",
      "\n",
      "Author:  Doug Williams, Copyright 2014, 2015\n",
      "\n",
      "Last Updated: 2/20/2015\n",
      "\n",
      "Can either rebuild corpus from scratch, or apply updates incrementally.   Since some of the cata is downloaded from the web, there are a set of intermediate corpus that are also maintained.  These are later joined to produce the finl result\n",
      "\n",
      "Intermediate Corpus:\n",
      "- < project >_change_details.jsonz\n",
      "- < project >_changes.jsonz\n",
      "- < project >_commits.jsonz\n",
      "- < project >_lp_bugs.jsonz\n",
      "- < project >_patch_data.jsonz\n",
      "\n",
      "\n",
      "Output Corpus:\n",
      "- < project >_all_blame.jsonz\n",
      "- < project >_combined_commits.jsonz\n",
      "\n",
      "Currently tested projects:\n",
      "- nova - rebuild\n",
      "- swift\n",
      "- glance\n",
      "- cinder\n",
      "- heat"
     ]
    },
    {
     "cell_type": "code",
     "collapsed": false,
     "input": [
      "%matplotlib inline\n",
      "import matplotlib.pyplot as plt"
     ],
     "language": "python",
     "metadata": {},
     "outputs": [],
     "prompt_number": 1
    },
    {
     "cell_type": "code",
     "collapsed": false,
     "input": [
      "import pprint as pp\n",
      "import sys\n",
      "sys.path.append('./dev')\n",
      "\n",
      "from commit_analysis import load_all_analysis_data\n",
      "from commit_analysis import rebuild_all_analysis_data\n",
      "from Git_Extract_Join import build_all_blame, load_all_blame"
     ],
     "language": "python",
     "metadata": {},
     "outputs": [],
     "prompt_number": 2
    },
    {
     "cell_type": "heading",
     "level": 3,
     "metadata": {},
     "source": [
      "Parameters"
     ]
    },
    {
     "cell_type": "code",
     "collapsed": false,
     "input": [
      "# PROJECT = 'nova'\n",
      "# PROJECT = 'swift'\n",
      "# PROJECT = 'cinder'\n",
      "# PROJECT = 'heat'\n",
      "PROJECT = 'glance'\n",
      "\n",
      "UPDATE_CORPUS = True\n",
      "BUILD_CORPUS = False"
     ],
     "language": "python",
     "metadata": {},
     "outputs": [],
     "prompt_number": 3
    },
    {
     "cell_type": "raw",
     "metadata": {},
     "source": [
      "# cachedir = './cache/' + PROJECT + '/'"
     ]
    },
    {
     "cell_type": "heading",
     "level": 3,
     "metadata": {},
     "source": [
      "Update base data for Corpus"
     ]
    },
    {
     "cell_type": "code",
     "collapsed": false,
     "input": [
      "from Git_Extract_Join import build_git_commits\n",
      "from Git_Extract_Join import load_git_commits"
     ],
     "language": "python",
     "metadata": {},
     "outputs": [],
     "prompt_number": 4
    },
    {
     "cell_type": "code",
     "collapsed": false,
     "input": [
      "# repo_name ='/Users/doug/SW_Dev/' + PROJECT\n",
      "build_git_commits(PROJECT, update=False)"
     ],
     "language": "python",
     "metadata": {},
     "outputs": [
      {
       "output_type": "stream",
       "stream": "stdout",
       "text": [
        ". "
       ]
      },
      {
       "output_type": "stream",
       "stream": "stdout",
       "text": [
        ". "
       ]
      },
      {
       "output_type": "stream",
       "stream": "stdout",
       "text": [
        ". "
       ]
      },
      {
       "output_type": "stream",
       "stream": "stdout",
       "text": [
        ". "
       ]
      },
      {
       "output_type": "stream",
       "stream": "stdout",
       "text": [
        ". "
       ]
      },
      {
       "output_type": "stream",
       "stream": "stdout",
       "text": [
        ". "
       ]
      },
      {
       "output_type": "stream",
       "stream": "stdout",
       "text": [
        ". "
       ]
      },
      {
       "output_type": "stream",
       "stream": "stdout",
       "text": [
        ". "
       ]
      },
      {
       "output_type": "stream",
       "stream": "stdout",
       "text": [
        ". "
       ]
      },
      {
       "output_type": "stream",
       "stream": "stdout",
       "text": [
        ". 1000 "
       ]
      },
      {
       "output_type": "stream",
       "stream": "stdout",
       "text": [
        ". "
       ]
      },
      {
       "output_type": "stream",
       "stream": "stdout",
       "text": [
        ". "
       ]
      },
      {
       "output_type": "stream",
       "stream": "stdout",
       "text": [
        ". "
       ]
      },
      {
       "output_type": "stream",
       "stream": "stdout",
       "text": [
        ". "
       ]
      },
      {
       "output_type": "stream",
       "stream": "stdout",
       "text": [
        ". "
       ]
      },
      {
       "output_type": "stream",
       "stream": "stdout",
       "text": [
        ". "
       ]
      },
      {
       "output_type": "stream",
       "stream": "stdout",
       "text": [
        ". "
       ]
      },
      {
       "output_type": "stream",
       "stream": "stdout",
       "text": [
        ". "
       ]
      },
      {
       "output_type": "stream",
       "stream": "stdout",
       "text": [
        ". "
       ]
      },
      {
       "output_type": "stream",
       "stream": "stdout",
       "text": [
        ". 2000 "
       ]
      },
      {
       "output_type": "stream",
       "stream": "stdout",
       "text": [
        ". "
       ]
      },
      {
       "output_type": "stream",
       "stream": "stdout",
       "text": [
        ". "
       ]
      },
      {
       "output_type": "stream",
       "stream": "stdout",
       "text": [
        ". "
       ]
      },
      {
       "output_type": "stream",
       "stream": "stdout",
       "text": [
        ". "
       ]
      },
      {
       "output_type": "stream",
       "stream": "stdout",
       "text": [
        ". "
       ]
      },
      {
       "output_type": "stream",
       "stream": "stdout",
       "text": [
        ". "
       ]
      },
      {
       "output_type": "stream",
       "stream": "stdout",
       "text": [
        ". "
       ]
      },
      {
       "output_type": "stream",
       "stream": "stdout",
       "text": [
        ". "
       ]
      },
      {
       "output_type": "stream",
       "stream": "stdout",
       "text": [
        ". "
       ]
      },
      {
       "output_type": "stream",
       "stream": "stdout",
       "text": [
        ". 3000 "
       ]
      },
      {
       "output_type": "stream",
       "stream": "stdout",
       "text": [
        ". "
       ]
      },
      {
       "output_type": "stream",
       "stream": "stdout",
       "text": [
        ". "
       ]
      },
      {
       "output_type": "stream",
       "stream": "stdout",
       "text": [
        ". "
       ]
      },
      {
       "output_type": "stream",
       "stream": "stdout",
       "text": [
        ". "
       ]
      },
      {
       "output_type": "stream",
       "stream": "stdout",
       "text": [
        ". "
       ]
      },
      {
       "output_type": "stream",
       "stream": "stdout",
       "text": [
        ". "
       ]
      },
      {
       "output_type": "stream",
       "stream": "stdout",
       "text": [
        ". "
       ]
      },
      {
       "output_type": "stream",
       "stream": "stdout",
       "text": [
        ". "
       ]
      },
      {
       "output_type": "stream",
       "stream": "stdout",
       "text": [
        ". "
       ]
      },
      {
       "output_type": "stream",
       "stream": "stdout",
       "text": [
        ". 4000 "
       ]
      },
      {
       "output_type": "stream",
       "stream": "stdout",
       "text": [
        ".\n",
        "total commits: 4105\n",
        "Consolidate Git Merge related commits\n",
        "Master Commit:"
       ]
      },
      {
       "output_type": "stream",
       "stream": "stdout",
       "text": [
        " 78b5b0a9575cd5e9c4543ec0e8fd6072af1f0ebb\n",
        "initial commmits to be pruned: 1494\n",
        "starting commits: 4105\n",
        "commits after pruning: 1969\n",
        "Augment Git data with ordering info\n"
       ]
      }
     ],
     "prompt_number": 5
    },
    {
     "cell_type": "raw",
     "metadata": {},
     "source": [
      "commits = load_git_commits(PROJECT, prune=False)"
     ]
    },
    {
     "cell_type": "raw",
     "metadata": {},
     "source": [
      "build_git_commits(PROJECT, update=True)"
     ]
    },
    {
     "cell_type": "raw",
     "metadata": {},
     "source": [
      "build_git_commits(PROJECT, update=True)"
     ]
    },
    {
     "cell_type": "code",
     "collapsed": false,
     "input": [
      "if BUILD_CORPUS or UPDATE_CORPUS:\n",
      "    # repo_name ='/Users/doug/SW_Dev/' + PROJECT\n",
      "    rebuild_all_analysis_data(PROJECT, update=UPDATE_CORPUS)"
     ],
     "language": "python",
     "metadata": {},
     "outputs": [
      {
       "output_type": "stream",
       "stream": "stdout",
       "text": [
        "\n",
        "rebuilding Launchpad (bug) data\n",
        "Total prior bugs:"
       ]
      },
      {
       "output_type": "stream",
       "stream": "stdout",
       "text": [
        " 1247\n",
        "total bugs:"
       ]
      },
      {
       "output_type": "stream",
       "stream": "stdout",
       "text": [
        " 1229\n",
        "bugs to be downloaded: 0\n",
        "\n",
        "New bugs downloaded: 0\n",
        "Prior bugs downloaded: 1247\n",
        "Final bugs: 1247\n",
        "annotating bug entries ..."
       ]
      },
      {
       "output_type": "stream",
       "stream": "stdout",
       "text": [
        "\n",
        "      Critical "
       ]
      },
      {
       "output_type": "stream",
       "stream": "stdout",
       "text": [
        "96 / 96\n",
        "      High "
       ]
      },
      {
       "output_type": "stream",
       "stream": "stdout",
       "text": [
        "204 / 204\n",
        "      Medium "
       ]
      },
      {
       "output_type": "stream",
       "stream": "stdout",
       "text": [
        "290 / 290\n",
        "      Low "
       ]
      },
      {
       "output_type": "stream",
       "stream": "stdout",
       "text": [
        "282 / 282\n",
        "      Wishlist "
       ]
      },
      {
       "output_type": "stream",
       "stream": "stdout",
       "text": [
        "76 / 76\n",
        "      Unknown "
       ]
      },
      {
       "output_type": "stream",
       "stream": "stdout",
       "text": [
        "0 / 0\n",
        "      Undecided "
       ]
      },
      {
       "output_type": "stream",
       "stream": "stdout",
       "text": [
        "192 / 192\n",
        "\n",
        "      Fix Committed "
       ]
      },
      {
       "output_type": "stream",
       "stream": "stdout",
       "text": [
        "4 / 4\n",
        "      Fix Released "
       ]
      },
      {
       "output_type": "stream",
       "stream": "stdout",
       "text": [
        "1136 / 1136\n",
        "\n"
       ]
      },
      {
       "output_type": "stream",
       "stream": "stdout",
       "text": [
        "rebuilding Gerrit data\n",
        "."
       ]
      },
      {
       "output_type": "stream",
       "stream": "stdout",
       "text": [
        " . "
       ]
      },
      {
       "output_type": "stream",
       "stream": "stdout",
       "text": [
        ". "
       ]
      },
      {
       "output_type": "stream",
       "stream": "stdout",
       "text": [
        ". "
       ]
      },
      {
       "output_type": "stream",
       "stream": "stdout",
       "text": [
        ". "
       ]
      },
      {
       "output_type": "stream",
       "stream": "stdout",
       "text": [
        ".\n",
        "total changes: 2088\n",
        "2088\n",
        "total gerrit changes:"
       ]
      },
      {
       "output_type": "stream",
       "stream": "stdout",
       "text": [
        " 2088\n",
        "all_changes: 2088\n",
        "total gerrit changes with detail:"
       ]
      },
      {
       "output_type": "stream",
       "stream": "stdout",
       "text": [
        " 2086\n",
        "all_change_details: 2086\n",
        "Missing: 1\n",
        "."
       ]
      },
      {
       "output_type": "stream",
       "stream": "stdout",
       "text": [
        " Downloaded: 1\n",
        "Skipped: 0\n",
        "total gerrit changes with detail:"
       ]
      },
      {
       "output_type": "stream",
       "stream": "stdout",
       "text": [
        " 2086\n",
        "\n"
       ]
      },
      {
       "output_type": "stream",
       "stream": "stdout",
       "text": [
        "building Git data\n",
        "returning singleton"
       ]
      },
      {
       "output_type": "stream",
       "stream": "stdout",
       "text": [
        "\n",
        "total git_commits: 4105\n",
        "  actual commits: 1969\n",
        "  pruned commits: 2136\n",
        "bug fix commits: 0\n",
        "commits with change_id: 1816\n",
        "bug fix with change_id: 0\n",
        "\n"
       ]
      },
      {
       "output_type": "stream",
       "stream": "stdout",
       "text": [
        "total commits: 4105\n",
        "Consolidate Git Merge related commits\n",
        "Master Commit: 78b5b0a9575cd5e9c4543ec0e8fd6072af1f0ebb\n",
        "initial commmits to be pruned: 1494\n",
        "starting commits: 4105\n",
        "commits after pruning:"
       ]
      },
      {
       "output_type": "stream",
       "stream": "stdout",
       "text": [
        " 1969\n",
        "Augment Git data with ordering info\n",
        "\n"
       ]
      },
      {
       "output_type": "stream",
       "stream": "stdout",
       "text": [
        "Preparation for join\n",
        "total LP bugs:"
       ]
      },
      {
       "output_type": "stream",
       "stream": "stdout",
       "text": [
        " 1247\n",
        "Entries annotated: 922\n",
        "total git_commits:"
       ]
      },
      {
       "output_type": "stream",
       "stream": "stdout",
       "text": [
        " 4105\n",
        "  actual commits: 1969\n",
        "  pruned commits: 2136\n",
        "bug fix commits: 0\n",
        "commits with change_id: 1816\n",
        "bug fix with change_id: 0\n",
        "total gerrit changes with detail:"
       ]
      },
      {
       "output_type": "stream",
       "stream": "stdout",
       "text": [
        " 2087\n",
        "\n",
        "Load any missing bugs\n",
        "no missing bugs\n",
        "\n",
        "Building combined_commits\n",
        "1875\n",
        ". . . . ."
       ]
      },
      {
       "ename": "TypeError",
       "evalue": "unhashable type: 'list'",
       "output_type": "pyerr",
       "traceback": [
        "\u001b[0;31m---------------------------------------------------------------------------\u001b[0m\n\u001b[0;31mTypeError\u001b[0m                                 Traceback (most recent call last)",
        "\u001b[0;32m<ipython-input-6-22fbf9dbd0e0>\u001b[0m in \u001b[0;36m<module>\u001b[0;34m()\u001b[0m\n\u001b[1;32m      1\u001b[0m \u001b[0;32mif\u001b[0m \u001b[0mBUILD_CORPUS\u001b[0m \u001b[0;32mor\u001b[0m \u001b[0mUPDATE_CORPUS\u001b[0m\u001b[0;34m:\u001b[0m\u001b[0;34m\u001b[0m\u001b[0m\n\u001b[1;32m      2\u001b[0m     \u001b[0;31m# repo_name ='/Users/doug/SW_Dev/' + PROJECT\u001b[0m\u001b[0;34m\u001b[0m\u001b[0;34m\u001b[0m\u001b[0m\n\u001b[0;32m----> 3\u001b[0;31m     \u001b[0mrebuild_all_analysis_data\u001b[0m\u001b[0;34m(\u001b[0m\u001b[0mPROJECT\u001b[0m\u001b[0;34m,\u001b[0m \u001b[0mupdate\u001b[0m\u001b[0;34m=\u001b[0m\u001b[0mUPDATE_CORPUS\u001b[0m\u001b[0;34m)\u001b[0m\u001b[0;34m\u001b[0m\u001b[0m\n\u001b[0m",
        "\u001b[0;32m/Users/doug/iPython/git_analysis2/dev/commit_analysis.py\u001b[0m in \u001b[0;36mrebuild_all_analysis_data\u001b[0;34m(project, update)\u001b[0m\n\u001b[1;32m    167\u001b[0m     \u001b[0;32mprint\u001b[0m \u001b[0;34m'Building combined_commits'\u001b[0m\u001b[0;34m\u001b[0m\u001b[0m\n\u001b[1;32m    168\u001b[0m     build_joined_LP_Gerrit_git(project, commits, downloaded_bugs,\n\u001b[0;32m--> 169\u001b[0;31m                                all_change_details)\n\u001b[0m\u001b[1;32m    170\u001b[0m \u001b[0;34m\u001b[0m\u001b[0m\n\u001b[1;32m    171\u001b[0m     \u001b[0;32mprint\u001b[0m\u001b[0;34m\u001b[0m\u001b[0m\n",
        "\u001b[0;32m/Users/doug/iPython/git_analysis2/dev/Git_Extract_Join.py\u001b[0m in \u001b[0;36mbuild_joined_LP_Gerrit_git\u001b[0;34m(project, commits, downloaded_bugs, all_change_details)\u001b[0m\n\u001b[1;32m   1207\u001b[0m             \u001b[0mbugno\u001b[0m \u001b[0;34m=\u001b[0m \u001b[0mcommit\u001b[0m\u001b[0;34m[\u001b[0m\u001b[0;34m'bug'\u001b[0m\u001b[0;34m]\u001b[0m\u001b[0;34m\u001b[0m\u001b[0m\n\u001b[1;32m   1208\u001b[0m         elif ('change_id' in commit\n\u001b[0;32m-> 1209\u001b[0;31m                 and commit['change_id'] in idx_changeid_to_bugs):\n\u001b[0m\u001b[1;32m   1210\u001b[0m             \u001b[0mbugno\u001b[0m \u001b[0;34m=\u001b[0m \u001b[0midx_changeid_to_bugs\u001b[0m\u001b[0;34m[\u001b[0m\u001b[0mcommit\u001b[0m\u001b[0;34m[\u001b[0m\u001b[0;34m'change_id'\u001b[0m\u001b[0;34m]\u001b[0m\u001b[0;34m]\u001b[0m\u001b[0;34m\u001b[0m\u001b[0m\n\u001b[1;32m   1211\u001b[0m \u001b[0;34m\u001b[0m\u001b[0m\n",
        "\u001b[0;31mTypeError\u001b[0m: unhashable type: 'list'"
       ]
      }
     ],
     "prompt_number": 6
    },
    {
     "cell_type": "heading",
     "level": 3,
     "metadata": {},
     "source": [
      "Get Launchpad, Gerrit and Git Data"
     ]
    },
    {
     "cell_type": "code",
     "collapsed": false,
     "input": [
      "downloaded_bugs, all_changes, \\\n",
      "all_change_details, \\\n",
      "commits, combined_commits, all_blame = load_all_analysis_data(PROJECT)"
     ],
     "language": "python",
     "metadata": {},
     "outputs": []
    },
    {
     "cell_type": "heading",
     "level": 3,
     "metadata": {},
     "source": [
      "Compute Diff and Blame"
     ]
    },
    {
     "cell_type": "raw",
     "metadata": {},
     "source": [
      "if BUILD_CORPUS or UPDATE_CORPUS:\n",
      "    project = PROJECT\n",
      "    # repo_name ='/Users/doug/SW_Dev/' + project\n",
      "    build_all_blame(project, combined_commits, update=UPDATE_CORPUS)"
     ]
    },
    {
     "cell_type": "raw",
     "metadata": {},
     "source": [
      "all_blame = load_all_blame(PROJECT)\n",
      "print len(all_blame)"
     ]
    },
    {
     "cell_type": "heading",
     "level": 3,
     "metadata": {},
     "source": [
      "Display Sample Output"
     ]
    },
    {
     "cell_type": "code",
     "collapsed": false,
     "input": [
      "hot_commits = sum([1 for val in combined_commits.values()\n",
      "                   if 'lp:heat' in val and int(val['lp:heat']) >= 250])\n",
      "\n",
      "print hot_commits"
     ],
     "language": "python",
     "metadata": {},
     "outputs": []
    },
    {
     "cell_type": "code",
     "collapsed": false,
     "input": [
      "pp.pprint(combined_commits.values()[-15].keys())"
     ],
     "language": "python",
     "metadata": {},
     "outputs": []
    },
    {
     "cell_type": "code",
     "collapsed": false,
     "input": [
      "pp.pprint(combined_commits.values()[10]['order'])\n",
      "pp.pprint(combined_commits.values()[-11]['order'])"
     ],
     "language": "python",
     "metadata": {},
     "outputs": []
    },
    {
     "cell_type": "code",
     "collapsed": false,
     "input": [
      "pp.pprint(combined_commits.values()[10]['author_order'])\n",
      "pp.pprint(combined_commits.values()[-11]['author_order'])"
     ],
     "language": "python",
     "metadata": {},
     "outputs": []
    },
    {
     "cell_type": "code",
     "collapsed": false,
     "input": [
      "pp.pprint(combined_commits.values()[10]['file_order'])\n",
      "pp.pprint(combined_commits.values()[-11]['file_order'])"
     ],
     "language": "python",
     "metadata": {},
     "outputs": []
    },
    {
     "cell_type": "code",
     "collapsed": false,
     "input": [
      "pp.pprint(combined_commits.values()[10]['file_order_for_author'])\n",
      "pp.pprint(combined_commits.values()[-11]['file_order_for_author'])"
     ],
     "language": "python",
     "metadata": {},
     "outputs": []
    },
    {
     "cell_type": "code",
     "collapsed": false,
     "input": [
      "pp.pprint(all_blame[0])"
     ],
     "language": "python",
     "metadata": {},
     "outputs": []
    },
    {
     "cell_type": "code",
     "collapsed": false,
     "input": [],
     "language": "python",
     "metadata": {},
     "outputs": []
    },
    {
     "cell_type": "code",
     "collapsed": false,
     "input": [],
     "language": "python",
     "metadata": {},
     "outputs": []
    },
    {
     "cell_type": "code",
     "collapsed": false,
     "input": [],
     "language": "python",
     "metadata": {},
     "outputs": []
    }
   ],
   "metadata": {}
  }
 ]
}