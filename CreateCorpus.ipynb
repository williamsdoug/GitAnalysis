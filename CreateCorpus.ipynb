{
 "metadata": {
  "name": "",
  "signature": "sha256:e5564a8cc2a8cb4500beb1ef64a01f6e96e5499fb9a5ca4ca2cca8e6c5c95a16"
 },
 "nbformat": 3,
 "nbformat_minor": 0,
 "worksheets": [
  {
   "cells": [
    {
     "cell_type": "markdown",
     "metadata": {},
     "source": [
      "#Master file to create Corpus\n",
      "\n",
      "Author:  Doug Williams, Copyright 2014, 2015\n",
      "\n",
      "Last Updated: 2/3/2015\n",
      "\n",
      "Can either rebuild corpus from scratch, or apply updates incrementally.   Since some of the cata is downloaded from the web, there are a set of intermediate corpus that are also maintained.  These are later joined to produce the finl result\n",
      "\n",
      "Intermediate Corpus:\n",
      "- < project >_change_details.jsonz\n",
      "- < project >_changes.jsonz\n",
      "- < project >_commits.jsonz\n",
      "- < project >_lp_bugs.jsonz\n",
      "- < project >_patch_data.jsonz\n",
      "\n",
      "\n",
      "Output Corpus:\n",
      "- < project >_all_blame.jsonz\n",
      "- < project >_combined_commits.jsonz\n",
      "\n",
      "Currently testd projects:\n",
      "- nova\n",
      "- swift"
     ]
    },
    {
     "cell_type": "code",
     "collapsed": false,
     "input": [
      "import pprint as pp\n",
      "import sys\n",
      "sys.path.append('./dev')\n",
      "\n",
      "from jp_load_dump import pdump, pload, jdump, jload\n",
      "\n",
      "from LPBugsDownload import build_lp_bugs, load_lp_bugs\n",
      "\n",
      "from GerritDownload import build_gerrit_data\n",
      "from GerritDownload import load_gerrit_changes, load_gerrit_change_details\n",
      "\n",
      "from Git_Extract_Join import build_git_commits, load_git_commits\n",
      "from Git_Extract_Join import build_joined_LP_Gerrit_git, load_combined_commits\n",
      "from Git_Extract_Join import build_all_blame, load_all_blame"
     ],
     "language": "python",
     "metadata": {},
     "outputs": [],
     "prompt_number": 1
    },
    {
     "cell_type": "heading",
     "level": 3,
     "metadata": {},
     "source": [
      "Parameters"
     ]
    },
    {
     "cell_type": "code",
     "collapsed": false,
     "input": [
      "# PROJECT = 'nova'\n",
      "PROJECT = 'swift'\n",
      "REPO_NAME ='/Users/doug/SW_Dev/' + PROJECT\n",
      "CACHEDIR = './cache/'\n",
      "UPDATE_CORPUS = True\n",
      "BUILD_CORPUS = False"
     ],
     "language": "python",
     "metadata": {},
     "outputs": [],
     "prompt_number": 2
    },
    {
     "cell_type": "heading",
     "level": 3,
     "metadata": {},
     "source": [
      "Update base data for Corpus"
     ]
    },
    {
     "cell_type": "code",
     "collapsed": false,
     "input": [
      "if BUILD_CORPUS or UPDATE_CORPUS:\n",
      "    print 'updating bug data'\n",
      "    build_lp_bugs(PROJECT, update=UPDATE_CORPUS, cachedir=CACHEDIR)\n",
      "    \n",
      "    print\n",
      "    print 'rebuilding Gerrit data'\n",
      "    build_gerrit_data(PROJECT, update=UPDATE_CORPUS)\n",
      "\n",
      "    print\n",
      "    print'building Git data'\n",
      "    build_git_commits(PROJECT, REPO_NAME, update=UPDATE_CORPUS)"
     ],
     "language": "python",
     "metadata": {},
     "outputs": [
      {
       "output_type": "stream",
       "stream": "stdout",
       "text": [
        "updating bug data\n",
        "Total prior bugs:"
       ]
      },
      {
       "output_type": "stream",
       "stream": "stdout",
       "text": [
        " 677\n",
        "total bugs:"
       ]
      },
      {
       "output_type": "stream",
       "stream": "stdout",
       "text": [
        " 675\n",
        "bugs to be downloaded: 0\n",
        "New bugs downloaded: 0\n",
        "Prior bugs downloaded: 677\n",
        "Final bugs: 677\n",
        "\n"
       ]
      },
      {
       "output_type": "stream",
       "stream": "stdout",
       "text": [
        "rebuilding Gerrit data\n",
        "."
       ]
      },
      {
       "output_type": "stream",
       "stream": "stdout",
       "text": [
        " . "
       ]
      },
      {
       "output_type": "stream",
       "stream": "stdout",
       "text": [
        ". "
       ]
      },
      {
       "output_type": "stream",
       "stream": "stdout",
       "text": [
        ". "
       ]
      },
      {
       "output_type": "stream",
       "stream": "stdout",
       "text": [
        ". "
       ]
      },
      {
       "output_type": "stream",
       "stream": "stdout",
       "text": [
        ". "
       ]
      },
      {
       "output_type": "stream",
       "stream": "stdout",
       "text": [
        ". "
       ]
      },
      {
       "output_type": "stream",
       "stream": "stdout",
       "text": [
        ". "
       ]
      },
      {
       "output_type": "stream",
       "stream": "stdout",
       "text": [
        ". "
       ]
      },
      {
       "output_type": "stream",
       "stream": "stdout",
       "text": [
        ". "
       ]
      },
      {
       "output_type": "stream",
       "stream": "stdout",
       "text": [
        ". "
       ]
      },
      {
       "output_type": "stream",
       "stream": "stdout",
       "text": [
        ". "
       ]
      },
      {
       "output_type": "stream",
       "stream": "stdout",
       "text": [
        ". "
       ]
      },
      {
       "output_type": "stream",
       "stream": "stdout",
       "text": [
        ". "
       ]
      },
      {
       "output_type": "stream",
       "stream": "stdout",
       "text": [
        ". "
       ]
      },
      {
       "output_type": "stream",
       "stream": "stdout",
       "text": [
        ". "
       ]
      },
      {
       "output_type": "stream",
       "stream": "stdout",
       "text": [
        ". "
       ]
      },
      {
       "output_type": "stream",
       "stream": "stdout",
       "text": [
        ". "
       ]
      },
      {
       "output_type": "stream",
       "stream": "stdout",
       "text": [
        ". "
       ]
      },
      {
       "output_type": "stream",
       "stream": "stdout",
       "text": [
        ". "
       ]
      },
      {
       "output_type": "stream",
       "stream": "stdout",
       "text": [
        ". "
       ]
      },
      {
       "output_type": "stream",
       "stream": "stdout",
       "text": [
        ". "
       ]
      },
      {
       "output_type": "stream",
       "stream": "stdout",
       "text": [
        ". "
       ]
      },
      {
       "output_type": "stream",
       "stream": "stdout",
       "text": [
        ". "
       ]
      },
      {
       "output_type": "stream",
       "stream": "stdout",
       "text": [
        ". "
       ]
      },
      {
       "output_type": "stream",
       "stream": "stdout",
       "text": [
        ".\n",
        "total changes: 12449\n",
        "12449\n",
        "total gerrit changes:"
       ]
      },
      {
       "output_type": "stream",
       "stream": "stdout",
       "text": [
        " 12449\n",
        "all_changes: 12449\n",
        "total gerrit changes with detail:"
       ]
      },
      {
       "output_type": "stream",
       "stream": "stdout",
       "text": [
        " 12377\n",
        "all_change_details: 12377\n",
        "Missing: 1\n",
        "."
       ]
      },
      {
       "output_type": "stream",
       "stream": "stdout",
       "text": [
        " Downloaded: 1\n",
        "Skipped: 0\n",
        "total gerrit changes with detail:"
       ]
      },
      {
       "output_type": "stream",
       "stream": "stdout",
       "text": [
        " 12377\n",
        "\n"
       ]
      },
      {
       "output_type": "stream",
       "stream": "stdout",
       "text": [
        "building Git data\n",
        "total git_commits:"
       ]
      },
      {
       "output_type": "stream",
       "stream": "stdout",
       "text": [
        " 4303\n",
        "bug fix commits: 374\n",
        "commits with change_id: 1583\n",
        "bug fix with change_id: 360\n",
        "\n"
       ]
      },
      {
       "output_type": "stream",
       "stream": "stdout",
       "text": [
        "total commits: 4305\n",
        "Augment Git data with patch info\n",
        "known patches: 1152\n",
        "requested patches: 1141\n",
        "new patches to be fetched: 1\n",
        "\n"
       ]
      },
      {
       "output_type": "stream",
       "stream": "stdout",
       "text": [
        "Augment Git data with ordering info\n",
        "\n"
       ]
      },
      {
       "output_type": "stream",
       "stream": "stdout",
       "text": [
        "Augment Git data with lines-of-code changed\n"
       ]
      }
     ],
     "prompt_number": 3
    },
    {
     "cell_type": "code",
     "collapsed": false,
     "input": [
      "commits = load_git_commits(PROJECT)"
     ],
     "language": "python",
     "metadata": {},
     "outputs": [
      {
       "output_type": "stream",
       "stream": "stdout",
       "text": [
        "total git_commits: 4305\n",
        "bug fix commits: 374\n",
        "commits with change_id: 1585\n",
        "bug fix with change_id: 360\n"
       ]
      }
     ],
     "prompt_number": 4
    },
    {
     "cell_type": "heading",
     "level": 3,
     "metadata": {},
     "source": [
      "Get Launchpad, Gerrit and Git Data"
     ]
    },
    {
     "cell_type": "code",
     "collapsed": false,
     "input": [
      "print\n",
      "print 'loading bug data'\n",
      "downloaded_bugs = load_lp_bugs(PROJECT)\n",
      "print\n",
      "print 'loading change data'    \n",
      "all_changes = load_gerrit_changes(PROJECT)\n",
      "print 'all_changes:', len(all_changes)\n",
      "all_change_details = load_gerrit_change_details(PROJECT)\n",
      "print 'all_change_details:', len(all_change_details)\n",
      "print 'loading Git commit data'\n",
      "print\n",
      "commits = load_git_commits(PROJECT)"
     ],
     "language": "python",
     "metadata": {},
     "outputs": [
      {
       "output_type": "stream",
       "stream": "stdout",
       "text": [
        "\n",
        "loading bug data\n",
        "total LP bugs:"
       ]
      },
      {
       "output_type": "stream",
       "stream": "stdout",
       "text": [
        " 677\n",
        "Entries annotated: 338\n",
        "\n",
        "loading change data\n",
        "total gerrit changes:"
       ]
      },
      {
       "output_type": "stream",
       "stream": "stdout",
       "text": [
        " 12449\n",
        "all_changes: 12449\n",
        "total gerrit changes with detail:"
       ]
      },
      {
       "output_type": "stream",
       "stream": "stdout",
       "text": [
        " 12378\n",
        "all_change_details: 12378\n",
        "loading Git commit data\n",
        "\n",
        "total git_commits:"
       ]
      },
      {
       "output_type": "stream",
       "stream": "stdout",
       "text": [
        " 4305\n",
        "bug fix commits: 374\n",
        "commits with change_id: 1585\n",
        "bug fix with change_id: 360\n"
       ]
      }
     ],
     "prompt_number": 5
    },
    {
     "cell_type": "heading",
     "level": 3,
     "metadata": {},
     "source": [
      "Join LP, Gerrit and Git data and generate consolidated corpus"
     ]
    },
    {
     "cell_type": "code",
     "collapsed": false,
     "input": [
      "if BUILD_CORPUS or UPDATE_CORPUS:\n",
      "    build_joined_LP_Gerrit_git(PROJECT, commits, downloaded_bugs, all_change_details)"
     ],
     "language": "python",
     "metadata": {},
     "outputs": [
      {
       "output_type": "stream",
       "stream": "stdout",
       "text": [
        "11508\n",
        ". . . . . . . . . . 1000 . . . . . . . . . . 2000 . . . . . . . . . . 3000 . . . . . . "
       ]
      },
      {
       "output_type": "stream",
       "stream": "stdout",
       "text": [
        ". . . . 4000 . . .\n"
       ]
      }
     ],
     "prompt_number": 6
    },
    {
     "cell_type": "code",
     "collapsed": false,
     "input": [
      "combined_commits = load_combined_commits(PROJECT)\n",
      "\n",
      "print len(combined_commits)"
     ],
     "language": "python",
     "metadata": {},
     "outputs": [
      {
       "output_type": "stream",
       "stream": "stdout",
       "text": [
        "4305\n"
       ]
      }
     ],
     "prompt_number": 7
    },
    {
     "cell_type": "heading",
     "level": 3,
     "metadata": {},
     "source": [
      "Compute Diff and Blame"
     ]
    },
    {
     "cell_type": "code",
     "collapsed": false,
     "input": [
      "# UPDATE_CORPUS = True"
     ],
     "language": "python",
     "metadata": {},
     "outputs": [],
     "prompt_number": 8
    },
    {
     "cell_type": "code",
     "collapsed": false,
     "input": [
      "if BUILD_CORPUS or UPDATE_CORPUS:\n",
      "    build_all_blame(PROJECT, combined_commits, REPO_NAME, update=UPDATE_CORPUS)"
     ],
     "language": "python",
     "metadata": {},
     "outputs": [
      {
       "output_type": "stream",
       "stream": "stdout",
       "text": [
        "bug fix commits: 381\n",
        "new blame to be computed:"
       ]
      },
      {
       "output_type": "stream",
       "stream": "stdout",
       "text": [
        " 0\n"
       ]
      }
     ],
     "prompt_number": 9
    },
    {
     "cell_type": "code",
     "collapsed": false,
     "input": [
      "all_blame = load_all_blame(PROJECT)\n",
      "print len(all_blame)"
     ],
     "language": "python",
     "metadata": {},
     "outputs": [
      {
       "output_type": "stream",
       "stream": "stdout",
       "text": [
        "381\n"
       ]
      }
     ],
     "prompt_number": 10
    },
    {
     "cell_type": "heading",
     "level": 3,
     "metadata": {},
     "source": [
      "Display Sample Output"
     ]
    },
    {
     "cell_type": "code",
     "collapsed": false,
     "input": [
      "pp.pprint(combined_commits.values()[-15].keys())"
     ],
     "language": "python",
     "metadata": {},
     "outputs": [
      {
       "output_type": "stream",
       "stream": "stdout",
       "text": [
        "[u'files',\n",
        " u'committer',\n",
        " u'author',\n",
        " u'change_id',\n",
        " u'cid',\n",
        " u'loc_add',\n",
        " u'author_order',\n",
        " u'msg',\n",
        " u'parents',\n",
        " u'file_order',\n",
        " u'date',\n",
        " u'loc_detail',\n",
        " u'order',\n",
        " u'file_order_for_author',\n",
        " u'loc_change']\n"
       ]
      }
     ],
     "prompt_number": 11
    },
    {
     "cell_type": "code",
     "collapsed": false,
     "input": [
      "pp.pprint(combined_commits.values()[10]['order'])\n",
      "pp.pprint(combined_commits.values()[-11]['order'])"
     ],
     "language": "python",
     "metadata": {},
     "outputs": [
      {
       "output_type": "stream",
       "stream": "stdout",
       "text": [
        "2244\n",
        "1312\n"
       ]
      }
     ],
     "prompt_number": 12
    },
    {
     "cell_type": "code",
     "collapsed": false,
     "input": [
      "pp.pprint(combined_commits.values()[10]['author_order'])\n",
      "pp.pprint(combined_commits.values()[-11]['author_order'])"
     ],
     "language": "python",
     "metadata": {},
     "outputs": [
      {
       "output_type": "stream",
       "stream": "stdout",
       "text": [
        "248\n",
        "78\n"
       ]
      }
     ],
     "prompt_number": 13
    },
    {
     "cell_type": "code",
     "collapsed": false,
     "input": [
      "pp.pprint(combined_commits.values()[10]['file_order'])\n",
      "pp.pprint(combined_commits.values()[-11]['file_order'])"
     ],
     "language": "python",
     "metadata": {},
     "outputs": [
      {
       "output_type": "stream",
       "stream": "stdout",
       "text": [
        "{u'swift/common/swob.py': 59,\n",
        " u'test/functionalnosetests/test_container.py': 46,\n",
        " u'test/unit/common/test_swob.py': 48}\n",
        "{}\n"
       ]
      }
     ],
     "prompt_number": 14
    },
    {
     "cell_type": "code",
     "collapsed": false,
     "input": [
      "pp.pprint(combined_commits.values()[10]['file_order_for_author'])\n",
      "pp.pprint(combined_commits.values()[-11]['file_order_for_author'])"
     ],
     "language": "python",
     "metadata": {},
     "outputs": [
      {
       "output_type": "stream",
       "stream": "stdout",
       "text": [
        "{u'swift/common/swob.py': 43,\n",
        " u'test/functionalnosetests/test_container.py': 5,\n",
        " u'test/unit/common/test_swob.py': 36}\n",
        "{}\n"
       ]
      }
     ],
     "prompt_number": 15
    },
    {
     "cell_type": "code",
     "collapsed": false,
     "input": [
      "pp.pprint(all_blame[0])"
     ],
     "language": "python",
     "metadata": {},
     "outputs": [
      {
       "output_type": "stream",
       "stream": "stdout",
       "text": [
        "{u'blame': {u'swift/common/swob.py': [{u'commit': u'5e3e9a882de8b51b8e3b27628ba39f0dabfc78df',\n",
        "                                       u'lineno': 603,\n",
        "                                       u'proximity': 4},\n",
        "                                      {u'commit': u'5e3e9a882de8b51b8e3b27628ba39f0dabfc78df',\n",
        "                                       u'lineno': 604,\n",
        "                                       u'proximity': 3},\n",
        "                                      {u'commit': u'5e3e9a882de8b51b8e3b27628ba39f0dabfc78df',\n",
        "                                       u'lineno': 605,\n",
        "                                       u'proximity': 2},\n",
        "                                      {u'commit': u'064ee2b58337b7fd3ae5fca343b1f6fd3bd86ed7',\n",
        "                                       u'lineno': 606,\n",
        "                                       u'proximity': 1},\n",
        "                                      {u'commit': u'064ee2b58337b7fd3ae5fca343b1f6fd3bd86ed7',\n",
        "                                       u'lineno': 607,\n",
        "                                       u'proximity': 1},\n",
        "                                      {u'commit': u'064ee2b58337b7fd3ae5fca343b1f6fd3bd86ed7',\n",
        "                                       u'lineno': 608,\n",
        "                                       u'proximity': 1},\n",
        "                                      {u'commit': u'064ee2b58337b7fd3ae5fca343b1f6fd3bd86ed7',\n",
        "                                       u'lineno': 609,\n",
        "                                       u'proximity': 1},\n",
        "                                      {u'commit': u'5e3e9a882de8b51b8e3b27628ba39f0dabfc78df',\n",
        "                                       u'lineno': 610,\n",
        "                                       u'proximity': 1},\n",
        "                                      {u'commit': u'5e3e9a882de8b51b8e3b27628ba39f0dabfc78df',\n",
        "                                       u'lineno': 611,\n",
        "                                       u'proximity': 1},\n",
        "                                      {u'commit': u'5e3e9a882de8b51b8e3b27628ba39f0dabfc78df',\n",
        "                                       u'lineno': 612,\n",
        "                                       u'proximity': 1},\n",
        "                                      {u'commit': u'5e3e9a882de8b51b8e3b27628ba39f0dabfc78df',\n",
        "                                       u'lineno': 613,\n",
        "                                       u'proximity': 1},\n",
        "                                      {u'commit': u'5e3e9a882de8b51b8e3b27628ba39f0dabfc78df',\n",
        "                                       u'lineno': 614,\n",
        "                                       u'proximity': 1},\n",
        "                                      {u'commit': u'064ee2b58337b7fd3ae5fca343b1f6fd3bd86ed7',\n",
        "                                       u'lineno': 615,\n",
        "                                       u'proximity': 1},\n",
        "                                      {u'commit': u'064ee2b58337b7fd3ae5fca343b1f6fd3bd86ed7',\n",
        "                                       u'lineno': 616,\n",
        "                                       u'proximity': 1},\n",
        "                                      {u'commit': u'064ee2b58337b7fd3ae5fca343b1f6fd3bd86ed7',\n",
        "                                       u'lineno': 617,\n",
        "                                       u'proximity': 1},\n",
        "                                      {u'commit': u'064ee2b58337b7fd3ae5fca343b1f6fd3bd86ed7',\n",
        "                                       u'lineno': 618,\n",
        "                                       u'proximity': 2},\n",
        "                                      {u'commit': u'064ee2b58337b7fd3ae5fca343b1f6fd3bd86ed7',\n",
        "                                       u'lineno': 619,\n",
        "                                       u'proximity': 3},\n",
        "                                      {u'commit': u'064ee2b58337b7fd3ae5fca343b1f6fd3bd86ed7',\n",
        "                                       u'lineno': 626,\n",
        "                                       u'proximity': 4},\n",
        "                                      {u'commit': u'064ee2b58337b7fd3ae5fca343b1f6fd3bd86ed7',\n",
        "                                       u'lineno': 627,\n",
        "                                       u'proximity': 3},\n",
        "                                      {u'commit': u'064ee2b58337b7fd3ae5fca343b1f6fd3bd86ed7',\n",
        "                                       u'lineno': 628,\n",
        "                                       u'proximity': 2},\n",
        "                                      {u'commit': u'064ee2b58337b7fd3ae5fca343b1f6fd3bd86ed7',\n",
        "                                       u'lineno': 629,\n",
        "                                       u'proximity': 1},\n",
        "                                      {u'commit': u'064ee2b58337b7fd3ae5fca343b1f6fd3bd86ed7',\n",
        "                                       u'lineno': 630,\n",
        "                                       u'proximity': 1},\n",
        "                                      {u'commit': u'064ee2b58337b7fd3ae5fca343b1f6fd3bd86ed7',\n",
        "                                       u'lineno': 631,\n",
        "                                       u'proximity': 1},\n",
        "                                      {u'commit': u'064ee2b58337b7fd3ae5fca343b1f6fd3bd86ed7',\n",
        "                                       u'lineno': 632,\n",
        "                                       u'proximity': 1},\n",
        "                                      {u'commit': u'064ee2b58337b7fd3ae5fca343b1f6fd3bd86ed7',\n",
        "                                       u'lineno': 633,\n",
        "                                       u'proximity': 1},\n",
        "                                      {u'commit': u'064ee2b58337b7fd3ae5fca343b1f6fd3bd86ed7',\n",
        "                                       u'lineno': 634,\n",
        "                                       u'proximity': 1},\n",
        "                                      {u'commit': u'064ee2b58337b7fd3ae5fca343b1f6fd3bd86ed7',\n",
        "                                       u'lineno': 635,\n",
        "                                       u'proximity': 1},\n",
        "                                      {u'commit': u'064ee2b58337b7fd3ae5fca343b1f6fd3bd86ed7',\n",
        "                                       u'lineno': 636,\n",
        "                                       u'proximity': 1},\n",
        "                                      {u'commit': u'064ee2b58337b7fd3ae5fca343b1f6fd3bd86ed7',\n",
        "                                       u'lineno': 637,\n",
        "                                       u'proximity': 1},\n",
        "                                      {u'commit': u'064ee2b58337b7fd3ae5fca343b1f6fd3bd86ed7',\n",
        "                                       u'lineno': 638,\n",
        "                                       u'proximity': 1},\n",
        "                                      {u'commit': u'064ee2b58337b7fd3ae5fca343b1f6fd3bd86ed7',\n",
        "                                       u'lineno': 639,\n",
        "                                       u'proximity': 1},\n",
        "                                      {u'commit': u'064ee2b58337b7fd3ae5fca343b1f6fd3bd86ed7',\n",
        "                                       u'lineno': 640,\n",
        "                                       u'proximity': 1},\n",
        "                                      {u'commit': u'064ee2b58337b7fd3ae5fca343b1f6fd3bd86ed7',\n",
        "                                       u'lineno': 641,\n",
        "                                       u'proximity': 1},\n",
        "                                      {u'commit': u'064ee2b58337b7fd3ae5fca343b1f6fd3bd86ed7',\n",
        "                                       u'lineno': 642,\n",
        "                                       u'proximity': 1},\n",
        "                                      {u'commit': u'064ee2b58337b7fd3ae5fca343b1f6fd3bd86ed7',\n",
        "                                       u'lineno': 643,\n",
        "                                       u'proximity': 1},\n",
        "                                      {u'commit': u'064ee2b58337b7fd3ae5fca343b1f6fd3bd86ed7',\n",
        "                                       u'lineno': 644,\n",
        "                                       u'proximity': 1},\n",
        "                                      {u'commit': u'5e3e9a882de8b51b8e3b27628ba39f0dabfc78df',\n",
        "                                       u'lineno': 645,\n",
        "                                       u'proximity': 1},\n",
        "                                      {u'commit': u'064ee2b58337b7fd3ae5fca343b1f6fd3bd86ed7',\n",
        "                                       u'lineno': 646,\n",
        "                                       u'proximity': 2},\n",
        "                                      {u'commit': u'5e3e9a882de8b51b8e3b27628ba39f0dabfc78df',\n",
        "                                       u'lineno': 647,\n",
        "                                       u'proximity': 3}],\n",
        "            u'test/unit/common/test_swob.py': [{u'commit': u'5e3e9a882de8b51b8e3b27628ba39f0dabfc78df',\n",
        "                                                u'lineno': 261,\n",
        "                                                u'proximity': 4},\n",
        "                                               {u'commit': u'5e3e9a882de8b51b8e3b27628ba39f0dabfc78df',\n",
        "                                                u'lineno': 262,\n",
        "                                                u'proximity': 3},\n",
        "                                               {u'commit': u'5e3e9a882de8b51b8e3b27628ba39f0dabfc78df',\n",
        "                                                u'lineno': 263,\n",
        "                                                u'proximity': 2},\n",
        "                                               {u'commit': u'5e3e9a882de8b51b8e3b27628ba39f0dabfc78df',\n",
        "                                                u'lineno': 264,\n",
        "                                                u'proximity': 1},\n",
        "                                               {u'commit': u'5e3e9a882de8b51b8e3b27628ba39f0dabfc78df',\n",
        "                                                u'lineno': 265,\n",
        "                                                u'proximity': 1},\n",
        "                                               {u'commit': u'5e3e9a882de8b51b8e3b27628ba39f0dabfc78df',\n",
        "                                                u'lineno': 266,\n",
        "                                                u'proximity': 1},\n",
        "                                               {u'commit': u'064ee2b58337b7fd3ae5fca343b1f6fd3bd86ed7',\n",
        "                                                u'lineno': 267,\n",
        "                                                u'proximity': 1},\n",
        "                                               {u'commit': u'5e3e9a882de8b51b8e3b27628ba39f0dabfc78df',\n",
        "                                                u'lineno': 268,\n",
        "                                                u'proximity': 2},\n",
        "                                               {u'commit': u'5e3e9a882de8b51b8e3b27628ba39f0dabfc78df',\n",
        "                                                u'lineno': 269,\n",
        "                                                u'proximity': 3},\n",
        "                                               {u'commit': u'064ee2b58337b7fd3ae5fca343b1f6fd3bd86ed7',\n",
        "                                                u'lineno': 270,\n",
        "                                                u'proximity': 4},\n",
        "                                               {u'commit': u'064ee2b58337b7fd3ae5fca343b1f6fd3bd86ed7',\n",
        "                                                u'lineno': 273,\n",
        "                                                u'proximity': 4},\n",
        "                                               {u'commit': u'064ee2b58337b7fd3ae5fca343b1f6fd3bd86ed7',\n",
        "                                                u'lineno': 274,\n",
        "                                                u'proximity': 3},\n",
        "                                               {u'commit': u'064ee2b58337b7fd3ae5fca343b1f6fd3bd86ed7',\n",
        "                                                u'lineno': 275,\n",
        "                                                u'proximity': 2},\n",
        "                                               {u'commit': u'064ee2b58337b7fd3ae5fca343b1f6fd3bd86ed7',\n",
        "                                                u'lineno': 276,\n",
        "                                                u'proximity': 1},\n",
        "                                               {u'commit': u'064ee2b58337b7fd3ae5fca343b1f6fd3bd86ed7',\n",
        "                                                u'lineno': 277,\n",
        "                                                u'proximity': 1},\n",
        "                                               {u'commit': u'064ee2b58337b7fd3ae5fca343b1f6fd3bd86ed7',\n",
        "                                                u'lineno': 278,\n",
        "                                                u'proximity': 1},\n",
        "                                               {u'commit': u'5174b7f85dea42b6e0a50ee0a222637be0cea240',\n",
        "                                                u'lineno': 279,\n",
        "                                                u'proximity': 1},\n",
        "                                               {u'commit': u'5174b7f85dea42b6e0a50ee0a222637be0cea240',\n",
        "                                                u'lineno': 280,\n",
        "                                                u'proximity': 2},\n",
        "                                               {u'commit': u'5174b7f85dea42b6e0a50ee0a222637be0cea240',\n",
        "                                                u'lineno': 281,\n",
        "                                                u'proximity': 3},\n",
        "                                               {u'commit': u'5e3e9a882de8b51b8e3b27628ba39f0dabfc78df',\n",
        "                                                u'lineno': 282,\n",
        "                                                u'proximity': 4},\n",
        "                                               {u'commit': u'5e3e9a882de8b51b8e3b27628ba39f0dabfc78df',\n",
        "                                                u'lineno': 286,\n",
        "                                                u'proximity': 4},\n",
        "                                               {u'commit': u'5e3e9a882de8b51b8e3b27628ba39f0dabfc78df',\n",
        "                                                u'lineno': 287,\n",
        "                                                u'proximity': 3},\n",
        "                                               {u'commit': u'5e3e9a882de8b51b8e3b27628ba39f0dabfc78df',\n",
        "                                                u'lineno': 288,\n",
        "                                                u'proximity': 2},\n",
        "                                               {u'commit': u'5e3e9a882de8b51b8e3b27628ba39f0dabfc78df',\n",
        "                                                u'lineno': 289,\n",
        "                                                u'proximity': 1},\n",
        "                                               {u'commit': u'5e3e9a882de8b51b8e3b27628ba39f0dabfc78df',\n",
        "                                                u'lineno': 290,\n",
        "                                                u'proximity': 2},\n",
        "                                               {u'commit': u'5e3e9a882de8b51b8e3b27628ba39f0dabfc78df',\n",
        "                                                u'lineno': 291,\n",
        "                                                u'proximity': 3},\n",
        "                                               {u'commit': u'5e3e9a882de8b51b8e3b27628ba39f0dabfc78df',\n",
        "                                                u'lineno': 292,\n",
        "                                                u'proximity': 4}]},\n",
        " u'cid': u'91e7e876b54c44e81df9fa10b111fb57d6c92107'}\n"
       ]
      }
     ],
     "prompt_number": 16
    },
    {
     "cell_type": "code",
     "collapsed": false,
     "input": [],
     "language": "python",
     "metadata": {},
     "outputs": [],
     "prompt_number": 16
    },
    {
     "cell_type": "code",
     "collapsed": false,
     "input": [],
     "language": "python",
     "metadata": {},
     "outputs": [],
     "prompt_number": 16
    }
   ],
   "metadata": {}
  }
 ]
}